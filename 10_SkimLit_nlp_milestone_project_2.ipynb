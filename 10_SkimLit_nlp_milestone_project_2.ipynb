{
 "cells": [
  {
   "cell_type": "markdown",
   "id": "da0bdebb",
   "metadata": {},
   "source": [
    "## Milestone Project 2: SkimLit 📄🔥"
   ]
  },
  {
   "cell_type": "code",
   "execution_count": null,
   "id": "75c2ffae",
   "metadata": {},
   "outputs": [],
   "source": []
  }
 ],
 "metadata": {
  "kernelspec": {
   "display_name": "Python 3.9 (tensorflow)",
   "language": "python",
   "name": "tensorflow"
  },
  "language_info": {
   "codemirror_mode": {
    "name": "ipython",
    "version": 3
   },
   "file_extension": ".py",
   "mimetype": "text/x-python",
   "name": "python",
   "nbconvert_exporter": "python",
   "pygments_lexer": "ipython3",
   "version": "3.9.15"
  }
 },
 "nbformat": 4,
 "nbformat_minor": 5
}
