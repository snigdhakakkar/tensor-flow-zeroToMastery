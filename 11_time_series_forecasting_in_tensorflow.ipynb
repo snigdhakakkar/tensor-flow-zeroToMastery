{
 "cells": [
  {
   "cell_type": "markdown",
   "id": "a0420b41",
   "metadata": {},
   "source": [
    "## Milestone Project 3: Time series forecasting in TensorFlow (BitPredict 💰📈)"
   ]
  },
  {
   "cell_type": "markdown",
   "id": "96afd725",
   "metadata": {},
   "source": [
    "The goal of this notebook is to get you familiar with working with time series data.\n",
    "\n",
    "We're going to be building a series of models in an attempt to predict the price of Bitcoin.\n",
    "\n",
    "Welcome to Milestone Project 3, BitPredict 💰📈!\n",
    "\n",
    "🔑 **Note**: ⚠️ This is not financial advice, as you'll see time series forecasting for stock market prices is actually quite terrible.\n",
    "\n",
    "## What is a time series problem?\n",
    "\n",
    "Time series problems deal with data over time.\n",
    "\n",
    "Such as, the number of staff members in a company over 10-years, sales of computers for the past 5-years, electricity usage for the past 50-years.\n",
    "\n",
    "The timeline can be short (seconds/minutes) or long (years/decades). And the problems you might investigate using can usually be broken down into two categories.\n",
    "\n",
    "![typesOfTimeSeriesProblems.png](Images/typesOfTimeSeriesProblems.png)"
   ]
  },
  {
   "cell_type": "markdown",
   "id": "1166cc7d",
   "metadata": {},
   "source": [
    "In both cases above, a supervised learning approach is often used. Meaning, you'd have some example data and a label assosciated with that data.\n",
    "\n",
    "For example, in forecasting the price of Bitcoin, your data could be the historical price of Bitcoin for the past month and the label could be today's price (the label can't be tomorrow's price because that's what we'd want to predict).\n",
    "\n",
    "Can you guess what kind of problem BitPredict 💰📈 is?\n",
    "\n",
    "## What we're going to cover\n",
    "\n",
    "### Are you ready?\n",
    "\n",
    "We've got a lot to go through.\n",
    "\n",
    "* Get time series data (the historical price of Bitcoin)\n",
    "    * Load in time series data using pandas/Python's CSV module\n",
    "* Format data for a time series problem\n",
    "    * Creating training and test sets (the wrong way)\n",
    "    * Creating training and test sets (the right way)\n",
    "    * Visualizing time series data\n",
    "    * Turning time series data into a supervised learning problem (windowing)\n",
    "    * Preparing univariate and multivariate (more than one variable) data\n",
    "* Evaluating a time series forecasting model\n",
    "* Setting up a series of deep learning modelling experiments\n",
    "    * Dense (fully-connected) networks\n",
    "    * Sequence models (LSTM and 1D CNN)\n",
    "    * Ensembling (combining multiple models together)\n",
    "    * Multivariate models\n",
    "    * Replicating the N-BEATS algorithm using TensorFlow layer subclassing\n",
    "* Creating a modelling checkpoint to save the best performing model during training\n",
    "* Making predictions (forecasts) with a time series model\n",
    "* Creating prediction intervals for time series model forecasts\n",
    "* Discussing two different types of uncertainty in machine learning (data uncertainty and model uncertainty)\n",
    "* Demonstrating why forecasting in an open system is BS (the turkey problem)\n"
   ]
  },
  {
   "cell_type": "markdown",
   "id": "e4d8737d",
   "metadata": {},
   "source": [
    "## Get data\n",
    "\n",
    "To build a time series forecasting model, the first thing we're going to need is data.\n",
    "\n",
    "And since we're trying to predict the price of Bitcoin, we'll need Bitcoin data.\n",
    "\n",
    "Specifically, we're going to get the prices of Bitcoin from 01 October 2013 to 18 May 2021.\n",
    "\n",
    "#### Why these dates?\n",
    "\n",
    "Because **01 October 2013** is when our data source ([Coindesk](https://www.coindesk.com/price/bitcoin)) started recording the price of Bitcoin and **18 May 2021** is when this notebook was created.\n",
    "\n",
    "If you're going through this notebook at a later date, you'll be able to use what you learn to predict on later dates of Bitcoin, you'll just have to adjust the data source.\n",
    "\n",
    "📖 **Resource**: To get the Bitcoin historical data, I went to the [Coindesk page for Bitcoin prices](https://www.coindesk.com/price/bitcoin), clicked on \"all\" and then clicked on \"Export data\" and selected \"CSV\".\n",
    "\n",
    "You can find the data we're going to use on [GitHub](https://github.com/mrdbourke/tensorflow-deep-learning/blob/main/extras/BTC_USD_2013-10-01_2021-05-18-CoinDesk.csv)."
   ]
  },
  {
   "cell_type": "code",
   "execution_count": 1,
   "id": "23df6727",
   "metadata": {},
   "outputs": [
    {
     "name": "stdout",
     "output_type": "stream",
     "text": [
      "--2022-12-16 10:43:59--  https://raw.githubusercontent.com/mrdbourke/tensorflow-deep-learning/main/extras/BTC_USD_2013-10-01_2021-05-18-CoinDesk.csv\n",
      "Resolving raw.githubusercontent.com (raw.githubusercontent.com)... 185.199.108.133, 185.199.111.133, 185.199.110.133, ...\n",
      "Connecting to raw.githubusercontent.com (raw.githubusercontent.com)|185.199.108.133|:443... connected.\n",
      "HTTP request sent, awaiting response... 200 OK\n",
      "Length: 178509 (174K) [text/plain]\n",
      "Saving to: ‘BTC_USD_2013-10-01_2021-05-18-CoinDesk.csv’\n",
      "\n",
      "BTC_USD_2013-10-01_ 100%[===================>] 174.33K  --.-KB/s    in 0.01s   \n",
      "\n",
      "2022-12-16 10:44:00 (14.5 MB/s) - ‘BTC_USD_2013-10-01_2021-05-18-CoinDesk.csv’ saved [178509/178509]\n",
      "\n"
     ]
    }
   ],
   "source": [
    "# Download Bitcoin historical data from GitHub \n",
    "# Note: you'll need to select \"Raw\" to download the data in the correct format\n",
    "!wget https://raw.githubusercontent.com/mrdbourke/tensorflow-deep-learning/main/extras/BTC_USD_2013-10-01_2021-05-18-CoinDesk.csv "
   ]
  },
  {
   "cell_type": "markdown",
   "id": "6c75274e",
   "metadata": {},
   "source": [
    "## Importing time series data with pandas\n",
    "\n",
    "Now we've got some data to work with, let's import it using pandas so we can visualize it.\n",
    "\n",
    "Because our data is in `CSV (comma separated values)` format (a very common data format for time series), we'll use the pandas `read_csv()` function.\n",
    "\n",
    "And because our data has a date component, we'll tell pandas to parse the dates using the `parse_dates` parameter passing it the name our of the date column (`\"Date\"`)."
   ]
  },
  {
   "cell_type": "code",
   "execution_count": 3,
   "id": "a1ff05a0",
   "metadata": {},
   "outputs": [
    {
     "data": {
      "text/html": [
       "<div>\n",
       "<style scoped>\n",
       "    .dataframe tbody tr th:only-of-type {\n",
       "        vertical-align: middle;\n",
       "    }\n",
       "\n",
       "    .dataframe tbody tr th {\n",
       "        vertical-align: top;\n",
       "    }\n",
       "\n",
       "    .dataframe thead th {\n",
       "        text-align: right;\n",
       "    }\n",
       "</style>\n",
       "<table border=\"1\" class=\"dataframe\">\n",
       "  <thead>\n",
       "    <tr style=\"text-align: right;\">\n",
       "      <th></th>\n",
       "      <th>Currency</th>\n",
       "      <th>Closing Price (USD)</th>\n",
       "      <th>24h Open (USD)</th>\n",
       "      <th>24h High (USD)</th>\n",
       "      <th>24h Low (USD)</th>\n",
       "    </tr>\n",
       "    <tr>\n",
       "      <th>Date</th>\n",
       "      <th></th>\n",
       "      <th></th>\n",
       "      <th></th>\n",
       "      <th></th>\n",
       "      <th></th>\n",
       "    </tr>\n",
       "  </thead>\n",
       "  <tbody>\n",
       "    <tr>\n",
       "      <th>2013-10-01</th>\n",
       "      <td>BTC</td>\n",
       "      <td>123.65499</td>\n",
       "      <td>124.30466</td>\n",
       "      <td>124.75166</td>\n",
       "      <td>122.56349</td>\n",
       "    </tr>\n",
       "    <tr>\n",
       "      <th>2013-10-02</th>\n",
       "      <td>BTC</td>\n",
       "      <td>125.45500</td>\n",
       "      <td>123.65499</td>\n",
       "      <td>125.75850</td>\n",
       "      <td>123.63383</td>\n",
       "    </tr>\n",
       "    <tr>\n",
       "      <th>2013-10-03</th>\n",
       "      <td>BTC</td>\n",
       "      <td>108.58483</td>\n",
       "      <td>125.45500</td>\n",
       "      <td>125.66566</td>\n",
       "      <td>83.32833</td>\n",
       "    </tr>\n",
       "    <tr>\n",
       "      <th>2013-10-04</th>\n",
       "      <td>BTC</td>\n",
       "      <td>118.67466</td>\n",
       "      <td>108.58483</td>\n",
       "      <td>118.67500</td>\n",
       "      <td>107.05816</td>\n",
       "    </tr>\n",
       "    <tr>\n",
       "      <th>2013-10-05</th>\n",
       "      <td>BTC</td>\n",
       "      <td>121.33866</td>\n",
       "      <td>118.67466</td>\n",
       "      <td>121.93633</td>\n",
       "      <td>118.00566</td>\n",
       "    </tr>\n",
       "  </tbody>\n",
       "</table>\n",
       "</div>"
      ],
      "text/plain": [
       "           Currency  Closing Price (USD)  24h Open (USD)  24h High (USD)  \\\n",
       "Date                                                                       \n",
       "2013-10-01      BTC            123.65499       124.30466       124.75166   \n",
       "2013-10-02      BTC            125.45500       123.65499       125.75850   \n",
       "2013-10-03      BTC            108.58483       125.45500       125.66566   \n",
       "2013-10-04      BTC            118.67466       108.58483       118.67500   \n",
       "2013-10-05      BTC            121.33866       118.67466       121.93633   \n",
       "\n",
       "            24h Low (USD)  \n",
       "Date                       \n",
       "2013-10-01      122.56349  \n",
       "2013-10-02      123.63383  \n",
       "2013-10-03       83.32833  \n",
       "2013-10-04      107.05816  \n",
       "2013-10-05      118.00566  "
      ]
     },
     "execution_count": 3,
     "metadata": {},
     "output_type": "execute_result"
    }
   ],
   "source": [
    "# Import with pandas \n",
    "import pandas as pd\n",
    "# Parse dates and set date column to index\n",
    "df = pd.read_csv(\"BTC_USD_2013-10-01_2021-05-18-CoinDesk.csv\", \n",
    "                 parse_dates=[\"Date\"], \n",
    "                 index_col=[\"Date\"]) # parse the date column (tell pandas column 1 is a datetime)\n",
    "df.head()"
   ]
  },
  {
   "cell_type": "code",
   "execution_count": null,
   "id": "4966a9b7",
   "metadata": {},
   "outputs": [],
   "source": []
  }
 ],
 "metadata": {
  "kernelspec": {
   "display_name": "Python 3.9 (tensorflow)",
   "language": "python",
   "name": "tensorflow"
  },
  "language_info": {
   "codemirror_mode": {
    "name": "ipython",
    "version": 3
   },
   "file_extension": ".py",
   "mimetype": "text/x-python",
   "name": "python",
   "nbconvert_exporter": "python",
   "pygments_lexer": "ipython3",
   "version": "3.9.15"
  }
 },
 "nbformat": 4,
 "nbformat_minor": 5
}
