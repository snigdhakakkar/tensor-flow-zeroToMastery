{
 "cells": [
  {
   "cell_type": "markdown",
   "id": "a87eea1f",
   "metadata": {},
   "source": [
    "## Transfer Learning with TensorFlow Part 3: Scaling up"
   ]
  },
  {
   "cell_type": "markdown",
   "id": "b37a1f42",
   "metadata": {},
   "source": [
    "In the previous two notebooks ([transfer learning part 1: feature extraction](https://github.com/mrdbourke/tensorflow-deep-learning/blob/main/04_transfer_learning_in_tensorflow_part_1_feature_extraction.ipynb) and [part 2: fine-tuning](https://github.com/mrdbourke/tensorflow-deep-learning/blob/main/05_transfer_learning_in_tensorflow_part_2_fine_tuning.ipynb)) we've seen the power of transfer learning.\n",
    "\n",
    "Now we know our smaller modelling experiments are working, it's time to step things up a notch with more data.\n",
    "\n",
    "This is a common practice in machine learning and deep learning: get a model working on a small amount of data before scaling it up to a larger amount of data.\n",
    "\n",
    "🔑 **Note**: You haven't forgotten the machine learning practitioners motto have you? \"Experiment, experiment, experiment.\"\n",
    "\n",
    "It's time to get closer to our Food Vision project coming to life. In this notebook we're going to scale up from using 10 classes of the Food101 data to using all of the classes in the Food101 dataset.\n",
    "\n",
    "Our goal is to **beat the original [Food101 paper's](https://data.vision.ee.ethz.ch/cvl/datasets_extra/food-101/static/bossard_eccv14_food-101.pdf) results with 10% of data**."
   ]
  },
  {
   "cell_type": "markdown",
   "id": "00c0903b",
   "metadata": {},
   "source": [
    "![ScalingUpTransferLearning.png](Images/ScalingUpTransferLearning.png)"
   ]
  },
  {
   "cell_type": "markdown",
   "id": "77f25fd9",
   "metadata": {},
   "source": [
    "## What we're going to cover\n",
    "\n",
    "We're going to go through the follow with TensorFlow:\n",
    "\n",
    "* Downloading and preparing 10% of the Food101 data (10% of training data)\n",
    "* Training a feature extraction transfer learning model on 10% of the Food101 training data\n",
    "* Fine-tuning our feature extraction model\n",
    "* Saving and loaded our trained model\n",
    "* Evaluating the performance of our Food Vision model trained on 10% of the training data\n",
    "    * Finding our model's most wrong predictions\n",
    "* Making predictions with our Food Vision model on custom images of food"
   ]
  },
  {
   "cell_type": "markdown",
   "id": "c38681ef",
   "metadata": {},
   "source": [
    "## Creating helper functions\n",
    "\n",
    "We've created a series of helper functions throughout the previous notebooks. Instead of rewriting them (tedious), we'll import the `helper_functions.py` file from the GitHub repo."
   ]
  },
  {
   "cell_type": "code",
   "execution_count": 1,
   "id": "56d92c83",
   "metadata": {},
   "outputs": [
    {
     "name": "stdout",
     "output_type": "stream",
     "text": [
      "--2022-12-14 09:40:47--  https://raw.githubusercontent.com/mrdbourke/tensorflow-deep-learning/main/extras/helper_functions.py\n",
      "Resolving raw.githubusercontent.com (raw.githubusercontent.com)... 185.199.111.133, 185.199.109.133, 185.199.110.133, ...\n",
      "Connecting to raw.githubusercontent.com (raw.githubusercontent.com)|185.199.111.133|:443... connected.\n",
      "HTTP request sent, awaiting response... 200 OK\n",
      "Length: 10246 (10K) [text/plain]\n",
      "Saving to: ‘helper_functions.py.1’\n",
      "\n",
      "helper_functions.py 100%[===================>]  10.01K  --.-KB/s    in 0s      \n",
      "\n",
      "2022-12-14 09:40:47 (25.4 MB/s) - ‘helper_functions.py.1’ saved [10246/10246]\n",
      "\n"
     ]
    }
   ],
   "source": [
    "# Get helper functions file\n",
    "!wget https://raw.githubusercontent.com/mrdbourke/tensorflow-deep-learning/main/extras/helper_functions.py"
   ]
  },
  {
   "cell_type": "code",
   "execution_count": null,
   "id": "beaaf1fe",
   "metadata": {},
   "outputs": [],
   "source": []
  }
 ],
 "metadata": {
  "kernelspec": {
   "display_name": "Python 3.9 (tensorflow)",
   "language": "python",
   "name": "tensorflow"
  },
  "language_info": {
   "codemirror_mode": {
    "name": "ipython",
    "version": 3
   },
   "file_extension": ".py",
   "mimetype": "text/x-python",
   "name": "python",
   "nbconvert_exporter": "python",
   "pygments_lexer": "ipython3",
   "version": "3.9.15"
  }
 },
 "nbformat": 4,
 "nbformat_minor": 5
}
