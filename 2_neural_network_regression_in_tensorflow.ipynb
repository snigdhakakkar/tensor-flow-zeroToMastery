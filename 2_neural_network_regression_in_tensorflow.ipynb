{
 "cells": [
  {
   "cell_type": "markdown",
   "id": "f54948ad",
   "metadata": {},
   "source": [
    "## Neural Network Regression with Tensorflow"
   ]
  },
  {
   "cell_type": "markdown",
   "id": "5bd96238",
   "metadata": {},
   "source": [
    "### What is a regression problem?\n",
    "\n",
    "There are many definitions for a regression problem but in our case, we're going to simplify it to be: predicting a number.\n",
    "\n",
    "For example, you might want to:\n",
    "\n",
    "* Predict the selling price of houses given information about them (such as number of rooms, size, number of bathrooms).\n",
    "* Predict the coordinates of a bounding box of an item in an image.\n",
    "* Predict the cost of medical insurance for an individual given their demographics (age, sex, gender, race).\n",
    "\n",
    "\n",
    "In this notebook, we're going to set the foundations for how you can take a sample of inputs (this is your data), build a neural network to discover patterns in those inputs and then make a prediction (in the form of a number) based on those inputs."
   ]
  },
  {
   "cell_type": "markdown",
   "id": "d6e91722",
   "metadata": {},
   "source": [
    "### What we're going to cover\n",
    "\n",
    "Specifically, we're going to go through doing the following with TensorFlow:\n",
    "\n",
    "* Architecture of a regression model\n",
    "* Input shapes and output shapes\n",
    "    * X: features/data (inputs)\n",
    "    * y: labels (outputs)\n",
    "* Creating custom data to view and fit\n",
    "* Steps in modelling\n",
    "    * Creating a model\n",
    "    * Compiling a model\n",
    "        * Defining a loss function\n",
    "        * Setting up an optimizer\n",
    "        * Creating evaluation metrics\n",
    "    * Fitting a model (getting it to find patterns in our data)\n",
    "* Evaluating a model\n",
    "    * Visualizng the model (\"visualize, visualize, visualize\")\n",
    "    * Looking at training curves\n",
    "    * Compare predictions to ground truth (using our evaluation metrics)\n",
    "* Saving a model (so we can use it later)\n",
    "* Loading a model\n",
    "\n",
    "Don't worry if none of these make sense now, we're going to go through each.\n",
    "\n"
   ]
  },
  {
   "cell_type": "markdown",
   "id": "e48157c2",
   "metadata": {},
   "source": [
    "### Typical architecture of a regresison neural network\n",
    "\n",
    "The word typical is on purpose.\n",
    "\n",
    "Why?\n",
    "\n",
    "Because there are many different ways (actually, there's almost an infinite number of ways) to write neural networks.\n",
    "\n",
    "But the following is a generic setup for ingesting a collection of numbers, finding patterns in them and then outputing some kind of target number.\n",
    "\n",
    "Yes, the previous sentence is vague but we'll see this in action shortly.\n",
    "\n",
    "![Hyperparameters and typical values](./Images/RegressionParameters.png)\n",
    "\n",
    "Again, if you're new to neural networks and deep learning in general, much of the above table won't make sense. But don't worry, we'll be getting hands-on with all of it soon.\n",
    "\n",
    "🔑 Note: A hyperparameter in machine learning is something a data analyst or developer can set themselves, where as a parameter usually describes something a model learns on its own (a value not explicitly set by an analyst).\n",
    "\n",
    "Okay, enough talk, let's get started writing code.\n",
    "\n",
    "To use TensorFlow, we'll import it as the common alias tf (short for TensorFlow)."
   ]
  },
  {
   "cell_type": "code",
   "execution_count": 1,
   "id": "1f6e7c35",
   "metadata": {},
   "outputs": [
    {
     "name": "stdout",
     "output_type": "stream",
     "text": [
      "Init Plugin\n",
      "2.5.0\n",
      "Init Graph Optimizer\n",
      "Init Kernel\n"
     ]
    }
   ],
   "source": [
    "import tensorflow as tf\n",
    "print(tf.__version__) # check the version (should be 2.x+)"
   ]
  },
  {
   "cell_type": "markdown",
   "id": "fa2b4ac8",
   "metadata": {},
   "source": [
    "## Creating data to view and fit"
   ]
  },
  {
   "cell_type": "markdown",
   "id": "f90cdc43",
   "metadata": {},
   "source": [
    "Since we're working on a regression problem (predicting a number) let's create some linear data (a straight line) to model."
   ]
  },
  {
   "cell_type": "code",
   "execution_count": 2,
   "id": "526a1cc3",
   "metadata": {},
   "outputs": [],
   "source": [
    "import numpy as np\n",
    "import matplotlib.pyplot as plt"
   ]
  },
  {
   "cell_type": "code",
   "execution_count": 3,
   "id": "906783a3",
   "metadata": {},
   "outputs": [
    {
     "data": {
      "image/png": "[encoded data removed]",
      "text/plain": [
       "<Figure size 640x480 with 1 Axes>"
      ]
     },
     "metadata": {},
     "output_type": "display_data"
    }
   ],
   "source": [
    "# Create features\n",
    "X = np.array([-7.0, -4.0, -1.0, 2.0, 5.0, 8.0, 11.0, 14.0])\n",
    "\n",
    "# Create labels\n",
    "y = np.array([3.0, 6.0, 9.0, 12.0, 15.0, 18.0, 21.0, 24.0])\n",
    "\n",
    "# Visualize it\n",
    "plt.scatter(X, y);"
   ]
  },
  {
   "cell_type": "markdown",
   "id": "4ce92d38",
   "metadata": {},
   "source": [
    "Before we do any modelling, can you calculate the pattern between X and y?\n",
    "\n",
    "For example, say I asked you, based on this data what the y value would be if X was 17.0?\n",
    "\n",
    "Or how about if X was -10.0?\n",
    "\n",
    "This kind of pattern discovery is the essence of what we'll be building neural networks to do for us."
   ]
  },
  {
   "cell_type": "code",
   "execution_count": 4,
   "id": "88be7e3f",
   "metadata": {},
   "outputs": [
    {
     "data": {
      "text/plain": [
       "array([ True,  True,  True,  True,  True,  True,  True,  True])"
      ]
     },
     "execution_count": 4,
     "metadata": {},
     "output_type": "execute_result"
    }
   ],
   "source": [
    "y == X + 10"
   ]
  },
  {
   "cell_type": "markdown",
   "id": "bb9d9685",
   "metadata": {},
   "source": [
    "## Regression input shapes and output shapes\n",
    "\n",
    "One of the most important concepts when working with neural networks are the input and output shapes.\n",
    "\n",
    "The input shape is the shape of your data that goes into the model.\n",
    "\n",
    "The output shape is the shape of your data you want to come out of your model.\n",
    "\n",
    "These will differ depending on the problem you're working on.\n",
    "\n",
    "Neural networks accept numbers and output numbers. These numbers are typically represented as tensors (or arrays).\n",
    "\n",
    "Before, we created data using NumPy arrays, but we could do the same with tensors."
   ]
  },
  {
   "cell_type": "markdown",
   "id": "c45f15cb",
   "metadata": {},
   "source": [
    "So our input will be X and our output will be y.\n",
    "\n",
    "Knowing this, what do you think our input and output shapes will be?\n",
    "\n",
    "Let's take a look."
   ]
  },
  {
   "cell_type": "code",
   "execution_count": 5,
   "id": "4ea9fc07",
   "metadata": {},
   "outputs": [
    {
     "data": {
      "text/plain": [
       "((), ())"
      ]
     },
     "execution_count": 5,
     "metadata": {},
     "output_type": "execute_result"
    }
   ],
   "source": [
    "# Take a single example of X\n",
    "input_shape = X[0].shape \n",
    "\n",
    "# Take a single example of y\n",
    "output_shape = y[0].shape\n",
    "\n",
    "input_shape, output_shape # these are both scalars (no shape)"
   ]
  },
  {
   "cell_type": "markdown",
   "id": "06926fdc",
   "metadata": {},
   "source": [
    "Huh?\n",
    "\n",
    "From this it seems our inputs and outputs have no shape?\n",
    "\n",
    "How could that be?\n",
    "\n",
    "It's because no matter what kind of data we pass to our model, it's always going to take as input and return as ouput some kind of tensor.\n",
    "\n",
    "But in our case because of our dataset (only 2 small lists of numbers), we're looking at a special kind of tensor, more specifically a rank 0 tensor or a scalar."
   ]
  },
  {
   "cell_type": "code",
   "execution_count": 6,
   "id": "47582a82",
   "metadata": {},
   "outputs": [
    {
     "data": {
      "text/plain": [
       "(-7.0, 3.0)"
      ]
     },
     "execution_count": 6,
     "metadata": {},
     "output_type": "execute_result"
    }
   ],
   "source": [
    "# Let's take a look at the single examples invidually\n",
    "X[0], y[0]"
   ]
  },
  {
   "cell_type": "markdown",
   "id": "a67bd46e",
   "metadata": {},
   "source": [
    "In our case, we're trying to build a model to predict the pattern between X[0] equalling -7.0 and y[0] equalling 3.0.\n",
    "\n",
    "So now we get our answer, we're trying to use 1 X value to predict 1 y value.\n",
    "\n",
    "You might be thinking, \"this seems pretty complicated for just predicting a straight line...\".\n",
    "\n",
    "And you'd be right.\n",
    "\n",
    "But the concepts we're covering here, the concepts of input and output shapes to a model are fundamental.\n",
    "\n",
    "In fact, they're probably two of the things you'll spend the most time on when you work with neural networks: making sure your input and outputs are in the correct shape.\n",
    "\n",
    "If it doesn't make sense now, we'll see plenty more examples later on (soon you'll notice the input and output shapes can be almost anything you can imagine)."
   ]
  },
  {
   "cell_type": "markdown",
   "id": "eb6a3b93",
   "metadata": {},
   "source": [
    "## Steps in modelling with TensorFlow\n",
    "\n",
    "Now we know what data we have as well as the input and output shapes, let's see how we'd build a neural network to model it.\n",
    "\n",
    "In TensorFlow, there are typically 3 fundamental steps to creating and training a model.\n",
    "\n",
    "1. **Creating a model** - piece together the layers of a neural network yourself (using the Functional or Sequential API) or import a previously built model (known as transfer learning).\n",
    "2. **Compiling a model** - defining how a models performance should be measured (loss/metrics) as well as defining how it should improve (optimizer).\n",
    "3. **Fitting a model** - letting the model try to find patterns in the data (how does X get to y).\n",
    "\n",
    "Let's see these in action using the Keras Sequential API to build a model for our regression data. And then we'll step through each.\n",
    "\n",
    "**Note: If you're using TensorFlow 2.7.0+, the fit() function no longer upscales input data to go from (batch_size, ) to (batch_size, 1). To fix this, you'll need to expand the dimension of input data using tf.expand_dims(input_data, axis=-1).**\n",
    "\n",
    "In our case, this means instead of using model.fit(X, y, epochs=5), use model.fit(tf.expand_dims(X, axis=-1), y, epochs=5)."
   ]
  },
  {
   "cell_type": "code",
   "execution_count": 7,
   "id": "9bbbd416",
   "metadata": {},
   "outputs": [
    {
     "name": "stdout",
     "output_type": "stream",
     "text": [
      "Metal device set to: Apple M1\n"
     ]
    },
    {
     "name": "stderr",
     "output_type": "stream",
     "text": [
      "2022-12-06 00:33:15.183957: I tensorflow/core/common_runtime/pluggable_device/pluggable_device_factory.cc:305] Could not identify NUMA node of platform GPU ID 0, defaulting to 0. Your kernel may not have been built with NUMA support.\n",
      "2022-12-06 00:33:15.184326: I tensorflow/core/common_runtime/pluggable_device/pluggable_device_factory.cc:271] Created TensorFlow device (/job:localhost/replica:0/task:0/device:GPU:0 with 0 MB memory) -> physical PluggableDevice (device: 0, name: METAL, pci bus id: <undefined>)\n"
     ]
    }
   ],
   "source": [
    "# Create features (using tensors)\n",
    "X = tf.constant([-7.0, -4.0, -1.0, 2.0, 5.0, 8.0, 11.0, 14.0])\n",
    "\n",
    "# Create labels (using tensors)\n",
    "y = tf.constant([3.0, 6.0, 9.0, 12.0, 15.0, 18.0, 21.0, 24.0])"
   ]
  },
  {
   "cell_type": "code",
   "execution_count": 8,
   "id": "2aad286b",
   "metadata": {},
   "outputs": [
    {
     "data": {
      "text/plain": [
       "(<tf.Tensor: shape=(8,), dtype=float32, numpy=array([-7., -4., -1.,  2.,  5.,  8., 11., 14.], dtype=float32)>,\n",
       " <tf.Tensor: shape=(8,), dtype=float32, numpy=array([ 3.,  6.,  9., 12., 15., 18., 21., 24.], dtype=float32)>)"
      ]
     },
     "execution_count": 8,
     "metadata": {},
     "output_type": "execute_result"
    }
   ],
   "source": [
    "X, y"
   ]
  },
  {
   "cell_type": "code",
   "execution_count": 9,
   "id": "749c37c2",
   "metadata": {},
   "outputs": [
    {
     "data": {
      "text/plain": [
       "(TensorShape([]), TensorShape([]))"
      ]
     },
     "execution_count": 9,
     "metadata": {},
     "output_type": "execute_result"
    }
   ],
   "source": [
    "input_shape = X[0].shape\n",
    "output_shape = y[0].shape\n",
    "input_shape, output_shape"
   ]
  },
  {
   "cell_type": "code",
   "execution_count": 10,
   "id": "48e299fd",
   "metadata": {},
   "outputs": [
    {
     "name": "stderr",
     "output_type": "stream",
     "text": [
      "2022-12-06 00:39:46.741527: I tensorflow/compiler/mlir/mlir_graph_optimization_pass.cc:176] None of the MLIR Optimization Passes are enabled (registered 2)\n",
      "2022-12-06 00:39:46.741743: W tensorflow/core/platform/profile_utils/cpu_utils.cc:128] Failed to get CPU frequency: 0 Hz\n"
     ]
    },
    {
     "name": "stdout",
     "output_type": "stream",
     "text": [
      "Epoch 1/5\n"
     ]
    },
    {
     "name": "stderr",
     "output_type": "stream",
     "text": [
      "2022-12-06 00:39:47.031402: I tensorflow/core/grappler/optimizers/custom_graph_optimizer_registry.cc:112] Plugin optimizer for device_type GPU is enabled.\n"
     ]
    },
    {
     "name": "stdout",
     "output_type": "stream",
     "text": [
      "1/1 [==============================] - 1s 1s/step - loss: 16.4449 - mae: 16.4449\n",
      "Epoch 2/5\n",
      "1/1 [==============================] - 0s 4ms/step - loss: 16.1637 - mae: 16.1637\n",
      "Epoch 3/5\n",
      "1/1 [==============================] - 0s 3ms/step - loss: 15.8824 - mae: 15.8824\n",
      "Epoch 4/5\n",
      "1/1 [==============================] - 0s 3ms/step - loss: 15.6012 - mae: 15.6012\n",
      "Epoch 5/5\n",
      "1/1 [==============================] - 0s 5ms/step - loss: 15.3199 - mae: 15.3199\n"
     ]
    },
    {
     "data": {
      "text/plain": [
       "<tensorflow.python.keras.callbacks.History at 0x15cbf0af0>"
      ]
     },
     "execution_count": 10,
     "metadata": {},
     "output_type": "execute_result"
    }
   ],
   "source": [
    "# Set random seed\n",
    "tf.random.set_seed(42)\n",
    "\n",
    "# Create a model using the Sequential API\n",
    "model = tf.keras.Sequential([\n",
    "  tf.keras.layers.Dense(1)\n",
    "])\n",
    "\n",
    "# Compile the model\n",
    "model.compile(loss=tf.keras.losses.mae, # mae is short for mean absolute error\n",
    "              optimizer=tf.keras.optimizers.SGD(), # SGD is short for stochastic gradient descent\n",
    "              metrics=[\"mae\"])\n",
    "\n",
    "# Fit the model\n",
    "# model.fit(X, y, epochs=5) # this will break with TensorFlow 2.7.0+\n",
    "model.fit(tf.expand_dims(X, axis=-1), y, epochs=5)"
   ]
  },
  {
   "cell_type": "code",
   "execution_count": 11,
   "id": "eea27c66",
   "metadata": {},
   "outputs": [
    {
     "data": {
      "text/plain": [
       "(<tf.Tensor: shape=(8,), dtype=float32, numpy=array([-7., -4., -1.,  2.,  5.,  8., 11., 14.], dtype=float32)>,\n",
       " <tf.Tensor: shape=(8,), dtype=float32, numpy=array([ 3.,  6.,  9., 12., 15., 18., 21., 24.], dtype=float32)>)"
      ]
     },
     "execution_count": 11,
     "metadata": {},
     "output_type": "execute_result"
    }
   ],
   "source": [
    "# Check out X and y\n",
    "X, y"
   ]
  },
  {
   "cell_type": "markdown",
   "id": "d4c4b78a",
   "metadata": {},
   "source": [
    "What do you think the outcome should be if we passed our model an X value of 17.0?"
   ]
  },
  {
   "cell_type": "code",
   "execution_count": 12,
   "id": "d3831ea8",
   "metadata": {},
   "outputs": [
    {
     "name": "stderr",
     "output_type": "stream",
     "text": [
      "2022-12-06 00:41:11.568439: I tensorflow/core/grappler/optimizers/custom_graph_optimizer_registry.cc:112] Plugin optimizer for device_type GPU is enabled.\n"
     ]
    },
    {
     "data": {
      "text/plain": [
       "array([[-7.4645805]], dtype=float32)"
      ]
     },
     "execution_count": 12,
     "metadata": {},
     "output_type": "execute_result"
    }
   ],
   "source": [
    "# Make a prediction with the model\n",
    "model.predict([17.0])"
   ]
  },
  {
   "cell_type": "markdown",
   "id": "5bf8b4de",
   "metadata": {},
   "source": [
    "It doesn't go very well... it should've output something close to 27.0.\n",
    "\n",
    "🤔 Question: What's Keras? I thought we were working with TensorFlow but every time we write TensorFlow code, keras comes after tf (e.g. tf.keras.layers.Dense())?\n",
    "\n",
    "Before TensorFlow 2.0+, Keras was an API designed to be able to build deep learning models with ease. Since TensorFlow 2.0+, its functionality has been tightly integrated within the TensorFlow library."
   ]
  },
  {
   "cell_type": "markdown",
   "id": "91ca8bd5",
   "metadata": {},
   "source": [
    "## Improving a model\n",
    "\n",
    "#### How do you think you'd improve upon our current model?\n",
    "\n",
    "If you guessed by tweaking some of the things we did above, you'd be correct.\n",
    "\n",
    "To improve our model, we alter almost every part of the 3 steps we went through before.\n",
    "\n",
    "**Creating a model**  - here you might want to add more layers, increase the number of hidden units (also called neurons) within each layer, change the activation functions of each layer.\n",
    "\n",
    "**Compiling a model** - you might want to choose optimization function or perhaps change the learning rate of the optimization function.\n",
    "\n",
    "**Fitting a model** - perhaps you could fit a model for more epochs (leave it training for longer) or on more data (give the model more examples to learn from)."
   ]
  },
  {
   "cell_type": "markdown",
   "id": "d9a32017",
   "metadata": {},
   "source": [
    "There are many different ways to potentially improve a neural network. Some of the most common include: increasing the number of layers (making the network deeper), increasing the number of hidden units (making the network wider) and changing the learning rate. Because these values are all human-changeable, they're referred to as hyperparameters and the practice of trying to find the best hyperparameters is referred to as hyperparameter tuning.\n",
    "\n",
    "Woah. We just introduced a bunch of possible steps. The important thing to remember is how you alter each of these will depend on the problem you're working on.\n",
    "\n",
    "And the good thing is, over the next few problems, we'll get hands-on with all of them.\n",
    "\n",
    "For now, let's keep it simple, all we'll do is train our model for longer (everything else will stay the same)."
   ]
  },
  {
   "cell_type": "code",
   "execution_count": 13,
   "id": "934eb2db",
   "metadata": {},
   "outputs": [
    {
     "name": "stdout",
     "output_type": "stream",
     "text": [
      "Epoch 1/100\n",
      "1/1 [==============================] - 0s 92ms/step - loss: 16.4449 - mae: 16.4449\n",
      "Epoch 2/100\n",
      "1/1 [==============================] - 0s 4ms/step - loss: 16.1637 - mae: 16.1637\n",
      "Epoch 3/100\n",
      "1/1 [==============================] - 0s 4ms/step - loss: 15.8824 - mae: 15.8824\n",
      "Epoch 4/100\n",
      "1/1 [==============================] - 0s 5ms/step - loss: 15.6012 - mae: 15.6012\n",
      "Epoch 5/100\n",
      "1/1 [==============================] - 0s 4ms/step - loss: 15.3199 - mae: 15.3199\n",
      "Epoch 6/100\n",
      "1/1 [==============================] - 0s 6ms/step - loss: 15.0387 - mae: 15.0387\n",
      "Epoch 7/100\n",
      "1/1 [==============================] - 0s 4ms/step - loss: 14.8158 - mae: 14.8158\n",
      "Epoch 8/100\n",
      "1/1 [==============================] - 0s 4ms/step - loss: 14.6833 - mae: 14.6833\n",
      "Epoch 9/100\n",
      "1/1 [==============================] - 0s 7ms/step - loss: 14.5508 - mae: 14.5508\n",
      "Epoch 10/100\n",
      "1/1 [==============================] - 0s 4ms/step - loss: 14.4183 - mae: 14.4183\n",
      "Epoch 11/100\n",
      "1/1 [==============================] - 0s 3ms/step - loss: 14.2858 - mae: 14.2858\n",
      "Epoch 12/100\n",
      "1/1 [==============================] - 0s 6ms/step - loss: 14.1533 - mae: 14.1533\n",
      "Epoch 13/100\n",
      "1/1 [==============================] - 0s 3ms/step - loss: 14.0208 - mae: 14.0208\n",
      "Epoch 14/100\n",
      "1/1 [==============================] - 0s 6ms/step - loss: 13.8883 - mae: 13.8883\n",
      "Epoch 15/100\n",
      "1/1 [==============================] - 0s 4ms/step - loss: 13.7558 - mae: 13.7558\n",
      "Epoch 16/100\n",
      "1/1 [==============================] - 0s 4ms/step - loss: 13.6233 - mae: 13.6233\n",
      "Epoch 17/100\n",
      "1/1 [==============================] - 0s 6ms/step - loss: 13.4908 - mae: 13.4908\n",
      "Epoch 18/100\n",
      "1/1 [==============================] - 0s 4ms/step - loss: 13.3583 - mae: 13.3583\n",
      "Epoch 19/100\n",
      "1/1 [==============================] - 0s 4ms/step - loss: 13.2258 - mae: 13.2258\n",
      "Epoch 20/100\n",
      "1/1 [==============================] - 0s 5ms/step - loss: 13.0933 - mae: 13.0933\n",
      "Epoch 21/100\n",
      "1/1 [==============================] - 0s 4ms/step - loss: 12.9608 - mae: 12.9608\n",
      "Epoch 22/100\n",
      "1/1 [==============================] - 0s 5ms/step - loss: 12.8283 - mae: 12.8283\n",
      "Epoch 23/100\n",
      "1/1 [==============================] - 0s 7ms/step - loss: 12.6958 - mae: 12.6958\n",
      "Epoch 24/100\n",
      "1/1 [==============================] - 0s 4ms/step - loss: 12.5633 - mae: 12.5633\n",
      "Epoch 25/100\n",
      "1/1 [==============================] - 0s 4ms/step - loss: 12.4308 - mae: 12.4308\n",
      "Epoch 26/100\n",
      "1/1 [==============================] - 0s 4ms/step - loss: 12.2983 - mae: 12.2983\n",
      "Epoch 27/100\n",
      "1/1 [==============================] - 0s 5ms/step - loss: 12.1658 - mae: 12.1658\n",
      "Epoch 28/100\n",
      "1/1 [==============================] - 0s 5ms/step - loss: 12.0333 - mae: 12.0333\n"
     ]
    },
    {
     "name": "stderr",
     "output_type": "stream",
     "text": [
      "2022-12-06 00:47:12.039163: I tensorflow/core/grappler/optimizers/custom_graph_optimizer_registry.cc:112] Plugin optimizer for device_type GPU is enabled.\n"
     ]
    },
    {
     "name": "stdout",
     "output_type": "stream",
     "text": [
      "Epoch 29/100\n",
      "1/1 [==============================] - 0s 4ms/step - loss: 11.9008 - mae: 11.9008\n",
      "Epoch 30/100\n",
      "1/1 [==============================] - 0s 7ms/step - loss: 11.7683 - mae: 11.7683\n",
      "Epoch 31/100\n",
      "1/1 [==============================] - 0s 3ms/step - loss: 11.6358 - mae: 11.6358\n",
      "Epoch 32/100\n",
      "1/1 [==============================] - 0s 8ms/step - loss: 11.5033 - mae: 11.5033\n",
      "Epoch 33/100\n",
      "1/1 [==============================] - 0s 4ms/step - loss: 11.3708 - mae: 11.3708\n",
      "Epoch 34/100\n",
      "1/1 [==============================] - 0s 6ms/step - loss: 11.2383 - mae: 11.2383\n",
      "Epoch 35/100\n",
      "1/1 [==============================] - 0s 3ms/step - loss: 11.1058 - mae: 11.1058\n",
      "Epoch 36/100\n",
      "1/1 [==============================] - 0s 5ms/step - loss: 10.9733 - mae: 10.9733\n",
      "Epoch 37/100\n",
      "1/1 [==============================] - 0s 7ms/step - loss: 10.8408 - mae: 10.8408\n",
      "Epoch 38/100\n",
      "1/1 [==============================] - 0s 4ms/step - loss: 10.7083 - mae: 10.7083\n",
      "Epoch 39/100\n",
      "1/1 [==============================] - 0s 8ms/step - loss: 10.5758 - mae: 10.5758\n",
      "Epoch 40/100\n",
      "1/1 [==============================] - 0s 3ms/step - loss: 10.4433 - mae: 10.4433\n",
      "Epoch 41/100\n",
      "1/1 [==============================] - 0s 5ms/step - loss: 10.3108 - mae: 10.3108\n",
      "Epoch 42/100\n",
      "1/1 [==============================] - 0s 4ms/step - loss: 10.1783 - mae: 10.1783\n",
      "Epoch 43/100\n",
      "1/1 [==============================] - 0s 5ms/step - loss: 10.0458 - mae: 10.0458\n",
      "Epoch 44/100\n",
      "1/1 [==============================] - 0s 7ms/step - loss: 9.9133 - mae: 9.9133\n",
      "Epoch 45/100\n",
      "1/1 [==============================] - 0s 7ms/step - loss: 9.7808 - mae: 9.7808\n",
      "Epoch 46/100\n",
      "1/1 [==============================] - 0s 6ms/step - loss: 9.6483 - mae: 9.6483\n",
      "Epoch 47/100\n",
      "1/1 [==============================] - 0s 7ms/step - loss: 9.5158 - mae: 9.5158\n",
      "Epoch 48/100\n",
      "1/1 [==============================] - 0s 4ms/step - loss: 9.3833 - mae: 9.3833\n",
      "Epoch 49/100\n",
      "1/1 [==============================] - 0s 7ms/step - loss: 9.2508 - mae: 9.2508\n",
      "Epoch 50/100\n",
      "1/1 [==============================] - 0s 7ms/step - loss: 9.1183 - mae: 9.1183\n",
      "Epoch 51/100\n",
      "1/1 [==============================] - 0s 5ms/step - loss: 8.9858 - mae: 8.9858\n",
      "Epoch 52/100\n",
      "1/1 [==============================] - 0s 7ms/step - loss: 8.8533 - mae: 8.8533\n",
      "Epoch 53/100\n",
      "1/1 [==============================] - 0s 5ms/step - loss: 8.7208 - mae: 8.7208\n",
      "Epoch 54/100\n",
      "1/1 [==============================] - 0s 3ms/step - loss: 8.5883 - mae: 8.5883\n",
      "Epoch 55/100\n",
      "1/1 [==============================] - 0s 5ms/step - loss: 8.4558 - mae: 8.4558\n",
      "Epoch 56/100\n",
      "1/1 [==============================] - 0s 3ms/step - loss: 8.3233 - mae: 8.3233\n",
      "Epoch 57/100\n",
      "1/1 [==============================] - 0s 4ms/step - loss: 8.1908 - mae: 8.1908\n",
      "Epoch 58/100\n",
      "1/1 [==============================] - 0s 3ms/step - loss: 8.0583 - mae: 8.0583\n",
      "Epoch 59/100\n",
      "1/1 [==============================] - 0s 7ms/step - loss: 7.9258 - mae: 7.9258\n",
      "Epoch 60/100\n",
      "1/1 [==============================] - 0s 3ms/step - loss: 7.7933 - mae: 7.7933\n",
      "Epoch 61/100\n",
      "1/1 [==============================] - 0s 4ms/step - loss: 7.6608 - mae: 7.6608\n",
      "Epoch 62/100\n",
      "1/1 [==============================] - 0s 4ms/step - loss: 7.5283 - mae: 7.5283\n",
      "Epoch 63/100\n",
      "1/1 [==============================] - 0s 4ms/step - loss: 7.3958 - mae: 7.3958\n",
      "Epoch 64/100\n",
      "1/1 [==============================] - 0s 4ms/step - loss: 7.2633 - mae: 7.2633\n",
      "Epoch 65/100\n",
      "1/1 [==============================] - 0s 3ms/step - loss: 7.1308 - mae: 7.1308\n",
      "Epoch 66/100\n",
      "1/1 [==============================] - 0s 3ms/step - loss: 7.0238 - mae: 7.0238\n",
      "Epoch 67/100\n",
      "1/1 [==============================] - 0s 4ms/step - loss: 7.0181 - mae: 7.0181\n",
      "Epoch 68/100\n",
      "1/1 [==============================] - 0s 3ms/step - loss: 7.0125 - mae: 7.0125\n",
      "Epoch 69/100\n",
      "1/1 [==============================] - 0s 4ms/step - loss: 7.0069 - mae: 7.0069\n",
      "Epoch 70/100\n",
      "1/1 [==============================] - 0s 4ms/step - loss: 7.0013 - mae: 7.0013\n",
      "Epoch 71/100\n",
      "1/1 [==============================] - 0s 3ms/step - loss: 6.9956 - mae: 6.9956\n",
      "Epoch 72/100\n",
      "1/1 [==============================] - 0s 3ms/step - loss: 6.9900 - mae: 6.9900\n",
      "Epoch 73/100\n",
      "1/1 [==============================] - 0s 3ms/step - loss: 6.9844 - mae: 6.9844\n",
      "Epoch 74/100\n",
      "1/1 [==============================] - 0s 3ms/step - loss: 6.9788 - mae: 6.9788\n",
      "Epoch 75/100\n",
      "1/1 [==============================] - 0s 3ms/step - loss: 6.9731 - mae: 6.9731\n",
      "Epoch 76/100\n",
      "1/1 [==============================] - 0s 4ms/step - loss: 6.9675 - mae: 6.9675\n",
      "Epoch 77/100\n",
      "1/1 [==============================] - 0s 4ms/step - loss: 6.9619 - mae: 6.9619\n",
      "Epoch 78/100\n",
      "1/1 [==============================] - 0s 4ms/step - loss: 6.9563 - mae: 6.9563\n",
      "Epoch 79/100\n",
      "1/1 [==============================] - 0s 3ms/step - loss: 6.9506 - mae: 6.9506\n",
      "Epoch 80/100\n",
      "1/1 [==============================] - 0s 4ms/step - loss: 6.9450 - mae: 6.9450\n",
      "Epoch 81/100\n",
      "1/1 [==============================] - 0s 3ms/step - loss: 6.9394 - mae: 6.9394\n",
      "Epoch 82/100\n",
      "1/1 [==============================] - 0s 4ms/step - loss: 6.9338 - mae: 6.9338\n",
      "Epoch 83/100\n",
      "1/1 [==============================] - 0s 3ms/step - loss: 6.9281 - mae: 6.9281\n",
      "Epoch 84/100\n",
      "1/1 [==============================] - 0s 3ms/step - loss: 6.9225 - mae: 6.9225\n",
      "Epoch 85/100\n",
      "1/1 [==============================] - 0s 3ms/step - loss: 6.9169 - mae: 6.9169\n",
      "Epoch 86/100\n",
      "1/1 [==============================] - 0s 4ms/step - loss: 6.9113 - mae: 6.9113\n",
      "Epoch 87/100\n",
      "1/1 [==============================] - 0s 4ms/step - loss: 6.9056 - mae: 6.9056\n",
      "Epoch 88/100\n",
      "1/1 [==============================] - 0s 4ms/step - loss: 6.9000 - mae: 6.9000\n",
      "Epoch 89/100\n",
      "1/1 [==============================] - 0s 3ms/step - loss: 6.8944 - mae: 6.8944\n",
      "Epoch 90/100\n",
      "1/1 [==============================] - 0s 3ms/step - loss: 6.8888 - mae: 6.8888\n",
      "Epoch 91/100\n",
      "1/1 [==============================] - 0s 3ms/step - loss: 6.8831 - mae: 6.8831\n",
      "Epoch 92/100\n",
      "1/1 [==============================] - 0s 3ms/step - loss: 6.8775 - mae: 6.8775\n",
      "Epoch 93/100\n",
      "1/1 [==============================] - 0s 3ms/step - loss: 6.8719 - mae: 6.8719\n",
      "Epoch 94/100\n",
      "1/1 [==============================] - 0s 3ms/step - loss: 6.8663 - mae: 6.8663\n",
      "Epoch 95/100\n",
      "1/1 [==============================] - 0s 4ms/step - loss: 6.8606 - mae: 6.8606\n",
      "Epoch 96/100\n",
      "1/1 [==============================] - 0s 3ms/step - loss: 6.8550 - mae: 6.8550\n",
      "Epoch 97/100\n",
      "1/1 [==============================] - 0s 4ms/step - loss: 6.8494 - mae: 6.8494\n",
      "Epoch 98/100\n",
      "1/1 [==============================] - 0s 4ms/step - loss: 6.8438 - mae: 6.8438\n",
      "Epoch 99/100\n",
      "1/1 [==============================] - 0s 3ms/step - loss: 6.8381 - mae: 6.8381\n",
      "Epoch 100/100\n",
      "1/1 [==============================] - 0s 3ms/step - loss: 6.8325 - mae: 6.8325\n"
     ]
    },
    {
     "data": {
      "text/plain": [
       "<tensorflow.python.keras.callbacks.History at 0x15cdcab80>"
      ]
     },
     "execution_count": 13,
     "metadata": {},
     "output_type": "execute_result"
    }
   ],
   "source": [
    "# Set random seed\n",
    "tf.random.set_seed(42)\n",
    "\n",
    "# Create a model (same as above)\n",
    "model = tf.keras.Sequential([\n",
    "  tf.keras.layers.Dense(1)\n",
    "])\n",
    "\n",
    "# Compile model (same as above)\n",
    "model.compile(loss=tf.keras.losses.mae,\n",
    "              optimizer=tf.keras.optimizers.SGD(),\n",
    "              metrics=[\"mae\"])\n",
    "\n",
    "# Fit model (this time we'll train for longer)\n",
    "model.fit(tf.expand_dims(X, axis=-1), y, epochs=100) # train for 100 epochs not 10"
   ]
  },
  {
   "cell_type": "code",
   "execution_count": null,
   "id": "ccf64280",
   "metadata": {},
   "outputs": [],
   "source": []
  }
 ],
 "metadata": {
  "kernelspec": {
   "display_name": "Python 3.9 (tensorflow)",
   "language": "python",
   "name": "tensorflow"
  },
  "language_info": {
   "codemirror_mode": {
    "name": "ipython",
    "version": 3
   },
   "file_extension": ".py",
   "mimetype": "text/x-python",
   "name": "python",
   "nbconvert_exporter": "python",
   "pygments_lexer": "ipython3",
   "version": "3.9.15"
  }
 },
 "nbformat": 4,
 "nbformat_minor": 5
}
