{
 "cells": [
  {
   "cell_type": "markdown",
   "id": "ba272919",
   "metadata": {},
   "source": [
    "## Neural Network Regression with Tensorflow"
   ]
  },
  {
   "cell_type": "markdown",
   "id": "1c52445b",
   "metadata": {},
   "source": [
    "### What is a regression problem?\n",
    "\n",
    "There are many definitions for a regression problem but in our case, we're going to simplify it to be: predicting a number.\n",
    "\n",
    "For example, you might want to:\n",
    "\n",
    "* Predict the selling price of houses given information about them (such as number of rooms, size, number of bathrooms).\n",
    "* Predict the coordinates of a bounding box of an item in an image.\n",
    "* Predict the cost of medical insurance for an individual given their demographics (age, sex, gender, race).\n",
    "\n",
    "\n",
    "In this notebook, we're going to set the foundations for how you can take a sample of inputs (this is your data), build a neural network to discover patterns in those inputs and then make a prediction (in the form of a number) based on those inputs."
   ]
  },
  {
   "cell_type": "markdown",
   "id": "43f2eae3",
   "metadata": {},
   "source": [
    "### What we're going to cover\n",
    "\n",
    "Specifically, we're going to go through doing the following with TensorFlow:\n",
    "\n",
    "* Architecture of a regression model\n",
    "* Input shapes and output shapes\n",
    "    * X: features/data (inputs)\n",
    "    * y: labels (outputs)\n",
    "* Creating custom data to view and fit\n",
    "* Steps in modelling\n",
    "    * Creating a model\n",
    "    * Compiling a model\n",
    "        * Defining a loss function\n",
    "        * Setting up an optimizer\n",
    "        * Creating evaluation metrics\n",
    "    * Fitting a model (getting it to find patterns in our data)\n",
    "* Evaluating a model\n",
    "    * Visualizng the model (\"visualize, visualize, visualize\")\n",
    "    * Looking at training curves\n",
    "    * Compare predictions to ground truth (using our evaluation metrics)\n",
    "* Saving a model (so we can use it later)\n",
    "* Loading a model\n",
    "\n",
    "Don't worry if none of these make sense now, we're going to go through each.\n",
    "\n"
   ]
  },
  {
   "cell_type": "markdown",
   "id": "e92a38f4",
   "metadata": {},
   "source": [
    "### Typical architecture of a regresison neural network\n",
    "\n",
    "The word typical is on purpose.\n",
    "\n",
    "Why?\n",
    "\n",
    "Because there are many different ways (actually, there's almost an infinite number of ways) to write neural networks.\n",
    "\n",
    "But the following is a generic setup for ingesting a collection of numbers, finding patterns in them and then outputing some kind of target number.\n",
    "\n",
    "Yes, the previous sentence is vague but we'll see this in action shortly.\n",
    "\n",
    "![Hyperparameters and typical values](./Images/RegressionParameters.png)\n",
    "\n",
    "Again, if you're new to neural networks and deep learning in general, much of the above table won't make sense. But don't worry, we'll be getting hands-on with all of it soon.\n",
    "\n",
    "🔑 Note: A hyperparameter in machine learning is something a data analyst or developer can set themselves, where as a parameter usually describes something a model learns on its own (a value not explicitly set by an analyst).\n",
    "\n",
    "Okay, enough talk, let's get started writing code.\n",
    "\n",
    "To use TensorFlow, we'll import it as the common alias tf (short for TensorFlow)."
   ]
  },
  {
   "cell_type": "code",
   "execution_count": 1,
   "id": "dd54c798",
   "metadata": {},
   "outputs": [
    {
     "name": "stdout",
     "output_type": "stream",
     "text": [
      "Init Plugin\n",
      "2.5.0\n",
      "Init Graph Optimizer\n",
      "Init Kernel\n"
     ]
    }
   ],
   "source": [
    "import tensorflow as tf\n",
    "print(tf.__version__) # check the version (should be 2.x+)"
   ]
  },
  {
   "cell_type": "markdown",
   "id": "d5d5df3f",
   "metadata": {},
   "source": [
    "## Creating data to view and fit"
   ]
  },
  {
   "cell_type": "markdown",
   "id": "28173160",
   "metadata": {},
   "source": [
    "Since we're working on a regression problem (predicting a number) let's create some linear data (a straight line) to model."
   ]
  },
  {
   "cell_type": "code",
   "execution_count": 2,
   "id": "61c9fc9a",
   "metadata": {},
   "outputs": [],
   "source": [
    "import numpy as np\n",
    "import matplotlib.pyplot as plt"
   ]
  },
  {
   "cell_type": "code",
   "execution_count": 3,
   "id": "67210df5",
   "metadata": {},
   "outputs": [
    {
     "data": {
      "image/png": "[encoded data removed]",
      "text/plain": [
       "<Figure size 640x480 with 1 Axes>"
      ]
     },
     "metadata": {},
     "output_type": "display_data"
    }
   ],
   "source": [
    "# Create features\n",
    "X = np.array([-7.0, -4.0, -1.0, 2.0, 5.0, 8.0, 11.0, 14.0])\n",
    "\n",
    "# Create labels\n",
    "y = np.array([3.0, 6.0, 9.0, 12.0, 15.0, 18.0, 21.0, 24.0])\n",
    "\n",
    "# Visualize it\n",
    "plt.scatter(X, y);"
   ]
  },
  {
   "cell_type": "markdown",
   "id": "87f1a5fa",
   "metadata": {},
   "source": [
    "Before we do any modelling, can you calculate the pattern between X and y?\n",
    "\n",
    "For example, say I asked you, based on this data what the y value would be if X was 17.0?\n",
    "\n",
    "Or how about if X was -10.0?\n",
    "\n",
    "This kind of pattern discovery is the essence of what we'll be building neural networks to do for us."
   ]
  },
  {
   "cell_type": "code",
   "execution_count": 4,
   "id": "caf9b5fa",
   "metadata": {},
   "outputs": [
    {
     "data": {
      "text/plain": [
       "array([ True,  True,  True,  True,  True,  True,  True,  True])"
      ]
     },
     "execution_count": 4,
     "metadata": {},
     "output_type": "execute_result"
    }
   ],
   "source": [
    "y == X + 10"
   ]
  },
  {
   "cell_type": "markdown",
   "id": "cc141dc7",
   "metadata": {},
   "source": [
    "## Regression input shapes and output shapes\n",
    "\n",
    "One of the most important concepts when working with neural networks are the input and output shapes.\n",
    "\n",
    "The input shape is the shape of your data that goes into the model.\n",
    "\n",
    "The output shape is the shape of your data you want to come out of your model.\n",
    "\n",
    "These will differ depending on the problem you're working on.\n",
    "\n",
    "Neural networks accept numbers and output numbers. These numbers are typically represented as tensors (or arrays).\n",
    "\n",
    "Before, we created data using NumPy arrays, but we could do the same with tensors."
   ]
  },
  {
   "cell_type": "markdown",
   "id": "73d3322d",
   "metadata": {},
   "source": [
    "So our input will be X and our output will be y.\n",
    "\n",
    "Knowing this, what do you think our input and output shapes will be?\n",
    "\n",
    "Let's take a look."
   ]
  },
  {
   "cell_type": "code",
   "execution_count": 5,
   "id": "a32cc07b",
   "metadata": {},
   "outputs": [
    {
     "data": {
      "text/plain": [
       "((), ())"
      ]
     },
     "execution_count": 5,
     "metadata": {},
     "output_type": "execute_result"
    }
   ],
   "source": [
    "# Take a single example of X\n",
    "input_shape = X[0].shape \n",
    "\n",
    "# Take a single example of y\n",
    "output_shape = y[0].shape\n",
    "\n",
    "input_shape, output_shape # these are both scalars (no shape)"
   ]
  },
  {
   "cell_type": "markdown",
   "id": "eac86524",
   "metadata": {},
   "source": [
    "Huh?\n",
    "\n",
    "From this it seems our inputs and outputs have no shape?\n",
    "\n",
    "How could that be?\n",
    "\n",
    "It's because no matter what kind of data we pass to our model, it's always going to take as input and return as ouput some kind of tensor.\n",
    "\n",
    "But in our case because of our dataset (only 2 small lists of numbers), we're looking at a special kind of tensor, more specifically a rank 0 tensor or a scalar."
   ]
  },
  {
   "cell_type": "code",
   "execution_count": 6,
   "id": "2153f177",
   "metadata": {},
   "outputs": [
    {
     "data": {
      "text/plain": [
       "(-7.0, 3.0)"
      ]
     },
     "execution_count": 6,
     "metadata": {},
     "output_type": "execute_result"
    }
   ],
   "source": [
    "# Let's take a look at the single examples invidually\n",
    "X[0], y[0]"
   ]
  },
  {
   "cell_type": "markdown",
   "id": "26414823",
   "metadata": {},
   "source": [
    "In our case, we're trying to build a model to predict the pattern between X[0] equalling -7.0 and y[0] equalling 3.0.\n",
    "\n",
    "So now we get our answer, we're trying to use 1 X value to predict 1 y value.\n",
    "\n",
    "You might be thinking, \"this seems pretty complicated for just predicting a straight line...\".\n",
    "\n",
    "And you'd be right.\n",
    "\n",
    "But the concepts we're covering here, the concepts of input and output shapes to a model are fundamental.\n",
    "\n",
    "In fact, they're probably two of the things you'll spend the most time on when you work with neural networks: making sure your input and outputs are in the correct shape.\n",
    "\n",
    "If it doesn't make sense now, we'll see plenty more examples later on (soon you'll notice the input and output shapes can be almost anything you can imagine)."
   ]
  },
  {
   "cell_type": "markdown",
   "id": "b989d2cf",
   "metadata": {},
   "source": [
    "## Steps in modelling with TensorFlow\n",
    "\n",
    "Now we know what data we have as well as the input and output shapes, let's see how we'd build a neural network to model it.\n",
    "\n",
    "In TensorFlow, there are typically 3 fundamental steps to creating and training a model.\n",
    "\n",
    "1. **Creating a model** - piece together the layers of a neural network yourself (using the Functional or Sequential API) or import a previously built model (known as transfer learning).\n",
    "2. **Compiling a model** - defining how a models performance should be measured (loss/metrics) as well as defining how it should improve (optimizer).\n",
    "3. **Fitting a model** - letting the model try to find patterns in the data (how does X get to y).\n",
    "\n",
    "Let's see these in action using the Keras Sequential API to build a model for our regression data. And then we'll step through each.\n",
    "\n",
    "**Note: If you're using TensorFlow 2.7.0+, the fit() function no longer upscales input data to go from (batch_size, ) to (batch_size, 1). To fix this, you'll need to expand the dimension of input data using tf.expand_dims(input_data, axis=-1).**\n",
    "\n",
    "In our case, this means instead of using model.fit(X, y, epochs=5), use model.fit(tf.expand_dims(X, axis=-1), y, epochs=5)."
   ]
  },
  {
   "cell_type": "code",
   "execution_count": 7,
   "id": "99299edc",
   "metadata": {},
   "outputs": [
    {
     "name": "stdout",
     "output_type": "stream",
     "text": [
      "Metal device set to: Apple M1\n"
     ]
    },
    {
     "name": "stderr",
     "output_type": "stream",
     "text": [
      "2022-12-06 00:33:15.183957: I tensorflow/core/common_runtime/pluggable_device/pluggable_device_factory.cc:305] Could not identify NUMA node of platform GPU ID 0, defaulting to 0. Your kernel may not have been built with NUMA support.\n",
      "2022-12-06 00:33:15.184326: I tensorflow/core/common_runtime/pluggable_device/pluggable_device_factory.cc:271] Created TensorFlow device (/job:localhost/replica:0/task:0/device:GPU:0 with 0 MB memory) -> physical PluggableDevice (device: 0, name: METAL, pci bus id: <undefined>)\n"
     ]
    }
   ],
   "source": [
    "# Create features (using tensors)\n",
    "X = tf.constant([-7.0, -4.0, -1.0, 2.0, 5.0, 8.0, 11.0, 14.0])\n",
    "\n",
    "# Create labels (using tensors)\n",
    "y = tf.constant([3.0, 6.0, 9.0, 12.0, 15.0, 18.0, 21.0, 24.0])"
   ]
  },
  {
   "cell_type": "code",
   "execution_count": 8,
   "id": "3f39bc8c",
   "metadata": {},
   "outputs": [
    {
     "data": {
      "text/plain": [
       "(<tf.Tensor: shape=(8,), dtype=float32, numpy=array([-7., -4., -1.,  2.,  5.,  8., 11., 14.], dtype=float32)>,\n",
       " <tf.Tensor: shape=(8,), dtype=float32, numpy=array([ 3.,  6.,  9., 12., 15., 18., 21., 24.], dtype=float32)>)"
      ]
     },
     "execution_count": 8,
     "metadata": {},
     "output_type": "execute_result"
    }
   ],
   "source": [
    "X, y"
   ]
  },
  {
   "cell_type": "code",
   "execution_count": 9,
   "id": "160f2659",
   "metadata": {},
   "outputs": [
    {
     "data": {
      "text/plain": [
       "(TensorShape([]), TensorShape([]))"
      ]
     },
     "execution_count": 9,
     "metadata": {},
     "output_type": "execute_result"
    }
   ],
   "source": [
    "input_shape = X[0].shape\n",
    "output_shape = y[0].shape\n",
    "input_shape, output_shape"
   ]
  },
  {
   "cell_type": "code",
   "execution_count": 10,
   "id": "aae0b568",
   "metadata": {},
   "outputs": [
    {
     "name": "stderr",
     "output_type": "stream",
     "text": [
      "2022-12-06 00:39:46.741527: I tensorflow/compiler/mlir/mlir_graph_optimization_pass.cc:176] None of the MLIR Optimization Passes are enabled (registered 2)\n",
      "2022-12-06 00:39:46.741743: W tensorflow/core/platform/profile_utils/cpu_utils.cc:128] Failed to get CPU frequency: 0 Hz\n"
     ]
    },
    {
     "name": "stdout",
     "output_type": "stream",
     "text": [
      "Epoch 1/5\n"
     ]
    },
    {
     "name": "stderr",
     "output_type": "stream",
     "text": [
      "2022-12-06 00:39:47.031402: I tensorflow/core/grappler/optimizers/custom_graph_optimizer_registry.cc:112] Plugin optimizer for device_type GPU is enabled.\n"
     ]
    },
    {
     "name": "stdout",
     "output_type": "stream",
     "text": [
      "1/1 [==============================] - 1s 1s/step - loss: 16.4449 - mae: 16.4449\n",
      "Epoch 2/5\n",
      "1/1 [==============================] - 0s 4ms/step - loss: 16.1637 - mae: 16.1637\n",
      "Epoch 3/5\n",
      "1/1 [==============================] - 0s 3ms/step - loss: 15.8824 - mae: 15.8824\n",
      "Epoch 4/5\n",
      "1/1 [==============================] - 0s 3ms/step - loss: 15.6012 - mae: 15.6012\n",
      "Epoch 5/5\n",
      "1/1 [==============================] - 0s 5ms/step - loss: 15.3199 - mae: 15.3199\n"
     ]
    },
    {
     "data": {
      "text/plain": [
       "<tensorflow.python.keras.callbacks.History at 0x15cbf0af0>"
      ]
     },
     "execution_count": 10,
     "metadata": {},
     "output_type": "execute_result"
    }
   ],
   "source": [
    "# Set random seed\n",
    "tf.random.set_seed(42)\n",
    "\n",
    "# Create a model using the Sequential API\n",
    "model = tf.keras.Sequential([\n",
    "  tf.keras.layers.Dense(1)\n",
    "])\n",
    "\n",
    "# Compile the model\n",
    "model.compile(loss=tf.keras.losses.mae, # mae is short for mean absolute error\n",
    "              optimizer=tf.keras.optimizers.SGD(), # SGD is short for stochastic gradient descent\n",
    "              metrics=[\"mae\"])\n",
    "\n",
    "# Fit the model\n",
    "# model.fit(X, y, epochs=5) # this will break with TensorFlow 2.7.0+\n",
    "model.fit(tf.expand_dims(X, axis=-1), y, epochs=5)"
   ]
  },
  {
   "cell_type": "code",
   "execution_count": 11,
   "id": "5dad2c2a",
   "metadata": {},
   "outputs": [
    {
     "data": {
      "text/plain": [
       "(<tf.Tensor: shape=(8,), dtype=float32, numpy=array([-7., -4., -1.,  2.,  5.,  8., 11., 14.], dtype=float32)>,\n",
       " <tf.Tensor: shape=(8,), dtype=float32, numpy=array([ 3.,  6.,  9., 12., 15., 18., 21., 24.], dtype=float32)>)"
      ]
     },
     "execution_count": 11,
     "metadata": {},
     "output_type": "execute_result"
    }
   ],
   "source": [
    "# Check out X and y\n",
    "X, y"
   ]
  },
  {
   "cell_type": "markdown",
   "id": "b68168ba",
   "metadata": {},
   "source": [
    "What do you think the outcome should be if we passed our model an X value of 17.0?"
   ]
  },
  {
   "cell_type": "code",
   "execution_count": 12,
   "id": "df594ae6",
   "metadata": {},
   "outputs": [
    {
     "name": "stderr",
     "output_type": "stream",
     "text": [
      "2022-12-06 00:41:11.568439: I tensorflow/core/grappler/optimizers/custom_graph_optimizer_registry.cc:112] Plugin optimizer for device_type GPU is enabled.\n"
     ]
    },
    {
     "data": {
      "text/plain": [
       "array([[-7.4645805]], dtype=float32)"
      ]
     },
     "execution_count": 12,
     "metadata": {},
     "output_type": "execute_result"
    }
   ],
   "source": [
    "# Make a prediction with the model\n",
    "model.predict([17.0])"
   ]
  },
  {
   "cell_type": "markdown",
   "id": "7fc485bc",
   "metadata": {},
   "source": [
    "It doesn't go very well... it should've output something close to 27.0.\n",
    "\n",
    "🤔 Question: What's Keras? I thought we were working with TensorFlow but every time we write TensorFlow code, keras comes after tf (e.g. tf.keras.layers.Dense())?\n",
    "\n",
    "Before TensorFlow 2.0+, Keras was an API designed to be able to build deep learning models with ease. Since TensorFlow 2.0+, its functionality has been tightly integrated within the TensorFlow library."
   ]
  },
  {
   "cell_type": "markdown",
   "id": "e97cfa3b",
   "metadata": {},
   "source": [
    "## Improving a model\n",
    "\n",
    "#### How do you think you'd improve upon our current model?\n",
    "\n",
    "If you guessed by tweaking some of the things we did above, you'd be correct.\n",
    "\n",
    "To improve our model, we alter almost every part of the 3 steps we went through before.\n",
    "\n",
    "**Creating a model**  - here you might want to add more layers, increase the number of hidden units (also called neurons) within each layer, change the activation functions of each layer.\n",
    "\n",
    "**Compiling a model** - you might want to choose optimization function or perhaps change the learning rate of the optimization function.\n",
    "\n",
    "**Fitting a model** - perhaps you could fit a model for more epochs (leave it training for longer) or on more data (give the model more examples to learn from)."
   ]
  },
  {
   "cell_type": "markdown",
   "id": "4a1f1a18",
   "metadata": {},
   "source": [
    "There are many different ways to potentially improve a neural network. Some of the most common include: increasing the number of layers (making the network deeper), increasing the number of hidden units (making the network wider) and changing the learning rate. Because these values are all human-changeable, they're referred to as hyperparameters and the practice of trying to find the best hyperparameters is referred to as hyperparameter tuning.\n",
    "\n",
    "Woah. We just introduced a bunch of possible steps. The important thing to remember is how you alter each of these will depend on the problem you're working on.\n",
    "\n",
    "And the good thing is, over the next few problems, we'll get hands-on with all of them.\n",
    "\n",
    "For now, let's keep it simple, all we'll do is train our model for longer (everything else will stay the same)."
   ]
  },
  {
   "cell_type": "code",
   "execution_count": 13,
   "id": "decb66a0",
   "metadata": {},
   "outputs": [
    {
     "name": "stdout",
     "output_type": "stream",
     "text": [
      "Epoch 1/100\n",
      "1/1 [==============================] - 0s 92ms/step - loss: 16.4449 - mae: 16.4449\n",
      "Epoch 2/100\n",
      "1/1 [==============================] - 0s 4ms/step - loss: 16.1637 - mae: 16.1637\n",
      "Epoch 3/100\n",
      "1/1 [==============================] - 0s 4ms/step - loss: 15.8824 - mae: 15.8824\n",
      "Epoch 4/100\n",
      "1/1 [==============================] - 0s 5ms/step - loss: 15.6012 - mae: 15.6012\n",
      "Epoch 5/100\n",
      "1/1 [==============================] - 0s 4ms/step - loss: 15.3199 - mae: 15.3199\n",
      "Epoch 6/100\n",
      "1/1 [==============================] - 0s 6ms/step - loss: 15.0387 - mae: 15.0387\n",
      "Epoch 7/100\n",
      "1/1 [==============================] - 0s 4ms/step - loss: 14.8158 - mae: 14.8158\n",
      "Epoch 8/100\n",
      "1/1 [==============================] - 0s 4ms/step - loss: 14.6833 - mae: 14.6833\n",
      "Epoch 9/100\n",
      "1/1 [==============================] - 0s 7ms/step - loss: 14.5508 - mae: 14.5508\n",
      "Epoch 10/100\n",
      "1/1 [==============================] - 0s 4ms/step - loss: 14.4183 - mae: 14.4183\n",
      "Epoch 11/100\n",
      "1/1 [==============================] - 0s 3ms/step - loss: 14.2858 - mae: 14.2858\n",
      "Epoch 12/100\n",
      "1/1 [==============================] - 0s 6ms/step - loss: 14.1533 - mae: 14.1533\n",
      "Epoch 13/100\n",
      "1/1 [==============================] - 0s 3ms/step - loss: 14.0208 - mae: 14.0208\n",
      "Epoch 14/100\n",
      "1/1 [==============================] - 0s 6ms/step - loss: 13.8883 - mae: 13.8883\n",
      "Epoch 15/100\n",
      "1/1 [==============================] - 0s 4ms/step - loss: 13.7558 - mae: 13.7558\n",
      "Epoch 16/100\n",
      "1/1 [==============================] - 0s 4ms/step - loss: 13.6233 - mae: 13.6233\n",
      "Epoch 17/100\n",
      "1/1 [==============================] - 0s 6ms/step - loss: 13.4908 - mae: 13.4908\n",
      "Epoch 18/100\n",
      "1/1 [==============================] - 0s 4ms/step - loss: 13.3583 - mae: 13.3583\n",
      "Epoch 19/100\n",
      "1/1 [==============================] - 0s 4ms/step - loss: 13.2258 - mae: 13.2258\n",
      "Epoch 20/100\n",
      "1/1 [==============================] - 0s 5ms/step - loss: 13.0933 - mae: 13.0933\n",
      "Epoch 21/100\n",
      "1/1 [==============================] - 0s 4ms/step - loss: 12.9608 - mae: 12.9608\n",
      "Epoch 22/100\n",
      "1/1 [==============================] - 0s 5ms/step - loss: 12.8283 - mae: 12.8283\n",
      "Epoch 23/100\n",
      "1/1 [==============================] - 0s 7ms/step - loss: 12.6958 - mae: 12.6958\n",
      "Epoch 24/100\n",
      "1/1 [==============================] - 0s 4ms/step - loss: 12.5633 - mae: 12.5633\n",
      "Epoch 25/100\n",
      "1/1 [==============================] - 0s 4ms/step - loss: 12.4308 - mae: 12.4308\n",
      "Epoch 26/100\n",
      "1/1 [==============================] - 0s 4ms/step - loss: 12.2983 - mae: 12.2983\n",
      "Epoch 27/100\n",
      "1/1 [==============================] - 0s 5ms/step - loss: 12.1658 - mae: 12.1658\n",
      "Epoch 28/100\n",
      "1/1 [==============================] - 0s 5ms/step - loss: 12.0333 - mae: 12.0333\n"
     ]
    },
    {
     "name": "stderr",
     "output_type": "stream",
     "text": [
      "2022-12-06 00:47:12.039163: I tensorflow/core/grappler/optimizers/custom_graph_optimizer_registry.cc:112] Plugin optimizer for device_type GPU is enabled.\n"
     ]
    },
    {
     "name": "stdout",
     "output_type": "stream",
     "text": [
      "Epoch 29/100\n",
      "1/1 [==============================] - 0s 4ms/step - loss: 11.9008 - mae: 11.9008\n",
      "Epoch 30/100\n",
      "1/1 [==============================] - 0s 7ms/step - loss: 11.7683 - mae: 11.7683\n",
      "Epoch 31/100\n",
      "1/1 [==============================] - 0s 3ms/step - loss: 11.6358 - mae: 11.6358\n",
      "Epoch 32/100\n",
      "1/1 [==============================] - 0s 8ms/step - loss: 11.5033 - mae: 11.5033\n",
      "Epoch 33/100\n",
      "1/1 [==============================] - 0s 4ms/step - loss: 11.3708 - mae: 11.3708\n",
      "Epoch 34/100\n",
      "1/1 [==============================] - 0s 6ms/step - loss: 11.2383 - mae: 11.2383\n",
      "Epoch 35/100\n",
      "1/1 [==============================] - 0s 3ms/step - loss: 11.1058 - mae: 11.1058\n",
      "Epoch 36/100\n",
      "1/1 [==============================] - 0s 5ms/step - loss: 10.9733 - mae: 10.9733\n",
      "Epoch 37/100\n",
      "1/1 [==============================] - 0s 7ms/step - loss: 10.8408 - mae: 10.8408\n",
      "Epoch 38/100\n",
      "1/1 [==============================] - 0s 4ms/step - loss: 10.7083 - mae: 10.7083\n",
      "Epoch 39/100\n",
      "1/1 [==============================] - 0s 8ms/step - loss: 10.5758 - mae: 10.5758\n",
      "Epoch 40/100\n",
      "1/1 [==============================] - 0s 3ms/step - loss: 10.4433 - mae: 10.4433\n",
      "Epoch 41/100\n",
      "1/1 [==============================] - 0s 5ms/step - loss: 10.3108 - mae: 10.3108\n",
      "Epoch 42/100\n",
      "1/1 [==============================] - 0s 4ms/step - loss: 10.1783 - mae: 10.1783\n",
      "Epoch 43/100\n",
      "1/1 [==============================] - 0s 5ms/step - loss: 10.0458 - mae: 10.0458\n",
      "Epoch 44/100\n",
      "1/1 [==============================] - 0s 7ms/step - loss: 9.9133 - mae: 9.9133\n",
      "Epoch 45/100\n",
      "1/1 [==============================] - 0s 7ms/step - loss: 9.7808 - mae: 9.7808\n",
      "Epoch 46/100\n",
      "1/1 [==============================] - 0s 6ms/step - loss: 9.6483 - mae: 9.6483\n",
      "Epoch 47/100\n",
      "1/1 [==============================] - 0s 7ms/step - loss: 9.5158 - mae: 9.5158\n",
      "Epoch 48/100\n",
      "1/1 [==============================] - 0s 4ms/step - loss: 9.3833 - mae: 9.3833\n",
      "Epoch 49/100\n",
      "1/1 [==============================] - 0s 7ms/step - loss: 9.2508 - mae: 9.2508\n",
      "Epoch 50/100\n",
      "1/1 [==============================] - 0s 7ms/step - loss: 9.1183 - mae: 9.1183\n",
      "Epoch 51/100\n",
      "1/1 [==============================] - 0s 5ms/step - loss: 8.9858 - mae: 8.9858\n",
      "Epoch 52/100\n",
      "1/1 [==============================] - 0s 7ms/step - loss: 8.8533 - mae: 8.8533\n",
      "Epoch 53/100\n",
      "1/1 [==============================] - 0s 5ms/step - loss: 8.7208 - mae: 8.7208\n",
      "Epoch 54/100\n",
      "1/1 [==============================] - 0s 3ms/step - loss: 8.5883 - mae: 8.5883\n",
      "Epoch 55/100\n",
      "1/1 [==============================] - 0s 5ms/step - loss: 8.4558 - mae: 8.4558\n",
      "Epoch 56/100\n",
      "1/1 [==============================] - 0s 3ms/step - loss: 8.3233 - mae: 8.3233\n",
      "Epoch 57/100\n",
      "1/1 [==============================] - 0s 4ms/step - loss: 8.1908 - mae: 8.1908\n",
      "Epoch 58/100\n",
      "1/1 [==============================] - 0s 3ms/step - loss: 8.0583 - mae: 8.0583\n",
      "Epoch 59/100\n",
      "1/1 [==============================] - 0s 7ms/step - loss: 7.9258 - mae: 7.9258\n",
      "Epoch 60/100\n",
      "1/1 [==============================] - 0s 3ms/step - loss: 7.7933 - mae: 7.7933\n",
      "Epoch 61/100\n",
      "1/1 [==============================] - 0s 4ms/step - loss: 7.6608 - mae: 7.6608\n",
      "Epoch 62/100\n",
      "1/1 [==============================] - 0s 4ms/step - loss: 7.5283 - mae: 7.5283\n",
      "Epoch 63/100\n",
      "1/1 [==============================] - 0s 4ms/step - loss: 7.3958 - mae: 7.3958\n",
      "Epoch 64/100\n",
      "1/1 [==============================] - 0s 4ms/step - loss: 7.2633 - mae: 7.2633\n",
      "Epoch 65/100\n",
      "1/1 [==============================] - 0s 3ms/step - loss: 7.1308 - mae: 7.1308\n",
      "Epoch 66/100\n",
      "1/1 [==============================] - 0s 3ms/step - loss: 7.0238 - mae: 7.0238\n",
      "Epoch 67/100\n",
      "1/1 [==============================] - 0s 4ms/step - loss: 7.0181 - mae: 7.0181\n",
      "Epoch 68/100\n",
      "1/1 [==============================] - 0s 3ms/step - loss: 7.0125 - mae: 7.0125\n",
      "Epoch 69/100\n",
      "1/1 [==============================] - 0s 4ms/step - loss: 7.0069 - mae: 7.0069\n",
      "Epoch 70/100\n",
      "1/1 [==============================] - 0s 4ms/step - loss: 7.0013 - mae: 7.0013\n",
      "Epoch 71/100\n",
      "1/1 [==============================] - 0s 3ms/step - loss: 6.9956 - mae: 6.9956\n",
      "Epoch 72/100\n",
      "1/1 [==============================] - 0s 3ms/step - loss: 6.9900 - mae: 6.9900\n",
      "Epoch 73/100\n",
      "1/1 [==============================] - 0s 3ms/step - loss: 6.9844 - mae: 6.9844\n",
      "Epoch 74/100\n",
      "1/1 [==============================] - 0s 3ms/step - loss: 6.9788 - mae: 6.9788\n",
      "Epoch 75/100\n",
      "1/1 [==============================] - 0s 3ms/step - loss: 6.9731 - mae: 6.9731\n",
      "Epoch 76/100\n",
      "1/1 [==============================] - 0s 4ms/step - loss: 6.9675 - mae: 6.9675\n",
      "Epoch 77/100\n",
      "1/1 [==============================] - 0s 4ms/step - loss: 6.9619 - mae: 6.9619\n",
      "Epoch 78/100\n",
      "1/1 [==============================] - 0s 4ms/step - loss: 6.9563 - mae: 6.9563\n",
      "Epoch 79/100\n",
      "1/1 [==============================] - 0s 3ms/step - loss: 6.9506 - mae: 6.9506\n",
      "Epoch 80/100\n",
      "1/1 [==============================] - 0s 4ms/step - loss: 6.9450 - mae: 6.9450\n",
      "Epoch 81/100\n",
      "1/1 [==============================] - 0s 3ms/step - loss: 6.9394 - mae: 6.9394\n",
      "Epoch 82/100\n",
      "1/1 [==============================] - 0s 4ms/step - loss: 6.9338 - mae: 6.9338\n",
      "Epoch 83/100\n",
      "1/1 [==============================] - 0s 3ms/step - loss: 6.9281 - mae: 6.9281\n",
      "Epoch 84/100\n",
      "1/1 [==============================] - 0s 3ms/step - loss: 6.9225 - mae: 6.9225\n",
      "Epoch 85/100\n",
      "1/1 [==============================] - 0s 3ms/step - loss: 6.9169 - mae: 6.9169\n",
      "Epoch 86/100\n",
      "1/1 [==============================] - 0s 4ms/step - loss: 6.9113 - mae: 6.9113\n",
      "Epoch 87/100\n",
      "1/1 [==============================] - 0s 4ms/step - loss: 6.9056 - mae: 6.9056\n",
      "Epoch 88/100\n",
      "1/1 [==============================] - 0s 4ms/step - loss: 6.9000 - mae: 6.9000\n",
      "Epoch 89/100\n",
      "1/1 [==============================] - 0s 3ms/step - loss: 6.8944 - mae: 6.8944\n",
      "Epoch 90/100\n",
      "1/1 [==============================] - 0s 3ms/step - loss: 6.8888 - mae: 6.8888\n",
      "Epoch 91/100\n",
      "1/1 [==============================] - 0s 3ms/step - loss: 6.8831 - mae: 6.8831\n",
      "Epoch 92/100\n",
      "1/1 [==============================] - 0s 3ms/step - loss: 6.8775 - mae: 6.8775\n",
      "Epoch 93/100\n",
      "1/1 [==============================] - 0s 3ms/step - loss: 6.8719 - mae: 6.8719\n",
      "Epoch 94/100\n",
      "1/1 [==============================] - 0s 3ms/step - loss: 6.8663 - mae: 6.8663\n",
      "Epoch 95/100\n",
      "1/1 [==============================] - 0s 4ms/step - loss: 6.8606 - mae: 6.8606\n",
      "Epoch 96/100\n",
      "1/1 [==============================] - 0s 3ms/step - loss: 6.8550 - mae: 6.8550\n",
      "Epoch 97/100\n",
      "1/1 [==============================] - 0s 4ms/step - loss: 6.8494 - mae: 6.8494\n",
      "Epoch 98/100\n",
      "1/1 [==============================] - 0s 4ms/step - loss: 6.8438 - mae: 6.8438\n",
      "Epoch 99/100\n",
      "1/1 [==============================] - 0s 3ms/step - loss: 6.8381 - mae: 6.8381\n",
      "Epoch 100/100\n",
      "1/1 [==============================] - 0s 3ms/step - loss: 6.8325 - mae: 6.8325\n"
     ]
    },
    {
     "data": {
      "text/plain": [
       "<tensorflow.python.keras.callbacks.History at 0x15cdcab80>"
      ]
     },
     "execution_count": 13,
     "metadata": {},
     "output_type": "execute_result"
    }
   ],
   "source": [
    "# Set random seed\n",
    "tf.random.set_seed(42)\n",
    "\n",
    "# Create a model (same as above)\n",
    "model = tf.keras.Sequential([\n",
    "  tf.keras.layers.Dense(1)\n",
    "])\n",
    "\n",
    "# Compile model (same as above)\n",
    "model.compile(loss=tf.keras.losses.mae,\n",
    "              optimizer=tf.keras.optimizers.SGD(),\n",
    "              metrics=[\"mae\"])\n",
    "\n",
    "# Fit model (this time we'll train for longer)\n",
    "model.fit(tf.expand_dims(X, axis=-1), y, epochs=100) # train for 100 epochs not 10"
   ]
  },
  {
   "cell_type": "markdown",
   "id": "2e0c0c39",
   "metadata": {},
   "source": [
    "You might've noticed the loss value decrease from before (and keep decreasing as the number of epochs gets higher).\n",
    "\n",
    "What do you think this means for when we make a prediction with our model?\n",
    "\n",
    "How about we try predict on 17.0 again?"
   ]
  },
  {
   "cell_type": "code",
   "execution_count": 14,
   "id": "fb048431",
   "metadata": {},
   "outputs": [
    {
     "data": {
      "text/plain": [
       "(<tf.Tensor: shape=(8,), dtype=float32, numpy=array([-7., -4., -1.,  2.,  5.,  8., 11., 14.], dtype=float32)>,\n",
       " <tf.Tensor: shape=(8,), dtype=float32, numpy=array([ 3.,  6.,  9., 12., 15., 18., 21., 24.], dtype=float32)>)"
      ]
     },
     "execution_count": 14,
     "metadata": {},
     "output_type": "execute_result"
    }
   ],
   "source": [
    "# Remind ourselves of what X and y are\n",
    "X, y"
   ]
  },
  {
   "cell_type": "code",
   "execution_count": 15,
   "id": "f4c09908",
   "metadata": {},
   "outputs": [
    {
     "name": "stderr",
     "output_type": "stream",
     "text": [
      "2022-12-06 00:49:10.884021: I tensorflow/core/grappler/optimizers/custom_graph_optimizer_registry.cc:112] Plugin optimizer for device_type GPU is enabled.\n"
     ]
    },
    {
     "data": {
      "text/plain": [
       "array([[29.392914]], dtype=float32)"
      ]
     },
     "execution_count": 15,
     "metadata": {},
     "output_type": "execute_result"
    }
   ],
   "source": [
    "# Try and predict what y would be if X was 17.0\n",
    "model.predict([17.0]) # the right answer is 27.0 (y = X + 10)"
   ]
  },
  {
   "cell_type": "markdown",
   "id": "baa7923c",
   "metadata": {},
   "source": [
    "Much better!\n",
    "\n",
    "We got closer this time. But we could still be better."
   ]
  },
  {
   "cell_type": "code",
   "execution_count": 16,
   "id": "7bd6e82a",
   "metadata": {},
   "outputs": [
    {
     "name": "stdout",
     "output_type": "stream",
     "text": [
      "Epoch 1/100\n"
     ]
    },
    {
     "name": "stderr",
     "output_type": "stream",
     "text": [
      "2022-12-06 10:07:42.612748: I tensorflow/core/grappler/optimizers/custom_graph_optimizer_registry.cc:112] Plugin optimizer for device_type GPU is enabled.\n"
     ]
    },
    {
     "name": "stdout",
     "output_type": "stream",
     "text": [
      "1/1 [==============================] - 1s 962ms/step - loss: 13.3668 - mae: 13.3668\n",
      "Epoch 2/100\n",
      "1/1 [==============================] - 0s 4ms/step - loss: 12.8411 - mae: 12.8411\n",
      "Epoch 3/100\n",
      "1/1 [==============================] - 0s 3ms/step - loss: 12.3333 - mae: 12.3333\n",
      "Epoch 4/100\n",
      "1/1 [==============================] - 0s 6ms/step - loss: 11.8177 - mae: 11.8177\n",
      "Epoch 5/100\n",
      "1/1 [==============================] - 0s 4ms/step - loss: 11.2881 - mae: 11.2881\n",
      "Epoch 6/100\n",
      "1/1 [==============================] - 0s 6ms/step - loss: 10.7429 - mae: 10.7429\n",
      "Epoch 7/100\n",
      "1/1 [==============================] - 0s 4ms/step - loss: 10.1783 - mae: 10.1783\n",
      "Epoch 8/100\n",
      "1/1 [==============================] - 0s 4ms/step - loss: 9.5947 - mae: 9.5947\n",
      "Epoch 9/100\n",
      "1/1 [==============================] - 0s 6ms/step - loss: 8.9764 - mae: 8.9764\n",
      "Epoch 10/100\n",
      "1/1 [==============================] - 0s 4ms/step - loss: 8.3184 - mae: 8.3184\n",
      "Epoch 11/100\n",
      "1/1 [==============================] - 0s 8ms/step - loss: 7.6156 - mae: 7.6156\n",
      "Epoch 12/100\n",
      "1/1 [==============================] - 0s 4ms/step - loss: 6.8722 - mae: 6.8722\n",
      "Epoch 13/100\n",
      "1/1 [==============================] - 0s 5ms/step - loss: 6.0687 - mae: 6.0687\n",
      "Epoch 14/100\n",
      "1/1 [==============================] - 0s 6ms/step - loss: 5.2043 - mae: 5.2043\n",
      "Epoch 15/100\n",
      "1/1 [==============================] - 0s 5ms/step - loss: 4.3602 - mae: 4.3602\n",
      "Epoch 16/100\n",
      "1/1 [==============================] - 0s 6ms/step - loss: 4.2300 - mae: 4.2300\n",
      "Epoch 17/100\n",
      "1/1 [==============================] - 0s 4ms/step - loss: 4.0974 - mae: 4.0974\n",
      "Epoch 18/100\n",
      "1/1 [==============================] - 0s 8ms/step - loss: 4.0047 - mae: 4.0047\n",
      "Epoch 19/100\n",
      "1/1 [==============================] - 0s 4ms/step - loss: 3.9973 - mae: 3.9973\n",
      "Epoch 20/100\n",
      "1/1 [==============================] - 0s 9ms/step - loss: 3.9363 - mae: 3.9363\n",
      "Epoch 21/100\n",
      "1/1 [==============================] - 0s 4ms/step - loss: 3.9116 - mae: 3.9116\n",
      "Epoch 22/100\n",
      "1/1 [==============================] - 0s 5ms/step - loss: 3.9219 - mae: 3.9219\n",
      "Epoch 23/100\n",
      "1/1 [==============================] - 0s 7ms/step - loss: 3.8868 - mae: 3.8868\n",
      "Epoch 24/100\n",
      "1/1 [==============================] - 0s 5ms/step - loss: 3.9302 - mae: 3.9302\n",
      "Epoch 25/100\n",
      "1/1 [==============================] - 0s 6ms/step - loss: 3.8697 - mae: 3.8697\n",
      "Epoch 26/100\n",
      "1/1 [==============================] - 0s 4ms/step - loss: 3.9397 - mae: 3.9397\n",
      "Epoch 27/100\n",
      "1/1 [==============================] - 0s 7ms/step - loss: 3.8770 - mae: 3.8770\n",
      "Epoch 28/100\n",
      "1/1 [==============================] - 0s 4ms/step - loss: 3.9150 - mae: 3.9150\n",
      "Epoch 29/100\n",
      "1/1 [==============================] - 0s 7ms/step - loss: 3.8843 - mae: 3.8843\n",
      "Epoch 30/100\n",
      "1/1 [==============================] - 0s 4ms/step - loss: 3.8900 - mae: 3.8900\n",
      "Epoch 31/100\n",
      "1/1 [==============================] - 0s 8ms/step - loss: 3.8918 - mae: 3.8918\n",
      "Epoch 32/100\n",
      "1/1 [==============================] - 0s 4ms/step - loss: 3.8650 - mae: 3.8650\n",
      "Epoch 33/100\n",
      "1/1 [==============================] - 0s 6ms/step - loss: 3.9028 - mae: 3.9028\n",
      "Epoch 34/100\n",
      "1/1 [==============================] - 0s 6ms/step - loss: 3.8453 - mae: 3.8453\n",
      "Epoch 35/100\n",
      "1/1 [==============================] - 0s 7ms/step - loss: 3.9132 - mae: 3.9132\n",
      "Epoch 36/100\n",
      "1/1 [==============================] - 0s 4ms/step - loss: 3.8476 - mae: 3.8476\n",
      "Epoch 37/100\n",
      "1/1 [==============================] - 0s 5ms/step - loss: 3.8924 - mae: 3.8924\n",
      "Epoch 38/100\n",
      "1/1 [==============================] - 0s 6ms/step - loss: 3.8552 - mae: 3.8552\n",
      "Epoch 39/100\n",
      "1/1 [==============================] - 0s 6ms/step - loss: 3.8672 - mae: 3.8672\n",
      "Epoch 40/100\n",
      "1/1 [==============================] - 0s 6ms/step - loss: 3.8629 - mae: 3.8629\n",
      "Epoch 41/100\n",
      "1/1 [==============================] - 0s 5ms/step - loss: 3.8421 - mae: 3.8421\n",
      "Epoch 42/100\n",
      "1/1 [==============================] - 0s 4ms/step - loss: 3.8768 - mae: 3.8768\n",
      "Epoch 43/100\n",
      "1/1 [==============================] - 0s 8ms/step - loss: 3.8218 - mae: 3.8218\n",
      "Epoch 44/100\n",
      "1/1 [==============================] - 0s 6ms/step - loss: 3.8847 - mae: 3.8847\n",
      "Epoch 45/100\n",
      "1/1 [==============================] - 0s 7ms/step - loss: 3.8194 - mae: 3.8194\n",
      "Epoch 46/100\n",
      "1/1 [==============================] - 0s 5ms/step - loss: 3.8684 - mae: 3.8684\n",
      "Epoch 47/100\n",
      "1/1 [==============================] - 0s 4ms/step - loss: 3.8273 - mae: 3.8273\n",
      "Epoch 48/100\n",
      "1/1 [==============================] - 0s 7ms/step - loss: 3.8429 - mae: 3.8429\n",
      "Epoch 49/100\n",
      "1/1 [==============================] - 0s 6ms/step - loss: 3.8352 - mae: 3.8352\n",
      "Epoch 50/100\n",
      "1/1 [==============================] - 0s 9ms/step - loss: 3.8197 - mae: 3.8197\n",
      "Epoch 51/100\n",
      "1/1 [==============================] - 0s 6ms/step - loss: 3.8493 - mae: 3.8493\n",
      "Epoch 52/100\n",
      "1/1 [==============================] - 0s 6ms/step - loss: 3.7969 - mae: 3.7969\n",
      "Epoch 53/100\n",
      "1/1 [==============================] - 0s 5ms/step - loss: 3.8574 - mae: 3.8574\n",
      "Epoch 54/100\n",
      "1/1 [==============================] - 0s 4ms/step - loss: 3.7925 - mae: 3.7925\n",
      "Epoch 55/100\n",
      "1/1 [==============================] - 0s 8ms/step - loss: 3.8431 - mae: 3.8431\n",
      "Epoch 56/100\n",
      "1/1 [==============================] - 0s 4ms/step - loss: 3.8005 - mae: 3.8005\n",
      "Epoch 57/100\n",
      "1/1 [==============================] - 0s 4ms/step - loss: 3.8173 - mae: 3.8173\n",
      "Epoch 58/100\n",
      "1/1 [==============================] - 0s 5ms/step - loss: 3.8086 - mae: 3.8086\n",
      "Epoch 59/100\n",
      "1/1 [==============================] - 0s 6ms/step - loss: 3.7959 - mae: 3.7959\n",
      "Epoch 60/100\n",
      "1/1 [==============================] - 0s 4ms/step - loss: 3.8229 - mae: 3.8229\n",
      "Epoch 61/100\n",
      "1/1 [==============================] - 0s 4ms/step - loss: 3.7707 - mae: 3.7707\n",
      "Epoch 62/100\n",
      "1/1 [==============================] - 0s 4ms/step - loss: 3.8312 - mae: 3.8312\n",
      "Epoch 63/100\n",
      "1/1 [==============================] - 0s 4ms/step - loss: 3.7666 - mae: 3.7666\n",
      "Epoch 64/100\n",
      "1/1 [==============================] - 0s 4ms/step - loss: 3.8165 - mae: 3.8165\n",
      "Epoch 65/100\n",
      "1/1 [==============================] - 0s 4ms/step - loss: 3.7748 - mae: 3.7748\n",
      "Epoch 66/100\n",
      "1/1 [==============================] - 0s 5ms/step - loss: 3.7904 - mae: 3.7904\n",
      "Epoch 67/100\n",
      "1/1 [==============================] - 0s 4ms/step - loss: 3.7836 - mae: 3.7836\n",
      "Epoch 68/100\n",
      "1/1 [==============================] - 0s 4ms/step - loss: 3.7696 - mae: 3.7696\n",
      "Epoch 69/100\n",
      "1/1 [==============================] - 0s 4ms/step - loss: 3.7976 - mae: 3.7976\n",
      "Epoch 70/100\n",
      "1/1 [==============================] - 0s 4ms/step - loss: 3.7432 - mae: 3.7432\n",
      "Epoch 71/100\n",
      "1/1 [==============================] - 0s 4ms/step - loss: 3.8061 - mae: 3.8061\n",
      "Epoch 72/100\n",
      "1/1 [==============================] - 0s 4ms/step - loss: 3.7418 - mae: 3.7418\n",
      "Epoch 73/100\n",
      "1/1 [==============================] - 0s 4ms/step - loss: 3.7886 - mae: 3.7886\n",
      "Epoch 74/100\n",
      "1/1 [==============================] - 0s 4ms/step - loss: 3.7502 - mae: 3.7502\n",
      "Epoch 75/100\n",
      "1/1 [==============================] - 0s 4ms/step - loss: 3.7621 - mae: 3.7621\n",
      "Epoch 76/100\n",
      "1/1 [==============================] - 0s 4ms/step - loss: 3.7609 - mae: 3.7609\n",
      "Epoch 77/100\n",
      "1/1 [==============================] - 0s 4ms/step - loss: 3.7410 - mae: 3.7410\n",
      "Epoch 78/100\n",
      "1/1 [==============================] - 0s 4ms/step - loss: 3.7733 - mae: 3.7733\n",
      "Epoch 79/100\n",
      "1/1 [==============================] - 0s 4ms/step - loss: 3.7143 - mae: 3.7143\n",
      "Epoch 80/100\n",
      "1/1 [==============================] - 0s 4ms/step - loss: 3.7820 - mae: 3.7820\n",
      "Epoch 81/100\n",
      "1/1 [==============================] - 0s 4ms/step - loss: 3.7179 - mae: 3.7179\n",
      "Epoch 82/100\n",
      "1/1 [==============================] - 0s 4ms/step - loss: 3.7593 - mae: 3.7593\n",
      "Epoch 83/100\n",
      "1/1 [==============================] - 0s 4ms/step - loss: 3.7265 - mae: 3.7265\n",
      "Epoch 84/100\n",
      "1/1 [==============================] - 0s 4ms/step - loss: 3.7326 - mae: 3.7326\n",
      "Epoch 85/100\n",
      "1/1 [==============================] - 0s 4ms/step - loss: 3.7391 - mae: 3.7391\n",
      "Epoch 86/100\n",
      "1/1 [==============================] - 0s 4ms/step - loss: 3.7111 - mae: 3.7111\n",
      "Epoch 87/100\n",
      "1/1 [==============================] - 0s 4ms/step - loss: 3.7501 - mae: 3.7501\n",
      "Epoch 88/100\n",
      "1/1 [==============================] - 0s 4ms/step - loss: 3.6865 - mae: 3.6865\n",
      "Epoch 89/100\n"
     ]
    },
    {
     "name": "stdout",
     "output_type": "stream",
     "text": [
      "1/1 [==============================] - 0s 4ms/step - loss: 3.7555 - mae: 3.7555\n",
      "Epoch 90/100\n",
      "1/1 [==============================] - 0s 4ms/step - loss: 3.6952 - mae: 3.6952\n",
      "Epoch 91/100\n",
      "1/1 [==============================] - 0s 4ms/step - loss: 3.7286 - mae: 3.7286\n",
      "Epoch 92/100\n",
      "1/1 [==============================] - 0s 4ms/step - loss: 3.7041 - mae: 3.7041\n",
      "Epoch 93/100\n",
      "1/1 [==============================] - 0s 4ms/step - loss: 3.7016 - mae: 3.7016\n",
      "Epoch 94/100\n",
      "1/1 [==============================] - 0s 5ms/step - loss: 3.7183 - mae: 3.7183\n",
      "Epoch 95/100\n",
      "1/1 [==============================] - 0s 4ms/step - loss: 3.6798 - mae: 3.6798\n",
      "Epoch 96/100\n",
      "1/1 [==============================] - 0s 4ms/step - loss: 3.7280 - mae: 3.7280\n",
      "Epoch 97/100\n",
      "1/1 [==============================] - 0s 4ms/step - loss: 3.6646 - mae: 3.6646\n",
      "Epoch 98/100\n",
      "1/1 [==============================] - 0s 4ms/step - loss: 3.7239 - mae: 3.7239\n",
      "Epoch 99/100\n",
      "1/1 [==============================] - 0s 4ms/step - loss: 3.6735 - mae: 3.6735\n",
      "Epoch 100/100\n",
      "1/1 [==============================] - 0s 5ms/step - loss: 3.6967 - mae: 3.6967\n"
     ]
    },
    {
     "data": {
      "text/plain": [
       "<tensorflow.python.keras.callbacks.History at 0x15728edc0>"
      ]
     },
     "execution_count": 16,
     "metadata": {},
     "output_type": "execute_result"
    }
   ],
   "source": [
    "# Set random seed\n",
    "tf.random.set_seed(42)\n",
    "\n",
    "# Create a model (same as above)\n",
    "model = tf.keras.Sequential([\n",
    "  tf.keras.layers.Dense(100, activation=\"relu\"),\n",
    "  tf.keras.layers.Dense(1)\n",
    "])\n",
    "\n",
    "# Compile model (same as above)\n",
    "model.compile(loss=tf.keras.losses.mae,\n",
    "              optimizer=tf.keras.optimizers.SGD(),\n",
    "              metrics=[\"mae\"])\n",
    "\n",
    "# Fit model (this time we'll train for longer)\n",
    "model.fit(tf.expand_dims(X, axis=-1), y, epochs=100)"
   ]
  },
  {
   "cell_type": "code",
   "execution_count": 17,
   "id": "63387e53",
   "metadata": {},
   "outputs": [
    {
     "name": "stderr",
     "output_type": "stream",
     "text": [
      "2022-12-06 10:09:15.240491: I tensorflow/core/grappler/optimizers/custom_graph_optimizer_registry.cc:112] Plugin optimizer for device_type GPU is enabled.\n"
     ]
    },
    {
     "data": {
      "text/plain": [
       "array([[32.413616]], dtype=float32)"
      ]
     },
     "execution_count": 17,
     "metadata": {},
     "output_type": "execute_result"
    }
   ],
   "source": [
    "model.predict([17.0])"
   ]
  },
  {
   "cell_type": "markdown",
   "id": "0a1d05fb",
   "metadata": {},
   "source": [
    "this shows overfitting of the data as the previous model actually predicted better. \n",
    "\n",
    "Now we've trained a model, how could we evaluate it?"
   ]
  },
  {
   "cell_type": "markdown",
   "id": "334cec9f",
   "metadata": {},
   "source": [
    "## Evaluating a model\n",
    "\n",
    "A typical workflow you'll go through when building neural networks is:\n",
    "\n",
    "**Build a model -> evaluate it -> build (tweak) a model -> evaulate it -> build (tweak) a model -> evaluate it...**\n",
    "\n",
    "The tweaking comes from maybe not building a model from scratch but adjusting an existing one.\n",
    "\n",
    "**Visualize, visualize, visualize**\n",
    "\n",
    "When it comes to evaluation, you'll want to remember the words: \"visualize, visualize, visualize.\"\n",
    "\n",
    "This is because you're probably better looking at something (doing) than you are thinking about something.\n",
    "\n",
    "It's a good idea to visualize:\n",
    "\n",
    "* **The data** - what data are you working with? What does it look like?\n",
    "* **The model itself** - what does the architecture look like? What are the different shapes?\n",
    "* **The training of a model** - how does a model perform while it learns?\n",
    "* **The predictions of a model** - how do the predictions of a model line up against the ground truth (the original labels)?\n",
    "\n",
    "**Let's start by visualizing the model.**\n",
    "\n",
    "But first, we'll create a little bit of a bigger dataset and a new model we can use (it'll be the same as before, but the more practice the better)."
   ]
  },
  {
   "cell_type": "code",
   "execution_count": 18,
   "id": "d7cf5fcf",
   "metadata": {},
   "outputs": [
    {
     "data": {
      "text/plain": [
       "<tf.Tensor: shape=(50,), dtype=int32, numpy=\n",
       "array([-100,  -96,  -92,  -88,  -84,  -80,  -76,  -72,  -68,  -64,  -60,\n",
       "        -56,  -52,  -48,  -44,  -40,  -36,  -32,  -28,  -24,  -20,  -16,\n",
       "        -12,   -8,   -4,    0,    4,    8,   12,   16,   20,   24,   28,\n",
       "         32,   36,   40,   44,   48,   52,   56,   60,   64,   68,   72,\n",
       "         76,   80,   84,   88,   92,   96], dtype=int32)>"
      ]
     },
     "execution_count": 18,
     "metadata": {},
     "output_type": "execute_result"
    }
   ],
   "source": [
    "# Make a bigger dataset\n",
    "X = tf.range(-100, 100, 4)\n",
    "X"
   ]
  },
  {
   "cell_type": "code",
   "execution_count": 19,
   "id": "b93a4b53",
   "metadata": {},
   "outputs": [
    {
     "data": {
      "text/plain": [
       "<tf.Tensor: shape=(50,), dtype=int32, numpy=\n",
       "array([-90, -86, -82, -78, -74, -70, -66, -62, -58, -54, -50, -46, -42,\n",
       "       -38, -34, -30, -26, -22, -18, -14, -10,  -6,  -2,   2,   6,  10,\n",
       "        14,  18,  22,  26,  30,  34,  38,  42,  46,  50,  54,  58,  62,\n",
       "        66,  70,  74,  78,  82,  86,  90,  94,  98, 102, 106], dtype=int32)>"
      ]
     },
     "execution_count": 19,
     "metadata": {},
     "output_type": "execute_result"
    }
   ],
   "source": [
    "# Make labels for the dataset (adhering to the same pattern as before)\n",
    "y = X + 10\n",
    "y"
   ]
  },
  {
   "cell_type": "code",
   "execution_count": 21,
   "id": "c3b98820",
   "metadata": {},
   "outputs": [
    {
     "data": {
      "text/plain": [
       "<matplotlib.collections.PathCollection at 0x1570ea7f0>"
      ]
     },
     "execution_count": 21,
     "metadata": {},
     "output_type": "execute_result"
    },
    {
     "data": {
      "image/png": "[encoded data removed]",
      "text/plain": [
       "<Figure size 640x480 with 1 Axes>"
      ]
     },
     "metadata": {},
     "output_type": "display_data"
    }
   ],
   "source": [
    "#Visualize the data\n",
    "import matplotlib.pyplot as plt\n",
    "\n",
    "plt.scatter(X,y)"
   ]
  },
  {
   "cell_type": "markdown",
   "id": "7d22eb7f",
   "metadata": {},
   "source": [
    "## Split data into training/test set\n",
    "\n",
    "One of the other most common and important steps in a machine learning project is creating a training and test set (and when required, a validation set).\n",
    "\n",
    "Each set serves a specific purpose:\n",
    "\n",
    "* **Training set** - the model learns from this data, which is typically 70-80% of the total data available (like the course materials you study during the semester).\n",
    "* **Validation set** - the model gets tuned on this data, which is typically 10-15% of the total data available (like the practice exam you take before the final exam).\n",
    "* **Test set** - the model gets evaluated on this data to test what it has learned, it's typically 10-15% of the total data available (like the final exam you take at the end of the semester).\n",
    "\n",
    "For now, we'll just use a training and test set, this means we'll have a dataset for our model to learn on as well as be evaluated on.\n",
    "\n",
    "We can create them by splitting our X and y arrays.\n",
    "\n",
    "🔑 Note: When dealing with real-world data, this step is typically done right at the start of a project (the test set should always be kept separate from all other data). We want our model to learn on training data and then evaluate it on test data to get an indication of how well it generalizes to unseen examples."
   ]
  },
  {
   "cell_type": "code",
   "execution_count": 22,
   "id": "c4570c64",
   "metadata": {},
   "outputs": [
    {
     "data": {
      "text/plain": [
       "50"
      ]
     },
     "execution_count": 22,
     "metadata": {},
     "output_type": "execute_result"
    }
   ],
   "source": [
    "# Check how many samples we have\n",
    "len(X)"
   ]
  },
  {
   "cell_type": "code",
   "execution_count": 23,
   "id": "9165b851",
   "metadata": {},
   "outputs": [
    {
     "data": {
      "text/plain": [
       "(40, 10, 40, 10)"
      ]
     },
     "execution_count": 23,
     "metadata": {},
     "output_type": "execute_result"
    }
   ],
   "source": [
    "# Split data into train and test sets\n",
    "X_train = X[:40] # first 40 examples (80% of data)\n",
    "y_train = y[:40]\n",
    "\n",
    "X_test = X[40:] # last 10 examples (20% of data)\n",
    "y_test = y[40:]\n",
    "\n",
    "len(X_train), len(X_test), len(y_train), len(y_test)"
   ]
  },
  {
   "cell_type": "markdown",
   "id": "71b3c9d9",
   "metadata": {},
   "source": [
    "## Visualizing the data\n",
    "\n",
    "Now we've got our training and test data, it's a good idea to visualize it.\n",
    "\n",
    "Let's plot it with some nice colours to differentiate what's what."
   ]
  },
  {
   "cell_type": "code",
   "execution_count": 24,
   "id": "f86c657c",
   "metadata": {},
   "outputs": [
    {
     "data": {
      "image/png": "[encoded data removed]",
      "text/plain": [
       "<Figure size 1000x700 with 1 Axes>"
      ]
     },
     "metadata": {},
     "output_type": "display_data"
    }
   ],
   "source": [
    "plt.figure(figsize=(10, 7))\n",
    "# Plot training data in blue\n",
    "plt.scatter(X_train, y_train, c='b', label='Training data')\n",
    "# Plot test data in green\n",
    "plt.scatter(X_test, y_test, c='g', label='Testing data')\n",
    "# Show the legend\n",
    "plt.legend();"
   ]
  },
  {
   "cell_type": "markdown",
   "id": "9fd33712",
   "metadata": {},
   "source": [
    "Beautiful! Any time you can visualize your data, your model, your anything, it's a good idea.\n",
    "\n",
    "With this graph in mind, what we'll be trying to do is build a model which learns the pattern in the blue dots (X_train) to draw the green dots (X_test).\n",
    "\n",
    "Time to build a model. We'll make the exact same one from before (the one we trained for longer)."
   ]
  },
  {
   "cell_type": "code",
   "execution_count": 25,
   "id": "75abd9c1",
   "metadata": {},
   "outputs": [],
   "source": [
    "# Set random seed\n",
    "tf.random.set_seed(42)\n",
    "\n",
    "# Create a model (same as above)\n",
    "model = tf.keras.Sequential([\n",
    "  tf.keras.layers.Dense(1)\n",
    "])\n",
    "\n",
    "# Compile model (same as above)\n",
    "model.compile(loss=tf.keras.losses.mae,\n",
    "              optimizer=tf.keras.optimizers.SGD(),\n",
    "              metrics=[\"mae\"])\n",
    "\n",
    "# Fit model (same as above)\n",
    "#model.fit(X_train, y_train, epochs=100) # commented out on purpose (not fitting it just yet)"
   ]
  },
  {
   "cell_type": "markdown",
   "id": "aa5ac3dd",
   "metadata": {},
   "source": [
    "Visualizing the model\n",
    "\n",
    "After you've built a model, you might want to take a look at it (especially if you haven't built many before).\n",
    "\n",
    "You can take a look at the layers and shapes of your model by calling summary() on it.\n",
    "\n",
    "🔑 Note: Visualizing a model is particularly helpful when you run into input and output shape mismatches."
   ]
  },
  {
   "cell_type": "code",
   "execution_count": 26,
   "id": "23dea8b5",
   "metadata": {},
   "outputs": [
    {
     "ename": "ValueError",
     "evalue": "This model has not yet been built. Build the model first by calling `build()` or calling `fit()` with some data, or specify an `input_shape` argument in the first layer(s) for automatic build.",
     "output_type": "error",
     "traceback": [
      "\u001b[0;31m---------------------------------------------------------------------------\u001b[0m",
      "\u001b[0;31mValueError\u001b[0m                                Traceback (most recent call last)",
      "Cell \u001b[0;32mIn [26], line 1\u001b[0m\n\u001b[0;32m----> 1\u001b[0m \u001b[43mmodel\u001b[49m\u001b[38;5;241;43m.\u001b[39;49m\u001b[43msummary\u001b[49m\u001b[43m(\u001b[49m\u001b[43m)\u001b[49m\n",
      "File \u001b[0;32m/opt/homebrew/Caskroom/miniforge/base/envs/tensorflow/lib/python3.9/site-packages/tensorflow/python/keras/engine/training.py:2477\u001b[0m, in \u001b[0;36mModel.summary\u001b[0;34m(self, line_length, positions, print_fn)\u001b[0m\n\u001b[1;32m   2459\u001b[0m \u001b[38;5;124;03m\"\"\"Prints a string summary of the network.\u001b[39;00m\n\u001b[1;32m   2460\u001b[0m \n\u001b[1;32m   2461\u001b[0m \u001b[38;5;124;03mArgs:\u001b[39;00m\n\u001b[0;32m   (...)\u001b[0m\n\u001b[1;32m   2474\u001b[0m \u001b[38;5;124;03m    ValueError: if `summary()` is called before the model is built.\u001b[39;00m\n\u001b[1;32m   2475\u001b[0m \u001b[38;5;124;03m\"\"\"\u001b[39;00m\n\u001b[1;32m   2476\u001b[0m \u001b[38;5;28;01mif\u001b[39;00m \u001b[38;5;129;01mnot\u001b[39;00m \u001b[38;5;28mself\u001b[39m\u001b[38;5;241m.\u001b[39mbuilt:\n\u001b[0;32m-> 2477\u001b[0m   \u001b[38;5;28;01mraise\u001b[39;00m \u001b[38;5;167;01mValueError\u001b[39;00m(\u001b[38;5;124m'\u001b[39m\u001b[38;5;124mThis model has not yet been built. \u001b[39m\u001b[38;5;124m'\u001b[39m\n\u001b[1;32m   2478\u001b[0m                    \u001b[38;5;124m'\u001b[39m\u001b[38;5;124mBuild the model first by calling `build()` or calling \u001b[39m\u001b[38;5;124m'\u001b[39m\n\u001b[1;32m   2479\u001b[0m                    \u001b[38;5;124m'\u001b[39m\u001b[38;5;124m`fit()` with some data, or specify \u001b[39m\u001b[38;5;124m'\u001b[39m\n\u001b[1;32m   2480\u001b[0m                    \u001b[38;5;124m'\u001b[39m\u001b[38;5;124man `input_shape` argument in the first layer(s) for \u001b[39m\u001b[38;5;124m'\u001b[39m\n\u001b[1;32m   2481\u001b[0m                    \u001b[38;5;124m'\u001b[39m\u001b[38;5;124mautomatic build.\u001b[39m\u001b[38;5;124m'\u001b[39m)\n\u001b[1;32m   2482\u001b[0m layer_utils\u001b[38;5;241m.\u001b[39mprint_summary(\u001b[38;5;28mself\u001b[39m,\n\u001b[1;32m   2483\u001b[0m                           line_length\u001b[38;5;241m=\u001b[39mline_length,\n\u001b[1;32m   2484\u001b[0m                           positions\u001b[38;5;241m=\u001b[39mpositions,\n\u001b[1;32m   2485\u001b[0m                           print_fn\u001b[38;5;241m=\u001b[39mprint_fn)\n",
      "\u001b[0;31mValueError\u001b[0m: This model has not yet been built. Build the model first by calling `build()` or calling `fit()` with some data, or specify an `input_shape` argument in the first layer(s) for automatic build."
     ]
    }
   ],
   "source": [
    "model.summary()"
   ]
  },
  {
   "cell_type": "markdown",
   "id": "20a0d5f8",
   "metadata": {},
   "source": [
    "Ahh, the cell above errors because we haven't fit our built our model.\n",
    "\n",
    "We also haven't told it what input shape it should be expecting.\n",
    "\n",
    "Remember above, how we discussed the input shape was just one number?\n",
    "\n",
    "We can let our model know the input shape of our data using the input_shape parameter to the first layer (usually if input_shape isn't defined, Keras tries to figure it out automatically)."
   ]
  },
  {
   "cell_type": "code",
   "execution_count": 27,
   "id": "533ee277",
   "metadata": {},
   "outputs": [],
   "source": [
    "# Set random seed\n",
    "tf.random.set_seed(42)\n",
    "\n",
    "# Create a model (same as above)\n",
    "model = tf.keras.Sequential([\n",
    "  tf.keras.layers.Dense(1, input_shape=[1]) # define the input_shape to our model\n",
    "])\n",
    "\n",
    "# Compile model (same as above)\n",
    "model.compile(loss=tf.keras.losses.mae,\n",
    "              optimizer=tf.keras.optimizers.SGD(),\n",
    "              metrics=[\"mae\"])"
   ]
  },
  {
   "cell_type": "code",
   "execution_count": 28,
   "id": "8acbf497",
   "metadata": {},
   "outputs": [
    {
     "name": "stdout",
     "output_type": "stream",
     "text": [
      "Model: \"sequential_4\"\n",
      "_________________________________________________________________\n",
      "Layer (type)                 Output Shape              Param #   \n",
      "=================================================================\n",
      "dense_5 (Dense)              (None, 1)                 2         \n",
      "=================================================================\n",
      "Total params: 2\n",
      "Trainable params: 2\n",
      "Non-trainable params: 0\n",
      "_________________________________________________________________\n"
     ]
    }
   ],
   "source": [
    "model.summary()"
   ]
  },
  {
   "cell_type": "markdown",
   "id": "f9a4f2d6",
   "metadata": {},
   "source": [
    "Calling summary() on our model shows us the layers it contains, the output shape and the number of parameters.\n",
    "\n",
    "Total params - total number of parameters in the model.\n",
    "Trainable parameters - these are the parameters (patterns) the model can update as it trains.\n",
    "Non-trainable parameters - these parameters aren't updated during training (this is typical when you bring in the already learned patterns from other models during transfer learning).\n",
    "📖 Resource: For a more in-depth overview of the trainable parameters within a layer, check out MIT's introduction to deep learning video.\n",
    "\n",
    "🛠 Exercise: Try playing around with the number of hidden units in the Dense layer (e.g. Dense(2), Dense(3)). How does this change the Total/Trainable params? Investigate what's causing the change.\n",
    "\n",
    "For now, all you need to think about these parameters is that their learnable patterns in the data.\n",
    "\n",
    "Let's fit our model to the training data."
   ]
  },
  {
   "cell_type": "code",
   "execution_count": 29,
   "id": "f1adf98a",
   "metadata": {},
   "outputs": [
    {
     "name": "stderr",
     "output_type": "stream",
     "text": [
      "2022-12-06 10:29:38.262231: I tensorflow/core/grappler/optimizers/custom_graph_optimizer_registry.cc:112] Plugin optimizer for device_type GPU is enabled.\n"
     ]
    },
    {
     "data": {
      "text/plain": [
       "<tensorflow.python.keras.callbacks.History at 0x15f42eac0>"
      ]
     },
     "execution_count": 29,
     "metadata": {},
     "output_type": "execute_result"
    }
   ],
   "source": [
    "# Fit the model to the training data\n",
    "model.fit(X_train, y_train, epochs=100, verbose=0) # verbose controls how much gets output"
   ]
  },
  {
   "cell_type": "code",
   "execution_count": 30,
   "id": "5d1e8f17",
   "metadata": {},
   "outputs": [
    {
     "name": "stdout",
     "output_type": "stream",
     "text": [
      "Model: \"sequential_4\"\n",
      "_________________________________________________________________\n",
      "Layer (type)                 Output Shape              Param #   \n",
      "=================================================================\n",
      "dense_5 (Dense)              (None, 1)                 2         \n",
      "=================================================================\n",
      "Total params: 2\n",
      "Trainable params: 2\n",
      "Non-trainable params: 0\n",
      "_________________________________________________________________\n"
     ]
    }
   ],
   "source": [
    "# Check the model summary\n",
    "model.summary()"
   ]
  },
  {
   "cell_type": "markdown",
   "id": "e5f45ba4",
   "metadata": {},
   "source": [
    "Alongside summary, you can also view a 2D plot of the model using plot_model()."
   ]
  },
  {
   "cell_type": "code",
   "execution_count": 33,
   "id": "322ce229",
   "metadata": {},
   "outputs": [
    {
     "name": "stdout",
     "output_type": "stream",
     "text": [
      "('You must install pydot (`pip install pydot`) and install graphviz (see instructions at https://graphviz.gitlab.io/download/) ', 'for plot_model/model_to_dot to work.')\n"
     ]
    }
   ],
   "source": [
    "from tensorflow.keras.utils import plot_model\n",
    "\n",
    "plot_model(model, show_shapes=True)"
   ]
  },
  {
   "cell_type": "markdown",
   "id": "9d3ac4ab",
   "metadata": {},
   "source": [
    "## Visualizing the predictions\n",
    "\n",
    "Now we've got a trained model, let's visualize some predictions.\n",
    "\n",
    "To visualize predictions, it's always a good idea to plot them against the ground truth labels.\n",
    "\n",
    "Often you'll see this in the form of **y_test vs. y_pred (ground truth vs. predictions)**.\n",
    "\n",
    "First, we'll make some predictions on the test data (X_test), remember the model has never seen the test data."
   ]
  },
  {
   "cell_type": "code",
   "execution_count": 34,
   "id": "c2af0b25",
   "metadata": {},
   "outputs": [
    {
     "name": "stderr",
     "output_type": "stream",
     "text": [
      "2022-12-06 10:47:50.700413: I tensorflow/core/grappler/optimizers/custom_graph_optimizer_registry.cc:112] Plugin optimizer for device_type GPU is enabled.\n"
     ]
    }
   ],
   "source": [
    "# Make predictions\n",
    "y_preds = model.predict(X_test)"
   ]
  },
  {
   "cell_type": "code",
   "execution_count": 35,
   "id": "e3042e8e",
   "metadata": {},
   "outputs": [
    {
     "data": {
      "text/plain": [
       "array([[ 74.62895],\n",
       "       [ 79.51876],\n",
       "       [ 84.40857],\n",
       "       [ 89.29837],\n",
       "       [ 94.18818],\n",
       "       [ 99.07798],\n",
       "       [103.96779],\n",
       "       [108.85759],\n",
       "       [113.7474 ],\n",
       "       [118.63721]], dtype=float32)"
      ]
     },
     "execution_count": 35,
     "metadata": {},
     "output_type": "execute_result"
    }
   ],
   "source": [
    "# View the predictions\n",
    "y_preds"
   ]
  },
  {
   "cell_type": "markdown",
   "id": "689cac2e",
   "metadata": {},
   "source": [
    "Okay, we get a list of numbers but how do these compare to the ground truth labels?\n",
    "\n",
    "Let's build a plotting function to find out.\n",
    "\n",
    "🔑 Note: If you think you're going to be visualizing something a lot, it's a good idea to functionize it so you can use it later."
   ]
  },
  {
   "cell_type": "code",
   "execution_count": 36,
   "id": "e1ac01f6",
   "metadata": {},
   "outputs": [],
   "source": [
    "def plot_predictions(train_data=X_train, \n",
    "                     train_labels=y_train, \n",
    "                     test_data=X_test, \n",
    "                     test_labels=y_test, \n",
    "                     predictions=y_preds):\n",
    "    \"\"\"\n",
    "      Plots training data, test data and compares predictions.\n",
    "    \"\"\"\n",
    "    plt.figure(figsize=(10, 7))\n",
    "    # Plot training data in blue\n",
    "    plt.scatter(train_data, train_labels, c=\"b\", label=\"Training data\")\n",
    "    # Plot test data in green\n",
    "    plt.scatter(test_data, test_labels, c=\"g\", label=\"Testing data\")\n",
    "    # Plot the predictions in red (predictions were made on the test data)\n",
    "    plt.scatter(test_data, predictions, c=\"r\", label=\"Predictions\")\n",
    "    # Show the legend\n",
    "    plt.legend();\n",
    "    "
   ]
  },
  {
   "cell_type": "code",
   "execution_count": 37,
   "id": "85ce15eb",
   "metadata": {},
   "outputs": [
    {
     "data": {
      "image/png": "[encoded data removed]",
      "text/plain": [
       "<Figure size 1000x700 with 1 Axes>"
      ]
     },
     "metadata": {},
     "output_type": "display_data"
    }
   ],
   "source": [
    "plot_predictions(train_data=X_train,\n",
    "                 train_labels=y_train,\n",
    "                 test_data=X_test,\n",
    "                 test_labels=y_test,\n",
    "                 predictions=y_preds)"
   ]
  },
  {
   "cell_type": "markdown",
   "id": "af0e66b4",
   "metadata": {},
   "source": [
    "From the plot we can see our predictions aren't totally outlandish but they definitely aren't anything special either."
   ]
  },
  {
   "cell_type": "markdown",
   "id": "cfddacef",
   "metadata": {},
   "source": [
    "## Evaluating predictions\n",
    "\n",
    "Alongisde visualizations, evaulation metrics are your alternative best option for evaluating your model.\n",
    "\n",
    "Depending on the problem you're working on, different models have different evaluation metrics.\n",
    "\n",
    "Two of the main metrics used for regression problems are:\n",
    "\n",
    "* **Mean absolute error (MAE)** - the mean difference between each of the predictions.\n",
    "* **Mean squared error (MSE)** - the squared mean difference between of the predictions (use if larger errors are more detrimental than smaller errors).\n",
    "\n",
    "The lower each of these values, the better.\n",
    "\n",
    "You can also use **model.evaluate()** which will return the loss of the model as well as any metrics setup during the compile step."
   ]
  },
  {
   "cell_type": "code",
   "execution_count": 38,
   "id": "4dd8e616",
   "metadata": {},
   "outputs": [
    {
     "name": "stdout",
     "output_type": "stream",
     "text": [
      "1/1 [==============================] - 0s 65ms/step - loss: 8.6331 - mae: 8.6331\n"
     ]
    },
    {
     "name": "stderr",
     "output_type": "stream",
     "text": [
      "2022-12-06 10:54:08.287500: I tensorflow/core/grappler/optimizers/custom_graph_optimizer_registry.cc:112] Plugin optimizer for device_type GPU is enabled.\n"
     ]
    },
    {
     "data": {
      "text/plain": [
       "[8.633079528808594, 8.633079528808594]"
      ]
     },
     "execution_count": 38,
     "metadata": {},
     "output_type": "execute_result"
    }
   ],
   "source": [
    "# Evaluate the model on the test set\n",
    "model.evaluate(X_test, y_test)"
   ]
  },
  {
   "cell_type": "markdown",
   "id": "de549948",
   "metadata": {},
   "source": [
    "In our case, since we used MAE for the loss function as well as MAE for the metrics, model.evaulate() returns them both.\n",
    "\n",
    "TensorFlow also has built in functions for MSE and MAE.\n",
    "\n",
    "For many evaluation functions, the premise is the same: compare predictions to the ground truth labels."
   ]
  },
  {
   "cell_type": "code",
   "execution_count": 39,
   "id": "069afd28",
   "metadata": {},
   "outputs": [
    {
     "data": {
      "text/plain": [
       "<tf.Tensor: shape=(10,), dtype=float32, numpy=\n",
       "array([14.422629, 11.792496, 10.318286, 10.      , 10.875272, 13.046788,\n",
       "       16.374231, 20.85759 , 25.7474  , 30.637207], dtype=float32)>"
      ]
     },
     "execution_count": 39,
     "metadata": {},
     "output_type": "execute_result"
    }
   ],
   "source": [
    "# Calculate the mean absolute error\n",
    "mae = tf.metrics.mean_absolute_error(y_true=y_test, \n",
    "                                     y_pred=y_preds)\n",
    "mae"
   ]
  },
  {
   "cell_type": "markdown",
   "id": "f4afad19",
   "metadata": {},
   "source": [
    "Huh? That's strange, MAE should be a single output.\n",
    "\n",
    "Instead, we get 10 values.\n",
    "\n",
    "This is because our y_test and y_preds tensors are different shapes."
   ]
  },
  {
   "cell_type": "code",
   "execution_count": 40,
   "id": "57eed8d8",
   "metadata": {},
   "outputs": [
    {
     "data": {
      "text/plain": [
       "<tf.Tensor: shape=(10,), dtype=int32, numpy=array([ 70,  74,  78,  82,  86,  90,  94,  98, 102, 106], dtype=int32)>"
      ]
     },
     "execution_count": 40,
     "metadata": {},
     "output_type": "execute_result"
    }
   ],
   "source": [
    "# Check the test label tensor values\n",
    "y_test"
   ]
  },
  {
   "cell_type": "code",
   "execution_count": 41,
   "id": "8534758b",
   "metadata": {},
   "outputs": [
    {
     "data": {
      "text/plain": [
       "array([[ 74.62895],\n",
       "       [ 79.51876],\n",
       "       [ 84.40857],\n",
       "       [ 89.29837],\n",
       "       [ 94.18818],\n",
       "       [ 99.07798],\n",
       "       [103.96779],\n",
       "       [108.85759],\n",
       "       [113.7474 ],\n",
       "       [118.63721]], dtype=float32)"
      ]
     },
     "execution_count": 41,
     "metadata": {},
     "output_type": "execute_result"
    }
   ],
   "source": [
    "# Check the predictions tensor values (notice the extra square brackets)\n",
    "y_preds"
   ]
  },
  {
   "cell_type": "code",
   "execution_count": 42,
   "id": "1a83b01d",
   "metadata": {},
   "outputs": [
    {
     "data": {
      "text/plain": [
       "(TensorShape([10]), (10, 1))"
      ]
     },
     "execution_count": 42,
     "metadata": {},
     "output_type": "execute_result"
    }
   ],
   "source": [
    "# Check the tensor shapes\n",
    "y_test.shape, y_preds.shape"
   ]
  },
  {
   "cell_type": "markdown",
   "id": "134721f0",
   "metadata": {},
   "source": [
    "Remember how we discussed dealing with different input and output shapes is one the most common issues you'll come across, this is one of those times.\n",
    "\n",
    "But not to worry.\n",
    "\n",
    "We can fix it using squeeze(), it'll remove the the 1 dimension from our y_preds tensor, making it the same shape as y_test.\n",
    "\n",
    "🔑 Note: If you're comparing two tensors, it's important to make sure they're the right shape(s) (you won't always have to manipulate the shapes, but always be on the look out, many errors are the result of mismatched tensors, especially mismatched input and output shapes)."
   ]
  },
  {
   "cell_type": "code",
   "execution_count": 43,
   "id": "3ed562a5",
   "metadata": {},
   "outputs": [
    {
     "data": {
      "text/plain": [
       "(10,)"
      ]
     },
     "execution_count": 43,
     "metadata": {},
     "output_type": "execute_result"
    }
   ],
   "source": [
    "# Shape after squeeze()\n",
    "y_preds.squeeze().shape"
   ]
  },
  {
   "cell_type": "code",
   "execution_count": 44,
   "id": "19451169",
   "metadata": {},
   "outputs": [
    {
     "data": {
      "text/plain": [
       "(<tf.Tensor: shape=(10,), dtype=int32, numpy=array([ 70,  74,  78,  82,  86,  90,  94,  98, 102, 106], dtype=int32)>,\n",
       " array([ 74.62895,  79.51876,  84.40857,  89.29837,  94.18818,  99.07798,\n",
       "        103.96779, 108.85759, 113.7474 , 118.63721], dtype=float32))"
      ]
     },
     "execution_count": 44,
     "metadata": {},
     "output_type": "execute_result"
    }
   ],
   "source": [
    "# What do they look like?\n",
    "y_test, y_preds.squeeze()"
   ]
  },
  {
   "cell_type": "code",
   "execution_count": 45,
   "id": "5ec5743b",
   "metadata": {},
   "outputs": [
    {
     "data": {
      "text/plain": [
       "<tf.Tensor: shape=(), dtype=float32, numpy=8.63308>"
      ]
     },
     "execution_count": 45,
     "metadata": {},
     "output_type": "execute_result"
    }
   ],
   "source": [
    "# Calcuate the MAE\n",
    "mae = tf.metrics.mean_absolute_error(y_true=y_test, \n",
    "                                     y_pred=y_preds.squeeze()) # use squeeze() to make same shape\n",
    "mae\n",
    "     "
   ]
  },
  {
   "cell_type": "code",
   "execution_count": 46,
   "id": "7f107d48",
   "metadata": {},
   "outputs": [
    {
     "data": {
      "text/plain": [
       "<tf.Tensor: shape=(), dtype=float32, numpy=81.062035>"
      ]
     },
     "execution_count": 46,
     "metadata": {},
     "output_type": "execute_result"
    }
   ],
   "source": [
    "# Calculate the MSE\n",
    "mse = tf.metrics.mean_squared_error(y_true=y_test,\n",
    "                                    y_pred=y_preds.squeeze())\n",
    "mse"
   ]
  },
  {
   "cell_type": "code",
   "execution_count": 47,
   "id": "79146bae",
   "metadata": {},
   "outputs": [
    {
     "data": {
      "text/plain": [
       "<tf.Tensor: shape=(), dtype=int32, numpy=8>"
      ]
     },
     "execution_count": 47,
     "metadata": {},
     "output_type": "execute_result"
    }
   ],
   "source": [
    "# Returns the same as tf.metrics.mean_absolute_error()\n",
    "tf.reduce_mean(tf.abs(y_test-y_preds.squeeze()))"
   ]
  },
  {
   "cell_type": "markdown",
   "id": "248f37fa",
   "metadata": {},
   "source": [
    "Again, it's a good idea to functionize anything you think you might use over again (or find yourself using over and over again).\n",
    "\n",
    "Let's make functions for our evaluation metrics."
   ]
  },
  {
   "cell_type": "code",
   "execution_count": 48,
   "id": "9a549984",
   "metadata": {},
   "outputs": [],
   "source": [
    "def mae(y_test, y_pred):\n",
    "  \"\"\"\n",
    "  Calculuates mean absolute error between y_test and y_preds.\n",
    "  \"\"\"\n",
    "  return tf.metrics.mean_absolute_error(y_test,\n",
    "                                        y_pred)\n",
    "  \n",
    "def mse(y_test, y_pred):\n",
    "  \"\"\"\n",
    "  Calculates mean squared error between y_test and y_preds.\n",
    "  \"\"\"\n",
    "  return tf.metrics.mean_squared_error(y_test,\n",
    "                                       y_pred)"
   ]
  },
  {
   "cell_type": "markdown",
   "id": "7cda3e74",
   "metadata": {},
   "source": [
    "## Running experiments to improve a model\n",
    "\n",
    "After seeing the evaluation metrics and the predictions your model makes, it's likely you'll want to improve it.\n",
    "\n",
    "Again, there are many different ways you can do this, but 3 of the main ones are:\n",
    "\n",
    "* **Get more data** - get more examples for your model to train on (more opportunities to learn patterns).\n",
    "* **Make your model larger (use a more complex model)** - this might come in the form of more layers or more hidden units in each layer.\n",
    "* **Train for longer** - give your model more of a chance to find the patterns in the data.\n",
    "\n",
    "Since we created our dataset, we could easily make more data but this isn't always the case when you're working with real-world datasets.\n",
    "\n",
    "So let's take a look at how we can improve our model using 2 and 3.\n",
    "\n",
    "To do so, we'll build 3 models and compare their results:\n",
    "\n",
    "* model_1 - same as original model, 1 layer, trained for 100 epochs.\n",
    "* model_2 - 2 layers, trained for 100 epochs.\n",
    "* model_3 - 2 layers, trained for 500 epochs."
   ]
  },
  {
   "cell_type": "markdown",
   "id": "54981d55",
   "metadata": {},
   "source": [
    "### Build model_1"
   ]
  },
  {
   "cell_type": "code",
   "execution_count": 49,
   "id": "4532db36",
   "metadata": {},
   "outputs": [
    {
     "name": "stdout",
     "output_type": "stream",
     "text": [
      "Epoch 1/100\n",
      "2/2 [==============================] - 0s 12ms/step - loss: 67.6481 - mae: 67.6481\n",
      "Epoch 2/100\n",
      "2/2 [==============================] - 0s 4ms/step - loss: 32.4999 - mae: 32.4999\n",
      "Epoch 3/100\n",
      "2/2 [==============================] - 0s 4ms/step - loss: 9.6517 - mae: 9.6517\n",
      "Epoch 4/100\n",
      "2/2 [==============================] - 0s 5ms/step - loss: 11.7655 - mae: 11.7655\n",
      "Epoch 5/100\n",
      "2/2 [==============================] - 0s 4ms/step - loss: 10.8333 - mae: 10.8333\n",
      "Epoch 6/100\n",
      "2/2 [==============================] - 0s 6ms/step - loss: 10.0187 - mae: 10.0187\n",
      "Epoch 7/100\n",
      "2/2 [==============================] - 0s 4ms/step - loss: 9.0647 - mae: 9.0647\n",
      "Epoch 8/100\n",
      "2/2 [==============================] - 0s 6ms/step - loss: 9.1030 - mae: 9.1030\n",
      "Epoch 9/100\n",
      "2/2 [==============================] - 0s 5ms/step - loss: 19.9556 - mae: 19.9556\n",
      "Epoch 10/100\n",
      "2/2 [==============================] - 0s 4ms/step - loss: 10.7967 - mae: 10.7967\n",
      "Epoch 11/100\n",
      "2/2 [==============================] - 0s 5ms/step - loss: 8.6890 - mae: 8.6890\n",
      "Epoch 12/100\n",
      "2/2 [==============================] - 0s 5ms/step - loss: 9.6716 - mae: 9.6716\n",
      "Epoch 13/100\n",
      "2/2 [==============================] - 0s 4ms/step - loss: 13.0395 - mae: 13.0395\n",
      "Epoch 14/100\n",
      "2/2 [==============================] - 0s 4ms/step - loss: 14.1744 - mae: 14.1744\n",
      "Epoch 15/100\n",
      "2/2 [==============================] - 0s 4ms/step - loss: 11.5777 - mae: 11.5777\n",
      "Epoch 16/100\n",
      "1/2 [==============>...............] - ETA: 0s - loss: 8.0346 - mae: 8.0346"
     ]
    },
    {
     "name": "stderr",
     "output_type": "stream",
     "text": [
      "2022-12-06 11:06:30.988360: I tensorflow/core/grappler/optimizers/custom_graph_optimizer_registry.cc:112] Plugin optimizer for device_type GPU is enabled.\n"
     ]
    },
    {
     "name": "stdout",
     "output_type": "stream",
     "text": [
      "2/2 [==============================] - 0s 5ms/step - loss: 8.5112 - mae: 8.5112\n",
      "Epoch 17/100\n",
      "2/2 [==============================] - 0s 5ms/step - loss: 13.5484 - mae: 13.5484\n",
      "Epoch 18/100\n",
      "2/2 [==============================] - 0s 4ms/step - loss: 11.3499 - mae: 11.3499\n",
      "Epoch 19/100\n",
      "2/2 [==============================] - 0s 4ms/step - loss: 18.0893 - mae: 18.0893\n",
      "Epoch 20/100\n",
      "2/2 [==============================] - 0s 5ms/step - loss: 15.2227 - mae: 15.2227\n",
      "Epoch 21/100\n",
      "2/2 [==============================] - 0s 4ms/step - loss: 11.1709 - mae: 11.1709\n",
      "Epoch 22/100\n",
      "2/2 [==============================] - 0s 6ms/step - loss: 8.2951 - mae: 8.2951\n",
      "Epoch 23/100\n",
      "2/2 [==============================] - 0s 6ms/step - loss: 9.4451 - mae: 9.4451\n",
      "Epoch 24/100\n",
      "2/2 [==============================] - 0s 5ms/step - loss: 7.7110 - mae: 7.7110\n",
      "Epoch 25/100\n",
      "2/2 [==============================] - 0s 4ms/step - loss: 12.9899 - mae: 12.9899\n",
      "Epoch 26/100\n",
      "2/2 [==============================] - 0s 7ms/step - loss: 16.5918 - mae: 16.5918\n",
      "Epoch 27/100\n",
      "2/2 [==============================] - 0s 4ms/step - loss: 13.3114 - mae: 13.3114\n",
      "Epoch 28/100\n",
      "2/2 [==============================] - 0s 4ms/step - loss: 14.4381 - mae: 14.4381\n",
      "Epoch 29/100\n",
      "2/2 [==============================] - 0s 4ms/step - loss: 10.1328 - mae: 10.1328\n",
      "Epoch 30/100\n",
      "2/2 [==============================] - 0s 5ms/step - loss: 16.6003 - mae: 16.6003\n",
      "Epoch 31/100\n",
      "2/2 [==============================] - 0s 5ms/step - loss: 23.4239 - mae: 23.4239\n",
      "Epoch 32/100\n",
      "2/2 [==============================] - 0s 6ms/step - loss: 7.3843 - mae: 7.3843\n",
      "Epoch 33/100\n",
      "2/2 [==============================] - 0s 4ms/step - loss: 9.8056 - mae: 9.8056\n",
      "Epoch 34/100\n",
      "2/2 [==============================] - 0s 5ms/step - loss: 12.2381 - mae: 12.2381\n",
      "Epoch 35/100\n",
      "2/2 [==============================] - 0s 4ms/step - loss: 11.2028 - mae: 11.2028\n",
      "Epoch 36/100\n",
      "2/2 [==============================] - 0s 4ms/step - loss: 13.4492 - mae: 13.4492\n",
      "Epoch 37/100\n",
      "2/2 [==============================] - 0s 8ms/step - loss: 9.4501 - mae: 9.4501\n",
      "Epoch 38/100\n",
      "2/2 [==============================] - 0s 5ms/step - loss: 10.1002 - mae: 10.1002\n",
      "Epoch 39/100\n",
      "2/2 [==============================] - 0s 5ms/step - loss: 8.9783 - mae: 8.9783\n",
      "Epoch 40/100\n",
      "2/2 [==============================] - 0s 4ms/step - loss: 9.6053 - mae: 9.6053\n",
      "Epoch 41/100\n",
      "2/2 [==============================] - 0s 6ms/step - loss: 10.5631 - mae: 10.5631\n",
      "Epoch 42/100\n",
      "2/2 [==============================] - 0s 6ms/step - loss: 10.6139 - mae: 10.6139\n",
      "Epoch 43/100\n",
      "2/2 [==============================] - 0s 4ms/step - loss: 7.2289 - mae: 7.2289\n",
      "Epoch 44/100\n",
      "2/2 [==============================] - 0s 5ms/step - loss: 8.0209 - mae: 8.0209\n",
      "Epoch 45/100\n",
      "2/2 [==============================] - 0s 5ms/step - loss: 9.8183 - mae: 9.8183\n",
      "Epoch 46/100\n",
      "2/2 [==============================] - 0s 7ms/step - loss: 8.8952 - mae: 8.8952\n",
      "Epoch 47/100\n",
      "2/2 [==============================] - 0s 8ms/step - loss: 7.5887 - mae: 7.5887\n",
      "Epoch 48/100\n",
      "2/2 [==============================] - 0s 4ms/step - loss: 8.5757 - mae: 8.5757\n",
      "Epoch 49/100\n",
      "2/2 [==============================] - 0s 4ms/step - loss: 10.0260 - mae: 10.0260\n",
      "Epoch 50/100\n",
      "2/2 [==============================] - 0s 7ms/step - loss: 9.0252 - mae: 9.0252\n",
      "Epoch 51/100\n",
      "2/2 [==============================] - 0s 4ms/step - loss: 10.6982 - mae: 10.6982\n",
      "Epoch 52/100\n",
      "2/2 [==============================] - 0s 5ms/step - loss: 15.2989 - mae: 15.2989\n",
      "Epoch 53/100\n",
      "2/2 [==============================] - 0s 4ms/step - loss: 14.3215 - mae: 14.3215\n",
      "Epoch 54/100\n",
      "2/2 [==============================] - 0s 4ms/step - loss: 21.5986 - mae: 21.5986\n",
      "Epoch 55/100\n",
      "2/2 [==============================] - 0s 4ms/step - loss: 16.0188 - mae: 16.0188\n",
      "Epoch 56/100\n",
      "2/2 [==============================] - 0s 4ms/step - loss: 10.2872 - mae: 10.2872\n",
      "Epoch 57/100\n",
      "2/2 [==============================] - 0s 6ms/step - loss: 9.7936 - mae: 9.7936\n",
      "Epoch 58/100\n",
      "2/2 [==============================] - 0s 4ms/step - loss: 9.0788 - mae: 9.0788\n",
      "Epoch 59/100\n",
      "2/2 [==============================] - 0s 4ms/step - loss: 8.2810 - mae: 8.2810\n",
      "Epoch 60/100\n",
      "2/2 [==============================] - 0s 5ms/step - loss: 9.3785 - mae: 9.3785\n",
      "Epoch 61/100\n",
      "2/2 [==============================] - 0s 4ms/step - loss: 11.1943 - mae: 11.1943\n",
      "Epoch 62/100\n",
      "2/2 [==============================] - 0s 4ms/step - loss: 12.0756 - mae: 12.0756\n",
      "Epoch 63/100\n",
      "2/2 [==============================] - 0s 4ms/step - loss: 7.2864 - mae: 7.2864\n",
      "Epoch 64/100\n",
      "2/2 [==============================] - 0s 4ms/step - loss: 12.4537 - mae: 12.4537\n",
      "Epoch 65/100\n",
      "2/2 [==============================] - 0s 5ms/step - loss: 10.5302 - mae: 10.5302\n",
      "Epoch 66/100\n",
      "2/2 [==============================] - 0s 4ms/step - loss: 15.6071 - mae: 15.6071\n",
      "Epoch 67/100\n",
      "2/2 [==============================] - 0s 3ms/step - loss: 10.0155 - mae: 10.0155\n",
      "Epoch 68/100\n",
      "2/2 [==============================] - 0s 4ms/step - loss: 8.7336 - mae: 8.7336\n",
      "Epoch 69/100\n",
      "2/2 [==============================] - 0s 4ms/step - loss: 13.4850 - mae: 13.4850\n",
      "Epoch 70/100\n",
      "2/2 [==============================] - 0s 4ms/step - loss: 7.4866 - mae: 7.4866\n",
      "Epoch 71/100\n",
      "2/2 [==============================] - 0s 3ms/step - loss: 12.2571 - mae: 12.2571\n",
      "Epoch 72/100\n",
      "2/2 [==============================] - 0s 4ms/step - loss: 8.5400 - mae: 8.5400\n",
      "Epoch 73/100\n",
      "2/2 [==============================] - 0s 4ms/step - loss: 7.0551 - mae: 7.0551\n",
      "Epoch 74/100\n",
      "2/2 [==============================] - 0s 3ms/step - loss: 9.9294 - mae: 9.9294\n",
      "Epoch 75/100\n",
      "2/2 [==============================] - 0s 4ms/step - loss: 9.9628 - mae: 9.9628\n",
      "Epoch 76/100\n",
      "2/2 [==============================] - 0s 3ms/step - loss: 10.1269 - mae: 10.1269\n",
      "Epoch 77/100\n",
      "2/2 [==============================] - 0s 4ms/step - loss: 12.9816 - mae: 12.9816\n",
      "Epoch 78/100\n",
      "2/2 [==============================] - 0s 3ms/step - loss: 10.9193 - mae: 10.9193\n",
      "Epoch 79/100\n",
      "2/2 [==============================] - 0s 4ms/step - loss: 15.4135 - mae: 15.4135\n",
      "Epoch 80/100\n",
      "2/2 [==============================] - 0s 3ms/step - loss: 11.7287 - mae: 11.7287\n",
      "Epoch 81/100\n",
      "2/2 [==============================] - 0s 3ms/step - loss: 9.2871 - mae: 9.2871\n",
      "Epoch 82/100\n",
      "2/2 [==============================] - 0s 4ms/step - loss: 12.7251 - mae: 12.7251\n",
      "Epoch 83/100\n",
      "2/2 [==============================] - 0s 3ms/step - loss: 8.2851 - mae: 8.2851\n",
      "Epoch 84/100\n",
      "2/2 [==============================] - 0s 3ms/step - loss: 7.3253 - mae: 7.3253\n",
      "Epoch 85/100\n",
      "2/2 [==============================] - 0s 4ms/step - loss: 10.4968 - mae: 10.4968\n",
      "Epoch 86/100\n",
      "2/2 [==============================] - 0s 3ms/step - loss: 9.1635 - mae: 9.1635\n",
      "Epoch 87/100\n",
      "2/2 [==============================] - 0s 3ms/step - loss: 11.8809 - mae: 11.8809\n",
      "Epoch 88/100\n",
      "2/2 [==============================] - 0s 3ms/step - loss: 10.4915 - mae: 10.4915\n",
      "Epoch 89/100\n",
      "2/2 [==============================] - 0s 3ms/step - loss: 6.9844 - mae: 6.9844\n",
      "Epoch 90/100\n",
      "2/2 [==============================] - 0s 4ms/step - loss: 13.8186 - mae: 13.8186\n",
      "Epoch 91/100\n",
      "2/2 [==============================] - 0s 3ms/step - loss: 7.8924 - mae: 7.8924\n",
      "Epoch 92/100\n",
      "2/2 [==============================] - 0s 4ms/step - loss: 7.4667 - mae: 7.4667\n",
      "Epoch 93/100\n",
      "2/2 [==============================] - 0s 4ms/step - loss: 9.1733 - mae: 9.1733\n",
      "Epoch 94/100\n",
      "2/2 [==============================] - 0s 4ms/step - loss: 8.5749 - mae: 8.5749\n",
      "Epoch 95/100\n",
      "2/2 [==============================] - 0s 4ms/step - loss: 11.5213 - mae: 11.5213\n",
      "Epoch 96/100\n",
      "2/2 [==============================] - 0s 4ms/step - loss: 10.2918 - mae: 10.2918\n",
      "Epoch 97/100\n",
      "2/2 [==============================] - 0s 4ms/step - loss: 7.7003 - mae: 7.7003\n",
      "Epoch 98/100\n",
      "2/2 [==============================] - 0s 4ms/step - loss: 8.6350 - mae: 8.6350\n",
      "Epoch 99/100\n",
      "2/2 [==============================] - 0s 4ms/step - loss: 9.4151 - mae: 9.4151\n",
      "Epoch 100/100\n",
      "2/2 [==============================] - 0s 4ms/step - loss: 8.8572 - mae: 8.8572\n"
     ]
    },
    {
     "data": {
      "text/plain": [
       "<tensorflow.python.keras.callbacks.History at 0x15f568100>"
      ]
     },
     "execution_count": 49,
     "metadata": {},
     "output_type": "execute_result"
    }
   ],
   "source": [
    "# Set random seed\n",
    "tf.random.set_seed(42)\n",
    "\n",
    "# Replicate original model\n",
    "model_1 = tf.keras.Sequential([\n",
    "  tf.keras.layers.Dense(1)\n",
    "])\n",
    "\n",
    "# Compile the model\n",
    "model_1.compile(loss=tf.keras.losses.mae,\n",
    "                optimizer=tf.keras.optimizers.SGD(),\n",
    "                metrics=['mae'])\n",
    "\n",
    "# Fit the model\n",
    "model_1.fit(tf.expand_dims(X_train, axis=-1), y_train, epochs=100)"
   ]
  },
  {
   "cell_type": "code",
   "execution_count": 50,
   "id": "a1f6a8c9",
   "metadata": {},
   "outputs": [
    {
     "name": "stdout",
     "output_type": "stream",
     "text": [
      "WARNING:tensorflow:5 out of the last 5 calls to <function Model.make_predict_function.<locals>.predict_function at 0x15f4c5310> triggered tf.function retracing. Tracing is expensive and the excessive number of tracings could be due to (1) creating @tf.function repeatedly in a loop, (2) passing tensors with different shapes, (3) passing Python objects instead of tensors. For (1), please define your @tf.function outside of the loop. For (2), @tf.function has experimental_relax_shapes=True option that relaxes argument shapes that can avoid unnecessary retracing. For (3), please refer to https://www.tensorflow.org/guide/function#controlling_retracing and https://www.tensorflow.org/api_docs/python/tf/function for  more details.\n"
     ]
    },
    {
     "name": "stderr",
     "output_type": "stream",
     "text": [
      "2022-12-06 11:07:28.392060: I tensorflow/core/grappler/optimizers/custom_graph_optimizer_registry.cc:112] Plugin optimizer for device_type GPU is enabled.\n"
     ]
    },
    {
     "data": {
      "image/png": "[encoded data removed]",
      "text/plain": [
       "<Figure size 1000x700 with 1 Axes>"
      ]
     },
     "metadata": {},
     "output_type": "display_data"
    }
   ],
   "source": [
    "# Make and plot predictions for model_1\n",
    "y_preds_1 = model_1.predict(X_test)\n",
    "plot_predictions(predictions=y_preds_1)"
   ]
  },
  {
   "cell_type": "code",
   "execution_count": 51,
   "id": "ef3d6c6a",
   "metadata": {},
   "outputs": [
    {
     "data": {
      "text/plain": [
       "(8.63308, 81.062035)"
      ]
     },
     "execution_count": 51,
     "metadata": {},
     "output_type": "execute_result"
    }
   ],
   "source": [
    "# Calculate model_1 metrics\n",
    "mae_1 = mae(y_test, y_preds_1.squeeze()).numpy()\n",
    "mse_1 = mse(y_test, y_preds_1.squeeze()).numpy()\n",
    "mae_1, mse_1"
   ]
  },
  {
   "cell_type": "markdown",
   "id": "ef6162b1",
   "metadata": {},
   "source": [
    "### Build model_2\n",
    "\n",
    "This time we'll add an extra dense layer (so now our model will have 2 layers) whilst keeping everything else the same."
   ]
  },
  {
   "cell_type": "code",
   "execution_count": 54,
   "id": "a46b9e79",
   "metadata": {},
   "outputs": [
    {
     "name": "stderr",
     "output_type": "stream",
     "text": [
      "2022-12-06 12:32:32.820552: I tensorflow/core/grappler/optimizers/custom_graph_optimizer_registry.cc:112] Plugin optimizer for device_type GPU is enabled.\n"
     ]
    },
    {
     "data": {
      "text/plain": [
       "<tensorflow.python.keras.callbacks.History at 0x168063df0>"
      ]
     },
     "execution_count": 54,
     "metadata": {},
     "output_type": "execute_result"
    }
   ],
   "source": [
    "# Set random seed\n",
    "tf.random.set_seed(42)\n",
    "\n",
    "# Replicate model_1 and add an extra layer\n",
    "model_2 = tf.keras.Sequential([\n",
    "  tf.keras.layers.Dense(10),\n",
    "  tf.keras.layers.Dense(1) # add a second layer\n",
    "])\n",
    "\n",
    "# Compile the model\n",
    "model_2.compile(loss=tf.keras.losses.mae,\n",
    "                optimizer=tf.keras.optimizers.SGD(),\n",
    "                metrics=['mae'])\n",
    "\n",
    "# Fit the model\n",
    "model_2.fit(tf.expand_dims(X_train, axis=-1), y_train, epochs=100, verbose=0) # set verbose to 0 for less output"
   ]
  },
  {
   "cell_type": "code",
   "execution_count": 55,
   "id": "3f34d0d8",
   "metadata": {},
   "outputs": [
    {
     "name": "stderr",
     "output_type": "stream",
     "text": [
      "2022-12-06 12:32:34.075066: I tensorflow/core/grappler/optimizers/custom_graph_optimizer_registry.cc:112] Plugin optimizer for device_type GPU is enabled.\n"
     ]
    },
    {
     "data": {
      "image/png": "[encoded data removed]",
      "text/plain": [
       "<Figure size 1000x700 with 1 Axes>"
      ]
     },
     "metadata": {},
     "output_type": "display_data"
    }
   ],
   "source": [
    "# Make and plot predictions for model_2\n",
    "y_preds_2 = model_2.predict(X_test)\n",
    "plot_predictions(predictions=y_preds_2)"
   ]
  },
  {
   "cell_type": "markdown",
   "id": "21408914",
   "metadata": {},
   "source": [
    " Woah, that's looking better already! And all it took was an extra layer."
   ]
  },
  {
   "cell_type": "code",
   "execution_count": 56,
   "id": "ba2052c9",
   "metadata": {},
   "outputs": [
    {
     "data": {
      "text/plain": [
       "(1.9551277, 5.6813726)"
      ]
     },
     "execution_count": 56,
     "metadata": {},
     "output_type": "execute_result"
    }
   ],
   "source": [
    "# Calculate model_2 metrics\n",
    "mae_2 = mae(y_test, y_preds_2.squeeze()).numpy()\n",
    "mse_2 = mse(y_test, y_preds_2.squeeze()).numpy()\n",
    "mae_2, mse_2"
   ]
  },
  {
   "cell_type": "markdown",
   "id": "b0cf6d83",
   "metadata": {},
   "source": [
    "### Build model_3\n",
    "\n",
    "For our 3rd model, we'll keep everything the same as model_2 except this time we'll train for longer (500 epochs instead of 100).\n",
    "\n",
    "This will give our model more of a chance to learn the patterns in the data."
   ]
  },
  {
   "cell_type": "code",
   "execution_count": 57,
   "id": "a334b098",
   "metadata": {},
   "outputs": [
    {
     "name": "stderr",
     "output_type": "stream",
     "text": [
      "2022-12-06 12:34:32.771879: I tensorflow/core/grappler/optimizers/custom_graph_optimizer_registry.cc:112] Plugin optimizer for device_type GPU is enabled.\n"
     ]
    },
    {
     "data": {
      "text/plain": [
       "<tensorflow.python.keras.callbacks.History at 0x1687bfd30>"
      ]
     },
     "execution_count": 57,
     "metadata": {},
     "output_type": "execute_result"
    }
   ],
   "source": [
    "# Set random seed\n",
    "tf.random.set_seed(42)\n",
    "\n",
    "# Replicate model_2\n",
    "model_3 = tf.keras.Sequential([\n",
    "  tf.keras.layers.Dense(10),\n",
    "  tf.keras.layers.Dense(1)\n",
    "])\n",
    "\n",
    "# Compile the model\n",
    "model_3.compile(loss=tf.keras.losses.mae,\n",
    "                optimizer=tf.keras.optimizers.SGD(),\n",
    "                metrics=['mae'])\n",
    "\n",
    "# Fit the model (this time for 500 epochs, not 100)\n",
    "model_3.fit(tf.expand_dims(X_train, axis=-1), y_train, epochs=500, verbose=0) # set verbose to 0 for less output"
   ]
  },
  {
   "cell_type": "code",
   "execution_count": 58,
   "id": "466f28bd",
   "metadata": {},
   "outputs": [
    {
     "name": "stderr",
     "output_type": "stream",
     "text": [
      "2022-12-06 12:34:44.800530: I tensorflow/core/grappler/optimizers/custom_graph_optimizer_registry.cc:112] Plugin optimizer for device_type GPU is enabled.\n"
     ]
    },
    {
     "data": {
      "image/png": "[encoded data removed]",
      "text/plain": [
       "<Figure size 1000x700 with 1 Axes>"
      ]
     },
     "metadata": {},
     "output_type": "display_data"
    }
   ],
   "source": [
    "# Make and plot predictions for model_3\n",
    "y_preds_3 = model_3.predict(X_test)\n",
    "plot_predictions(predictions=y_preds_3)"
   ]
  },
  {
   "cell_type": "markdown",
   "id": "17f4f384",
   "metadata": {},
   "source": [
    "Strange, we trained for longer but our model performed worse?\n",
    "\n",
    "As it turns out, our model might've trained too long and has thus resulted in worse results (we'll see ways to prevent training for too long later on)."
   ]
  },
  {
   "cell_type": "code",
   "execution_count": 59,
   "id": "38a1da8c",
   "metadata": {},
   "outputs": [
    {
     "data": {
      "text/plain": [
       "(67.55214, 4647.1753)"
      ]
     },
     "execution_count": 59,
     "metadata": {},
     "output_type": "execute_result"
    }
   ],
   "source": [
    "# Calculate model_3 metrics\n",
    "mae_3 = mae(y_test, y_preds_3.squeeze()).numpy()\n",
    "mse_3 = mse(y_test, y_preds_3.squeeze()).numpy()\n",
    "mae_3, mse_3"
   ]
  },
  {
   "cell_type": "markdown",
   "id": "d9a4c347",
   "metadata": {},
   "source": [
    "## Comparing results\n",
    "\n",
    "Now we've got results for 3 similar but slightly different results, let's compare them."
   ]
  },
  {
   "cell_type": "code",
   "execution_count": 60,
   "id": "5d4cd79f",
   "metadata": {},
   "outputs": [],
   "source": [
    "model_results = [[\"model_1\", mae_1, mse_1],\n",
    "                 [\"model_2\", mae_2, mse_2],\n",
    "                 [\"model_3\", mae_3, mae_3]]"
   ]
  },
  {
   "cell_type": "code",
   "execution_count": 61,
   "id": "9717c1e3",
   "metadata": {},
   "outputs": [
    {
     "data": {
      "text/html": [
       "<div>\n",
       "<style scoped>\n",
       "    .dataframe tbody tr th:only-of-type {\n",
       "        vertical-align: middle;\n",
       "    }\n",
       "\n",
       "    .dataframe tbody tr th {\n",
       "        vertical-align: top;\n",
       "    }\n",
       "\n",
       "    .dataframe thead th {\n",
       "        text-align: right;\n",
       "    }\n",
       "</style>\n",
       "<table border=\"1\" class=\"dataframe\">\n",
       "  <thead>\n",
       "    <tr style=\"text-align: right;\">\n",
       "      <th></th>\n",
       "      <th>model</th>\n",
       "      <th>mae</th>\n",
       "      <th>mse</th>\n",
       "    </tr>\n",
       "  </thead>\n",
       "  <tbody>\n",
       "    <tr>\n",
       "      <th>0</th>\n",
       "      <td>model_1</td>\n",
       "      <td>8.633080</td>\n",
       "      <td>81.062035</td>\n",
       "    </tr>\n",
       "    <tr>\n",
       "      <th>1</th>\n",
       "      <td>model_2</td>\n",
       "      <td>1.955128</td>\n",
       "      <td>5.681373</td>\n",
       "    </tr>\n",
       "    <tr>\n",
       "      <th>2</th>\n",
       "      <td>model_3</td>\n",
       "      <td>67.552139</td>\n",
       "      <td>67.552139</td>\n",
       "    </tr>\n",
       "  </tbody>\n",
       "</table>\n",
       "</div>"
      ],
      "text/plain": [
       "     model        mae        mse\n",
       "0  model_1   8.633080  81.062035\n",
       "1  model_2   1.955128   5.681373\n",
       "2  model_3  67.552139  67.552139"
      ]
     },
     "execution_count": 61,
     "metadata": {},
     "output_type": "execute_result"
    }
   ],
   "source": [
    "import pandas as pd\n",
    "all_results = pd.DataFrame(model_results, columns=[\"model\", \"mae\", \"mse\"])\n",
    "all_results"
   ]
  },
  {
   "cell_type": "code",
   "execution_count": null,
   "id": "659f6869",
   "metadata": {},
   "outputs": [],
   "source": []
  }
 ],
 "metadata": {
  "kernelspec": {
   "display_name": "Python 3.9 (tensorflow)",
   "language": "python",
   "name": "tensorflow"
  },
  "language_info": {
   "codemirror_mode": {
    "name": "ipython",
    "version": 3
   },
   "file_extension": ".py",
   "mimetype": "text/x-python",
   "name": "python",
   "nbconvert_exporter": "python",
   "pygments_lexer": "ipython3",
   "version": "3.9.15"
  }
 },
 "nbformat": 4,
 "nbformat_minor": 5
}
