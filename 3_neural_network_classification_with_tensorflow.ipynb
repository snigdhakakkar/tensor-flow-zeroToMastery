{
 "cells": [
  {
   "cell_type": "markdown",
   "id": "f0dbed03",
   "metadata": {},
   "source": [
    "## Neural Network Classification with TensorFlow"
   ]
  },
  {
   "cell_type": "markdown",
   "id": "8dccb2b6",
   "metadata": {},
   "source": [
    "Okay, we've seen how to deal with a regression problem in TensorFlow, let's look at how we can approach a classification problem.\n",
    "\n",
    "A classification problem involves predicting whether something is one thing or another.\n",
    "\n",
    "For example, you might want to:\n",
    "\n",
    "* Predict whether or not someone has heart disease based on their health parameters. This is called **binary classification** since there are only two options.\n",
    "* Decide whether a photo of is of food, a person or a dog. This is called **multi-class classification** since there are more than two options.\n",
    "* Predict what categories should be assigned to a Wikipedia article. This is called **multi-label classification** since a single article could have more than one category assigned.\n",
    "\n",
    "In this notebook, we're going to work through a number of different classification problems with TensorFlow. In other words, taking a set of inputs and predicting what class those set of inputs belong to."
   ]
  },
  {
   "cell_type": "markdown",
   "id": "8255164e",
   "metadata": {},
   "source": [
    "## What we're going to cover\n",
    "\n",
    "Specifically, we're going to go through doing the following with TensorFlow:\n",
    "\n",
    "* Architecture of a classification model\n",
    "* Input shapes and output shapes\n",
    "    * X: features/data (inputs)\n",
    "    * y: labels (outputs)\n",
    "        * \"What class do the inputs belong to?\"\n",
    "* Creating custom data to view and fit\n",
    "* Steps in modelling for binary and mutliclass classification\n",
    "    * Creating a model\n",
    "    * Compiling a model\n",
    "        * Defining a loss function\n",
    "        * Setting up an optimizer\n",
    "        * Finding the best learning rate\n",
    "        * Creating evaluation metrics\n",
    "    * Fitting a model (getting it to find patterns in our data)\n",
    "    * Improving a model\n",
    "* The power of non-linearity\n",
    "* Evaluating classification models\n",
    "    * Visualizng the model (\"visualize, visualize, visualize\")\n",
    "    * Looking at training curves\n",
    "    * Compare predictions to ground truth (using our evaluation metrics)"
   ]
  },
  {
   "cell_type": "markdown",
   "id": "86a5169b",
   "metadata": {},
   "source": [
    "## Typical architecture of a classification neural network\n",
    "\n",
    "The word typical is on purpose.\n",
    "\n",
    "Because the architecture of a classification neural network can widely vary depending on the problem you're working on.\n",
    "\n",
    "However, there are some fundamentals all deep neural networks contain:\n",
    "\n",
    "* An input layer.\n",
    "* Some hidden layers.\n",
    "* An output layer.\n",
    "Much of the rest is up to the data analyst creating the model.\n",
    "\n",
    "The following are some standard values you'll often use in your classification neural networks.\n",
    "![Images/ClassificationParameters.png](Images/ClassificationParameters.png)"
   ]
  },
  {
   "cell_type": "markdown",
   "id": "a78e5d83",
   "metadata": {},
   "source": [
    "## Creating data to view and fit"
   ]
  },
  {
   "cell_type": "code",
   "execution_count": 6,
   "id": "354ccf9d",
   "metadata": {},
   "outputs": [
    {
     "name": "stdout",
     "output_type": "stream",
     "text": [
      "Init Plugin\n",
      "2.5.0\n",
      "Init Graph Optimizer\n",
      "Init Kernel\n"
     ]
    }
   ],
   "source": [
    "import tensorflow as tf\n",
    "print(tf.__version__)"
   ]
  },
  {
   "cell_type": "markdown",
   "id": "c6412212",
   "metadata": {},
   "source": [
    "We could start by importing a classification dataset but let's practice making some of our own classification data.\n",
    "\n",
    "🔑 Note: It's a common practice to get you and model you build working on a toy (or simple) dataset before moving to your actual problem. Treat it as a rehersal experiment before the actual experiment(s).\n",
    "\n",
    "Since classification is predicting whether something is one thing or another, let's make some data to reflect that.\n",
    "\n",
    "To do so, we'll use Scikit-Learn's **make_circles()** function."
   ]
  },
  {
   "cell_type": "code",
   "execution_count": 7,
   "id": "1f46513b",
   "metadata": {},
   "outputs": [],
   "source": [
    "from sklearn.datasets import make_circles\n",
    "\n",
    "# Make 1000 examples\n",
    "n_samples = 1000\n",
    "\n",
    "# Create circles\n",
    "X, y = make_circles(n_samples, \n",
    "                    noise=0.03, \n",
    "                    random_state=42)"
   ]
  },
  {
   "cell_type": "code",
   "execution_count": 8,
   "id": "db8beb25",
   "metadata": {},
   "outputs": [
    {
     "data": {
      "text/plain": [
       "array([[ 0.75424625,  0.23148074],\n",
       "       [-0.75615888,  0.15325888],\n",
       "       [-0.81539193,  0.17328203],\n",
       "       ...,\n",
       "       [-0.13690036, -0.81001183],\n",
       "       [ 0.67036156, -0.76750154],\n",
       "       [ 0.28105665,  0.96382443]])"
      ]
     },
     "execution_count": 8,
     "metadata": {},
     "output_type": "execute_result"
    }
   ],
   "source": [
    "# Check out the features\n",
    "X\n",
    "     "
   ]
  },
  {
   "cell_type": "code",
   "execution_count": 9,
   "id": "880d3984",
   "metadata": {},
   "outputs": [
    {
     "data": {
      "text/plain": [
       "array([1, 1, 1, 1, 0, 1, 1, 1, 1, 0])"
      ]
     },
     "execution_count": 9,
     "metadata": {},
     "output_type": "execute_result"
    }
   ],
   "source": [
    "# See the first 10 labels\n",
    "y[:10]"
   ]
  },
  {
   "cell_type": "markdown",
   "id": "222e1b72",
   "metadata": {},
   "source": [
    "Okay, we've seen some of our data and labels, how about we move towards visualizing?\n",
    "\n",
    "🔑 Note: One important step of starting any kind of machine learning project is to become one with the data. And one of the best ways to do this is to visualize the data you're working with as much as possible. The data explorer's motto is \"visualize, visualize, visualize\".\n",
    "\n",
    "We'll start with a DataFrame."
   ]
  },
  {
   "cell_type": "code",
   "execution_count": 10,
   "id": "e0f62a10",
   "metadata": {},
   "outputs": [
    {
     "data": {
      "text/html": [
       "<div>\n",
       "<style scoped>\n",
       "    .dataframe tbody tr th:only-of-type {\n",
       "        vertical-align: middle;\n",
       "    }\n",
       "\n",
       "    .dataframe tbody tr th {\n",
       "        vertical-align: top;\n",
       "    }\n",
       "\n",
       "    .dataframe thead th {\n",
       "        text-align: right;\n",
       "    }\n",
       "</style>\n",
       "<table border=\"1\" class=\"dataframe\">\n",
       "  <thead>\n",
       "    <tr style=\"text-align: right;\">\n",
       "      <th></th>\n",
       "      <th>X0</th>\n",
       "      <th>X1</th>\n",
       "      <th>label</th>\n",
       "    </tr>\n",
       "  </thead>\n",
       "  <tbody>\n",
       "    <tr>\n",
       "      <th>0</th>\n",
       "      <td>0.754246</td>\n",
       "      <td>0.231481</td>\n",
       "      <td>1</td>\n",
       "    </tr>\n",
       "    <tr>\n",
       "      <th>1</th>\n",
       "      <td>-0.756159</td>\n",
       "      <td>0.153259</td>\n",
       "      <td>1</td>\n",
       "    </tr>\n",
       "    <tr>\n",
       "      <th>2</th>\n",
       "      <td>-0.815392</td>\n",
       "      <td>0.173282</td>\n",
       "      <td>1</td>\n",
       "    </tr>\n",
       "    <tr>\n",
       "      <th>3</th>\n",
       "      <td>-0.393731</td>\n",
       "      <td>0.692883</td>\n",
       "      <td>1</td>\n",
       "    </tr>\n",
       "    <tr>\n",
       "      <th>4</th>\n",
       "      <td>0.442208</td>\n",
       "      <td>-0.896723</td>\n",
       "      <td>0</td>\n",
       "    </tr>\n",
       "  </tbody>\n",
       "</table>\n",
       "</div>"
      ],
      "text/plain": [
       "         X0        X1  label\n",
       "0  0.754246  0.231481      1\n",
       "1 -0.756159  0.153259      1\n",
       "2 -0.815392  0.173282      1\n",
       "3 -0.393731  0.692883      1\n",
       "4  0.442208 -0.896723      0"
      ]
     },
     "execution_count": 10,
     "metadata": {},
     "output_type": "execute_result"
    }
   ],
   "source": [
    "# Make dataframe of features and labels\n",
    "import pandas as pd\n",
    "circles = pd.DataFrame({\"X0\":X[:, 0], \"X1\":X[:, 1], \"label\":y})\n",
    "circles.head()"
   ]
  },
  {
   "cell_type": "code",
   "execution_count": 11,
   "id": "93de9525",
   "metadata": {},
   "outputs": [
    {
     "data": {
      "text/plain": [
       "1    500\n",
       "0    500\n",
       "Name: label, dtype: int64"
      ]
     },
     "execution_count": 11,
     "metadata": {},
     "output_type": "execute_result"
    }
   ],
   "source": [
    "# Check out the different labels\n",
    "circles.label.value_counts()"
   ]
  },
  {
   "cell_type": "markdown",
   "id": "1a945cec",
   "metadata": {},
   "source": [
    "Alright, looks like we're dealing with a binary classification problem. It's binary because there are only two labels (0 or 1).\n",
    "\n",
    "If there were more label options (e.g. 0, 1, 2, 3 or 4), it would be called multiclass classification.\n",
    "\n",
    "Let's take our visualization a step further and plot our data."
   ]
  },
  {
   "cell_type": "code",
   "execution_count": null,
   "id": "eddebca8",
   "metadata": {},
   "outputs": [],
   "source": []
  }
 ],
 "metadata": {
  "kernelspec": {
   "display_name": "Python 3.9 (tensorflow)",
   "language": "python",
   "name": "tensorflow"
  },
  "language_info": {
   "codemirror_mode": {
    "name": "ipython",
    "version": 3
   },
   "file_extension": ".py",
   "mimetype": "text/x-python",
   "name": "python",
   "nbconvert_exporter": "python",
   "pygments_lexer": "ipython3",
   "version": "3.9.15"
  }
 },
 "nbformat": 4,
 "nbformat_minor": 5
}
