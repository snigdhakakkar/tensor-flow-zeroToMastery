{
 "cells": [
  {
   "cell_type": "markdown",
   "id": "c6c80505",
   "metadata": {},
   "source": [
    "## Convolutional Neural Networks and Computer Vision with Tensorflow\n",
    "\n",
    "So far we've covered the basics of TensorFlow and built a handful of models to work across different problems.\n",
    "\n",
    "Now we're going to get specific and see how a special kind of neural network, convolutional neural networks (CNNs) can be used for computer vision (detecting patterns in visual data).\n",
    "\n",
    "🔑 Note: In deep learning, many different kinds of model architectures can be used for different problems. For example, you could use a convolutional neural network for making predictions on image data and/or text data. However, in practice some architectures typically work better than others.\n",
    "\n",
    "For example, you might want to:\n",
    "\n",
    "Classify whether a picture of food contains pizza 🍕 or steak 🥩 (we're going to do this)\n",
    "Detect whether or not an object appears in an image (e.g. did a specific car pass through a security camera?)\n",
    "In this notebook, we're going to follow the TensorFlow modelling workflow we've been following so far whilst learning about how to build and use CNNs."
   ]
  },
  {
   "cell_type": "markdown",
   "id": "f77bd1a0",
   "metadata": {},
   "source": [
    "## What we're going to cover\n",
    "\n",
    "Specifically, we're going to go through the follow with TensorFlow:\n",
    "\n",
    "* Getting a dataset to work with\n",
    "* Architecture of a convolutional neural network\n",
    "* A quick end-to-end example (what we're working towards)\n",
    "* Steps in modelling for binary image classification with CNNs\n",
    "    * Becoming one with the data\n",
    "    * Preparing data for modelling\n",
    "    * Creating a CNN model (starting with a baseline)\n",
    "    * Fitting a model (getting it to find patterns in our data)\n",
    "    * Evaluating a model\n",
    "    * Improving a model\n",
    "    * Making a prediction with a trained model\n",
    "* Steps in modelling for multi-class image classification with CNNs\n",
    "* Same as above (but this time with a different dataset)"
   ]
  },
  {
   "cell_type": "markdown",
   "id": "e6175379",
   "metadata": {},
   "source": [
    "## Get the data\n",
    "\n",
    "Because convolutional neural networks work so well with images, to learn more about them, we're going to start with a dataset of images.\n",
    "\n",
    "The images we're going to work with are from the [Food-101 dataset](https://data.vision.ee.ethz.ch/cvl/datasets_extra/food-101/), a collection of 101 different categories of 101,000 (1000 images per category) real-world images of food dishes.\n",
    "\n",
    "To begin, we're only going to use two of the categories, pizza 🍕 and steak 🥩 and build a binary classifier.\n",
    "\n",
    "🔑 Note: To prepare the data we're using, [preprocessing steps](https://github.com/mrdbourke/tensorflow-deep-learning/blob/main/extras/image_data_modification.ipynb) such as, moving the images into different subset folders, have been done. To see these preprocessing steps check out the preprocessing notebook.\n",
    "\n",
    "We'll download the ```pizza_steak``` subset .zip file and unzip it."
   ]
  },
  {
   "cell_type": "code",
   "execution_count": null,
   "id": "f736d7f8",
   "metadata": {},
   "outputs": [],
   "source": []
  }
 ],
 "metadata": {
  "kernelspec": {
   "display_name": "Python 3.9 (tensorflow)",
   "language": "python",
   "name": "tensorflow"
  },
  "language_info": {
   "codemirror_mode": {
    "name": "ipython",
    "version": 3
   },
   "file_extension": ".py",
   "mimetype": "text/x-python",
   "name": "python",
   "nbconvert_exporter": "python",
   "pygments_lexer": "ipython3",
   "version": "3.9.15"
  }
 },
 "nbformat": 4,
 "nbformat_minor": 5
}
