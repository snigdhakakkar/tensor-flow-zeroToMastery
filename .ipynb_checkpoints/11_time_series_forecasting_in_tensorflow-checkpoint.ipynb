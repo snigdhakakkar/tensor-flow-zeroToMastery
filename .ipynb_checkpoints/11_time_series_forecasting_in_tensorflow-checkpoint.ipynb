{
 "cells": [
  {
   "cell_type": "markdown",
   "id": "75fa0b2c",
   "metadata": {},
   "source": [
    "## Milestone Project 3: Time series forecasting in TensorFlow (BitPredict 💰📈)"
   ]
  },
  {
   "cell_type": "markdown",
   "id": "907f80ba",
   "metadata": {},
   "source": [
    "The goal of this notebook is to get you familiar with working with time series data.\n",
    "\n",
    "We're going to be building a series of models in an attempt to predict the price of Bitcoin.\n",
    "\n",
    "Welcome to Milestone Project 3, BitPredict 💰📈!\n",
    "\n",
    "🔑 **Note**: ⚠️ This is not financial advice, as you'll see time series forecasting for stock market prices is actually quite terrible.\n",
    "\n",
    "## What is a time series problem?\n",
    "\n",
    "Time series problems deal with data over time.\n",
    "\n",
    "Such as, the number of staff members in a company over 10-years, sales of computers for the past 5-years, electricity usage for the past 50-years.\n",
    "\n",
    "The timeline can be short (seconds/minutes) or long (years/decades). And the problems you might investigate using can usually be broken down into two categories.\n",
    "\n",
    "![typesOfTimeSeriesProblems.png](Images/typesOfTimeSeriesProblems.png)"
   ]
  },
  {
   "cell_type": "markdown",
   "id": "5252d885",
   "metadata": {},
   "source": [
    "In both cases above, a supervised learning approach is often used. Meaning, you'd have some example data and a label assosciated with that data.\n",
    "\n",
    "For example, in forecasting the price of Bitcoin, your data could be the historical price of Bitcoin for the past month and the label could be today's price (the label can't be tomorrow's price because that's what we'd want to predict).\n",
    "\n",
    "Can you guess what kind of problem BitPredict 💰📈 is?\n",
    "\n",
    "## What we're going to cover\n",
    "\n",
    "### Are you ready?\n",
    "\n",
    "We've got a lot to go through.\n",
    "\n",
    "* Get time series data (the historical price of Bitcoin)\n",
    "    * Load in time series data using pandas/Python's CSV module\n",
    "* Format data for a time series problem\n",
    "    * Creating training and test sets (the wrong way)\n",
    "    * Creating training and test sets (the right way)\n",
    "    * Visualizing time series data\n",
    "    * Turning time series data into a supervised learning problem (windowing)\n",
    "    * Preparing univariate and multivariate (more than one variable) data\n",
    "* Evaluating a time series forecasting model\n",
    "* Setting up a series of deep learning modelling experiments\n",
    "    * Dense (fully-connected) networks\n",
    "    * Sequence models (LSTM and 1D CNN)\n",
    "    * Ensembling (combining multiple models together)\n",
    "    * Multivariate models\n",
    "    * Replicating the N-BEATS algorithm using TensorFlow layer subclassing\n",
    "* Creating a modelling checkpoint to save the best performing model during training\n",
    "* Making predictions (forecasts) with a time series model\n",
    "* Creating prediction intervals for time series model forecasts\n",
    "* Discussing two different types of uncertainty in machine learning (data uncertainty and model uncertainty)\n",
    "* Demonstrating why forecasting in an open system is BS (the turkey problem)\n"
   ]
  },
  {
   "cell_type": "code",
   "execution_count": null,
   "id": "9dbff967",
   "metadata": {},
   "outputs": [],
   "source": []
  }
 ],
 "metadata": {
  "kernelspec": {
   "display_name": "Python 3.9 (tensorflow)",
   "language": "python",
   "name": "tensorflow"
  },
  "language_info": {
   "codemirror_mode": {
    "name": "ipython",
    "version": 3
   },
   "file_extension": ".py",
   "mimetype": "text/x-python",
   "name": "python",
   "nbconvert_exporter": "python",
   "pygments_lexer": "ipython3",
   "version": "3.9.15"
  }
 },
 "nbformat": 4,
 "nbformat_minor": 5
}
