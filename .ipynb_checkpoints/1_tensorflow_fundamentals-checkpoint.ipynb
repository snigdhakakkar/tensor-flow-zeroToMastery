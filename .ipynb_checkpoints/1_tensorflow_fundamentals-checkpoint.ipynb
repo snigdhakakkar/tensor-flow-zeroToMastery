{
 "cells": [
  {
   "cell_type": "markdown",
   "id": "bb3c0495",
   "metadata": {},
   "source": [
    "## Introduction to Tensors"
   ]
  },
  {
   "cell_type": "markdown",
   "id": "d0f7df83",
   "metadata": {},
   "source": [
    "In this notebook we cover some of the most fundamental TensorFlow operations, more specifically:\n",
    "\n",
    "* Introduction to tensors (creating tensors)\n",
    "* Getting information from tensors (tensor attributes)\n",
    "* Manipulating tensors (tensor operations)\n",
    "* Tensors and NumPy\n",
    "* Using @tf.function (a way to speed up your regular Python functions)\n",
    "* Using GPUs with TensorFlow\n",
    "* Exercises to try"
   ]
  },
  {
   "cell_type": "code",
   "execution_count": 1,
   "id": "e64b3b9b",
   "metadata": {},
   "outputs": [
    {
     "name": "stdout",
     "output_type": "stream",
     "text": [
      "Init Plugin\n",
      "2.5.0\n",
      "Init Graph Optimizer\n",
      "Init Kernel\n"
     ]
    }
   ],
   "source": [
    "# Import TensorFlow\n",
    "import tensorflow as tf\n",
    "print(tf.__version__)"
   ]
  },
  {
   "cell_type": "markdown",
   "id": "7719a0fb",
   "metadata": {},
   "source": [
    "For the sake of this notebook and going forward, you can think of a tensor as a multi-dimensional numerical representation (also referred to as n-dimensional, where n can be any number) of something. Where something can be almost anything you can imagine:\n",
    "\n",
    "* It could be numbers themselves (using tensors to represent the price of houses).\n",
    "* It could be an image (using tensors to represent the pixels of an image).\n",
    "* It could be text (using tensors to represent words).\n",
    "* Or it could be some other form of information (or data) you want to represent with numbers.\n",
    "\n",
    "The main difference between tensors and NumPy arrays (also an n-dimensional array of numbers) is that tensors can be used on GPUs (graphical processing units) and TPUs (tensor processing units)."
   ]
  },
  {
   "cell_type": "markdown",
   "id": "beeed82d",
   "metadata": {},
   "source": [
    "The benefit of being able to run on GPUs and TPUs is faster computation, this means, if we wanted to find patterns in the numerical representations of our data, we can generally find them faster using GPUs and TPUs."
   ]
  },
  {
   "cell_type": "markdown",
   "id": "467d874a",
   "metadata": {},
   "source": [
    "### Creating Tensors with tf.constant()"
   ]
  },
  {
   "cell_type": "code",
   "execution_count": 2,
   "id": "cfcab3d0",
   "metadata": {},
   "outputs": [
    {
     "name": "stdout",
     "output_type": "stream",
     "text": [
      "Metal device set to: Apple M1\n"
     ]
    },
    {
     "name": "stderr",
     "output_type": "stream",
     "text": [
      "2022-12-05 14:46:51.690566: I tensorflow/core/common_runtime/pluggable_device/pluggable_device_factory.cc:305] Could not identify NUMA node of platform GPU ID 0, defaulting to 0. Your kernel may not have been built with NUMA support.\n",
      "2022-12-05 14:46:51.690906: I tensorflow/core/common_runtime/pluggable_device/pluggable_device_factory.cc:271] Created TensorFlow device (/job:localhost/replica:0/task:0/device:GPU:0 with 0 MB memory) -> physical PluggableDevice (device: 0, name: METAL, pci bus id: <undefined>)\n"
     ]
    },
    {
     "data": {
      "text/plain": [
       "<tf.Tensor: shape=(), dtype=int32, numpy=7>"
      ]
     },
     "execution_count": 2,
     "metadata": {},
     "output_type": "execute_result"
    }
   ],
   "source": [
    "# Create a scalar (rank 0 tensor)\n",
    "scalar = tf.constant(7)\n",
    "scalar"
   ]
  },
  {
   "cell_type": "code",
   "execution_count": 3,
   "id": "18cfb889",
   "metadata": {},
   "outputs": [
    {
     "data": {
      "text/plain": [
       "0"
      ]
     },
     "execution_count": 3,
     "metadata": {},
     "output_type": "execute_result"
    }
   ],
   "source": [
    "# Check the number of dimensions of a tensor (ndim stands for number of dimensions)\n",
    "scalar.ndim"
   ]
  },
  {
   "cell_type": "code",
   "execution_count": 4,
   "id": "032bb30d",
   "metadata": {},
   "outputs": [
    {
     "data": {
      "text/plain": [
       "<tf.Tensor: shape=(2,), dtype=int32, numpy=array([10, 10], dtype=int32)>"
      ]
     },
     "execution_count": 4,
     "metadata": {},
     "output_type": "execute_result"
    }
   ],
   "source": [
    "# Create a vector (more than 0 dimensions)\n",
    "vector = tf.constant([10, 10])\n",
    "vector"
   ]
  },
  {
   "cell_type": "code",
   "execution_count": 5,
   "id": "0c2024bd",
   "metadata": {},
   "outputs": [
    {
     "data": {
      "text/plain": [
       "1"
      ]
     },
     "execution_count": 5,
     "metadata": {},
     "output_type": "execute_result"
    }
   ],
   "source": [
    "# Check the number of dimensions of our vector tensor\n",
    "vector.ndim"
   ]
  },
  {
   "cell_type": "code",
   "execution_count": 6,
   "id": "95b32bbc",
   "metadata": {},
   "outputs": [
    {
     "data": {
      "text/plain": [
       "<tf.Tensor: shape=(2, 2), dtype=int32, numpy=\n",
       "array([[10,  7],\n",
       "       [ 7, 10]], dtype=int32)>"
      ]
     },
     "execution_count": 6,
     "metadata": {},
     "output_type": "execute_result"
    }
   ],
   "source": [
    "# Create a matrix (more than 1 dimension)\n",
    "matrix = tf.constant([[10, 7],\n",
    "                      [7, 10]])\n",
    "matrix"
   ]
  },
  {
   "cell_type": "code",
   "execution_count": 7,
   "id": "c186331b",
   "metadata": {},
   "outputs": [
    {
     "data": {
      "text/plain": [
       "2"
      ]
     },
     "execution_count": 7,
     "metadata": {},
     "output_type": "execute_result"
    }
   ],
   "source": [
    "matrix.ndim"
   ]
  },
  {
   "cell_type": "markdown",
   "id": "9d698627",
   "metadata": {},
   "source": [
    "By default, TensorFlow creates tensors with either an int32 or float32 datatype.\n",
    "\n",
    "This is known as [32-bit precision](https://en.wikipedia.org/wiki/Precision_(computer_science) (the higher the number, the more precise the number, the more space it takes up on your computer)."
   ]
  },
  {
   "cell_type": "code",
   "execution_count": 8,
   "id": "a0fd8eee",
   "metadata": {},
   "outputs": [
    {
     "data": {
      "text/plain": [
       "<tf.Tensor: shape=(3, 2), dtype=float16, numpy=\n",
       "array([[10.,  7.],\n",
       "       [ 3.,  2.],\n",
       "       [ 8.,  9.]], dtype=float16)>"
      ]
     },
     "execution_count": 8,
     "metadata": {},
     "output_type": "execute_result"
    }
   ],
   "source": [
    "# Create another matrix and define the datatype\n",
    "another_matrix = tf.constant([[10., 7.],\n",
    "                              [3., 2.],\n",
    "                              [8., 9.]], dtype=tf.float16) # specify the datatype with 'dtype'\n",
    "another_matrix"
   ]
  },
  {
   "cell_type": "code",
   "execution_count": 9,
   "id": "2fb18c08",
   "metadata": {},
   "outputs": [
    {
     "data": {
      "text/plain": [
       "2"
      ]
     },
     "execution_count": 9,
     "metadata": {},
     "output_type": "execute_result"
    }
   ],
   "source": [
    "# Even though another_matrix contains more numbers, its dimensions stay the same\n",
    "another_matrix.ndim"
   ]
  },
  {
   "cell_type": "code",
   "execution_count": 10,
   "id": "6948b062",
   "metadata": {},
   "outputs": [
    {
     "data": {
      "text/plain": [
       "<tf.Tensor: shape=(3, 2, 3), dtype=int32, numpy=\n",
       "array([[[ 1,  2,  3],\n",
       "        [ 4,  5,  6]],\n",
       "\n",
       "       [[ 7,  8,  9],\n",
       "        [10, 11, 12]],\n",
       "\n",
       "       [[13, 14, 15],\n",
       "        [16, 17, 18]]], dtype=int32)>"
      ]
     },
     "execution_count": 10,
     "metadata": {},
     "output_type": "execute_result"
    }
   ],
   "source": [
    "# How about a tensor? (more than 2 dimensions, although, all of the above items are also technically tensors)\n",
    "\n",
    "tensor = tf.constant([[[1, 2, 3],\n",
    "                       [4, 5, 6]],\n",
    "                      [[7, 8, 9],\n",
    "                       [10, 11, 12]],\n",
    "                      [[13, 14, 15],\n",
    "                       [16, 17, 18]]])\n",
    "\n",
    "tensor"
   ]
  },
  {
   "cell_type": "code",
   "execution_count": 11,
   "id": "d4135de4",
   "metadata": {},
   "outputs": [
    {
     "data": {
      "text/plain": [
       "3"
      ]
     },
     "execution_count": 11,
     "metadata": {},
     "output_type": "execute_result"
    }
   ],
   "source": [
    "#check the tensor's dimensions\n",
    "tensor.ndim"
   ]
  },
  {
   "cell_type": "markdown",
   "id": "d0bc5323",
   "metadata": {},
   "source": [
    "This is known as a rank 3 tensor (3-dimensions), however a tensor can have an arbitrary (unlimited) amount of dimensions.\n",
    "\n",
    "For example, you might turn a series of images into tensors with shape (224, 224, 3, 32), where:\n",
    "\n",
    "224, 224 (the first 2 dimensions) are the height and width of the images in pixels.\n",
    "3 is the number of colour channels of the image (red, green blue).\n",
    "32 is the batch size (the number of images a neural network sees at any one time).\n",
    "All of the above variables we've created are actually tensors. But you may also hear them referred to as their different names (the ones we gave them):\n",
    "\n",
    "scalar: a single number.\n",
    "vector: a number with direction (e.g. wind speed with direction).\n",
    "matrix: a 2-dimensional array of numbers.\n",
    "tensor: an n-dimensional array of numbers (where n can be any number, a 0-dimension tensor is a scalar, a 1-dimension tensor is a vector).\n",
    "To add to the confusion, the terms matrix and tensor are often used interchangeably.\n",
    "\n",
    "Going forward since we're using TensorFlow, everything we refer to and use will be tensors.\n",
    "\n",
    "For more on the mathematical difference between scalars, vectors and matrices see the visual algebra post by Math is Fun."
   ]
  },
  {
   "cell_type": "markdown",
   "id": "8503df46",
   "metadata": {},
   "source": [
    "## Creating tensors with tf.variable()"
   ]
  },
  {
   "cell_type": "markdown",
   "id": "a8709cd7",
   "metadata": {},
   "source": [
    "You can also (although you likely rarely will, because often, when working with data, tensors are created for you automatically) create tensors using tf.Variable().\n",
    "\n",
    "The difference between tf.Variable() and tf.constant() is tensors created with tf.constant() are immutable (can't be changed, can only be used to create a new tensor), where as, tensors created with tf.Variable() are mutable (can be changed)."
   ]
  },
  {
   "cell_type": "code",
   "execution_count": 12,
   "id": "e4b0706a",
   "metadata": {},
   "outputs": [
    {
     "data": {
      "text/plain": [
       "(<tf.Variable 'Variable:0' shape=(2,) dtype=int32, numpy=array([10,  7], dtype=int32)>,\n",
       " <tf.Tensor: shape=(2,), dtype=int32, numpy=array([10,  7], dtype=int32)>)"
      ]
     },
     "execution_count": 12,
     "metadata": {},
     "output_type": "execute_result"
    }
   ],
   "source": [
    "# Create the same tensor with tf.Variable() and tf.constant()\n",
    "changeable_tensor = tf.Variable([10, 7])\n",
    "unchangeable_tensor = tf.constant([10, 7])\n",
    "changeable_tensor, unchangeable_tensor"
   ]
  },
  {
   "cell_type": "markdown",
   "id": "dc9729ca",
   "metadata": {},
   "source": [
    "Now let's try to change one of the elements of the changeable tensor."
   ]
  },
  {
   "cell_type": "code",
   "execution_count": 13,
   "id": "c0460664",
   "metadata": {},
   "outputs": [
    {
     "ename": "TypeError",
     "evalue": "'ResourceVariable' object does not support item assignment",
     "output_type": "error",
     "traceback": [
      "\u001b[0;31m---------------------------------------------------------------------------\u001b[0m",
      "\u001b[0;31mTypeError\u001b[0m                                 Traceback (most recent call last)",
      "Cell \u001b[0;32mIn [13], line 2\u001b[0m\n\u001b[1;32m      1\u001b[0m \u001b[38;5;66;03m# Will error (requires the .assign() method)\u001b[39;00m\n\u001b[0;32m----> 2\u001b[0m changeable_tensor[\u001b[38;5;241m0\u001b[39m] \u001b[38;5;241m=\u001b[39m \u001b[38;5;241m7\u001b[39m\n\u001b[1;32m      3\u001b[0m changeable_tensor\n",
      "\u001b[0;31mTypeError\u001b[0m: 'ResourceVariable' object does not support item assignment"
     ]
    }
   ],
   "source": [
    "# Will error (requires the .assign() method)\n",
    "changeable_tensor[0] = 7\n",
    "changeable_tensor"
   ]
  },
  {
   "cell_type": "code",
   "execution_count": 14,
   "id": "6cd73913",
   "metadata": {},
   "outputs": [
    {
     "data": {
      "text/plain": [
       "<tf.Variable 'Variable:0' shape=(2,) dtype=int32, numpy=array([7, 7], dtype=int32)>"
      ]
     },
     "execution_count": 14,
     "metadata": {},
     "output_type": "execute_result"
    }
   ],
   "source": [
    "# Won't error\n",
    "changeable_tensor[0].assign(7)\n",
    "changeable_tensor"
   ]
  },
  {
   "cell_type": "markdown",
   "id": "18155269",
   "metadata": {},
   "source": [
    "Now let's try to change a value in a tf.constant() tensor."
   ]
  },
  {
   "cell_type": "code",
   "execution_count": 15,
   "id": "a22c4b91",
   "metadata": {},
   "outputs": [
    {
     "ename": "AttributeError",
     "evalue": "'tensorflow.python.framework.ops.EagerTensor' object has no attribute 'assign'",
     "output_type": "error",
     "traceback": [
      "\u001b[0;31m---------------------------------------------------------------------------\u001b[0m",
      "\u001b[0;31mAttributeError\u001b[0m                            Traceback (most recent call last)",
      "Cell \u001b[0;32mIn [15], line 2\u001b[0m\n\u001b[1;32m      1\u001b[0m \u001b[38;5;66;03m# Will error (can't change tf.constant())\u001b[39;00m\n\u001b[0;32m----> 2\u001b[0m \u001b[43munchangeable_tensor\u001b[49m\u001b[43m[\u001b[49m\u001b[38;5;241;43m0\u001b[39;49m\u001b[43m]\u001b[49m\u001b[38;5;241;43m.\u001b[39;49m\u001b[43massign\u001b[49m(\u001b[38;5;241m7\u001b[39m)\n\u001b[1;32m      3\u001b[0m unchangleable_tensor\n",
      "File \u001b[0;32m/opt/homebrew/Caskroom/miniforge/base/envs/tensorflow/lib/python3.9/site-packages/tensorflow/python/framework/ops.py:401\u001b[0m, in \u001b[0;36mTensor.__getattr__\u001b[0;34m(self, name)\u001b[0m\n\u001b[1;32m    393\u001b[0m \u001b[38;5;28;01mif\u001b[39;00m name \u001b[38;5;129;01min\u001b[39;00m {\u001b[38;5;124m\"\u001b[39m\u001b[38;5;124mT\u001b[39m\u001b[38;5;124m\"\u001b[39m, \u001b[38;5;124m\"\u001b[39m\u001b[38;5;124mastype\u001b[39m\u001b[38;5;124m\"\u001b[39m, \u001b[38;5;124m\"\u001b[39m\u001b[38;5;124mravel\u001b[39m\u001b[38;5;124m\"\u001b[39m, \u001b[38;5;124m\"\u001b[39m\u001b[38;5;124mtranspose\u001b[39m\u001b[38;5;124m\"\u001b[39m, \u001b[38;5;124m\"\u001b[39m\u001b[38;5;124mreshape\u001b[39m\u001b[38;5;124m\"\u001b[39m, \u001b[38;5;124m\"\u001b[39m\u001b[38;5;124mclip\u001b[39m\u001b[38;5;124m\"\u001b[39m, \u001b[38;5;124m\"\u001b[39m\u001b[38;5;124msize\u001b[39m\u001b[38;5;124m\"\u001b[39m,\n\u001b[1;32m    394\u001b[0m             \u001b[38;5;124m\"\u001b[39m\u001b[38;5;124mtolist\u001b[39m\u001b[38;5;124m\"\u001b[39m, \u001b[38;5;124m\"\u001b[39m\u001b[38;5;124mdata\u001b[39m\u001b[38;5;124m\"\u001b[39m}:\n\u001b[1;32m    395\u001b[0m   \u001b[38;5;66;03m# TODO(wangpeng): Export the enable_numpy_behavior knob\u001b[39;00m\n\u001b[1;32m    396\u001b[0m   \u001b[38;5;28;01mraise\u001b[39;00m \u001b[38;5;167;01mAttributeError\u001b[39;00m(\u001b[38;5;124m\"\"\"\u001b[39m\n\u001b[1;32m    397\u001b[0m \u001b[38;5;124m    \u001b[39m\u001b[38;5;124m'\u001b[39m\u001b[38;5;132;01m{}\u001b[39;00m\u001b[38;5;124m'\u001b[39m\u001b[38;5;124m object has no attribute \u001b[39m\u001b[38;5;124m'\u001b[39m\u001b[38;5;132;01m{}\u001b[39;00m\u001b[38;5;124m'\u001b[39m\u001b[38;5;124m.\u001b[39m\n\u001b[1;32m    398\u001b[0m \u001b[38;5;124m    If you are looking for numpy-related methods, please run the following:\u001b[39m\n\u001b[1;32m    399\u001b[0m \u001b[38;5;124m    import tensorflow.python.ops.numpy_ops.np_config\u001b[39m\n\u001b[1;32m    400\u001b[0m \u001b[38;5;124m    np_config.enable_numpy_behavior()\u001b[39m\u001b[38;5;124m\"\"\"\u001b[39m\u001b[38;5;241m.\u001b[39mformat(\u001b[38;5;28mtype\u001b[39m(\u001b[38;5;28mself\u001b[39m)\u001b[38;5;241m.\u001b[39m\u001b[38;5;18m__name__\u001b[39m, name))\n\u001b[0;32m--> 401\u001b[0m \u001b[38;5;28;43mself\u001b[39;49m\u001b[38;5;241;43m.\u001b[39;49m\u001b[38;5;21;43m__getattribute__\u001b[39;49m\u001b[43m(\u001b[49m\u001b[43mname\u001b[49m\u001b[43m)\u001b[49m\n",
      "\u001b[0;31mAttributeError\u001b[0m: 'tensorflow.python.framework.ops.EagerTensor' object has no attribute 'assign'"
     ]
    }
   ],
   "source": [
    "# Will error (can't change tf.constant())\n",
    "unchangeable_tensor[0].assign(7)\n",
    "unchangleable_tensor"
   ]
  },
  {
   "cell_type": "markdown",
   "id": "78bc0ac5",
   "metadata": {},
   "source": [
    "Which one should you use? tf.constant() or tf.Variable()?\n",
    "\n",
    "It will depend on what your problem requires. However, most of the time, TensorFlow will automatically choose for you (when loading data or modelling data)."
   ]
  },
  {
   "cell_type": "markdown",
   "id": "841acd8d",
   "metadata": {},
   "source": [
    "## Creating random tensors"
   ]
  },
  {
   "cell_type": "markdown",
   "id": "e6ff9547",
   "metadata": {},
   "source": [
    "Random tensors are tensors of some arbitrary size which contain random numbers.\n",
    "\n",
    "Why would you want to create random tensors?\n",
    "\n",
    "This is what neural networks use to intialize their weights (patterns) that they're trying to learn in the data.\n",
    "\n",
    "For example, the process of a neural network learning often involves taking a random n-dimensional array of numbers and refining them until they represent some kind of pattern (a compressed way to represent the original data)."
   ]
  },
  {
   "cell_type": "markdown",
   "id": "a7ca29b0",
   "metadata": {},
   "source": [
    "#### How a network learns?\n",
    "\n",
    "A network learns by starting with random patterns (1) then going through demonstrative examples of data (2) whilst trying to update its random patterns to represent the examples (3)."
   ]
  },
  {
   "cell_type": "markdown",
   "id": "e6a86bde",
   "metadata": {},
   "source": [
    "We can create random tensors by using the tf.random.Generator class."
   ]
  },
  {
   "cell_type": "code",
   "execution_count": 19,
   "id": "1f594c21",
   "metadata": {},
   "outputs": [
    {
     "data": {
      "text/plain": [
       "(<tf.Tensor: shape=(3, 2), dtype=float32, numpy=\n",
       " array([[-0.7565803 , -0.06854702],\n",
       "        [ 0.07595026, -1.2573844 ],\n",
       "        [-0.23193763, -1.8107855 ]], dtype=float32)>,\n",
       " <tf.Tensor: shape=(3, 2), dtype=float32, numpy=\n",
       " array([[-0.7565803 , -0.06854702],\n",
       "        [ 0.07595026, -1.2573844 ],\n",
       "        [-0.23193763, -1.8107855 ]], dtype=float32)>,\n",
       " <tf.Tensor: shape=(3, 2), dtype=bool, numpy=\n",
       " array([[ True,  True],\n",
       "        [ True,  True],\n",
       "        [ True,  True]])>)"
      ]
     },
     "execution_count": 19,
     "metadata": {},
     "output_type": "execute_result"
    }
   ],
   "source": [
    "# Create two random (but the same) tensors\n",
    "with tf.device('/cpu:0'):\n",
    "    random_1 = tf.random.Generator.from_seed(42) # set the seed for reproducibility\n",
    "    random_1 = random_1.normal(shape=(3, 2)) # create tensor from a normal distribution \n",
    "    random_2 = tf.random.Generator.from_seed(42)\n",
    "    random_2 = random_2.normal(shape=(3, 2))\n",
    "\n",
    "# Are they equal?\n",
    "random_1, random_2, random_1 == random_2"
   ]
  },
  {
   "cell_type": "markdown",
   "id": "9bf2fe48",
   "metadata": {},
   "source": [
    "The random tensors we've made are actually pseudorandom numbers (they appear as random, but really aren't).\n",
    "\n",
    "If we set a seed we'll get the same random numbers (if you've ever used NumPy, this is similar to np.random.seed(42)).\n",
    "\n",
    "Setting the seed says, \"hey, create some random numbers, but flavour them with X\" (X is the seed).\n",
    "\n",
    "What do you think will happen when we change the seed?"
   ]
  },
  {
   "cell_type": "code",
   "execution_count": 20,
   "id": "656849ad",
   "metadata": {},
   "outputs": [
    {
     "data": {
      "text/plain": [
       "(<tf.Tensor: shape=(3, 2), dtype=float32, numpy=\n",
       " array([[-0.7565803 , -0.06854702],\n",
       "        [ 0.07595026, -1.2573844 ],\n",
       "        [-0.23193763, -1.8107855 ]], dtype=float32)>,\n",
       " <tf.Tensor: shape=(3, 2), dtype=float32, numpy=\n",
       " array([[ 0.27305737, -0.29925638],\n",
       "        [-0.3652325 ,  0.61883307],\n",
       "        [-1.0130816 ,  0.28291714]], dtype=float32)>,\n",
       " <tf.Tensor: shape=(3, 2), dtype=bool, numpy=\n",
       " array([[ True,  True],\n",
       "        [ True,  True],\n",
       "        [ True,  True]])>,\n",
       " <tf.Tensor: shape=(3, 2), dtype=bool, numpy=\n",
       " array([[False, False],\n",
       "        [False, False],\n",
       "        [False, False]])>)"
      ]
     },
     "execution_count": 20,
     "metadata": {},
     "output_type": "execute_result"
    }
   ],
   "source": [
    "# Create two random (and different) tensors\n",
    "with tf.device('/cpu:0'):\n",
    "    random_3 = tf.random.Generator.from_seed(42)\n",
    "    random_3 = random_3.normal(shape=(3, 2))\n",
    "    random_4 = tf.random.Generator.from_seed(11)\n",
    "    random_4 = random_4.normal(shape=(3, 2))\n",
    "\n",
    "# Check the tensors and see if they are equal\n",
    "random_3, random_4, random_1 == random_3, random_3 == random_4"
   ]
  },
  {
   "cell_type": "markdown",
   "id": "9b0d1d83",
   "metadata": {},
   "source": [
    "What if you wanted to shuffle the order of a tensor?\n",
    "\n",
    "Wait, why would you want to do that?\n",
    "\n",
    "Let's say you working with 15,000 images of cats and dogs and the first 10,000 images were of cats and the next 5,000 were of dogs. This order could effect how a neural network learns (it may overfit by learning the order of the data), instead, it might be a good idea to move your data around."
   ]
  },
  {
   "cell_type": "code",
   "execution_count": 21,
   "id": "c11ab6de",
   "metadata": {},
   "outputs": [
    {
     "data": {
      "text/plain": [
       "<tf.Tensor: shape=(3, 2), dtype=int32, numpy=\n",
       "array([[ 2,  5],\n",
       "       [10,  7],\n",
       "       [ 3,  4]], dtype=int32)>"
      ]
     },
     "execution_count": 21,
     "metadata": {},
     "output_type": "execute_result"
    }
   ],
   "source": [
    "# Shuffle a tensor (valuable for when you want to shuffle your data)\n",
    "not_shuffled = tf.constant([[10, 7],\n",
    "                            [3, 4],\n",
    "                            [2, 5]])\n",
    "# Gets different results each time\n",
    "tf.random.shuffle(not_shuffled)"
   ]
  },
  {
   "cell_type": "code",
   "execution_count": 22,
   "id": "5c5d6383",
   "metadata": {},
   "outputs": [
    {
     "data": {
      "text/plain": [
       "<tf.Tensor: shape=(3, 2), dtype=int32, numpy=\n",
       "array([[ 2,  5],\n",
       "       [ 3,  4],\n",
       "       [10,  7]], dtype=int32)>"
      ]
     },
     "execution_count": 22,
     "metadata": {},
     "output_type": "execute_result"
    }
   ],
   "source": [
    "# Shuffle in the same order every time using the seed parameter (won't acutally be the same)\n",
    "tf.random.shuffle(not_shuffled, seed=42)"
   ]
  },
  {
   "cell_type": "markdown",
   "id": "88998b87",
   "metadata": {},
   "source": [
    "Wait... why didn't the numbers come out the same?\n",
    "\n",
    "It's due to rule #4 of the tf.random.set_seed() documentation.\n",
    "\n",
    "\"4. If both the global and the operation seed are set: Both seeds are used in conjunction to determine the random sequence.\"\n",
    "\n",
    "tf.random.set_seed(42) sets the global seed, and the seed parameter in tf.random.shuffle(seed=42) sets the operation seed.\n",
    "\n",
    "Because, \"Operations that rely on a random seed actually derive it from two seeds: the global and operation-level seeds. This sets the global seed.\""
   ]
  },
  {
   "cell_type": "code",
   "execution_count": 23,
   "id": "f045d3fb",
   "metadata": {},
   "outputs": [
    {
     "data": {
      "text/plain": [
       "<tf.Tensor: shape=(3, 2), dtype=int32, numpy=\n",
       "array([[10,  7],\n",
       "       [ 3,  4],\n",
       "       [ 2,  5]], dtype=int32)>"
      ]
     },
     "execution_count": 23,
     "metadata": {},
     "output_type": "execute_result"
    }
   ],
   "source": [
    "# Shuffle in the same order every time\n",
    "\n",
    "# Set the global random seed\n",
    "tf.random.set_seed(42)\n",
    "\n",
    "# Set the operation random seed\n",
    "tf.random.shuffle(not_shuffled, seed=42)"
   ]
  },
  {
   "cell_type": "code",
   "execution_count": 24,
   "id": "eb7661e4",
   "metadata": {},
   "outputs": [
    {
     "data": {
      "text/plain": [
       "<tf.Tensor: shape=(3, 2), dtype=int32, numpy=\n",
       "array([[ 3,  4],\n",
       "       [ 2,  5],\n",
       "       [10,  7]], dtype=int32)>"
      ]
     },
     "execution_count": 24,
     "metadata": {},
     "output_type": "execute_result"
    }
   ],
   "source": [
    "# Set the global random seed\n",
    "tf.random.set_seed(42) # if you comment this out you'll get different results\n",
    "\n",
    "# Set the operation random seed\n",
    "tf.random.shuffle(not_shuffled)"
   ]
  },
  {
   "cell_type": "markdown",
   "id": "64c8f911",
   "metadata": {},
   "source": [
    "## Other ways to make tensors"
   ]
  },
  {
   "cell_type": "markdown",
   "id": "f37e56c2",
   "metadata": {},
   "source": [
    "Though you might rarely use these (remember, many tensor operations are done behind the scenes for you), you can use tf.ones() to create a tensor of all ones and tf.zeros() to create a tensor of all zeros."
   ]
  },
  {
   "cell_type": "code",
   "execution_count": 25,
   "id": "d955ed42",
   "metadata": {},
   "outputs": [
    {
     "data": {
      "text/plain": [
       "<tf.Tensor: shape=(3, 2), dtype=float32, numpy=\n",
       "array([[1., 1.],\n",
       "       [1., 1.],\n",
       "       [1., 1.]], dtype=float32)>"
      ]
     },
     "execution_count": 25,
     "metadata": {},
     "output_type": "execute_result"
    }
   ],
   "source": [
    "# Make a tensor of all ones\n",
    "tf.ones(shape=(3, 2))"
   ]
  },
  {
   "cell_type": "code",
   "execution_count": 26,
   "id": "58a52405",
   "metadata": {},
   "outputs": [
    {
     "data": {
      "text/plain": [
       "<tf.Tensor: shape=(3, 2), dtype=float32, numpy=\n",
       "array([[0., 0.],\n",
       "       [0., 0.],\n",
       "       [0., 0.]], dtype=float32)>"
      ]
     },
     "execution_count": 26,
     "metadata": {},
     "output_type": "execute_result"
    }
   ],
   "source": [
    "# Make a tensor of all zeros\n",
    "tf.zeros(shape=(3, 2))"
   ]
  },
  {
   "cell_type": "markdown",
   "id": "130e46fe",
   "metadata": {},
   "source": [
    "You can also turn NumPy arrays in into tensors.\n",
    "\n",
    "Remember, the main difference between tensors and NumPy arrays is that tensors can be run on GPUs.\n",
    "\n",
    "🔑 Note: A matrix or tensor is typically represented by a capital letter (e.g. X or A) where as a vector is typically represented by a lowercase letter (e.g. y or b)."
   ]
  },
  {
   "cell_type": "code",
   "execution_count": 27,
   "id": "8d8bc1ac",
   "metadata": {},
   "outputs": [
    {
     "data": {
      "text/plain": [
       "(array([ 1,  2,  3,  4,  5,  6,  7,  8,  9, 10, 11, 12, 13, 14, 15, 16, 17,\n",
       "        18, 19, 20, 21, 22, 23, 24], dtype=int32),\n",
       " <tf.Tensor: shape=(2, 4, 3), dtype=int32, numpy=\n",
       " array([[[ 1,  2,  3],\n",
       "         [ 4,  5,  6],\n",
       "         [ 7,  8,  9],\n",
       "         [10, 11, 12]],\n",
       " \n",
       "        [[13, 14, 15],\n",
       "         [16, 17, 18],\n",
       "         [19, 20, 21],\n",
       "         [22, 23, 24]]], dtype=int32)>)"
      ]
     },
     "execution_count": 27,
     "metadata": {},
     "output_type": "execute_result"
    }
   ],
   "source": [
    "import numpy as np\n",
    "numpy_A = np.arange(1, 25, dtype=np.int32) # create a NumPy array between 1 and 25\n",
    "A = tf.constant(numpy_A,  \n",
    "                shape=[2, 4, 3]) # note: the shape total (2*4*3) has to match the number of elements in the array\n",
    "numpy_A, A"
   ]
  },
  {
   "cell_type": "markdown",
   "id": "d72307b5",
   "metadata": {},
   "source": [
    "## Getting information from tensors (shape, rank, size)\n",
    "\n",
    "There will be times when you'll want to get different pieces of information from your tensors, in particular, you should know the following tensor vocabulary:\n",
    "\n",
    "* Shape: The length (number of elements) of each of the dimensions of a tensor.\n",
    "* Rank: The number of tensor dimensions. A scalar has rank 0, a vector has rank 1, a matrix is rank 2, a tensor has rank n.\n",
    "* Axis or Dimension: A particular dimension of a tensor.\n",
    "* Size: The total number of items in the tensor.\n",
    "\n",
    "You'll use these especially when you're trying to line up the shapes of your data to the shapes of your model. For example, making sure the shape of your image tensors are the same shape as your models input layer.\n",
    "\n",
    "We've already seen one of these before using the ndim attribute. Let's see the rest."
   ]
  },
  {
   "cell_type": "code",
   "execution_count": 28,
   "id": "311e76e8",
   "metadata": {},
   "outputs": [
    {
     "data": {
      "text/plain": [
       "<tf.Tensor: shape=(2, 3, 4, 5), dtype=float32, numpy=\n",
       "array([[[[0., 0., 0., 0., 0.],\n",
       "         [0., 0., 0., 0., 0.],\n",
       "         [0., 0., 0., 0., 0.],\n",
       "         [0., 0., 0., 0., 0.]],\n",
       "\n",
       "        [[0., 0., 0., 0., 0.],\n",
       "         [0., 0., 0., 0., 0.],\n",
       "         [0., 0., 0., 0., 0.],\n",
       "         [0., 0., 0., 0., 0.]],\n",
       "\n",
       "        [[0., 0., 0., 0., 0.],\n",
       "         [0., 0., 0., 0., 0.],\n",
       "         [0., 0., 0., 0., 0.],\n",
       "         [0., 0., 0., 0., 0.]]],\n",
       "\n",
       "\n",
       "       [[[0., 0., 0., 0., 0.],\n",
       "         [0., 0., 0., 0., 0.],\n",
       "         [0., 0., 0., 0., 0.],\n",
       "         [0., 0., 0., 0., 0.]],\n",
       "\n",
       "        [[0., 0., 0., 0., 0.],\n",
       "         [0., 0., 0., 0., 0.],\n",
       "         [0., 0., 0., 0., 0.],\n",
       "         [0., 0., 0., 0., 0.]],\n",
       "\n",
       "        [[0., 0., 0., 0., 0.],\n",
       "         [0., 0., 0., 0., 0.],\n",
       "         [0., 0., 0., 0., 0.],\n",
       "         [0., 0., 0., 0., 0.]]]], dtype=float32)>"
      ]
     },
     "execution_count": 28,
     "metadata": {},
     "output_type": "execute_result"
    }
   ],
   "source": [
    "# Create a rank 4 tensor (4 dimensions)\n",
    "rank_4_tensor = tf.zeros([2, 3, 4, 5])\n",
    "rank_4_tensor"
   ]
  },
  {
   "cell_type": "code",
   "execution_count": 29,
   "id": "23b70a56",
   "metadata": {},
   "outputs": [
    {
     "data": {
      "text/plain": [
       "(TensorShape([2, 3, 4, 5]), 4, <tf.Tensor: shape=(), dtype=int32, numpy=120>)"
      ]
     },
     "execution_count": 29,
     "metadata": {},
     "output_type": "execute_result"
    }
   ],
   "source": [
    "rank_4_tensor.shape, rank_4_tensor.ndim, tf.size(rank_4_tensor)"
   ]
  },
  {
   "cell_type": "code",
   "execution_count": 30,
   "id": "8e55f1d6",
   "metadata": {},
   "outputs": [
    {
     "data": {
      "text/plain": [
       "<tf.Tensor: shape=(3, 4, 5), dtype=float32, numpy=\n",
       "array([[[0., 0., 0., 0., 0.],\n",
       "        [0., 0., 0., 0., 0.],\n",
       "        [0., 0., 0., 0., 0.],\n",
       "        [0., 0., 0., 0., 0.]],\n",
       "\n",
       "       [[0., 0., 0., 0., 0.],\n",
       "        [0., 0., 0., 0., 0.],\n",
       "        [0., 0., 0., 0., 0.],\n",
       "        [0., 0., 0., 0., 0.]],\n",
       "\n",
       "       [[0., 0., 0., 0., 0.],\n",
       "        [0., 0., 0., 0., 0.],\n",
       "        [0., 0., 0., 0., 0.],\n",
       "        [0., 0., 0., 0., 0.]]], dtype=float32)>"
      ]
     },
     "execution_count": 30,
     "metadata": {},
     "output_type": "execute_result"
    }
   ],
   "source": [
    "rank_4_tensor[0]"
   ]
  },
  {
   "cell_type": "code",
   "execution_count": 31,
   "id": "aa4190d2",
   "metadata": {},
   "outputs": [
    {
     "name": "stdout",
     "output_type": "stream",
     "text": [
      "Datatype of every element: <dtype: 'float32'>\n",
      "Number of dimensions (rank): 4\n",
      "Shape of tensor: (2, 3, 4, 5)\n",
      "Elements along axis 0 of tensor: 2\n",
      "Elements along last axis of tensor: 5\n",
      "Total number of elements (2*3*4*5): 120\n"
     ]
    }
   ],
   "source": [
    "# Get various attributes of tensor\n",
    "print(\"Datatype of every element:\", rank_4_tensor.dtype)\n",
    "print(\"Number of dimensions (rank):\", rank_4_tensor.ndim)\n",
    "print(\"Shape of tensor:\", rank_4_tensor.shape)\n",
    "print(\"Elements along axis 0 of tensor:\", rank_4_tensor.shape[0])\n",
    "print(\"Elements along last axis of tensor:\", rank_4_tensor.shape[-1])\n",
    "print(\"Total number of elements (2*3*4*5):\", tf.size(rank_4_tensor).numpy()) # .numpy() converts to NumPy array"
   ]
  },
  {
   "cell_type": "markdown",
   "id": "6497264a",
   "metadata": {},
   "source": [
    "## Indexing in tensors\n",
    "\n",
    "You can also index tensors just like Python lists."
   ]
  },
  {
   "cell_type": "code",
   "execution_count": 32,
   "id": "5c5a9a9f",
   "metadata": {},
   "outputs": [
    {
     "data": {
      "text/plain": [
       "<tf.Tensor: shape=(2, 2, 2, 2), dtype=float32, numpy=\n",
       "array([[[[0., 0.],\n",
       "         [0., 0.]],\n",
       "\n",
       "        [[0., 0.],\n",
       "         [0., 0.]]],\n",
       "\n",
       "\n",
       "       [[[0., 0.],\n",
       "         [0., 0.]],\n",
       "\n",
       "        [[0., 0.],\n",
       "         [0., 0.]]]], dtype=float32)>"
      ]
     },
     "execution_count": 32,
     "metadata": {},
     "output_type": "execute_result"
    }
   ],
   "source": [
    "# Get the first 2 items of each dimension\n",
    "rank_4_tensor[:2, :2, :2, :2]"
   ]
  },
  {
   "cell_type": "code",
   "execution_count": 33,
   "id": "02856eff",
   "metadata": {},
   "outputs": [
    {
     "data": {
      "text/plain": [
       "<tf.Tensor: shape=(1, 1, 1, 5), dtype=float32, numpy=array([[[[0., 0., 0., 0., 0.]]]], dtype=float32)>"
      ]
     },
     "execution_count": 33,
     "metadata": {},
     "output_type": "execute_result"
    }
   ],
   "source": [
    "# Get the first dimension from each index except for the final one\n",
    "rank_4_tensor[:1, :1, :1, :]"
   ]
  },
  {
   "cell_type": "code",
   "execution_count": 34,
   "id": "1dd386f8",
   "metadata": {},
   "outputs": [
    {
     "data": {
      "text/plain": [
       "<tf.Tensor: shape=(2,), dtype=int32, numpy=array([7, 4], dtype=int32)>"
      ]
     },
     "execution_count": 34,
     "metadata": {},
     "output_type": "execute_result"
    }
   ],
   "source": [
    "# Create a rank 2 tensor (2 dimensions)\n",
    "rank_2_tensor = tf.constant([[10, 7],\n",
    "                             [3, 4]])\n",
    "\n",
    "# Get the last item of each row\n",
    "rank_2_tensor[:, -1]"
   ]
  },
  {
   "cell_type": "markdown",
   "id": "80ce804a",
   "metadata": {},
   "source": [
    "* You can also add dimensions to your tensor whilst keeping the same information present using tf.newaxis."
   ]
  },
  {
   "cell_type": "code",
   "execution_count": 35,
   "id": "e6e3ca9d",
   "metadata": {},
   "outputs": [
    {
     "data": {
      "text/plain": [
       "(<tf.Tensor: shape=(2, 2), dtype=int32, numpy=\n",
       " array([[10,  7],\n",
       "        [ 3,  4]], dtype=int32)>,\n",
       " <tf.Tensor: shape=(2, 2, 1), dtype=int32, numpy=\n",
       " array([[[10],\n",
       "         [ 7]],\n",
       " \n",
       "        [[ 3],\n",
       "         [ 4]]], dtype=int32)>)"
      ]
     },
     "execution_count": 35,
     "metadata": {},
     "output_type": "execute_result"
    }
   ],
   "source": [
    "# Add an extra dimension (to the end)\n",
    "rank_3_tensor = rank_2_tensor[..., tf.newaxis] # in Python \"...\" means \"all dimensions prior to\"\n",
    "rank_2_tensor, rank_3_tensor # shape (2, 2), shape (2, 2, 1)"
   ]
  },
  {
   "cell_type": "markdown",
   "id": "9c086014",
   "metadata": {},
   "source": [
    "* You can achieve the same using tf.expand_dims()."
   ]
  },
  {
   "cell_type": "code",
   "execution_count": 36,
   "id": "02f4fdbb",
   "metadata": {},
   "outputs": [
    {
     "data": {
      "text/plain": [
       "<tf.Tensor: shape=(2, 2, 1), dtype=int32, numpy=\n",
       "array([[[10],\n",
       "        [ 7]],\n",
       "\n",
       "       [[ 3],\n",
       "        [ 4]]], dtype=int32)>"
      ]
     },
     "execution_count": 36,
     "metadata": {},
     "output_type": "execute_result"
    }
   ],
   "source": [
    "tf.expand_dims(rank_2_tensor, axis=-1) # \"-1\" means last axis"
   ]
  },
  {
   "cell_type": "code",
   "execution_count": 37,
   "id": "fe1298a3",
   "metadata": {},
   "outputs": [
    {
     "data": {
      "text/plain": [
       "<tf.Tensor: shape=(1, 2, 2), dtype=int32, numpy=\n",
       "array([[[10,  7],\n",
       "        [ 3,  4]]], dtype=int32)>"
      ]
     },
     "execution_count": 37,
     "metadata": {},
     "output_type": "execute_result"
    }
   ],
   "source": [
    "tf.expand_dims(rank_2_tensor, axis=0)"
   ]
  },
  {
   "cell_type": "markdown",
   "id": "3f4e7ef7",
   "metadata": {},
   "source": [
    "## Manipulating tensors (tensor operations)\n",
    "\n",
    "Finding patterns in tensors (numerical representation of data) requires manipulating them.\n",
    "\n",
    "Again, when building models in TensorFlow, much of this pattern discovery is done for you."
   ]
  },
  {
   "cell_type": "markdown",
   "id": "fe632d77",
   "metadata": {},
   "source": [
    "## Basic operations\n",
    "\n",
    "You can perform many of the basic mathematical operations directly on tensors using Python operators such as, +, -, *."
   ]
  },
  {
   "cell_type": "code",
   "execution_count": 38,
   "id": "780ead36",
   "metadata": {},
   "outputs": [
    {
     "data": {
      "text/plain": [
       "<tf.Tensor: shape=(2, 2), dtype=int32, numpy=\n",
       "array([[30, 27],\n",
       "       [23, 24]], dtype=int32)>"
      ]
     },
     "execution_count": 38,
     "metadata": {},
     "output_type": "execute_result"
    }
   ],
   "source": [
    "# You can add values to a tensor using the addition operator\n",
    "tensor = tf.constant([[10, 7], [3, 4]])\n",
    "tensor + 20"
   ]
  },
  {
   "cell_type": "markdown",
   "id": "ea537b96",
   "metadata": {},
   "source": [
    "* Since we used tf.constant(), the original tensor is unchanged (the addition gets done on a copy)."
   ]
  },
  {
   "cell_type": "code",
   "execution_count": 39,
   "id": "53c6bcdf",
   "metadata": {},
   "outputs": [
    {
     "data": {
      "text/plain": [
       "<tf.Tensor: shape=(2, 2), dtype=int32, numpy=\n",
       "array([[10,  7],\n",
       "       [ 3,  4]], dtype=int32)>"
      ]
     },
     "execution_count": 39,
     "metadata": {},
     "output_type": "execute_result"
    }
   ],
   "source": [
    "# Original tensor unchanged\n",
    "tensor"
   ]
  },
  {
   "cell_type": "code",
   "execution_count": 40,
   "id": "92aa3f10",
   "metadata": {},
   "outputs": [
    {
     "data": {
      "text/plain": [
       "<tf.Tensor: shape=(2, 2), dtype=int32, numpy=\n",
       "array([[100,  70],\n",
       "       [ 30,  40]], dtype=int32)>"
      ]
     },
     "execution_count": 40,
     "metadata": {},
     "output_type": "execute_result"
    }
   ],
   "source": [
    "# Multiplication (known as element-wise multiplication)\n",
    "tensor * 10"
   ]
  },
  {
   "cell_type": "code",
   "execution_count": 41,
   "id": "ecb60fd8",
   "metadata": {},
   "outputs": [
    {
     "data": {
      "text/plain": [
       "<tf.Tensor: shape=(2, 2), dtype=int32, numpy=\n",
       "array([[ 0, -3],\n",
       "       [-7, -6]], dtype=int32)>"
      ]
     },
     "execution_count": 41,
     "metadata": {},
     "output_type": "execute_result"
    }
   ],
   "source": [
    "# Subtraction\n",
    "tensor - 10"
   ]
  },
  {
   "cell_type": "markdown",
   "id": "7a650623",
   "metadata": {},
   "source": [
    "Use the equivalent TensorFlow function. Using the TensorFlow function (where possible) has the advantage of being sped up later down the line when running as part of a TensorFlow graph."
   ]
  },
  {
   "cell_type": "code",
   "execution_count": 42,
   "id": "ae0ae549",
   "metadata": {},
   "outputs": [
    {
     "data": {
      "text/plain": [
       "<tf.Tensor: shape=(2, 2), dtype=int32, numpy=\n",
       "array([[100,  70],\n",
       "       [ 30,  40]], dtype=int32)>"
      ]
     },
     "execution_count": 42,
     "metadata": {},
     "output_type": "execute_result"
    }
   ],
   "source": [
    "# Use the tensorflow function equivalent of the '*' (multiply) operator\n",
    "tf.multiply(tensor, 10)"
   ]
  },
  {
   "cell_type": "code",
   "execution_count": 43,
   "id": "dc68ff4d",
   "metadata": {},
   "outputs": [
    {
     "data": {
      "text/plain": [
       "<tf.Tensor: shape=(2, 2), dtype=int32, numpy=\n",
       "array([[10,  7],\n",
       "       [ 3,  4]], dtype=int32)>"
      ]
     },
     "execution_count": 43,
     "metadata": {},
     "output_type": "execute_result"
    }
   ],
   "source": [
    "# The original tensor is still unchanged\n",
    "tensor"
   ]
  },
  {
   "cell_type": "markdown",
   "id": "dfd4b11e",
   "metadata": {},
   "source": [
    "## Matrix mutliplication\n",
    "\n",
    "One of the most common operations in machine learning algorithms is matrix multiplication.\n",
    "\n",
    "TensorFlow implements this matrix multiplication functionality in the **tf.matmul()** method.\n",
    "\n",
    "The main two rules for matrix multiplication to remember are:\n",
    "\n",
    "The inner dimensions must match:\n",
    "\n",
    "(3, 5) @ (3, 5) won't work\n",
    "(5, 3) @ (3, 5) will work\n",
    "(3, 5) @ (5, 3) will work\n",
    "\n",
    "The resulting matrix has the shape of the outer dimensions:\n",
    "(5, 3) @ (3, 5) -> (5, 5)\n",
    "(3, 5) @ (5, 3) -> (3, 3)\n",
    "\n",
    "🔑 Note: '@' in Python is the symbol for matrix multiplication."
   ]
  },
  {
   "cell_type": "code",
   "execution_count": 44,
   "id": "445524d3",
   "metadata": {},
   "outputs": [
    {
     "name": "stdout",
     "output_type": "stream",
     "text": [
      "tf.Tensor(\n",
      "[[10  7]\n",
      " [ 3  4]], shape=(2, 2), dtype=int32)\n"
     ]
    },
    {
     "data": {
      "text/plain": [
       "<tf.Tensor: shape=(2, 2), dtype=int32, numpy=\n",
       "array([[121,  98],\n",
       "       [ 42,  37]], dtype=int32)>"
      ]
     },
     "execution_count": 44,
     "metadata": {},
     "output_type": "execute_result"
    }
   ],
   "source": [
    "# Matrix multiplication in TensorFlow\n",
    "print(tensor)\n",
    "tf.matmul(tensor, tensor)"
   ]
  },
  {
   "cell_type": "code",
   "execution_count": 45,
   "id": "91665610",
   "metadata": {},
   "outputs": [
    {
     "data": {
      "text/plain": [
       "<tf.Tensor: shape=(2, 2), dtype=int32, numpy=\n",
       "array([[121,  98],\n",
       "       [ 42,  37]], dtype=int32)>"
      ]
     },
     "execution_count": 45,
     "metadata": {},
     "output_type": "execute_result"
    }
   ],
   "source": [
    "# Matrix multiplication with Python operator '@'\n",
    "tensor @ tensor"
   ]
  },
  {
   "cell_type": "markdown",
   "id": "6dfbdd73",
   "metadata": {},
   "source": [
    "Both of these examples work because our tensor variable is of shape (2, 2).\n",
    "\n",
    "What if we created some tensors which had mismatched shapes?"
   ]
  },
  {
   "cell_type": "code",
   "execution_count": 46,
   "id": "4e140db7",
   "metadata": {},
   "outputs": [
    {
     "data": {
      "text/plain": [
       "(<tf.Tensor: shape=(3, 2), dtype=int32, numpy=\n",
       " array([[1, 2],\n",
       "        [3, 4],\n",
       "        [5, 6]], dtype=int32)>,\n",
       " <tf.Tensor: shape=(3, 2), dtype=int32, numpy=\n",
       " array([[ 7,  8],\n",
       "        [ 9, 10],\n",
       "        [11, 12]], dtype=int32)>)"
      ]
     },
     "execution_count": 46,
     "metadata": {},
     "output_type": "execute_result"
    }
   ],
   "source": [
    "# Create (3, 2) tensor\n",
    "X = tf.constant([[1, 2],\n",
    "                 [3, 4],\n",
    "                 [5, 6]])\n",
    "\n",
    "# Create another (3, 2) tensor\n",
    "Y = tf.constant([[7, 8],\n",
    "                 [9, 10],\n",
    "                 [11, 12]])\n",
    "X, Y"
   ]
  },
  {
   "cell_type": "code",
   "execution_count": 47,
   "id": "3ee08445",
   "metadata": {},
   "outputs": [
    {
     "ename": "InvalidArgumentError",
     "evalue": "In[0] mismatch In[1] shape: 2 vs. 3: [3,2] [3,2] 0 0 [Op:MatMul]",
     "output_type": "error",
     "traceback": [
      "\u001b[0;31m---------------------------------------------------------------------------\u001b[0m",
      "\u001b[0;31mInvalidArgumentError\u001b[0m                      Traceback (most recent call last)",
      "Cell \u001b[0;32mIn [47], line 2\u001b[0m\n\u001b[1;32m      1\u001b[0m \u001b[38;5;66;03m# Try to matrix multiply them (will error)\u001b[39;00m\n\u001b[0;32m----> 2\u001b[0m \u001b[43mX\u001b[49m\u001b[43m \u001b[49m\u001b[38;5;241;43m@\u001b[39;49m\u001b[43m \u001b[49m\u001b[43mY\u001b[49m\n",
      "File \u001b[0;32m/opt/homebrew/Caskroom/miniforge/base/envs/tensorflow/lib/python3.9/site-packages/tensorflow/python/ops/math_ops.py:1234\u001b[0m, in \u001b[0;36m_OverrideBinaryOperatorHelper.<locals>.binary_op_wrapper\u001b[0;34m(x, y)\u001b[0m\n\u001b[1;32m   1229\u001b[0m \u001b[38;5;28;01mtry\u001b[39;00m:\n\u001b[1;32m   1230\u001b[0m   \u001b[38;5;66;03m# force_same_dtype=False to preserve existing TF behavior\u001b[39;00m\n\u001b[1;32m   1231\u001b[0m   \u001b[38;5;66;03m# TODO(b/178860388): Figure out why binary_op_wrapper and\u001b[39;00m\n\u001b[1;32m   1232\u001b[0m   \u001b[38;5;66;03m#   r_binary_op_wrapper use different force_same_dtype values.\u001b[39;00m\n\u001b[1;32m   1233\u001b[0m   x, y \u001b[38;5;241m=\u001b[39m maybe_promote_tensors(x, y, force_same_dtype\u001b[38;5;241m=\u001b[39m\u001b[38;5;28;01mFalse\u001b[39;00m)\n\u001b[0;32m-> 1234\u001b[0m   \u001b[38;5;28;01mreturn\u001b[39;00m \u001b[43mfunc\u001b[49m\u001b[43m(\u001b[49m\u001b[43mx\u001b[49m\u001b[43m,\u001b[49m\u001b[43m \u001b[49m\u001b[43my\u001b[49m\u001b[43m,\u001b[49m\u001b[43m \u001b[49m\u001b[43mname\u001b[49m\u001b[38;5;241;43m=\u001b[39;49m\u001b[43mname\u001b[49m\u001b[43m)\u001b[49m\n\u001b[1;32m   1235\u001b[0m \u001b[38;5;28;01mexcept\u001b[39;00m (\u001b[38;5;167;01mTypeError\u001b[39;00m, \u001b[38;5;167;01mValueError\u001b[39;00m) \u001b[38;5;28;01mas\u001b[39;00m e:\n\u001b[1;32m   1236\u001b[0m   \u001b[38;5;66;03m# Even if dispatching the op failed, the RHS may be a tensor aware\u001b[39;00m\n\u001b[1;32m   1237\u001b[0m   \u001b[38;5;66;03m# object that can implement the operator with knowledge of itself\u001b[39;00m\n\u001b[0;32m   (...)\u001b[0m\n\u001b[1;32m   1240\u001b[0m   \u001b[38;5;66;03m# original error from the LHS, because it may be more\u001b[39;00m\n\u001b[1;32m   1241\u001b[0m   \u001b[38;5;66;03m# informative.\u001b[39;00m\n\u001b[1;32m   1242\u001b[0m   \u001b[38;5;28;01mif\u001b[39;00m \u001b[38;5;28mhasattr\u001b[39m(\u001b[38;5;28mtype\u001b[39m(y), \u001b[38;5;124m\"\u001b[39m\u001b[38;5;124m__r\u001b[39m\u001b[38;5;132;01m%s\u001b[39;00m\u001b[38;5;124m__\u001b[39m\u001b[38;5;124m\"\u001b[39m \u001b[38;5;241m%\u001b[39m op_name):\n",
      "File \u001b[0;32m/opt/homebrew/Caskroom/miniforge/base/envs/tensorflow/lib/python3.9/site-packages/tensorflow/python/ops/math_ops.py:3598\u001b[0m, in \u001b[0;36mmatmul_wrapper\u001b[0;34m(a, b, name)\u001b[0m\n\u001b[1;32m   3596\u001b[0m \u001b[38;5;28;01mif\u001b[39;00m ops\u001b[38;5;241m.\u001b[39m_numpy_style_type_promotion:\n\u001b[1;32m   3597\u001b[0m   \u001b[38;5;28;01mreturn\u001b[39;00m a\u001b[38;5;241m.\u001b[39m_matmul(b)\n\u001b[0;32m-> 3598\u001b[0m \u001b[38;5;28;01mreturn\u001b[39;00m \u001b[43mmatmul\u001b[49m\u001b[43m(\u001b[49m\u001b[43ma\u001b[49m\u001b[43m,\u001b[49m\u001b[43m \u001b[49m\u001b[43mb\u001b[49m\u001b[43m,\u001b[49m\u001b[43m \u001b[49m\u001b[43mname\u001b[49m\u001b[38;5;241;43m=\u001b[39;49m\u001b[43mname\u001b[49m\u001b[43m)\u001b[49m\n",
      "File \u001b[0;32m/opt/homebrew/Caskroom/miniforge/base/envs/tensorflow/lib/python3.9/site-packages/tensorflow/python/util/dispatch.py:206\u001b[0m, in \u001b[0;36madd_dispatch_support.<locals>.wrapper\u001b[0;34m(*args, **kwargs)\u001b[0m\n\u001b[1;32m    204\u001b[0m \u001b[38;5;124;03m\"\"\"Call target, and fall back on dispatchers if there is a TypeError.\"\"\"\u001b[39;00m\n\u001b[1;32m    205\u001b[0m \u001b[38;5;28;01mtry\u001b[39;00m:\n\u001b[0;32m--> 206\u001b[0m   \u001b[38;5;28;01mreturn\u001b[39;00m \u001b[43mtarget\u001b[49m\u001b[43m(\u001b[49m\u001b[38;5;241;43m*\u001b[39;49m\u001b[43margs\u001b[49m\u001b[43m,\u001b[49m\u001b[43m \u001b[49m\u001b[38;5;241;43m*\u001b[39;49m\u001b[38;5;241;43m*\u001b[39;49m\u001b[43mkwargs\u001b[49m\u001b[43m)\u001b[49m\n\u001b[1;32m    207\u001b[0m \u001b[38;5;28;01mexcept\u001b[39;00m (\u001b[38;5;167;01mTypeError\u001b[39;00m, \u001b[38;5;167;01mValueError\u001b[39;00m):\n\u001b[1;32m    208\u001b[0m   \u001b[38;5;66;03m# Note: convert_to_eager_tensor currently raises a ValueError, not a\u001b[39;00m\n\u001b[1;32m    209\u001b[0m   \u001b[38;5;66;03m# TypeError, when given unexpected types.  So we need to catch both.\u001b[39;00m\n\u001b[1;32m    210\u001b[0m   result \u001b[38;5;241m=\u001b[39m dispatch(wrapper, args, kwargs)\n",
      "File \u001b[0;32m/opt/homebrew/Caskroom/miniforge/base/envs/tensorflow/lib/python3.9/site-packages/tensorflow/python/ops/math_ops.py:3489\u001b[0m, in \u001b[0;36mmatmul\u001b[0;34m(a, b, transpose_a, transpose_b, adjoint_a, adjoint_b, a_is_sparse, b_is_sparse, name)\u001b[0m\n\u001b[1;32m   3487\u001b[0m   \u001b[38;5;28;01mreturn\u001b[39;00m ret\n\u001b[1;32m   3488\u001b[0m \u001b[38;5;28;01melse\u001b[39;00m:\n\u001b[0;32m-> 3489\u001b[0m   \u001b[38;5;28;01mreturn\u001b[39;00m \u001b[43mgen_math_ops\u001b[49m\u001b[38;5;241;43m.\u001b[39;49m\u001b[43mmat_mul\u001b[49m\u001b[43m(\u001b[49m\n\u001b[1;32m   3490\u001b[0m \u001b[43m      \u001b[49m\u001b[43ma\u001b[49m\u001b[43m,\u001b[49m\u001b[43m \u001b[49m\u001b[43mb\u001b[49m\u001b[43m,\u001b[49m\u001b[43m \u001b[49m\u001b[43mtranspose_a\u001b[49m\u001b[38;5;241;43m=\u001b[39;49m\u001b[43mtranspose_a\u001b[49m\u001b[43m,\u001b[49m\u001b[43m \u001b[49m\u001b[43mtranspose_b\u001b[49m\u001b[38;5;241;43m=\u001b[39;49m\u001b[43mtranspose_b\u001b[49m\u001b[43m,\u001b[49m\u001b[43m \u001b[49m\u001b[43mname\u001b[49m\u001b[38;5;241;43m=\u001b[39;49m\u001b[43mname\u001b[49m\u001b[43m)\u001b[49m\n",
      "File \u001b[0;32m/opt/homebrew/Caskroom/miniforge/base/envs/tensorflow/lib/python3.9/site-packages/tensorflow/python/ops/gen_math_ops.py:5700\u001b[0m, in \u001b[0;36mmat_mul\u001b[0;34m(a, b, transpose_a, transpose_b, name)\u001b[0m\n\u001b[1;32m   5698\u001b[0m   \u001b[38;5;28;01mreturn\u001b[39;00m _result\n\u001b[1;32m   5699\u001b[0m \u001b[38;5;28;01mexcept\u001b[39;00m _core\u001b[38;5;241m.\u001b[39m_NotOkStatusException \u001b[38;5;28;01mas\u001b[39;00m e:\n\u001b[0;32m-> 5700\u001b[0m   \u001b[43m_ops\u001b[49m\u001b[38;5;241;43m.\u001b[39;49m\u001b[43mraise_from_not_ok_status\u001b[49m\u001b[43m(\u001b[49m\u001b[43me\u001b[49m\u001b[43m,\u001b[49m\u001b[43m \u001b[49m\u001b[43mname\u001b[49m\u001b[43m)\u001b[49m\n\u001b[1;32m   5701\u001b[0m \u001b[38;5;28;01mexcept\u001b[39;00m _core\u001b[38;5;241m.\u001b[39m_FallbackException:\n\u001b[1;32m   5702\u001b[0m   \u001b[38;5;28;01mpass\u001b[39;00m\n",
      "File \u001b[0;32m/opt/homebrew/Caskroom/miniforge/base/envs/tensorflow/lib/python3.9/site-packages/tensorflow/python/framework/ops.py:6897\u001b[0m, in \u001b[0;36mraise_from_not_ok_status\u001b[0;34m(e, name)\u001b[0m\n\u001b[1;32m   6895\u001b[0m message \u001b[38;5;241m=\u001b[39m e\u001b[38;5;241m.\u001b[39mmessage \u001b[38;5;241m+\u001b[39m (\u001b[38;5;124m\"\u001b[39m\u001b[38;5;124m name: \u001b[39m\u001b[38;5;124m\"\u001b[39m \u001b[38;5;241m+\u001b[39m name \u001b[38;5;28;01mif\u001b[39;00m name \u001b[38;5;129;01mis\u001b[39;00m \u001b[38;5;129;01mnot\u001b[39;00m \u001b[38;5;28;01mNone\u001b[39;00m \u001b[38;5;28;01melse\u001b[39;00m \u001b[38;5;124m\"\u001b[39m\u001b[38;5;124m\"\u001b[39m)\n\u001b[1;32m   6896\u001b[0m \u001b[38;5;66;03m# pylint: disable=protected-access\u001b[39;00m\n\u001b[0;32m-> 6897\u001b[0m \u001b[43msix\u001b[49m\u001b[38;5;241;43m.\u001b[39;49m\u001b[43mraise_from\u001b[49m\u001b[43m(\u001b[49m\u001b[43mcore\u001b[49m\u001b[38;5;241;43m.\u001b[39;49m\u001b[43m_status_to_exception\u001b[49m\u001b[43m(\u001b[49m\u001b[43me\u001b[49m\u001b[38;5;241;43m.\u001b[39;49m\u001b[43mcode\u001b[49m\u001b[43m,\u001b[49m\u001b[43m \u001b[49m\u001b[43mmessage\u001b[49m\u001b[43m)\u001b[49m\u001b[43m,\u001b[49m\u001b[43m \u001b[49m\u001b[38;5;28;43;01mNone\u001b[39;49;00m\u001b[43m)\u001b[49m\n",
      "File \u001b[0;32m<string>:3\u001b[0m, in \u001b[0;36mraise_from\u001b[0;34m(value, from_value)\u001b[0m\n",
      "\u001b[0;31mInvalidArgumentError\u001b[0m: In[0] mismatch In[1] shape: 2 vs. 3: [3,2] [3,2] 0 0 [Op:MatMul]"
     ]
    }
   ],
   "source": [
    "# Try to matrix multiply them (will error)\n",
    "X @ Y"
   ]
  },
  {
   "cell_type": "markdown",
   "id": "6005a7ea",
   "metadata": {},
   "source": [
    "Trying to matrix multiply two tensors with the shape (3, 2) errors because the inner dimensions don't match.\n",
    "\n",
    "We need to either:\n",
    "\n",
    "Reshape X to (2, 3) so it's (2, 3) @ (3, 2).\n",
    "Reshape Y to (3, 2) so it's (3, 2) @ (2, 3).\n",
    "\n",
    "We can do this with either:\n",
    "\n",
    "* **tf.reshape()** - allows us to reshape a tensor into a defined shape.\n",
    "* **tf.transpose()** - switches the dimensions of a given tensor."
   ]
  },
  {
   "cell_type": "markdown",
   "id": "f2a807e5",
   "metadata": {},
   "source": [
    "Let's try tf.reshape() first."
   ]
  },
  {
   "cell_type": "code",
   "execution_count": 48,
   "id": "a015ee0e",
   "metadata": {},
   "outputs": [
    {
     "data": {
      "text/plain": [
       "<tf.Tensor: shape=(2, 3), dtype=int32, numpy=\n",
       "array([[ 7,  8,  9],\n",
       "       [10, 11, 12]], dtype=int32)>"
      ]
     },
     "execution_count": 48,
     "metadata": {},
     "output_type": "execute_result"
    }
   ],
   "source": [
    "# Example of reshape (3, 2) -> (2, 3)\n",
    "tf.reshape(Y, shape=(2, 3))"
   ]
  },
  {
   "cell_type": "code",
   "execution_count": 49,
   "id": "3ef67e19",
   "metadata": {},
   "outputs": [
    {
     "data": {
      "text/plain": [
       "<tf.Tensor: shape=(3, 3), dtype=int32, numpy=\n",
       "array([[ 27,  30,  33],\n",
       "       [ 61,  68,  75],\n",
       "       [ 95, 106, 117]], dtype=int32)>"
      ]
     },
     "execution_count": 49,
     "metadata": {},
     "output_type": "execute_result"
    }
   ],
   "source": [
    "# Try matrix multiplication with reshaped Y\n",
    "X @ tf.reshape(Y, shape=(2, 3))"
   ]
  },
  {
   "cell_type": "markdown",
   "id": "97c707df",
   "metadata": {},
   "source": [
    "It worked, let's try the same with a reshaped X, except this time we'll use tf.transpose() and tf.matmul()."
   ]
  },
  {
   "cell_type": "code",
   "execution_count": 50,
   "id": "b2d6f4e0",
   "metadata": {},
   "outputs": [
    {
     "data": {
      "text/plain": [
       "<tf.Tensor: shape=(2, 3), dtype=int32, numpy=\n",
       "array([[1, 3, 5],\n",
       "       [2, 4, 6]], dtype=int32)>"
      ]
     },
     "execution_count": 50,
     "metadata": {},
     "output_type": "execute_result"
    }
   ],
   "source": [
    "# Example of transpose (3, 2) -> (2, 3)\n",
    "tf.transpose(X)"
   ]
  },
  {
   "cell_type": "code",
   "execution_count": 51,
   "id": "9e3b0ab1",
   "metadata": {},
   "outputs": [
    {
     "data": {
      "text/plain": [
       "<tf.Tensor: shape=(2, 2), dtype=int32, numpy=\n",
       "array([[ 89,  98],\n",
       "       [116, 128]], dtype=int32)>"
      ]
     },
     "execution_count": 51,
     "metadata": {},
     "output_type": "execute_result"
    }
   ],
   "source": [
    "# Try matrix multiplication \n",
    "tf.matmul(tf.transpose(X), Y)"
   ]
  },
  {
   "cell_type": "code",
   "execution_count": 52,
   "id": "c5a0e57c",
   "metadata": {},
   "outputs": [
    {
     "data": {
      "text/plain": [
       "<tf.Tensor: shape=(2, 2), dtype=int32, numpy=\n",
       "array([[ 89,  98],\n",
       "       [116, 128]], dtype=int32)>"
      ]
     },
     "execution_count": 52,
     "metadata": {},
     "output_type": "execute_result"
    }
   ],
   "source": [
    "# You can achieve the same result with parameters\n",
    "tf.matmul(a=X, b=Y, transpose_a=True, transpose_b=False)"
   ]
  },
  {
   "cell_type": "markdown",
   "id": "b6bea78a",
   "metadata": {},
   "source": [
    "Notice the difference in the resulting shapes when tranposing X or reshaping Y.\n",
    "\n",
    "This is because of the 2nd rule mentioned above:\n",
    "\n",
    "* (3, 2) @ (2, 3) -> (3, 3) done with X @ tf.reshape(Y, shape=(2, 3))\n",
    "* (2, 3) @ (3, 2) -> (2, 2) done with tf.matmul(tf.transpose(X), Y)\n",
    "\n",
    "This kind of data manipulation is a reminder: you'll spend a lot of your time in machine learning and working with neural networks reshaping data (in the form of tensors) to prepare it to be used with various operations (such as feeding it to a model)."
   ]
  },
  {
   "cell_type": "markdown",
   "id": "e796466a",
   "metadata": {},
   "source": [
    "## The dot product\n",
    "\n",
    "Multiplying matrices by each other is also referred to as the dot product.\n",
    "\n",
    "You can perform the **tf.matmul()** operation using **tf.tensordot()**."
   ]
  },
  {
   "cell_type": "code",
   "execution_count": 53,
   "id": "9d9fdedf",
   "metadata": {},
   "outputs": [
    {
     "data": {
      "text/plain": [
       "<tf.Tensor: shape=(2, 2), dtype=int32, numpy=\n",
       "array([[ 89,  98],\n",
       "       [116, 128]], dtype=int32)>"
      ]
     },
     "execution_count": 53,
     "metadata": {},
     "output_type": "execute_result"
    }
   ],
   "source": [
    "# Perform the dot product on X and Y (requires X to be transposed)\n",
    "tf.tensordot(tf.transpose(X), Y, axes=1)"
   ]
  },
  {
   "cell_type": "markdown",
   "id": "42ac880d",
   "metadata": {},
   "source": [
    "You might notice that although using both reshape and tranpose work, you get different results when using each.\n",
    "\n",
    "Let's see an example, first with tf.transpose() then with tf.reshape()."
   ]
  },
  {
   "cell_type": "code",
   "execution_count": 54,
   "id": "3b860379",
   "metadata": {},
   "outputs": [
    {
     "data": {
      "text/plain": [
       "<tf.Tensor: shape=(3, 3), dtype=int32, numpy=\n",
       "array([[ 23,  29,  35],\n",
       "       [ 53,  67,  81],\n",
       "       [ 83, 105, 127]], dtype=int32)>"
      ]
     },
     "execution_count": 54,
     "metadata": {},
     "output_type": "execute_result"
    }
   ],
   "source": [
    "# Perform matrix multiplication between X and Y (transposed)\n",
    "tf.matmul(X, tf.transpose(Y))"
   ]
  },
  {
   "cell_type": "code",
   "execution_count": 55,
   "id": "b1bd21f4",
   "metadata": {},
   "outputs": [
    {
     "data": {
      "text/plain": [
       "<tf.Tensor: shape=(3, 3), dtype=int32, numpy=\n",
       "array([[ 27,  30,  33],\n",
       "       [ 61,  68,  75],\n",
       "       [ 95, 106, 117]], dtype=int32)>"
      ]
     },
     "execution_count": 55,
     "metadata": {},
     "output_type": "execute_result"
    }
   ],
   "source": [
    "# Perform matrix multiplication between X and Y (reshaped)\n",
    "tf.matmul(X, tf.reshape(Y, (2, 3)))"
   ]
  },
  {
   "cell_type": "code",
   "execution_count": 56,
   "id": "8b1b382e",
   "metadata": {},
   "outputs": [
    {
     "data": {
      "text/plain": [
       "(<tf.Tensor: shape=(2, 3), dtype=int32, numpy=\n",
       " array([[1, 3, 5],\n",
       "        [2, 4, 6]], dtype=int32)>,\n",
       " <tf.Tensor: shape=(2, 3), dtype=int32, numpy=\n",
       " array([[1, 2, 3],\n",
       "        [4, 5, 6]], dtype=int32)>)"
      ]
     },
     "execution_count": 56,
     "metadata": {},
     "output_type": "execute_result"
    }
   ],
   "source": [
    "tf.transpose(X), tf.reshape(X, shape = (2,3))"
   ]
  },
  {
   "cell_type": "code",
   "execution_count": 57,
   "id": "6b72cccb",
   "metadata": {},
   "outputs": [
    {
     "data": {
      "text/plain": [
       "(TensorShape([3, 2]), TensorShape([2, 3]), TensorShape([2, 3]))"
      ]
     },
     "execution_count": 57,
     "metadata": {},
     "output_type": "execute_result"
    }
   ],
   "source": [
    "# Check shapes of Y, reshaped Y and tranposed Y\n",
    "Y.shape, tf.reshape(Y, (2, 3)).shape, tf.transpose(Y).shape"
   ]
  },
  {
   "cell_type": "markdown",
   "id": "ac710959",
   "metadata": {},
   "source": [
    "But calling tf.reshape() and tf.transpose() on Y don't necessarily result in the same values."
   ]
  },
  {
   "cell_type": "code",
   "execution_count": 58,
   "id": "6fd34ef7",
   "metadata": {},
   "outputs": [
    {
     "name": "stdout",
     "output_type": "stream",
     "text": [
      "Normal Y:\n",
      "tf.Tensor(\n",
      "[[ 7  8]\n",
      " [ 9 10]\n",
      " [11 12]], shape=(3, 2), dtype=int32) \n",
      "\n",
      "Y reshaped to (2, 3):\n",
      "tf.Tensor(\n",
      "[[ 7  8  9]\n",
      " [10 11 12]], shape=(2, 3), dtype=int32) \n",
      "\n",
      "Y transposed:\n",
      "tf.Tensor(\n",
      "[[ 7  9 11]\n",
      " [ 8 10 12]], shape=(2, 3), dtype=int32)\n"
     ]
    }
   ],
   "source": [
    "# Check values of Y, reshape Y and tranposed Y\n",
    "print(\"Normal Y:\")\n",
    "print(Y, \"\\n\") # \"\\n\" for newline\n",
    "\n",
    "print(\"Y reshaped to (2, 3):\")\n",
    "print(tf.reshape(Y, (2, 3)), \"\\n\")\n",
    "\n",
    "print(\"Y transposed:\")\n",
    "print(tf.transpose(Y))"
   ]
  },
  {
   "cell_type": "markdown",
   "id": "c3712d75",
   "metadata": {},
   "source": [
    "As you can see, the outputs of tf.reshape() and tf.transpose() when called on Y, even though they have the same shape, are different.\n",
    "\n",
    "This can be explained by the default behaviour of each method:\n",
    "\n",
    "* tf.reshape() - change the shape of the given tensor (first) and then insert values in order they appear (in our case, 7, 8, 9, 10, 11, 12).\n",
    "* tf.transpose() - swap the order of the axes, by default the last axis becomes the first, however the order can be changed using the perm parameter.\n",
    "\n",
    "So which should you use?\n",
    "\n",
    "Again, most of the time these operations (when they need to be run, such as during the training a neural network, will be implemented for you).\n",
    "\n",
    "But generally, whenever performing a matrix multiplication and the shapes of two matrices don't line up, you will transpose (not reshape) one of them in order to line them up."
   ]
  },
  {
   "cell_type": "markdown",
   "id": "c78956d5",
   "metadata": {},
   "source": [
    "## Matrix multiplication tidbits\n",
    "\n",
    "If we transposed Y, it would be represented as $\\mathbf{Y}^\\mathsf{T}$ (note the capital T for tranpose).\n",
    "Get an illustrative view of matrix multiplication by Math is Fun.\n",
    "Try a hands-on demo of matrix multiplcation: http://matrixmultiplication.xyz/ (shown below)."
   ]
  },
  {
   "cell_type": "markdown",
   "id": "8ca34dba",
   "metadata": {},
   "source": [
    "## Changing the datatype of a tensor\n",
    "\n",
    "Sometimes you'll want to alter the default datatype of your tensor.\n",
    "\n",
    "This is common when you want to compute using less precision (e.g. 16-bit floating point numbers vs. 32-bit floating point numbers).\n",
    "\n",
    "Computing with less precision is useful on devices with less computing capacity such as mobile devices (because the less bits, the less space the computations require).\n",
    "\n",
    "You can change the datatype of a tensor using tf.cast()."
   ]
  },
  {
   "cell_type": "code",
   "execution_count": 59,
   "id": "316f95ed",
   "metadata": {},
   "outputs": [
    {
     "data": {
      "text/plain": [
       "(<tf.Tensor: shape=(2,), dtype=float32, numpy=array([1.7, 7.4], dtype=float32)>,\n",
       " <tf.Tensor: shape=(2,), dtype=int32, numpy=array([1, 7], dtype=int32)>)"
      ]
     },
     "execution_count": 59,
     "metadata": {},
     "output_type": "execute_result"
    }
   ],
   "source": [
    "# Create a new tensor with default datatype (float32)\n",
    "B = tf.constant([1.7, 7.4])\n",
    "\n",
    "# Create a new tensor with default datatype (int32)\n",
    "C = tf.constant([1, 7])\n",
    "B, C"
   ]
  },
  {
   "cell_type": "code",
   "execution_count": 60,
   "id": "fec4c55f",
   "metadata": {},
   "outputs": [
    {
     "data": {
      "text/plain": [
       "<tf.Tensor: shape=(2,), dtype=float16, numpy=array([1.7, 7.4], dtype=float16)>"
      ]
     },
     "execution_count": 60,
     "metadata": {},
     "output_type": "execute_result"
    }
   ],
   "source": [
    "# Change from float32 to float16 (reduced precision)\n",
    "B = tf.cast(B, dtype=tf.float16)\n",
    "B"
   ]
  },
  {
   "cell_type": "code",
   "execution_count": 61,
   "id": "aa03ff42",
   "metadata": {},
   "outputs": [
    {
     "data": {
      "text/plain": [
       "<tf.Tensor: shape=(2,), dtype=float32, numpy=array([1., 7.], dtype=float32)>"
      ]
     },
     "execution_count": 61,
     "metadata": {},
     "output_type": "execute_result"
    }
   ],
   "source": [
    "# Change from int32 to float32\n",
    "C = tf.cast(C, dtype=tf.float32)\n",
    "C"
   ]
  },
  {
   "cell_type": "markdown",
   "id": "e856c225",
   "metadata": {},
   "source": [
    "## Getting the absolute value\n",
    "\n",
    "Sometimes you'll want the absolute values (all values are positive) of elements in your tensors.\n",
    "\n",
    "To do so, you can use **tf.abs()**."
   ]
  },
  {
   "cell_type": "code",
   "execution_count": 62,
   "id": "43debdab",
   "metadata": {},
   "outputs": [
    {
     "data": {
      "text/plain": [
       "<tf.Tensor: shape=(2,), dtype=int32, numpy=array([ -7, -10], dtype=int32)>"
      ]
     },
     "execution_count": 62,
     "metadata": {},
     "output_type": "execute_result"
    }
   ],
   "source": [
    "# Create tensor with negative values\n",
    "D = tf.constant([-7, -10])\n",
    "D"
   ]
  },
  {
   "cell_type": "code",
   "execution_count": 63,
   "id": "d3a7d539",
   "metadata": {},
   "outputs": [
    {
     "data": {
      "text/plain": [
       "<tf.Tensor: shape=(2,), dtype=int32, numpy=array([ 7, 10], dtype=int32)>"
      ]
     },
     "execution_count": 63,
     "metadata": {},
     "output_type": "execute_result"
    }
   ],
   "source": [
    "# Get the absolute values\n",
    "tf.abs(D)"
   ]
  },
  {
   "cell_type": "markdown",
   "id": "186aa6f3",
   "metadata": {},
   "source": [
    "## Finding the min, max, mean, sum (aggregation)\n",
    "\n",
    "You can quickly aggregate (perform a calculation on a whole tensor) tensors to find things like the minimum value, maximum value, mean and sum of all the elements.\n",
    "\n",
    "To do so, aggregation methods typically have the syntax reduce()_[action], such as:\n",
    "\n",
    "* **tf.reduce_min() - find the minimum value in a tensor.**\n",
    "* **tf.reduce_max() - find the maximum value in a tensor (helpful for when you want to find the highest prediction probability).**\n",
    "* **tf.reduce_mean() - find the mean of all elements in a tensor.**\n",
    "* **tf.reduce_sum() - find the sum of all elements in a tensor.**\n",
    "\n",
    "Note: typically, each of these is under the math module, e.g. tf.math.reduce_min() but you can use the alias tf.reduce_min().\n",
    "Let's see them in action."
   ]
  },
  {
   "cell_type": "code",
   "execution_count": 65,
   "id": "2b881de0",
   "metadata": {},
   "outputs": [
    {
     "data": {
      "text/plain": [
       "<tf.Tensor: shape=(50,), dtype=int64, numpy=\n",
       "array([56, 79, 75, 53, 48, 68, 61, 84, 85, 32, 32, 33, 22, 52, 67, 58, 70,\n",
       "        4, 66, 63, 69, 57, 81, 18,  8, 93, 46, 58, 69, 41, 51, 51, 94, 61,\n",
       "       74, 96, 79, 55,  2, 26, 60, 83, 38, 57, 87, 31, 25, 98, 63, 80])>"
      ]
     },
     "execution_count": 65,
     "metadata": {},
     "output_type": "execute_result"
    }
   ],
   "source": [
    "# Create a tensor with 50 random values between 0 and 100\n",
    "E = tf.constant(np.random.randint(low=0, high=100, size=50))\n",
    "E"
   ]
  },
  {
   "cell_type": "code",
   "execution_count": 66,
   "id": "8f8789a5",
   "metadata": {},
   "outputs": [
    {
     "data": {
      "text/plain": [
       "<tf.Tensor: shape=(), dtype=int64, numpy=2>"
      ]
     },
     "execution_count": 66,
     "metadata": {},
     "output_type": "execute_result"
    }
   ],
   "source": [
    "# Find the minimum\n",
    "tf.reduce_min(E)"
   ]
  },
  {
   "cell_type": "code",
   "execution_count": 67,
   "id": "8dd122f1",
   "metadata": {},
   "outputs": [
    {
     "data": {
      "text/plain": [
       "<tf.Tensor: shape=(), dtype=int64, numpy=98>"
      ]
     },
     "execution_count": 67,
     "metadata": {},
     "output_type": "execute_result"
    }
   ],
   "source": [
    "# Find the maximum\n",
    "tf.reduce_max(E)"
   ]
  },
  {
   "cell_type": "code",
   "execution_count": 68,
   "id": "7d38104b",
   "metadata": {},
   "outputs": [
    {
     "data": {
      "text/plain": [
       "57"
      ]
     },
     "execution_count": 68,
     "metadata": {},
     "output_type": "execute_result"
    }
   ],
   "source": [
    "# Find the mean\n",
    "tf.reduce_mean(E).numpy()"
   ]
  },
  {
   "cell_type": "code",
   "execution_count": 70,
   "id": "2dc91509",
   "metadata": {},
   "outputs": [
    {
     "data": {
      "text/plain": [
       "2859"
      ]
     },
     "execution_count": 70,
     "metadata": {},
     "output_type": "execute_result"
    }
   ],
   "source": [
    "# Find the sum\n",
    "tf.reduce_sum(E).numpy()"
   ]
  },
  {
   "cell_type": "code",
   "execution_count": 74,
   "id": "2bcb89c7",
   "metadata": {},
   "outputs": [
    {
     "data": {
      "text/plain": [
       "<tf.Tensor: shape=(), dtype=float32, numpy=24.04969>"
      ]
     },
     "execution_count": 74,
     "metadata": {},
     "output_type": "execute_result"
    }
   ],
   "source": [
    "# Find the standard deviation \n",
    "\n",
    "E = tf.cast(E, dtype=tf.float32) # Convert to float 32\n",
    "tf.math.reduce_std(E)"
   ]
  },
  {
   "cell_type": "code",
   "execution_count": 75,
   "id": "12a494be",
   "metadata": {},
   "outputs": [
    {
     "data": {
      "text/plain": [
       "578.3876"
      ]
     },
     "execution_count": 75,
     "metadata": {},
     "output_type": "execute_result"
    }
   ],
   "source": [
    "# Find the variance\n",
    "\n",
    "E = tf.cast(E, dtype=tf.float32) # Convert to float 32\n",
    "tf.math.reduce_variance(E).numpy()"
   ]
  },
  {
   "cell_type": "markdown",
   "id": "efe1f5ba",
   "metadata": {},
   "source": [
    "## Finding the positional maximum and minimum\n",
    "\n",
    "How about finding the position a tensor where the maximum value occurs?\n",
    "\n",
    "This is helpful when you want to line up your labels (say ['Green', 'Blue', 'Red']) with your prediction probabilities tensor (e.g. [0.98, 0.01, 0.01]).\n",
    "\n",
    "In this case, the predicted label (the one with the highest prediction probability) would be 'Green'.\n",
    "\n",
    "You can do the same for the minimum (if required) with the following:\n",
    "\n",
    "tf.argmax() - find the position of the maximum element in a given tensor.\n",
    "tf.argmin() - find the position of the minimum element in a given tensor."
   ]
  },
  {
   "cell_type": "code",
   "execution_count": 76,
   "id": "7e232e6e",
   "metadata": {},
   "outputs": [
    {
     "data": {
      "text/plain": [
       "<tf.Tensor: shape=(50,), dtype=float64, numpy=\n",
       "array([0.83415889, 0.26824264, 0.12483557, 0.27929288, 0.12439394,\n",
       "       0.48149253, 0.65332645, 0.14156048, 0.77069408, 0.58642864,\n",
       "       0.56429168, 0.48055214, 0.55571132, 0.99381017, 0.01149689,\n",
       "       0.24565845, 0.4267835 , 0.25928279, 0.95328208, 0.41274754,\n",
       "       0.87390901, 0.24794081, 0.62302188, 0.1451177 , 0.88135296,\n",
       "       0.86852534, 0.68355357, 0.65519884, 0.54895317, 0.88036413,\n",
       "       0.05086661, 0.58428615, 0.24630223, 0.93539933, 0.83491444,\n",
       "       0.06417386, 0.61501543, 0.17692698, 0.53003104, 0.20486714,\n",
       "       0.43740355, 0.3811655 , 0.09340828, 0.83394088, 0.41188663,\n",
       "       0.5328025 , 0.49761421, 0.57861355, 0.63774507, 0.15503083])>"
      ]
     },
     "execution_count": 76,
     "metadata": {},
     "output_type": "execute_result"
    }
   ],
   "source": [
    "# Create a tensor with 50 values between 0 and 1\n",
    "F = tf.constant(np.random.random(50))\n",
    "F"
   ]
  },
  {
   "cell_type": "code",
   "execution_count": 77,
   "id": "5cd8eec4",
   "metadata": {},
   "outputs": [
    {
     "data": {
      "text/plain": [
       "<tf.Tensor: shape=(), dtype=int64, numpy=13>"
      ]
     },
     "execution_count": 77,
     "metadata": {},
     "output_type": "execute_result"
    }
   ],
   "source": [
    "# Find the maximum element position of F\n",
    "tf.argmax(F)"
   ]
  },
  {
   "cell_type": "code",
   "execution_count": 78,
   "id": "e0ae3500",
   "metadata": {},
   "outputs": [
    {
     "data": {
      "text/plain": [
       "<tf.Tensor: shape=(), dtype=int64, numpy=14>"
      ]
     },
     "execution_count": 78,
     "metadata": {},
     "output_type": "execute_result"
    }
   ],
   "source": [
    "# Find the minimum element position of F\n",
    "tf.argmin(F)"
   ]
  },
  {
   "cell_type": "code",
   "execution_count": 79,
   "id": "1e95d53f",
   "metadata": {},
   "outputs": [
    {
     "name": "stdout",
     "output_type": "stream",
     "text": [
      "The maximum value of F is at position: 13\n",
      "The maximum value of F is: 0.9938101706695641\n",
      "Using tf.argmax() to index F, the maximum value of F is: 0.9938101706695641\n",
      "Are the two max values the same (they should be)? True\n"
     ]
    }
   ],
   "source": [
    "# Find the maximum element position of F\n",
    "print(f\"The maximum value of F is at position: {tf.argmax(F).numpy()}\") \n",
    "print(f\"The maximum value of F is: {tf.reduce_max(F).numpy()}\") \n",
    "print(f\"Using tf.argmax() to index F, the maximum value of F is: {F[tf.argmax(F)].numpy()}\")\n",
    "print(f\"Are the two max values the same (they should be)? {F[tf.argmax(F)].numpy() == tf.reduce_max(F).numpy()}\")"
   ]
  },
  {
   "cell_type": "markdown",
   "id": "8b233e15",
   "metadata": {},
   "source": [
    "## Squeezing a tensor (removing all single dimensions)\n",
    "\n",
    "If you need to remove single-dimensions from a tensor (dimensions with size 1), you can use tf.squeeze().\n",
    "\n",
    "tf.squeeze() - remove all dimensions of 1 from a tensor."
   ]
  },
  {
   "cell_type": "code",
   "execution_count": 80,
   "id": "c339a85d",
   "metadata": {},
   "outputs": [
    {
     "data": {
      "text/plain": [
       "(TensorShape([1, 1, 1, 1, 50]), 5)"
      ]
     },
     "execution_count": 80,
     "metadata": {},
     "output_type": "execute_result"
    }
   ],
   "source": [
    "# Create a rank 5 (5 dimensions) tensor of 50 numbers between 0 and 100\n",
    "G = tf.constant(np.random.randint(0, 100, 50), shape=(1, 1, 1, 1, 50))\n",
    "G.shape, G.ndim"
   ]
  },
  {
   "cell_type": "code",
   "execution_count": 81,
   "id": "f6e5956f",
   "metadata": {},
   "outputs": [
    {
     "data": {
      "text/plain": [
       "(TensorShape([50]), 1)"
      ]
     },
     "execution_count": 81,
     "metadata": {},
     "output_type": "execute_result"
    }
   ],
   "source": [
    "# Squeeze tensor G (remove all 1 dimensions)\n",
    "G_squeezed = tf.squeeze(G)\n",
    "G_squeezed.shape, G_squeezed.ndim"
   ]
  },
  {
   "cell_type": "markdown",
   "id": "b06ed77b",
   "metadata": {},
   "source": [
    "## One-hot encoding\n",
    "\n",
    "If you have a tensor of indicies and would like to one-hot encode it, you can use tf.one_hot().\n",
    "\n",
    "You should also specify the depth parameter (the level which you want to one-hot encode to)."
   ]
  },
  {
   "cell_type": "code",
   "execution_count": 82,
   "id": "11ba3ec3",
   "metadata": {},
   "outputs": [
    {
     "data": {
      "text/plain": [
       "<tf.Tensor: shape=(4, 4), dtype=float32, numpy=\n",
       "array([[1., 0., 0., 0.],\n",
       "       [0., 1., 0., 0.],\n",
       "       [0., 0., 1., 0.],\n",
       "       [0., 0., 0., 1.]], dtype=float32)>"
      ]
     },
     "execution_count": 82,
     "metadata": {},
     "output_type": "execute_result"
    }
   ],
   "source": [
    "# Create a list of indices\n",
    "some_list = [0, 1, 2, 3]\n",
    "\n",
    "# One hot encode them\n",
    "tf.one_hot(some_list, depth=4)"
   ]
  },
  {
   "cell_type": "markdown",
   "id": "2420a0ed",
   "metadata": {},
   "source": [
    "You can also specify values for on_value and off_value instead of the default 0 and 1."
   ]
  },
  {
   "cell_type": "code",
   "execution_count": 83,
   "id": "35cf14cb",
   "metadata": {},
   "outputs": [
    {
     "data": {
      "text/plain": [
       "<tf.Tensor: shape=(4, 4), dtype=string, numpy=\n",
       "array([[b\"We're live!\", b'Offline', b'Offline', b'Offline'],\n",
       "       [b'Offline', b\"We're live!\", b'Offline', b'Offline'],\n",
       "       [b'Offline', b'Offline', b\"We're live!\", b'Offline'],\n",
       "       [b'Offline', b'Offline', b'Offline', b\"We're live!\"]], dtype=object)>"
      ]
     },
     "execution_count": 83,
     "metadata": {},
     "output_type": "execute_result"
    }
   ],
   "source": [
    "# Specify custom values for on and off encoding\n",
    "tf.one_hot(some_list, depth=4, on_value=\"We're live!\", off_value=\"Offline\")"
   ]
  },
  {
   "cell_type": "code",
   "execution_count": null,
   "id": "18104d56",
   "metadata": {},
   "outputs": [],
   "source": []
  }
 ],
 "metadata": {
  "kernelspec": {
   "display_name": "Python 3.9 (tensorflow)",
   "language": "python",
   "name": "tensorflow"
  },
  "language_info": {
   "codemirror_mode": {
    "name": "ipython",
    "version": 3
   },
   "file_extension": ".py",
   "mimetype": "text/x-python",
   "name": "python",
   "nbconvert_exporter": "python",
   "pygments_lexer": "ipython3",
   "version": "3.9.15"
  }
 },
 "nbformat": 4,
 "nbformat_minor": 5
}
