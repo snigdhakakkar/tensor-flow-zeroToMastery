{
 "cells": [
  {
   "cell_type": "markdown",
   "id": "8df4d8c2",
   "metadata": {},
   "source": [
    "## Transfer Learning with TensorFlow Part 1: Feature Extraction"
   ]
  },
  {
   "cell_type": "markdown",
   "id": "76c5e904",
   "metadata": {},
   "source": [
    "We've built a bunch of convolutional neural networks from scratch and they all seem to be learning, however, there is still plenty of room for improvement.\n",
    "\n",
    "To improve our model(s), we could spend a while trying different configurations, adding more layers, changing the learning rate, adjusting the number of neurons per layer and more.\n",
    "\n",
    "However, doing this is very time consuming.\n",
    "\n",
    "Luckily, there's a technique we can use to save time.\n",
    "\n",
    "It's called **transfer learning**, in other words, taking the patterns (also called weights) another model has learned from another problem and using them for our own problem.\n",
    "\n",
    "There are two main benefits to using transfer learning:\n",
    "\n",
    "1. Can leverage an existing neural network architecture proven to work on problems similar to our own.\n",
    "2. Can leverage a working neural network architecture which has already **learned patterns** on similar data to our own. This often results in achieving great results with less custom data.\n",
    "What this means is, instead of hand-crafting our own neural network architectures or building them from scratch, we can utilise models which have worked for others.\n",
    "\n",
    "And instead of training our own models from scratch on our own datasets, we can take the patterns a model has learned from datasets such as [ImageNet](http://www.image-net.org/) (millions of images of different objects) and use them as the foundation of our own. Doing this often leads to getting great results with less data.\n",
    "\n",
    "Over the next few notebooks, we'll see the power of transfer learning in action.\n",
    "\n"
   ]
  },
  {
   "cell_type": "markdown",
   "id": "de2f2da4",
   "metadata": {},
   "source": [
    "## What we're going to cover\n",
    "\n",
    "We're going to go through the following with TensorFlow:\n",
    "\n",
    "* Introduce transfer learning (a way to beat all of our old self-built models)\n",
    "* Using a smaller dataset to experiment faster (10% of training samples of 10 classes of food)\n",
    "* Build a transfer learning feature extraction model using TensorFlow Hub\n",
    "* Introduce the TensorBoard callback to track model training results\n",
    "* Compare model results using TensorBoard"
   ]
  },
  {
   "cell_type": "markdown",
   "id": "e0a2c079",
   "metadata": {},
   "source": [
    "## Transfer leanring with TensorFlow Hub: Getting great results with 10% of the data\n",
    "\n",
    "If you've been thinking, \"surely someone else has spent the time crafting the right model for the job...\" then you're in luck.\n",
    "\n",
    "For many of the problems you'll want to use deep learning for, chances are, a working model already exists.\n",
    "\n",
    "And the good news is, you can access many of them on TensorFlow Hub.\n",
    "\n",
    "[TensorFlow Hub](https://tfhub.dev/) is a repository for existing model components. It makes it so you can import and use a fully trained model with as little as a URL.\n",
    "\n",
    "Now, I really want to demonstrate the power of transfer learning to you.\n",
    "\n",
    "To do so, what if I told you we could get much of the same results (or better) than our best model has gotten so far with only 10% of the original data, in other words, 10x less data.\n",
    "\n",
    "This seems counterintuitive right?\n",
    "\n",
    "Wouldn't you think more examples of what a picture of food looked like led to better results?\n",
    "\n",
    "And you'd be right if you thought so, generally, more data leads to better results.\n",
    "\n",
    "However, what if you didn't have more data? What if instead of 750 images per class, you had 75 images per class?\n",
    "\n",
    "Collecting 675 more images of a certain class could take a long time.\n",
    "\n",
    "So this is where another major benefit of transfer learning comes in.\n",
    "\n",
    "**Transfer learning often allows you to get great results with less data.**\n",
    "\n",
    "But don't just take my word for it. Let's download a subset of the data we've been using, namely 10% of the training data from the 10_food_classes dataset and use it to train a food image classifier on."
   ]
  },
  {
   "cell_type": "markdown",
   "id": "8a2787bf",
   "metadata": {},
   "source": [
    "![ImageNet_TransferLearning](Images/ImageNet_TransferLearning.png)"
   ]
  },
  {
   "cell_type": "markdown",
   "id": "e76ef00e",
   "metadata": {},
   "source": [
    "## Downloading and becoming one with the data"
   ]
  },
  {
   "cell_type": "code",
   "execution_count": 1,
   "id": "c671fa64",
   "metadata": {},
   "outputs": [
    {
     "name": "stdout",
     "output_type": "stream",
     "text": [
      "--2022-12-12 23:52:23--  https://storage.googleapis.com/ztm_tf_course/food_vision/10_food_classes_10_percent.zip\n",
      "Resolving storage.googleapis.com (storage.googleapis.com)... 142.251.33.176, 142.251.41.80, 172.217.165.16, ...\n",
      "Connecting to storage.googleapis.com (storage.googleapis.com)|142.251.33.176|:443... connected.\n",
      "HTTP request sent, awaiting response... 200 OK\n",
      "Length: 168546183 (161M) [application/zip]\n",
      "Saving to: ‘10_food_classes_10_percent.zip’\n",
      "\n",
      "10_food_classes_10_ 100%[===================>] 160.74M  19.0MB/s    in 8.3s    \n",
      "\n",
      "2022-12-12 23:52:32 (19.4 MB/s) - ‘10_food_classes_10_percent.zip’ saved [168546183/168546183]\n",
      "\n"
     ]
    }
   ],
   "source": [
    "# Get data (10% of labels)\n",
    "import zipfile\n",
    "\n",
    "# Download data\n",
    "!wget https://storage.googleapis.com/ztm_tf_course/food_vision/10_food_classes_10_percent.zip\n",
    "\n",
    "# Unzip the downloaded file\n",
    "zip_ref = zipfile.ZipFile(\"10_food_classes_10_percent.zip\", \"r\")\n",
    "zip_ref.extractall()\n",
    "zip_ref.close()"
   ]
  },
  {
   "cell_type": "code",
   "execution_count": 2,
   "id": "d4e3f0ce",
   "metadata": {},
   "outputs": [
    {
     "name": "stdout",
     "output_type": "stream",
     "text": [
      "There are 2 directories and 0 images in '10_food_classes_10_percent'.\n",
      "There are 10 directories and 0 images in '10_food_classes_10_percent/test'.\n",
      "There are 0 directories and 250 images in '10_food_classes_10_percent/test/ice_cream'.\n",
      "There are 0 directories and 250 images in '10_food_classes_10_percent/test/chicken_curry'.\n",
      "There are 0 directories and 250 images in '10_food_classes_10_percent/test/steak'.\n",
      "There are 0 directories and 250 images in '10_food_classes_10_percent/test/sushi'.\n",
      "There are 0 directories and 250 images in '10_food_classes_10_percent/test/chicken_wings'.\n",
      "There are 0 directories and 250 images in '10_food_classes_10_percent/test/grilled_salmon'.\n",
      "There are 0 directories and 250 images in '10_food_classes_10_percent/test/hamburger'.\n",
      "There are 0 directories and 250 images in '10_food_classes_10_percent/test/pizza'.\n",
      "There are 0 directories and 250 images in '10_food_classes_10_percent/test/ramen'.\n",
      "There are 0 directories and 250 images in '10_food_classes_10_percent/test/fried_rice'.\n",
      "There are 10 directories and 0 images in '10_food_classes_10_percent/train'.\n",
      "There are 0 directories and 75 images in '10_food_classes_10_percent/train/ice_cream'.\n",
      "There are 0 directories and 75 images in '10_food_classes_10_percent/train/chicken_curry'.\n",
      "There are 0 directories and 75 images in '10_food_classes_10_percent/train/steak'.\n",
      "There are 0 directories and 75 images in '10_food_classes_10_percent/train/sushi'.\n",
      "There are 0 directories and 75 images in '10_food_classes_10_percent/train/chicken_wings'.\n",
      "There are 0 directories and 75 images in '10_food_classes_10_percent/train/grilled_salmon'.\n",
      "There are 0 directories and 75 images in '10_food_classes_10_percent/train/hamburger'.\n",
      "There are 0 directories and 75 images in '10_food_classes_10_percent/train/pizza'.\n",
      "There are 0 directories and 75 images in '10_food_classes_10_percent/train/ramen'.\n",
      "There are 0 directories and 75 images in '10_food_classes_10_percent/train/fried_rice'.\n"
     ]
    }
   ],
   "source": [
    "# How many images in each folder?\n",
    "import os\n",
    "\n",
    "# Walk through 10 percent data directory and list number of files\n",
    "for dirpath, dirnames, filenames in os.walk(\"10_food_classes_10_percent\"):\n",
    "  print(f\"There are {len(dirnames)} directories and {len(filenames)} images in '{dirpath}'.\")"
   ]
  },
  {
   "cell_type": "markdown",
   "id": "87e79be9",
   "metadata": {},
   "source": [
    "Notice how each of the training directories now has 75 images rather than 750 images. This is key to demonstrating how well transfer learning can perform with less labelled images.\n",
    "\n",
    "The test directories still have the same amount of images. This means we'll be training on less data but evaluating our models on the same amount of test data."
   ]
  },
  {
   "cell_type": "markdown",
   "id": "4877eab8",
   "metadata": {},
   "source": [
    "## Creating data loaders (preparing the data)\n",
    "\n",
    "Now we've downloaded the data, let's use the ```ImageDataGenerator``` class along with the ```flow_from_directory``` method to load in our images."
   ]
  },
  {
   "cell_type": "code",
   "execution_count": 3,
   "id": "fe882b50",
   "metadata": {},
   "outputs": [
    {
     "name": "stdout",
     "output_type": "stream",
     "text": [
      "Init Plugin\n",
      "Training images:\n",
      "Init Graph Optimizer\n",
      "Init Kernel\n",
      "Found 750 images belonging to 10 classes.\n",
      "Testing images:\n",
      "Found 2500 images belonging to 10 classes.\n"
     ]
    }
   ],
   "source": [
    "# Setup data inputs\n",
    "from tensorflow.keras.preprocessing.image import ImageDataGenerator\n",
    "\n",
    "IMAGE_SHAPE = (224, 224)\n",
    "BATCH_SIZE = 32\n",
    "\n",
    "train_dir = \"10_food_classes_10_percent/train/\"\n",
    "test_dir = \"10_food_classes_10_percent/test/\"\n",
    "\n",
    "train_datagen = ImageDataGenerator(rescale=1/255.)\n",
    "test_datagen = ImageDataGenerator(rescale=1/255.)\n",
    "\n",
    "print(\"Training images:\")\n",
    "train_data_10_percent = train_datagen.flow_from_directory(train_dir,\n",
    "                                               target_size=IMAGE_SHAPE,\n",
    "                                               batch_size=BATCH_SIZE,\n",
    "                                               class_mode=\"categorical\")\n",
    "\n",
    "print(\"Testing images:\")\n",
    "test_data = train_datagen.flow_from_directory(test_dir,\n",
    "                                              target_size=IMAGE_SHAPE,\n",
    "                                              batch_size=BATCH_SIZE,\n",
    "                                              class_mode=\"categorical\")"
   ]
  },
  {
   "cell_type": "markdown",
   "id": "b940b2e8",
   "metadata": {},
   "source": [
    "## Setting up callbacks (things to run whilst our model trains)\n",
    "\n",
    "Before we build a model, there's an important concept we're going to get familiar with because it's going to play a key role in our future model building experiments.\n",
    "\n",
    "And that concept is **callbacks**.\n",
    "\n",
    "[Callbacks](https://www.tensorflow.org/api_docs/python/tf/keras/callbacks) are extra functionality you can add to your models to be performed during or after training. Some of the most popular callbacks include:\n",
    "\n",
    "* **Experiment tracking with TensorBoard** - log the performance of multiple models and then view and compare these models in a visual way on TensorBoard (a dashboard for inspecting neural network parameters). Helpful to compare the results of different models on your data.\n",
    "* **Model checkpointing** - save your model as it trains so you can stop training if needed and come back to continue off where you left. Helpful if training takes a long time and can't be done in one sitting.\n",
    "* **Early stopping** - leave your model training for an arbitrary amount of time and have it stop training automatically when it ceases to improve. Helpful when you've got a large dataset and don't know how long training will take.\n",
    "We'll explore each of these overtime but for this notebook, we'll see how the TensorBoard callback can be used.\n",
    "\n",
    "The TensorBoard callback can be accessed using ```tf.keras.callbacks.TensorBoard()```.\n",
    "\n",
    "Its main functionality is ```saving a model's training performance metrics to a specified log_dir```.\n",
    "\n",
    "By default, logs are recorded every epoch using the ```update_freq='epoch'``` parameter. This is a good default since tracking model performance too often can slow down model training.\n",
    "\n",
    "To track our modelling experiments using TensorBoard, let's create a function which creates a TensorBoard callback for us.\n",
    "\n",
    "🔑 Note: We create a function for creating a TensorBoard callback because as we'll see later on, each model needs its own TensorBoard callback instance (so the function will create a new one each time it's run)."
   ]
  },
  {
   "cell_type": "code",
   "execution_count": 4,
   "id": "abcb3017",
   "metadata": {},
   "outputs": [],
   "source": [
    "# Create tensorboard callback (functionized because need to create a new one for each model)\n",
    "import datetime\n",
    "def create_tensorboard_callback(dir_name, experiment_name):\n",
    "  log_dir = dir_name + \"/\" + experiment_name + \"/\" + datetime.datetime.now().strftime(\"%Y%m%d-%H%M%S\")\n",
    "  tensorboard_callback = tf.keras.callbacks.TensorBoard(\n",
    "      log_dir=log_dir\n",
    "  )\n",
    "  print(f\"Saving TensorBoard log files to: {log_dir}\")\n",
    "  return tensorboard_callback"
   ]
  },
  {
   "cell_type": "markdown",
   "id": "d340e9e5",
   "metadata": {},
   "source": [
    "Because you're likely to run multiple experiments, it's a good idea to be able to track them in some way.\n",
    "\n",
    "In our case, our function saves a model's performance logs to a directory named [dir_name]/[experiment_name]/[current_timestamp], where:\n",
    "\n",
    "* ```dir_name``` is the overall logs directory\n",
    "* ```experiment_name``` is the particular experiment\n",
    "*```current_timestamp``` is the time the experiment started based on Python's datetime.datetime().now()\n",
    "\n",
    "🔑 Note: Depending on your use case, the above experimenting tracking naming method may work or you might require something more specific. The good news is, the TensorBoard callback makes it easy to track modelling logs as long as you specify where to track them. So you can get as creative as you like with how you name your experiments, just make sure you or your team can understand them."
   ]
  },
  {
   "cell_type": "markdown",
   "id": "489d3845",
   "metadata": {},
   "source": [
    "## Creating models using TensorFlow Hub\n",
    "\n",
    "In the past we've used TensorFlow to create our own models layer by layer from scratch.\n",
    "\n",
    "Now we're going to do a similar process, except the majority of our model's layers are going to come from [TensorFlow Hub](https://tfhub.dev/).\n",
    "\n",
    "In fact, we're going to use two models from TensorFlow Hub:\n",
    "\n",
    "1. [ResNetV2](https://arxiv.org/abs/1603.05027) - a state of the art computer vision model architecture from 2016.\n",
    "2. [EfficientNet](https://arxiv.org/abs/1905.11946) - a state of the art computer vision architecture from 2019.\n",
    "State of the art means that at some point, both of these models have achieved the lowest error rate on [ImageNet (ILSVRC-2012-CLS)](http://www.image-net.org/), the gold standard of computer vision benchmarks.\n",
    "\n",
    "You might be wondering, how do you find these models on TensorFlow Hub?\n",
    "\n",
    "Here are the steps I took:\n",
    "\n",
    "1. Go to [tfhub.dev](https://tfhub.dev/).\n",
    "2. Choose your problem domain, e.g. \"Image\" (we're using food images).\n",
    "3. Select your TF version, which in our case is TF2.\n",
    "4. Remove all \"Problem domanin\" filters except for the problem you're working on.\n",
    "**Note**: \"Image feature vector\" can be used alongside almost any problem, we'll get to this soon.\n",
    "\n",
    "5. The models listed are all models which could potentially be used for your problem.\n",
    " #####  🤔Question: I see many options for image classification models, how do I know which is best?\n",
    "\n",
    "You can see a list of state of the art models on [paperswithcode.com](https://www.paperswithcode.com/), a resource for collecting the latest in deep learning paper results which have code implementations for the findings they report.\n",
    "\n",
    "Since we're working with images, our target are the models which perform best on [ImageNet](https://paperswithcode.com/sota/image-classification-on-imagenet).\n",
    "\n",
    "You'll probably find not all of the model architectures listed on paperswithcode appear on TensorFlow Hub. And this is okay, we can still use what's available.\n",
    "\n",
    "To find our models, let's narrow down our search using the Architecture tab.\n",
    "\n",
    "\n",
    "\n",
    "\n"
   ]
  },
  {
   "cell_type": "markdown",
   "id": "484ac05d",
   "metadata": {},
   "source": [
    "6. Select the Architecture tab on TensorFlow Hub and you'll see a dropdown menu of architecture names appear.\n",
    "The rule of thumb here is generally, names with larger numbers means better performing models. For example, EfficientNetB4 performs better than EfficientNetB0.\n",
    "However, the tradeoff with larger numbers can mean they take longer to compute.\n",
    "7. Select EfficientNetB0 and you should see [something like the following](https://tfhub.dev/s?module-type=image-classification,image-feature-vector&network-architecture=efficientnet-b0&tf-version=tf2):\n"
   ]
  },
  {
   "cell_type": "markdown",
   "id": "e419c9c8",
   "metadata": {},
   "source": [
    "8. Clicking the one titled \"efficientnet/b0/feature-vector\" brings us to a page with a button that says \"Copy URL\". That URL is what we can use to harness the power of EfficientNetB0.\n",
    "\n",
    "Copying the URL should give you something like this: https://tfhub.dev/tensorflow/efficientnet/b0/feature-vector/1\n",
    "🤔 Question: I thought we were doing image classification, why do we choose feature vector and not classification?\n",
    "\n",
    "Great observation. This is where the differnet types of transfer learning come into play, as is, feature extraction and fine-tuning."
   ]
  },
  {
   "cell_type": "markdown",
   "id": "98992f92",
   "metadata": {},
   "source": [
    "1. **\"As is\" transfer learning** is when you take a pretrained model as it is and apply it to your task without any changes.\n",
    "\n",
    "For example, many computer vision models are pretrained on the ImageNet dataset which contains 1000 different classes of images. This means passing a single image to this model will produce 1000 different prediction probability values (1 for each class).\n",
    "\n",
    "\n",
    "This is helpful if you have 1000 classes of image you'd like to classify and they're all the same as the ImageNet classes, however, it's not helpful if you want to classify only a small subset of classes (such as 10 different kinds of food). Model's with **\"/classification\"** in their name on TensorFlow Hub provide this kind of functionality.\n",
    "2. **Feature extraction transfer learning** is when you take the underlying patterns (also called weights) a pretrained model has learned and adjust its outputs to be more suited to your problem.\n",
    "For example, say the pretrained model you were using had 236 different layers (EfficientNetB0 has 236 layers), but the top layer outputs 1000 classes because it was pretrained on ImageNet. To adjust this to your own problem, you might remove the original activation layer and replace it with your own but with the right number of output classes. The important part here is that only the top few layers become trainable, the rest remain frozen.\n",
    "\n",
    "This way all the underlying patterns remain in the rest of the layers and you can utilise them for your own problem. This kind of transfer learning is very helpful when your data is similar to the data a model has been pretrained on.\n",
    "3. **Fine-tuning transfer learning** is when you take the underlying patterns (also called weights) of a pretrained model and adjust (fine-tune) them to your own problem.\n",
    "\n",
    "This usually means training **some, many or all** of the layers in the pretrained model. This is useful when you've got a large dataset (e.g. 100+ images per class) where your data is slightly different to the data the original model was trained on.\n",
    "A common workflow is to \"freeze\" all of the learned patterns in the bottom layers of a pretrained model so they're untrainable. And then train the top 2-3 layers of so the pretrained model can adjust its outputs to your custom data (feature extraction).\n",
    "\n",
    "After you've trained the top 2-3 layers, you can then gradually \"unfreeze\" more and more layers and run the training process on your own data to further fine-tune the pretrained model.\n",
    "\n",
    "🤔 **Question**: Why train only the top 2-3 layers in feature extraction?\n",
    "\n",
    "The lower a layer is in a computer vision model as in, the closer it is to the input layer, the larger the features it learn. For example, a bottom layer in a computer vision model to identify images of cats or dogs might learn the outline of legs, where as, layers closer to the output might learn the shape of teeth. Often, you'll want the larger features (learned patterns are also called features) to remain, since these are similar for both animals, where as, the differences remain in the more fine-grained features."
   ]
  },
  {
   "cell_type": "markdown",
   "id": "9d5e8c8b",
   "metadata": {},
   "source": [
    "Okay, enough talk, let's see this in action. Once we do, we'll explain what's happening.\n",
    "\n",
    "First we'll import TensorFlow and TensorFlow Hub."
   ]
  },
  {
   "cell_type": "code",
   "execution_count": 6,
   "id": "7d961076",
   "metadata": {},
   "outputs": [
    {
     "name": "stdout",
     "output_type": "stream",
     "text": [
      "Collecting tensorflow_hub\n",
      "  Downloading tensorflow_hub-0.12.0-py2.py3-none-any.whl (108 kB)\n",
      "\u001b[2K     \u001b[90m━━━━━━━━━━━━━━━━━━━━━━━━━━━━━━━━━━━━━━━\u001b[0m \u001b[32m108.8/108.8 kB\u001b[0m \u001b[31m3.4 MB/s\u001b[0m eta \u001b[36m0:00:00\u001b[0m\n",
      "\u001b[?25hRequirement already satisfied: protobuf>=3.8.0 in /opt/homebrew/Caskroom/miniforge/base/envs/tensorflow/lib/python3.9/site-packages (from tensorflow_hub) (3.20.1)\n",
      "Requirement already satisfied: numpy>=1.12.0 in /opt/homebrew/Caskroom/miniforge/base/envs/tensorflow/lib/python3.9/site-packages (from tensorflow_hub) (1.19.5)\n",
      "Installing collected packages: tensorflow_hub\n",
      "Successfully installed tensorflow_hub-0.12.0\n"
     ]
    }
   ],
   "source": [
    "!pip install tensorflow_hub\n",
    "import tensorflow as tf\n",
    "import tensorflow_hub as hub\n",
    "from tensorflow.keras import layers"
   ]
  },
  {
   "cell_type": "markdown",
   "id": "105c628e",
   "metadata": {},
   "source": [
    "Now we'll get the feature vector URLs of two common computer vision architectures, ```fficientNetB0``` (2019) and ```ResNetV250``` (2016) from TensorFlow Hub using the steps above.\n",
    "\n",
    "We're getting both of these because we're going to compare them to see which performs better on our data.\n",
    "\n",
    "🔑 **Note**: Comparing different model architecture performance on the same data is a very common practice. The simple reason is because you want to know which model performs best for your problem.\n",
    "\n",
    "**Update**: As of 14 August 2021, [EfficientNet V2 pretrained models](https://tfhub.dev/google/collections/efficientnet_v2/1) are available on TensorFlow Hub. The original code in this notebook uses EfficientNet V1, it has been left unchanged. In my experiments with this dataset, V1 outperforms V2. Best to experiment with your own data and see what suits you."
   ]
  },
  {
   "cell_type": "code",
   "execution_count": 7,
   "id": "3bb89004",
   "metadata": {},
   "outputs": [],
   "source": [
    "# Resnet 50 V2 feature vector\n",
    "resnet_url = \"https://tfhub.dev/google/imagenet/resnet_v2_50/feature_vector/4\"\n",
    "\n",
    "# Original: EfficientNetB0 feature vector (version 1)\n",
    "efficientnet_url = \"https://tfhub.dev/tensorflow/efficientnet/b0/feature-vector/1\"\n",
    "\n",
    "# # New: EfficientNetB0 feature vector (version 2)\n",
    "# efficientnet_url = \"https://tfhub.dev/google/imagenet/efficientnet_v2_imagenet1k_b0/feature_vector/2\""
   ]
  },
  {
   "cell_type": "markdown",
   "id": "6aa60764",
   "metadata": {},
   "source": [
    "These URLs link to a saved pretrained model on TensorFlow Hub.\n",
    "\n",
    "When we use them in our model, the model will automatically be downloaded for us to use.\n",
    "\n",
    "To do this, we can use the ```KerasLayer()``` model inside the TensorFlow hub library.\n",
    "\n",
    "Since we're going to be comparing two models, to save ourselves code, we'll create a function create_model(). This function will take a model's TensorFlow Hub URL, instatiate a Keras Sequential model with the appropriate number of output layers and return the model."
   ]
  },
  {
   "cell_type": "code",
   "execution_count": 8,
   "id": "36270165",
   "metadata": {},
   "outputs": [],
   "source": [
    "def create_model(model_url, num_classes=10):\n",
    "  \"\"\"Takes a TensorFlow Hub URL and creates a Keras Sequential model with it.\n",
    "  \n",
    "  Args:\n",
    "    model_url (str): A TensorFlow Hub feature extraction URL.\n",
    "    num_classes (int): Number of output neurons in output layer,\n",
    "      should be equal to number of target classes, default 10.\n",
    "\n",
    "  Returns:\n",
    "    An uncompiled Keras Sequential model with model_url as feature\n",
    "    extractor layer and Dense output layer with num_classes outputs.\n",
    "  \"\"\"\n",
    "  # Download the pretrained model and save it as a Keras layer\n",
    "  feature_extractor_layer = hub.KerasLayer(model_url,\n",
    "                                           trainable=False, # freeze the underlying patterns\n",
    "                                           name='feature_extraction_layer',\n",
    "                                           input_shape=IMAGE_SHAPE+(3,)) # define the input image shape\n",
    "  \n",
    "  # Create our own model\n",
    "  model = tf.keras.Sequential([\n",
    "    feature_extractor_layer, # use the feature extraction layer as the base\n",
    "    layers.Dense(num_classes, activation='softmax', name='output_layer') # create our own output layer      \n",
    "  ])\n",
    "\n",
    "  return model"
   ]
  },
  {
   "cell_type": "markdown",
   "id": "7b46aa77",
   "metadata": {},
   "source": [
    "Great! Now we've got a function for creating a model, we'll use it to first create a model using the ```ResNetV250 architecture``` as our feature extraction layer.\n",
    "\n",
    "Once the model is instantiated, we'll compile it using categorical_crossentropy as our loss function, the Adam optimizer and accuracy as our metric"
   ]
  },
  {
   "cell_type": "code",
   "execution_count": 9,
   "id": "63c2f373",
   "metadata": {},
   "outputs": [
    {
     "name": "stdout",
     "output_type": "stream",
     "text": [
      "Metal device set to: Apple M1\n"
     ]
    },
    {
     "name": "stderr",
     "output_type": "stream",
     "text": [
      "2022-12-13 00:31:23.233573: I tensorflow/core/common_runtime/pluggable_device/pluggable_device_factory.cc:305] Could not identify NUMA node of platform GPU ID 0, defaulting to 0. Your kernel may not have been built with NUMA support.\n",
      "2022-12-13 00:31:23.233696: I tensorflow/core/common_runtime/pluggable_device/pluggable_device_factory.cc:271] Created TensorFlow device (/job:localhost/replica:0/task:0/device:GPU:0 with 0 MB memory) -> physical PluggableDevice (device: 0, name: METAL, pci bus id: <undefined>)\n"
     ]
    }
   ],
   "source": [
    "# Create model\n",
    "resnet_model = create_model(resnet_url, num_classes=train_data_10_percent.num_classes)\n",
    "\n",
    "# Compile\n",
    "resnet_model.compile(loss='categorical_crossentropy',\n",
    "                     optimizer=tf.keras.optimizers.Adam(),\n",
    "                     metrics=['accuracy'])"
   ]
  },
  {
   "cell_type": "markdown",
   "id": "c91d240e",
   "metadata": {},
   "source": [
    "![Images/ResNet34.png](Images/ResNet34.png)"
   ]
  },
  {
   "cell_type": "markdown",
   "id": "92ffda08",
   "metadata": {},
   "source": [
    "*What our current model looks like. A ResNet50V2 backbone with a custom dense layer on top (10 classes instead of 1000 ImageNet classes). Note:* The Image shows ResNet34 instead of ResNet50. Image source: *https://arxiv.org/abs/1512.03385.*\n",
    "\n",
    "Beautiful. Time to fit the model.\n",
    "\n",
    "We've got the training data ready in ```train_data_10_percent``` as well as the test data saved as test_data.\n",
    "\n",
    "But before we call the fit function, there's one more thing we're going to add, a callback. More specifically, a **TensorBoard callback** so we can track the performance of our model on TensorBoard.\n",
    "\n",
    "We can add a callback to our model by using the callbacks parameter in the fit function.\n",
    "\n",
    "In our case, we'll pass the callbacks parameter the ```create_tensorboard_callback()``` we created earlier with some specific inputs so we know what experiments we're running.\n",
    "\n",
    "Let's keep this experiment short and train for 5 epochs.\n"
   ]
  },
  {
   "cell_type": "code",
   "execution_count": null,
   "id": "23de68f6",
   "metadata": {},
   "outputs": [],
   "source": []
  }
 ],
 "metadata": {
  "kernelspec": {
   "display_name": "Python 3.9 (tensorflow)",
   "language": "python",
   "name": "tensorflow"
  },
  "language_info": {
   "codemirror_mode": {
    "name": "ipython",
    "version": 3
   },
   "file_extension": ".py",
   "mimetype": "text/x-python",
   "name": "python",
   "nbconvert_exporter": "python",
   "pygments_lexer": "ipython3",
   "version": "3.9.15"
  }
 },
 "nbformat": 4,
 "nbformat_minor": 5
}
