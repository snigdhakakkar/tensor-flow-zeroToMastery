{
 "cells": [
  {
   "cell_type": "markdown",
   "id": "44332951",
   "metadata": {},
   "source": [
    "## Transfer Learning with TensorFlow Part 1: Feature Extraction"
   ]
  },
  {
   "cell_type": "markdown",
   "id": "ec47578f",
   "metadata": {},
   "source": [
    "We've built a bunch of convolutional neural networks from scratch and they all seem to be learning, however, there is still plenty of room for improvement.\n",
    "\n",
    "To improve our model(s), we could spend a while trying different configurations, adding more layers, changing the learning rate, adjusting the number of neurons per layer and more.\n",
    "\n",
    "However, doing this is very time consuming.\n",
    "\n",
    "Luckily, there's a technique we can use to save time.\n",
    "\n",
    "It's called **transfer learning**, in other words, taking the patterns (also called weights) another model has learned from another problem and using them for our own problem.\n",
    "\n",
    "There are two main benefits to using transfer learning:\n",
    "\n",
    "1. Can leverage an existing neural network architecture proven to work on problems similar to our own.\n",
    "2. Can leverage a working neural network architecture which has already **learned patterns** on similar data to our own. This often results in achieving great results with less custom data.\n",
    "What this means is, instead of hand-crafting our own neural network architectures or building them from scratch, we can utilise models which have worked for others.\n",
    "\n",
    "And instead of training our own models from scratch on our own datasets, we can take the patterns a model has learned from datasets such as [ImageNet](http://www.image-net.org/) (millions of images of different objects) and use them as the foundation of our own. Doing this often leads to getting great results with less data.\n",
    "\n",
    "Over the next few notebooks, we'll see the power of transfer learning in action.\n",
    "\n"
   ]
  },
  {
   "cell_type": "markdown",
   "id": "18789f0c",
   "metadata": {},
   "source": [
    "## What we're going to cover\n",
    "\n",
    "We're going to go through the following with TensorFlow:\n",
    "\n",
    "* Introduce transfer learning (a way to beat all of our old self-built models)\n",
    "* Using a smaller dataset to experiment faster (10% of training samples of 10 classes of food)\n",
    "* Build a transfer learning feature extraction model using TensorFlow Hub\n",
    "* Introduce the TensorBoard callback to track model training results\n",
    "* Compare model results using TensorBoard"
   ]
  },
  {
   "cell_type": "code",
   "execution_count": null,
   "id": "ede12aa3",
   "metadata": {},
   "outputs": [],
   "source": []
  }
 ],
 "metadata": {
  "kernelspec": {
   "display_name": "Python 3.9 (tensorflow)",
   "language": "python",
   "name": "tensorflow"
  },
  "language_info": {
   "codemirror_mode": {
    "name": "ipython",
    "version": 3
   },
   "file_extension": ".py",
   "mimetype": "text/x-python",
   "name": "python",
   "nbconvert_exporter": "python",
   "pygments_lexer": "ipython3",
   "version": "3.9.15"
  }
 },
 "nbformat": 4,
 "nbformat_minor": 5
}
