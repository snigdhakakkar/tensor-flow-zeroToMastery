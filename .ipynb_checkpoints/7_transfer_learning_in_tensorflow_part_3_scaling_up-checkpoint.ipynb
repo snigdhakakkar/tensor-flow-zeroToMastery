{
 "cells": [
  {
   "cell_type": "markdown",
   "id": "efde1171",
   "metadata": {},
   "source": [
    "## Transfer Learning with TensorFlow Part 3: Scaling up"
   ]
  },
  {
   "cell_type": "markdown",
   "id": "097ab49e",
   "metadata": {},
   "source": [
    "In the previous two notebooks ([transfer learning part 1: feature extraction](https://github.com/mrdbourke/tensorflow-deep-learning/blob/main/04_transfer_learning_in_tensorflow_part_1_feature_extraction.ipynb) and [part 2: fine-tuning](https://github.com/mrdbourke/tensorflow-deep-learning/blob/main/05_transfer_learning_in_tensorflow_part_2_fine_tuning.ipynb)) we've seen the power of transfer learning.\n",
    "\n",
    "Now we know our smaller modelling experiments are working, it's time to step things up a notch with more data.\n",
    "\n",
    "This is a common practice in machine learning and deep learning: get a model working on a small amount of data before scaling it up to a larger amount of data.\n",
    "\n",
    "🔑 **Note**: You haven't forgotten the machine learning practitioners motto have you? \"Experiment, experiment, experiment.\"\n",
    "\n",
    "It's time to get closer to our Food Vision project coming to life. In this notebook we're going to scale up from using 10 classes of the Food101 data to using all of the classes in the Food101 dataset.\n",
    "\n",
    "Our goal is to **beat the original [Food101 paper's](https://data.vision.ee.ethz.ch/cvl/datasets_extra/food-101/static/bossard_eccv14_food-101.pdf) results with 10% of data**."
   ]
  },
  {
   "cell_type": "markdown",
   "id": "becc61b5",
   "metadata": {},
   "source": [
    "![ScalingUpTransferLearning.png](Images/ScalingUpTransferLearning.png)"
   ]
  },
  {
   "cell_type": "markdown",
   "id": "d2accee2",
   "metadata": {},
   "source": [
    "## What we're going to cover\n",
    "\n",
    "We're going to go through the follow with TensorFlow:\n",
    "\n",
    "* Downloading and preparing 10% of the Food101 data (10% of training data)\n",
    "* Training a feature extraction transfer learning model on 10% of the Food101 training data\n",
    "* Fine-tuning our feature extraction model\n",
    "* Saving and loaded our trained model\n",
    "* Evaluating the performance of our Food Vision model trained on 10% of the training data\n",
    "    * Finding our model's most wrong predictions\n",
    "* Making predictions with our Food Vision model on custom images of food"
   ]
  },
  {
   "cell_type": "markdown",
   "id": "7b7bb3f8",
   "metadata": {},
   "source": [
    "## Creating helper functions\n",
    "\n",
    "We've created a series of helper functions throughout the previous notebooks. Instead of rewriting them (tedious), we'll import the `helper_functions.py` file from the GitHub repo."
   ]
  },
  {
   "cell_type": "code",
   "execution_count": 1,
   "id": "0fc9564a",
   "metadata": {},
   "outputs": [
    {
     "name": "stdout",
     "output_type": "stream",
     "text": [
      "--2022-12-14 09:40:47--  https://raw.githubusercontent.com/mrdbourke/tensorflow-deep-learning/main/extras/helper_functions.py\n",
      "Resolving raw.githubusercontent.com (raw.githubusercontent.com)... 185.199.111.133, 185.199.109.133, 185.199.110.133, ...\n",
      "Connecting to raw.githubusercontent.com (raw.githubusercontent.com)|185.199.111.133|:443... connected.\n",
      "HTTP request sent, awaiting response... 200 OK\n",
      "Length: 10246 (10K) [text/plain]\n",
      "Saving to: ‘helper_functions.py.1’\n",
      "\n",
      "helper_functions.py 100%[===================>]  10.01K  --.-KB/s    in 0s      \n",
      "\n",
      "2022-12-14 09:40:47 (25.4 MB/s) - ‘helper_functions.py.1’ saved [10246/10246]\n",
      "\n"
     ]
    }
   ],
   "source": [
    "# Get helper functions file\n",
    "!wget https://raw.githubusercontent.com/mrdbourke/tensorflow-deep-learning/main/extras/helper_functions.py"
   ]
  },
  {
   "cell_type": "code",
   "execution_count": 2,
   "id": "292cb178",
   "metadata": {},
   "outputs": [
    {
     "name": "stdout",
     "output_type": "stream",
     "text": [
      "Init Plugin\n",
      "Init Graph Optimizer\n",
      "Init Kernel\n"
     ]
    }
   ],
   "source": [
    "# Import series of helper functions for the notebook (we've created/used these in previous notebooks)\n",
    "from helper_functions import create_tensorboard_callback, plot_loss_curves, unzip_data, compare_historys, walk_through_dir"
   ]
  },
  {
   "cell_type": "markdown",
   "id": "b59de40a",
   "metadata": {},
   "source": [
    "## 101 Food Classes: Working with less data\n",
    "\n",
    "So far we've confirmed the transfer learning model's we've been using work pretty well with the 10 Food Classes dataset. Now it's time to step it up and see how they go with the full 101 Food Classes.\n",
    "\n",
    "In the original [Food101](https://www.kaggle.com/dansbecker/food-101) dataset there's 1000 images per class (750 of each class in the training set and 250 of each class in the test set), totalling 101,000 imags.\n",
    "\n",
    "We could start modelling straight away on this large dataset but in the spirit of continually experimenting, we're going to see how our previously working model's go with 10% of the training data.\n",
    "\n",
    "This means for each of the 101 food classes we'll be building a model on 75 training images and evaluating it on 250 test images."
   ]
  },
  {
   "cell_type": "markdown",
   "id": "aeeefccf",
   "metadata": {},
   "source": [
    "## Downloading and preprocessing the data\n",
    "\n",
    "Just as before we'll download a subset of the Food101 dataset which has been extracted from the original dataset (to see the preprocessing of the data check out the [Food Vision preprocessing notebook)](https://github.com/mrdbourke/tensorflow-deep-learning/blob/main/extras/image_data_modification.ipynb).\n",
    "\n",
    "We download the data as a zip file so we'll use our `unzip_data()` function to unzip it."
   ]
  },
  {
   "cell_type": "code",
   "execution_count": 3,
   "id": "eb71e303",
   "metadata": {},
   "outputs": [
    {
     "name": "stdout",
     "output_type": "stream",
     "text": [
      "--2022-12-14 09:43:56--  https://storage.googleapis.com/ztm_tf_course/food_vision/101_food_classes_10_percent.zip\n",
      "Resolving storage.googleapis.com (storage.googleapis.com)... 142.251.41.80, 172.217.165.16, 142.251.32.80, ...\n",
      "Connecting to storage.googleapis.com (storage.googleapis.com)|142.251.41.80|:443... connected.\n",
      "HTTP request sent, awaiting response... 200 OK\n",
      "Length: 1625420029 (1.5G) [application/zip]\n",
      "Saving to: ‘101_food_classes_10_percent.zip’\n",
      "\n",
      "101_food_classes_10 100%[===================>]   1.51G  18.8MB/s    in 83s     \n",
      "\n",
      "2022-12-14 09:45:19 (18.7 MB/s) - ‘101_food_classes_10_percent.zip’ saved [1625420029/1625420029]\n",
      "\n"
     ]
    }
   ],
   "source": [
    "# Download data from Google Storage (already preformatted)\n",
    "!wget https://storage.googleapis.com/ztm_tf_course/food_vision/101_food_classes_10_percent.zip \n",
    "\n",
    "unzip_data(\"101_food_classes_10_percent.zip\")\n",
    "\n",
    "train_dir = \"101_food_classes_10_percent/train/\"\n",
    "test_dir = \"101_food_classes_10_percent/test/\""
   ]
  },
  {
   "cell_type": "code",
   "execution_count": 4,
   "id": "56726a82",
   "metadata": {},
   "outputs": [
    {
     "name": "stdout",
     "output_type": "stream",
     "text": [
      "There are 2 directories and 0 images in '101_food_classes_10_percent'.\n",
      "There are 101 directories and 0 images in '101_food_classes_10_percent/test'.\n",
      "There are 0 directories and 250 images in '101_food_classes_10_percent/test/foie_gras'.\n",
      "There are 0 directories and 250 images in '101_food_classes_10_percent/test/club_sandwich'.\n",
      "There are 0 directories and 250 images in '101_food_classes_10_percent/test/cheese_plate'.\n",
      "There are 0 directories and 250 images in '101_food_classes_10_percent/test/cup_cakes'.\n",
      "There are 0 directories and 250 images in '101_food_classes_10_percent/test/garlic_bread'.\n",
      "There are 0 directories and 250 images in '101_food_classes_10_percent/test/gnocchi'.\n",
      "There are 0 directories and 250 images in '101_food_classes_10_percent/test/ice_cream'.\n",
      "There are 0 directories and 250 images in '101_food_classes_10_percent/test/samosa'.\n",
      "There are 0 directories and 250 images in '101_food_classes_10_percent/test/donuts'.\n",
      "There are 0 directories and 250 images in '101_food_classes_10_percent/test/tuna_tartare'.\n",
      "There are 0 directories and 250 images in '101_food_classes_10_percent/test/filet_mignon'.\n",
      "There are 0 directories and 250 images in '101_food_classes_10_percent/test/seaweed_salad'.\n",
      "There are 0 directories and 250 images in '101_food_classes_10_percent/test/french_toast'.\n",
      "There are 0 directories and 250 images in '101_food_classes_10_percent/test/chicken_curry'.\n",
      "There are 0 directories and 250 images in '101_food_classes_10_percent/test/shrimp_and_grits'.\n",
      "There are 0 directories and 250 images in '101_food_classes_10_percent/test/steak'.\n",
      "There are 0 directories and 250 images in '101_food_classes_10_percent/test/cheesecake'.\n",
      "There are 0 directories and 250 images in '101_food_classes_10_percent/test/red_velvet_cake'.\n",
      "There are 0 directories and 250 images in '101_food_classes_10_percent/test/waffles'.\n",
      "There are 0 directories and 250 images in '101_food_classes_10_percent/test/churros'.\n",
      "There are 0 directories and 250 images in '101_food_classes_10_percent/test/gyoza'.\n",
      "There are 0 directories and 250 images in '101_food_classes_10_percent/test/lobster_roll_sandwich'.\n",
      "There are 0 directories and 250 images in '101_food_classes_10_percent/test/huevos_rancheros'.\n",
      "There are 0 directories and 250 images in '101_food_classes_10_percent/test/breakfast_burrito'.\n",
      "There are 0 directories and 250 images in '101_food_classes_10_percent/test/grilled_cheese_sandwich'.\n",
      "There are 0 directories and 250 images in '101_food_classes_10_percent/test/spaghetti_bolognese'.\n",
      "There are 0 directories and 250 images in '101_food_classes_10_percent/test/falafel'.\n",
      "There are 0 directories and 250 images in '101_food_classes_10_percent/test/poutine'.\n",
      "There are 0 directories and 250 images in '101_food_classes_10_percent/test/greek_salad'.\n",
      "There are 0 directories and 250 images in '101_food_classes_10_percent/test/beef_tartare'.\n",
      "There are 0 directories and 250 images in '101_food_classes_10_percent/test/fried_calamari'.\n",
      "There are 0 directories and 250 images in '101_food_classes_10_percent/test/guacamole'.\n",
      "There are 0 directories and 250 images in '101_food_classes_10_percent/test/ravioli'.\n",
      "There are 0 directories and 250 images in '101_food_classes_10_percent/test/lobster_bisque'.\n",
      "There are 0 directories and 250 images in '101_food_classes_10_percent/test/beet_salad'.\n",
      "There are 0 directories and 250 images in '101_food_classes_10_percent/test/risotto'.\n",
      "There are 0 directories and 250 images in '101_food_classes_10_percent/test/crab_cakes'.\n",
      "There are 0 directories and 250 images in '101_food_classes_10_percent/test/strawberry_shortcake'.\n",
      "There are 0 directories and 250 images in '101_food_classes_10_percent/test/edamame'.\n",
      "There are 0 directories and 250 images in '101_food_classes_10_percent/test/ceviche'.\n",
      "There are 0 directories and 250 images in '101_food_classes_10_percent/test/hot_and_sour_soup'.\n",
      "There are 0 directories and 250 images in '101_food_classes_10_percent/test/spring_rolls'.\n",
      "There are 0 directories and 250 images in '101_food_classes_10_percent/test/sashimi'.\n",
      "There are 0 directories and 250 images in '101_food_classes_10_percent/test/paella'.\n",
      "There are 0 directories and 250 images in '101_food_classes_10_percent/test/clam_chowder'.\n",
      "There are 0 directories and 250 images in '101_food_classes_10_percent/test/miso_soup'.\n",
      "There are 0 directories and 250 images in '101_food_classes_10_percent/test/escargots'.\n",
      "There are 0 directories and 250 images in '101_food_classes_10_percent/test/hot_dog'.\n",
      "There are 0 directories and 250 images in '101_food_classes_10_percent/test/pulled_pork_sandwich'.\n",
      "There are 0 directories and 250 images in '101_food_classes_10_percent/test/bruschetta'.\n",
      "There are 0 directories and 250 images in '101_food_classes_10_percent/test/panna_cotta'.\n",
      "There are 0 directories and 250 images in '101_food_classes_10_percent/test/fish_and_chips'.\n",
      "There are 0 directories and 250 images in '101_food_classes_10_percent/test/pad_thai'.\n",
      "There are 0 directories and 250 images in '101_food_classes_10_percent/test/tiramisu'.\n",
      "There are 0 directories and 250 images in '101_food_classes_10_percent/test/takoyaki'.\n",
      "There are 0 directories and 250 images in '101_food_classes_10_percent/test/macarons'.\n",
      "There are 0 directories and 250 images in '101_food_classes_10_percent/test/apple_pie'.\n",
      "There are 0 directories and 250 images in '101_food_classes_10_percent/test/cannoli'.\n",
      "There are 0 directories and 250 images in '101_food_classes_10_percent/test/scallops'.\n",
      "There are 0 directories and 250 images in '101_food_classes_10_percent/test/frozen_yogurt'.\n",
      "There are 0 directories and 250 images in '101_food_classes_10_percent/test/chicken_quesadilla'.\n",
      "There are 0 directories and 250 images in '101_food_classes_10_percent/test/mussels'.\n",
      "There are 0 directories and 250 images in '101_food_classes_10_percent/test/beef_carpaccio'.\n",
      "There are 0 directories and 250 images in '101_food_classes_10_percent/test/eggs_benedict'.\n",
      "There are 0 directories and 250 images in '101_food_classes_10_percent/test/spaghetti_carbonara'.\n",
      "There are 0 directories and 250 images in '101_food_classes_10_percent/test/omelette'.\n",
      "There are 0 directories and 250 images in '101_food_classes_10_percent/test/sushi'.\n",
      "There are 0 directories and 250 images in '101_food_classes_10_percent/test/chocolate_mousse'.\n",
      "There are 0 directories and 250 images in '101_food_classes_10_percent/test/beignets'.\n",
      "There are 0 directories and 250 images in '101_food_classes_10_percent/test/bibimbap'.\n",
      "There are 0 directories and 250 images in '101_food_classes_10_percent/test/hummus'.\n",
      "There are 0 directories and 250 images in '101_food_classes_10_percent/test/pork_chop'.\n",
      "There are 0 directories and 250 images in '101_food_classes_10_percent/test/chicken_wings'.\n",
      "There are 0 directories and 250 images in '101_food_classes_10_percent/test/grilled_salmon'.\n",
      "There are 0 directories and 250 images in '101_food_classes_10_percent/test/chocolate_cake'.\n",
      "There are 0 directories and 250 images in '101_food_classes_10_percent/test/tacos'.\n",
      "There are 0 directories and 250 images in '101_food_classes_10_percent/test/hamburger'.\n",
      "There are 0 directories and 250 images in '101_food_classes_10_percent/test/baby_back_ribs'.\n",
      "There are 0 directories and 250 images in '101_food_classes_10_percent/test/pancakes'.\n",
      "There are 0 directories and 250 images in '101_food_classes_10_percent/test/prime_rib'.\n",
      "There are 0 directories and 250 images in '101_food_classes_10_percent/test/pizza'.\n",
      "There are 0 directories and 250 images in '101_food_classes_10_percent/test/nachos'.\n",
      "There are 0 directories and 250 images in '101_food_classes_10_percent/test/macaroni_and_cheese'.\n",
      "There are 0 directories and 250 images in '101_food_classes_10_percent/test/bread_pudding'.\n",
      "There are 0 directories and 250 images in '101_food_classes_10_percent/test/ramen'.\n",
      "There are 0 directories and 250 images in '101_food_classes_10_percent/test/croque_madame'.\n",
      "There are 0 directories and 250 images in '101_food_classes_10_percent/test/lasagna'.\n",
      "There are 0 directories and 250 images in '101_food_classes_10_percent/test/peking_duck'.\n",
      "There are 0 directories and 250 images in '101_food_classes_10_percent/test/deviled_eggs'.\n",
      "There are 0 directories and 250 images in '101_food_classes_10_percent/test/french_fries'.\n",
      "There are 0 directories and 250 images in '101_food_classes_10_percent/test/dumplings'.\n",
      "There are 0 directories and 250 images in '101_food_classes_10_percent/test/fried_rice'.\n",
      "There are 0 directories and 250 images in '101_food_classes_10_percent/test/french_onion_soup'.\n",
      "There are 0 directories and 250 images in '101_food_classes_10_percent/test/pho'.\n",
      "There are 0 directories and 250 images in '101_food_classes_10_percent/test/caprese_salad'.\n",
      "There are 0 directories and 250 images in '101_food_classes_10_percent/test/oysters'.\n",
      "There are 0 directories and 250 images in '101_food_classes_10_percent/test/baklava'.\n",
      "There are 0 directories and 250 images in '101_food_classes_10_percent/test/creme_brulee'.\n",
      "There are 0 directories and 250 images in '101_food_classes_10_percent/test/carrot_cake'.\n",
      "There are 0 directories and 250 images in '101_food_classes_10_percent/test/onion_rings'.\n",
      "There are 0 directories and 250 images in '101_food_classes_10_percent/test/caesar_salad'.\n",
      "There are 101 directories and 0 images in '101_food_classes_10_percent/train'.\n",
      "There are 0 directories and 75 images in '101_food_classes_10_percent/train/foie_gras'.\n",
      "There are 0 directories and 75 images in '101_food_classes_10_percent/train/club_sandwich'.\n",
      "There are 0 directories and 75 images in '101_food_classes_10_percent/train/cheese_plate'.\n",
      "There are 0 directories and 75 images in '101_food_classes_10_percent/train/cup_cakes'.\n",
      "There are 0 directories and 75 images in '101_food_classes_10_percent/train/garlic_bread'.\n",
      "There are 0 directories and 75 images in '101_food_classes_10_percent/train/gnocchi'.\n",
      "There are 0 directories and 75 images in '101_food_classes_10_percent/train/ice_cream'.\n",
      "There are 0 directories and 75 images in '101_food_classes_10_percent/train/samosa'.\n",
      "There are 0 directories and 75 images in '101_food_classes_10_percent/train/donuts'.\n",
      "There are 0 directories and 75 images in '101_food_classes_10_percent/train/tuna_tartare'.\n",
      "There are 0 directories and 75 images in '101_food_classes_10_percent/train/filet_mignon'.\n",
      "There are 0 directories and 75 images in '101_food_classes_10_percent/train/seaweed_salad'.\n",
      "There are 0 directories and 75 images in '101_food_classes_10_percent/train/french_toast'.\n",
      "There are 0 directories and 75 images in '101_food_classes_10_percent/train/chicken_curry'.\n",
      "There are 0 directories and 75 images in '101_food_classes_10_percent/train/shrimp_and_grits'.\n",
      "There are 0 directories and 75 images in '101_food_classes_10_percent/train/steak'.\n",
      "There are 0 directories and 75 images in '101_food_classes_10_percent/train/cheesecake'.\n",
      "There are 0 directories and 75 images in '101_food_classes_10_percent/train/red_velvet_cake'.\n",
      "There are 0 directories and 75 images in '101_food_classes_10_percent/train/waffles'.\n",
      "There are 0 directories and 75 images in '101_food_classes_10_percent/train/churros'.\n",
      "There are 0 directories and 75 images in '101_food_classes_10_percent/train/gyoza'.\n",
      "There are 0 directories and 75 images in '101_food_classes_10_percent/train/lobster_roll_sandwich'.\n",
      "There are 0 directories and 75 images in '101_food_classes_10_percent/train/huevos_rancheros'.\n",
      "There are 0 directories and 75 images in '101_food_classes_10_percent/train/breakfast_burrito'.\n",
      "There are 0 directories and 75 images in '101_food_classes_10_percent/train/grilled_cheese_sandwich'.\n",
      "There are 0 directories and 75 images in '101_food_classes_10_percent/train/spaghetti_bolognese'.\n",
      "There are 0 directories and 75 images in '101_food_classes_10_percent/train/falafel'.\n",
      "There are 0 directories and 75 images in '101_food_classes_10_percent/train/poutine'.\n",
      "There are 0 directories and 75 images in '101_food_classes_10_percent/train/greek_salad'.\n",
      "There are 0 directories and 75 images in '101_food_classes_10_percent/train/beef_tartare'.\n",
      "There are 0 directories and 75 images in '101_food_classes_10_percent/train/fried_calamari'.\n",
      "There are 0 directories and 75 images in '101_food_classes_10_percent/train/guacamole'.\n",
      "There are 0 directories and 75 images in '101_food_classes_10_percent/train/ravioli'.\n",
      "There are 0 directories and 75 images in '101_food_classes_10_percent/train/lobster_bisque'.\n",
      "There are 0 directories and 75 images in '101_food_classes_10_percent/train/beet_salad'.\n",
      "There are 0 directories and 75 images in '101_food_classes_10_percent/train/risotto'.\n",
      "There are 0 directories and 75 images in '101_food_classes_10_percent/train/crab_cakes'.\n",
      "There are 0 directories and 75 images in '101_food_classes_10_percent/train/strawberry_shortcake'.\n",
      "There are 0 directories and 75 images in '101_food_classes_10_percent/train/edamame'.\n",
      "There are 0 directories and 75 images in '101_food_classes_10_percent/train/ceviche'.\n",
      "There are 0 directories and 75 images in '101_food_classes_10_percent/train/hot_and_sour_soup'.\n",
      "There are 0 directories and 75 images in '101_food_classes_10_percent/train/spring_rolls'.\n",
      "There are 0 directories and 75 images in '101_food_classes_10_percent/train/sashimi'.\n",
      "There are 0 directories and 75 images in '101_food_classes_10_percent/train/paella'.\n",
      "There are 0 directories and 75 images in '101_food_classes_10_percent/train/clam_chowder'.\n",
      "There are 0 directories and 75 images in '101_food_classes_10_percent/train/miso_soup'.\n",
      "There are 0 directories and 75 images in '101_food_classes_10_percent/train/escargots'.\n",
      "There are 0 directories and 75 images in '101_food_classes_10_percent/train/hot_dog'.\n",
      "There are 0 directories and 75 images in '101_food_classes_10_percent/train/pulled_pork_sandwich'.\n",
      "There are 0 directories and 75 images in '101_food_classes_10_percent/train/bruschetta'.\n",
      "There are 0 directories and 75 images in '101_food_classes_10_percent/train/panna_cotta'.\n",
      "There are 0 directories and 75 images in '101_food_classes_10_percent/train/fish_and_chips'.\n",
      "There are 0 directories and 75 images in '101_food_classes_10_percent/train/pad_thai'.\n",
      "There are 0 directories and 75 images in '101_food_classes_10_percent/train/tiramisu'.\n",
      "There are 0 directories and 75 images in '101_food_classes_10_percent/train/takoyaki'.\n",
      "There are 0 directories and 75 images in '101_food_classes_10_percent/train/macarons'.\n",
      "There are 0 directories and 75 images in '101_food_classes_10_percent/train/apple_pie'.\n",
      "There are 0 directories and 75 images in '101_food_classes_10_percent/train/cannoli'.\n",
      "There are 0 directories and 75 images in '101_food_classes_10_percent/train/scallops'.\n",
      "There are 0 directories and 75 images in '101_food_classes_10_percent/train/frozen_yogurt'.\n",
      "There are 0 directories and 75 images in '101_food_classes_10_percent/train/chicken_quesadilla'.\n",
      "There are 0 directories and 75 images in '101_food_classes_10_percent/train/mussels'.\n",
      "There are 0 directories and 75 images in '101_food_classes_10_percent/train/beef_carpaccio'.\n",
      "There are 0 directories and 75 images in '101_food_classes_10_percent/train/eggs_benedict'.\n",
      "There are 0 directories and 75 images in '101_food_classes_10_percent/train/spaghetti_carbonara'.\n",
      "There are 0 directories and 75 images in '101_food_classes_10_percent/train/omelette'.\n",
      "There are 0 directories and 75 images in '101_food_classes_10_percent/train/sushi'.\n",
      "There are 0 directories and 75 images in '101_food_classes_10_percent/train/chocolate_mousse'.\n",
      "There are 0 directories and 75 images in '101_food_classes_10_percent/train/beignets'.\n",
      "There are 0 directories and 75 images in '101_food_classes_10_percent/train/bibimbap'.\n",
      "There are 0 directories and 75 images in '101_food_classes_10_percent/train/hummus'.\n",
      "There are 0 directories and 75 images in '101_food_classes_10_percent/train/pork_chop'.\n",
      "There are 0 directories and 75 images in '101_food_classes_10_percent/train/chicken_wings'.\n",
      "There are 0 directories and 75 images in '101_food_classes_10_percent/train/grilled_salmon'.\n",
      "There are 0 directories and 75 images in '101_food_classes_10_percent/train/chocolate_cake'.\n",
      "There are 0 directories and 75 images in '101_food_classes_10_percent/train/tacos'.\n",
      "There are 0 directories and 75 images in '101_food_classes_10_percent/train/hamburger'.\n",
      "There are 0 directories and 75 images in '101_food_classes_10_percent/train/baby_back_ribs'.\n",
      "There are 0 directories and 75 images in '101_food_classes_10_percent/train/pancakes'.\n",
      "There are 0 directories and 75 images in '101_food_classes_10_percent/train/prime_rib'.\n",
      "There are 0 directories and 75 images in '101_food_classes_10_percent/train/pizza'.\n",
      "There are 0 directories and 75 images in '101_food_classes_10_percent/train/nachos'.\n",
      "There are 0 directories and 75 images in '101_food_classes_10_percent/train/macaroni_and_cheese'.\n",
      "There are 0 directories and 75 images in '101_food_classes_10_percent/train/bread_pudding'.\n",
      "There are 0 directories and 75 images in '101_food_classes_10_percent/train/ramen'.\n",
      "There are 0 directories and 75 images in '101_food_classes_10_percent/train/croque_madame'.\n",
      "There are 0 directories and 75 images in '101_food_classes_10_percent/train/lasagna'.\n",
      "There are 0 directories and 75 images in '101_food_classes_10_percent/train/peking_duck'.\n",
      "There are 0 directories and 75 images in '101_food_classes_10_percent/train/deviled_eggs'.\n",
      "There are 0 directories and 75 images in '101_food_classes_10_percent/train/french_fries'.\n",
      "There are 0 directories and 75 images in '101_food_classes_10_percent/train/dumplings'.\n",
      "There are 0 directories and 75 images in '101_food_classes_10_percent/train/fried_rice'.\n",
      "There are 0 directories and 75 images in '101_food_classes_10_percent/train/french_onion_soup'.\n",
      "There are 0 directories and 75 images in '101_food_classes_10_percent/train/pho'.\n",
      "There are 0 directories and 75 images in '101_food_classes_10_percent/train/caprese_salad'.\n",
      "There are 0 directories and 75 images in '101_food_classes_10_percent/train/oysters'.\n",
      "There are 0 directories and 75 images in '101_food_classes_10_percent/train/baklava'.\n",
      "There are 0 directories and 75 images in '101_food_classes_10_percent/train/creme_brulee'.\n",
      "There are 0 directories and 75 images in '101_food_classes_10_percent/train/carrot_cake'.\n",
      "There are 0 directories and 75 images in '101_food_classes_10_percent/train/onion_rings'.\n",
      "There are 0 directories and 75 images in '101_food_classes_10_percent/train/caesar_salad'.\n"
     ]
    }
   ],
   "source": [
    "# How many images/classes are there?\n",
    "walk_through_dir(\"101_food_classes_10_percent\")"
   ]
  },
  {
   "cell_type": "markdown",
   "id": "4805482c",
   "metadata": {},
   "source": [
    "Example of file structure\n",
    "\n",
    "10_food_classes_10_percent <- top level folder\n",
    "└───train <- training images\n",
    "│   └───pizza\n",
    "│   │   │   1008104.jpg\n",
    "│   │   │   1638227.jpg\n",
    "│   │   │   ...      \n",
    "│   └───steak\n",
    "│       │   1000205.jpg\n",
    "│       │   1647351.jpg\n",
    "│       │   ...\n",
    "│   \n",
    "└───test <- testing images\n",
    "│   └───pizza\n",
    "│   │   │   1001116.jpg\n",
    "│   │   │   1507019.jpg\n",
    "│   │   │   ...      \n",
    "│   └───steak\n",
    "│       │   100274.jpg\n",
    "│       │   1653815.jpg\n",
    "│       │   ...    \n",
    "Let's use the `image_dataset_from_directory()` function to turn our images and labels into a `tf.data.Dataset`, a TensorFlow datatype which allows for us to pass it directory to our model.\n",
    "\n",
    "For the test dataset, we're going to set `shuffle=False` so we can perform repeatable evaluation and visualization on it later."
   ]
  },
  {
   "cell_type": "code",
   "execution_count": 5,
   "id": "3aa94781",
   "metadata": {},
   "outputs": [
    {
     "name": "stdout",
     "output_type": "stream",
     "text": [
      "Found 7575 files belonging to 101 classes.\n",
      "Metal device set to: Apple M1\n"
     ]
    },
    {
     "name": "stderr",
     "output_type": "stream",
     "text": [
      "2022-12-14 09:47:02.392218: I tensorflow/core/common_runtime/pluggable_device/pluggable_device_factory.cc:305] Could not identify NUMA node of platform GPU ID 0, defaulting to 0. Your kernel may not have been built with NUMA support.\n",
      "2022-12-14 09:47:02.392338: I tensorflow/core/common_runtime/pluggable_device/pluggable_device_factory.cc:271] Created TensorFlow device (/job:localhost/replica:0/task:0/device:GPU:0 with 0 MB memory) -> physical PluggableDevice (device: 0, name: METAL, pci bus id: <undefined>)\n"
     ]
    },
    {
     "name": "stdout",
     "output_type": "stream",
     "text": [
      "Found 25250 files belonging to 101 classes.\n"
     ]
    }
   ],
   "source": [
    "# Setup data inputs\n",
    "import tensorflow as tf\n",
    "IMG_SIZE = (224, 224)\n",
    "train_data_all_10_percent = tf.keras.preprocessing.image_dataset_from_directory(train_dir,\n",
    "                                                                                label_mode=\"categorical\",\n",
    "                                                                                image_size=IMG_SIZE)\n",
    "                                                                                \n",
    "test_data = tf.keras.preprocessing.image_dataset_from_directory(test_dir,\n",
    "                                                                label_mode=\"categorical\",\n",
    "                                                                image_size=IMG_SIZE,\n",
    "                                                                shuffle=False) # don't shuffle test data for prediction analysis"
   ]
  },
  {
   "cell_type": "markdown",
   "id": "c9d93eb6",
   "metadata": {},
   "source": [
    "Wonderful! It looks like our data has been imported as expected with 75 images per class in the training set (75 images * 101 classes = 7575 images) and 25250 images in the test set (250 images * 101 classes = 25250 images)."
   ]
  },
  {
   "cell_type": "markdown",
   "id": "bb1ef5a4",
   "metadata": {},
   "source": [
    "## Train a big dog model with transfer learning on 10% of 101 food classes\n",
    "\n",
    "Our food image data has been imported into TensorFlow, time to model it.\n",
    "\n",
    "To keep our experiments swift, we're going to start by using feature extraction transfer learning with a pre-trained model for a few epochs and then fine-tune for a few more epochs.\n",
    "\n",
    "More specifically, our goal will be to see if we can beat the baseline from original [Food101 paper](https://data.vision.ee.ethz.ch/cvl/datasets_extra/food-101/static/bossard_eccv14_food-101.pdf) (50.76% accuracy on 101 classes) with 10% of the training data and the following modelling setup:\n",
    "\n",
    "1. A `[ModelCheckpoint callback](https://www.tensorflow.org/api_docs/python/tf/keras/callbacks/ModelCheckpoint)` to save our progress during training, this means we could experiment with further training later without having to train from scratch every time\n",
    "2. Data augmentation built right into the model\n",
    "3. A headless (no top layers) `[EfficientNetB0](https://www.tensorflow.org/api_docs/python/tf/keras/applications/EfficientNetB0)` architecture from `tf.keras.applications` as our base model\n",
    "4. A `Dense` layer with 101 hidden neurons (same as number of food classes) and softmax activation as the output layer\n",
    "5. Categorical crossentropy as the loss function since we're dealing with more than two classes\n",
    "6. The Adam optimizer with the default settings\n",
    "7. Fitting for 5 full passes on the training data while evaluating on 15% of the test data\n",
    "It seems like a lot but these are all things we've covered before in the Transfer Learning in TensorFlow Part 2: Fine-tuning notebook.\n",
    "\n",
    "Let's start by creating the `ModelCheckpoint callback`.\n",
    "\n",
    "Since we want our model to perform well on unseen data we'll set it to monitor the validation accuracy metric and save the model weights which score the best on that."
   ]
  },
  {
   "cell_type": "code",
   "execution_count": 6,
   "id": "cb0e51a5",
   "metadata": {},
   "outputs": [],
   "source": [
    "# Create checkpoint callback to save model for later use\n",
    "checkpoint_path = \"101_classes_10_percent_data_model_checkpoint\"\n",
    "checkpoint_callback = tf.keras.callbacks.ModelCheckpoint(checkpoint_path,\n",
    "                                                         save_weights_only=True, # save only the model weights\n",
    "                                                         monitor=\"val_accuracy\", # save the model weights which score the best validation accuracy\n",
    "                                                         save_best_only=True) # only keep the best model weights on file (delete the rest)"
   ]
  },
  {
   "cell_type": "markdown",
   "id": "513cef7c",
   "metadata": {},
   "source": [
    "Checkpoint ready. Now let's create a small data augmentation model with the Sequential API. Because we're working with a reduced sized training set, this will help prevent our model from overfitting on the training data."
   ]
  },
  {
   "cell_type": "code",
   "execution_count": 7,
   "id": "69977c3c",
   "metadata": {},
   "outputs": [],
   "source": [
    "# Import the required modules for model creation\n",
    "from tensorflow.keras import layers\n",
    "from tensorflow.keras.layers.experimental import preprocessing\n",
    "from tensorflow.keras.models import Sequential\n",
    "\n",
    "# Setup data augmentation\n",
    "data_augmentation = Sequential([\n",
    "  preprocessing.RandomFlip(\"horizontal\"), # randomly flip images on horizontal edge\n",
    "  preprocessing.RandomRotation(0.2), # randomly rotate images by a specific amount\n",
    "  preprocessing.RandomHeight(0.2), # randomly adjust the height of an image by a specific amount\n",
    "  preprocessing.RandomWidth(0.2), # randomly adjust the width of an image by a specific amount\n",
    "  preprocessing.RandomZoom(0.2), # randomly zoom into an image\n",
    "  # preprocessing.Rescaling(1./255) # keep for models like ResNet50V2, remove for EfficientNet\n",
    "], name=\"data_augmentation\")"
   ]
  },
  {
   "cell_type": "markdown",
   "id": "745dc3c7",
   "metadata": {},
   "source": [
    "Beautiful! We'll be able to insert the `data_augmentation` `Sequential model` as a layer in our `Functional API` model. That way if we want to continue training our model at a later time, the data augmentation is already built right in.\n",
    "\n",
    "Speaking of Functional API model's, time to put together a feature extraction transfer learning model using `tf.keras.applications.EfficientNetB0` as our base model.\n",
    "\n",
    "We'll import the base model using the parameter `include_top=False` so we can add on our own output layers, notably `GlobalAveragePooling2D()` (condense the outputs of the base model into a shape usable by the output layer) followed by a `Dense layer`."
   ]
  },
  {
   "cell_type": "code",
   "execution_count": 9,
   "id": "477b21f9",
   "metadata": {},
   "outputs": [],
   "source": [
    "# Setup base model and freeze its layers (this will extract features)\n",
    "base_model = tf.keras.applications.EfficientNetB0(include_top=False)\n",
    "base_model.trainable = False\n",
    "\n",
    "# Setup model architecture with trainable top layers\n",
    "inputs = layers.Input(shape=(224, 224, 3), name=\"input_layer\") # shape of input image\n",
    "#x = data_augmentation(inputs) # augment images (only happens during training)\n",
    "#x = base_model(x, training=False) # put the base model in inference mode so we can use it to extract features without updating the weights\n",
    "x = base_model(inputs)\n",
    "x = layers.GlobalAveragePooling2D(name=\"global_average_pooling\")(x) # pool the outputs of the base model\n",
    "outputs = layers.Dense(len(train_data_all_10_percent.class_names), activation=\"softmax\", name=\"output_layer\")(x) # same number of outputs as classes\n",
    "model = tf.keras.Model(inputs, outputs)"
   ]
  },
  {
   "cell_type": "code",
   "execution_count": 10,
   "id": "c7154413",
   "metadata": {},
   "outputs": [
    {
     "name": "stdout",
     "output_type": "stream",
     "text": [
      "Model: \"model_1\"\n",
      "_________________________________________________________________\n",
      "Layer (type)                 Output Shape              Param #   \n",
      "=================================================================\n",
      "input_layer (InputLayer)     [(None, 224, 224, 3)]     0         \n",
      "_________________________________________________________________\n",
      "efficientnetb0 (Functional)  (None, None, None, 1280)  4049571   \n",
      "_________________________________________________________________\n",
      "global_average_pooling (Glob (None, 1280)              0         \n",
      "_________________________________________________________________\n",
      "output_layer (Dense)         (None, 101)               129381    \n",
      "=================================================================\n",
      "Total params: 4,178,952\n",
      "Trainable params: 129,381\n",
      "Non-trainable params: 4,049,571\n",
      "_________________________________________________________________\n"
     ]
    }
   ],
   "source": [
    "# Get a summary of our model\n",
    "model.summary()"
   ]
  },
  {
   "cell_type": "markdown",
   "id": "4bad9d3b",
   "metadata": {},
   "source": [
    "How would our model summary look like if we add the data augmentation layer:\n",
    "![modelSummaryWithDataAugmentation.png](Images/modelSummaryWithDataAugmentation.png)"
   ]
  },
  {
   "cell_type": "code",
   "execution_count": 11,
   "id": "c5f93ac7",
   "metadata": {},
   "outputs": [
    {
     "name": "stdout",
     "output_type": "stream",
     "text": [
      "Epoch 1/5\n"
     ]
    },
    {
     "name": "stderr",
     "output_type": "stream",
     "text": [
      "2022-12-14 10:01:28.144772: I tensorflow/compiler/mlir/mlir_graph_optimization_pass.cc:176] None of the MLIR Optimization Passes are enabled (registered 2)\n",
      "2022-12-14 10:01:28.156365: W tensorflow/core/platform/profile_utils/cpu_utils.cc:128] Failed to get CPU frequency: 0 Hz\n",
      "2022-12-14 10:01:28.156736: I tensorflow/core/grappler/optimizers/custom_graph_optimizer_registry.cc:112] Plugin optimizer for device_type GPU is enabled.\n"
     ]
    },
    {
     "name": "stdout",
     "output_type": "stream",
     "text": [
      "237/237 [==============================] - ETA: 0s - loss: 3.1963 - accuracy: 0.3130"
     ]
    },
    {
     "name": "stderr",
     "output_type": "stream",
     "text": [
      "2022-12-14 10:02:33.114824: I tensorflow/core/grappler/optimizers/custom_graph_optimizer_registry.cc:112] Plugin optimizer for device_type GPU is enabled.\n"
     ]
    },
    {
     "name": "stdout",
     "output_type": "stream",
     "text": [
      "237/237 [==============================] - 95s 376ms/step - loss: 3.1963 - accuracy: 0.3130 - val_loss: 2.4241 - val_accuracy: 0.4661\n",
      "Epoch 2/5\n",
      "237/237 [==============================] - 89s 378ms/step - loss: 1.9300 - accuracy: 0.5687 - val_loss: 2.0169 - val_accuracy: 0.5164\n",
      "Epoch 3/5\n",
      "237/237 [==============================] - 89s 376ms/step - loss: 1.5279 - accuracy: 0.6470 - val_loss: 1.8838 - val_accuracy: 0.5220\n",
      "Epoch 4/5\n",
      "237/237 [==============================] - 88s 373ms/step - loss: 1.2851 - accuracy: 0.6998 - val_loss: 1.7954 - val_accuracy: 0.5358\n",
      "Epoch 5/5\n",
      "237/237 [==============================] - 89s 374ms/step - loss: 1.1133 - accuracy: 0.7472 - val_loss: 1.7589 - val_accuracy: 0.5384\n"
     ]
    }
   ],
   "source": [
    "# Compile\n",
    "model.compile(loss=\"categorical_crossentropy\",\n",
    "              optimizer=tf.keras.optimizers.Adam(), # use Adam with default settings\n",
    "              metrics=[\"accuracy\"])\n",
    "\n",
    "# Fit\n",
    "history_all_classes_10_percent = model.fit(train_data_all_10_percent,\n",
    "                                           epochs=5, # fit for 5 epochs to keep experiments quick\n",
    "                                           validation_data=test_data,\n",
    "                                           validation_steps=int(0.15 * len(test_data)), # evaluate on smaller portion of test data\n",
    "                                           callbacks=[checkpoint_callback]) # save best model weights to file"
   ]
  },
  {
   "cell_type": "code",
   "execution_count": 12,
   "id": "23c97aac",
   "metadata": {},
   "outputs": [
    {
     "name": "stdout",
     "output_type": "stream",
     "text": [
      "790/790 [==============================] - 201s 254ms/step - loss: 1.5320 - accuracy: 0.6009\n"
     ]
    },
    {
     "data": {
      "text/plain": [
       "[1.5319923162460327, 0.6009109020233154]"
      ]
     },
     "execution_count": 12,
     "metadata": {},
     "output_type": "execute_result"
    }
   ],
   "source": [
    "# Evaluate model \n",
    "results_feature_extraction_model = model.evaluate(test_data)\n",
    "results_feature_extraction_model"
   ]
  },
  {
   "cell_type": "markdown",
   "id": "9ca91458",
   "metadata": {},
   "source": [
    "Well it looks like we just beat our **baseline (the results from the original Food101 paper)** with 10% of the data! In under 5-minutes... that's the power of deep learning and more precisely, transfer learning: leveraging what one model has learned on another dataset for our own dataset.\n",
    "\n",
    "How do the loss curves look?"
   ]
  },
  {
   "cell_type": "code",
   "execution_count": 13,
   "id": "df85144f",
   "metadata": {},
   "outputs": [
    {
     "data": {
      "image/png": "[encoded data removed]",
      "text/plain": [
       "<Figure size 640x480 with 1 Axes>"
      ]
     },
     "metadata": {},
     "output_type": "display_data"
    },
    {
     "data": {
      "image/png": "[encoded data removed]",
      "text/plain": [
       "<Figure size 640x480 with 1 Axes>"
      ]
     },
     "metadata": {},
     "output_type": "display_data"
    }
   ],
   "source": [
    "plot_loss_curves(history_all_classes_10_percent)"
   ]
  },
  {
   "cell_type": "markdown",
   "id": "67564cdb",
   "metadata": {},
   "source": [
    "🤔 **Question**: What do these curves suggest? Hint: ideally, the two curves should be very similar to each other, if not, there may be some overfitting or underfitting."
   ]
  },
  {
   "cell_type": "markdown",
   "id": "593bf94c",
   "metadata": {},
   "source": [
    "## Fine-tuning\n",
    "\n",
    "Our feature extraction transfer learning model is performing well. Why don't we try to fine-tune a few layers in the base model and see if we gain any improvements?\n",
    "\n",
    "The good news is, thanks to the `ModelCheckpoint callback`, we've got the saved weights of our already well-performing model so if fine-tuning doesn't add any benefits, we can revert back.\n",
    "\n",
    "To fine-tune the base model we'll first set its `trainable` attribute to True, unfreezing all of the frozen.\n",
    "\n",
    "Then since we've got a relatively small training dataset, we'll refreeze every layer except for the last 5, making them trainable."
   ]
  },
  {
   "cell_type": "code",
   "execution_count": 14,
   "id": "2dd04bfe",
   "metadata": {},
   "outputs": [],
   "source": [
    "# Unfreeze all of the layers in the base model\n",
    "base_model.trainable = True\n",
    "\n",
    "# Refreeze every layer except for the last 5\n",
    "for layer in base_model.layers[:-5]:\n",
    "  layer.trainable = False"
   ]
  },
  {
   "cell_type": "markdown",
   "id": "d37a67f1",
   "metadata": {},
   "source": [
    "#### We just made a change to the layers in our model and what do we have to do every time we make a change to our model?\n",
    "\n",
    "Recompile it.\n",
    "\n",
    "Because we're fine-tuning, we'll use a 10x lower learning rate to ensure the updates to the previous trained weights aren't too large.\n",
    "\n",
    "![FineTuneAllData.png](Images/FineTuneAllData.png)"
   ]
  },
  {
   "cell_type": "code",
   "execution_count": 15,
   "id": "383890e7",
   "metadata": {},
   "outputs": [],
   "source": [
    "# Recompile model with lower learning rate\n",
    "model.compile(loss='categorical_crossentropy',\n",
    "              optimizer=tf.keras.optimizers.Adam(1e-4), # 10x lower learning rate than default\n",
    "              metrics=['accuracy'])"
   ]
  },
  {
   "cell_type": "code",
   "execution_count": 16,
   "id": "eaaed128",
   "metadata": {},
   "outputs": [
    {
     "name": "stdout",
     "output_type": "stream",
     "text": [
      "input_layer True\n",
      "efficientnetb0 True\n",
      "global_average_pooling True\n",
      "output_layer True\n"
     ]
    }
   ],
   "source": [
    "# What layers in the model are trainable?\n",
    "for layer in model.layers:\n",
    "  print(layer.name, layer.trainable)"
   ]
  },
  {
   "cell_type": "code",
   "execution_count": 17,
   "id": "a269ea09",
   "metadata": {},
   "outputs": [
    {
     "name": "stdout",
     "output_type": "stream",
     "text": [
      "0 input_2 False\n",
      "1 rescaling_1 False\n",
      "2 normalization_1 False\n",
      "3 stem_conv_pad False\n",
      "4 stem_conv False\n",
      "5 stem_bn False\n",
      "6 stem_activation False\n",
      "7 block1a_dwconv False\n",
      "8 block1a_bn False\n",
      "9 block1a_activation False\n",
      "10 block1a_se_squeeze False\n",
      "11 block1a_se_reshape False\n",
      "12 block1a_se_reduce False\n",
      "13 block1a_se_expand False\n",
      "14 block1a_se_excite False\n",
      "15 block1a_project_conv False\n",
      "16 block1a_project_bn False\n",
      "17 block2a_expand_conv False\n",
      "18 block2a_expand_bn False\n",
      "19 block2a_expand_activation False\n",
      "20 block2a_dwconv_pad False\n",
      "21 block2a_dwconv False\n",
      "22 block2a_bn False\n",
      "23 block2a_activation False\n",
      "24 block2a_se_squeeze False\n",
      "25 block2a_se_reshape False\n",
      "26 block2a_se_reduce False\n",
      "27 block2a_se_expand False\n",
      "28 block2a_se_excite False\n",
      "29 block2a_project_conv False\n",
      "30 block2a_project_bn False\n",
      "31 block2b_expand_conv False\n",
      "32 block2b_expand_bn False\n",
      "33 block2b_expand_activation False\n",
      "34 block2b_dwconv False\n",
      "35 block2b_bn False\n",
      "36 block2b_activation False\n",
      "37 block2b_se_squeeze False\n",
      "38 block2b_se_reshape False\n",
      "39 block2b_se_reduce False\n",
      "40 block2b_se_expand False\n",
      "41 block2b_se_excite False\n",
      "42 block2b_project_conv False\n",
      "43 block2b_project_bn False\n",
      "44 block2b_drop False\n",
      "45 block2b_add False\n",
      "46 block3a_expand_conv False\n",
      "47 block3a_expand_bn False\n",
      "48 block3a_expand_activation False\n",
      "49 block3a_dwconv_pad False\n",
      "50 block3a_dwconv False\n",
      "51 block3a_bn False\n",
      "52 block3a_activation False\n",
      "53 block3a_se_squeeze False\n",
      "54 block3a_se_reshape False\n",
      "55 block3a_se_reduce False\n",
      "56 block3a_se_expand False\n",
      "57 block3a_se_excite False\n",
      "58 block3a_project_conv False\n",
      "59 block3a_project_bn False\n",
      "60 block3b_expand_conv False\n",
      "61 block3b_expand_bn False\n",
      "62 block3b_expand_activation False\n",
      "63 block3b_dwconv False\n",
      "64 block3b_bn False\n",
      "65 block3b_activation False\n",
      "66 block3b_se_squeeze False\n",
      "67 block3b_se_reshape False\n",
      "68 block3b_se_reduce False\n",
      "69 block3b_se_expand False\n",
      "70 block3b_se_excite False\n",
      "71 block3b_project_conv False\n",
      "72 block3b_project_bn False\n",
      "73 block3b_drop False\n",
      "74 block3b_add False\n",
      "75 block4a_expand_conv False\n",
      "76 block4a_expand_bn False\n",
      "77 block4a_expand_activation False\n",
      "78 block4a_dwconv_pad False\n",
      "79 block4a_dwconv False\n",
      "80 block4a_bn False\n",
      "81 block4a_activation False\n",
      "82 block4a_se_squeeze False\n",
      "83 block4a_se_reshape False\n",
      "84 block4a_se_reduce False\n",
      "85 block4a_se_expand False\n",
      "86 block4a_se_excite False\n",
      "87 block4a_project_conv False\n",
      "88 block4a_project_bn False\n",
      "89 block4b_expand_conv False\n",
      "90 block4b_expand_bn False\n",
      "91 block4b_expand_activation False\n",
      "92 block4b_dwconv False\n",
      "93 block4b_bn False\n",
      "94 block4b_activation False\n",
      "95 block4b_se_squeeze False\n",
      "96 block4b_se_reshape False\n",
      "97 block4b_se_reduce False\n",
      "98 block4b_se_expand False\n",
      "99 block4b_se_excite False\n",
      "100 block4b_project_conv False\n",
      "101 block4b_project_bn False\n",
      "102 block4b_drop False\n",
      "103 block4b_add False\n",
      "104 block4c_expand_conv False\n",
      "105 block4c_expand_bn False\n",
      "106 block4c_expand_activation False\n",
      "107 block4c_dwconv False\n",
      "108 block4c_bn False\n",
      "109 block4c_activation False\n",
      "110 block4c_se_squeeze False\n",
      "111 block4c_se_reshape False\n",
      "112 block4c_se_reduce False\n",
      "113 block4c_se_expand False\n",
      "114 block4c_se_excite False\n",
      "115 block4c_project_conv False\n",
      "116 block4c_project_bn False\n",
      "117 block4c_drop False\n",
      "118 block4c_add False\n",
      "119 block5a_expand_conv False\n",
      "120 block5a_expand_bn False\n",
      "121 block5a_expand_activation False\n",
      "122 block5a_dwconv False\n",
      "123 block5a_bn False\n",
      "124 block5a_activation False\n",
      "125 block5a_se_squeeze False\n",
      "126 block5a_se_reshape False\n",
      "127 block5a_se_reduce False\n",
      "128 block5a_se_expand False\n",
      "129 block5a_se_excite False\n",
      "130 block5a_project_conv False\n",
      "131 block5a_project_bn False\n",
      "132 block5b_expand_conv False\n",
      "133 block5b_expand_bn False\n",
      "134 block5b_expand_activation False\n",
      "135 block5b_dwconv False\n",
      "136 block5b_bn False\n",
      "137 block5b_activation False\n",
      "138 block5b_se_squeeze False\n",
      "139 block5b_se_reshape False\n",
      "140 block5b_se_reduce False\n",
      "141 block5b_se_expand False\n",
      "142 block5b_se_excite False\n",
      "143 block5b_project_conv False\n",
      "144 block5b_project_bn False\n",
      "145 block5b_drop False\n",
      "146 block5b_add False\n",
      "147 block5c_expand_conv False\n",
      "148 block5c_expand_bn False\n",
      "149 block5c_expand_activation False\n",
      "150 block5c_dwconv False\n",
      "151 block5c_bn False\n",
      "152 block5c_activation False\n",
      "153 block5c_se_squeeze False\n",
      "154 block5c_se_reshape False\n",
      "155 block5c_se_reduce False\n",
      "156 block5c_se_expand False\n",
      "157 block5c_se_excite False\n",
      "158 block5c_project_conv False\n",
      "159 block5c_project_bn False\n",
      "160 block5c_drop False\n",
      "161 block5c_add False\n",
      "162 block6a_expand_conv False\n",
      "163 block6a_expand_bn False\n",
      "164 block6a_expand_activation False\n",
      "165 block6a_dwconv_pad False\n",
      "166 block6a_dwconv False\n",
      "167 block6a_bn False\n",
      "168 block6a_activation False\n",
      "169 block6a_se_squeeze False\n",
      "170 block6a_se_reshape False\n",
      "171 block6a_se_reduce False\n",
      "172 block6a_se_expand False\n",
      "173 block6a_se_excite False\n",
      "174 block6a_project_conv False\n",
      "175 block6a_project_bn False\n",
      "176 block6b_expand_conv False\n",
      "177 block6b_expand_bn False\n",
      "178 block6b_expand_activation False\n",
      "179 block6b_dwconv False\n",
      "180 block6b_bn False\n",
      "181 block6b_activation False\n",
      "182 block6b_se_squeeze False\n",
      "183 block6b_se_reshape False\n",
      "184 block6b_se_reduce False\n",
      "185 block6b_se_expand False\n",
      "186 block6b_se_excite False\n",
      "187 block6b_project_conv False\n",
      "188 block6b_project_bn False\n",
      "189 block6b_drop False\n",
      "190 block6b_add False\n",
      "191 block6c_expand_conv False\n",
      "192 block6c_expand_bn False\n",
      "193 block6c_expand_activation False\n",
      "194 block6c_dwconv False\n",
      "195 block6c_bn False\n",
      "196 block6c_activation False\n",
      "197 block6c_se_squeeze False\n",
      "198 block6c_se_reshape False\n",
      "199 block6c_se_reduce False\n",
      "200 block6c_se_expand False\n",
      "201 block6c_se_excite False\n",
      "202 block6c_project_conv False\n",
      "203 block6c_project_bn False\n",
      "204 block6c_drop False\n",
      "205 block6c_add False\n",
      "206 block6d_expand_conv False\n",
      "207 block6d_expand_bn False\n",
      "208 block6d_expand_activation False\n",
      "209 block6d_dwconv False\n",
      "210 block6d_bn False\n",
      "211 block6d_activation False\n",
      "212 block6d_se_squeeze False\n",
      "213 block6d_se_reshape False\n",
      "214 block6d_se_reduce False\n",
      "215 block6d_se_expand False\n",
      "216 block6d_se_excite False\n",
      "217 block6d_project_conv False\n",
      "218 block6d_project_bn False\n",
      "219 block6d_drop False\n",
      "220 block6d_add False\n",
      "221 block7a_expand_conv False\n",
      "222 block7a_expand_bn False\n",
      "223 block7a_expand_activation False\n",
      "224 block7a_dwconv False\n",
      "225 block7a_bn False\n",
      "226 block7a_activation False\n",
      "227 block7a_se_squeeze False\n",
      "228 block7a_se_reshape False\n",
      "229 block7a_se_reduce False\n",
      "230 block7a_se_expand False\n",
      "231 block7a_se_excite False\n",
      "232 block7a_project_conv True\n",
      "233 block7a_project_bn True\n",
      "234 top_conv True\n",
      "235 top_bn True\n",
      "236 top_activation True\n"
     ]
    }
   ],
   "source": [
    "# Check which layers are trainable\n",
    "for layer_number, layer in enumerate(base_model.layers):\n",
    "  print(layer_number, layer.name, layer.trainable)"
   ]
  },
  {
   "cell_type": "markdown",
   "id": "08da8058",
   "metadata": {},
   "source": [
    "Excellent! Time to fine-tune our model.\n",
    "\n",
    "Another 5 epochs should be enough to see whether any benefits come about (though we could always try more).\n",
    "\n",
    "We'll start the training off where the feature extraction model left off using the `initial_epoch` parameter in the `fit()` function."
   ]
  },
  {
   "cell_type": "code",
   "execution_count": null,
   "id": "4626ed5d",
   "metadata": {},
   "outputs": [
    {
     "name": "stdout",
     "output_type": "stream",
     "text": [
      "Epoch 5/10\n"
     ]
    },
    {
     "name": "stderr",
     "output_type": "stream",
     "text": [
      "2022-12-14 10:14:28.129114: I tensorflow/core/grappler/optimizers/custom_graph_optimizer_registry.cc:112] Plugin optimizer for device_type GPU is enabled.\n"
     ]
    },
    {
     "name": "stdout",
     "output_type": "stream",
     "text": [
      " 35/237 [===>..........................] - ETA: 53s - loss: 1.1604 - accuracy: 0.7402"
     ]
    }
   ],
   "source": [
    "# Fine-tune for 5 more epochs\n",
    "fine_tune_epochs = 10 # model has already done 5 epochs, this is the total number of epochs we're after (5+5=10)\n",
    "\n",
    "history_all_classes_10_percent_fine_tune = model.fit(train_data_all_10_percent,\n",
    "                                                     epochs=fine_tune_epochs,\n",
    "                                                     validation_data=test_data,\n",
    "                                                     validation_steps=int(0.15 * len(test_data)), # validate on 15% of the test data\n",
    "                                                     initial_epoch=history_all_classes_10_percent.epoch[-1]) # start from previous last epoch"
   ]
  },
  {
   "cell_type": "code",
   "execution_count": null,
   "id": "dc305254",
   "metadata": {},
   "outputs": [],
   "source": []
  }
 ],
 "metadata": {
  "kernelspec": {
   "display_name": "Python 3.9 (tensorflow)",
   "language": "python",
   "name": "tensorflow"
  },
  "language_info": {
   "codemirror_mode": {
    "name": "ipython",
    "version": 3
   },
   "file_extension": ".py",
   "mimetype": "text/x-python",
   "name": "python",
   "nbconvert_exporter": "python",
   "pygments_lexer": "ipython3",
   "version": "3.9.15"
  }
 },
 "nbformat": 4,
 "nbformat_minor": 5
}
