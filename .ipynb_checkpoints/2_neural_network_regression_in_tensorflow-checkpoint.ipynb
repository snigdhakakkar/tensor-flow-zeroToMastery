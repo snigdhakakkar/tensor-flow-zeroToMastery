{
 "cells": [
  {
   "cell_type": "markdown",
   "id": "7d87671d",
   "metadata": {},
   "source": [
    "## Neural Network Regression with Tensorflow"
   ]
  },
  {
   "cell_type": "markdown",
   "id": "01383ab8",
   "metadata": {},
   "source": [
    "### What is a regression problem?\n",
    "\n",
    "There are many definitions for a regression problem but in our case, we're going to simplify it to be: predicting a number.\n",
    "\n",
    "For example, you might want to:\n",
    "\n",
    "* Predict the selling price of houses given information about them (such as number of rooms, size, number of bathrooms).\n",
    "* Predict the coordinates of a bounding box of an item in an image.\n",
    "* Predict the cost of medical insurance for an individual given their demographics (age, sex, gender, race).\n",
    "\n",
    "\n",
    "In this notebook, we're going to set the foundations for how you can take a sample of inputs (this is your data), build a neural network to discover patterns in those inputs and then make a prediction (in the form of a number) based on those inputs."
   ]
  },
  {
   "cell_type": "markdown",
   "id": "2ccb7e3c",
   "metadata": {},
   "source": [
    "### What we're going to cover\n",
    "\n",
    "Specifically, we're going to go through doing the following with TensorFlow:\n",
    "\n",
    "* Architecture of a regression model\n",
    "* Input shapes and output shapes\n",
    "    * X: features/data (inputs)\n",
    "    * y: labels (outputs)\n",
    "* Creating custom data to view and fit\n",
    "* Steps in modelling\n",
    "    * Creating a model\n",
    "    * Compiling a model\n",
    "        * Defining a loss function\n",
    "        * Setting up an optimizer\n",
    "        * Creating evaluation metrics\n",
    "    * Fitting a model (getting it to find patterns in our data)\n",
    "* Evaluating a model\n",
    "    * Visualizng the model (\"visualize, visualize, visualize\")\n",
    "    * Looking at training curves\n",
    "    * Compare predictions to ground truth (using our evaluation metrics)\n",
    "* Saving a model (so we can use it later)\n",
    "* Loading a model\n",
    "\n",
    "Don't worry if none of these make sense now, we're going to go through each.\n",
    "\n"
   ]
  },
  {
   "cell_type": "code",
   "execution_count": null,
   "id": "7c6332f5",
   "metadata": {},
   "outputs": [],
   "source": []
  }
 ],
 "metadata": {
  "kernelspec": {
   "display_name": "Python 3.9 (tensorflow)",
   "language": "python",
   "name": "tensorflow"
  },
  "language_info": {
   "codemirror_mode": {
    "name": "ipython",
    "version": 3
   },
   "file_extension": ".py",
   "mimetype": "text/x-python",
   "name": "python",
   "nbconvert_exporter": "python",
   "pygments_lexer": "ipython3",
   "version": "3.9.15"
  }
 },
 "nbformat": 4,
 "nbformat_minor": 5
}
