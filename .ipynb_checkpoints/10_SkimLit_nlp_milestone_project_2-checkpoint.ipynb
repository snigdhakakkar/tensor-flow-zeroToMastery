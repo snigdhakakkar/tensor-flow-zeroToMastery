{
 "cells": [
  {
   "cell_type": "markdown",
   "id": "6e6f3e3b",
   "metadata": {},
   "source": [
    "## Milestone Project 2: SkimLit 📄🔥"
   ]
  },
  {
   "cell_type": "markdown",
   "id": "b39d25cd",
   "metadata": {},
   "source": [
    "We're going to be replicating the deep learning model behind the 2017 paper [PubMed 200k RCT: a Dataset for Sequenctial Sentence Classification in Medical Abstracts](https://arxiv.org/abs/1710.06071).\n",
    "\n",
    "When it was released, the paper presented a new dataset called PubMed 200k RCT which consists of ~200,000 labelled Randomized Controlled Trial (RCT) abstracts.\n",
    "\n",
    "The goal of the dataset was to explore the ability for NLP models to classify sentences which appear in sequential order.\n",
    "\n",
    "In other words, given the abstract of a RCT, what role does each sentence serve in the abstract?\n",
    "\n",
    "![Skimlit1.png](Images/Skimlit1.png)\n",
    "\n",
    "*Example inputs ([harder to read abstract from PubMed](https://pubmed.ncbi.nlm.nih.gov/28942748/)) and outputs ([easier to read abstract](https://pubmed.ncbi.nlm.nih.gov/32537182/)) of the model we're going to build. The model will take an abstract wall of text and predict the section label each sentence should have.*\n",
    "\n",
    "## Model Input\n",
    "\n",
    "For example, can we train an NLP model which takes the following input (note: the following sample has had all numerical symbols replaced with \"@\"):\n",
    "```\n",
    "To investigate the efficacy of @ weeks of daily low-dose oral prednisolone in improving pain , mobility , and systemic low-grade inflammation in the short term and whether the effect would be sustained at @ weeks in older adults with moderate to severe knee osteoarthritis ( OA ). A total of @ patients with primary knee OA were randomized @:@ ; @ received @ mg/day of prednisolone and @ received placebo for @ weeks. Outcome measures included pain reduction and improvement in function scores and systemic inflammation markers. Pain was assessed using the visual analog pain scale ( @-@ mm ).\n",
    "```\n",
    "Secondary outcome measures included the Western Ontario and McMaster Universities Osteoarthritis Index scores , patient global assessment ( PGA ) of the severity of knee OA , and @-min walk distance ( @MWD )., Serum levels of interleukin @ ( IL-@ ) , IL-@ , tumor necrosis factor ( TNF ) - , and high-sensitivity C-reactive protein ( hsCRP ) were measured. There was a clinically relevant reduction in the intervention group compared to the placebo group for knee pain , physical function , PGA , and @MWD at @ weeks. The mean difference between treatment arms ( @ % CI ) was @ ( @-@ @ ) , p < @ ; @ ( @-@ @ ) , p < @ ; @ ( @-@ @ ) , p < @ ; and @ ( @-@ @ ) , p < @ , respectively. Further , there was a clinically relevant reduction in the serum levels of IL-@ , IL-@ , TNF - , and hsCRP at @ weeks in the intervention group when compared to the placebo group. These differences remained significant at @ weeks. The Outcome Measures in Rheumatology Clinical Trials-Osteoarthritis Research Society International responder rate was @ % in the intervention group and @ % in the placebo group ( p < @ ). Low-dose oral prednisolone had both a short-term and a longer sustained effect resulting in less knee pain , better physical function , and attenuation of systemic inflammation in older patients with knee OA ( ClinicalTrials.gov identifier NCT@ ).\n",
    "\n",
    "## Model output\n",
    "\n",
    "And returns the following output:\n",
    "\n",
    "['###24293578\\n',\n",
    " 'OBJECTIVE\\tTo investigate the efficacy of @ weeks of daily low-dose oral prednisolone in improving pain , mobility , and systemic low-grade inflammation in the short term and whether the effect would be sustained at @ weeks in older adults with moderate to severe knee osteoarthritis ( OA ) .\\n',\n",
    " 'METHODS\\tA total of @ patients with primary knee OA were randomized @:@ ; @ received @ mg/day of prednisolone and @ received placebo for @ weeks .\\n',\n",
    " 'METHODS\\tOutcome measures included pain reduction and improvement in function scores and systemic inflammation markers .\\n',\n",
    " 'METHODS\\tPain was assessed using the visual analog pain scale ( @-@ mm ) .\\n',\n",
    " 'METHODS\\tSecondary outcome measures included the Western Ontario and McMaster Universities Osteoarthritis Index scores , patient global assessment ( PGA ) of the severity of knee OA , and @-min walk distance ( @MWD ) .\\n',\n",
    " 'METHODS\\tSerum levels of interleukin @ ( IL-@ ) , IL-@ , tumor necrosis factor ( TNF ) - , and high-sensitivity C-reactive protein ( hsCRP ) were measured .\\n',\n",
    " 'RESULTS\\tThere was a clinically relevant reduction in the intervention group compared to the placebo group for knee pain , physical function , PGA , and @MWD at @ weeks .\\n',\n",
    " 'RESULTS\\tThe mean difference between treatment arms ( @ % CI ) was @ ( @-@ @ ) , p < @ ; @ ( @-@ @ ) , p < @ ; @ ( @-@ @ ) , p < @ ; and @ ( @-@ @ ) , p < @ , respectively .\\n',\n",
    " 'RESULTS\\tFurther , there was a clinically relevant reduction in the serum levels of IL-@ , IL-@ , TNF - , and hsCRP at @ weeks in the intervention group when compared to the placebo group .\\n',\n",
    " 'RESULTS\\tThese differences remained significant at @ weeks .\\n',\n",
    " 'RESULTS\\tThe Outcome Measures in Rheumatology Clinical Trials-Osteoarthritis Research Society International responder rate was @ % in the intervention group and @ % in the placebo group ( p < @ ) .\\n',\n",
    " 'CONCLUSIONS\\tLow-dose oral prednisolone had both a short-term and a longer sustained effect resulting in less knee pain , better physical function , and attenuation of systemic inflammation in older patients with knee OA ( ClinicalTrials.gov identifier NCT@ ) .\\n\n",
    "\n"
   ]
  },
  {
   "cell_type": "markdown",
   "id": "9383bf37",
   "metadata": {},
   "source": [
    "## Problem in a sentence\n",
    "\n",
    "The number of RCT papers released is continuing to increase, those without structured abstracts can be hard to read and in turn slow down researchers moving through the literature."
   ]
  },
  {
   "cell_type": "markdown",
   "id": "56dc69bb",
   "metadata": {},
   "source": [
    "## Solution in a sentence\n",
    "\n",
    "Create an NLP model to classify abstract sentences into the role they play (e.g. objective, methods, results, etc) to enable researchers to skim through the literature (hence SkimLit 🤓🔥) and dive deeper when necessary.\n",
    "\n",
    "📖 Resources: Before going through the code in this notebook, you might want to get a background of what we're going to be doing. To do so, spend an hour (or two) going through the following papers and then return to this notebook:\n",
    "\n",
    "Where our data is coming from: [PubMed 200k RCT: a Dataset for Sequential Sentence Classification in Medical Abstracts](https://arxiv.org/abs/1710.06071)\n",
    "Where our model is coming from: [*Neural networks for joint sentence\n",
    "classification in medical paper abstracts*](https://arxiv.org/pdf/1612.05251.pdf)."
   ]
  },
  {
   "cell_type": "markdown",
   "id": "c9461634",
   "metadata": {},
   "source": [
    "## What we're going to cover\n",
    "\n",
    "Contents and tasks:\n",
    "\n",
    "1. Downloading a text dataset (PubMed RCT200k from GitHub)\n",
    "2. Writing a preprocessing function to prepare our data for modelling\n",
    "3. Setting up a series of modelling experiments\n",
    "    * Making a baseline (TF-IDF classifier)\n",
    "    * Deep models with different combinations of: token embeddings, character embeddings, pretrained embeddings, positional embeddings\n",
    "4. Building our first multimodal model (taking multiple types of data inputs)\n",
    "    * Replicating the model architecture from https://arxiv.org/pdf/1612.05251.pdf\n",
    "5. Find the most wrong predictions\n",
    "6. Making predictions on PubMed abstracts from the wild"
   ]
  },
  {
   "cell_type": "markdown",
   "id": "2337a1a3",
   "metadata": {},
   "source": [
    "## Get data\n",
    "\n",
    "Before we can start building a model, we've got to download the PubMed 200k RCT dataset.\n",
    "\n",
    "In a phenomenal act of kindness, the authors of the paper have made the data they used for their research availably publically and for free in the form of .txt files [on GitHub](https://github.com/Franck-Dernoncourt/pubmed-rct).\n",
    "\n",
    "We can copy them to our local directory using git clone https://github.com/Franck-Dernoncourt/pubmed-rct."
   ]
  },
  {
   "cell_type": "code",
   "execution_count": 1,
   "id": "cb29503d",
   "metadata": {},
   "outputs": [
    {
     "name": "stdout",
     "output_type": "stream",
     "text": [
      "Cloning into 'pubmed-rct'...\n",
      "remote: Enumerating objects: 33, done.\u001b[K\n",
      "remote: Counting objects: 100% (8/8), done.\u001b[K\n",
      "remote: Compressing objects: 100% (3/3), done.\u001b[K\n",
      "remote: Total 33 (delta 5), reused 5 (delta 5), pack-reused 25\u001b[K\n",
      "Receiving objects: 100% (33/33), 177.08 MiB | 15.13 MiB/s, done.\n",
      "Resolving deltas: 100% (12/12), done.\n",
      "\u001b[34mPubMed_200k_RCT\u001b[m\u001b[m\n",
      "\u001b[34mPubMed_200k_RCT_numbers_replaced_with_at_sign\u001b[m\u001b[m\n",
      "\u001b[34mPubMed_20k_RCT\u001b[m\u001b[m\n",
      "\u001b[34mPubMed_20k_RCT_numbers_replaced_with_at_sign\u001b[m\u001b[m\n",
      "README.md\n"
     ]
    }
   ],
   "source": [
    "!git clone https://github.com/Franck-Dernoncourt/pubmed-rct.git\n",
    "!ls pubmed-rct"
   ]
  },
  {
   "cell_type": "markdown",
   "id": "401a765b",
   "metadata": {},
   "source": [
    "Checking the contents of the downloaded repository, you can see there are four folders.\n",
    "\n",
    "Each contains a different version of the PubMed 200k RCT dataset.\n",
    "\n",
    "Looking at the README file from the GitHub page, we get the following information:\n",
    "\n",
    "* PubMed 20k is a subset of PubMed 200k. I.e., any abstract present in PubMed 20k is also present in PubMed 200k.\n",
    "* `PubMed_200k_RCT` is the same as `PubMed_200k_RCT_numbers_replaced_with_at_sign`, except that in the latter all numbers had been replaced by @. (same for `PubMed_20k_RCT` vs. `PubMed_20k_RCT_numbers_replaced_with_at_sign`).\n",
    "* Since Github file size limit is 100 MiB, we had to compress `PubMed_200k_RCT\\train.7z` and `PubMed_200k_RCT_numbers_replaced_with_at_sign\\train.zip.` To uncompress train.7z, you may use 7-Zip on Windows, Keka on Mac OS X, or p7zip on Linux.\n",
    "\n",
    "To begin with, the dataset we're going to be focused on is `PubMed_20k_RCT_numbers_replaced_with_at_sign`.\n",
    "\n",
    "Why this one?\n",
    "\n",
    "Rather than working with the whole 200k dataset, we'll keep our experiments quick by starting with a smaller subset. We could've chosen the dataset with numbers instead of having them replaced with @ but we didn't.\n",
    "\n",
    "Let's check the file contents."
   ]
  },
  {
   "cell_type": "code",
   "execution_count": 2,
   "id": "8de91be5",
   "metadata": {},
   "outputs": [
    {
     "name": "stdout",
     "output_type": "stream",
     "text": [
      "dev.txt   test.txt  train.txt\r\n"
     ]
    }
   ],
   "source": [
    "# Check what files are in the PubMed_20K dataset \n",
    "!ls pubmed-rct/PubMed_20k_RCT_numbers_replaced_with_at_sign"
   ]
  },
  {
   "cell_type": "markdown",
   "id": "0e9d4b80",
   "metadata": {},
   "source": [
    "Beautiful, looks like we've got three separate text files:\n",
    "\n",
    "* **`train.txt`** - training samples.\n",
    "* **`dev.txt`** - dev is short for development set, which is another name for validation set (in our case, we'll be using and referring to this file as our validation set).\n",
    "* **`test.txt`** - test samples."
   ]
  },
  {
   "cell_type": "code",
   "execution_count": 3,
   "id": "96fde1b8",
   "metadata": {},
   "outputs": [],
   "source": [
    "# Start by using the 20k dataset\n",
    "data_dir = \"pubmed-rct/PubMed_20k_RCT_numbers_replaced_with_at_sign/\""
   ]
  },
  {
   "cell_type": "code",
   "execution_count": 4,
   "id": "5c96da53",
   "metadata": {},
   "outputs": [
    {
     "data": {
      "text/plain": [
       "['pubmed-rct/PubMed_20k_RCT_numbers_replaced_with_at_sign/dev.txt',\n",
       " 'pubmed-rct/PubMed_20k_RCT_numbers_replaced_with_at_sign/train.txt',\n",
       " 'pubmed-rct/PubMed_20k_RCT_numbers_replaced_with_at_sign/test.txt']"
      ]
     },
     "execution_count": 4,
     "metadata": {},
     "output_type": "execute_result"
    }
   ],
   "source": [
    "# Check all of the filenames in the target directory\n",
    "import os\n",
    "filenames = [data_dir + filename for filename in os.listdir(data_dir)]\n",
    "filenames"
   ]
  },
  {
   "cell_type": "markdown",
   "id": "35a6d74d",
   "metadata": {},
   "source": [
    "## Preprocess data\n",
    "\n",
    "Okay, now we've downloaded some text data, do you think we're ready to model it?\n",
    "\n",
    "Wait...\n",
    "\n",
    "We've downloaded the data but we haven't even looked at it yet.\n",
    "\n",
    "*What's the motto for getting familiar with any new dataset?*\n",
    "\n",
    "I'll give you a clue, the word begins with \"v\" and we say it three times.\n",
    "\n",
    "Vibe, vibe, vibe?\n",
    "\n",
    "Sort of... we've definitely got to the feel the vibe of our data.\n",
    "\n",
    "Values, values, values?\n",
    "\n",
    "Right again, we want to see lots of values but not quite what we're looking for.\n",
    "\n",
    "**Visualize, visualize, visualize?**\n",
    "\n",
    "Boom! That's it. To get familiar and understand how we have to prepare our data for our deep learning models, we've got to visualize it.\n",
    "\n",
    "Because our data is in the form of text files, let's write some code to read each of the lines in a target file."
   ]
  },
  {
   "cell_type": "code",
   "execution_count": 5,
   "id": "ffef7e18",
   "metadata": {},
   "outputs": [],
   "source": [
    "# Create function to read the lines of a document\n",
    "def get_lines(filename):\n",
    "  \"\"\"\n",
    "  Reads filename (a text file) and returns the lines of text as a list.\n",
    "  \n",
    "  Args:\n",
    "      filename: a string containing the target filepath to read.\n",
    "  \n",
    "  Returns:\n",
    "      A list of strings with one string per line from the target filename.\n",
    "      For example:\n",
    "      [\"this is the first line of filename\",\n",
    "       \"this is the second line of filename\",\n",
    "       \"...\"]\n",
    "  \"\"\"\n",
    "  with open(filename, \"r\") as f:\n",
    "    return f.readlines()"
   ]
  },
  {
   "cell_type": "markdown",
   "id": "a69ce58d",
   "metadata": {},
   "source": [
    "Alright, we've got a little function, get_lines() which takes the filepath of a text file, opens it, reads each of the lines and returns them.\n",
    "\n",
    "Let's try it out on the training data (train.txt)."
   ]
  },
  {
   "cell_type": "code",
   "execution_count": 6,
   "id": "1fb70633",
   "metadata": {},
   "outputs": [
    {
     "data": {
      "text/plain": [
       "['###24293578\\n',\n",
       " 'OBJECTIVE\\tTo investigate the efficacy of @ weeks of daily low-dose oral prednisolone in improving pain , mobility , and systemic low-grade inflammation in the short term and whether the effect would be sustained at @ weeks in older adults with moderate to severe knee osteoarthritis ( OA ) .\\n',\n",
       " 'METHODS\\tA total of @ patients with primary knee OA were randomized @:@ ; @ received @ mg/day of prednisolone and @ received placebo for @ weeks .\\n',\n",
       " 'METHODS\\tOutcome measures included pain reduction and improvement in function scores and systemic inflammation markers .\\n',\n",
       " 'METHODS\\tPain was assessed using the visual analog pain scale ( @-@ mm ) .\\n',\n",
       " 'METHODS\\tSecondary outcome measures included the Western Ontario and McMaster Universities Osteoarthritis Index scores , patient global assessment ( PGA ) of the severity of knee OA , and @-min walk distance ( @MWD ) .\\n',\n",
       " 'METHODS\\tSerum levels of interleukin @ ( IL-@ ) , IL-@ , tumor necrosis factor ( TNF ) - , and high-sensitivity C-reactive protein ( hsCRP ) were measured .\\n',\n",
       " 'RESULTS\\tThere was a clinically relevant reduction in the intervention group compared to the placebo group for knee pain , physical function , PGA , and @MWD at @ weeks .\\n',\n",
       " 'RESULTS\\tThe mean difference between treatment arms ( @ % CI ) was @ ( @-@ @ ) , p < @ ; @ ( @-@ @ ) , p < @ ; @ ( @-@ @ ) , p < @ ; and @ ( @-@ @ ) , p < @ , respectively .\\n',\n",
       " 'RESULTS\\tFurther , there was a clinically relevant reduction in the serum levels of IL-@ , IL-@ , TNF - , and hsCRP at @ weeks in the intervention group when compared to the placebo group .\\n',\n",
       " 'RESULTS\\tThese differences remained significant at @ weeks .\\n',\n",
       " 'RESULTS\\tThe Outcome Measures in Rheumatology Clinical Trials-Osteoarthritis Research Society International responder rate was @ % in the intervention group and @ % in the placebo group ( p < @ ) .\\n',\n",
       " 'CONCLUSIONS\\tLow-dose oral prednisolone had both a short-term and a longer sustained effect resulting in less knee pain , better physical function , and attenuation of systemic inflammation in older patients with knee OA ( ClinicalTrials.gov identifier NCT@ ) .\\n',\n",
       " '\\n',\n",
       " '###24854809\\n',\n",
       " 'BACKGROUND\\tEmotional eating is associated with overeating and the development of obesity .\\n',\n",
       " 'BACKGROUND\\tYet , empirical evidence for individual ( trait ) differences in emotional eating and cognitive mechanisms that contribute to eating during sad mood remain equivocal .\\n',\n",
       " 'OBJECTIVE\\tThe aim of this study was to test if attention bias for food moderates the effect of self-reported emotional eating during sad mood ( vs neutral mood ) on actual food intake .\\n',\n",
       " 'OBJECTIVE\\tIt was expected that emotional eating is predictive of elevated attention for food and higher food intake after an experimentally induced sad mood and that attentional maintenance on food predicts food intake during a sad versus a neutral mood .\\n',\n",
       " 'METHODS\\tParticipants ( N = @ ) were randomly assigned to one of the two experimental mood induction conditions ( sad/neutral ) .\\n']"
      ]
     },
     "execution_count": 6,
     "metadata": {},
     "output_type": "execute_result"
    }
   ],
   "source": [
    "train_lines = get_lines(data_dir+\"train.txt\")\n",
    "train_lines[:20] # the whole first example of an abstract + a little more of the next one"
   ]
  },
  {
   "cell_type": "markdown",
   "id": "eb007136",
   "metadata": {},
   "source": [
    "Reading the lines from the training text file results in a list of strings containing different abstract samples, the sentences in a sample along with the role the sentence plays in the abstract.\n",
    "\n",
    "The role of each sentence is prefixed at the start of each line separated by a tab (\\t) and each sentence finishes with a new line (\\n).\n",
    "\n",
    "Different abstracts are separated by abstract ID's (lines beginning with ###) and newlines (\\n).\n",
    "\n",
    "Knowing this, it looks like we've got a couple of steps to do to get our samples ready to pass as training data to our future machine learning model.\n",
    "\n",
    "Let's write a function to perform the following steps:\n",
    "\n",
    "* Take a target file of abstract samples.\n",
    "* Read the lines in the target file.\n",
    "* For each line in the target file:\n",
    "    * If the line begins with ### mark it as an abstract ID and the beginning of a new abstract.\n",
    "        * Keep count of the number of lines in a sample.\n",
    "    * If the line begins with \\n mark it as the end of an abstract sample.\n",
    "        * Keep count of the total lines in a sample.\n",
    "    * Record the text before the \\t as the label of the line.\n",
    "    * Record the text after the \\t as the text of the line.\n",
    "* Return all of the lines in the target text file as a list of dictionaries containing the key/value pairs:\n",
    "    * \"`line_number`\" - the position of the line in the abstract (e.g. 3).\n",
    "    * \"`target`\" - the role of the line in the abstract (e.g. OBJECTIVE).\n",
    "    * \"`text`\" - the text of the line in the abstract.\n",
    "    * \"`total_lines`\" - the total lines in an abstract sample (e.g. 14).\n",
    "\n",
    "* Abstract ID's and newlines should be omitted from the returned preprocessed data.\n",
    "\n",
    "Example returned preprocessed sample (a single line from an abstract):\n",
    "```\n",
    "[{'line_number': 0,\n",
    "  'target': 'OBJECTIVE',\n",
    "  'text': 'to investigate the efficacy of @ weeks of daily low-dose oral prednisolone in improving pain , mobility , and systemic low-grade inflammation in the short term and whether the effect would be sustained at @ weeks in older adults with moderate to severe knee osteoarthritis ( oa ) .',\n",
    "  'total_lines': 11},\n",
    "  ...]\n",
    " ```"
   ]
  },
  {
   "cell_type": "code",
   "execution_count": 7,
   "id": "d0126025",
   "metadata": {},
   "outputs": [
    {
     "data": {
      "text/plain": [
       "210040"
      ]
     },
     "execution_count": 7,
     "metadata": {},
     "output_type": "execute_result"
    }
   ],
   "source": [
    "len(train_lines)"
   ]
  },
  {
   "cell_type": "code",
   "execution_count": 8,
   "id": "e27edb2d",
   "metadata": {},
   "outputs": [],
   "source": [
    "def preprocess_text_with_line_numbers(filename):\n",
    "  \"\"\"Returns a list of dictionaries of abstract line data.\n",
    "\n",
    "  Takes in filename, reads its contents and sorts through each line,\n",
    "  extracting things like the target label, the text of the sentence,\n",
    "  how many sentences are in the current abstract and what sentence number\n",
    "  the target line is.\n",
    "\n",
    "  Args:\n",
    "      filename: a string of the target text file to read and extract line data\n",
    "      from.\n",
    "\n",
    "  Returns:\n",
    "      A list of dictionaries each containing a line from an abstract,\n",
    "      the lines label, the lines position in the abstract and the total number\n",
    "      of lines in the abstract where the line is from. For example:\n",
    "\n",
    "      [{\"target\": 'CONCLUSION',\n",
    "        \"text\": The study couldn't have gone better, turns out people are kinder than you think\",\n",
    "        \"line_number\": 8,\n",
    "        \"total_lines\": 8}]\n",
    "  \"\"\"\n",
    "  input_lines = get_lines(filename) # get all lines from filename\n",
    "  abstract_lines = \"\" # create an empty abstract\n",
    "  abstract_samples = [] # create an empty list of abstracts\n",
    "  \n",
    "  # Loop through each line in target file\n",
    "  for line in input_lines:\n",
    "    if line.startswith(\"###\"): # check to see if line is an ID line\n",
    "      abstract_id = line\n",
    "      abstract_lines = \"\" # reset abstract string\n",
    "    elif line.isspace(): # check to see if line is a new line\n",
    "      abstract_line_split = abstract_lines.splitlines() # split abstract into separate lines\n",
    "\n",
    "      # Iterate through each line in abstract and count them at the same time\n",
    "      for abstract_line_number, abstract_line in enumerate(abstract_line_split):\n",
    "        line_data = {} # create empty dict to store data from line\n",
    "        target_text_split = abstract_line.split(\"\\t\") # split target label from text\n",
    "        line_data[\"target\"] = target_text_split[0] # get target label\n",
    "        line_data[\"text\"] = target_text_split[1].lower() # get target text and lower it\n",
    "        line_data[\"line_number\"] = abstract_line_number # what number line does the line appear in the abstract?\n",
    "        line_data[\"total_lines\"] = len(abstract_line_split) - 1 # how many total lines are in the abstract? (start from 0)\n",
    "        abstract_samples.append(line_data) # add line data to abstract samples list\n",
    "    \n",
    "    else: # if the above conditions aren't fulfilled, the line contains a labelled sentence\n",
    "      abstract_lines += line\n",
    "  \n",
    "  return abstract_samples"
   ]
  },
  {
   "cell_type": "markdown",
   "id": "29d12dfa",
   "metadata": {},
   "source": [
    "Beautiful! That's one good looking function. Let's use it to preprocess each of our RCT 20k datasets."
   ]
  },
  {
   "cell_type": "code",
   "execution_count": 10,
   "id": "b5f2b43f",
   "metadata": {},
   "outputs": [
    {
     "name": "stdout",
     "output_type": "stream",
     "text": [
      "CPU times: user 5 µs, sys: 1 µs, total: 6 µs\n",
      "Wall time: 12.2 µs\n"
     ]
    },
    {
     "data": {
      "text/plain": [
       "(180040, 30212, 30135)"
      ]
     },
     "execution_count": 10,
     "metadata": {},
     "output_type": "execute_result"
    }
   ],
   "source": [
    "# Get data from file and preprocess it\n",
    "%time\n",
    "train_samples = preprocess_text_with_line_numbers(data_dir + \"train.txt\")\n",
    "val_samples = preprocess_text_with_line_numbers(data_dir + \"dev.txt\") # dev is another name for validation set\n",
    "test_samples = preprocess_text_with_line_numbers(data_dir + \"test.txt\")\n",
    "len(train_samples), len(val_samples), len(test_samples)"
   ]
  },
  {
   "cell_type": "code",
   "execution_count": 11,
   "id": "5f490fb9",
   "metadata": {},
   "outputs": [
    {
     "data": {
      "text/plain": [
       "[{'target': 'OBJECTIVE',\n",
       "  'text': 'to investigate the efficacy of @ weeks of daily low-dose oral prednisolone in improving pain , mobility , and systemic low-grade inflammation in the short term and whether the effect would be sustained at @ weeks in older adults with moderate to severe knee osteoarthritis ( oa ) .',\n",
       "  'line_number': 0,\n",
       "  'total_lines': 11},\n",
       " {'target': 'METHODS',\n",
       "  'text': 'a total of @ patients with primary knee oa were randomized @:@ ; @ received @ mg/day of prednisolone and @ received placebo for @ weeks .',\n",
       "  'line_number': 1,\n",
       "  'total_lines': 11},\n",
       " {'target': 'METHODS',\n",
       "  'text': 'outcome measures included pain reduction and improvement in function scores and systemic inflammation markers .',\n",
       "  'line_number': 2,\n",
       "  'total_lines': 11},\n",
       " {'target': 'METHODS',\n",
       "  'text': 'pain was assessed using the visual analog pain scale ( @-@ mm ) .',\n",
       "  'line_number': 3,\n",
       "  'total_lines': 11},\n",
       " {'target': 'METHODS',\n",
       "  'text': 'secondary outcome measures included the western ontario and mcmaster universities osteoarthritis index scores , patient global assessment ( pga ) of the severity of knee oa , and @-min walk distance ( @mwd ) .',\n",
       "  'line_number': 4,\n",
       "  'total_lines': 11},\n",
       " {'target': 'METHODS',\n",
       "  'text': 'serum levels of interleukin @ ( il-@ ) , il-@ , tumor necrosis factor ( tnf ) - , and high-sensitivity c-reactive protein ( hscrp ) were measured .',\n",
       "  'line_number': 5,\n",
       "  'total_lines': 11},\n",
       " {'target': 'RESULTS',\n",
       "  'text': 'there was a clinically relevant reduction in the intervention group compared to the placebo group for knee pain , physical function , pga , and @mwd at @ weeks .',\n",
       "  'line_number': 6,\n",
       "  'total_lines': 11},\n",
       " {'target': 'RESULTS',\n",
       "  'text': 'the mean difference between treatment arms ( @ % ci ) was @ ( @-@ @ ) , p < @ ; @ ( @-@ @ ) , p < @ ; @ ( @-@ @ ) , p < @ ; and @ ( @-@ @ ) , p < @ , respectively .',\n",
       "  'line_number': 7,\n",
       "  'total_lines': 11},\n",
       " {'target': 'RESULTS',\n",
       "  'text': 'further , there was a clinically relevant reduction in the serum levels of il-@ , il-@ , tnf - , and hscrp at @ weeks in the intervention group when compared to the placebo group .',\n",
       "  'line_number': 8,\n",
       "  'total_lines': 11},\n",
       " {'target': 'RESULTS',\n",
       "  'text': 'these differences remained significant at @ weeks .',\n",
       "  'line_number': 9,\n",
       "  'total_lines': 11},\n",
       " {'target': 'RESULTS',\n",
       "  'text': 'the outcome measures in rheumatology clinical trials-osteoarthritis research society international responder rate was @ % in the intervention group and @ % in the placebo group ( p < @ ) .',\n",
       "  'line_number': 10,\n",
       "  'total_lines': 11},\n",
       " {'target': 'CONCLUSIONS',\n",
       "  'text': 'low-dose oral prednisolone had both a short-term and a longer sustained effect resulting in less knee pain , better physical function , and attenuation of systemic inflammation in older patients with knee oa ( clinicaltrials.gov identifier nct@ ) .',\n",
       "  'line_number': 11,\n",
       "  'total_lines': 11},\n",
       " {'target': 'BACKGROUND',\n",
       "  'text': 'emotional eating is associated with overeating and the development of obesity .',\n",
       "  'line_number': 0,\n",
       "  'total_lines': 10},\n",
       " {'target': 'BACKGROUND',\n",
       "  'text': 'yet , empirical evidence for individual ( trait ) differences in emotional eating and cognitive mechanisms that contribute to eating during sad mood remain equivocal .',\n",
       "  'line_number': 1,\n",
       "  'total_lines': 10}]"
      ]
     },
     "execution_count": 11,
     "metadata": {},
     "output_type": "execute_result"
    }
   ],
   "source": [
    "# Check the first abstract of our training data\n",
    "train_samples[:14]"
   ]
  },
  {
   "cell_type": "markdown",
   "id": "da5d87cc",
   "metadata": {},
   "source": [
    "Fantastic! Looks like our `preprocess_text_with_line_numbers()` function worked great.\n",
    "\n",
    "How about we turn our list of dictionaries into pandas DataFrame's so we visualize them better?"
   ]
  },
  {
   "cell_type": "code",
   "execution_count": 12,
   "id": "bcccfa13",
   "metadata": {},
   "outputs": [
    {
     "data": {
      "text/html": [
       "<div>\n",
       "<style scoped>\n",
       "    .dataframe tbody tr th:only-of-type {\n",
       "        vertical-align: middle;\n",
       "    }\n",
       "\n",
       "    .dataframe tbody tr th {\n",
       "        vertical-align: top;\n",
       "    }\n",
       "\n",
       "    .dataframe thead th {\n",
       "        text-align: right;\n",
       "    }\n",
       "</style>\n",
       "<table border=\"1\" class=\"dataframe\">\n",
       "  <thead>\n",
       "    <tr style=\"text-align: right;\">\n",
       "      <th></th>\n",
       "      <th>target</th>\n",
       "      <th>text</th>\n",
       "      <th>line_number</th>\n",
       "      <th>total_lines</th>\n",
       "    </tr>\n",
       "  </thead>\n",
       "  <tbody>\n",
       "    <tr>\n",
       "      <th>0</th>\n",
       "      <td>OBJECTIVE</td>\n",
       "      <td>to investigate the efficacy of @ weeks of dail...</td>\n",
       "      <td>0</td>\n",
       "      <td>11</td>\n",
       "    </tr>\n",
       "    <tr>\n",
       "      <th>1</th>\n",
       "      <td>METHODS</td>\n",
       "      <td>a total of @ patients with primary knee oa wer...</td>\n",
       "      <td>1</td>\n",
       "      <td>11</td>\n",
       "    </tr>\n",
       "    <tr>\n",
       "      <th>2</th>\n",
       "      <td>METHODS</td>\n",
       "      <td>outcome measures included pain reduction and i...</td>\n",
       "      <td>2</td>\n",
       "      <td>11</td>\n",
       "    </tr>\n",
       "    <tr>\n",
       "      <th>3</th>\n",
       "      <td>METHODS</td>\n",
       "      <td>pain was assessed using the visual analog pain...</td>\n",
       "      <td>3</td>\n",
       "      <td>11</td>\n",
       "    </tr>\n",
       "    <tr>\n",
       "      <th>4</th>\n",
       "      <td>METHODS</td>\n",
       "      <td>secondary outcome measures included the wester...</td>\n",
       "      <td>4</td>\n",
       "      <td>11</td>\n",
       "    </tr>\n",
       "    <tr>\n",
       "      <th>5</th>\n",
       "      <td>METHODS</td>\n",
       "      <td>serum levels of interleukin @ ( il-@ ) , il-@ ...</td>\n",
       "      <td>5</td>\n",
       "      <td>11</td>\n",
       "    </tr>\n",
       "    <tr>\n",
       "      <th>6</th>\n",
       "      <td>RESULTS</td>\n",
       "      <td>there was a clinically relevant reduction in t...</td>\n",
       "      <td>6</td>\n",
       "      <td>11</td>\n",
       "    </tr>\n",
       "    <tr>\n",
       "      <th>7</th>\n",
       "      <td>RESULTS</td>\n",
       "      <td>the mean difference between treatment arms ( @...</td>\n",
       "      <td>7</td>\n",
       "      <td>11</td>\n",
       "    </tr>\n",
       "    <tr>\n",
       "      <th>8</th>\n",
       "      <td>RESULTS</td>\n",
       "      <td>further , there was a clinically relevant redu...</td>\n",
       "      <td>8</td>\n",
       "      <td>11</td>\n",
       "    </tr>\n",
       "    <tr>\n",
       "      <th>9</th>\n",
       "      <td>RESULTS</td>\n",
       "      <td>these differences remained significant at @ we...</td>\n",
       "      <td>9</td>\n",
       "      <td>11</td>\n",
       "    </tr>\n",
       "    <tr>\n",
       "      <th>10</th>\n",
       "      <td>RESULTS</td>\n",
       "      <td>the outcome measures in rheumatology clinical ...</td>\n",
       "      <td>10</td>\n",
       "      <td>11</td>\n",
       "    </tr>\n",
       "    <tr>\n",
       "      <th>11</th>\n",
       "      <td>CONCLUSIONS</td>\n",
       "      <td>low-dose oral prednisolone had both a short-te...</td>\n",
       "      <td>11</td>\n",
       "      <td>11</td>\n",
       "    </tr>\n",
       "    <tr>\n",
       "      <th>12</th>\n",
       "      <td>BACKGROUND</td>\n",
       "      <td>emotional eating is associated with overeating...</td>\n",
       "      <td>0</td>\n",
       "      <td>10</td>\n",
       "    </tr>\n",
       "    <tr>\n",
       "      <th>13</th>\n",
       "      <td>BACKGROUND</td>\n",
       "      <td>yet , empirical evidence for individual ( trai...</td>\n",
       "      <td>1</td>\n",
       "      <td>10</td>\n",
       "    </tr>\n",
       "  </tbody>\n",
       "</table>\n",
       "</div>"
      ],
      "text/plain": [
       "         target                                               text  \\\n",
       "0     OBJECTIVE  to investigate the efficacy of @ weeks of dail...   \n",
       "1       METHODS  a total of @ patients with primary knee oa wer...   \n",
       "2       METHODS  outcome measures included pain reduction and i...   \n",
       "3       METHODS  pain was assessed using the visual analog pain...   \n",
       "4       METHODS  secondary outcome measures included the wester...   \n",
       "5       METHODS  serum levels of interleukin @ ( il-@ ) , il-@ ...   \n",
       "6       RESULTS  there was a clinically relevant reduction in t...   \n",
       "7       RESULTS  the mean difference between treatment arms ( @...   \n",
       "8       RESULTS  further , there was a clinically relevant redu...   \n",
       "9       RESULTS  these differences remained significant at @ we...   \n",
       "10      RESULTS  the outcome measures in rheumatology clinical ...   \n",
       "11  CONCLUSIONS  low-dose oral prednisolone had both a short-te...   \n",
       "12   BACKGROUND  emotional eating is associated with overeating...   \n",
       "13   BACKGROUND  yet , empirical evidence for individual ( trai...   \n",
       "\n",
       "    line_number  total_lines  \n",
       "0             0           11  \n",
       "1             1           11  \n",
       "2             2           11  \n",
       "3             3           11  \n",
       "4             4           11  \n",
       "5             5           11  \n",
       "6             6           11  \n",
       "7             7           11  \n",
       "8             8           11  \n",
       "9             9           11  \n",
       "10           10           11  \n",
       "11           11           11  \n",
       "12            0           10  \n",
       "13            1           10  "
      ]
     },
     "execution_count": 12,
     "metadata": {},
     "output_type": "execute_result"
    }
   ],
   "source": [
    "import pandas as pd\n",
    "train_df = pd.DataFrame(train_samples)\n",
    "val_df = pd.DataFrame(val_samples)\n",
    "test_df = pd.DataFrame(test_samples)\n",
    "train_df.head(14)"
   ]
  },
  {
   "cell_type": "markdown",
   "id": "66ac7de5",
   "metadata": {},
   "source": [
    "Now our data is in DataFrame form, we can perform some data analysis on it."
   ]
  },
  {
   "cell_type": "code",
   "execution_count": 13,
   "id": "7e4a3a9b",
   "metadata": {},
   "outputs": [
    {
     "data": {
      "text/plain": [
       "METHODS        59353\n",
       "RESULTS        57953\n",
       "CONCLUSIONS    27168\n",
       "BACKGROUND     21727\n",
       "OBJECTIVE      13839\n",
       "Name: target, dtype: int64"
      ]
     },
     "execution_count": 13,
     "metadata": {},
     "output_type": "execute_result"
    }
   ],
   "source": [
    "# Distribution of labels in training data\n",
    "train_df.target.value_counts()"
   ]
  },
  {
   "cell_type": "markdown",
   "id": "185f9a1b",
   "metadata": {},
   "source": [
    "Looks like sentences with the OBJECTIVE label are the least common.\n",
    "\n",
    "How about we check the distribution of our abstract lengths?"
   ]
  },
  {
   "cell_type": "code",
   "execution_count": 14,
   "id": "b81fd161",
   "metadata": {},
   "outputs": [
    {
     "data": {
      "image/png": "[encoded data removed]",
      "text/plain": [
       "<Figure size 640x480 with 1 Axes>"
      ]
     },
     "metadata": {},
     "output_type": "display_data"
    }
   ],
   "source": [
    "train_df.total_lines.plot.hist();"
   ]
  },
  {
   "cell_type": "markdown",
   "id": "abd61581",
   "metadata": {},
   "source": [
    "Okay, looks like most of the abstracts are around 7 to 15 sentences in length.\n",
    "\n",
    "It's good to check these things out to make sure when we do train a model or test it on unseen samples, our results aren't outlandish.\n",
    "\n",
    "## Get lists of sentences\n",
    "\n",
    "When we build our deep learning model, one of its main inputs will be a list of strings (the lines of an abstract).\n",
    "\n",
    "We can get these easily from our DataFrames by calling the `tolist()` method on our \"`text`\" columns."
   ]
  },
  {
   "cell_type": "code",
   "execution_count": 16,
   "id": "08f8099e",
   "metadata": {},
   "outputs": [
    {
     "data": {
      "text/plain": [
       "(180040, 30212, 30135)"
      ]
     },
     "execution_count": 16,
     "metadata": {},
     "output_type": "execute_result"
    }
   ],
   "source": [
    "# Convert abstract text lines into lists \n",
    "train_sentences = train_df[\"text\"].tolist()\n",
    "val_sentences = val_df[\"text\"].tolist()\n",
    "test_sentences = test_df[\"text\"].tolist()\n",
    "len(train_sentences), len(val_sentences), len(test_sentences)"
   ]
  },
  {
   "cell_type": "code",
   "execution_count": 17,
   "id": "474ccc53",
   "metadata": {},
   "outputs": [
    {
     "data": {
      "text/plain": [
       "['to investigate the efficacy of @ weeks of daily low-dose oral prednisolone in improving pain , mobility , and systemic low-grade inflammation in the short term and whether the effect would be sustained at @ weeks in older adults with moderate to severe knee osteoarthritis ( oa ) .',\n",
       " 'a total of @ patients with primary knee oa were randomized @:@ ; @ received @ mg/day of prednisolone and @ received placebo for @ weeks .',\n",
       " 'outcome measures included pain reduction and improvement in function scores and systemic inflammation markers .',\n",
       " 'pain was assessed using the visual analog pain scale ( @-@ mm ) .',\n",
       " 'secondary outcome measures included the western ontario and mcmaster universities osteoarthritis index scores , patient global assessment ( pga ) of the severity of knee oa , and @-min walk distance ( @mwd ) .',\n",
       " 'serum levels of interleukin @ ( il-@ ) , il-@ , tumor necrosis factor ( tnf ) - , and high-sensitivity c-reactive protein ( hscrp ) were measured .',\n",
       " 'there was a clinically relevant reduction in the intervention group compared to the placebo group for knee pain , physical function , pga , and @mwd at @ weeks .',\n",
       " 'the mean difference between treatment arms ( @ % ci ) was @ ( @-@ @ ) , p < @ ; @ ( @-@ @ ) , p < @ ; @ ( @-@ @ ) , p < @ ; and @ ( @-@ @ ) , p < @ , respectively .',\n",
       " 'further , there was a clinically relevant reduction in the serum levels of il-@ , il-@ , tnf - , and hscrp at @ weeks in the intervention group when compared to the placebo group .',\n",
       " 'these differences remained significant at @ weeks .']"
      ]
     },
     "execution_count": 17,
     "metadata": {},
     "output_type": "execute_result"
    }
   ],
   "source": [
    "# View first 10 lines of training sentences\n",
    "train_sentences[:10]"
   ]
  },
  {
   "cell_type": "markdown",
   "id": "c400c6b5",
   "metadata": {},
   "source": [
    "Alright, we've separated our text samples. As you might've guessed, we'll have to write code to convert the text to numbers before we can use it with our machine learning models, we'll get to this soon."
   ]
  },
  {
   "cell_type": "markdown",
   "id": "24023c21",
   "metadata": {},
   "source": [
    "## Make numeric labels (ML models require numeric labels)\n",
    "\n",
    "We're going to create one hot and label encoded labels.\n",
    "\n",
    "We could get away with just making label encoded labels, however, TensorFlow's `CategoricalCrossentropy` loss function likes to have one hot encoded labels (this will enable us to use label smoothing later on).\n",
    "\n",
    "To numerically encode labels we'll use Scikit-Learn's `OneHotEncoder` and `LabelEncoder` classes."
   ]
  },
  {
   "cell_type": "markdown",
   "id": "ad043b50",
   "metadata": {},
   "source": [
    "## One hot encode labels"
   ]
  },
  {
   "cell_type": "code",
   "execution_count": 18,
   "id": "daadb48f",
   "metadata": {},
   "outputs": [
    {
     "data": {
      "text/plain": [
       "array([[0., 0., 0., 1., 0.],\n",
       "       [0., 0., 1., 0., 0.],\n",
       "       [0., 0., 1., 0., 0.],\n",
       "       ...,\n",
       "       [0., 0., 0., 0., 1.],\n",
       "       [0., 1., 0., 0., 0.],\n",
       "       [0., 1., 0., 0., 0.]])"
      ]
     },
     "execution_count": 18,
     "metadata": {},
     "output_type": "execute_result"
    }
   ],
   "source": [
    "# One hot encode labels\n",
    "from sklearn.preprocessing import OneHotEncoder\n",
    "one_hot_encoder = OneHotEncoder(sparse=False)\n",
    "train_labels_one_hot = one_hot_encoder.fit_transform(train_df[\"target\"].to_numpy().reshape(-1, 1))\n",
    "val_labels_one_hot = one_hot_encoder.transform(val_df[\"target\"].to_numpy().reshape(-1, 1))\n",
    "test_labels_one_hot = one_hot_encoder.transform(test_df[\"target\"].to_numpy().reshape(-1, 1))\n",
    "\n",
    "# Check what training labels look like\n",
    "train_labels_one_hot"
   ]
  },
  {
   "cell_type": "markdown",
   "id": "378fe30e",
   "metadata": {},
   "source": [
    "## Label encode labels"
   ]
  },
  {
   "cell_type": "code",
   "execution_count": 19,
   "id": "c035a021",
   "metadata": {},
   "outputs": [
    {
     "data": {
      "text/plain": [
       "array([3, 2, 2, ..., 4, 1, 1])"
      ]
     },
     "execution_count": 19,
     "metadata": {},
     "output_type": "execute_result"
    }
   ],
   "source": [
    "# Extract labels (\"target\" columns) and encode them into integers \n",
    "from sklearn.preprocessing import LabelEncoder\n",
    "label_encoder = LabelEncoder()\n",
    "train_labels_encoded = label_encoder.fit_transform(train_df[\"target\"].to_numpy())\n",
    "val_labels_encoded = label_encoder.transform(val_df[\"target\"].to_numpy())\n",
    "test_labels_encoded = label_encoder.transform(test_df[\"target\"].to_numpy())\n",
    "\n",
    "# Check what training labels look like\n",
    "train_labels_encoded"
   ]
  },
  {
   "cell_type": "markdown",
   "id": "920e2a7a",
   "metadata": {},
   "source": [
    "Now we've trained an instance of LabelEncoder, we can get the class names and number of classes using the classes_ attribute."
   ]
  },
  {
   "cell_type": "code",
   "execution_count": 20,
   "id": "db7f7965",
   "metadata": {},
   "outputs": [
    {
     "data": {
      "text/plain": [
       "(5,\n",
       " array(['BACKGROUND', 'CONCLUSIONS', 'METHODS', 'OBJECTIVE', 'RESULTS'],\n",
       "       dtype=object))"
      ]
     },
     "execution_count": 20,
     "metadata": {},
     "output_type": "execute_result"
    }
   ],
   "source": [
    "# Get class names and number of classes from LabelEncoder instance \n",
    "num_classes = len(label_encoder.classes_)\n",
    "class_names = label_encoder.classes_\n",
    "num_classes, class_names"
   ]
  },
  {
   "cell_type": "markdown",
   "id": "10ccff9d",
   "metadata": {},
   "source": [
    "## Creating a series of model experiments\n",
    "\n",
    "We've proprocessed our data so now, in true machine learning fashion, it's time to setup a series of modelling experiments.\n",
    "\n",
    "We'll start by creating a simple baseline model to obtain a score we'll try to beat by building more and more complex models as we move towards replicating the sequence model outlined in [Neural networks for joint sentence classification in medical paper abstracts](https://arxiv.org/pdf/1612.05251.pdf).\n",
    "\n",
    "For each model, we'll train it on the training data and evaluate it on the validation data."
   ]
  },
  {
   "cell_type": "markdown",
   "id": "4b448f2a",
   "metadata": {},
   "source": [
    "## Model 0: Getting a baseline\n",
    "\n",
    "Our first model we'll be a TF-IDF Multinomial Naive Bayes as recommended by [Scikit-Learn's machine learning map](https://scikit-learn.org/stable/tutorial/machine_learning_map/index.html).\n",
    "\n",
    "To build it, we'll create a Scikit-Learn `Pipeline` which uses the `[TfidfVectorizer](https://scikit-learn.org/stable/modules/generated/sklearn.feature_extraction.text.TfidfVectorizer.html)` class to convert our abstract sentences to numbers using the `TF-IDF` (term frequency-inverse document frequecy) algorithm and then learns to classify our sentences using the `MultinomialNB` aglorithm."
   ]
  },
  {
   "cell_type": "code",
   "execution_count": 21,
   "id": "3d2ca7f3",
   "metadata": {},
   "outputs": [],
   "source": [
    "from sklearn.feature_extraction.text import TfidfVectorizer\n",
    "from sklearn.naive_bayes import MultinomialNB\n",
    "from sklearn.pipeline import Pipeline\n",
    "\n",
    "# Create a pipeline\n",
    "model_0 = Pipeline([\n",
    "  (\"tf-idf\", TfidfVectorizer()),\n",
    "  (\"clf\", MultinomialNB())\n",
    "])\n",
    "\n",
    "# Fit the pipeline to the training data\n",
    "model_0.fit(X=train_sentences, \n",
    "            y=train_labels_encoded);"
   ]
  },
  {
   "cell_type": "markdown",
   "id": "3bca4a17",
   "metadata": {},
   "source": [
    "Due to the speed of the Multinomial Naive Bayes algorithm, it trains very quickly.\n",
    "\n",
    "We can evaluate our model's accuracy on the validation dataset using the `score()` method."
   ]
  },
  {
   "cell_type": "code",
   "execution_count": 22,
   "id": "f9e38a62",
   "metadata": {},
   "outputs": [
    {
     "data": {
      "text/plain": [
       "0.7218323844829869"
      ]
     },
     "execution_count": 22,
     "metadata": {},
     "output_type": "execute_result"
    }
   ],
   "source": [
    "# Evaluate baseline on validation dataset\n",
    "model_0.score(X=val_sentences,\n",
    "              y=val_labels_encoded)"
   ]
  },
  {
   "cell_type": "markdown",
   "id": "041394b7",
   "metadata": {},
   "source": [
    "Nice! Looks like 72.1% accuracy will be the number to beat with our deeper models.\n",
    "\n",
    "Now let's make some predictions with our baseline model to further evaluate it."
   ]
  },
  {
   "cell_type": "code",
   "execution_count": 23,
   "id": "ea11c764",
   "metadata": {},
   "outputs": [
    {
     "data": {
      "text/plain": [
       "array([4, 1, 3, ..., 4, 4, 1])"
      ]
     },
     "execution_count": 23,
     "metadata": {},
     "output_type": "execute_result"
    }
   ],
   "source": [
    "# Make predictions\n",
    "baseline_preds = model_0.predict(val_sentences)\n",
    "baseline_preds"
   ]
  },
  {
   "cell_type": "markdown",
   "id": "d8ce7865",
   "metadata": {},
   "source": [
    "To evaluate our baseline's predictions, we'll import the `calculate_results()` function we created in the previous notebook and added it to our `helper_functions.py` script to compare them to the ground truth labels.\n",
    "\n",
    "More specificially the `calculate_results()` function will help us obtain the following:\n",
    "\n",
    "* Accuracy\n",
    "* Precision\n",
    "* Recall\n",
    "* F1-score"
   ]
  },
  {
   "cell_type": "markdown",
   "id": "015cfb75",
   "metadata": {},
   "source": [
    "## Download helper functions script\n",
    "\n",
    "Let's get our `helper_functions.py` script we've been using to store helper functions we've created in previous notebooks."
   ]
  },
  {
   "cell_type": "code",
   "execution_count": 24,
   "id": "2138a9dd",
   "metadata": {},
   "outputs": [
    {
     "name": "stdout",
     "output_type": "stream",
     "text": [
      "--2022-12-15 22:36:05--  https://raw.githubusercontent.com/mrdbourke/tensorflow-deep-learning/main/extras/helper_functions.py\n",
      "Resolving raw.githubusercontent.com (raw.githubusercontent.com)... 185.199.108.133, 185.199.110.133, 185.199.111.133, ...\n",
      "Connecting to raw.githubusercontent.com (raw.githubusercontent.com)|185.199.108.133|:443... connected.\n",
      "HTTP request sent, awaiting response... 200 OK\n",
      "Length: 10246 (10K) [text/plain]\n",
      "Saving to: ‘helper_functions.py.3’\n",
      "\n",
      "helper_functions.py 100%[===================>]  10.01K  --.-KB/s    in 0s      \n",
      "\n",
      "2022-12-15 22:36:05 (21.6 MB/s) - ‘helper_functions.py.3’ saved [10246/10246]\n",
      "\n"
     ]
    }
   ],
   "source": [
    "# Download helper functions script\n",
    "!wget https://raw.githubusercontent.com/mrdbourke/tensorflow-deep-learning/main/extras/helper_functions.py"
   ]
  },
  {
   "cell_type": "markdown",
   "id": "505e8fa2",
   "metadata": {},
   "source": [
    "Now we've got the helper functions script we can import the `caculate_results()` function and see how our baseline model went."
   ]
  },
  {
   "cell_type": "code",
   "execution_count": 25,
   "id": "3692c70b",
   "metadata": {},
   "outputs": [
    {
     "name": "stdout",
     "output_type": "stream",
     "text": [
      "Init Plugin\n",
      "Init Graph Optimizer\n",
      "Init Kernel\n"
     ]
    }
   ],
   "source": [
    "# Import calculate_results helper function\n",
    "from helper_functions import calculate_results"
   ]
  },
  {
   "cell_type": "code",
   "execution_count": 26,
   "id": "a0851f22",
   "metadata": {},
   "outputs": [
    {
     "data": {
      "text/plain": [
       "{'accuracy': 72.1832384482987,\n",
       " 'precision': 0.7186466952323352,\n",
       " 'recall': 0.7218323844829869,\n",
       " 'f1': 0.6989250353450294}"
      ]
     },
     "execution_count": 26,
     "metadata": {},
     "output_type": "execute_result"
    }
   ],
   "source": [
    "# Calculate baseline results\n",
    "baseline_results = calculate_results(y_true=val_labels_encoded,\n",
    "                                     y_pred=baseline_preds)\n",
    "baseline_results\n",
    "     "
   ]
  },
  {
   "cell_type": "markdown",
   "id": "5255dcd4",
   "metadata": {},
   "source": [
    "## Preparing our data for deep sequence models\n",
    "\n",
    "Excellent! We've got a working baseline to try and improve upon.\n",
    "\n",
    "But before we start building deeper models, we've got to create vectorization and embedding layers.\n",
    "\n",
    "The **vectorization layer** will convert our text to numbers and the **embedding layer** will capture the relationships between those numbers.\n",
    "\n",
    "To start creating our vectorization and embedding layers, we'll need to import the appropriate libraries (namely TensorFlow and NumPy)."
   ]
  },
  {
   "cell_type": "code",
   "execution_count": 27,
   "id": "0d85e7ff",
   "metadata": {},
   "outputs": [],
   "source": [
    "import numpy as np\n",
    "import tensorflow as tf\n",
    "from tensorflow.keras import layers"
   ]
  },
  {
   "cell_type": "markdown",
   "id": "142a0d36",
   "metadata": {},
   "source": [
    "Since we'll be turning our sentences into numbers, it's a good idea to figure out how many words are in each sentence.\n",
    "\n",
    "When our model goes through our sentences, it works best when they're all the same length (this is important for creating batches of the same size tensors).\n",
    "\n",
    "For example, if one sentence is eight words long and another is 29 words long, we want to pad the eight word sentence with zeros so it ends up being the same length as the 29 word sentence.\n",
    "\n",
    "Let's write some code to find the average length of sentences in the training set."
   ]
  },
  {
   "cell_type": "code",
   "execution_count": 28,
   "id": "dd5a85e3",
   "metadata": {},
   "outputs": [
    {
     "data": {
      "text/plain": [
       "26.338269273494777"
      ]
     },
     "execution_count": 28,
     "metadata": {},
     "output_type": "execute_result"
    }
   ],
   "source": [
    "# How long is each sentence on average?\n",
    "sent_lens = [len(sentence.split()) for sentence in train_sentences]\n",
    "avg_sent_len = np.mean(sent_lens)\n",
    "avg_sent_len # return average sentence length (in tokens)"
   ]
  },
  {
   "cell_type": "markdown",
   "id": "76180f88",
   "metadata": {},
   "source": [
    "How about the distribution of sentence lengths?"
   ]
  },
  {
   "cell_type": "code",
   "execution_count": 29,
   "id": "298fbb63",
   "metadata": {},
   "outputs": [
    {
     "data": {
      "image/png": "[encoded data removed]",
      "text/plain": [
       "<Figure size 640x480 with 1 Axes>"
      ]
     },
     "metadata": {},
     "output_type": "display_data"
    }
   ],
   "source": [
    "# What's the distribution look like?\n",
    "import matplotlib.pyplot as plt\n",
    "plt.hist(sent_lens, bins=7);"
   ]
  },
  {
   "cell_type": "markdown",
   "id": "c012db57",
   "metadata": {},
   "source": [
    "Looks like the vast majority of sentences are between 0 and 50 tokens in length.\n",
    "\n",
    "We can use NumPy's percentile to find the value which covers 95% of the sentence lengths."
   ]
  },
  {
   "cell_type": "code",
   "execution_count": 30,
   "id": "036f3d59",
   "metadata": {},
   "outputs": [
    {
     "data": {
      "text/plain": [
       "55"
      ]
     },
     "execution_count": 30,
     "metadata": {},
     "output_type": "execute_result"
    }
   ],
   "source": [
    "# How long of a sentence covers 95% of the lengths?\n",
    "output_seq_len = int(np.percentile(sent_lens, 95))\n",
    "output_seq_len"
   ]
  },
  {
   "cell_type": "code",
   "execution_count": 31,
   "id": "e80f29e1",
   "metadata": {},
   "outputs": [
    {
     "data": {
      "text/plain": [
       "296"
      ]
     },
     "execution_count": 31,
     "metadata": {},
     "output_type": "execute_result"
    }
   ],
   "source": [
    "# Maximum sentence length in the training set\n",
    "max(sent_lens)"
   ]
  },
  {
   "cell_type": "markdown",
   "id": "ed1a1c97",
   "metadata": {},
   "source": [
    "Wonderful! It looks like 95% of the sentences in our training set have a length of 55 tokens or less.\n",
    "\n",
    "When we create our tokenization layer, we'll use this value to turn all of our sentences into the same length. Meaning sentences with a length below 55 get padded with zeros and sentences with a length above 55 get truncated (words after 55 get cut off).\n",
    "\n",
    "🤔 Question: Why 95%?\n",
    "\n",
    "We could use the max sentence length of the sentences in the training set."
   ]
  },
  {
   "cell_type": "markdown",
   "id": "9f7fed7e",
   "metadata": {},
   "source": [
    "However, since hardly any sentences even come close to the max length, it would mean the majority of the data we pass to our model would be zeros (sinces all sentences below the max length would get padded with zeros).\n",
    "\n",
    "🔑 Note: The steps we've gone through are good practice when working with a text corpus for a NLP problem. You want to know how long your samples are and what the distribution of them is. See section 4 Data Analysis of the [PubMed 200k RCT paper for further examples](https://arxiv.org/pdf/1710.06071.pdf)."
   ]
  },
  {
   "cell_type": "markdown",
   "id": "3bcb9be8",
   "metadata": {},
   "source": [
    "## Create text vectorizer\n",
    "\n",
    "Now we've got a little more information about our texts, let's create a way to turn it into numbers.\n",
    "\n",
    "To do so, we'll use the `TextVectorization` layer from TensorFlow.\n",
    "\n",
    "We'll keep all the parameters default except for `max_tokens` (the number of unique words in our dataset) and `output_sequence_length` (our desired output length for each vectorized sentence).\n",
    "\n",
    "Section 3.2 of the [PubMed 200k RCT paper](https://arxiv.org/pdf/1710.06071.pdf) states the vocabulary size of the PubMed 20k dataset as `68,000`. So we'll use that as our `max_tokens` parameter."
   ]
  },
  {
   "cell_type": "code",
   "execution_count": 32,
   "id": "a470958c",
   "metadata": {},
   "outputs": [],
   "source": [
    "# How many words are in our vocabulary? (taken from 3.2 in https://arxiv.org/pdf/1710.06071.pdf)\n",
    "max_tokens = 68000"
   ]
  },
  {
   "cell_type": "markdown",
   "id": "bc2ba3ae",
   "metadata": {},
   "source": [
    "And since discovered a sentence length of 55 covers 95% of the training sentences, we'll use that as our `output_sequence_length` parameter."
   ]
  },
  {
   "cell_type": "code",
   "execution_count": 33,
   "id": "4dbabfce",
   "metadata": {},
   "outputs": [
    {
     "name": "stdout",
     "output_type": "stream",
     "text": [
      "Metal device set to: Apple M1\n"
     ]
    },
    {
     "name": "stderr",
     "output_type": "stream",
     "text": [
      "2022-12-15 22:57:13.277686: I tensorflow/core/common_runtime/pluggable_device/pluggable_device_factory.cc:305] Could not identify NUMA node of platform GPU ID 0, defaulting to 0. Your kernel may not have been built with NUMA support.\n",
      "2022-12-15 22:57:13.277931: I tensorflow/core/common_runtime/pluggable_device/pluggable_device_factory.cc:271] Created TensorFlow device (/job:localhost/replica:0/task:0/device:GPU:0 with 0 MB memory) -> physical PluggableDevice (device: 0, name: METAL, pci bus id: <undefined>)\n"
     ]
    }
   ],
   "source": [
    "# Create text vectorizer\n",
    "from tensorflow.keras.layers.experimental.preprocessing import TextVectorization\n",
    "\n",
    "text_vectorizer = TextVectorization(max_tokens=max_tokens, # number of words in vocabulary\n",
    "                                    output_sequence_length=55) # desired output length of vectorized sequences"
   ]
  },
  {
   "cell_type": "markdown",
   "id": "fa2b5c5b",
   "metadata": {},
   "source": [
    "Great! Looks like our `text_vectorizer` is ready, let's adapt it to the training data (let it read the training data and figure out what number should represent what word) and then test it out."
   ]
  },
  {
   "cell_type": "code",
   "execution_count": 34,
   "id": "17279521",
   "metadata": {},
   "outputs": [],
   "source": [
    "# Adapt text vectorizer to training sentences\n",
    "text_vectorizer.adapt(train_sentences)"
   ]
  },
  {
   "cell_type": "code",
   "execution_count": 35,
   "id": "d5abb4fe",
   "metadata": {},
   "outputs": [
    {
     "name": "stdout",
     "output_type": "stream",
     "text": [
      "Text:\n",
      "two hundred and nine patients were evaluated .\n",
      "\n",
      "Length of text: 8\n",
      "\n",
      "Vectorized text:\n",
      "[[  51  547    3 1243   12    9  184    0    0    0    0    0    0    0\n",
      "     0    0    0    0    0    0    0    0    0    0    0    0    0    0\n",
      "     0    0    0    0    0    0    0    0    0    0    0    0    0    0\n",
      "     0    0    0    0    0    0    0    0    0    0    0    0    0]]\n"
     ]
    }
   ],
   "source": [
    "# Test out text vectorizer\n",
    "import random\n",
    "target_sentence = random.choice(train_sentences)\n",
    "print(f\"Text:\\n{target_sentence}\")\n",
    "print(f\"\\nLength of text: {len(target_sentence.split())}\")\n",
    "print(f\"\\nVectorized text:\\n{text_vectorizer([target_sentence])}\")"
   ]
  },
  {
   "cell_type": "markdown",
   "id": "a1339ca2",
   "metadata": {},
   "source": [
    "Cool, we've now got a way to turn our sequences into numbers.\n",
    "\n",
    "🛠 **Exercise**: Try running the cell above a dozen or so times. What do you notice about sequences with a length less than 55?\n",
    "\n",
    "Using the `get_vocabulary()` method of our `text_vectorizer` we can find out a few different tidbits about our text."
   ]
  },
  {
   "cell_type": "code",
   "execution_count": 36,
   "id": "e79ab435",
   "metadata": {},
   "outputs": [
    {
     "name": "stdout",
     "output_type": "stream",
     "text": [
      "Number of words in vocabulary: 64841\n",
      "Most common words in the vocabulary: ['', '[UNK]', 'the', 'and', 'of']\n",
      "Least common words in the vocabulary: ['aainduced', 'aaigroup', 'aachener', 'aachen', 'aaacp']\n"
     ]
    }
   ],
   "source": [
    "# How many words in our training vocabulary?\n",
    "rct_20k_text_vocab = text_vectorizer.get_vocabulary()\n",
    "print(f\"Number of words in vocabulary: {len(rct_20k_text_vocab)}\"), \n",
    "print(f\"Most common words in the vocabulary: {rct_20k_text_vocab[:5]}\")\n",
    "print(f\"Least common words in the vocabulary: {rct_20k_text_vocab[-5:]}\")"
   ]
  },
  {
   "cell_type": "markdown",
   "id": "997c356a",
   "metadata": {},
   "source": [
    "And if we wanted to figure out the configuration of our `text_vectorizer` we can use the `get_config()` method."
   ]
  },
  {
   "cell_type": "code",
   "execution_count": 37,
   "id": "d4a0491c",
   "metadata": {},
   "outputs": [
    {
     "data": {
      "text/plain": [
       "{'name': 'text_vectorization',\n",
       " 'trainable': True,\n",
       " 'dtype': 'string',\n",
       " 'max_tokens': 68000,\n",
       " 'standardize': 'lower_and_strip_punctuation',\n",
       " 'split': 'whitespace',\n",
       " 'ngrams': None,\n",
       " 'output_mode': 'int',\n",
       " 'output_sequence_length': 55,\n",
       " 'pad_to_max_tokens': False,\n",
       " 'vocabulary_size': 64841}"
      ]
     },
     "execution_count": 37,
     "metadata": {},
     "output_type": "execute_result"
    }
   ],
   "source": [
    "# Get the config of our text vectorizer\n",
    "text_vectorizer.get_config()"
   ]
  },
  {
   "cell_type": "markdown",
   "id": "02bcf77e",
   "metadata": {},
   "source": [
    "## Create custom text embedding\n",
    "\n",
    "Our `token_vectorization` layer maps the words in our text directly to numbers. However, this doesn't necessarily capture the relationships between those numbers.\n",
    "\n",
    "To create a richer numerical representation of our text, we can use an `embedding`.\n",
    "\n",
    "As our model learns (by going through many different examples of abstract sentences and their labels), it'll update its embedding to better represent the relationships between tokens in our corpus.\n",
    "\n",
    "We can create a trainable embedding layer using TensorFlow's Embedding layer.\n",
    "\n",
    "Once again, the main parameters we're concerned with here are the inputs and outputs of our Embedding layer.\n",
    "\n",
    "The input_dim parameter defines the size of our vocabulary. And the output_dim parameter defines the dimension of the embedding output.\n",
    "\n",
    "Once created, our `embedding` layer will take the integer outputs of our `text_vectorization` layer as inputs and convert them to feature vectors of size output_dim.\n",
    "\n",
    "Let's see it in action."
   ]
  },
  {
   "cell_type": "code",
   "execution_count": 38,
   "id": "c7b52054",
   "metadata": {},
   "outputs": [
    {
     "name": "stdout",
     "output_type": "stream",
     "text": [
      "Sentence before vectorization:\n",
      "two hundred and nine patients were evaluated .\n",
      "\n",
      "Sentence after vectorization (before embedding):\n",
      "[[  51  547    3 1243   12    9  184    0    0    0    0    0    0    0\n",
      "     0    0    0    0    0    0    0    0    0    0    0    0    0    0\n",
      "     0    0    0    0    0    0    0    0    0    0    0    0    0    0\n",
      "     0    0    0    0    0    0    0    0    0    0    0    0    0]]\n",
      "\n",
      "Sentence after embedding:\n",
      "[[[-0.03997909  0.04185642  0.00203661 ...  0.0457278  -0.01067982\n",
      "   -0.01818359]\n",
      "  [-0.01120446 -0.02034055 -0.03841934 ...  0.02133912  0.03565061\n",
      "    0.02013201]\n",
      "  [-0.04088249  0.00112425  0.02176894 ... -0.04040148  0.00594852\n",
      "   -0.02667168]\n",
      "  ...\n",
      "  [-0.00693815  0.04488225 -0.01036189 ...  0.00044421 -0.00593312\n",
      "    0.03339397]\n",
      "  [-0.00693815  0.04488225 -0.01036189 ...  0.00044421 -0.00593312\n",
      "    0.03339397]\n",
      "  [-0.00693815  0.04488225 -0.01036189 ...  0.00044421 -0.00593312\n",
      "    0.03339397]]]\n",
      "\n",
      "Embedded sentence shape: (1, 55, 128)\n"
     ]
    }
   ],
   "source": [
    "# Create token embedding layer\n",
    "token_embed = layers.Embedding(input_dim=len(rct_20k_text_vocab), # length of vocabulary\n",
    "                               output_dim=128, # Note: different embedding sizes result in drastically different numbers of parameters to train\n",
    "                               # Use masking to handle variable sequence lengths (save space)\n",
    "                               mask_zero=True,\n",
    "                               name=\"token_embedding\") \n",
    "\n",
    "# Show example embedding\n",
    "print(f\"Sentence before vectorization:\\n{target_sentence}\\n\")\n",
    "vectorized_sentence = text_vectorizer([target_sentence])\n",
    "print(f\"Sentence after vectorization (before embedding):\\n{vectorized_sentence}\\n\")\n",
    "embedded_sentence = token_embed(vectorized_sentence)\n",
    "print(f\"Sentence after embedding:\\n{embedded_sentence}\\n\")\n",
    "print(f\"Embedded sentence shape: {embedded_sentence.shape}\")"
   ]
  },
  {
   "cell_type": "markdown",
   "id": "0b041aea",
   "metadata": {},
   "source": [
    "## Create datasets (as fast as possible)\n",
    "\n",
    "We've gone through all the trouble of preprocessing our datasets to be used with a machine learning model, however, there are still a few steps we can use to make them work faster with our models.\n",
    "\n",
    "Namely, the `tf.data` API provides methods which enable faster data loading.\n",
    "\n",
    "📖 Resource: For best practices on data loading in TensorFlow, check out the following:\n",
    "\n",
    "* [`tf.data`: Build TensorFlow input pipelines](https://www.tensorflow.org/guide/data)\n",
    "* [Better performance with the `tf.data` API](https://www.tensorflow.org/guide/data_performance)\n",
    "The main steps we'll want to use with our data is to turn it into a PrefetchDataset of batches.\n",
    "\n",
    "Doing so we'll ensure TensorFlow loads our data onto the GPU as fast as possible, in turn leading to faster training time.\n",
    "\n",
    "To create a batched `Prefetch` Dataset we can use the methods `batch()` and `prefetch()`, the parameter `tf.data.AUTOTUNE` will also allow TensorFlow to determine the optimal amount of compute to use to prepare datasets."
   ]
  },
  {
   "cell_type": "code",
   "execution_count": 39,
   "id": "92a2ca04",
   "metadata": {},
   "outputs": [
    {
     "data": {
      "text/plain": [
       "<TensorSliceDataset shapes: ((), (5,)), types: (tf.string, tf.float64)>"
      ]
     },
     "execution_count": 39,
     "metadata": {},
     "output_type": "execute_result"
    }
   ],
   "source": [
    "# Turn our data into TensorFlow Datasets\n",
    "train_dataset = tf.data.Dataset.from_tensor_slices((train_sentences, train_labels_one_hot))\n",
    "valid_dataset = tf.data.Dataset.from_tensor_slices((val_sentences, val_labels_one_hot))\n",
    "test_dataset = tf.data.Dataset.from_tensor_slices((test_sentences, test_labels_one_hot))\n",
    "\n",
    "train_dataset"
   ]
  },
  {
   "cell_type": "code",
   "execution_count": 40,
   "id": "c297f1d0",
   "metadata": {},
   "outputs": [
    {
     "data": {
      "text/plain": [
       "<PrefetchDataset shapes: ((None,), (None, 5)), types: (tf.string, tf.float64)>"
      ]
     },
     "execution_count": 40,
     "metadata": {},
     "output_type": "execute_result"
    }
   ],
   "source": [
    "# Take the TensorSliceDataset's and turn them into prefetched batches\n",
    "train_dataset = train_dataset.batch(32).prefetch(tf.data.AUTOTUNE)\n",
    "valid_dataset = valid_dataset.batch(32).prefetch(tf.data.AUTOTUNE)\n",
    "test_dataset = test_dataset.batch(32).prefetch(tf.data.AUTOTUNE)\n",
    "\n",
    "train_dataset\n",
    "     "
   ]
  },
  {
   "cell_type": "markdown",
   "id": "5f5a80cc",
   "metadata": {},
   "source": [
    "## Model 1: Conv1D with token embeddings\n",
    "\n",
    "Alright, we've now got a way to numerically represent our text and labels, time to build a series of deep models to try and improve upon our baseline.\n",
    "\n",
    "All of our deep models will follow a similar structure:\n",
    "```\n",
    "Input (text) -> Tokenize -> Embedding -> Layers -> Output (label probability)\n",
    "```\n",
    "The main component we'll be changing throughout is the Layers component. Because any modern deep NLP model requires text to be converted into an embedding before meaningful patterns can be discovered within.\n",
    "\n",
    "The first model we're going to build is a 1-dimensional Convolutional Neural Network.\n",
    "\n",
    "We're also going to be following the standard machine learning workflow of:\n",
    "\n",
    "* Build model\n",
    "* Train model\n",
    "* Evaluate model (make predictions and compare to ground truth)"
   ]
  },
  {
   "cell_type": "code",
   "execution_count": 41,
   "id": "177d9485",
   "metadata": {},
   "outputs": [],
   "source": [
    "# Create 1D convolutional model to process sequences\n",
    "inputs = layers.Input(shape=(1,), dtype=tf.string)\n",
    "text_vectors = text_vectorizer(inputs) # vectorize text inputs\n",
    "token_embeddings = token_embed(text_vectors) # create embedding\n",
    "x = layers.Conv1D(64, kernel_size=5, padding=\"same\", activation=\"relu\")(token_embeddings)\n",
    "x = layers.GlobalAveragePooling1D()(x) # condense the output of our feature vector\n",
    "outputs = layers.Dense(num_classes, activation=\"softmax\")(x)\n",
    "model_1 = tf.keras.Model(inputs, outputs)\n",
    "\n",
    "# Compile\n",
    "model_1.compile(loss=\"categorical_crossentropy\", # if your labels are integer form (not one hot) use sparse_categorical_crossentropy\n",
    "                optimizer=tf.keras.optimizers.Adam(),\n",
    "                metrics=[\"accuracy\"])\n",
    "     "
   ]
  },
  {
   "cell_type": "code",
   "execution_count": 42,
   "id": "889b28c5",
   "metadata": {},
   "outputs": [
    {
     "name": "stdout",
     "output_type": "stream",
     "text": [
      "Model: \"model\"\n",
      "_________________________________________________________________\n",
      "Layer (type)                 Output Shape              Param #   \n",
      "=================================================================\n",
      "input_1 (InputLayer)         [(None, 1)]               0         \n",
      "_________________________________________________________________\n",
      "text_vectorization (TextVect (None, 55)                0         \n",
      "_________________________________________________________________\n",
      "token_embedding (Embedding)  (None, 55, 128)           8299648   \n",
      "_________________________________________________________________\n",
      "conv1d (Conv1D)              (None, 55, 64)            41024     \n",
      "_________________________________________________________________\n",
      "global_average_pooling1d (Gl (None, 64)                0         \n",
      "_________________________________________________________________\n",
      "dense (Dense)                (None, 5)                 325       \n",
      "=================================================================\n",
      "Total params: 8,340,997\n",
      "Trainable params: 8,340,997\n",
      "Non-trainable params: 0\n",
      "_________________________________________________________________\n"
     ]
    }
   ],
   "source": [
    "# Get summary of Conv1D model\n",
    "model_1.summary()\n",
    "     "
   ]
  },
  {
   "cell_type": "markdown",
   "id": "5371816f",
   "metadata": {},
   "source": [
    "Wonderful! We've got our first deep sequence model built and ready to go.\n",
    "\n",
    "Checking out the model summary, you'll notice the majority of the trainable parameters are within the embedding layer. If we were to increase the size of the embedding (by increasing the output_dim parameter of the Embedding layer), the number of trainable parameters would increase dramatically.\n",
    "\n",
    "It's time to fit our model to the training data but we're going to make a mindful change.\n",
    "\n",
    "Since our training data contains nearly 200,000 sentences, fitting a deep model may take a while even with a GPU. So to keep our experiments swift, we're going to run them on a subset of the training dataset.\n",
    "\n",
    "More specifically, we'll only use the first 10% of batches (about 18,000 samples) of the training set to train on and the first 10% of batches from the validation set to validate on.\n",
    "\n",
    "🔑 Note: It's a standard practice in machine learning to test your models on smaller subsets of data first to make sure they work before scaling them to larger amounts of data. You should aim to run many smaller experiments rather than only a handful of large experiments. And since your time is limited, one of the best ways to run smaller experiments is to reduce the amount of data you're working with (10% of the full dataset is usually a good amount, as long as it covers a similar distribution)."
   ]
  },
  {
   "cell_type": "code",
   "execution_count": 43,
   "id": "4e06b1ea",
   "metadata": {},
   "outputs": [
    {
     "name": "stdout",
     "output_type": "stream",
     "text": [
      "Epoch 1/3\n"
     ]
    },
    {
     "name": "stderr",
     "output_type": "stream",
     "text": [
      "2022-12-15 23:22:02.169322: I tensorflow/compiler/mlir/mlir_graph_optimization_pass.cc:176] None of the MLIR Optimization Passes are enabled (registered 2)\n",
      "2022-12-15 23:22:02.171831: W tensorflow/core/platform/profile_utils/cpu_utils.cc:128] Failed to get CPU frequency: 0 Hz\n",
      "2022-12-15 23:22:02.171932: I tensorflow/core/grappler/optimizers/custom_graph_optimizer_registry.cc:112] Plugin optimizer for device_type GPU is enabled.\n"
     ]
    },
    {
     "name": "stdout",
     "output_type": "stream",
     "text": [
      "562/562 [==============================] - ETA: 0s - loss: 0.9111 - accuracy: 0.6390"
     ]
    },
    {
     "name": "stderr",
     "output_type": "stream",
     "text": [
      "2022-12-15 23:22:23.051476: I tensorflow/core/grappler/optimizers/custom_graph_optimizer_registry.cc:112] Plugin optimizer for device_type GPU is enabled.\n"
     ]
    },
    {
     "name": "stdout",
     "output_type": "stream",
     "text": [
      "562/562 [==============================] - 22s 34ms/step - loss: 0.9111 - accuracy: 0.6390 - val_loss: 0.6844 - val_accuracy: 0.7390\n",
      "Epoch 2/3\n",
      "562/562 [==============================] - 19s 34ms/step - loss: 0.6541 - accuracy: 0.7591 - val_loss: 0.6300 - val_accuracy: 0.7756\n",
      "Epoch 3/3\n",
      "562/562 [==============================] - 18s 33ms/step - loss: 0.6143 - accuracy: 0.7752 - val_loss: 0.5960 - val_accuracy: 0.7822\n"
     ]
    }
   ],
   "source": [
    "# Fit the model\n",
    "model_1_history = model_1.fit(train_dataset,\n",
    "                              steps_per_epoch=int(0.1 * len(train_dataset)), # only fit on 10% of batches for faster training time\n",
    "                              epochs=3,\n",
    "                              validation_data=valid_dataset,\n",
    "                              validation_steps=int(0.1 * len(valid_dataset))) # only validate on 10% of batches"
   ]
  },
  {
   "cell_type": "markdown",
   "id": "7efea721",
   "metadata": {},
   "source": [
    "Brilliant! We've got our first trained deep sequence model, and it didn't take too long (and if we didn't prefetch our batched data, it would've taken longer).\n",
    "\n",
    "Time to make some predictions with our model and then evaluate them."
   ]
  },
  {
   "cell_type": "code",
   "execution_count": 44,
   "id": "79f5348f",
   "metadata": {},
   "outputs": [
    {
     "name": "stdout",
     "output_type": "stream",
     "text": [
      "945/945 [==============================] - 8s 8ms/step - loss: 0.5966 - accuracy: 0.7865\n"
     ]
    },
    {
     "data": {
      "text/plain": [
       "[0.5965991616249084, 0.7864755392074585]"
      ]
     },
     "execution_count": 44,
     "metadata": {},
     "output_type": "execute_result"
    }
   ],
   "source": [
    "# Evaluate on whole validation dataset (we only validated on 10% of batches during training)\n",
    "model_1.evaluate(valid_dataset)\n",
    "     "
   ]
  },
  {
   "cell_type": "code",
   "execution_count": 45,
   "id": "6332415e",
   "metadata": {},
   "outputs": [
    {
     "name": "stderr",
     "output_type": "stream",
     "text": [
      "2022-12-15 23:26:22.640028: I tensorflow/core/grappler/optimizers/custom_graph_optimizer_registry.cc:112] Plugin optimizer for device_type GPU is enabled.\n"
     ]
    },
    {
     "data": {
      "text/plain": [
       "array([[4.4729635e-01, 1.5127605e-01, 6.8105280e-02, 3.1369975e-01,\n",
       "        1.9622661e-02],\n",
       "       [4.3475211e-01, 2.4780974e-01, 1.2998743e-02, 2.9481781e-01,\n",
       "        9.6216574e-03],\n",
       "       [1.3923179e-01, 6.8030031e-03, 1.2150777e-03, 8.5271674e-01,\n",
       "        3.3327706e-05],\n",
       "       ...,\n",
       "       [6.6041280e-06, 6.2519097e-04, 8.1079861e-04, 4.0626396e-06,\n",
       "        9.9855345e-01],\n",
       "       [5.2974448e-02, 4.4482577e-01, 9.6833348e-02, 6.9603510e-02,\n",
       "        3.3576292e-01],\n",
       "       [1.7748125e-01, 6.9520736e-01, 4.8584577e-02, 3.9009683e-02,\n",
       "        3.9717194e-02]], dtype=float32)"
      ]
     },
     "execution_count": 45,
     "metadata": {},
     "output_type": "execute_result"
    }
   ],
   "source": [
    "# Make predictions (our model outputs prediction probabilities for each class)\n",
    "model_1_pred_probs = model_1.predict(valid_dataset)\n",
    "model_1_pred_probs"
   ]
  },
  {
   "cell_type": "code",
   "execution_count": 46,
   "id": "a240d40f",
   "metadata": {},
   "outputs": [
    {
     "data": {
      "text/plain": [
       "<tf.Tensor: shape=(30212,), dtype=int64, numpy=array([0, 0, 3, ..., 4, 1, 1])>"
      ]
     },
     "execution_count": 46,
     "metadata": {},
     "output_type": "execute_result"
    }
   ],
   "source": [
    "# Convert pred probs to classes\n",
    "model_1_preds = tf.argmax(model_1_pred_probs, axis=1)\n",
    "model_1_preds"
   ]
  },
  {
   "cell_type": "code",
   "execution_count": 47,
   "id": "72655e7e",
   "metadata": {},
   "outputs": [
    {
     "data": {
      "text/plain": [
       "{'accuracy': 78.64755726201508,\n",
       " 'precision': 0.7836474989045948,\n",
       " 'recall': 0.7864755726201509,\n",
       " 'f1': 0.7841482281199463}"
      ]
     },
     "execution_count": 47,
     "metadata": {},
     "output_type": "execute_result"
    }
   ],
   "source": [
    "# Calculate model_1 results\n",
    "model_1_results = calculate_results(y_true=val_labels_encoded,\n",
    "                                    y_pred=model_1_preds)\n",
    "model_1_results"
   ]
  },
  {
   "cell_type": "markdown",
   "id": "4340d8b5",
   "metadata": {},
   "source": [
    "## Model 2: Feature extraction with pretrained token embeddings\n",
    "\n",
    "Training our own embeddings took a little while to run, slowing our experiments down.\n",
    "\n",
    "Since we're moving towards replicating the model architecture in *[Neural Networks for Joint Sentence Classification in Medical Paper Abstracts](https://arxiv.org/pdf/1612.05251.pdf)*, it mentions they used a pretrained **[GloVe embedding](https://nlp.stanford.edu/projects/glove/)** as a way to initialise their token embeddings.\n",
    "\n",
    "To emulate this, let's see what results we can get with the *[pretrained Universal Sentence Encoder embeddings from TensorFlow Hub](https://tfhub.dev/google/universal-sentence-encoder/4)*.\n",
    "\n",
    "🔑 Note: We could use GloVe embeddings as per the paper but since we're working with TensorFlow, we'll use what's available from TensorFlow Hub (GloVe embeddings aren't). We'll save using [pretrained GloVe embeddings as an extension(https://keras.io/examples/nlp/pretrained_word_embeddings/).\n",
    "\n",
    "The model structure will look like:\n",
    "```\n",
    "Inputs (string) -> Pretrained embeddings from TensorFlow Hub (Universal Sentence Encoder) -> Layers -> Output (prediction probabilities)\n",
    "```\n",
    "You'll notice the lack of tokenization layer we've used in a previous model. This is because the Universal Sentence Encoder (USE) takes care of tokenization for us.\n",
    "\n",
    "This type of model is called transfer learning, or more specifically, feature extraction transfer learning. In other words, taking the patterns a model has learned elsewhere and applying it to our own problem.\n",
    "\n",
    "![pretrainedEmbeddingRNN.png](Images/pretrainedEmbeddingRNN.png)\n",
    "\n",
    "To download the pretrained USE into a layer we can use in our model, we can use the `hub.KerasLayer` class.\n",
    "\n",
    "We'll keep the pretrained embeddings frozen (by setting `trainable=False`) and add a trainable couple of layers on the top to tailor the model outputs to our own data.\n",
    "\n",
    "🔑 Note: Due to having to download a relatively large model (~916MB), the cell below may take a little while to run."
   ]
  },
  {
   "cell_type": "code",
   "execution_count": 48,
   "id": "dab2f2ff",
   "metadata": {},
   "outputs": [
    {
     "name": "stderr",
     "output_type": "stream",
     "text": [
      "2022-12-15 23:33:12.969599: I tensorflow/core/grappler/optimizers/custom_graph_optimizer_registry.cc:112] Plugin optimizer for device_type GPU is enabled.\n"
     ]
    }
   ],
   "source": [
    "# Download pretrained TensorFlow Hub USE\n",
    "import tensorflow_hub as hub\n",
    "tf_hub_embedding_layer = hub.KerasLayer(\"https://tfhub.dev/google/universal-sentence-encoder/4\",\n",
    "                                        trainable=False,\n",
    "                                        name=\"universal_sentence_encoder\")"
   ]
  },
  {
   "cell_type": "code",
   "execution_count": 49,
   "id": "53b78cf6",
   "metadata": {},
   "outputs": [
    {
     "name": "stdout",
     "output_type": "stream",
     "text": [
      "Random training sentence:\n",
      "the effectiveness of continuous renal replacement therapy ( crrt ) increases when unplanned circuit failure is prevented .\n",
      "\n"
     ]
    },
    {
     "name": "stderr",
     "output_type": "stream",
     "text": [
      "2022-12-15 23:34:02.424387: I tensorflow/core/grappler/optimizers/custom_graph_optimizer_registry.cc:112] Plugin optimizer for device_type GPU is enabled.\n"
     ]
    },
    {
     "name": "stdout",
     "output_type": "stream",
     "text": [
      "Sentence after embedding:\n",
      "[ 0.01255205 -0.07320022 -0.03786165 -0.04768963 -0.05120872 -0.00348439\n",
      "  0.01794211 -0.04842562  0.02517027  0.0752769   0.08635207  0.00118748\n",
      "  0.05646468  0.07890055  0.04089629 -0.02434547 -0.0642289   0.06635302\n",
      " -0.06232311  0.06417616 -0.00880266  0.08135727  0.01497239 -0.03218126\n",
      " -0.00422336 -0.05378653  0.06247002  0.03919819 -0.04706976  0.00788863] (truncated output)...\n",
      "\n",
      "Length of sentence embedding:\n",
      "512\n"
     ]
    }
   ],
   "source": [
    "# Test out the embedding on a random sentence\n",
    "random_training_sentence = random.choice(train_sentences)\n",
    "print(f\"Random training sentence:\\n{random_training_sentence}\\n\")\n",
    "use_embedded_sentence = tf_hub_embedding_layer([random_training_sentence])\n",
    "print(f\"Sentence after embedding:\\n{use_embedded_sentence[0][:30]} (truncated output)...\\n\")\n",
    "print(f\"Length of sentence embedding:\\n{len(use_embedded_sentence[0])}\")\n",
    "     "
   ]
  },
  {
   "cell_type": "markdown",
   "id": "9e82c38d",
   "metadata": {},
   "source": [
    "Nice! As we mentioned before the pretrained USE module from TensorFlow Hub takes care of tokenizing our text for us and outputs a 512 dimensional embedding vector.\n",
    "\n",
    "Let's put together and compile a model using our `tf_hub_embedding_layer`."
   ]
  },
  {
   "cell_type": "markdown",
   "id": "6d5d2c5f",
   "metadata": {},
   "source": [
    "## Building and fitting an NLP feature extraction model from TensorFlow Hub"
   ]
  },
  {
   "cell_type": "code",
   "execution_count": 50,
   "id": "6166e68b",
   "metadata": {},
   "outputs": [],
   "source": [
    "# Define feature extractor model using TF Hub layer\n",
    "inputs = layers.Input(shape=[], dtype=tf.string)\n",
    "pretrained_embedding = tf_hub_embedding_layer(inputs) # tokenize text and create embedding\n",
    "x = layers.Dense(128, activation=\"relu\")(pretrained_embedding) # add a fully connected layer on top of the embedding\n",
    "# Note: you could add more layers here if you wanted to\n",
    "outputs = layers.Dense(5, activation=\"softmax\")(x) # create the output layer\n",
    "model_2 = tf.keras.Model(inputs=inputs,\n",
    "                        outputs=outputs)\n",
    "\n",
    "# Compile the model\n",
    "model_2.compile(loss=\"categorical_crossentropy\",\n",
    "                optimizer=tf.keras.optimizers.Adam(),\n",
    "                metrics=[\"accuracy\"])\n",
    "     "
   ]
  },
  {
   "cell_type": "code",
   "execution_count": 51,
   "id": "ab30c1e1",
   "metadata": {},
   "outputs": [
    {
     "name": "stdout",
     "output_type": "stream",
     "text": [
      "Model: \"model_1\"\n",
      "_________________________________________________________________\n",
      "Layer (type)                 Output Shape              Param #   \n",
      "=================================================================\n",
      "input_2 (InputLayer)         [(None,)]                 0         \n",
      "_________________________________________________________________\n",
      "universal_sentence_encoder ( (None, 512)               256797824 \n",
      "_________________________________________________________________\n",
      "dense_1 (Dense)              (None, 128)               65664     \n",
      "_________________________________________________________________\n",
      "dense_2 (Dense)              (None, 5)                 645       \n",
      "=================================================================\n",
      "Total params: 256,864,133\n",
      "Trainable params: 66,309\n",
      "Non-trainable params: 256,797,824\n",
      "_________________________________________________________________\n"
     ]
    }
   ],
   "source": [
    "# Get a summary of the model\n",
    "model_2.summary()"
   ]
  },
  {
   "cell_type": "code",
   "execution_count": 52,
   "id": "cca794e3",
   "metadata": {},
   "outputs": [
    {
     "name": "stdout",
     "output_type": "stream",
     "text": [
      "Epoch 1/3\n"
     ]
    },
    {
     "name": "stderr",
     "output_type": "stream",
     "text": [
      "2022-12-15 23:36:33.519182: I tensorflow/core/grappler/optimizers/custom_graph_optimizer_registry.cc:112] Plugin optimizer for device_type GPU is enabled.\n"
     ]
    },
    {
     "name": "stdout",
     "output_type": "stream",
     "text": [
      "562/562 [==============================] - ETA: 0s - loss: 0.9159 - accuracy: 0.6488"
     ]
    },
    {
     "name": "stderr",
     "output_type": "stream",
     "text": [
      "2022-12-15 23:37:00.027324: I tensorflow/core/grappler/optimizers/custom_graph_optimizer_registry.cc:112] Plugin optimizer for device_type GPU is enabled.\n"
     ]
    },
    {
     "name": "stdout",
     "output_type": "stream",
     "text": [
      "562/562 [==============================] - 31s 54ms/step - loss: 0.9159 - accuracy: 0.6488 - val_loss: 0.7948 - val_accuracy: 0.6872\n",
      "Epoch 2/3\n",
      "562/562 [==============================] - 31s 56ms/step - loss: 0.7684 - accuracy: 0.7009 - val_loss: 0.7553 - val_accuracy: 0.7048\n",
      "Epoch 3/3\n",
      "562/562 [==============================] - 32s 57ms/step - loss: 0.7514 - accuracy: 0.7112 - val_loss: 0.7395 - val_accuracy: 0.7111\n"
     ]
    },
    {
     "data": {
      "text/plain": [
       "<tensorflow.python.keras.callbacks.History at 0x28a6040d0>"
      ]
     },
     "execution_count": 52,
     "metadata": {},
     "output_type": "execute_result"
    }
   ],
   "source": [
    "# Fit feature extractor model for 3 epochs\n",
    "model_2.fit(train_dataset,\n",
    "            steps_per_epoch=int(0.1 * len(train_dataset)),\n",
    "            epochs=3,\n",
    "            validation_data=valid_dataset,\n",
    "            validation_steps=int(0.1 * len(valid_dataset)))"
   ]
  },
  {
   "cell_type": "code",
   "execution_count": 53,
   "id": "7d27c633",
   "metadata": {},
   "outputs": [
    {
     "name": "stdout",
     "output_type": "stream",
     "text": [
      "945/945 [==============================] - 47s 50ms/step - loss: 0.7413 - accuracy: 0.7135\n"
     ]
    },
    {
     "data": {
      "text/plain": [
       "[0.7412654161453247, 0.713458240032196]"
      ]
     },
     "execution_count": 53,
     "metadata": {},
     "output_type": "execute_result"
    }
   ],
   "source": [
    "# Evaluate on whole validation dataset\n",
    "model_2.evaluate(valid_dataset)"
   ]
  },
  {
   "cell_type": "code",
   "execution_count": 54,
   "id": "b98fc0fb",
   "metadata": {},
   "outputs": [
    {
     "name": "stderr",
     "output_type": "stream",
     "text": [
      "2022-12-15 23:39:04.444658: I tensorflow/core/grappler/optimizers/custom_graph_optimizer_registry.cc:112] Plugin optimizer for device_type GPU is enabled.\n"
     ]
    },
    {
     "data": {
      "text/plain": [
       "array([[4.4610557e-01, 3.2745725e-01, 1.8900800e-03, 2.1776392e-01,\n",
       "        6.7833345e-03],\n",
       "       [3.7086901e-01, 4.7447580e-01, 3.6526092e-03, 1.4821808e-01,\n",
       "        2.7844459e-03],\n",
       "       [2.3939052e-01, 1.5069214e-01, 1.5845330e-02, 5.5495334e-01,\n",
       "        3.9118689e-02],\n",
       "       ...,\n",
       "       [1.8153093e-03, 5.9598894e-03, 5.2267853e-02, 9.1801217e-04,\n",
       "        9.3903899e-01],\n",
       "       [3.9914376e-03, 4.5846920e-02, 1.9287765e-01, 1.5013393e-03,\n",
       "        7.5578266e-01],\n",
       "       [1.8636093e-01, 2.9731777e-01, 4.5610934e-01, 8.0695506e-03,\n",
       "        5.2142452e-02]], dtype=float32)"
      ]
     },
     "execution_count": 54,
     "metadata": {},
     "output_type": "execute_result"
    }
   ],
   "source": [
    "# Make predictions with feature extraction model\n",
    "model_2_pred_probs = model_2.predict(valid_dataset)\n",
    "model_2_pred_probs"
   ]
  },
  {
   "cell_type": "code",
   "execution_count": 55,
   "id": "ae37018c",
   "metadata": {},
   "outputs": [
    {
     "data": {
      "text/plain": [
       "<tf.Tensor: shape=(30212,), dtype=int64, numpy=array([0, 1, 3, ..., 4, 4, 2])>"
      ]
     },
     "execution_count": 55,
     "metadata": {},
     "output_type": "execute_result"
    }
   ],
   "source": [
    "# Convert the predictions with feature extraction model to classes\n",
    "model_2_preds = tf.argmax(model_2_pred_probs, axis=1)\n",
    "model_2_preds"
   ]
  },
  {
   "cell_type": "code",
   "execution_count": 56,
   "id": "9ea3d497",
   "metadata": {},
   "outputs": [
    {
     "data": {
      "text/plain": [
       "{'accuracy': 71.34582285184695,\n",
       " 'precision': 0.7139402639119317,\n",
       " 'recall': 0.7134582285184695,\n",
       " 'f1': 0.7104837045533351}"
      ]
     },
     "execution_count": 56,
     "metadata": {},
     "output_type": "execute_result"
    }
   ],
   "source": [
    "# Calculate results from TF Hub pretrained embeddings results on validation set\n",
    "model_2_results = calculate_results(y_true=val_labels_encoded,\n",
    "                                    y_pred=model_2_preds)\n",
    "model_2_results"
   ]
  },
  {
   "cell_type": "markdown",
   "id": "d3d2503d",
   "metadata": {},
   "source": [
    "## Model 3: Conv1D with character embeddings\n",
    "### Creating a character-level tokenizer\n",
    "\n",
    "The *[Neural Networks for Joint Sentence Classification in Medical Paper Abstracts](https://arxiv.org/pdf/1612.05251.pdf)* paper mentions their model uses a hybrid of token and character embeddings.\n",
    "\n",
    "We've built models with a custom token embedding and a pretrained token embedding, how about we build one using a character embedding?\n",
    "\n",
    "The difference between a character and token embedding is that the character embedding is created using sequences split into characters (e.g. hello -> [h, e, l, l, o]) where as a token embedding is created on sequences split into tokens.\n",
    "\n",
    "![characterEmbedding.png](Images/characterEmbedding.png)\n",
    "\n",
    "We can create a character-level embedding by first vectorizing our sequences (after they've been split into characters) using the TextVectorization class and then passing those vectorized sequences through an Embedding layer.\n",
    "\n",
    "Before we can vectorize our sequences on a character-level we'll need to split them into characters. Let's write a function to do so."
   ]
  },
  {
   "cell_type": "code",
   "execution_count": 57,
   "id": "341231c6",
   "metadata": {},
   "outputs": [
    {
     "data": {
      "text/plain": [
       "'t h e   e f f e c t i v e n e s s   o f   c o n t i n u o u s   r e n a l   r e p l a c e m e n t   t h e r a p y   (   c r r t   )   i n c r e a s e s   w h e n   u n p l a n n e d   c i r c u i t   f a i l u r e   i s   p r e v e n t e d   .'"
      ]
     },
     "execution_count": 57,
     "metadata": {},
     "output_type": "execute_result"
    }
   ],
   "source": [
    "# Make function to split sentences into characters\n",
    "def split_chars(text):\n",
    "  return \" \".join(list(text))\n",
    "\n",
    "# Test splitting non-character-level sequence into characters\n",
    "split_chars(random_training_sentence)"
   ]
  },
  {
   "cell_type": "markdown",
   "id": "0937956a",
   "metadata": {},
   "source": [
    "Great! Looks like our character-splitting function works. Let's create character-level datasets by splitting our sequence datasets into characters."
   ]
  },
  {
   "cell_type": "code",
   "execution_count": 58,
   "id": "2f7c3f2b",
   "metadata": {},
   "outputs": [
    {
     "name": "stdout",
     "output_type": "stream",
     "text": [
      "t o   i n v e s t i g a t e   t h e   e f f i c a c y   o f   @   w e e k s   o f   d a i l y   l o w - d o s e   o r a l   p r e d n i s o l o n e   i n   i m p r o v i n g   p a i n   ,   m o b i l i t y   ,   a n d   s y s t e m i c   l o w - g r a d e   i n f l a m m a t i o n   i n   t h e   s h o r t   t e r m   a n d   w h e t h e r   t h e   e f f e c t   w o u l d   b e   s u s t a i n e d   a t   @   w e e k s   i n   o l d e r   a d u l t s   w i t h   m o d e r a t e   t o   s e v e r e   k n e e   o s t e o a r t h r i t i s   (   o a   )   .\n"
     ]
    }
   ],
   "source": [
    "# Split sequence-level data splits into character-level data splits\n",
    "train_chars = [split_chars(sentence) for sentence in train_sentences]\n",
    "val_chars = [split_chars(sentence) for sentence in val_sentences]\n",
    "test_chars = [split_chars(sentence) for sentence in test_sentences]\n",
    "print(train_chars[0])"
   ]
  },
  {
   "cell_type": "markdown",
   "id": "1e2015d9",
   "metadata": {},
   "source": [
    "To figure out how long our vectorized character sequences should be, let's check the distribution of our character sequence lengths."
   ]
  },
  {
   "cell_type": "code",
   "execution_count": 59,
   "id": "4554d7db",
   "metadata": {},
   "outputs": [
    {
     "data": {
      "text/plain": [
       "149.3662574983337"
      ]
     },
     "execution_count": 59,
     "metadata": {},
     "output_type": "execute_result"
    }
   ],
   "source": [
    "# What's the average character length?\n",
    "char_lens = [len(sentence) for sentence in train_sentences]\n",
    "mean_char_len = np.mean(char_lens)\n",
    "mean_char_len"
   ]
  },
  {
   "cell_type": "code",
   "execution_count": 60,
   "id": "7b963a58",
   "metadata": {},
   "outputs": [
    {
     "data": {
      "image/png": "[encoded data removed]",
      "text/plain": [
       "<Figure size 640x480 with 1 Axes>"
      ]
     },
     "metadata": {},
     "output_type": "display_data"
    }
   ],
   "source": [
    "# Check the distribution of our sequences at character-level\n",
    "import matplotlib.pyplot as plt\n",
    "plt.hist(char_lens, bins=7);"
   ]
  },
  {
   "cell_type": "markdown",
   "id": "9d4b6bb7",
   "metadata": {},
   "source": [
    "Okay, looks like most of our sequences are between 0 and 200 characters long.\n",
    "\n",
    "Let's use NumPy's percentile to figure out what length covers 95% of our sequences."
   ]
  },
  {
   "cell_type": "code",
   "execution_count": 61,
   "id": "a6a55852",
   "metadata": {},
   "outputs": [
    {
     "data": {
      "text/plain": [
       "290"
      ]
     },
     "execution_count": 61,
     "metadata": {},
     "output_type": "execute_result"
    }
   ],
   "source": [
    "# Find what character length covers 95% of sequences\n",
    "output_seq_char_len = int(np.percentile(char_lens, 95))\n",
    "output_seq_char_len"
   ]
  },
  {
   "cell_type": "markdown",
   "id": "619173ce",
   "metadata": {},
   "source": [
    "Wonderful, now we know the sequence length which covers 95% of sequences, we'll use that in our `TextVectorization` layer as the `output_sequence_length` parameter.\n",
    "\n",
    "🔑 Note: You can experiment here to figure out what the optimal `output_sequence_length` should be, perhaps using the mean results in as good results as using the 95% percentile.\n",
    "\n",
    "We'll set `max_tokens` (the total number of different characters in our sequences) to 28, in other words, 26 letters of the alphabet + space + OOV (out of vocabulary or unknown) tokens."
   ]
  },
  {
   "cell_type": "code",
   "execution_count": 62,
   "id": "9f62c276",
   "metadata": {},
   "outputs": [
    {
     "data": {
      "text/plain": [
       "'abcdefghijklmnopqrstuvwxyz0123456789!\"#$%&\\'()*+,-./:;<=>?@[\\\\]^_`{|}~'"
      ]
     },
     "execution_count": 62,
     "metadata": {},
     "output_type": "execute_result"
    }
   ],
   "source": [
    "# Get all keyboard characters for char-level embedding\n",
    "import string\n",
    "alphabet = string.ascii_lowercase + string.digits + string.punctuation\n",
    "alphabet"
   ]
  },
  {
   "cell_type": "code",
   "execution_count": 63,
   "id": "1094df25",
   "metadata": {},
   "outputs": [],
   "source": [
    "# Create char-level token vectorizer instance\n",
    "NUM_CHAR_TOKENS = len(alphabet) + 2 # num characters in alphabet + space + OOV token\n",
    "char_vectorizer = TextVectorization(max_tokens=NUM_CHAR_TOKENS,  \n",
    "                                    output_sequence_length=output_seq_char_len,\n",
    "                                    standardize=\"lower_and_strip_punctuation\",\n",
    "                                    name=\"char_vectorizer\")\n",
    "\n",
    "# Adapt character vectorizer to training characters\n",
    "char_vectorizer.adapt(train_chars)"
   ]
  },
  {
   "cell_type": "markdown",
   "id": "1d7ef44a",
   "metadata": {},
   "source": [
    "Nice! Now we've adapted our char_vectorizer to our character-level sequences, let's check out some characteristics about it using the `get_vocabulary()` method."
   ]
  },
  {
   "cell_type": "code",
   "execution_count": 64,
   "id": "1af9fd96",
   "metadata": {},
   "outputs": [
    {
     "name": "stdout",
     "output_type": "stream",
     "text": [
      "Number of different characters in character vocab: 28\n",
      "5 most common characters: ['', '[UNK]', 'e', 't', 'i']\n",
      "5 least common characters: ['k', 'x', 'z', 'q', 'j']\n"
     ]
    }
   ],
   "source": [
    "# Check character vocabulary characteristics\n",
    "char_vocab = char_vectorizer.get_vocabulary()\n",
    "print(f\"Number of different characters in character vocab: {len(char_vocab)}\")\n",
    "print(f\"5 most common characters: {char_vocab[:5]}\")\n",
    "print(f\"5 least common characters: {char_vocab[-5:]}\")"
   ]
  },
  {
   "cell_type": "code",
   "execution_count": 65,
   "id": "29116cff",
   "metadata": {},
   "outputs": [
    {
     "name": "stdout",
     "output_type": "stream",
     "text": [
      "Charified text:\n",
      "t h e   p r i m a r y   o u t c o m e   w i l l   b e   c l i n i c a l   p r e g n a n c y   r a t e   .\n",
      "\n",
      "Length of chars: 45\n",
      "\n",
      "Vectorized chars:\n",
      "[[ 3 13  2 14  8  4 15  5  8 19  7 16  3 11  7 15  2 20  4 12 12 22  2 11\n",
      "  12  4  6  4 11  5 12 14  8  2 18  6  5  6 11 19  8  5  3  2  0  0  0  0\n",
      "   0  0  0  0  0  0  0  0  0  0  0  0  0  0  0  0  0  0  0  0  0  0  0  0\n",
      "   0  0  0  0  0  0  0  0  0  0  0  0  0  0  0  0  0  0  0  0  0  0  0  0\n",
      "   0  0  0  0  0  0  0  0  0  0  0  0  0  0  0  0  0  0  0  0  0  0  0  0\n",
      "   0  0  0  0  0  0  0  0  0  0  0  0  0  0  0  0  0  0  0  0  0  0  0  0\n",
      "   0  0  0  0  0  0  0  0  0  0  0  0  0  0  0  0  0  0  0  0  0  0  0  0\n",
      "   0  0  0  0  0  0  0  0  0  0  0  0  0  0  0  0  0  0  0  0  0  0  0  0\n",
      "   0  0  0  0  0  0  0  0  0  0  0  0  0  0  0  0  0  0  0  0  0  0  0  0\n",
      "   0  0  0  0  0  0  0  0  0  0  0  0  0  0  0  0  0  0  0  0  0  0  0  0\n",
      "   0  0  0  0  0  0  0  0  0  0  0  0  0  0  0  0  0  0  0  0  0  0  0  0\n",
      "   0  0  0  0  0  0  0  0  0  0  0  0  0  0  0  0  0  0  0  0  0  0  0  0\n",
      "   0  0]]\n",
      "\n",
      "Length of vectorized chars: 290\n"
     ]
    }
   ],
   "source": [
    "# Test out character vectorizer\n",
    "random_train_chars = random.choice(train_chars)\n",
    "print(f\"Charified text:\\n{random_train_chars}\")\n",
    "print(f\"\\nLength of chars: {len(random_train_chars.split())}\")\n",
    "vectorized_chars = char_vectorizer([random_train_chars])\n",
    "print(f\"\\nVectorized chars:\\n{vectorized_chars}\")\n",
    "print(f\"\\nLength of vectorized chars: {len(vectorized_chars[0])}\")"
   ]
  },
  {
   "cell_type": "markdown",
   "id": "d3b80c08",
   "metadata": {},
   "source": [
    "You'll notice sequences with a length shorter than 290 (`output_seq_char_length`) get padded with zeros on the end, this ensures all sequences passed to our model are the same length.\n",
    "\n",
    "Also, due to the standardize parameter of TextVectorization being \"`lower_and_strip_punctuation`\" and the split parameter being \"`whitespace`\" by default, symbols (such as @) and spaces are removed.\n",
    "\n",
    "🔑 Note: If you didn't want punctuation to be removed (keep the @, % etc), you can create a custom standardization callable and pass it as the standardize parameter. See the `[TextVectorization](https://www.tensorflow.org/api_docs/python/tf/keras/layers/experimental/preprocessing/TextVectorization)` class documentation for more."
   ]
  },
  {
   "cell_type": "markdown",
   "id": "bc238bb6",
   "metadata": {},
   "source": [
    "## Creating a character-level embedding\n",
    "\n",
    "We've got a way to vectorize our character-level sequences, now's time to create a character-level embedding.\n",
    "\n",
    "Just like our custom token embedding, we can do so using the `tensorflow.keras.layers.Embedding` class.\n",
    "\n",
    "Our character-level embedding layer requires an input dimension and output dimension.\n",
    "\n",
    "The input dimension (`input_dim`) will be equal to the number of different characters in our `char_vocab` (28). And since we're following the structure of the model in Figure 1 of Neural Networks for Joint Sentence Classification in Medical Paper Abstracts, the output dimension of the character embedding (`output_dim`) will be 25."
   ]
  },
  {
   "cell_type": "code",
   "execution_count": 66,
   "id": "ddd498b7",
   "metadata": {},
   "outputs": [
    {
     "name": "stdout",
     "output_type": "stream",
     "text": [
      "Charified text (before vectorization and embedding):\n",
      "t h e   p r i m a r y   o u t c o m e   w i l l   b e   c l i n i c a l   p r e g n a n c y   r a t e   .\n",
      "\n",
      "Embedded chars (after vectorization and embedding):\n",
      "[[[ 0.02758515  0.03332733 -0.00198174 ... -0.04060736 -0.00172527\n",
      "    0.04211814]\n",
      "  [ 0.00916231  0.00397553 -0.02885227 ... -0.03301032 -0.02430164\n",
      "    0.01144359]\n",
      "  [ 0.01568241  0.01441146 -0.0229543  ... -0.01947924  0.01960978\n",
      "    0.01358085]\n",
      "  ...\n",
      "  [-0.00157557  0.00810399 -0.00343039 ... -0.00037767 -0.04777267\n",
      "   -0.04068993]\n",
      "  [-0.00157557  0.00810399 -0.00343039 ... -0.00037767 -0.04777267\n",
      "   -0.04068993]\n",
      "  [-0.00157557  0.00810399 -0.00343039 ... -0.00037767 -0.04777267\n",
      "   -0.04068993]]]\n",
      "\n",
      "Character embedding shape: (1, 290, 25)\n"
     ]
    }
   ],
   "source": [
    "# Create char embedding layer\n",
    "char_embed = layers.Embedding(input_dim=NUM_CHAR_TOKENS, # number of different characters\n",
    "                              output_dim=25, # embedding dimension of each character (same as Figure 1 in https://arxiv.org/pdf/1612.05251.pdf)\n",
    "                              mask_zero=False, # don't use masks (this messes up model_5 if set to True)\n",
    "                              name=\"char_embed\")\n",
    "\n",
    "# Test out character embedding layer\n",
    "print(f\"Charified text (before vectorization and embedding):\\n{random_train_chars}\\n\")\n",
    "char_embed_example = char_embed(char_vectorizer([random_train_chars]))\n",
    "print(f\"Embedded chars (after vectorization and embedding):\\n{char_embed_example}\\n\")\n",
    "print(f\"Character embedding shape: {char_embed_example.shape}\")"
   ]
  },
  {
   "cell_type": "markdown",
   "id": "6c0fe932",
   "metadata": {},
   "source": [
    "Wonderful! Each of the characters in our sequences gets turned into a 25 dimension embedding."
   ]
  },
  {
   "cell_type": "markdown",
   "id": "26fe69bc",
   "metadata": {},
   "source": [
    "## Building a Conv1D model to fit on character embeddings\n",
    "\n",
    "Now we've got a way to turn our character-level sequences into numbers (`char_vectorizer`) as well as numerically represent them as an embedding (`char_embed`) let's test how effective they are at encoding the information in our sequences by creating a character-level sequence model.\n",
    "\n",
    "The model will have the same structure as our custom token embedding model (`model_1`) except it'll take character-level sequences as input instead of token-level sequences.\n",
    "```\n",
    "Input (character-level text) -> Tokenize -> Embedding -> Layers (Conv1D, GlobalMaxPool1D) -> Output (label probability)\n",
    "```"
   ]
  },
  {
   "cell_type": "code",
   "execution_count": 67,
   "id": "76bb9c00",
   "metadata": {},
   "outputs": [],
   "source": [
    "# Make Conv1D on chars only\n",
    "inputs = layers.Input(shape=(1,), dtype=\"string\")\n",
    "char_vectors = char_vectorizer(inputs)\n",
    "char_embeddings = char_embed(char_vectors)\n",
    "x = layers.Conv1D(64, kernel_size=5, padding=\"same\", activation=\"relu\")(char_embeddings)\n",
    "x = layers.GlobalMaxPool1D()(x)\n",
    "outputs = layers.Dense(num_classes, activation=\"softmax\")(x)\n",
    "model_3 = tf.keras.Model(inputs=inputs,\n",
    "                         outputs=outputs,\n",
    "                         name=\"model_3_conv1D_char_embedding\")\n",
    "\n",
    "# Compile model\n",
    "model_3.compile(loss=\"categorical_crossentropy\",\n",
    "                optimizer=tf.keras.optimizers.Adam(),\n",
    "                metrics=[\"accuracy\"])\n",
    "     "
   ]
  },
  {
   "cell_type": "code",
   "execution_count": 68,
   "id": "abb8d70b",
   "metadata": {},
   "outputs": [
    {
     "name": "stdout",
     "output_type": "stream",
     "text": [
      "Model: \"model_3_conv1D_char_embedding\"\n",
      "_________________________________________________________________\n",
      "Layer (type)                 Output Shape              Param #   \n",
      "=================================================================\n",
      "input_3 (InputLayer)         [(None, 1)]               0         \n",
      "_________________________________________________________________\n",
      "char_vectorizer (TextVectori (None, 290)               0         \n",
      "_________________________________________________________________\n",
      "char_embed (Embedding)       (None, 290, 25)           1750      \n",
      "_________________________________________________________________\n",
      "conv1d_1 (Conv1D)            (None, 290, 64)           8064      \n",
      "_________________________________________________________________\n",
      "global_max_pooling1d (Global (None, 64)                0         \n",
      "_________________________________________________________________\n",
      "dense_3 (Dense)              (None, 5)                 325       \n",
      "=================================================================\n",
      "Total params: 10,139\n",
      "Trainable params: 10,139\n",
      "Non-trainable params: 0\n",
      "_________________________________________________________________\n"
     ]
    }
   ],
   "source": [
    "# Check the summary of conv1d_char_model\n",
    "model_3.summary()"
   ]
  },
  {
   "cell_type": "markdown",
   "id": "7bd6f729",
   "metadata": {},
   "source": [
    "Before fitting our model on the data, we'll create char-level batched `PrefetchedDataset's`."
   ]
  },
  {
   "cell_type": "code",
   "execution_count": 69,
   "id": "44fcafdd",
   "metadata": {},
   "outputs": [
    {
     "data": {
      "text/plain": [
       "<PrefetchDataset shapes: ((None,), (None, 5)), types: (tf.string, tf.float64)>"
      ]
     },
     "execution_count": 69,
     "metadata": {},
     "output_type": "execute_result"
    }
   ],
   "source": [
    "# Create char datasets\n",
    "train_char_dataset = tf.data.Dataset.from_tensor_slices((train_chars, train_labels_one_hot)).batch(32).prefetch(tf.data.AUTOTUNE)\n",
    "val_char_dataset = tf.data.Dataset.from_tensor_slices((val_chars, val_labels_one_hot)).batch(32).prefetch(tf.data.AUTOTUNE)\n",
    "\n",
    "train_char_dataset"
   ]
  },
  {
   "cell_type": "markdown",
   "id": "16485c5e",
   "metadata": {},
   "source": [
    "Just like our token-level sequence model, to save time with our experiments, we'll fit the character-level model on 10% of batches."
   ]
  },
  {
   "cell_type": "code",
   "execution_count": 70,
   "id": "76d9e554",
   "metadata": {},
   "outputs": [
    {
     "name": "stdout",
     "output_type": "stream",
     "text": [
      "Epoch 1/3\n"
     ]
    },
    {
     "name": "stderr",
     "output_type": "stream",
     "text": [
      "2022-12-16 00:04:34.015857: I tensorflow/core/grappler/optimizers/custom_graph_optimizer_registry.cc:112] Plugin optimizer for device_type GPU is enabled.\n"
     ]
    },
    {
     "name": "stdout",
     "output_type": "stream",
     "text": [
      "558/562 [============================>.] - ETA: 0s - loss: 1.2674 - accuracy: 0.4907"
     ]
    },
    {
     "name": "stderr",
     "output_type": "stream",
     "text": [
      "2022-12-16 00:04:41.642142: I tensorflow/core/grappler/optimizers/custom_graph_optimizer_registry.cc:112] Plugin optimizer for device_type GPU is enabled.\n"
     ]
    },
    {
     "name": "stdout",
     "output_type": "stream",
     "text": [
      "562/562 [==============================] - 9s 14ms/step - loss: 1.2652 - accuracy: 0.4918 - val_loss: 1.0362 - val_accuracy: 0.5908\n",
      "Epoch 2/3\n",
      "562/562 [==============================] - 8s 14ms/step - loss: 1.0007 - accuracy: 0.6031 - val_loss: 0.9343 - val_accuracy: 0.6307\n",
      "Epoch 3/3\n",
      "562/562 [==============================] - 8s 13ms/step - loss: 0.9248 - accuracy: 0.6343 - val_loss: 0.8643 - val_accuracy: 0.6572\n"
     ]
    }
   ],
   "source": [
    "# Fit the model on chars only\n",
    "model_3_history = model_3.fit(train_char_dataset,\n",
    "                              steps_per_epoch=int(0.1 * len(train_char_dataset)),\n",
    "                              epochs=3,\n",
    "                              validation_data=val_char_dataset,\n",
    "                              validation_steps=int(0.1 * len(val_char_dataset)))"
   ]
  },
  {
   "cell_type": "code",
   "execution_count": 71,
   "id": "e81e5a53",
   "metadata": {},
   "outputs": [
    {
     "name": "stdout",
     "output_type": "stream",
     "text": [
      "945/945 [==============================] - 9s 9ms/step - loss: 0.8804 - accuracy: 0.6577\n"
     ]
    },
    {
     "data": {
      "text/plain": [
       "[0.8803917765617371, 0.6577187776565552]"
      ]
     },
     "execution_count": 71,
     "metadata": {},
     "output_type": "execute_result"
    }
   ],
   "source": [
    "# Evaluate model_3 on whole validation char dataset\n",
    "model_3.evaluate(val_char_dataset)"
   ]
  },
  {
   "cell_type": "code",
   "execution_count": 72,
   "id": "d7ecef30",
   "metadata": {},
   "outputs": [
    {
     "name": "stderr",
     "output_type": "stream",
     "text": [
      "2022-12-16 00:05:15.760276: I tensorflow/core/grappler/optimizers/custom_graph_optimizer_registry.cc:112] Plugin optimizer for device_type GPU is enabled.\n"
     ]
    },
    {
     "data": {
      "text/plain": [
       "array([[0.20560421, 0.46139577, 0.05664139, 0.22529858, 0.05105998],\n",
       "       [0.18148685, 0.50323397, 0.06113798, 0.0934763 , 0.16066493],\n",
       "       [0.15636991, 0.4173117 , 0.06787258, 0.3185888 , 0.03985703],\n",
       "       ...,\n",
       "       [0.01901425, 0.06560385, 0.109189  , 0.07156811, 0.7346248 ],\n",
       "       [0.03274906, 0.06233031, 0.28881398, 0.0416794 , 0.5744272 ],\n",
       "       [0.54387236, 0.308937  , 0.07230466, 0.05481457, 0.02007134]],\n",
       "      dtype=float32)"
      ]
     },
     "execution_count": 72,
     "metadata": {},
     "output_type": "execute_result"
    }
   ],
   "source": [
    "# Make predictions with character model only\n",
    "model_3_pred_probs = model_3.predict(val_char_dataset)\n",
    "model_3_pred_probs"
   ]
  },
  {
   "cell_type": "code",
   "execution_count": 73,
   "id": "e39cdc90",
   "metadata": {},
   "outputs": [
    {
     "data": {
      "text/plain": [
       "<tf.Tensor: shape=(30212,), dtype=int64, numpy=array([1, 1, 1, ..., 4, 4, 0])>"
      ]
     },
     "execution_count": 73,
     "metadata": {},
     "output_type": "execute_result"
    }
   ],
   "source": [
    "# Convert predictions to classes\n",
    "model_3_preds = tf.argmax(model_3_pred_probs, axis=1)\n",
    "model_3_preds"
   ]
  },
  {
   "cell_type": "code",
   "execution_count": 74,
   "id": "dc09db3f",
   "metadata": {},
   "outputs": [
    {
     "data": {
      "text/plain": [
       "{'accuracy': 65.77187872368594,\n",
       " 'precision': 0.6485929766784871,\n",
       " 'recall': 0.6577187872368595,\n",
       " 'f1': 0.6469168580322727}"
      ]
     },
     "execution_count": 74,
     "metadata": {},
     "output_type": "execute_result"
    }
   ],
   "source": [
    "# Calculate Conv1D char only model results\n",
    "model_3_results = calculate_results(y_true=val_labels_encoded,\n",
    "                                        y_pred=model_3_preds)\n",
    "model_3_results"
   ]
  },
  {
   "cell_type": "markdown",
   "id": "0572effe",
   "metadata": {},
   "source": [
    "## Model 4: Combining pretrained token embeddings + character embeddings (hybrid embedding layer)"
   ]
  },
  {
   "cell_type": "markdown",
   "id": "faebe93a",
   "metadata": {},
   "source": [
    "Alright, now things are going to get spicy.\n",
    "\n",
    "In moving closer to build a model similar to the one in Figure 1 of [Neural Networks for Joint Sentence Classification in Medical Paper Abstracts](https://arxiv.org/pdf/1612.05251.pdf), it's time we tackled the hybrid token embedding layer they speak of.\n",
    "\n",
    "This hybrid token embedding layer is a combination of token embeddings and character embeddings. In other words, they create a stacked embedding to represent sequences before passing them to the sequence label prediction layer.\n",
    "\n",
    "So far we've built two models which have used token and character-level embeddings, however, these two models have used each of these embeddings exclusively.\n",
    "\n",
    "To start replicating (or getting close to replicating) the model in Figure 1, we're going to go through the following steps:\n",
    "\n",
    "1. Create a token-level model (similar to `model_1`)\n",
    "2. Create a character-level model (similar to `model_3` with a slight modification to reflect the paper)\n",
    "3. Combine (using `layers.Concatenate`) the outputs of 1 and 2\n",
    "4. Build a series of output layers on top of 3 similar to Figure 1 and section 4.2 of [*Neural Networks for Joint Sentence Classification\n",
    "in Medical Paper Abstracts*](https://arxiv.org/pdf/1612.05251.pdf) 5. Construct a model which takes token and character-level sequences as input and produces sequence label probabilities as output"
   ]
  },
  {
   "cell_type": "code",
   "execution_count": 76,
   "id": "f3c69289",
   "metadata": {},
   "outputs": [],
   "source": [
    "# 1. Setup token inputs/model\n",
    "token_inputs = layers.Input(shape=[], dtype=tf.string, name=\"token_input\")\n",
    "token_embeddings = tf_hub_embedding_layer(token_inputs)\n",
    "token_output = layers.Dense(128, activation=\"relu\")(token_embeddings)\n",
    "token_model = tf.keras.Model(inputs=token_inputs,\n",
    "                             outputs=token_output)\n",
    "\n",
    "# 2. Setup char inputs/model\n",
    "char_inputs = layers.Input(shape=(1,), dtype=tf.string, name=\"char_input\")\n",
    "char_vectors = char_vectorizer(char_inputs)\n",
    "char_embeddings = char_embed(char_vectors)\n",
    "char_bi_lstm = layers.Bidirectional(layers.LSTM(25))(char_embeddings) # bi-LSTM shown in Figure 1 of https://arxiv.org/pdf/1612.05251.pdf\n",
    "char_model = tf.keras.Model(inputs=char_inputs,\n",
    "                            outputs=char_bi_lstm)\n",
    "\n",
    "# 3. Concatenate token and char inputs (create hybrid token embedding)\n",
    "token_char_concat = layers.Concatenate(name=\"token_char_hybrid\")([token_model.output, \n",
    "                                                                  char_model.output])\n",
    "# 4. Create output layers - addition of dropout discussed in 4.2 of https://arxiv.org/pdf/1612.05251.pdf\n",
    "combined_dropout = layers.Dropout(0.5)(token_char_concat)\n",
    "combined_dense = layers.Dense(200, activation=\"relu\")(combined_dropout) # slightly different to Figure 1 due to different shapes of token/char embedding layers\n",
    "final_dropout = layers.Dropout(0.5)(combined_dense)\n",
    "output_layer = layers.Dense(num_classes, activation=\"softmax\")(final_dropout)\n",
    "\n",
    "# 5. Construct model with char and token inputs\n",
    "model_4 = tf.keras.Model(inputs=[token_model.input, char_model.input],\n",
    "                         outputs=output_layer,\n",
    "                         name=\"model_4_token_and_char_embeddings\")\n",
    "     "
   ]
  },
  {
   "cell_type": "markdown",
   "id": "f39ac701",
   "metadata": {},
   "source": [
    "Woah... There's a lot going on here, let's get a summary and plot our model to visualize what's happening."
   ]
  },
  {
   "cell_type": "code",
   "execution_count": 77,
   "id": "84e0fe0f",
   "metadata": {},
   "outputs": [
    {
     "name": "stdout",
     "output_type": "stream",
     "text": [
      "Model: \"model_4_token_and_char_embeddings\"\n",
      "__________________________________________________________________________________________________\n",
      "Layer (type)                    Output Shape         Param #     Connected to                     \n",
      "==================================================================================================\n",
      "char_input (InputLayer)         [(None, 1)]          0                                            \n",
      "__________________________________________________________________________________________________\n",
      "token_input (InputLayer)        [(None,)]            0                                            \n",
      "__________________________________________________________________________________________________\n",
      "char_vectorizer (TextVectorizat (None, 290)          0           char_input[0][0]                 \n",
      "__________________________________________________________________________________________________\n",
      "universal_sentence_encoder (Ker (None, 512)          256797824   token_input[0][0]                \n",
      "__________________________________________________________________________________________________\n",
      "char_embed (Embedding)          (None, 290, 25)      1750        char_vectorizer[1][0]            \n",
      "__________________________________________________________________________________________________\n",
      "dense_4 (Dense)                 (None, 128)          65664       universal_sentence_encoder[1][0] \n",
      "__________________________________________________________________________________________________\n",
      "bidirectional (Bidirectional)   (None, 50)           10200       char_embed[1][0]                 \n",
      "__________________________________________________________________________________________________\n",
      "token_char_hybrid (Concatenate) (None, 178)          0           dense_4[0][0]                    \n",
      "                                                                 bidirectional[0][0]              \n",
      "__________________________________________________________________________________________________\n",
      "dropout (Dropout)               (None, 178)          0           token_char_hybrid[0][0]          \n",
      "__________________________________________________________________________________________________\n",
      "dense_5 (Dense)                 (None, 200)          35800       dropout[0][0]                    \n",
      "__________________________________________________________________________________________________\n",
      "dropout_1 (Dropout)             (None, 200)          0           dense_5[0][0]                    \n",
      "__________________________________________________________________________________________________\n",
      "dense_6 (Dense)                 (None, 5)            1005        dropout_1[0][0]                  \n",
      "==================================================================================================\n",
      "Total params: 256,912,243\n",
      "Trainable params: 114,419\n",
      "Non-trainable params: 256,797,824\n",
      "__________________________________________________________________________________________________\n"
     ]
    }
   ],
   "source": [
    "# Get summary of token and character model\n",
    "model_4.summary()"
   ]
  },
  {
   "cell_type": "code",
   "execution_count": 78,
   "id": "2a303270",
   "metadata": {},
   "outputs": [
    {
     "data": {
      "image/png": "[encoded data removed]",
      "text/plain": [
       "<IPython.core.display.Image object>"
      ]
     },
     "execution_count": 78,
     "metadata": {},
     "output_type": "execute_result"
    }
   ],
   "source": [
    "# Plot hybrid token and character model\n",
    "from tensorflow.keras.utils import plot_model\n",
    "plot_model(model_4)"
   ]
  },
  {
   "cell_type": "markdown",
   "id": "018dc649",
   "metadata": {},
   "source": [
    "Now that's a good looking model. Let's compile it just as we have the rest of our models.\n",
    "\n",
    "🔑 Note: Section 4.2 of [*Neural Networks for Joint Sentence Classification\n",
    "\n",
    "in Medical Paper Abstracts*](https://arxiv.org/pdf/1612.05251.pdf) mentions using the SGD (stochastic gradient descent) optimizer, however, to stay consistent with our other models, we're going to use the Adam optimizer. As an exercise, you could try using `tf.keras.optimizers.SGD` instead of `tf.keras.optimizers.Adam` and compare the results."
   ]
  },
  {
   "cell_type": "code",
   "execution_count": 79,
   "id": "c5e48569",
   "metadata": {},
   "outputs": [],
   "source": [
    "# Compile token char model\n",
    "model_4.compile(loss=\"categorical_crossentropy\",\n",
    "                optimizer=tf.keras.optimizers.Adam(), # section 4.2 of https://arxiv.org/pdf/1612.05251.pdf mentions using SGD but we'll stick with Adam\n",
    "                metrics=[\"accuracy\"])"
   ]
  },
  {
   "cell_type": "markdown",
   "id": "65026b6a",
   "metadata": {},
   "source": [
    "And again, to keep our experiments fast, we'll fit our token-character-hybrid model on 10% of training and validate on 10% of validation batches. However, the difference with this model is that it requires two inputs, token-level sequences and character-level sequences.\n",
    "\n",
    "We can do this by create a `tf.data.Dataset` with a tuple as it's first input, for example:\n",
    "\n",
    "* `((token_data, char_data), (label))`\n",
    "Let's see it in action."
   ]
  },
  {
   "cell_type": "markdown",
   "id": "de66daa8",
   "metadata": {},
   "source": [
    "## Combining token and character data into a tf.data dataset"
   ]
  },
  {
   "cell_type": "code",
   "execution_count": 80,
   "id": "321dc6fc",
   "metadata": {},
   "outputs": [],
   "source": [
    "# Combine chars and tokens into a dataset\n",
    "train_char_token_data = tf.data.Dataset.from_tensor_slices((train_sentences, train_chars)) # make data\n",
    "train_char_token_labels = tf.data.Dataset.from_tensor_slices(train_labels_one_hot) # make labels\n",
    "train_char_token_dataset = tf.data.Dataset.zip((train_char_token_data, train_char_token_labels)) # combine data and labels\n",
    "\n",
    "# Prefetch and batch train data\n",
    "train_char_token_dataset = train_char_token_dataset.batch(32).prefetch(tf.data.AUTOTUNE) \n",
    "\n",
    "# Repeat same steps validation data\n",
    "val_char_token_data = tf.data.Dataset.from_tensor_slices((val_sentences, val_chars))\n",
    "val_char_token_labels = tf.data.Dataset.from_tensor_slices(val_labels_one_hot)\n",
    "val_char_token_dataset = tf.data.Dataset.zip((val_char_token_data, val_char_token_labels))\n",
    "val_char_token_dataset = val_char_token_dataset.batch(32).prefetch(tf.data.AUTOTUNE)"
   ]
  },
  {
   "cell_type": "code",
   "execution_count": 81,
   "id": "63a792d0",
   "metadata": {},
   "outputs": [
    {
     "data": {
      "text/plain": [
       "(<PrefetchDataset shapes: (((None,), (None,)), (None, 5)), types: ((tf.string, tf.string), tf.float64)>,\n",
       " <PrefetchDataset shapes: (((None,), (None,)), (None, 5)), types: ((tf.string, tf.string), tf.float64)>)"
      ]
     },
     "execution_count": 81,
     "metadata": {},
     "output_type": "execute_result"
    }
   ],
   "source": [
    "# Check out training char and token embedding dataset\n",
    "train_char_token_dataset, val_char_token_dataset"
   ]
  },
  {
   "cell_type": "markdown",
   "id": "9c926d67",
   "metadata": {},
   "source": [
    "## Fitting a model on token and character-level sequences"
   ]
  },
  {
   "cell_type": "code",
   "execution_count": 82,
   "id": "2cf4db8a",
   "metadata": {},
   "outputs": [
    {
     "name": "stdout",
     "output_type": "stream",
     "text": [
      "Epoch 1/3\n"
     ]
    },
    {
     "name": "stderr",
     "output_type": "stream",
     "text": [
      "2022-12-16 00:32:14.086190: I tensorflow/core/grappler/optimizers/custom_graph_optimizer_registry.cc:112] Plugin optimizer for device_type GPU is enabled.\n",
      "2022-12-16 00:32:14.362795: I tensorflow/core/grappler/optimizers/custom_graph_optimizer_registry.cc:112] Plugin optimizer for device_type GPU is enabled.\n",
      "2022-12-16 00:32:14.463818: I tensorflow/core/grappler/optimizers/custom_graph_optimizer_registry.cc:112] Plugin optimizer for device_type GPU is enabled.\n",
      "2022-12-16 00:32:16.646014: I tensorflow/core/grappler/optimizers/custom_graph_optimizer_registry.cc:112] Plugin optimizer for device_type GPU is enabled.\n",
      "2022-12-16 00:32:16.660184: I tensorflow/core/grappler/optimizers/custom_graph_optimizer_registry.cc:112] Plugin optimizer for device_type GPU is enabled.\n"
     ]
    },
    {
     "name": "stdout",
     "output_type": "stream",
     "text": [
      "562/562 [==============================] - ETA: 0s - loss: 0.9504 - accuracy: 0.6187"
     ]
    },
    {
     "name": "stderr",
     "output_type": "stream",
     "text": [
      "2022-12-16 00:34:24.483855: I tensorflow/core/grappler/optimizers/custom_graph_optimizer_registry.cc:112] Plugin optimizer for device_type GPU is enabled.\n",
      "2022-12-16 00:34:24.637355: I tensorflow/core/grappler/optimizers/custom_graph_optimizer_registry.cc:112] Plugin optimizer for device_type GPU is enabled.\n",
      "2022-12-16 00:34:24.647511: I tensorflow/core/grappler/optimizers/custom_graph_optimizer_registry.cc:112] Plugin optimizer for device_type GPU is enabled.\n"
     ]
    },
    {
     "name": "stdout",
     "output_type": "stream",
     "text": [
      "562/562 [==============================] - 145s 245ms/step - loss: 0.9504 - accuracy: 0.6187 - val_loss: 0.7917 - val_accuracy: 0.7011\n",
      "Epoch 2/3\n",
      "562/562 [==============================] - 142s 253ms/step - loss: 0.7702 - accuracy: 0.7016 - val_loss: 0.7287 - val_accuracy: 0.7251\n",
      "Epoch 3/3\n",
      "562/562 [==============================] - 143s 255ms/step - loss: 0.7458 - accuracy: 0.7148 - val_loss: 0.7013 - val_accuracy: 0.7354\n"
     ]
    }
   ],
   "source": [
    "# Fit the model on tokens and chars\n",
    "model_4_history = model_4.fit(train_char_token_dataset, # train on dataset of token and characters\n",
    "                              steps_per_epoch=int(0.1 * len(train_char_token_dataset)),\n",
    "                              epochs=3,\n",
    "                              validation_data=val_char_token_dataset,\n",
    "                              validation_steps=int(0.1 * len(val_char_token_dataset)))"
   ]
  },
  {
   "cell_type": "code",
   "execution_count": 83,
   "id": "95423393",
   "metadata": {},
   "outputs": [
    {
     "name": "stdout",
     "output_type": "stream",
     "text": [
      "945/945 [==============================] - 128s 136ms/step - loss: 0.7114 - accuracy: 0.7297\n"
     ]
    },
    {
     "data": {
      "text/plain": [
       "[0.7113980650901794, 0.729710042476654]"
      ]
     },
     "execution_count": 83,
     "metadata": {},
     "output_type": "execute_result"
    }
   ],
   "source": [
    "# Evaluate on the whole validation dataset\n",
    "model_4.evaluate(val_char_token_dataset)"
   ]
  },
  {
   "cell_type": "markdown",
   "id": "a3c11468",
   "metadata": {},
   "source": [
    "Nice! Our token-character hybrid model has come to life!\n",
    "\n",
    "To make predictions with it, since it takes multiplie inputs, we can pass the `predict()` method a tuple of token-level sequences and character-level sequences.\n",
    "\n",
    "We can then evaluate the predictions as we've done before."
   ]
  },
  {
   "cell_type": "code",
   "execution_count": 84,
   "id": "28b8426a",
   "metadata": {},
   "outputs": [
    {
     "name": "stderr",
     "output_type": "stream",
     "text": [
      "2022-12-16 00:41:44.344226: I tensorflow/core/grappler/optimizers/custom_graph_optimizer_registry.cc:112] Plugin optimizer for device_type GPU is enabled.\n",
      "2022-12-16 00:41:44.497115: I tensorflow/core/grappler/optimizers/custom_graph_optimizer_registry.cc:112] Plugin optimizer for device_type GPU is enabled.\n",
      "2022-12-16 00:41:44.505963: I tensorflow/core/grappler/optimizers/custom_graph_optimizer_registry.cc:112] Plugin optimizer for device_type GPU is enabled.\n"
     ]
    },
    {
     "data": {
      "text/plain": [
       "array([[4.1980475e-01, 3.8721400e-01, 3.0979430e-03, 1.8429999e-01,\n",
       "        5.5832551e-03],\n",
       "       [3.1980678e-01, 4.8934051e-01, 4.5554647e-03, 1.8381558e-01,\n",
       "        2.4815765e-03],\n",
       "       [2.6226178e-01, 9.9226564e-02, 3.0634852e-02, 5.8944172e-01,\n",
       "        1.8434998e-02],\n",
       "       ...,\n",
       "       [1.3071845e-03, 6.4146682e-03, 5.6122687e-02, 8.9022424e-04,\n",
       "        9.3526536e-01],\n",
       "       [1.1266627e-02, 6.9055982e-02, 3.0984724e-01, 4.9438714e-03,\n",
       "        6.0488629e-01],\n",
       "       [2.8157032e-01, 3.0433422e-01, 3.0490243e-01, 3.8984511e-02,\n",
       "        7.0208557e-02]], dtype=float32)"
      ]
     },
     "execution_count": 84,
     "metadata": {},
     "output_type": "execute_result"
    }
   ],
   "source": [
    "# Make predictions using the token-character model hybrid\n",
    "model_4_pred_probs = model_4.predict(val_char_token_dataset)\n",
    "model_4_pred_probs"
   ]
  },
  {
   "cell_type": "code",
   "execution_count": 86,
   "id": "6ff3f4b4",
   "metadata": {},
   "outputs": [
    {
     "data": {
      "text/plain": [
       "<tf.Tensor: shape=(30212,), dtype=int64, numpy=array([0, 1, 3, ..., 4, 4, 2])>"
      ]
     },
     "execution_count": 86,
     "metadata": {},
     "output_type": "execute_result"
    }
   ],
   "source": [
    "\n",
    "# Turn prediction probabilities into prediction classes\n",
    "model_4_preds = tf.argmax(model_4_pred_probs, axis=1)\n",
    "model_4_preds"
   ]
  },
  {
   "cell_type": "code",
   "execution_count": 87,
   "id": "164f1629",
   "metadata": {},
   "outputs": [
    {
     "data": {
      "text/plain": [
       "{'accuracy': 72.97100489871575,\n",
       " 'precision': 0.7348610861563599,\n",
       " 'recall': 0.7297100489871574,\n",
       " 'f1': 0.7287623441104054}"
      ]
     },
     "execution_count": 87,
     "metadata": {},
     "output_type": "execute_result"
    }
   ],
   "source": [
    "# Get results of token-char-hybrid model\n",
    "model_4_results = calculate_results(y_true=val_labels_encoded,\n",
    "                                    y_pred=model_4_preds)\n",
    "model_4_results"
   ]
  },
  {
   "cell_type": "markdown",
   "id": "34567e47",
   "metadata": {},
   "source": [
    "## Model 5: Transfer Learning with pretrained token embeddings + character embeddings + positional embeddings\n",
    "\n",
    "It seems like combining token embeddings and character embeddings gave our model a little performance boost.\n",
    "\n",
    "But there's one more piece of the puzzle we can add in.\n",
    "\n",
    "What if we engineered our own features into the model?\n",
    "\n",
    "Meaning, what if we took our own knowledge about the data and encoded it in a numerical way to give our model more information about our samples?\n",
    "\n",
    "The process of applying your own knowledge to build features as input to a model is called **feature engineering**.\n",
    "\n",
    "Can you think of something important about the sequences we're trying to classify?\n",
    "\n",
    "If you were to look at an abstract, would you expect the sentences to appear in order? Or does it make sense if they were to appear sequentially? For example, sequences labelled CONCLUSIONS at the beggining and sequences labelled OBJECTIVE at the end?\n",
    "\n",
    "Abstracts typically come in a sequential order, such as:\n",
    "\n",
    "* `OBJECTIVE` ...\n",
    "* `METHODS` ...\n",
    "* `METHODS` ...\n",
    "* `METHODS` ...\n",
    "* `RESULTS` ...\n",
    "* `CONCLUSIONS` ...\n",
    "\n",
    "\n",
    "Or\n",
    "\n",
    "* `BACKGROUND` ...\n",
    "* `OBJECTIVE` ...\n",
    "* `METHODS`...\n",
    "* `METHODS` ...\n",
    "* `RESULTS` ...\n",
    "* `RESULTS` ...\n",
    "* `CONCLUSIONS` ...\n",
    "* `CONCLUSIONS` ...\n",
    "\n",
    "Of course, we can't engineer the sequence labels themselves into the training data (we don't have these at test time), but we can encode the order of a set of sequences in an abstract.\n",
    "\n",
    "For example,\n",
    "\n",
    "* `Sentence 1 of 10` ...\n",
    "* `Sentence 2 of 10` ...\n",
    "* `Sentence 3 of 10` ...\n",
    "* `Sentence 4 of 10` ...\n",
    "...\n",
    "You might've noticed this when we created our `preprocess_text_with_line_numbers()` function. When we read in a text file of abstracts, we counted the number of lines in an abstract as well as the number of each line itself.\n",
    "\n",
    "Doing this led to the \"`line_number`\" and \"`total_lines`\" columns of our DataFrames.\n",
    "\n",
    "\n",
    "\n"
   ]
  },
  {
   "cell_type": "code",
   "execution_count": 88,
   "id": "904fe7ce",
   "metadata": {},
   "outputs": [
    {
     "data": {
      "text/html": [
       "<div>\n",
       "<style scoped>\n",
       "    .dataframe tbody tr th:only-of-type {\n",
       "        vertical-align: middle;\n",
       "    }\n",
       "\n",
       "    .dataframe tbody tr th {\n",
       "        vertical-align: top;\n",
       "    }\n",
       "\n",
       "    .dataframe thead th {\n",
       "        text-align: right;\n",
       "    }\n",
       "</style>\n",
       "<table border=\"1\" class=\"dataframe\">\n",
       "  <thead>\n",
       "    <tr style=\"text-align: right;\">\n",
       "      <th></th>\n",
       "      <th>target</th>\n",
       "      <th>text</th>\n",
       "      <th>line_number</th>\n",
       "      <th>total_lines</th>\n",
       "    </tr>\n",
       "  </thead>\n",
       "  <tbody>\n",
       "    <tr>\n",
       "      <th>0</th>\n",
       "      <td>OBJECTIVE</td>\n",
       "      <td>to investigate the efficacy of @ weeks of dail...</td>\n",
       "      <td>0</td>\n",
       "      <td>11</td>\n",
       "    </tr>\n",
       "    <tr>\n",
       "      <th>1</th>\n",
       "      <td>METHODS</td>\n",
       "      <td>a total of @ patients with primary knee oa wer...</td>\n",
       "      <td>1</td>\n",
       "      <td>11</td>\n",
       "    </tr>\n",
       "    <tr>\n",
       "      <th>2</th>\n",
       "      <td>METHODS</td>\n",
       "      <td>outcome measures included pain reduction and i...</td>\n",
       "      <td>2</td>\n",
       "      <td>11</td>\n",
       "    </tr>\n",
       "    <tr>\n",
       "      <th>3</th>\n",
       "      <td>METHODS</td>\n",
       "      <td>pain was assessed using the visual analog pain...</td>\n",
       "      <td>3</td>\n",
       "      <td>11</td>\n",
       "    </tr>\n",
       "    <tr>\n",
       "      <th>4</th>\n",
       "      <td>METHODS</td>\n",
       "      <td>secondary outcome measures included the wester...</td>\n",
       "      <td>4</td>\n",
       "      <td>11</td>\n",
       "    </tr>\n",
       "  </tbody>\n",
       "</table>\n",
       "</div>"
      ],
      "text/plain": [
       "      target                                               text  line_number  \\\n",
       "0  OBJECTIVE  to investigate the efficacy of @ weeks of dail...            0   \n",
       "1    METHODS  a total of @ patients with primary knee oa wer...            1   \n",
       "2    METHODS  outcome measures included pain reduction and i...            2   \n",
       "3    METHODS  pain was assessed using the visual analog pain...            3   \n",
       "4    METHODS  secondary outcome measures included the wester...            4   \n",
       "\n",
       "   total_lines  \n",
       "0           11  \n",
       "1           11  \n",
       "2           11  \n",
       "3           11  \n",
       "4           11  "
      ]
     },
     "execution_count": 88,
     "metadata": {},
     "output_type": "execute_result"
    }
   ],
   "source": [
    "# Inspect training dataframe\n",
    "train_df.head()"
   ]
  },
  {
   "cell_type": "markdown",
   "id": "b6c06a76",
   "metadata": {},
   "source": [
    "The \"`line_number`\" and \"`total_lines`\" columns are features which didn't necessarily come with the training data but can be passed to our model as a positional embedding. In other words, the positional embedding is where the sentence appears in an abstract.\n",
    "\n",
    "We can use these features because they will be available at test time."
   ]
  },
  {
   "cell_type": "markdown",
   "id": "b0378357",
   "metadata": {},
   "source": [
    "Meaning, if we were to predict the labels of sequences in an abstract our model had never seen, we could count the number of lines and the track the position of each individual line and pass it to our model.\n",
    "\n",
    "🛠 **Exercise**: Another way of creating our positional embedding feature would be to combine the \"`line_number`\" and \"`total_lines`\" columns into one, for example a \"`line_position`\" column may contain values like 1_of_11, 2_of_11, etc. Where 1_of_11 would be the first line in an abstract 11 sentences long. After going through the following steps, you might want to revisit this positional embedding stage and see how a combined column of \"`line_position`\" goes against two separate columns."
   ]
  },
  {
   "cell_type": "markdown",
   "id": "de405e4c",
   "metadata": {},
   "source": [
    "## Create positional embeddings\n",
    "\n",
    "Okay, enough talk about positional embeddings, let's create them.\n",
    "\n",
    "Since our \"`line_number`\" and \"`total_line`\" columns are already numerical, we could pass them as they are to our model.\n",
    "\n",
    "But to avoid our model thinking a line with \"`line_number\"=5` is five times greater than a line with \"`line_number\"=1`, we'll use one-hot-encoding to encode our \"`line_number`\" and \"`total_lines`\" features.\n",
    "\n",
    "To do this, we can use the `tf.one_hot` utility.\n",
    "\n",
    "`tf.one_hot` returns a one-hot-encoded tensor. It accepts an array (or tensor) as input and the depth parameter determines the dimension of the returned tensor.\n",
    "\n",
    "To figure out what we should set the depth parameter to, let's investigate the distribution of the \"`line_number`\" column.\n",
    "\n",
    "🔑 Note: When it comes to one-hot-encoding our features, Scikit-Learn's `OneHotEncoder class` is another viable option here."
   ]
  },
  {
   "cell_type": "code",
   "execution_count": 89,
   "id": "b151bea2",
   "metadata": {},
   "outputs": [
    {
     "data": {
      "text/plain": [
       "0     15000\n",
       "1     15000\n",
       "2     15000\n",
       "3     15000\n",
       "4     14992\n",
       "5     14949\n",
       "6     14758\n",
       "7     14279\n",
       "8     13346\n",
       "9     11981\n",
       "10    10041\n",
       "11     7892\n",
       "12     5853\n",
       "13     4152\n",
       "14     2835\n",
       "15     1861\n",
       "16     1188\n",
       "17      751\n",
       "18      462\n",
       "19      286\n",
       "20      162\n",
       "21      101\n",
       "22       66\n",
       "23       33\n",
       "24       22\n",
       "25       14\n",
       "26        7\n",
       "27        4\n",
       "28        3\n",
       "29        1\n",
       "30        1\n",
       "Name: line_number, dtype: int64"
      ]
     },
     "execution_count": 89,
     "metadata": {},
     "output_type": "execute_result"
    }
   ],
   "source": [
    "# How many different line numbers are there?\n",
    "train_df[\"line_number\"].value_counts()"
   ]
  },
  {
   "cell_type": "code",
   "execution_count": 90,
   "id": "eecdec00",
   "metadata": {},
   "outputs": [
    {
     "data": {
      "text/plain": [
       "<AxesSubplot:ylabel='Frequency'>"
      ]
     },
     "execution_count": 90,
     "metadata": {},
     "output_type": "execute_result"
    },
    {
     "data": {
      "image/png": "[encoded data removed]",
      "text/plain": [
       "<Figure size 640x480 with 1 Axes>"
      ]
     },
     "metadata": {},
     "output_type": "display_data"
    }
   ],
   "source": [
    "# Check the distribution of \"line_number\" column\n",
    "train_df.line_number.plot.hist()"
   ]
  },
  {
   "cell_type": "markdown",
   "id": "0aec4dce",
   "metadata": {},
   "source": [
    "Looking at the distribution of the \"`line_number`\" column, it looks like the majority of lines have a position of 15 or less.\n",
    "\n",
    "Knowing this, let's set the depth parameter of `tf.one_hot` to 15."
   ]
  },
  {
   "cell_type": "code",
   "execution_count": 91,
   "id": "e4cfdda5",
   "metadata": {},
   "outputs": [],
   "source": [
    "# Use TensorFlow to create one-hot-encoded tensors of our \"line_number\" column \n",
    "train_line_numbers_one_hot = tf.one_hot(train_df[\"line_number\"].to_numpy(), depth=15)\n",
    "val_line_numbers_one_hot = tf.one_hot(val_df[\"line_number\"].to_numpy(), depth=15)\n",
    "test_line_numbers_one_hot = tf.one_hot(test_df[\"line_number\"].to_numpy(), depth=15)"
   ]
  },
  {
   "cell_type": "markdown",
   "id": "475bb576",
   "metadata": {},
   "source": [
    "Setting the depth parameter of `tf.one_hot` to 15 means any sample with a \"`line_number`\" value of over 15 gets set to a tensor of all 0's, where as any sample with a \"`line_number`\" of under 15 gets turned into a tensor of all 0's but with a 1 at the index equal to the \"line_number\" value.\n",
    "\n",
    "🔑 Note: We could create a one-hot tensor which has room for all of the potential values of \"`line_number`\" (depth=30), however, this would end up in a tensor of double the size of our current one (depth=15) where the vast majority of values are 0. Plus, only ~2,000/180,000 samples have a \"line_number\" value of over 15. So we would not be gaining much information about our data for doubling our feature space. This kind of problem is called the curse of dimensionality. However, since this we're working with deep models, it might be worth trying to throw as much information at the model as possible and seeing what happens. I'll leave exploring values of the depth parameter as an extension."
   ]
  },
  {
   "cell_type": "code",
   "execution_count": 92,
   "id": "2745aa1f",
   "metadata": {},
   "outputs": [
    {
     "data": {
      "text/plain": [
       "(TensorShape([180040, 15]),\n",
       " <tf.Tensor: shape=(20, 15), dtype=float32, numpy=\n",
       " array([[1., 0., 0., 0., 0., 0., 0., 0., 0., 0., 0., 0., 0., 0., 0.],\n",
       "        [0., 1., 0., 0., 0., 0., 0., 0., 0., 0., 0., 0., 0., 0., 0.],\n",
       "        [0., 0., 1., 0., 0., 0., 0., 0., 0., 0., 0., 0., 0., 0., 0.],\n",
       "        [0., 0., 0., 1., 0., 0., 0., 0., 0., 0., 0., 0., 0., 0., 0.],\n",
       "        [0., 0., 0., 0., 1., 0., 0., 0., 0., 0., 0., 0., 0., 0., 0.],\n",
       "        [0., 0., 0., 0., 0., 1., 0., 0., 0., 0., 0., 0., 0., 0., 0.],\n",
       "        [0., 0., 0., 0., 0., 0., 1., 0., 0., 0., 0., 0., 0., 0., 0.],\n",
       "        [0., 0., 0., 0., 0., 0., 0., 1., 0., 0., 0., 0., 0., 0., 0.],\n",
       "        [0., 0., 0., 0., 0., 0., 0., 0., 1., 0., 0., 0., 0., 0., 0.],\n",
       "        [0., 0., 0., 0., 0., 0., 0., 0., 0., 1., 0., 0., 0., 0., 0.],\n",
       "        [0., 0., 0., 0., 0., 0., 0., 0., 0., 0., 1., 0., 0., 0., 0.],\n",
       "        [0., 0., 0., 0., 0., 0., 0., 0., 0., 0., 0., 1., 0., 0., 0.],\n",
       "        [1., 0., 0., 0., 0., 0., 0., 0., 0., 0., 0., 0., 0., 0., 0.],\n",
       "        [0., 1., 0., 0., 0., 0., 0., 0., 0., 0., 0., 0., 0., 0., 0.],\n",
       "        [0., 0., 1., 0., 0., 0., 0., 0., 0., 0., 0., 0., 0., 0., 0.],\n",
       "        [0., 0., 0., 1., 0., 0., 0., 0., 0., 0., 0., 0., 0., 0., 0.],\n",
       "        [0., 0., 0., 0., 1., 0., 0., 0., 0., 0., 0., 0., 0., 0., 0.],\n",
       "        [0., 0., 0., 0., 0., 1., 0., 0., 0., 0., 0., 0., 0., 0., 0.],\n",
       "        [0., 0., 0., 0., 0., 0., 1., 0., 0., 0., 0., 0., 0., 0., 0.],\n",
       "        [0., 0., 0., 0., 0., 0., 0., 1., 0., 0., 0., 0., 0., 0., 0.]],\n",
       "       dtype=float32)>)"
      ]
     },
     "execution_count": 92,
     "metadata": {},
     "output_type": "execute_result"
    }
   ],
   "source": [
    "# Check one-hot encoded \"line_number\" feature samples\n",
    "train_line_numbers_one_hot.shape, train_line_numbers_one_hot[:20]\n",
    "     "
   ]
  },
  {
   "cell_type": "markdown",
   "id": "5d0a9db7",
   "metadata": {},
   "source": [
    "We can do the same as we've done for our \"`line_number`\" column witht he \"`total_lines`\" column. First, let's find an appropriate value for the depth parameter of `tf.one_hot`."
   ]
  },
  {
   "cell_type": "code",
   "execution_count": 93,
   "id": "bb1effe0",
   "metadata": {},
   "outputs": [
    {
     "data": {
      "text/plain": [
       "11    24468\n",
       "10    23639\n",
       "12    22113\n",
       "9     19400\n",
       "13    18438\n",
       "14    14610\n",
       "8     12285\n",
       "15    10768\n",
       "7      7464\n",
       "16     7429\n",
       "17     5202\n",
       "6      3353\n",
       "18     3344\n",
       "19     2480\n",
       "20     1281\n",
       "5      1146\n",
       "21      770\n",
       "22      759\n",
       "23      264\n",
       "4       215\n",
       "24      200\n",
       "25      182\n",
       "26       81\n",
       "28       58\n",
       "3        32\n",
       "30       31\n",
       "27       28\n",
       "Name: total_lines, dtype: int64"
      ]
     },
     "execution_count": 93,
     "metadata": {},
     "output_type": "execute_result"
    }
   ],
   "source": [
    "# How many different numbers of lines are there?\n",
    "train_df[\"total_lines\"].value_counts()"
   ]
  },
  {
   "cell_type": "code",
   "execution_count": 94,
   "id": "87d24744",
   "metadata": {},
   "outputs": [
    {
     "data": {
      "image/png": "[encoded data removed]",
      "text/plain": [
       "<Figure size 640x480 with 1 Axes>"
      ]
     },
     "metadata": {},
     "output_type": "display_data"
    }
   ],
   "source": [
    "# Check the distribution of total lines\n",
    "train_df.total_lines.plot.hist();"
   ]
  },
  {
   "cell_type": "markdown",
   "id": "d6e721b2",
   "metadata": {},
   "source": [
    "Looking at the distribution of our \"`total_lines`\" column, a value of 20 looks like it covers the majority of samples.\n",
    "We can confirm this with `np.percentile()`."
   ]
  },
  {
   "cell_type": "code",
   "execution_count": 95,
   "id": "1d4152ff",
   "metadata": {},
   "outputs": [
    {
     "data": {
      "text/plain": [
       "20.0"
      ]
     },
     "execution_count": 95,
     "metadata": {},
     "output_type": "execute_result"
    }
   ],
   "source": [
    "# Check the coverage of a \"total_lines\" value of 20\n",
    "np.percentile(train_df.total_lines, 98) # a value of 20 covers 98% of samples"
   ]
  },
  {
   "cell_type": "markdown",
   "id": "35fa5c8c",
   "metadata": {},
   "source": [
    "Let's one-hot-encode our \"`total_lines`\" column just as we did our \"`line_number`\" column."
   ]
  },
  {
   "cell_type": "code",
   "execution_count": 96,
   "id": "6e3f38ff",
   "metadata": {},
   "outputs": [
    {
     "data": {
      "text/plain": [
       "(TensorShape([180040, 20]),\n",
       " <tf.Tensor: shape=(10, 20), dtype=float32, numpy=\n",
       " array([[0., 0., 0., 0., 0., 0., 0., 0., 0., 0., 0., 1., 0., 0., 0., 0.,\n",
       "         0., 0., 0., 0.],\n",
       "        [0., 0., 0., 0., 0., 0., 0., 0., 0., 0., 0., 1., 0., 0., 0., 0.,\n",
       "         0., 0., 0., 0.],\n",
       "        [0., 0., 0., 0., 0., 0., 0., 0., 0., 0., 0., 1., 0., 0., 0., 0.,\n",
       "         0., 0., 0., 0.],\n",
       "        [0., 0., 0., 0., 0., 0., 0., 0., 0., 0., 0., 1., 0., 0., 0., 0.,\n",
       "         0., 0., 0., 0.],\n",
       "        [0., 0., 0., 0., 0., 0., 0., 0., 0., 0., 0., 1., 0., 0., 0., 0.,\n",
       "         0., 0., 0., 0.],\n",
       "        [0., 0., 0., 0., 0., 0., 0., 0., 0., 0., 0., 1., 0., 0., 0., 0.,\n",
       "         0., 0., 0., 0.],\n",
       "        [0., 0., 0., 0., 0., 0., 0., 0., 0., 0., 0., 1., 0., 0., 0., 0.,\n",
       "         0., 0., 0., 0.],\n",
       "        [0., 0., 0., 0., 0., 0., 0., 0., 0., 0., 0., 1., 0., 0., 0., 0.,\n",
       "         0., 0., 0., 0.],\n",
       "        [0., 0., 0., 0., 0., 0., 0., 0., 0., 0., 0., 1., 0., 0., 0., 0.,\n",
       "         0., 0., 0., 0.],\n",
       "        [0., 0., 0., 0., 0., 0., 0., 0., 0., 0., 0., 1., 0., 0., 0., 0.,\n",
       "         0., 0., 0., 0.]], dtype=float32)>)"
      ]
     },
     "execution_count": 96,
     "metadata": {},
     "output_type": "execute_result"
    }
   ],
   "source": [
    "# Use TensorFlow to create one-hot-encoded tensors of our \"total_lines\" column \n",
    "train_total_lines_one_hot = tf.one_hot(train_df[\"total_lines\"].to_numpy(), depth=20)\n",
    "val_total_lines_one_hot = tf.one_hot(val_df[\"total_lines\"].to_numpy(), depth=20)\n",
    "test_total_lines_one_hot = tf.one_hot(test_df[\"total_lines\"].to_numpy(), depth=20)\n",
    "\n",
    "# Check shape and samples of total lines one-hot tensor\n",
    "train_total_lines_one_hot.shape, train_total_lines_one_hot[:10]"
   ]
  },
  {
   "cell_type": "markdown",
   "id": "f3aefe63",
   "metadata": {},
   "source": [
    "## Building a tribrid embedding model\n",
    "\n",
    "Woohoo! Positional embedding tensors ready.\n",
    "\n",
    "It's time to build the biggest model we've built yet. One which incorporates token embeddings, character embeddings and our newly crafted positional embeddings.\n",
    "\n",
    "We'll be venturing into uncovered territory but there will be nothing here you haven't practiced before.\n",
    "\n",
    "More specifically we're going to go through the following steps:\n",
    "\n",
    "1. Create a token-level model (similar to `model_1`)\n",
    "2. Create a character-level model (similar to `model_3` with a slight modification to reflect the paper)\n",
    "3. Create a \"`line_number`\" model (takes in one-hot-encoded \"`line_number`\" tensor and passes it through a non-linear layer)\n",
    "4. Create a \"`total_lines`\" model (takes in one-hot-encoded \"`total_lines`\" tensor and passes it through a non-linear layer)\n",
    "5. Combine (using `layers.Concatenate`) the outputs of 1 and 2 into a token-character-hybrid embedding and pass it series of output to Figure 1 and section 4.2 of [*Neural Networks for Joint Sentence Classification\n",
    "in Medical Paper Abstracts*](https://arxiv.org/pdf/1612.05251.pdf) \n",
    "6. Combine (using `layers.Concatenate`) the outputs of 3, 4 and 5 into a token-character-positional tribrid embedding \n",
    "7. Create an output layer to accept the tribrid embedding and output predicted label probabilities 8. Combine the inputs of 1, 2, 3, 4 and outputs of 7 into a `tf.keras.Model`\n",
    "\n",
    "Woah! That's alot... but nothing we're not capable of. Let's code it."
   ]
  },
  {
   "cell_type": "code",
   "execution_count": 97,
   "id": "9e5ed0eb",
   "metadata": {},
   "outputs": [],
   "source": [
    "# 1. Token inputs\n",
    "token_inputs = layers.Input(shape=[], dtype=\"string\", name=\"token_inputs\")\n",
    "token_embeddings = tf_hub_embedding_layer(token_inputs)\n",
    "token_outputs = layers.Dense(128, activation=\"relu\")(token_embeddings)\n",
    "token_model = tf.keras.Model(inputs=token_inputs,\n",
    "                             outputs=token_outputs)\n",
    "\n",
    "# 2. Char inputs\n",
    "char_inputs = layers.Input(shape=(1,), dtype=\"string\", name=\"char_inputs\")\n",
    "char_vectors = char_vectorizer(char_inputs)\n",
    "char_embeddings = char_embed(char_vectors)\n",
    "char_bi_lstm = layers.Bidirectional(layers.LSTM(32))(char_embeddings)\n",
    "char_model = tf.keras.Model(inputs=char_inputs,\n",
    "                            outputs=char_bi_lstm)\n",
    "\n",
    "# 3. Line numbers inputs\n",
    "line_number_inputs = layers.Input(shape=(15,), dtype=tf.int32, name=\"line_number_input\")\n",
    "x = layers.Dense(32, activation=\"relu\")(line_number_inputs)\n",
    "line_number_model = tf.keras.Model(inputs=line_number_inputs,\n",
    "                                   outputs=x)\n",
    "\n",
    "# 4. Total lines inputs\n",
    "total_lines_inputs = layers.Input(shape=(20,), dtype=tf.int32, name=\"total_lines_input\")\n",
    "y = layers.Dense(32, activation=\"relu\")(total_lines_inputs)\n",
    "total_line_model = tf.keras.Model(inputs=total_lines_inputs,\n",
    "                                  outputs=y)\n",
    "# 5. Combine token and char embeddings into a hybrid embedding\n",
    "combined_embeddings = layers.Concatenate(name=\"token_char_hybrid_embedding\")([token_model.output, \n",
    "                                                                              char_model.output])\n",
    "z = layers.Dense(256, activation=\"relu\")(combined_embeddings)\n",
    "z = layers.Dropout(0.5)(z)\n",
    "\n",
    "# 6. Combine positional embeddings with combined token and char embeddings into a tribrid embedding\n",
    "z = layers.Concatenate(name=\"token_char_positional_embedding\")([line_number_model.output,\n",
    "                                                                total_line_model.output,\n",
    "                                                                z])\n",
    "\n",
    "# 7. Create output layer\n",
    "output_layer = layers.Dense(5, activation=\"softmax\", name=\"output_layer\")(z)\n",
    "\n",
    "# 8. Put together model\n",
    "model_5 = tf.keras.Model(inputs=[line_number_model.input,\n",
    "                                 total_line_model.input,\n",
    "                                 token_model.input, \n",
    "                                 char_model.input],\n",
    "                         outputs=output_layer)"
   ]
  },
  {
   "cell_type": "code",
   "execution_count": 98,
   "id": "80ecf63b",
   "metadata": {},
   "outputs": [
    {
     "name": "stdout",
     "output_type": "stream",
     "text": [
      "Model: \"model_8\"\n",
      "__________________________________________________________________________________________________\n",
      "Layer (type)                    Output Shape         Param #     Connected to                     \n",
      "==================================================================================================\n",
      "char_inputs (InputLayer)        [(None, 1)]          0                                            \n",
      "__________________________________________________________________________________________________\n",
      "token_inputs (InputLayer)       [(None,)]            0                                            \n",
      "__________________________________________________________________________________________________\n",
      "char_vectorizer (TextVectorizat (None, 290)          0           char_inputs[0][0]                \n",
      "__________________________________________________________________________________________________\n",
      "universal_sentence_encoder (Ker (None, 512)          256797824   token_inputs[0][0]               \n",
      "__________________________________________________________________________________________________\n",
      "char_embed (Embedding)          (None, 290, 25)      1750        char_vectorizer[2][0]            \n",
      "__________________________________________________________________________________________________\n",
      "dense_7 (Dense)                 (None, 128)          65664       universal_sentence_encoder[2][0] \n",
      "__________________________________________________________________________________________________\n",
      "bidirectional_1 (Bidirectional) (None, 64)           14848       char_embed[2][0]                 \n",
      "__________________________________________________________________________________________________\n",
      "token_char_hybrid_embedding (Co (None, 192)          0           dense_7[0][0]                    \n",
      "                                                                 bidirectional_1[0][0]            \n",
      "__________________________________________________________________________________________________\n",
      "line_number_input (InputLayer)  [(None, 15)]         0                                            \n",
      "__________________________________________________________________________________________________\n",
      "total_lines_input (InputLayer)  [(None, 20)]         0                                            \n",
      "__________________________________________________________________________________________________\n",
      "dense_10 (Dense)                (None, 256)          49408       token_char_hybrid_embedding[0][0]\n",
      "__________________________________________________________________________________________________\n",
      "dense_8 (Dense)                 (None, 32)           512         line_number_input[0][0]          \n",
      "__________________________________________________________________________________________________\n",
      "dense_9 (Dense)                 (None, 32)           672         total_lines_input[0][0]          \n",
      "__________________________________________________________________________________________________\n",
      "dropout_2 (Dropout)             (None, 256)          0           dense_10[0][0]                   \n",
      "__________________________________________________________________________________________________\n",
      "token_char_positional_embedding (None, 320)          0           dense_8[0][0]                    \n",
      "                                                                 dense_9[0][0]                    \n",
      "                                                                 dropout_2[0][0]                  \n",
      "__________________________________________________________________________________________________\n",
      "output_layer (Dense)            (None, 5)            1605        token_char_positional_embedding[0\n",
      "==================================================================================================\n",
      "Total params: 256,932,283\n",
      "Trainable params: 134,459\n",
      "Non-trainable params: 256,797,824\n",
      "__________________________________________________________________________________________________\n"
     ]
    }
   ],
   "source": [
    "# Get a summary of our token, char and positional embedding model\n",
    "model_5.summary()"
   ]
  },
  {
   "cell_type": "code",
   "execution_count": 99,
   "id": "b7af4c33",
   "metadata": {},
   "outputs": [
    {
     "data": {
      "image/png": "[encoded data removed]",
      "text/plain": [
       "<IPython.core.display.Image object>"
      ]
     },
     "execution_count": 99,
     "metadata": {},
     "output_type": "execute_result"
    }
   ],
   "source": [
    "# Plot the token, char, positional embedding model\n",
    "from tensorflow.keras.utils import plot_model\n",
    "plot_model(model_5)"
   ]
  },
  {
   "cell_type": "markdown",
   "id": "2e362af6",
   "metadata": {},
   "source": [
    "Visualizing the model makes it much easier to understand.\n",
    "\n",
    "Essentially what we're doing is trying to encode as much information about our sequences as possible into various embeddings (the inputs to our model) so our model has the best chance to figure out what label belongs to a sequence (the outputs of our model).\n",
    "\n",
    "You'll notice our model is looking very similar to the model shown in Figure 1 of [Neural Networks for Joint Sentence Classification in Medical Paper Abstracts](https://arxiv.org/pdf/1612.05251.pdf). However, a few differences still remain:\n",
    "\n",
    "* We're using pretrained TensorFlow Hub token embeddings instead of GloVe emebddings.\n",
    "* We're using a Dense layer on top of our token-character hybrid embeddings instead of a bi-LSTM layer.\n",
    "* Section 3.1.3 of the paper mentions a label sequence optimization layer (which helps to make sure sequence labels come out in a respectable order) but it isn't shown in Figure 1. To makeup for the lack of this layer in our model, we've created the positional embeddings layers.\n",
    "* Section 4.2 of the paper mentions the token and character embeddings are updated during training, our pretrained TensorFlow Hub embeddings remain frozen.\n",
    "* The paper uses the SGD optimizer, we're going to stick with Adam.\n",
    "\n",
    "All of the differences above are potential extensions of this project."
   ]
  },
  {
   "cell_type": "code",
   "execution_count": 100,
   "id": "407e75e1",
   "metadata": {},
   "outputs": [
    {
     "name": "stdout",
     "output_type": "stream",
     "text": [
      "<tensorflow.python.keras.engine.input_layer.InputLayer object at 0x2bf28ebe0> True\n",
      "<tensorflow.python.keras.engine.input_layer.InputLayer object at 0x2bf28cdc0> True\n",
      "<tensorflow.python.keras.layers.preprocessing.text_vectorization.TextVectorization object at 0x1797afa90> True\n",
      "<tensorflow_hub.keras_layer.KerasLayer object at 0x17a9b0fd0> False\n",
      "<tensorflow.python.keras.layers.embeddings.Embedding object at 0x379345850> True\n",
      "<tensorflow.python.keras.layers.core.Dense object at 0x2bf28cbe0> True\n",
      "<tensorflow.python.keras.layers.wrappers.Bidirectional object at 0x2bf911dc0> True\n",
      "<tensorflow.python.keras.layers.merge.Concatenate object at 0x2ba38be80> True\n",
      "<tensorflow.python.keras.engine.input_layer.InputLayer object at 0x2bf28ed90> True\n",
      "<tensorflow.python.keras.engine.input_layer.InputLayer object at 0x2bf9bfbe0> True\n",
      "<tensorflow.python.keras.layers.core.Dense object at 0x2bf2ba820> True\n",
      "<tensorflow.python.keras.layers.core.Dense object at 0x2bfdd6ee0> True\n",
      "<tensorflow.python.keras.layers.core.Dense object at 0x2ba52b610> True\n",
      "<tensorflow.python.keras.layers.core.Dropout object at 0x2d2610df0> True\n",
      "<tensorflow.python.keras.layers.merge.Concatenate object at 0x2d26164f0> True\n",
      "<tensorflow.python.keras.layers.core.Dense object at 0x2d261de50> True\n"
     ]
    }
   ],
   "source": [
    "# Check which layers of our model are trainable or not\n",
    "for layer in model_5.layers:\n",
    "  print(layer, layer.trainable)"
   ]
  },
  {
   "cell_type": "markdown",
   "id": "e4aef6c9",
   "metadata": {},
   "source": [
    "Now our model is constructed, let's compile it.\n",
    "\n",
    "This time, we're going to introduce a new parameter to our loss function called label_smoothing. Label smoothing helps to regularize our model (prevent overfitting) by making sure it doesn't get too focused on applying one particular label to a sample.\n",
    "\n",
    "For example, instead of having an output prediction of:\n",
    "\n",
    "[0.0, 0.0, 1.0, 0.0, 0.0] for a sample (the model is very confident the right label is index 2).\n",
    "It's predictions will get smoothed to be something like:\n",
    "\n",
    "[0.01, 0.01, 0.096, 0.01, 0.01] giving a small activation to each of the other labels, in turn, hopefully improving generalization.\n",
    "📖 Resource: For more on label smoothing, see the great blog post by PyImageSearch, [Label smoothing with Keras, TensorFlow, and Deep Learning](https://www.pyimagesearch.com/2019/12/30/label-smoothing-with-keras-tensorflow-and-deep-learning/)."
   ]
  },
  {
   "cell_type": "code",
   "execution_count": 101,
   "id": "29f2742e",
   "metadata": {},
   "outputs": [],
   "source": [
    "# Compile token, char, positional embedding model\n",
    "model_5.compile(loss=tf.keras.losses.CategoricalCrossentropy(label_smoothing=0.2), # add label smoothing (examples which are really confident get smoothed a little)\n",
    "                optimizer=tf.keras.optimizers.Adam(),\n",
    "                metrics=[\"accuracy\"])"
   ]
  },
  {
   "cell_type": "markdown",
   "id": "e1076df7",
   "metadata": {},
   "source": [
    "## Create tribrid embedding datasets and fit tribrid model\n",
    "\n",
    "Model compiled!\n",
    "\n",
    "Again, to keep our experiments swift, let's fit on 20,000 examples for 3 epochs.\n",
    "\n",
    "This time our model requires four feature inputs:\n",
    "\n",
    "1. Train line numbers one-hot tensor (`train_line_numbers_one_hot`)\n",
    "2. Train total lines one-hot tensor (`train_total_lines_one_hot`)\n",
    "3. Token-level sequences tensor (`train_sentences`)\n",
    "4. Char-level sequences tensor (`train_chars`)\n",
    "5. We can pass these as tuples to our `tf.data.Dataset.from_tensor_slices()` method to create appropriately shaped and batched `PrefetchedDataset's`."
   ]
  },
  {
   "cell_type": "code",
   "execution_count": 102,
   "id": "c061e210",
   "metadata": {},
   "outputs": [
    {
     "data": {
      "text/plain": [
       "(<PrefetchDataset shapes: (((None, 15), (None, 20), (None,), (None,)), (None, 5)), types: ((tf.float32, tf.float32, tf.string, tf.string), tf.float64)>,\n",
       " <PrefetchDataset shapes: (((None, 15), (None, 20), (None,), (None,)), (None, 5)), types: ((tf.float32, tf.float32, tf.string, tf.string), tf.float64)>)"
      ]
     },
     "execution_count": 102,
     "metadata": {},
     "output_type": "execute_result"
    }
   ],
   "source": [
    "# Create training and validation datasets (all four kinds of inputs)\n",
    "train_pos_char_token_data = tf.data.Dataset.from_tensor_slices((train_line_numbers_one_hot, # line numbers\n",
    "                                                                train_total_lines_one_hot, # total lines\n",
    "                                                                train_sentences, # train tokens\n",
    "                                                                train_chars)) # train chars\n",
    "train_pos_char_token_labels = tf.data.Dataset.from_tensor_slices(train_labels_one_hot) # train labels\n",
    "train_pos_char_token_dataset = tf.data.Dataset.zip((train_pos_char_token_data, train_pos_char_token_labels)) # combine data and labels\n",
    "train_pos_char_token_dataset = train_pos_char_token_dataset.batch(32).prefetch(tf.data.AUTOTUNE) # turn into batches and prefetch appropriately\n",
    "\n",
    "# Validation dataset\n",
    "val_pos_char_token_data = tf.data.Dataset.from_tensor_slices((val_line_numbers_one_hot,\n",
    "                                                              val_total_lines_one_hot,\n",
    "                                                              val_sentences,\n",
    "                                                              val_chars))\n",
    "val_pos_char_token_labels = tf.data.Dataset.from_tensor_slices(val_labels_one_hot)\n",
    "val_pos_char_token_dataset = tf.data.Dataset.zip((val_pos_char_token_data, val_pos_char_token_labels))\n",
    "val_pos_char_token_dataset = val_pos_char_token_dataset.batch(32).prefetch(tf.data.AUTOTUNE) # turn into batches and prefetch appropriately\n",
    "\n",
    "# Check input shapes\n",
    "train_pos_char_token_dataset, val_pos_char_token_dataset"
   ]
  },
  {
   "cell_type": "code",
   "execution_count": 103,
   "id": "f27f79d1",
   "metadata": {},
   "outputs": [
    {
     "name": "stdout",
     "output_type": "stream",
     "text": [
      "Epoch 1/3\n"
     ]
    },
    {
     "name": "stderr",
     "output_type": "stream",
     "text": [
      "2022-12-16 01:22:00.504922: I tensorflow/core/grappler/optimizers/custom_graph_optimizer_registry.cc:112] Plugin optimizer for device_type GPU is enabled.\n",
      "2022-12-16 01:22:00.850400: I tensorflow/core/grappler/optimizers/custom_graph_optimizer_registry.cc:112] Plugin optimizer for device_type GPU is enabled.\n",
      "2022-12-16 01:22:00.878557: I tensorflow/core/grappler/optimizers/custom_graph_optimizer_registry.cc:112] Plugin optimizer for device_type GPU is enabled.\n",
      "2022-12-16 01:22:02.830756: I tensorflow/core/grappler/optimizers/custom_graph_optimizer_registry.cc:112] Plugin optimizer for device_type GPU is enabled.\n",
      "2022-12-16 01:22:02.845356: I tensorflow/core/grappler/optimizers/custom_graph_optimizer_registry.cc:112] Plugin optimizer for device_type GPU is enabled.\n"
     ]
    },
    {
     "name": "stdout",
     "output_type": "stream",
     "text": [
      "562/562 [==============================] - ETA: 0s - loss: 1.0990 - accuracy: 0.7185"
     ]
    },
    {
     "name": "stderr",
     "output_type": "stream",
     "text": [
      "2022-12-16 01:24:14.939362: I tensorflow/core/grappler/optimizers/custom_graph_optimizer_registry.cc:112] Plugin optimizer for device_type GPU is enabled.\n",
      "2022-12-16 01:24:15.126516: I tensorflow/core/grappler/optimizers/custom_graph_optimizer_registry.cc:112] Plugin optimizer for device_type GPU is enabled.\n",
      "2022-12-16 01:24:15.137523: I tensorflow/core/grappler/optimizers/custom_graph_optimizer_registry.cc:112] Plugin optimizer for device_type GPU is enabled.\n"
     ]
    },
    {
     "name": "stdout",
     "output_type": "stream",
     "text": [
      "562/562 [==============================] - 150s 256ms/step - loss: 1.0990 - accuracy: 0.7185 - val_loss: 0.9853 - val_accuracy: 0.8022\n",
      "Epoch 2/3\n",
      "562/562 [==============================] - 147s 262ms/step - loss: 0.9653 - accuracy: 0.8150 - val_loss: 0.9510 - val_accuracy: 0.8261\n",
      "Epoch 3/3\n",
      "562/562 [==============================] - 151s 268ms/step - loss: 0.9474 - accuracy: 0.8237 - val_loss: 0.9367 - val_accuracy: 0.8311\n"
     ]
    }
   ],
   "source": [
    "# Fit the token, char and positional embedding model\n",
    "history_model_5 = model_5.fit(train_pos_char_token_dataset,\n",
    "                              steps_per_epoch=int(0.1 * len(train_pos_char_token_dataset)),\n",
    "                              epochs=3,\n",
    "                              validation_data=val_pos_char_token_dataset,\n",
    "                              validation_steps=int(0.1 * len(val_pos_char_token_dataset)))"
   ]
  },
  {
   "cell_type": "markdown",
   "id": "961618d5",
   "metadata": {},
   "source": [
    "Tribrid model trained! Time to make some predictions with it and evaluate them just as we've done before."
   ]
  },
  {
   "cell_type": "code",
   "execution_count": 104,
   "id": "937a3419",
   "metadata": {},
   "outputs": [
    {
     "name": "stderr",
     "output_type": "stream",
     "text": [
      "2022-12-16 01:29:28.372274: I tensorflow/core/grappler/optimizers/custom_graph_optimizer_registry.cc:112] Plugin optimizer for device_type GPU is enabled.\n",
      "2022-12-16 01:29:28.535220: I tensorflow/core/grappler/optimizers/custom_graph_optimizer_registry.cc:112] Plugin optimizer for device_type GPU is enabled.\n",
      "2022-12-16 01:29:28.545334: I tensorflow/core/grappler/optimizers/custom_graph_optimizer_registry.cc:112] Plugin optimizer for device_type GPU is enabled.\n"
     ]
    },
    {
     "name": "stdout",
     "output_type": "stream",
     "text": [
      "945/945 [==============================] - 132s 138ms/step\n"
     ]
    },
    {
     "data": {
      "text/plain": [
       "array([[0.5210357 , 0.11114047, 0.00978261, 0.3407611 , 0.01728022],\n",
       "       [0.5666467 , 0.08320802, 0.03151236, 0.3107403 , 0.0078927 ],\n",
       "       [0.32496554, 0.09072078, 0.12945639, 0.40718973, 0.04766768],\n",
       "       ...,\n",
       "       [0.03786411, 0.10316583, 0.05592707, 0.02893311, 0.7741099 ],\n",
       "       [0.02653538, 0.3248449 , 0.08927557, 0.02286167, 0.5364825 ],\n",
       "       [0.17915332, 0.62095946, 0.09225943, 0.04230093, 0.06532691]],\n",
       "      dtype=float32)"
      ]
     },
     "execution_count": 104,
     "metadata": {},
     "output_type": "execute_result"
    }
   ],
   "source": [
    "# Make predictions with token-char-positional hybrid model\n",
    "model_5_pred_probs = model_5.predict(val_pos_char_token_dataset, verbose=1)\n",
    "model_5_pred_probs"
   ]
  },
  {
   "cell_type": "code",
   "execution_count": 105,
   "id": "163312d1",
   "metadata": {},
   "outputs": [
    {
     "data": {
      "text/plain": [
       "<tf.Tensor: shape=(30212,), dtype=int64, numpy=array([0, 0, 3, ..., 4, 4, 1])>"
      ]
     },
     "execution_count": 105,
     "metadata": {},
     "output_type": "execute_result"
    }
   ],
   "source": [
    "# Turn prediction probabilities into prediction classes\n",
    "model_5_preds = tf.argmax(model_5_pred_probs, axis=1)\n",
    "model_5_preds"
   ]
  },
  {
   "cell_type": "code",
   "execution_count": 106,
   "id": "62648eb9",
   "metadata": {},
   "outputs": [
    {
     "data": {
      "text/plain": [
       "{'accuracy': 83.11267046206805,\n",
       " 'precision': 0.8296152542494369,\n",
       " 'recall': 0.8311267046206805,\n",
       " 'f1': 0.8301686346171956}"
      ]
     },
     "execution_count": 106,
     "metadata": {},
     "output_type": "execute_result"
    }
   ],
   "source": [
    "# Calculate results of token-char-positional hybrid model\n",
    "model_5_results = calculate_results(y_true=val_labels_encoded,\n",
    "                                    y_pred=model_5_preds)\n",
    "model_5_results"
   ]
  },
  {
   "cell_type": "markdown",
   "id": "69a7c9e0",
   "metadata": {},
   "source": [
    "## Compare model results\n",
    "\n",
    "Far out, we've come a long way. From a baseline model to training a model containing three different kinds of embeddings.\n",
    "\n",
    "Now it's time to compare each model's performance against each other.\n",
    "\n",
    "We'll also be able to compare our model's to the [PubMed 200k RCT: a Dataset for Sequential Sentence Classification in Medical Abstracts paper](https://arxiv.org/pdf/1710.06071.pdf).\n",
    "\n",
    "Since all of our model results are in dictionaries, let's combine them into a pandas DataFrame to visualize them."
   ]
  },
  {
   "cell_type": "code",
   "execution_count": 107,
   "id": "ff2ad5fe",
   "metadata": {},
   "outputs": [
    {
     "data": {
      "text/html": [
       "<div>\n",
       "<style scoped>\n",
       "    .dataframe tbody tr th:only-of-type {\n",
       "        vertical-align: middle;\n",
       "    }\n",
       "\n",
       "    .dataframe tbody tr th {\n",
       "        vertical-align: top;\n",
       "    }\n",
       "\n",
       "    .dataframe thead th {\n",
       "        text-align: right;\n",
       "    }\n",
       "</style>\n",
       "<table border=\"1\" class=\"dataframe\">\n",
       "  <thead>\n",
       "    <tr style=\"text-align: right;\">\n",
       "      <th></th>\n",
       "      <th>accuracy</th>\n",
       "      <th>precision</th>\n",
       "      <th>recall</th>\n",
       "      <th>f1</th>\n",
       "    </tr>\n",
       "  </thead>\n",
       "  <tbody>\n",
       "    <tr>\n",
       "      <th>baseline</th>\n",
       "      <td>72.183238</td>\n",
       "      <td>0.718647</td>\n",
       "      <td>0.721832</td>\n",
       "      <td>0.698925</td>\n",
       "    </tr>\n",
       "    <tr>\n",
       "      <th>custom_token_embed_conv1d</th>\n",
       "      <td>78.647557</td>\n",
       "      <td>0.783647</td>\n",
       "      <td>0.786476</td>\n",
       "      <td>0.784148</td>\n",
       "    </tr>\n",
       "    <tr>\n",
       "      <th>pretrained_token_embed</th>\n",
       "      <td>71.345823</td>\n",
       "      <td>0.713940</td>\n",
       "      <td>0.713458</td>\n",
       "      <td>0.710484</td>\n",
       "    </tr>\n",
       "    <tr>\n",
       "      <th>custom_char_embed_conv1d</th>\n",
       "      <td>65.771879</td>\n",
       "      <td>0.648593</td>\n",
       "      <td>0.657719</td>\n",
       "      <td>0.646917</td>\n",
       "    </tr>\n",
       "    <tr>\n",
       "      <th>hybrid_char_token_embed</th>\n",
       "      <td>72.971005</td>\n",
       "      <td>0.734861</td>\n",
       "      <td>0.729710</td>\n",
       "      <td>0.728762</td>\n",
       "    </tr>\n",
       "    <tr>\n",
       "      <th>tribrid_pos_char_token_embed</th>\n",
       "      <td>83.112670</td>\n",
       "      <td>0.829615</td>\n",
       "      <td>0.831127</td>\n",
       "      <td>0.830169</td>\n",
       "    </tr>\n",
       "  </tbody>\n",
       "</table>\n",
       "</div>"
      ],
      "text/plain": [
       "                               accuracy  precision    recall        f1\n",
       "baseline                      72.183238   0.718647  0.721832  0.698925\n",
       "custom_token_embed_conv1d     78.647557   0.783647  0.786476  0.784148\n",
       "pretrained_token_embed        71.345823   0.713940  0.713458  0.710484\n",
       "custom_char_embed_conv1d      65.771879   0.648593  0.657719  0.646917\n",
       "hybrid_char_token_embed       72.971005   0.734861  0.729710  0.728762\n",
       "tribrid_pos_char_token_embed  83.112670   0.829615  0.831127  0.830169"
      ]
     },
     "execution_count": 107,
     "metadata": {},
     "output_type": "execute_result"
    }
   ],
   "source": [
    "# Combine model results into a DataFrame\n",
    "all_model_results = pd.DataFrame({\"baseline\": baseline_results,\n",
    "                                  \"custom_token_embed_conv1d\": model_1_results,\n",
    "                                  \"pretrained_token_embed\": model_2_results,\n",
    "                                  \"custom_char_embed_conv1d\": model_3_results,\n",
    "                                  \"hybrid_char_token_embed\": model_4_results,\n",
    "                                  \"tribrid_pos_char_token_embed\": model_5_results})\n",
    "all_model_results = all_model_results.transpose()\n",
    "all_model_results"
   ]
  },
  {
   "cell_type": "code",
   "execution_count": 108,
   "id": "b173f2be",
   "metadata": {},
   "outputs": [],
   "source": [
    "# Reduce the accuracy to same scale as other metrics\n",
    "all_model_results[\"accuracy\"] = all_model_results[\"accuracy\"]/100"
   ]
  },
  {
   "cell_type": "code",
   "execution_count": 109,
   "id": "199f7b7d",
   "metadata": {},
   "outputs": [
    {
     "data": {
      "image/png": "[encoded data removed]",
      "text/plain": [
       "<Figure size 1000x700 with 1 Axes>"
      ]
     },
     "metadata": {},
     "output_type": "display_data"
    }
   ],
   "source": [
    "# Plot and compare all of the model results\n",
    "all_model_results.plot(kind=\"bar\", figsize=(10, 7)).legend(bbox_to_anchor=(1.0, 1.0));"
   ]
  },
  {
   "cell_type": "code",
   "execution_count": 110,
   "id": "0a7ee63e",
   "metadata": {},
   "outputs": [
    {
     "data": {
      "image/png": "[encoded data removed]",
      "text/plain": [
       "<Figure size 1000x700 with 1 Axes>"
      ]
     },
     "metadata": {},
     "output_type": "display_data"
    }
   ],
   "source": [
    "# Sort model results by f1-score\n",
    "all_model_results.sort_values(\"f1\", ascending=False)[\"f1\"].plot(kind=\"bar\", figsize=(10, 7));"
   ]
  },
  {
   "cell_type": "markdown",
   "id": "7ae5ce6d",
   "metadata": {},
   "source": [
    "Nice! Based on F1-scores, it looks like our tribrid embedding model performs the best by a fair margin.\n",
    "\n",
    "Though, in comparison to the results reported in Table 3 of the PubMed 200k RCT: a Dataset for Sequential Sentence Classification in Medical Abstracts paper, our model's F1-score is still underperforming (the authors model achieves an F1-score of 90.0 on the 20k RCT dataset versus our F1-score of ~82.6).\n",
    "\n",
    "There are some things to note about this difference:\n",
    "\n",
    "* Our models (with an exception for the baseline) have been trained on ~18,000 (10% of batches) samples of sequences and labels rather than the full ~180,000 in the 20k RCT dataset.\n",
    "* This is often the case in machine learning experiments though, make sure training works on a smaller number of samples, then upscale when needed (an extension to this project will be training a model on the full dataset).\n",
    "* Our model's prediction performance levels have been evaluated on the validation dataset not the test dataset (we'll evaluate our best model on the test dataset shortly)."
   ]
  },
  {
   "cell_type": "markdown",
   "id": "652e5e45",
   "metadata": {},
   "source": [
    "## Save and load best performing model\n",
    "\n",
    "Since we've been through a fair few experiments, it's a good idea to save our best performing model so we can reuse it without having to retrain it.\n",
    "\n",
    "We can save our best performing model by calling the `save()` method on it."
   ]
  },
  {
   "cell_type": "code",
   "execution_count": 111,
   "id": "75257b43",
   "metadata": {},
   "outputs": [
    {
     "name": "stderr",
     "output_type": "stream",
     "text": [
      "2022-12-16 01:32:35.181441: W tensorflow/python/util/util.cc:348] Sets are not currently considered sequences, but this may change in the future, so consider avoiding using them.\n",
      "WARNING:absl:Found untraced functions such as lstm_cell_4_layer_call_and_return_conditional_losses, lstm_cell_4_layer_call_fn, lstm_cell_5_layer_call_and_return_conditional_losses, lstm_cell_5_layer_call_fn, lstm_cell_4_layer_call_fn while saving (showing 5 of 10). These functions will not be directly callable after loading.\n",
      "2022-12-16 01:32:38.009418: I tensorflow/core/grappler/optimizers/custom_graph_optimizer_registry.cc:112] Plugin optimizer for device_type GPU is enabled.\n"
     ]
    },
    {
     "name": "stdout",
     "output_type": "stream",
     "text": [
      "INFO:tensorflow:Assets written to: skimlit_tribrid_model/assets\n"
     ]
    },
    {
     "name": "stderr",
     "output_type": "stream",
     "text": [
      "INFO:tensorflow:Assets written to: skimlit_tribrid_model/assets\n"
     ]
    }
   ],
   "source": [
    "# Save best performing model to SavedModel format (default)\n",
    "model_5.save(\"skimlit_tribrid_model\") # model will be saved to path specified by string"
   ]
  },
  {
   "cell_type": "code",
   "execution_count": 112,
   "id": "559e235d",
   "metadata": {},
   "outputs": [],
   "source": [
    "# Example of copying saved model from Google Colab to Drive (requires Google Drive to be mounted)\n",
    "# !cp skim_lit_best_model -r /content/drive/MyDrive/tensorflow_course/skim_lit"
   ]
  },
  {
   "cell_type": "code",
   "execution_count": 113,
   "id": "ca141217",
   "metadata": {},
   "outputs": [
    {
     "name": "stdout",
     "output_type": "stream",
     "text": [
      "--2022-12-16 01:32:41--  https://storage.googleapis.com/ztm_tf_course/skimlit/skimlit_tribrid_model.zip\n",
      "Resolving storage.googleapis.com (storage.googleapis.com)... 172.217.165.16, 142.251.32.80, 142.251.41.48, ...\n",
      "Connecting to storage.googleapis.com (storage.googleapis.com)|172.217.165.16|:443... connected.\n",
      "HTTP request sent, awaiting response... 200 OK\n",
      "Length: 962561955 (918M) [application/zip]\n",
      "Saving to: ‘skimlit_tribrid_model.zip’\n",
      "\n",
      "skimlit_tribrid_mod 100%[===================>] 917.97M  19.0MB/s    in 48s     \n",
      "\n",
      "2022-12-16 01:33:29 (19.3 MB/s) - ‘skimlit_tribrid_model.zip’ saved [962561955/962561955]\n",
      "\n",
      "Archive:  skimlit_tribrid_model.zip\n",
      "   creating: skimlit_gs_model/skimlit_tribrid_model/\n",
      "   creating: skimlit_gs_model/skimlit_tribrid_model/variables/\n",
      "  inflating: skimlit_gs_model/skimlit_tribrid_model/variables/variables.index  \n",
      "  inflating: skimlit_gs_model/skimlit_tribrid_model/variables/variables.data-00000-of-00001  \n",
      "  inflating: skimlit_gs_model/skimlit_tribrid_model/keras_metadata.pb  \n",
      "  inflating: skimlit_gs_model/skimlit_tribrid_model/saved_model.pb  \n",
      "   creating: skimlit_gs_model/skimlit_tribrid_model/assets/\n"
     ]
    }
   ],
   "source": [
    "# Download pretrained model from Google Storage\n",
    "!wget https://storage.googleapis.com/ztm_tf_course/skimlit/skimlit_tribrid_model.zip\n",
    "!mkdir skimlit_gs_model\n",
    "!unzip skimlit_tribrid_model.zip -d skimlit_gs_model"
   ]
  },
  {
   "cell_type": "code",
   "execution_count": 117,
   "id": "3e07098e",
   "metadata": {},
   "outputs": [
    {
     "ename": "JSONDecodeError",
     "evalue": "Expecting value: line 1 column 1 (char 0)",
     "output_type": "error",
     "traceback": [
      "\u001b[0;31m---------------------------------------------------------------------------\u001b[0m",
      "\u001b[0;31mJSONDecodeError\u001b[0m                           Traceback (most recent call last)",
      "Cell \u001b[0;32mIn [117], line 9\u001b[0m\n\u001b[1;32m      6\u001b[0m model_path \u001b[38;5;241m=\u001b[39m \u001b[38;5;124m\"\u001b[39m\u001b[38;5;124mskimlit_gs_model/skimlit_tribrid_model\u001b[39m\u001b[38;5;124m\"\u001b[39m\n\u001b[1;32m      8\u001b[0m \u001b[38;5;66;03m# Load downloaded model from Google Storage\u001b[39;00m\n\u001b[0;32m----> 9\u001b[0m loaded_model \u001b[38;5;241m=\u001b[39m \u001b[43mtf\u001b[49m\u001b[38;5;241;43m.\u001b[39;49m\u001b[43mkeras\u001b[49m\u001b[38;5;241;43m.\u001b[39;49m\u001b[43mmodels\u001b[49m\u001b[38;5;241;43m.\u001b[39;49m\u001b[43mload_model\u001b[49m\u001b[43m(\u001b[49m\u001b[43mmodel_path\u001b[49m\u001b[43m)\u001b[49m\n",
      "File \u001b[0;32m/opt/homebrew/Caskroom/miniforge/base/envs/tensorflow/lib/python3.9/site-packages/tensorflow/python/keras/saving/save.py:206\u001b[0m, in \u001b[0;36mload_model\u001b[0;34m(filepath, custom_objects, compile, options)\u001b[0m\n\u001b[1;32m    204\u001b[0m       filepath \u001b[38;5;241m=\u001b[39m path_to_string(filepath)\n\u001b[1;32m    205\u001b[0m       \u001b[38;5;28;01mif\u001b[39;00m \u001b[38;5;28misinstance\u001b[39m(filepath, \u001b[38;5;28mstr\u001b[39m):\n\u001b[0;32m--> 206\u001b[0m         \u001b[38;5;28;01mreturn\u001b[39;00m \u001b[43msaved_model_load\u001b[49m\u001b[38;5;241;43m.\u001b[39;49m\u001b[43mload\u001b[49m\u001b[43m(\u001b[49m\u001b[43mfilepath\u001b[49m\u001b[43m,\u001b[49m\u001b[43m \u001b[49m\u001b[38;5;28;43mcompile\u001b[39;49m\u001b[43m,\u001b[49m\u001b[43m \u001b[49m\u001b[43moptions\u001b[49m\u001b[43m)\u001b[49m\n\u001b[1;32m    208\u001b[0m \u001b[38;5;28;01mraise\u001b[39;00m \u001b[38;5;167;01mIOError\u001b[39;00m(\n\u001b[1;32m    209\u001b[0m     \u001b[38;5;124m'\u001b[39m\u001b[38;5;124mUnable to load model. Filepath is not an hdf5 file (or h5py is not \u001b[39m\u001b[38;5;124m'\u001b[39m\n\u001b[1;32m    210\u001b[0m     \u001b[38;5;124m'\u001b[39m\u001b[38;5;124mavailable) or SavedModel.\u001b[39m\u001b[38;5;124m'\u001b[39m)\n",
      "File \u001b[0;32m/opt/homebrew/Caskroom/miniforge/base/envs/tensorflow/lib/python3.9/site-packages/tensorflow/python/keras/saving/saved_model/load.py:146\u001b[0m, in \u001b[0;36mload\u001b[0;34m(path, compile, options)\u001b[0m\n\u001b[1;32m    144\u001b[0m \u001b[38;5;66;03m# Recreate layers and metrics using the info stored in the metadata.\u001b[39;00m\n\u001b[1;32m    145\u001b[0m keras_loader \u001b[38;5;241m=\u001b[39m KerasObjectLoader(metadata, object_graph_def)\n\u001b[0;32m--> 146\u001b[0m \u001b[43mkeras_loader\u001b[49m\u001b[38;5;241;43m.\u001b[39;49m\u001b[43mload_layers\u001b[49m\u001b[43m(\u001b[49m\u001b[38;5;28;43mcompile\u001b[39;49m\u001b[38;5;241;43m=\u001b[39;49m\u001b[38;5;28;43mcompile\u001b[39;49m\u001b[43m)\u001b[49m\n\u001b[1;32m    148\u001b[0m \u001b[38;5;66;03m# Generate a dictionary of all loaded nodes.\u001b[39;00m\n\u001b[1;32m    149\u001b[0m nodes_to_load \u001b[38;5;241m=\u001b[39m {\u001b[38;5;124m'\u001b[39m\u001b[38;5;124mroot\u001b[39m\u001b[38;5;124m'\u001b[39m: \u001b[38;5;28;01mNone\u001b[39;00m}\n",
      "File \u001b[0;32m/opt/homebrew/Caskroom/miniforge/base/envs/tensorflow/lib/python3.9/site-packages/tensorflow/python/keras/saving/saved_model/load.py:378\u001b[0m, in \u001b[0;36mKerasObjectLoader.load_layers\u001b[0;34m(self, compile)\u001b[0m\n\u001b[1;32m    375\u001b[0m     metric_list\u001b[38;5;241m.\u001b[39mappend(node_metadata)\n\u001b[1;32m    376\u001b[0m     \u001b[38;5;28;01mcontinue\u001b[39;00m\n\u001b[0;32m--> 378\u001b[0m   \u001b[38;5;28mself\u001b[39m\u001b[38;5;241m.\u001b[39mloaded_nodes[node_metadata\u001b[38;5;241m.\u001b[39mnode_id] \u001b[38;5;241m=\u001b[39m \u001b[38;5;28;43mself\u001b[39;49m\u001b[38;5;241;43m.\u001b[39;49m\u001b[43m_load_layer\u001b[49m\u001b[43m(\u001b[49m\n\u001b[1;32m    379\u001b[0m \u001b[43m      \u001b[49m\u001b[43mnode_metadata\u001b[49m\u001b[38;5;241;43m.\u001b[39;49m\u001b[43mnode_id\u001b[49m\u001b[43m,\u001b[49m\u001b[43m \u001b[49m\u001b[43mnode_metadata\u001b[49m\u001b[38;5;241;43m.\u001b[39;49m\u001b[43midentifier\u001b[49m\u001b[43m,\u001b[49m\n\u001b[1;32m    380\u001b[0m \u001b[43m      \u001b[49m\u001b[43mnode_metadata\u001b[49m\u001b[38;5;241;43m.\u001b[39;49m\u001b[43mmetadata\u001b[49m\u001b[43m)\u001b[49m\n\u001b[1;32m    382\u001b[0m \u001b[38;5;28;01mfor\u001b[39;00m node_metadata \u001b[38;5;129;01min\u001b[39;00m metric_list:\n\u001b[1;32m    383\u001b[0m   \u001b[38;5;28;01mtry\u001b[39;00m:\n",
      "File \u001b[0;32m/opt/homebrew/Caskroom/miniforge/base/envs/tensorflow/lib/python3.9/site-packages/tensorflow/python/keras/saving/saved_model/load.py:420\u001b[0m, in \u001b[0;36mKerasObjectLoader._load_layer\u001b[0;34m(self, node_id, identifier, metadata)\u001b[0m\n\u001b[1;32m    416\u001b[0m   \u001b[38;5;28;01mreturn\u001b[39;00m node, setter\n\u001b[1;32m    418\u001b[0m \u001b[38;5;66;03m# Detect whether this object can be revived from the config. If not, then\u001b[39;00m\n\u001b[1;32m    419\u001b[0m \u001b[38;5;66;03m# revive from the SavedModel instead.\u001b[39;00m\n\u001b[0;32m--> 420\u001b[0m obj, setter \u001b[38;5;241m=\u001b[39m \u001b[38;5;28;43mself\u001b[39;49m\u001b[38;5;241;43m.\u001b[39;49m\u001b[43m_revive_from_config\u001b[49m\u001b[43m(\u001b[49m\u001b[43midentifier\u001b[49m\u001b[43m,\u001b[49m\u001b[43m \u001b[49m\u001b[43mmetadata\u001b[49m\u001b[43m,\u001b[49m\u001b[43m \u001b[49m\u001b[43mnode_id\u001b[49m\u001b[43m)\u001b[49m\n\u001b[1;32m    421\u001b[0m \u001b[38;5;28;01mif\u001b[39;00m obj \u001b[38;5;129;01mis\u001b[39;00m \u001b[38;5;28;01mNone\u001b[39;00m:\n\u001b[1;32m    422\u001b[0m   obj, setter \u001b[38;5;241m=\u001b[39m revive_custom_object(identifier, metadata)\n",
      "File \u001b[0;32m/opt/homebrew/Caskroom/miniforge/base/envs/tensorflow/lib/python3.9/site-packages/tensorflow/python/keras/saving/saved_model/load.py:444\u001b[0m, in \u001b[0;36mKerasObjectLoader._revive_from_config\u001b[0;34m(self, identifier, metadata, node_id)\u001b[0m\n\u001b[1;32m    441\u001b[0m   \u001b[38;5;28;01mreturn\u001b[39;00m \u001b[38;5;28;01mNone\u001b[39;00m, \u001b[38;5;28;01mNone\u001b[39;00m\n\u001b[1;32m    443\u001b[0m setter \u001b[38;5;241m=\u001b[39m \u001b[38;5;28mself\u001b[39m\u001b[38;5;241m.\u001b[39m_config_node_setter(_revive_setter)\n\u001b[0;32m--> 444\u001b[0m \u001b[38;5;28;43mself\u001b[39;49m\u001b[38;5;241;43m.\u001b[39;49m\u001b[43m_add_children_recreated_from_config\u001b[49m\u001b[43m(\u001b[49m\n\u001b[1;32m    445\u001b[0m \u001b[43m    \u001b[49m\u001b[43mobj\u001b[49m\u001b[43m,\u001b[49m\u001b[43m \u001b[49m\u001b[38;5;28;43mself\u001b[39;49m\u001b[38;5;241;43m.\u001b[39;49m\u001b[43m_proto\u001b[49m\u001b[38;5;241;43m.\u001b[39;49m\u001b[43mnodes\u001b[49m\u001b[43m[\u001b[49m\u001b[43mnode_id\u001b[49m\u001b[43m]\u001b[49m\u001b[43m,\u001b[49m\u001b[43m \u001b[49m\u001b[43mnode_id\u001b[49m\u001b[43m)\u001b[49m\n\u001b[1;32m    446\u001b[0m \u001b[38;5;28;01mreturn\u001b[39;00m obj, setter\n",
      "File \u001b[0;32m/opt/homebrew/Caskroom/miniforge/base/envs/tensorflow/lib/python3.9/site-packages/tensorflow/python/keras/saving/saved_model/load.py:363\u001b[0m, in \u001b[0;36mKerasObjectLoader._add_children_recreated_from_config\u001b[0;34m(self, obj, proto, node_id)\u001b[0m\n\u001b[1;32m    361\u001b[0m child_path \u001b[38;5;241m=\u001b[39m \u001b[38;5;124m'\u001b[39m\u001b[38;5;132;01m{}\u001b[39;00m\u001b[38;5;124m.\u001b[39m\u001b[38;5;132;01m{}\u001b[39;00m\u001b[38;5;124m'\u001b[39m\u001b[38;5;241m.\u001b[39mformat(parent_path, child_name)\n\u001b[1;32m    362\u001b[0m \u001b[38;5;28mself\u001b[39m\u001b[38;5;241m.\u001b[39m_node_paths[child_id] \u001b[38;5;241m=\u001b[39m child_path\n\u001b[0;32m--> 363\u001b[0m \u001b[38;5;28;43mself\u001b[39;49m\u001b[38;5;241;43m.\u001b[39;49m\u001b[43m_add_children_recreated_from_config\u001b[49m\u001b[43m(\u001b[49m\n\u001b[1;32m    364\u001b[0m \u001b[43m    \u001b[49m\u001b[43mobj_child\u001b[49m\u001b[43m,\u001b[49m\u001b[43m \u001b[49m\u001b[43mchild_proto\u001b[49m\u001b[43m,\u001b[49m\u001b[43m \u001b[49m\u001b[43mchild_id\u001b[49m\u001b[43m)\u001b[49m\n\u001b[1;32m    365\u001b[0m \u001b[38;5;28mself\u001b[39m\u001b[38;5;241m.\u001b[39mloaded_nodes[child_id] \u001b[38;5;241m=\u001b[39m obj_child, setter\n",
      "File \u001b[0;32m/opt/homebrew/Caskroom/miniforge/base/envs/tensorflow/lib/python3.9/site-packages/tensorflow/python/keras/saving/saved_model/load.py:305\u001b[0m, in \u001b[0;36mKerasObjectLoader._add_children_recreated_from_config\u001b[0;34m(self, obj, proto, node_id)\u001b[0m\n\u001b[1;32m    303\u001b[0m obj\u001b[38;5;241m.\u001b[39m_maybe_initialize_trackable()\n\u001b[1;32m    304\u001b[0m \u001b[38;5;28;01mif\u001b[39;00m \u001b[38;5;28misinstance\u001b[39m(obj, base_layer\u001b[38;5;241m.\u001b[39mLayer) \u001b[38;5;129;01mand\u001b[39;00m \u001b[38;5;129;01mnot\u001b[39;00m obj\u001b[38;5;241m.\u001b[39mbuilt:\n\u001b[0;32m--> 305\u001b[0m   metadata \u001b[38;5;241m=\u001b[39m \u001b[43mjson_utils\u001b[49m\u001b[38;5;241;43m.\u001b[39;49m\u001b[43mdecode\u001b[49m\u001b[43m(\u001b[49m\u001b[43mproto\u001b[49m\u001b[38;5;241;43m.\u001b[39;49m\u001b[43muser_object\u001b[49m\u001b[38;5;241;43m.\u001b[39;49m\u001b[43mmetadata\u001b[49m\u001b[43m)\u001b[49m\n\u001b[1;32m    306\u001b[0m   \u001b[38;5;28mself\u001b[39m\u001b[38;5;241m.\u001b[39m_try_build_layer(obj, node_id, metadata\u001b[38;5;241m.\u001b[39mget(\u001b[38;5;124m'\u001b[39m\u001b[38;5;124mbuild_input_shape\u001b[39m\u001b[38;5;124m'\u001b[39m))\n\u001b[1;32m    308\u001b[0m \u001b[38;5;66;03m# Create list of all possible children\u001b[39;00m\n",
      "File \u001b[0;32m/opt/homebrew/Caskroom/miniforge/base/envs/tensorflow/lib/python3.9/site-packages/tensorflow/python/keras/saving/saved_model/json_utils.py:62\u001b[0m, in \u001b[0;36mdecode\u001b[0;34m(json_string)\u001b[0m\n\u001b[1;32m     61\u001b[0m \u001b[38;5;28;01mdef\u001b[39;00m \u001b[38;5;21mdecode\u001b[39m(json_string):\n\u001b[0;32m---> 62\u001b[0m   \u001b[38;5;28;01mreturn\u001b[39;00m \u001b[43mjson\u001b[49m\u001b[38;5;241;43m.\u001b[39;49m\u001b[43mloads\u001b[49m\u001b[43m(\u001b[49m\u001b[43mjson_string\u001b[49m\u001b[43m,\u001b[49m\u001b[43m \u001b[49m\u001b[43mobject_hook\u001b[49m\u001b[38;5;241;43m=\u001b[39;49m\u001b[43m_decode_helper\u001b[49m\u001b[43m)\u001b[49m\n",
      "File \u001b[0;32m/opt/homebrew/Caskroom/miniforge/base/envs/tensorflow/lib/python3.9/json/__init__.py:359\u001b[0m, in \u001b[0;36mloads\u001b[0;34m(s, cls, object_hook, parse_float, parse_int, parse_constant, object_pairs_hook, **kw)\u001b[0m\n\u001b[1;32m    357\u001b[0m \u001b[38;5;28;01mif\u001b[39;00m parse_constant \u001b[38;5;129;01mis\u001b[39;00m \u001b[38;5;129;01mnot\u001b[39;00m \u001b[38;5;28;01mNone\u001b[39;00m:\n\u001b[1;32m    358\u001b[0m     kw[\u001b[38;5;124m'\u001b[39m\u001b[38;5;124mparse_constant\u001b[39m\u001b[38;5;124m'\u001b[39m] \u001b[38;5;241m=\u001b[39m parse_constant\n\u001b[0;32m--> 359\u001b[0m \u001b[38;5;28;01mreturn\u001b[39;00m \u001b[38;5;28;43mcls\u001b[39;49m\u001b[43m(\u001b[49m\u001b[38;5;241;43m*\u001b[39;49m\u001b[38;5;241;43m*\u001b[39;49m\u001b[43mkw\u001b[49m\u001b[43m)\u001b[49m\u001b[38;5;241;43m.\u001b[39;49m\u001b[43mdecode\u001b[49m\u001b[43m(\u001b[49m\u001b[43ms\u001b[49m\u001b[43m)\u001b[49m\n",
      "File \u001b[0;32m/opt/homebrew/Caskroom/miniforge/base/envs/tensorflow/lib/python3.9/json/decoder.py:337\u001b[0m, in \u001b[0;36mJSONDecoder.decode\u001b[0;34m(self, s, _w)\u001b[0m\n\u001b[1;32m    332\u001b[0m \u001b[38;5;28;01mdef\u001b[39;00m \u001b[38;5;21mdecode\u001b[39m(\u001b[38;5;28mself\u001b[39m, s, _w\u001b[38;5;241m=\u001b[39mWHITESPACE\u001b[38;5;241m.\u001b[39mmatch):\n\u001b[1;32m    333\u001b[0m     \u001b[38;5;124;03m\"\"\"Return the Python representation of ``s`` (a ``str`` instance\u001b[39;00m\n\u001b[1;32m    334\u001b[0m \u001b[38;5;124;03m    containing a JSON document).\u001b[39;00m\n\u001b[1;32m    335\u001b[0m \n\u001b[1;32m    336\u001b[0m \u001b[38;5;124;03m    \"\"\"\u001b[39;00m\n\u001b[0;32m--> 337\u001b[0m     obj, end \u001b[38;5;241m=\u001b[39m \u001b[38;5;28;43mself\u001b[39;49m\u001b[38;5;241;43m.\u001b[39;49m\u001b[43mraw_decode\u001b[49m\u001b[43m(\u001b[49m\u001b[43ms\u001b[49m\u001b[43m,\u001b[49m\u001b[43m \u001b[49m\u001b[43midx\u001b[49m\u001b[38;5;241;43m=\u001b[39;49m\u001b[43m_w\u001b[49m\u001b[43m(\u001b[49m\u001b[43ms\u001b[49m\u001b[43m,\u001b[49m\u001b[43m \u001b[49m\u001b[38;5;241;43m0\u001b[39;49m\u001b[43m)\u001b[49m\u001b[38;5;241;43m.\u001b[39;49m\u001b[43mend\u001b[49m\u001b[43m(\u001b[49m\u001b[43m)\u001b[49m\u001b[43m)\u001b[49m\n\u001b[1;32m    338\u001b[0m     end \u001b[38;5;241m=\u001b[39m _w(s, end)\u001b[38;5;241m.\u001b[39mend()\n\u001b[1;32m    339\u001b[0m     \u001b[38;5;28;01mif\u001b[39;00m end \u001b[38;5;241m!=\u001b[39m \u001b[38;5;28mlen\u001b[39m(s):\n",
      "File \u001b[0;32m/opt/homebrew/Caskroom/miniforge/base/envs/tensorflow/lib/python3.9/json/decoder.py:355\u001b[0m, in \u001b[0;36mJSONDecoder.raw_decode\u001b[0;34m(self, s, idx)\u001b[0m\n\u001b[1;32m    353\u001b[0m     obj, end \u001b[38;5;241m=\u001b[39m \u001b[38;5;28mself\u001b[39m\u001b[38;5;241m.\u001b[39mscan_once(s, idx)\n\u001b[1;32m    354\u001b[0m \u001b[38;5;28;01mexcept\u001b[39;00m \u001b[38;5;167;01mStopIteration\u001b[39;00m \u001b[38;5;28;01mas\u001b[39;00m err:\n\u001b[0;32m--> 355\u001b[0m     \u001b[38;5;28;01mraise\u001b[39;00m JSONDecodeError(\u001b[38;5;124m\"\u001b[39m\u001b[38;5;124mExpecting value\u001b[39m\u001b[38;5;124m\"\u001b[39m, s, err\u001b[38;5;241m.\u001b[39mvalue) \u001b[38;5;28;01mfrom\u001b[39;00m \u001b[38;5;28mNone\u001b[39m\n\u001b[1;32m    356\u001b[0m \u001b[38;5;28;01mreturn\u001b[39;00m obj, end\n",
      "\u001b[0;31mJSONDecodeError\u001b[0m: Expecting value: line 1 column 1 (char 0)"
     ]
    }
   ],
   "source": [
    "# Import TensorFlow model dependencies (if needed) - https://github.com/tensorflow/tensorflow/issues/38250 \n",
    "import tensorflow_hub as hub\n",
    "import tensorflow as tf\n",
    "from tensorflow.keras.layers.experimental.preprocessing import TextVectorization\n",
    "\n",
    "model_path = \"skimlit_gs_model/skimlit_tribrid_model\"\n",
    "\n",
    "# Load downloaded model from Google Storage\n",
    "loaded_model = tf.keras.models.load_model(model_path)#,\n",
    "                                          # Note: with TensorFlow 2.5+ if your SavedModel has a keras_metadata.pb file \n",
    "                                          # (created when using model.save()), you shouldn't need the custom_objects\n",
    "                                          # parameter. I'm leaving the code below here in case you do.\n",
    "                                          # custom_objects={\"TextVectorization\": TextVectorization, # required for char vectorization\n",
    "                                          #                 \"KerasLayer\": hub.KerasLayer}) # required for token embedding\n",
    "     "
   ]
  },
  {
   "cell_type": "markdown",
   "id": "304609ca",
   "metadata": {},
   "source": [
    "## Make predictions and evalaute them against the truth labels\n",
    "\n",
    "To make sure our model saved and loaded correctly, let's make predictions with it, evaluate them and then compare them to the prediction results we calculated earlier."
   ]
  },
  {
   "cell_type": "code",
   "execution_count": null,
   "id": "598e1d13",
   "metadata": {},
   "outputs": [],
   "source": [
    "# Make predictions with the loaded model on the validation set\n",
    "loaded_pred_probs = loaded_model.predict(val_pos_char_token_dataset, verbose=1)\n",
    "loaded_preds = tf.argmax(loaded_pred_probs, axis=1)\n",
    "loaded_preds[:10]"
   ]
  },
  {
   "cell_type": "code",
   "execution_count": null,
   "id": "044dd8a7",
   "metadata": {},
   "outputs": [],
   "source": [
    "# Evaluate loaded model's predictions\n",
    "loaded_model_results = calculate_results(val_labels_encoded,\n",
    "                                         loaded_preds)\n",
    "loaded_model_results"
   ]
  },
  {
   "cell_type": "code",
   "execution_count": null,
   "id": "0d94e81f",
   "metadata": {},
   "outputs": [],
   "source": [
    "# Compare loaded model results with original trained model results (should be quite close)\n",
    "np.isclose(list(model_5_results.values()), list(loaded_model_results.values()), rtol=1e-02)"
   ]
  },
  {
   "cell_type": "markdown",
   "id": "753acb38",
   "metadata": {},
   "source": [
    "## Evaluate model on test dataset\n",
    "\n",
    "To make our model's performance more comparable with the results reported in Table 3 of the [PubMed 200k RCT: a Dataset for Sequential Sentence Classification in Medical Abstracts paper](https://arxiv.org/pdf/1710.06071.pdf), let's make predictions on the test dataset and evaluate them."
   ]
  },
  {
   "cell_type": "code",
   "execution_count": 118,
   "id": "ea421a96",
   "metadata": {},
   "outputs": [
    {
     "data": {
      "text/plain": [
       "<PrefetchDataset shapes: (((None, 15), (None, 20), (None,), (None,)), (None, 5)), types: ((tf.float32, tf.float32, tf.string, tf.string), tf.float64)>"
      ]
     },
     "execution_count": 118,
     "metadata": {},
     "output_type": "execute_result"
    }
   ],
   "source": [
    "# Create test dataset batch and prefetched\n",
    "test_pos_char_token_data = tf.data.Dataset.from_tensor_slices((test_line_numbers_one_hot,\n",
    "                                                               test_total_lines_one_hot,\n",
    "                                                               test_sentences,\n",
    "                                                               test_chars))\n",
    "test_pos_char_token_labels = tf.data.Dataset.from_tensor_slices(test_labels_one_hot)\n",
    "test_pos_char_token_dataset = tf.data.Dataset.zip((test_pos_char_token_data, test_pos_char_token_labels))\n",
    "test_pos_char_token_dataset = test_pos_char_token_dataset.batch(32).prefetch(tf.data.AUTOTUNE)\n",
    "\n",
    "# Check shapes\n",
    "test_pos_char_token_dataset"
   ]
  },
  {
   "cell_type": "code",
   "execution_count": 119,
   "id": "9b7b958f",
   "metadata": {},
   "outputs": [
    {
     "name": "stdout",
     "output_type": "stream",
     "text": [
      "942/942 [==============================] - 132s 139ms/step\n"
     ]
    },
    {
     "data": {
      "text/plain": [
       "<tf.Tensor: shape=(10,), dtype=int64, numpy=array([3, 0, 2, 2, 4, 4, 4, 1, 4, 0])>"
      ]
     },
     "execution_count": 119,
     "metadata": {},
     "output_type": "execute_result"
    }
   ],
   "source": [
    "# Make predictions on the test dataset\n",
    "test_pred_probs = model_5.predict(test_pos_char_token_dataset,\n",
    "                                       verbose=1)\n",
    "test_preds = tf.argmax(test_pred_probs, axis=1)\n",
    "test_preds[:10]"
   ]
  },
  {
   "cell_type": "code",
   "execution_count": 120,
   "id": "8b7a5ebf",
   "metadata": {},
   "outputs": [
    {
     "data": {
      "text/plain": [
       "{'accuracy': 82.74431723909076,\n",
       " 'precision': 0.826027677389264,\n",
       " 'recall': 0.8274431723909076,\n",
       " 'f1': 0.826524709128648}"
      ]
     },
     "execution_count": 120,
     "metadata": {},
     "output_type": "execute_result"
    }
   ],
   "source": [
    "# Evaluate loaded model test predictions\n",
    "model_test_results = calculate_results(y_true=test_labels_encoded,\n",
    "                                              y_pred=test_preds)\n",
    "model_test_results"
   ]
  },
  {
   "cell_type": "markdown",
   "id": "62be1f8c",
   "metadata": {},
   "source": [
    "It seems our best model (so far) still has some ways to go to match the performance of the results in the paper (their model gets 90.0 F1-score on the test dataset, where as ours gets ~82.1 F1-score).\n",
    "\n",
    "However, as we discussed before our model has only been trained on 20,000 out of the total ~180,000 sequences in the RCT 20k dataset. We also haven't fine-tuned our pretrained embeddings (the paper fine-tunes GloVe embeddings). So there's a couple of extensions we could try to improve our results."
   ]
  },
  {
   "cell_type": "markdown",
   "id": "0cb5a613",
   "metadata": {},
   "source": [
    "## Find most wrong\n",
    "\n",
    "One of the best ways to investigate where your model is going wrong (or potentially where your data is wrong) is to visualize the \"most wrong\" predictions.\n",
    "\n",
    "The most wrong predictions are samples where the model has made a prediction with a high probability but has gotten it wrong (the model's prediction disagreess with the ground truth label).\n",
    "\n",
    "Looking at the most wrong predictions can give us valuable information on how to improve further models or fix the labels in our data.\n",
    "\n",
    "Let's write some code to help us visualize the most wrong predictions from the test dataset.\n",
    "\n",
    "First we'll convert all of our integer-based test predictions into their string-based class names."
   ]
  },
  {
   "cell_type": "code",
   "execution_count": 121,
   "id": "893c6787",
   "metadata": {},
   "outputs": [
    {
     "name": "stdout",
     "output_type": "stream",
     "text": [
      "CPU times: user 933 ms, sys: 4.15 ms, total: 938 ms\n",
      "Wall time: 936 ms\n"
     ]
    },
    {
     "data": {
      "text/plain": [
       "['OBJECTIVE',\n",
       " 'BACKGROUND',\n",
       " 'METHODS',\n",
       " 'METHODS',\n",
       " 'RESULTS',\n",
       " 'RESULTS',\n",
       " 'RESULTS',\n",
       " 'CONCLUSIONS',\n",
       " 'RESULTS',\n",
       " 'BACKGROUND',\n",
       " 'OBJECTIVE',\n",
       " 'METHODS',\n",
       " 'METHODS',\n",
       " 'METHODS',\n",
       " 'RESULTS',\n",
       " 'RESULTS',\n",
       " 'RESULTS',\n",
       " 'RESULTS',\n",
       " 'RESULTS',\n",
       " 'RESULTS',\n",
       " 'CONCLUSIONS',\n",
       " 'CONCLUSIONS',\n",
       " 'BACKGROUND',\n",
       " 'OBJECTIVE',\n",
       " 'METHODS',\n",
       " 'METHODS',\n",
       " 'RESULTS',\n",
       " 'RESULTS',\n",
       " 'RESULTS',\n",
       " 'CONCLUSIONS',\n",
       " 'CONCLUSIONS',\n",
       " 'BACKGROUND',\n",
       " 'METHODS',\n",
       " 'BACKGROUND',\n",
       " 'METHODS',\n",
       " 'METHODS',\n",
       " 'METHODS',\n",
       " 'METHODS',\n",
       " 'RESULTS',\n",
       " 'RESULTS',\n",
       " 'RESULTS',\n",
       " 'RESULTS',\n",
       " 'CONCLUSIONS',\n",
       " 'CONCLUSIONS',\n",
       " 'BACKGROUND',\n",
       " 'BACKGROUND',\n",
       " 'BACKGROUND',\n",
       " 'OBJECTIVE',\n",
       " 'METHODS',\n",
       " 'METHODS',\n",
       " 'METHODS',\n",
       " 'METHODS',\n",
       " 'METHODS',\n",
       " 'METHODS',\n",
       " 'RESULTS',\n",
       " 'RESULTS',\n",
       " 'CONCLUSIONS',\n",
       " 'CONCLUSIONS',\n",
       " 'OBJECTIVE',\n",
       " 'METHODS',\n",
       " 'METHODS',\n",
       " 'METHODS',\n",
       " 'METHODS',\n",
       " 'METHODS',\n",
       " 'RESULTS',\n",
       " 'RESULTS',\n",
       " 'RESULTS',\n",
       " 'CONCLUSIONS',\n",
       " 'RESULTS',\n",
       " 'OBJECTIVE',\n",
       " 'METHODS',\n",
       " 'METHODS',\n",
       " 'METHODS',\n",
       " 'RESULTS',\n",
       " 'METHODS',\n",
       " 'RESULTS',\n",
       " 'RESULTS',\n",
       " 'RESULTS',\n",
       " 'RESULTS',\n",
       " 'CONCLUSIONS',\n",
       " 'CONCLUSIONS',\n",
       " 'BACKGROUND',\n",
       " 'OBJECTIVE',\n",
       " 'METHODS',\n",
       " 'METHODS',\n",
       " 'METHODS',\n",
       " 'METHODS',\n",
       " 'METHODS',\n",
       " 'METHODS',\n",
       " 'METHODS',\n",
       " 'RESULTS',\n",
       " 'RESULTS',\n",
       " 'RESULTS',\n",
       " 'CONCLUSIONS',\n",
       " 'BACKGROUND',\n",
       " 'OBJECTIVE',\n",
       " 'METHODS',\n",
       " 'RESULTS',\n",
       " 'RESULTS',\n",
       " 'RESULTS',\n",
       " 'CONCLUSIONS',\n",
       " 'OBJECTIVE',\n",
       " 'METHODS',\n",
       " 'METHODS',\n",
       " 'METHODS',\n",
       " 'METHODS',\n",
       " 'METHODS',\n",
       " 'METHODS',\n",
       " 'METHODS',\n",
       " 'RESULTS',\n",
       " 'RESULTS',\n",
       " 'RESULTS',\n",
       " 'CONCLUSIONS',\n",
       " 'BACKGROUND',\n",
       " 'BACKGROUND',\n",
       " 'METHODS',\n",
       " 'METHODS',\n",
       " 'METHODS',\n",
       " 'METHODS',\n",
       " 'METHODS',\n",
       " 'METHODS',\n",
       " 'BACKGROUND',\n",
       " 'RESULTS',\n",
       " 'RESULTS',\n",
       " 'RESULTS',\n",
       " 'RESULTS',\n",
       " 'RESULTS',\n",
       " 'CONCLUSIONS',\n",
       " 'BACKGROUND',\n",
       " 'OBJECTIVE',\n",
       " 'METHODS',\n",
       " 'METHODS',\n",
       " 'RESULTS',\n",
       " 'METHODS',\n",
       " 'RESULTS',\n",
       " 'RESULTS',\n",
       " 'RESULTS',\n",
       " 'RESULTS',\n",
       " 'OBJECTIVE',\n",
       " 'METHODS',\n",
       " 'METHODS',\n",
       " 'METHODS',\n",
       " 'RESULTS',\n",
       " 'RESULTS',\n",
       " 'RESULTS',\n",
       " 'RESULTS',\n",
       " 'RESULTS',\n",
       " 'RESULTS',\n",
       " 'CONCLUSIONS',\n",
       " 'CONCLUSIONS',\n",
       " 'BACKGROUND',\n",
       " 'BACKGROUND',\n",
       " 'METHODS',\n",
       " 'BACKGROUND',\n",
       " 'METHODS',\n",
       " 'METHODS',\n",
       " 'METHODS',\n",
       " 'METHODS',\n",
       " 'METHODS',\n",
       " 'METHODS',\n",
       " 'CONCLUSIONS',\n",
       " 'CONCLUSIONS',\n",
       " 'RESULTS',\n",
       " 'BACKGROUND',\n",
       " 'CONCLUSIONS',\n",
       " 'BACKGROUND',\n",
       " 'OBJECTIVE',\n",
       " 'OBJECTIVE',\n",
       " 'METHODS',\n",
       " 'METHODS',\n",
       " 'RESULTS',\n",
       " 'RESULTS',\n",
       " 'RESULTS',\n",
       " 'RESULTS',\n",
       " 'RESULTS',\n",
       " 'CONCLUSIONS',\n",
       " 'OBJECTIVE',\n",
       " 'OBJECTIVE',\n",
       " 'METHODS',\n",
       " 'METHODS',\n",
       " 'METHODS',\n",
       " 'RESULTS',\n",
       " 'RESULTS',\n",
       " 'RESULTS',\n",
       " 'RESULTS',\n",
       " 'RESULTS',\n",
       " 'RESULTS',\n",
       " 'RESULTS',\n",
       " 'CONCLUSIONS',\n",
       " 'BACKGROUND',\n",
       " 'BACKGROUND',\n",
       " 'METHODS',\n",
       " 'METHODS',\n",
       " 'METHODS',\n",
       " 'METHODS',\n",
       " 'BACKGROUND',\n",
       " 'RESULTS',\n",
       " 'RESULTS',\n",
       " 'BACKGROUND',\n",
       " 'RESULTS',\n",
       " 'RESULTS',\n",
       " 'CONCLUSIONS',\n",
       " 'CONCLUSIONS',\n",
       " 'CONCLUSIONS',\n",
       " 'OBJECTIVE',\n",
       " 'METHODS',\n",
       " 'METHODS',\n",
       " 'METHODS',\n",
       " 'METHODS',\n",
       " 'RESULTS',\n",
       " 'RESULTS',\n",
       " 'RESULTS',\n",
       " 'RESULTS',\n",
       " 'CONCLUSIONS',\n",
       " 'BACKGROUND',\n",
       " 'METHODS',\n",
       " 'METHODS',\n",
       " 'METHODS',\n",
       " 'METHODS',\n",
       " 'METHODS',\n",
       " 'RESULTS',\n",
       " 'RESULTS',\n",
       " 'RESULTS',\n",
       " 'RESULTS',\n",
       " 'CONCLUSIONS',\n",
       " 'RESULTS',\n",
       " 'RESULTS',\n",
       " 'BACKGROUND',\n",
       " 'BACKGROUND',\n",
       " 'BACKGROUND',\n",
       " 'METHODS',\n",
       " 'METHODS',\n",
       " 'RESULTS',\n",
       " 'METHODS',\n",
       " 'METHODS',\n",
       " 'RESULTS',\n",
       " 'RESULTS',\n",
       " 'CONCLUSIONS',\n",
       " 'OBJECTIVE',\n",
       " 'OBJECTIVE',\n",
       " 'OBJECTIVE',\n",
       " 'METHODS',\n",
       " 'METHODS',\n",
       " 'METHODS',\n",
       " 'RESULTS',\n",
       " 'RESULTS',\n",
       " 'RESULTS',\n",
       " 'CONCLUSIONS',\n",
       " 'CONCLUSIONS',\n",
       " 'OBJECTIVE',\n",
       " 'METHODS',\n",
       " 'METHODS',\n",
       " 'METHODS',\n",
       " 'RESULTS',\n",
       " 'RESULTS',\n",
       " 'RESULTS',\n",
       " 'RESULTS',\n",
       " 'RESULTS',\n",
       " 'CONCLUSIONS',\n",
       " 'CONCLUSIONS',\n",
       " 'BACKGROUND',\n",
       " 'OBJECTIVE',\n",
       " 'METHODS',\n",
       " 'METHODS',\n",
       " 'METHODS',\n",
       " 'METHODS',\n",
       " 'METHODS',\n",
       " 'METHODS',\n",
       " 'RESULTS',\n",
       " 'METHODS',\n",
       " 'RESULTS',\n",
       " 'RESULTS',\n",
       " 'RESULTS',\n",
       " 'RESULTS',\n",
       " 'RESULTS',\n",
       " 'CONCLUSIONS',\n",
       " 'METHODS',\n",
       " 'CONCLUSIONS',\n",
       " 'BACKGROUND',\n",
       " 'OBJECTIVE',\n",
       " 'METHODS',\n",
       " 'METHODS',\n",
       " 'METHODS',\n",
       " 'METHODS',\n",
       " 'METHODS',\n",
       " 'RESULTS',\n",
       " 'METHODS',\n",
       " 'CONCLUSIONS',\n",
       " 'BACKGROUND',\n",
       " 'BACKGROUND',\n",
       " 'METHODS',\n",
       " 'METHODS',\n",
       " 'METHODS',\n",
       " 'METHODS',\n",
       " 'RESULTS',\n",
       " 'RESULTS',\n",
       " 'RESULTS',\n",
       " 'RESULTS',\n",
       " 'CONCLUSIONS',\n",
       " 'CONCLUSIONS',\n",
       " 'BACKGROUND',\n",
       " 'OBJECTIVE',\n",
       " 'METHODS',\n",
       " 'METHODS',\n",
       " 'METHODS',\n",
       " 'RESULTS',\n",
       " 'RESULTS',\n",
       " 'RESULTS',\n",
       " 'CONCLUSIONS',\n",
       " 'CONCLUSIONS',\n",
       " 'CONCLUSIONS',\n",
       " 'OBJECTIVE',\n",
       " 'METHODS',\n",
       " 'METHODS',\n",
       " 'METHODS',\n",
       " 'RESULTS',\n",
       " 'RESULTS',\n",
       " 'RESULTS',\n",
       " 'RESULTS',\n",
       " 'RESULTS',\n",
       " 'RESULTS',\n",
       " 'BACKGROUND',\n",
       " 'METHODS',\n",
       " 'METHODS',\n",
       " 'RESULTS',\n",
       " 'RESULTS',\n",
       " 'RESULTS',\n",
       " 'RESULTS',\n",
       " 'CONCLUSIONS',\n",
       " 'BACKGROUND',\n",
       " 'OBJECTIVE',\n",
       " 'METHODS',\n",
       " 'METHODS',\n",
       " 'RESULTS',\n",
       " 'RESULTS',\n",
       " 'RESULTS',\n",
       " 'RESULTS',\n",
       " 'RESULTS',\n",
       " 'RESULTS',\n",
       " 'CONCLUSIONS',\n",
       " 'CONCLUSIONS',\n",
       " 'OBJECTIVE',\n",
       " 'METHODS',\n",
       " 'METHODS',\n",
       " 'METHODS',\n",
       " 'METHODS',\n",
       " 'RESULTS',\n",
       " 'RESULTS',\n",
       " 'RESULTS',\n",
       " 'RESULTS',\n",
       " 'RESULTS',\n",
       " 'CONCLUSIONS',\n",
       " 'CONCLUSIONS',\n",
       " 'BACKGROUND',\n",
       " 'BACKGROUND',\n",
       " 'BACKGROUND',\n",
       " 'METHODS',\n",
       " 'METHODS',\n",
       " 'METHODS',\n",
       " 'METHODS',\n",
       " 'RESULTS',\n",
       " 'RESULTS',\n",
       " 'RESULTS',\n",
       " 'RESULTS',\n",
       " 'RESULTS',\n",
       " 'RESULTS',\n",
       " 'RESULTS',\n",
       " 'RESULTS',\n",
       " 'CONCLUSIONS',\n",
       " 'CONCLUSIONS',\n",
       " 'CONCLUSIONS',\n",
       " 'BACKGROUND',\n",
       " 'BACKGROUND',\n",
       " 'OBJECTIVE',\n",
       " 'METHODS',\n",
       " 'METHODS',\n",
       " 'RESULTS',\n",
       " 'METHODS',\n",
       " 'RESULTS',\n",
       " 'RESULTS',\n",
       " 'RESULTS',\n",
       " 'RESULTS',\n",
       " 'RESULTS',\n",
       " 'RESULTS',\n",
       " 'CONCLUSIONS',\n",
       " 'CONCLUSIONS',\n",
       " 'OBJECTIVE',\n",
       " 'OBJECTIVE',\n",
       " 'RESULTS',\n",
       " 'RESULTS',\n",
       " 'METHODS',\n",
       " 'RESULTS',\n",
       " 'RESULTS',\n",
       " 'RESULTS',\n",
       " 'RESULTS',\n",
       " 'RESULTS',\n",
       " 'CONCLUSIONS',\n",
       " 'CONCLUSIONS',\n",
       " 'OBJECTIVE',\n",
       " 'OBJECTIVE',\n",
       " 'METHODS',\n",
       " 'METHODS',\n",
       " 'METHODS',\n",
       " 'METHODS',\n",
       " 'RESULTS',\n",
       " 'RESULTS',\n",
       " 'RESULTS',\n",
       " 'CONCLUSIONS',\n",
       " 'OBJECTIVE',\n",
       " 'METHODS',\n",
       " 'METHODS',\n",
       " 'METHODS',\n",
       " 'RESULTS',\n",
       " 'RESULTS',\n",
       " 'RESULTS',\n",
       " 'RESULTS',\n",
       " 'RESULTS',\n",
       " 'CONCLUSIONS',\n",
       " 'CONCLUSIONS',\n",
       " 'OBJECTIVE',\n",
       " 'METHODS',\n",
       " 'METHODS',\n",
       " 'METHODS',\n",
       " 'RESULTS',\n",
       " 'RESULTS',\n",
       " 'RESULTS',\n",
       " 'RESULTS',\n",
       " 'RESULTS',\n",
       " 'RESULTS',\n",
       " 'RESULTS',\n",
       " 'CONCLUSIONS',\n",
       " 'OBJECTIVE',\n",
       " 'OBJECTIVE',\n",
       " 'RESULTS',\n",
       " 'RESULTS',\n",
       " 'RESULTS',\n",
       " 'RESULTS',\n",
       " 'METHODS',\n",
       " 'METHODS',\n",
       " 'RESULTS',\n",
       " 'BACKGROUND',\n",
       " 'OBJECTIVE',\n",
       " 'METHODS',\n",
       " 'METHODS',\n",
       " 'RESULTS',\n",
       " 'RESULTS',\n",
       " 'RESULTS',\n",
       " 'RESULTS',\n",
       " 'CONCLUSIONS',\n",
       " 'CONCLUSIONS',\n",
       " 'CONCLUSIONS',\n",
       " 'BACKGROUND',\n",
       " 'BACKGROUND',\n",
       " 'BACKGROUND',\n",
       " 'OBJECTIVE',\n",
       " 'METHODS',\n",
       " 'METHODS',\n",
       " 'METHODS',\n",
       " 'RESULTS',\n",
       " 'CONCLUSIONS',\n",
       " 'METHODS',\n",
       " 'CONCLUSIONS',\n",
       " 'BACKGROUND',\n",
       " 'BACKGROUND',\n",
       " 'BACKGROUND',\n",
       " 'BACKGROUND',\n",
       " 'METHODS',\n",
       " 'METHODS',\n",
       " 'METHODS',\n",
       " 'RESULTS',\n",
       " 'RESULTS',\n",
       " 'RESULTS',\n",
       " 'RESULTS',\n",
       " 'CONCLUSIONS',\n",
       " 'CONCLUSIONS',\n",
       " 'CONCLUSIONS',\n",
       " 'CONCLUSIONS',\n",
       " 'BACKGROUND',\n",
       " 'BACKGROUND',\n",
       " 'BACKGROUND',\n",
       " 'METHODS',\n",
       " 'METHODS',\n",
       " 'METHODS',\n",
       " 'METHODS',\n",
       " 'RESULTS',\n",
       " 'RESULTS',\n",
       " 'RESULTS',\n",
       " 'RESULTS',\n",
       " 'CONCLUSIONS',\n",
       " 'CONCLUSIONS',\n",
       " 'CONCLUSIONS',\n",
       " 'BACKGROUND',\n",
       " 'BACKGROUND',\n",
       " 'BACKGROUND',\n",
       " 'OBJECTIVE',\n",
       " 'METHODS',\n",
       " 'METHODS',\n",
       " 'RESULTS',\n",
       " 'RESULTS',\n",
       " 'RESULTS',\n",
       " 'CONCLUSIONS',\n",
       " 'CONCLUSIONS',\n",
       " 'BACKGROUND',\n",
       " 'BACKGROUND',\n",
       " 'METHODS',\n",
       " 'METHODS',\n",
       " 'RESULTS',\n",
       " 'RESULTS',\n",
       " 'RESULTS',\n",
       " 'RESULTS',\n",
       " 'RESULTS',\n",
       " 'CONCLUSIONS',\n",
       " 'CONCLUSIONS',\n",
       " 'BACKGROUND',\n",
       " 'OBJECTIVE',\n",
       " 'METHODS',\n",
       " 'METHODS',\n",
       " 'METHODS',\n",
       " 'RESULTS',\n",
       " 'RESULTS',\n",
       " 'RESULTS',\n",
       " 'RESULTS',\n",
       " 'RESULTS',\n",
       " 'CONCLUSIONS',\n",
       " 'CONCLUSIONS',\n",
       " 'BACKGROUND',\n",
       " 'OBJECTIVE',\n",
       " 'METHODS',\n",
       " 'METHODS',\n",
       " 'METHODS',\n",
       " 'RESULTS',\n",
       " 'CONCLUSIONS',\n",
       " 'CONCLUSIONS',\n",
       " 'CONCLUSIONS',\n",
       " 'OBJECTIVE',\n",
       " 'METHODS',\n",
       " 'METHODS',\n",
       " 'METHODS',\n",
       " 'RESULTS',\n",
       " 'RESULTS',\n",
       " 'RESULTS',\n",
       " 'RESULTS',\n",
       " 'CONCLUSIONS',\n",
       " 'BACKGROUND',\n",
       " 'BACKGROUND',\n",
       " 'METHODS',\n",
       " 'METHODS',\n",
       " 'METHODS',\n",
       " 'RESULTS',\n",
       " 'RESULTS',\n",
       " 'RESULTS',\n",
       " 'RESULTS',\n",
       " 'RESULTS',\n",
       " 'RESULTS',\n",
       " 'CONCLUSIONS',\n",
       " 'BACKGROUND',\n",
       " 'BACKGROUND',\n",
       " 'BACKGROUND',\n",
       " 'BACKGROUND',\n",
       " 'OBJECTIVE',\n",
       " 'METHODS',\n",
       " 'METHODS',\n",
       " 'METHODS',\n",
       " 'METHODS',\n",
       " 'METHODS',\n",
       " 'RESULTS',\n",
       " 'RESULTS',\n",
       " 'RESULTS',\n",
       " 'CONCLUSIONS',\n",
       " 'CONCLUSIONS',\n",
       " 'OBJECTIVE',\n",
       " 'OBJECTIVE',\n",
       " 'METHODS',\n",
       " 'METHODS',\n",
       " 'RESULTS',\n",
       " 'RESULTS',\n",
       " 'RESULTS',\n",
       " 'CONCLUSIONS',\n",
       " 'CONCLUSIONS',\n",
       " 'BACKGROUND',\n",
       " 'BACKGROUND',\n",
       " 'BACKGROUND',\n",
       " 'METHODS',\n",
       " 'METHODS',\n",
       " 'METHODS',\n",
       " 'METHODS',\n",
       " 'METHODS',\n",
       " 'METHODS',\n",
       " 'RESULTS',\n",
       " 'METHODS',\n",
       " 'RESULTS',\n",
       " 'CONCLUSIONS',\n",
       " 'METHODS',\n",
       " 'CONCLUSIONS',\n",
       " 'RESULTS',\n",
       " 'RESULTS',\n",
       " 'RESULTS',\n",
       " 'RESULTS',\n",
       " 'BACKGROUND',\n",
       " 'OBJECTIVE',\n",
       " 'METHODS',\n",
       " 'METHODS',\n",
       " 'METHODS',\n",
       " 'RESULTS',\n",
       " 'METHODS',\n",
       " 'RESULTS',\n",
       " 'RESULTS',\n",
       " 'RESULTS',\n",
       " 'RESULTS',\n",
       " 'CONCLUSIONS',\n",
       " 'CONCLUSIONS',\n",
       " 'CONCLUSIONS',\n",
       " 'CONCLUSIONS',\n",
       " 'BACKGROUND',\n",
       " 'OBJECTIVE',\n",
       " 'METHODS',\n",
       " 'METHODS',\n",
       " 'RESULTS',\n",
       " 'METHODS',\n",
       " 'METHODS',\n",
       " 'METHODS',\n",
       " 'RESULTS',\n",
       " 'RESULTS',\n",
       " 'CONCLUSIONS',\n",
       " 'CONCLUSIONS',\n",
       " 'CONCLUSIONS',\n",
       " 'BACKGROUND',\n",
       " 'BACKGROUND',\n",
       " 'OBJECTIVE',\n",
       " 'METHODS',\n",
       " 'METHODS',\n",
       " 'METHODS',\n",
       " 'RESULTS',\n",
       " 'RESULTS',\n",
       " 'RESULTS',\n",
       " 'RESULTS',\n",
       " 'RESULTS',\n",
       " 'CONCLUSIONS',\n",
       " 'CONCLUSIONS',\n",
       " 'OBJECTIVE',\n",
       " 'OBJECTIVE',\n",
       " 'METHODS',\n",
       " 'METHODS',\n",
       " 'RESULTS',\n",
       " 'RESULTS',\n",
       " 'RESULTS',\n",
       " 'CONCLUSIONS',\n",
       " 'CONCLUSIONS',\n",
       " 'OBJECTIVE',\n",
       " 'METHODS',\n",
       " 'METHODS',\n",
       " 'CONCLUSIONS',\n",
       " 'METHODS',\n",
       " 'RESULTS',\n",
       " 'RESULTS',\n",
       " 'OBJECTIVE',\n",
       " 'BACKGROUND',\n",
       " 'BACKGROUND',\n",
       " 'METHODS',\n",
       " 'METHODS',\n",
       " 'METHODS',\n",
       " 'METHODS',\n",
       " 'RESULTS',\n",
       " 'RESULTS',\n",
       " 'METHODS',\n",
       " 'METHODS',\n",
       " 'RESULTS',\n",
       " 'RESULTS',\n",
       " 'CONCLUSIONS',\n",
       " 'CONCLUSIONS',\n",
       " 'CONCLUSIONS',\n",
       " 'OBJECTIVE',\n",
       " 'METHODS',\n",
       " 'METHODS',\n",
       " 'RESULTS',\n",
       " 'RESULTS',\n",
       " 'METHODS',\n",
       " 'RESULTS',\n",
       " 'CONCLUSIONS',\n",
       " 'BACKGROUND',\n",
       " 'BACKGROUND',\n",
       " 'METHODS',\n",
       " 'METHODS',\n",
       " 'METHODS',\n",
       " 'METHODS',\n",
       " 'RESULTS',\n",
       " 'RESULTS',\n",
       " 'RESULTS',\n",
       " 'RESULTS',\n",
       " 'RESULTS',\n",
       " 'RESULTS',\n",
       " 'CONCLUSIONS',\n",
       " 'CONCLUSIONS',\n",
       " 'BACKGROUND',\n",
       " 'BACKGROUND',\n",
       " 'BACKGROUND',\n",
       " 'METHODS',\n",
       " 'METHODS',\n",
       " 'METHODS',\n",
       " 'METHODS',\n",
       " 'RESULTS',\n",
       " 'METHODS',\n",
       " 'RESULTS',\n",
       " 'RESULTS',\n",
       " 'CONCLUSIONS',\n",
       " 'CONCLUSIONS',\n",
       " 'CONCLUSIONS',\n",
       " 'CONCLUSIONS',\n",
       " 'OBJECTIVE',\n",
       " 'METHODS',\n",
       " 'METHODS',\n",
       " 'METHODS',\n",
       " 'METHODS',\n",
       " 'METHODS',\n",
       " 'METHODS',\n",
       " 'RESULTS',\n",
       " 'RESULTS',\n",
       " 'RESULTS',\n",
       " 'RESULTS',\n",
       " 'RESULTS',\n",
       " 'RESULTS',\n",
       " 'CONCLUSIONS',\n",
       " 'CONCLUSIONS',\n",
       " 'BACKGROUND',\n",
       " 'METHODS',\n",
       " 'BACKGROUND',\n",
       " 'OBJECTIVE',\n",
       " 'METHODS',\n",
       " 'RESULTS',\n",
       " 'RESULTS',\n",
       " 'RESULTS',\n",
       " 'RESULTS',\n",
       " 'RESULTS',\n",
       " 'CONCLUSIONS',\n",
       " 'CONCLUSIONS',\n",
       " 'BACKGROUND',\n",
       " 'BACKGROUND',\n",
       " 'METHODS',\n",
       " 'METHODS',\n",
       " 'METHODS',\n",
       " 'RESULTS',\n",
       " 'RESULTS',\n",
       " 'RESULTS',\n",
       " 'RESULTS',\n",
       " 'RESULTS',\n",
       " 'RESULTS',\n",
       " 'CONCLUSIONS',\n",
       " 'CONCLUSIONS',\n",
       " 'BACKGROUND',\n",
       " 'BACKGROUND',\n",
       " 'BACKGROUND',\n",
       " 'OBJECTIVE',\n",
       " 'METHODS',\n",
       " 'METHODS',\n",
       " 'METHODS',\n",
       " 'METHODS',\n",
       " 'METHODS',\n",
       " 'METHODS',\n",
       " 'RESULTS',\n",
       " 'RESULTS',\n",
       " 'RESULTS',\n",
       " 'RESULTS',\n",
       " 'RESULTS',\n",
       " 'RESULTS',\n",
       " 'RESULTS',\n",
       " 'RESULTS',\n",
       " 'RESULTS',\n",
       " 'CONCLUSIONS',\n",
       " 'CONCLUSIONS',\n",
       " 'BACKGROUND',\n",
       " 'OBJECTIVE',\n",
       " 'METHODS',\n",
       " 'METHODS',\n",
       " 'METHODS',\n",
       " 'METHODS',\n",
       " 'RESULTS',\n",
       " 'RESULTS',\n",
       " 'RESULTS',\n",
       " 'CONCLUSIONS',\n",
       " 'CONCLUSIONS',\n",
       " 'CONCLUSIONS',\n",
       " 'BACKGROUND',\n",
       " 'BACKGROUND',\n",
       " 'METHODS',\n",
       " 'METHODS',\n",
       " 'METHODS',\n",
       " 'METHODS',\n",
       " 'METHODS',\n",
       " 'METHODS',\n",
       " 'RESULTS',\n",
       " 'RESULTS',\n",
       " 'CONCLUSIONS',\n",
       " 'CONCLUSIONS',\n",
       " 'CONCLUSIONS',\n",
       " 'BACKGROUND',\n",
       " 'BACKGROUND',\n",
       " 'BACKGROUND',\n",
       " 'BACKGROUND',\n",
       " 'BACKGROUND',\n",
       " 'OBJECTIVE',\n",
       " 'METHODS',\n",
       " 'METHODS',\n",
       " 'RESULTS',\n",
       " 'RESULTS',\n",
       " 'RESULTS',\n",
       " 'CONCLUSIONS',\n",
       " 'CONCLUSIONS',\n",
       " 'BACKGROUND',\n",
       " 'METHODS',\n",
       " 'BACKGROUND',\n",
       " 'BACKGROUND',\n",
       " 'METHODS',\n",
       " 'METHODS',\n",
       " 'METHODS',\n",
       " 'METHODS',\n",
       " 'RESULTS',\n",
       " 'RESULTS',\n",
       " 'RESULTS',\n",
       " 'RESULTS',\n",
       " 'RESULTS',\n",
       " 'RESULTS',\n",
       " 'CONCLUSIONS',\n",
       " 'BACKGROUND',\n",
       " 'BACKGROUND',\n",
       " 'BACKGROUND',\n",
       " 'METHODS',\n",
       " 'METHODS',\n",
       " 'METHODS',\n",
       " 'RESULTS',\n",
       " 'METHODS',\n",
       " 'RESULTS',\n",
       " 'RESULTS',\n",
       " 'RESULTS',\n",
       " 'RESULTS',\n",
       " 'CONCLUSIONS',\n",
       " 'OBJECTIVE',\n",
       " 'RESULTS',\n",
       " 'METHODS',\n",
       " 'RESULTS',\n",
       " 'RESULTS',\n",
       " 'RESULTS',\n",
       " 'RESULTS',\n",
       " 'RESULTS',\n",
       " 'CONCLUSIONS',\n",
       " 'RESULTS',\n",
       " 'RESULTS',\n",
       " 'CONCLUSIONS',\n",
       " 'BACKGROUND',\n",
       " 'OBJECTIVE',\n",
       " 'METHODS',\n",
       " 'METHODS',\n",
       " 'RESULTS',\n",
       " 'RESULTS',\n",
       " 'RESULTS',\n",
       " 'RESULTS',\n",
       " 'RESULTS',\n",
       " 'CONCLUSIONS',\n",
       " 'CONCLUSIONS',\n",
       " 'CONCLUSIONS',\n",
       " 'BACKGROUND',\n",
       " 'BACKGROUND',\n",
       " 'METHODS',\n",
       " 'METHODS',\n",
       " 'METHODS',\n",
       " 'METHODS',\n",
       " 'METHODS',\n",
       " 'RESULTS',\n",
       " 'RESULTS',\n",
       " 'RESULTS',\n",
       " 'CONCLUSIONS',\n",
       " 'CONCLUSIONS',\n",
       " 'OBJECTIVE',\n",
       " 'METHODS',\n",
       " 'METHODS',\n",
       " 'METHODS',\n",
       " 'METHODS',\n",
       " 'RESULTS',\n",
       " 'RESULTS',\n",
       " 'RESULTS',\n",
       " 'CONCLUSIONS',\n",
       " 'RESULTS',\n",
       " 'BACKGROUND',\n",
       " 'BACKGROUND',\n",
       " 'METHODS',\n",
       " 'METHODS',\n",
       " 'METHODS',\n",
       " 'METHODS',\n",
       " 'METHODS',\n",
       " 'RESULTS',\n",
       " 'RESULTS',\n",
       " 'RESULTS',\n",
       " 'RESULTS',\n",
       " 'RESULTS',\n",
       " 'CONCLUSIONS',\n",
       " 'BACKGROUND',\n",
       " 'METHODS',\n",
       " 'RESULTS',\n",
       " 'RESULTS',\n",
       " 'RESULTS',\n",
       " 'RESULTS',\n",
       " 'RESULTS',\n",
       " 'CONCLUSIONS',\n",
       " 'CONCLUSIONS',\n",
       " 'BACKGROUND',\n",
       " 'BACKGROUND',\n",
       " 'BACKGROUND',\n",
       " 'BACKGROUND',\n",
       " 'METHODS',\n",
       " 'RESULTS',\n",
       " 'METHODS',\n",
       " 'METHODS',\n",
       " 'METHODS',\n",
       " 'METHODS',\n",
       " 'METHODS',\n",
       " 'RESULTS',\n",
       " 'RESULTS',\n",
       " 'CONCLUSIONS',\n",
       " 'CONCLUSIONS',\n",
       " 'BACKGROUND',\n",
       " 'BACKGROUND',\n",
       " 'METHODS',\n",
       " 'METHODS',\n",
       " 'METHODS',\n",
       " 'RESULTS',\n",
       " 'METHODS',\n",
       " 'RESULTS',\n",
       " 'RESULTS',\n",
       " 'RESULTS',\n",
       " 'RESULTS',\n",
       " 'CONCLUSIONS',\n",
       " 'CONCLUSIONS',\n",
       " 'CONCLUSIONS',\n",
       " 'CONCLUSIONS',\n",
       " 'BACKGROUND',\n",
       " 'METHODS',\n",
       " 'METHODS',\n",
       " 'METHODS',\n",
       " 'METHODS',\n",
       " 'METHODS',\n",
       " 'RESULTS',\n",
       " 'RESULTS',\n",
       " 'RESULTS',\n",
       " 'RESULTS',\n",
       " 'RESULTS',\n",
       " 'RESULTS',\n",
       " 'CONCLUSIONS',\n",
       " 'RESULTS',\n",
       " 'METHODS',\n",
       " 'OBJECTIVE',\n",
       " 'METHODS',\n",
       " 'RESULTS',\n",
       " 'METHODS',\n",
       " 'RESULTS',\n",
       " 'RESULTS',\n",
       " 'RESULTS',\n",
       " 'RESULTS',\n",
       " 'RESULTS',\n",
       " 'CONCLUSIONS',\n",
       " 'CONCLUSIONS',\n",
       " 'BACKGROUND',\n",
       " 'BACKGROUND',\n",
       " 'BACKGROUND',\n",
       " 'OBJECTIVE',\n",
       " 'METHODS',\n",
       " 'METHODS',\n",
       " 'METHODS',\n",
       " 'METHODS',\n",
       " 'RESULTS',\n",
       " 'RESULTS',\n",
       " 'RESULTS',\n",
       " 'RESULTS',\n",
       " 'RESULTS',\n",
       " 'RESULTS',\n",
       " 'RESULTS',\n",
       " 'CONCLUSIONS',\n",
       " 'RESULTS',\n",
       " 'CONCLUSIONS',\n",
       " 'CONCLUSIONS',\n",
       " 'BACKGROUND',\n",
       " 'OBJECTIVE',\n",
       " 'METHODS',\n",
       " 'METHODS',\n",
       " 'METHODS',\n",
       " 'RESULTS',\n",
       " 'RESULTS',\n",
       " 'RESULTS',\n",
       " 'CONCLUSIONS',\n",
       " 'BACKGROUND',\n",
       " 'BACKGROUND',\n",
       " 'METHODS',\n",
       " 'METHODS',\n",
       " 'METHODS',\n",
       " 'METHODS',\n",
       " 'METHODS',\n",
       " 'METHODS',\n",
       " 'RESULTS',\n",
       " 'RESULTS',\n",
       " 'RESULTS',\n",
       " 'CONCLUSIONS',\n",
       " 'CONCLUSIONS',\n",
       " ...]"
      ]
     },
     "execution_count": 121,
     "metadata": {},
     "output_type": "execute_result"
    }
   ],
   "source": [
    "%%time\n",
    "# Get list of class names of test predictions\n",
    "test_pred_classes = [label_encoder.classes_[pred] for pred in test_preds]\n",
    "test_pred_classes"
   ]
  },
  {
   "cell_type": "markdown",
   "id": "7d8d10cb",
   "metadata": {},
   "source": [
    "Now we'll enrich our test DataFame with a few values:\n",
    "\n",
    "* A \"`prediction`\" (string) column containing our model's prediction for a given sample.\n",
    "* A \"`pred_prob`\" (float) column containing the model's maximum prediction probabiliy for a given sample.\n",
    "* A \"`correct`\" (bool) column to indicate whether or not the model's prediction matches the sample's target label."
   ]
  },
  {
   "cell_type": "code",
   "execution_count": 122,
   "id": "83f0600f",
   "metadata": {},
   "outputs": [
    {
     "data": {
      "text/html": [
       "<div>\n",
       "<style scoped>\n",
       "    .dataframe tbody tr th:only-of-type {\n",
       "        vertical-align: middle;\n",
       "    }\n",
       "\n",
       "    .dataframe tbody tr th {\n",
       "        vertical-align: top;\n",
       "    }\n",
       "\n",
       "    .dataframe thead th {\n",
       "        text-align: right;\n",
       "    }\n",
       "</style>\n",
       "<table border=\"1\" class=\"dataframe\">\n",
       "  <thead>\n",
       "    <tr style=\"text-align: right;\">\n",
       "      <th></th>\n",
       "      <th>target</th>\n",
       "      <th>text</th>\n",
       "      <th>line_number</th>\n",
       "      <th>total_lines</th>\n",
       "      <th>prediction</th>\n",
       "      <th>pred_prob</th>\n",
       "      <th>correct</th>\n",
       "    </tr>\n",
       "  </thead>\n",
       "  <tbody>\n",
       "    <tr>\n",
       "      <th>0</th>\n",
       "      <td>BACKGROUND</td>\n",
       "      <td>this study analyzed liver function abnormaliti...</td>\n",
       "      <td>0</td>\n",
       "      <td>8</td>\n",
       "      <td>OBJECTIVE</td>\n",
       "      <td>0.487872</td>\n",
       "      <td>False</td>\n",
       "    </tr>\n",
       "    <tr>\n",
       "      <th>1</th>\n",
       "      <td>RESULTS</td>\n",
       "      <td>a post hoc analysis was conducted with the use...</td>\n",
       "      <td>1</td>\n",
       "      <td>8</td>\n",
       "      <td>BACKGROUND</td>\n",
       "      <td>0.352792</td>\n",
       "      <td>False</td>\n",
       "    </tr>\n",
       "    <tr>\n",
       "      <th>2</th>\n",
       "      <td>RESULTS</td>\n",
       "      <td>liver function tests ( lfts ) were measured at...</td>\n",
       "      <td>2</td>\n",
       "      <td>8</td>\n",
       "      <td>METHODS</td>\n",
       "      <td>0.816842</td>\n",
       "      <td>False</td>\n",
       "    </tr>\n",
       "    <tr>\n",
       "      <th>3</th>\n",
       "      <td>RESULTS</td>\n",
       "      <td>survival analyses were used to assess the asso...</td>\n",
       "      <td>3</td>\n",
       "      <td>8</td>\n",
       "      <td>METHODS</td>\n",
       "      <td>0.607050</td>\n",
       "      <td>False</td>\n",
       "    </tr>\n",
       "    <tr>\n",
       "      <th>4</th>\n",
       "      <td>RESULTS</td>\n",
       "      <td>the percentage of patients with abnormal lfts ...</td>\n",
       "      <td>4</td>\n",
       "      <td>8</td>\n",
       "      <td>RESULTS</td>\n",
       "      <td>0.720639</td>\n",
       "      <td>True</td>\n",
       "    </tr>\n",
       "    <tr>\n",
       "      <th>5</th>\n",
       "      <td>RESULTS</td>\n",
       "      <td>when mean hemodynamic profiles were compared i...</td>\n",
       "      <td>5</td>\n",
       "      <td>8</td>\n",
       "      <td>RESULTS</td>\n",
       "      <td>0.885640</td>\n",
       "      <td>True</td>\n",
       "    </tr>\n",
       "    <tr>\n",
       "      <th>6</th>\n",
       "      <td>RESULTS</td>\n",
       "      <td>multivariable analyses revealed that patients ...</td>\n",
       "      <td>6</td>\n",
       "      <td>8</td>\n",
       "      <td>RESULTS</td>\n",
       "      <td>0.610795</td>\n",
       "      <td>True</td>\n",
       "    </tr>\n",
       "    <tr>\n",
       "      <th>7</th>\n",
       "      <td>CONCLUSIONS</td>\n",
       "      <td>abnormal lfts are common in the adhf populatio...</td>\n",
       "      <td>7</td>\n",
       "      <td>8</td>\n",
       "      <td>CONCLUSIONS</td>\n",
       "      <td>0.469082</td>\n",
       "      <td>True</td>\n",
       "    </tr>\n",
       "    <tr>\n",
       "      <th>8</th>\n",
       "      <td>CONCLUSIONS</td>\n",
       "      <td>elevated meld-xi scores are associated with po...</td>\n",
       "      <td>8</td>\n",
       "      <td>8</td>\n",
       "      <td>RESULTS</td>\n",
       "      <td>0.480830</td>\n",
       "      <td>False</td>\n",
       "    </tr>\n",
       "    <tr>\n",
       "      <th>9</th>\n",
       "      <td>BACKGROUND</td>\n",
       "      <td>minimally invasive endovascular aneurysm repai...</td>\n",
       "      <td>0</td>\n",
       "      <td>12</td>\n",
       "      <td>BACKGROUND</td>\n",
       "      <td>0.557270</td>\n",
       "      <td>True</td>\n",
       "    </tr>\n",
       "    <tr>\n",
       "      <th>10</th>\n",
       "      <td>BACKGROUND</td>\n",
       "      <td>the aim of this study was to analyse the cost-...</td>\n",
       "      <td>1</td>\n",
       "      <td>12</td>\n",
       "      <td>OBJECTIVE</td>\n",
       "      <td>0.484915</td>\n",
       "      <td>False</td>\n",
       "    </tr>\n",
       "    <tr>\n",
       "      <th>11</th>\n",
       "      <td>METHODS</td>\n",
       "      <td>resource use was determined from the amsterdam...</td>\n",
       "      <td>2</td>\n",
       "      <td>12</td>\n",
       "      <td>METHODS</td>\n",
       "      <td>0.598262</td>\n",
       "      <td>True</td>\n",
       "    </tr>\n",
       "    <tr>\n",
       "      <th>12</th>\n",
       "      <td>METHODS</td>\n",
       "      <td>the analysis was performed from a provider per...</td>\n",
       "      <td>3</td>\n",
       "      <td>12</td>\n",
       "      <td>METHODS</td>\n",
       "      <td>0.873918</td>\n",
       "      <td>True</td>\n",
       "    </tr>\n",
       "    <tr>\n",
       "      <th>13</th>\n",
       "      <td>METHODS</td>\n",
       "      <td>all costs were calculated as if all patients h...</td>\n",
       "      <td>4</td>\n",
       "      <td>12</td>\n",
       "      <td>METHODS</td>\n",
       "      <td>0.620130</td>\n",
       "      <td>True</td>\n",
       "    </tr>\n",
       "    <tr>\n",
       "      <th>14</th>\n",
       "      <td>RESULTS</td>\n",
       "      <td>a total of @ patients were randomized .</td>\n",
       "      <td>5</td>\n",
       "      <td>12</td>\n",
       "      <td>RESULTS</td>\n",
       "      <td>0.721377</td>\n",
       "      <td>True</td>\n",
       "    </tr>\n",
       "    <tr>\n",
       "      <th>15</th>\n",
       "      <td>RESULTS</td>\n",
       "      <td>the @-day mortality rate was @ per cent after ...</td>\n",
       "      <td>6</td>\n",
       "      <td>12</td>\n",
       "      <td>RESULTS</td>\n",
       "      <td>0.685469</td>\n",
       "      <td>True</td>\n",
       "    </tr>\n",
       "    <tr>\n",
       "      <th>16</th>\n",
       "      <td>RESULTS</td>\n",
       "      <td>at @months , the total mortality rate for evar...</td>\n",
       "      <td>7</td>\n",
       "      <td>12</td>\n",
       "      <td>RESULTS</td>\n",
       "      <td>0.881924</td>\n",
       "      <td>True</td>\n",
       "    </tr>\n",
       "    <tr>\n",
       "      <th>17</th>\n",
       "      <td>RESULTS</td>\n",
       "      <td>the mean cost difference between evar and or w...</td>\n",
       "      <td>8</td>\n",
       "      <td>12</td>\n",
       "      <td>RESULTS</td>\n",
       "      <td>0.844950</td>\n",
       "      <td>True</td>\n",
       "    </tr>\n",
       "    <tr>\n",
       "      <th>18</th>\n",
       "      <td>RESULTS</td>\n",
       "      <td>the incremental cost-effectiveness ratio per p...</td>\n",
       "      <td>9</td>\n",
       "      <td>12</td>\n",
       "      <td>RESULTS</td>\n",
       "      <td>0.791619</td>\n",
       "      <td>True</td>\n",
       "    </tr>\n",
       "    <tr>\n",
       "      <th>19</th>\n",
       "      <td>RESULTS</td>\n",
       "      <td>there was no significant difference in quality...</td>\n",
       "      <td>10</td>\n",
       "      <td>12</td>\n",
       "      <td>RESULTS</td>\n",
       "      <td>0.752283</td>\n",
       "      <td>True</td>\n",
       "    </tr>\n",
       "  </tbody>\n",
       "</table>\n",
       "</div>"
      ],
      "text/plain": [
       "         target                                               text  \\\n",
       "0    BACKGROUND  this study analyzed liver function abnormaliti...   \n",
       "1       RESULTS  a post hoc analysis was conducted with the use...   \n",
       "2       RESULTS  liver function tests ( lfts ) were measured at...   \n",
       "3       RESULTS  survival analyses were used to assess the asso...   \n",
       "4       RESULTS  the percentage of patients with abnormal lfts ...   \n",
       "5       RESULTS  when mean hemodynamic profiles were compared i...   \n",
       "6       RESULTS  multivariable analyses revealed that patients ...   \n",
       "7   CONCLUSIONS  abnormal lfts are common in the adhf populatio...   \n",
       "8   CONCLUSIONS  elevated meld-xi scores are associated with po...   \n",
       "9    BACKGROUND  minimally invasive endovascular aneurysm repai...   \n",
       "10   BACKGROUND  the aim of this study was to analyse the cost-...   \n",
       "11      METHODS  resource use was determined from the amsterdam...   \n",
       "12      METHODS  the analysis was performed from a provider per...   \n",
       "13      METHODS  all costs were calculated as if all patients h...   \n",
       "14      RESULTS            a total of @ patients were randomized .   \n",
       "15      RESULTS  the @-day mortality rate was @ per cent after ...   \n",
       "16      RESULTS  at @months , the total mortality rate for evar...   \n",
       "17      RESULTS  the mean cost difference between evar and or w...   \n",
       "18      RESULTS  the incremental cost-effectiveness ratio per p...   \n",
       "19      RESULTS  there was no significant difference in quality...   \n",
       "\n",
       "    line_number  total_lines   prediction  pred_prob  correct  \n",
       "0             0            8    OBJECTIVE   0.487872    False  \n",
       "1             1            8   BACKGROUND   0.352792    False  \n",
       "2             2            8      METHODS   0.816842    False  \n",
       "3             3            8      METHODS   0.607050    False  \n",
       "4             4            8      RESULTS   0.720639     True  \n",
       "5             5            8      RESULTS   0.885640     True  \n",
       "6             6            8      RESULTS   0.610795     True  \n",
       "7             7            8  CONCLUSIONS   0.469082     True  \n",
       "8             8            8      RESULTS   0.480830    False  \n",
       "9             0           12   BACKGROUND   0.557270     True  \n",
       "10            1           12    OBJECTIVE   0.484915    False  \n",
       "11            2           12      METHODS   0.598262     True  \n",
       "12            3           12      METHODS   0.873918     True  \n",
       "13            4           12      METHODS   0.620130     True  \n",
       "14            5           12      RESULTS   0.721377     True  \n",
       "15            6           12      RESULTS   0.685469     True  \n",
       "16            7           12      RESULTS   0.881924     True  \n",
       "17            8           12      RESULTS   0.844950     True  \n",
       "18            9           12      RESULTS   0.791619     True  \n",
       "19           10           12      RESULTS   0.752283     True  "
      ]
     },
     "execution_count": 122,
     "metadata": {},
     "output_type": "execute_result"
    }
   ],
   "source": [
    "# Create prediction-enriched test dataframe\n",
    "test_df[\"prediction\"] = test_pred_classes # create column with test prediction class names\n",
    "test_df[\"pred_prob\"] = tf.reduce_max(test_pred_probs, axis=1).numpy() # get the maximum prediction probability\n",
    "test_df[\"correct\"] = test_df[\"prediction\"] == test_df[\"target\"] # create binary column for whether the prediction is right or not\n",
    "test_df.head(20)"
   ]
  },
  {
   "cell_type": "markdown",
   "id": "3dac4fed",
   "metadata": {},
   "source": [
    "Looking good! Having our data like this, makes it very easy to manipulate and view in different ways.\n",
    "\n",
    "How about we sort our DataFrame to find the samples with the highest `\"pred_prob\"` and where the prediction was wrong (`\"correct\" == False`)?"
   ]
  },
  {
   "cell_type": "code",
   "execution_count": 123,
   "id": "79525515",
   "metadata": {},
   "outputs": [
    {
     "data": {
      "text/html": [
       "<div>\n",
       "<style scoped>\n",
       "    .dataframe tbody tr th:only-of-type {\n",
       "        vertical-align: middle;\n",
       "    }\n",
       "\n",
       "    .dataframe tbody tr th {\n",
       "        vertical-align: top;\n",
       "    }\n",
       "\n",
       "    .dataframe thead th {\n",
       "        text-align: right;\n",
       "    }\n",
       "</style>\n",
       "<table border=\"1\" class=\"dataframe\">\n",
       "  <thead>\n",
       "    <tr style=\"text-align: right;\">\n",
       "      <th></th>\n",
       "      <th>target</th>\n",
       "      <th>text</th>\n",
       "      <th>line_number</th>\n",
       "      <th>total_lines</th>\n",
       "      <th>prediction</th>\n",
       "      <th>pred_prob</th>\n",
       "      <th>correct</th>\n",
       "    </tr>\n",
       "  </thead>\n",
       "  <tbody>\n",
       "    <tr>\n",
       "      <th>13874</th>\n",
       "      <td>CONCLUSIONS</td>\n",
       "      <td>symptom outcomes will be assessed and estimate...</td>\n",
       "      <td>4</td>\n",
       "      <td>6</td>\n",
       "      <td>METHODS</td>\n",
       "      <td>0.942245</td>\n",
       "      <td>False</td>\n",
       "    </tr>\n",
       "    <tr>\n",
       "      <th>16347</th>\n",
       "      <td>BACKGROUND</td>\n",
       "      <td>to evaluate the effects of the lactic acid bac...</td>\n",
       "      <td>0</td>\n",
       "      <td>12</td>\n",
       "      <td>OBJECTIVE</td>\n",
       "      <td>0.937707</td>\n",
       "      <td>False</td>\n",
       "    </tr>\n",
       "    <tr>\n",
       "      <th>2388</th>\n",
       "      <td>RESULTS</td>\n",
       "      <td>the primary endpoint is the cumulative three-y...</td>\n",
       "      <td>4</td>\n",
       "      <td>13</td>\n",
       "      <td>METHODS</td>\n",
       "      <td>0.928250</td>\n",
       "      <td>False</td>\n",
       "    </tr>\n",
       "    <tr>\n",
       "      <th>4391</th>\n",
       "      <td>CONCLUSIONS</td>\n",
       "      <td>-lsb- netherlands trial register ( http://www....</td>\n",
       "      <td>15</td>\n",
       "      <td>15</td>\n",
       "      <td>BACKGROUND</td>\n",
       "      <td>0.926608</td>\n",
       "      <td>False</td>\n",
       "    </tr>\n",
       "    <tr>\n",
       "      <th>8545</th>\n",
       "      <td>METHODS</td>\n",
       "      <td>pretest-posttest .</td>\n",
       "      <td>1</td>\n",
       "      <td>11</td>\n",
       "      <td>BACKGROUND</td>\n",
       "      <td>0.923357</td>\n",
       "      <td>False</td>\n",
       "    </tr>\n",
       "    <tr>\n",
       "      <th>...</th>\n",
       "      <td>...</td>\n",
       "      <td>...</td>\n",
       "      <td>...</td>\n",
       "      <td>...</td>\n",
       "      <td>...</td>\n",
       "      <td>...</td>\n",
       "      <td>...</td>\n",
       "    </tr>\n",
       "    <tr>\n",
       "      <th>23656</th>\n",
       "      <td>CONCLUSIONS</td>\n",
       "      <td>time until stable health status , length of ca...</td>\n",
       "      <td>9</td>\n",
       "      <td>14</td>\n",
       "      <td>RESULTS</td>\n",
       "      <td>0.841811</td>\n",
       "      <td>False</td>\n",
       "    </tr>\n",
       "    <tr>\n",
       "      <th>19594</th>\n",
       "      <td>RESULTS</td>\n",
       "      <td>changing the fractionation from conventional t...</td>\n",
       "      <td>11</td>\n",
       "      <td>12</td>\n",
       "      <td>CONCLUSIONS</td>\n",
       "      <td>0.840776</td>\n",
       "      <td>False</td>\n",
       "    </tr>\n",
       "    <tr>\n",
       "      <th>29116</th>\n",
       "      <td>CONCLUSIONS</td>\n",
       "      <td>compared with group m , both of group m+r and ...</td>\n",
       "      <td>7</td>\n",
       "      <td>7</td>\n",
       "      <td>RESULTS</td>\n",
       "      <td>0.840253</td>\n",
       "      <td>False</td>\n",
       "    </tr>\n",
       "    <tr>\n",
       "      <th>23592</th>\n",
       "      <td>BACKGROUND</td>\n",
       "      <td>we recorded the number of dead ducklings , gro...</td>\n",
       "      <td>4</td>\n",
       "      <td>12</td>\n",
       "      <td>METHODS</td>\n",
       "      <td>0.839395</td>\n",
       "      <td>False</td>\n",
       "    </tr>\n",
       "    <tr>\n",
       "      <th>22567</th>\n",
       "      <td>BACKGROUND</td>\n",
       "      <td>the safety and tolerability of baicalein were ...</td>\n",
       "      <td>3</td>\n",
       "      <td>21</td>\n",
       "      <td>METHODS</td>\n",
       "      <td>0.839242</td>\n",
       "      <td>False</td>\n",
       "    </tr>\n",
       "  </tbody>\n",
       "</table>\n",
       "<p>100 rows × 7 columns</p>\n",
       "</div>"
      ],
      "text/plain": [
       "            target                                               text  \\\n",
       "13874  CONCLUSIONS  symptom outcomes will be assessed and estimate...   \n",
       "16347   BACKGROUND  to evaluate the effects of the lactic acid bac...   \n",
       "2388       RESULTS  the primary endpoint is the cumulative three-y...   \n",
       "4391   CONCLUSIONS  -lsb- netherlands trial register ( http://www....   \n",
       "8545       METHODS                                 pretest-posttest .   \n",
       "...            ...                                                ...   \n",
       "23656  CONCLUSIONS  time until stable health status , length of ca...   \n",
       "19594      RESULTS  changing the fractionation from conventional t...   \n",
       "29116  CONCLUSIONS  compared with group m , both of group m+r and ...   \n",
       "23592   BACKGROUND  we recorded the number of dead ducklings , gro...   \n",
       "22567   BACKGROUND  the safety and tolerability of baicalein were ...   \n",
       "\n",
       "       line_number  total_lines   prediction  pred_prob  correct  \n",
       "13874            4            6      METHODS   0.942245    False  \n",
       "16347            0           12    OBJECTIVE   0.937707    False  \n",
       "2388             4           13      METHODS   0.928250    False  \n",
       "4391            15           15   BACKGROUND   0.926608    False  \n",
       "8545             1           11   BACKGROUND   0.923357    False  \n",
       "...            ...          ...          ...        ...      ...  \n",
       "23656            9           14      RESULTS   0.841811    False  \n",
       "19594           11           12  CONCLUSIONS   0.840776    False  \n",
       "29116            7            7      RESULTS   0.840253    False  \n",
       "23592            4           12      METHODS   0.839395    False  \n",
       "22567            3           21      METHODS   0.839242    False  \n",
       "\n",
       "[100 rows x 7 columns]"
      ]
     },
     "execution_count": 123,
     "metadata": {},
     "output_type": "execute_result"
    }
   ],
   "source": [
    "# Find top 100 most wrong samples (note: 100 is an abitrary number, you could go through all of them if you wanted)\n",
    "top_100_wrong = test_df[test_df[\"correct\"] == False].sort_values(\"pred_prob\", ascending=False)[:100]\n",
    "top_100_wrong"
   ]
  },
  {
   "cell_type": "code",
   "execution_count": 124,
   "id": "1f37e670",
   "metadata": {},
   "outputs": [
    {
     "name": "stdout",
     "output_type": "stream",
     "text": [
      "Target: CONCLUSIONS, Pred: METHODS, Prob: 0.942245364189148, Line number: 4, Total lines: 6\n",
      "\n",
      "Text:\n",
      "symptom outcomes will be assessed and estimates of cost-effectiveness made .\n",
      "\n",
      "-----\n",
      "\n",
      "Target: BACKGROUND, Pred: OBJECTIVE, Prob: 0.9377066493034363, Line number: 0, Total lines: 12\n",
      "\n",
      "Text:\n",
      "to evaluate the effects of the lactic acid bacterium lactobacillus salivarius on caries risk factors .\n",
      "\n",
      "-----\n",
      "\n",
      "Target: RESULTS, Pred: METHODS, Prob: 0.9282496571540833, Line number: 4, Total lines: 13\n",
      "\n",
      "Text:\n",
      "the primary endpoint is the cumulative three-year hiv incidence .\n",
      "\n",
      "-----\n",
      "\n",
      "Target: CONCLUSIONS, Pred: BACKGROUND, Prob: 0.9266076683998108, Line number: 15, Total lines: 15\n",
      "\n",
      "Text:\n",
      "-lsb- netherlands trial register ( http://www.trialregister.nl/trialreg/index.asp ) , nr @ , date of registration @ december @ . -rsb-\n",
      "\n",
      "-----\n",
      "\n",
      "Target: METHODS, Pred: BACKGROUND, Prob: 0.9233569502830505, Line number: 1, Total lines: 11\n",
      "\n",
      "Text:\n",
      "pretest-posttest .\n",
      "\n",
      "-----\n",
      "\n",
      "Target: OBJECTIVE, Pred: METHODS, Prob: 0.9137524962425232, Line number: 4, Total lines: 27\n",
      "\n",
      "Text:\n",
      "second , we collected patient-reported outcomes for balance confidence and falls control .\n",
      "\n",
      "-----\n",
      "\n",
      "Target: RESULTS, Pred: METHODS, Prob: 0.9110475778579712, Line number: 3, Total lines: 16\n",
      "\n",
      "Text:\n",
      "a cluster randomised trial was implemented with @,@ children in @ government primary schools on the south coast of kenya in @-@ .\n",
      "\n",
      "-----\n",
      "\n",
      "Target: RESULTS, Pred: METHODS, Prob: 0.9106370210647583, Line number: 4, Total lines: 14\n",
      "\n",
      "Text:\n",
      "a screening questionnaire for moh was sent to all @-@ year old patients on these gps ` list .\n",
      "\n",
      "-----\n",
      "\n",
      "Target: BACKGROUND, Pred: METHODS, Prob: 0.9086413979530334, Line number: 5, Total lines: 15\n",
      "\n",
      "Text:\n",
      "an active control arm received salmeterol ( sal ) twice daily .\n",
      "\n",
      "-----\n",
      "\n",
      "Target: METHODS, Pred: RESULTS, Prob: 0.9084769487380981, Line number: 6, Total lines: 9\n",
      "\n",
      "Text:\n",
      "-@ % vs. fish : -@ % vs. fish + s : -@ % ; p < @ ) but there were no significant differences between groups .\n",
      "\n",
      "-----\n",
      "\n"
     ]
    }
   ],
   "source": [
    "# Investigate top wrong preds\n",
    "for row in top_100_wrong[0:10].itertuples(): # adjust indexes to view different samples\n",
    "  _, target, text, line_number, total_lines, prediction, pred_prob, _ = row\n",
    "  print(f\"Target: {target}, Pred: {prediction}, Prob: {pred_prob}, Line number: {line_number}, Total lines: {total_lines}\\n\")\n",
    "  print(f\"Text:\\n{text}\\n\")\n",
    "  print(\"-----\\n\")"
   ]
  },
  {
   "cell_type": "markdown",
   "id": "9b8fa518",
   "metadata": {},
   "source": [
    "What do you notice about the most wrong predictions? Does the model make silly mistakes? Or are some of the labels incorrect/ambiguous (e.g. a line in an abstract could potentially be labelled OBJECTIVE or BACKGROUND and make sense).\n",
    "\n",
    "A next step here would be if there are a fair few samples with inconsistent labels, you could go through your training dataset, update the labels and then retrain a model. The process of using a model to help improve/investigate your dataset's labels is often referred to as **active learning**."
   ]
  },
  {
   "cell_type": "markdown",
   "id": "c2fb8913",
   "metadata": {},
   "source": [
    "## Make example predictions\n",
    "\n",
    "Okay, we've made some predictions on the test dataset, now's time to really test our model out.\n",
    "\n",
    "To do so, we're going to get some data from the wild and see how our model performs.\n",
    "\n",
    "In other words, were going to find an RCT abstract from PubMed, preprocess the text so it works with our model, then pass each sequence in the wild abstract through our model to see what label it predicts.\n",
    "\n",
    "For an appropriate sample, we'll need to search PubMed for RCT's (randomized controlled trials) without abstracts which have been split up (on exploring PubMed you'll notice many of the abstracts are already preformatted into separate sections, this helps dramatically with readability).\n",
    "\n",
    "Going through various PubMed studies, I managed to find the following unstructured abstract from [RCT of a manualized social treatment for high-functioning autism spectrum disorders](https://pubmed.ncbi.nlm.nih.gov/20232240/):\n",
    "\n",
    "This RCT examined the efficacy of a manualized social intervention for children with HFASDs. Participants were randomly assigned to treatment or wait-list conditions. Treatment included instruction and therapeutic activities targeting social skills, face-emotion recognition, interest expansion, and interpretation of non-literal language. A response-cost program was applied to reduce problem behaviors and foster skills acquisition. Significant treatment effects were found for five of seven primary outcome measures (parent ratings and direct child measures). Secondary measures based on staff ratings (treatment group only) corroborated gains reported by parents. High levels of parent, child and staff satisfaction were reported, along with high levels of treatment fidelity. Standardized effect size estimates were primarily in the medium and large ranges and favored the treatment group.\n",
    "\n",
    "Looking at the large chunk of text can seem quite intimidating. Now imagine you're a medical researcher trying to skim through the literature to find a study relevant to your work.\n",
    "\n",
    "Sounds like quite the challenge right?\n",
    "\n",
    "Enter SkimLit 🤓🔥!\n",
    "\n",
    "Let's see what our best model so far (model_5) makes of the above abstract.\n",
    "\n",
    "But wait...\n",
    "\n",
    "As you might've guessed the above abstract hasn't been formatted in the same structure as the data our model has been trained on. Therefore, before we can make a prediction on it, we need to preprocess it just as we have our other sequences.\n",
    "\n",
    "More specifically, for each abstract, we'll need to:\n",
    "\n",
    "1. Split it into sentences (lines).\n",
    "2. Split it into characters.\n",
    "3. Find the number of each line.\n",
    "4. Find the total number of lines.\n",
    "\n",
    "Starting with number 1, there are a couple of ways to split our abstracts into actual sentences. A simple one would be to use Python's in-built split() string method, splitting the abstract wherever a fullstop appears. However, can you imagine where this might go wrong?\n",
    "\n",
    "Another more advanced option would be to leverage **spaCy's** (a very powerful NLP library) **sentencizer** class. Which is an easy to use sentence splitter based on spaCy's English language model.\n",
    "\n",
    "I've prepared some abstracts from PubMed RCT papers to try our model on, we can download them from [GitHub](https://raw.githubusercontent.com/mrdbourke/tensorflow-deep-learning/main/extras/skimlit_example_abstracts.json)."
   ]
  },
  {
   "cell_type": "code",
   "execution_count": 130,
   "id": "b540a900",
   "metadata": {},
   "outputs": [
    {
     "name": "stdout",
     "output_type": "stream",
     "text": [
      "zsh:1: command not found: easy_install\r\n"
     ]
    }
   ],
   "source": [
    "# Download and open example abstracts (copy and pasted from PubMed)\n",
    "!easy_install simplejson\n",
    "import json"
   ]
  },
  {
   "cell_type": "code",
   "execution_count": 131,
   "id": "cded2256",
   "metadata": {},
   "outputs": [
    {
     "name": "stdout",
     "output_type": "stream",
     "text": [
      "--2022-12-16 01:51:56--  https://raw.githubusercontent.com/mrdbourke/tensorflow-deep-learning/main/extras/skimlit_example_abstracts.json\n",
      "Resolving raw.githubusercontent.com (raw.githubusercontent.com)... 185.199.111.133, 185.199.108.133, 185.199.110.133, ...\n",
      "Connecting to raw.githubusercontent.com (raw.githubusercontent.com)|185.199.111.133|:443... connected.\n",
      "HTTP request sent, awaiting response... 200 OK\n",
      "Length: 6737 (6.6K) [text/plain]\n",
      "Saving to: ‘skimlit_example_abstracts.json.3’\n",
      "\n",
      "skimlit_example_abs 100%[===================>]   6.58K  --.-KB/s    in 0s      \n",
      "\n",
      "2022-12-16 01:51:56 (63.0 MB/s) - ‘skimlit_example_abstracts.json.3’ saved [6737/6737]\n",
      "\n"
     ]
    },
    {
     "data": {
      "text/plain": [
       "[{'abstract': 'This RCT examined the efficacy of a manualized social intervention for children with HFASDs. Participants were randomly assigned to treatment or wait-list conditions. Treatment included instruction and therapeutic activities targeting social skills, face-emotion recognition, interest expansion, and interpretation of non-literal language. A response-cost program was applied to reduce problem behaviors and foster skills acquisition. Significant treatment effects were found for five of seven primary outcome measures (parent ratings and direct child measures). Secondary measures based on staff ratings (treatment group only) corroborated gains reported by parents. High levels of parent, child and staff satisfaction were reported, along with high levels of treatment fidelity. Standardized effect size estimates were primarily in the medium and large ranges and favored the treatment group.',\n",
       "  'source': 'https://pubmed.ncbi.nlm.nih.gov/20232240/',\n",
       "  'details': 'RCT of a manualized social treatment for high-functioning autism spectrum disorders'},\n",
       " {'abstract': \"Postpartum depression (PPD) is the most prevalent mood disorder associated with childbirth. No single cause of PPD has been identified, however the increased risk of nutritional deficiencies incurred through the high nutritional requirements of pregnancy may play a role in the pathology of depressive symptoms. Three nutritional interventions have drawn particular interest as possible non-invasive and cost-effective prevention and/or treatment strategies for PPD; omega-3 (n-3) long chain polyunsaturated fatty acids (LCPUFA), vitamin D and overall diet. We searched for meta-analyses of randomised controlled trials (RCT's) of nutritional interventions during the perinatal period with PPD as an outcome, and checked for any trials published subsequently to the meta-analyses. Fish oil: Eleven RCT's of prenatal fish oil supplementation RCT's show null and positive effects on PPD symptoms. Vitamin D: no relevant RCT's were identified, however seven observational studies of maternal vitamin D levels with PPD outcomes showed inconsistent associations. Diet: Two Australian RCT's with dietary advice interventions in pregnancy had a positive and null result on PPD. With the exception of fish oil, few RCT's with nutritional interventions during pregnancy assess PPD. Further research is needed to determine whether nutritional intervention strategies during pregnancy can protect against symptoms of PPD. Given the prevalence of PPD and ease of administering PPD measures, we recommend future prenatal nutritional RCT's include PPD as an outcome.\",\n",
       "  'source': 'https://pubmed.ncbi.nlm.nih.gov/28012571/',\n",
       "  'details': 'Formatting removed (can be used to compare model to actual example)'},\n",
       " {'abstract': 'Mental illness, including depression, anxiety and bipolar disorder, accounts for a significant proportion of global disability and poses a substantial social, economic and heath burden. Treatment is presently dominated by pharmacotherapy, such as antidepressants, and psychotherapy, such as cognitive behavioural therapy; however, such treatments avert less than half of the disease burden, suggesting that additional strategies are needed to prevent and treat mental disorders. There are now consistent mechanistic, observational and interventional data to suggest diet quality may be a modifiable risk factor for mental illness. This review provides an overview of the nutritional psychiatry field. It includes a discussion of the neurobiological mechanisms likely modulated by diet, the use of dietary and nutraceutical interventions in mental disorders, and recommendations for further research. Potential biological pathways related to mental disorders include inflammation, oxidative stress, the gut microbiome, epigenetic modifications and neuroplasticity. Consistent epidemiological evidence, particularly for depression, suggests an association between measures of diet quality and mental health, across multiple populations and age groups; these do not appear to be explained by other demographic, lifestyle factors or reverse causality. Our recently published intervention trial provides preliminary clinical evidence that dietary interventions in clinically diagnosed populations are feasible and can provide significant clinical benefit. Furthermore, nutraceuticals including n-3 fatty acids, folate, S-adenosylmethionine, N-acetyl cysteine and probiotics, among others, are promising avenues for future research. Continued research is now required to investigate the efficacy of intervention studies in large cohorts and within clinically relevant populations, particularly in patients with schizophrenia, bipolar and anxiety disorders.',\n",
       "  'source': 'https://pubmed.ncbi.nlm.nih.gov/28942748/',\n",
       "  'details': 'Effect of nutrition on mental health'},\n",
       " {'abstract': \"Hepatitis C virus (HCV) and alcoholic liver disease (ALD), either alone or in combination, count for more than two thirds of all liver diseases in the Western world. There is no safe level of drinking in HCV-infected patients and the most effective goal for these patients is total abstinence. Baclofen, a GABA(B) receptor agonist, represents a promising pharmacotherapy for alcohol dependence (AD). Previously, we performed a randomized clinical trial (RCT), which demonstrated the safety and efficacy of baclofen in patients affected by AD and cirrhosis. The goal of this post-hoc analysis was to explore baclofen's effect in a subgroup of alcohol-dependent HCV-infected cirrhotic patients. Any patient with HCV infection was selected for this analysis. Among the 84 subjects randomized in the main trial, 24 alcohol-dependent cirrhotic patients had a HCV infection; 12 received baclofen 10mg t.i.d. and 12 received placebo for 12-weeks. With respect to the placebo group (3/12, 25.0%), a significantly higher number of patients who achieved and maintained total alcohol abstinence was found in the baclofen group (10/12, 83.3%; p=0.0123). Furthermore, in the baclofen group, compared to placebo, there was a significantly higher increase in albumin values from baseline (p=0.0132) and a trend toward a significant reduction in INR levels from baseline (p=0.0716). In conclusion, baclofen was safe and significantly more effective than placebo in promoting alcohol abstinence, and improving some Liver Function Tests (LFTs) (i.e. albumin, INR) in alcohol-dependent HCV-infected cirrhotic patients. Baclofen may represent a clinically relevant alcohol pharmacotherapy for these patients.\",\n",
       "  'source': 'https://pubmed.ncbi.nlm.nih.gov/22244707/',\n",
       "  'details': 'Baclofen promotes alcohol abstinence in alcohol dependent cirrhotic patients with hepatitis C virus (HCV) infection'}]"
      ]
     },
     "execution_count": 131,
     "metadata": {},
     "output_type": "execute_result"
    }
   ],
   "source": [
    "!wget https://raw.githubusercontent.com/mrdbourke/tensorflow-deep-learning/main/extras/skimlit_example_abstracts.json\n",
    "\n",
    "with open(\"skimlit_example_abstracts.json\", \"r\") as f:\n",
    "  example_abstracts = json.load(f)\n",
    "\n",
    "example_abstracts"
   ]
  },
  {
   "cell_type": "code",
   "execution_count": 132,
   "id": "b211f1f7",
   "metadata": {},
   "outputs": [
    {
     "data": {
      "text/html": [
       "<div>\n",
       "<style scoped>\n",
       "    .dataframe tbody tr th:only-of-type {\n",
       "        vertical-align: middle;\n",
       "    }\n",
       "\n",
       "    .dataframe tbody tr th {\n",
       "        vertical-align: top;\n",
       "    }\n",
       "\n",
       "    .dataframe thead th {\n",
       "        text-align: right;\n",
       "    }\n",
       "</style>\n",
       "<table border=\"1\" class=\"dataframe\">\n",
       "  <thead>\n",
       "    <tr style=\"text-align: right;\">\n",
       "      <th></th>\n",
       "      <th>abstract</th>\n",
       "      <th>source</th>\n",
       "      <th>details</th>\n",
       "    </tr>\n",
       "  </thead>\n",
       "  <tbody>\n",
       "    <tr>\n",
       "      <th>0</th>\n",
       "      <td>This RCT examined the efficacy of a manualized...</td>\n",
       "      <td>https://pubmed.ncbi.nlm.nih.gov/20232240/</td>\n",
       "      <td>RCT of a manualized social treatment for high-...</td>\n",
       "    </tr>\n",
       "    <tr>\n",
       "      <th>1</th>\n",
       "      <td>Postpartum depression (PPD) is the most preval...</td>\n",
       "      <td>https://pubmed.ncbi.nlm.nih.gov/28012571/</td>\n",
       "      <td>Formatting removed (can be used to compare mod...</td>\n",
       "    </tr>\n",
       "    <tr>\n",
       "      <th>2</th>\n",
       "      <td>Mental illness, including depression, anxiety ...</td>\n",
       "      <td>https://pubmed.ncbi.nlm.nih.gov/28942748/</td>\n",
       "      <td>Effect of nutrition on mental health</td>\n",
       "    </tr>\n",
       "    <tr>\n",
       "      <th>3</th>\n",
       "      <td>Hepatitis C virus (HCV) and alcoholic liver di...</td>\n",
       "      <td>https://pubmed.ncbi.nlm.nih.gov/22244707/</td>\n",
       "      <td>Baclofen promotes alcohol abstinence in alcoho...</td>\n",
       "    </tr>\n",
       "  </tbody>\n",
       "</table>\n",
       "</div>"
      ],
      "text/plain": [
       "                                            abstract  \\\n",
       "0  This RCT examined the efficacy of a manualized...   \n",
       "1  Postpartum depression (PPD) is the most preval...   \n",
       "2  Mental illness, including depression, anxiety ...   \n",
       "3  Hepatitis C virus (HCV) and alcoholic liver di...   \n",
       "\n",
       "                                      source  \\\n",
       "0  https://pubmed.ncbi.nlm.nih.gov/20232240/   \n",
       "1  https://pubmed.ncbi.nlm.nih.gov/28012571/   \n",
       "2  https://pubmed.ncbi.nlm.nih.gov/28942748/   \n",
       "3  https://pubmed.ncbi.nlm.nih.gov/22244707/   \n",
       "\n",
       "                                             details  \n",
       "0  RCT of a manualized social treatment for high-...  \n",
       "1  Formatting removed (can be used to compare mod...  \n",
       "2               Effect of nutrition on mental health  \n",
       "3  Baclofen promotes alcohol abstinence in alcoho...  "
      ]
     },
     "execution_count": 132,
     "metadata": {},
     "output_type": "execute_result"
    }
   ],
   "source": [
    "# See what our example abstracts look like\n",
    "abstracts = pd.DataFrame(example_abstracts)\n",
    "abstracts"
   ]
  },
  {
   "cell_type": "code",
   "execution_count": 134,
   "id": "cfcc80d4",
   "metadata": {},
   "outputs": [
    {
     "name": "stdout",
     "output_type": "stream",
     "text": [
      "Collecting spacy\n",
      "  Downloading spacy-3.4.4-cp39-cp39-macosx_11_0_arm64.whl (6.5 MB)\n",
      "\u001b[2K     \u001b[90m━━━━━━━━━━━━━━━━━━━━━━━━━━━━━━━━━━━━━━━━\u001b[0m \u001b[32m6.5/6.5 MB\u001b[0m \u001b[31m14.3 MB/s\u001b[0m eta \u001b[36m0:00:00\u001b[0m00:01\u001b[0m00:01\u001b[0m\n",
      "\u001b[?25hCollecting pathy>=0.3.5\n",
      "  Downloading pathy-0.10.1-py3-none-any.whl (48 kB)\n",
      "\u001b[2K     \u001b[90m━━━━━━━━━━━━━━━━━━━━━━━━━━━━━━━━━━━━━━━━\u001b[0m \u001b[32m48.9/48.9 kB\u001b[0m \u001b[31m2.0 MB/s\u001b[0m eta \u001b[36m0:00:00\u001b[0m\n",
      "\u001b[?25hRequirement already satisfied: numpy>=1.15.0 in /opt/homebrew/Caskroom/miniforge/base/envs/tensorflow/lib/python3.9/site-packages (from spacy) (1.19.5)\n",
      "Requirement already satisfied: packaging>=20.0 in /opt/homebrew/Caskroom/miniforge/base/envs/tensorflow/lib/python3.9/site-packages (from spacy) (21.3)\n",
      "Collecting murmurhash<1.1.0,>=0.28.0\n",
      "  Downloading murmurhash-1.0.9-cp39-cp39-macosx_11_0_arm64.whl (19 kB)\n",
      "Collecting thinc<8.2.0,>=8.1.0\n",
      "  Downloading thinc-8.1.5-cp39-cp39-macosx_11_0_arm64.whl (694 kB)\n",
      "\u001b[2K     \u001b[90m━━━━━━━━━━━━━━━━━━━━━━━━━━━━━━━━━━━━━━\u001b[0m \u001b[32m694.3/694.3 kB\u001b[0m \u001b[31m13.5 MB/s\u001b[0m eta \u001b[36m0:00:00\u001b[0m00:01\u001b[0m\n",
      "\u001b[?25hRequirement already satisfied: tqdm<5.0.0,>=4.38.0 in /opt/homebrew/Caskroom/miniforge/base/envs/tensorflow/lib/python3.9/site-packages (from spacy) (4.64.1)\n",
      "Collecting pydantic!=1.8,!=1.8.1,<1.11.0,>=1.7.4\n",
      "  Downloading pydantic-1.10.2-cp39-cp39-macosx_11_0_arm64.whl (2.6 MB)\n",
      "\u001b[2K     \u001b[90m━━━━━━━━━━━━━━━━━━━━━━━━━━━━━━━━━━━━━━━━\u001b[0m \u001b[32m2.6/2.6 MB\u001b[0m \u001b[31m22.6 MB/s\u001b[0m eta \u001b[36m0:00:00\u001b[0m00:01\u001b[0m00:01\u001b[0m\n",
      "\u001b[?25hRequirement already satisfied: requests<3.0.0,>=2.13.0 in /opt/homebrew/Caskroom/miniforge/base/envs/tensorflow/lib/python3.9/site-packages (from spacy) (2.28.1)\n",
      "Collecting catalogue<2.1.0,>=2.0.6\n",
      "  Downloading catalogue-2.0.8-py3-none-any.whl (17 kB)\n",
      "Collecting smart-open<7.0.0,>=5.2.1\n",
      "  Downloading smart_open-6.3.0-py3-none-any.whl (56 kB)\n",
      "\u001b[2K     \u001b[90m━━━━━━━━━━━━━━━━━━━━━━━━━━━━━━━━━━━━━━━━\u001b[0m \u001b[32m56.8/56.8 kB\u001b[0m \u001b[31m2.4 MB/s\u001b[0m eta \u001b[36m0:00:00\u001b[0m\n",
      "\u001b[?25hCollecting preshed<3.1.0,>=3.0.2\n",
      "  Downloading preshed-3.0.8-cp39-cp39-macosx_11_0_arm64.whl (101 kB)\n",
      "\u001b[2K     \u001b[90m━━━━━━━━━━━━━━━━━━━━━━━━━━━━━━━━━━━━━━━\u001b[0m \u001b[32m101.7/101.7 kB\u001b[0m \u001b[31m4.4 MB/s\u001b[0m eta \u001b[36m0:00:00\u001b[0m\n",
      "\u001b[?25hCollecting cymem<2.1.0,>=2.0.2\n",
      "  Downloading cymem-2.0.7-cp39-cp39-macosx_11_0_arm64.whl (31 kB)\n",
      "Collecting spacy-legacy<3.1.0,>=3.0.10\n",
      "  Downloading spacy_legacy-3.0.10-py2.py3-none-any.whl (21 kB)\n",
      "Collecting wasabi<1.1.0,>=0.9.1\n",
      "  Downloading wasabi-0.10.1-py3-none-any.whl (26 kB)\n",
      "Collecting langcodes<4.0.0,>=3.2.0\n",
      "  Downloading langcodes-3.3.0-py3-none-any.whl (181 kB)\n",
      "\u001b[2K     \u001b[90m━━━━━━━━━━━━━━━━━━━━━━━━━━━━━━━━━━━━━━━\u001b[0m \u001b[32m181.6/181.6 kB\u001b[0m \u001b[31m7.2 MB/s\u001b[0m eta \u001b[36m0:00:00\u001b[0m\n",
      "\u001b[?25hCollecting spacy-loggers<2.0.0,>=1.0.0\n",
      "  Downloading spacy_loggers-1.0.4-py3-none-any.whl (11 kB)\n",
      "Collecting typer<0.8.0,>=0.3.0\n",
      "  Downloading typer-0.7.0-py3-none-any.whl (38 kB)\n",
      "Collecting srsly<3.0.0,>=2.4.3\n",
      "  Downloading srsly-2.4.5-cp39-cp39-macosx_11_0_arm64.whl (489 kB)\n",
      "\u001b[2K     \u001b[90m━━━━━━━━━━━━━━━━━━━━━━━━━━━━━━━━━━━━━━\u001b[0m \u001b[32m489.8/489.8 kB\u001b[0m \u001b[31m13.0 MB/s\u001b[0m eta \u001b[36m0:00:00\u001b[0m\n",
      "\u001b[?25hRequirement already satisfied: setuptools in /opt/homebrew/Caskroom/miniforge/base/envs/tensorflow/lib/python3.9/site-packages (from spacy) (65.5.0)\n",
      "Requirement already satisfied: jinja2 in /opt/homebrew/Caskroom/miniforge/base/envs/tensorflow/lib/python3.9/site-packages (from spacy) (3.1.2)\n",
      "Requirement already satisfied: pyparsing!=3.0.5,>=2.0.2 in /opt/homebrew/Caskroom/miniforge/base/envs/tensorflow/lib/python3.9/site-packages (from packaging>=20.0->spacy) (3.0.9)\n",
      "Collecting typing-extensions>=4.1.0\n",
      "  Using cached typing_extensions-4.4.0-py3-none-any.whl (26 kB)\n",
      "Requirement already satisfied: charset-normalizer<3,>=2 in /opt/homebrew/Caskroom/miniforge/base/envs/tensorflow/lib/python3.9/site-packages (from requests<3.0.0,>=2.13.0->spacy) (2.0.4)\n",
      "Requirement already satisfied: urllib3<1.27,>=1.21.1 in /opt/homebrew/Caskroom/miniforge/base/envs/tensorflow/lib/python3.9/site-packages (from requests<3.0.0,>=2.13.0->spacy) (1.26.12)\n",
      "Requirement already satisfied: certifi>=2017.4.17 in /opt/homebrew/Caskroom/miniforge/base/envs/tensorflow/lib/python3.9/site-packages (from requests<3.0.0,>=2.13.0->spacy) (2022.6.15)\n",
      "Requirement already satisfied: idna<4,>=2.5 in /opt/homebrew/Caskroom/miniforge/base/envs/tensorflow/lib/python3.9/site-packages (from requests<3.0.0,>=2.13.0->spacy) (3.4)\n",
      "Collecting confection<1.0.0,>=0.0.1\n",
      "  Downloading confection-0.0.3-py3-none-any.whl (32 kB)\n",
      "Collecting blis<0.8.0,>=0.7.8\n",
      "  Downloading blis-0.7.9-cp39-cp39-macosx_11_0_arm64.whl (1.1 MB)\n",
      "\u001b[2K     \u001b[90m━━━━━━━━━━━━━━━━━━━━━━━━━━━━━━━━━━━━━━━━\u001b[0m \u001b[32m1.1/1.1 MB\u001b[0m \u001b[31m17.3 MB/s\u001b[0m eta \u001b[36m0:00:00\u001b[0ma \u001b[36m0:00:01\u001b[0m\n",
      "\u001b[?25hRequirement already satisfied: click<9.0.0,>=7.1.1 in /opt/homebrew/Caskroom/miniforge/base/envs/tensorflow/lib/python3.9/site-packages (from typer<0.8.0,>=0.3.0->spacy) (8.0.4)\n",
      "Requirement already satisfied: MarkupSafe>=2.0 in /opt/homebrew/Caskroom/miniforge/base/envs/tensorflow/lib/python3.9/site-packages (from jinja2->spacy) (2.1.1)\n",
      "Installing collected packages: wasabi, cymem, typing-extensions, typer, spacy-loggers, spacy-legacy, smart-open, murmurhash, langcodes, catalogue, blis, srsly, pydantic, preshed, pathy, confection, thinc, spacy\n",
      "  Attempting uninstall: typing-extensions\n",
      "    Found existing installation: typing-extensions 3.7.4.3\n",
      "    Uninstalling typing-extensions-3.7.4.3:\n",
      "      Successfully uninstalled typing-extensions-3.7.4.3\n",
      "\u001b[31mERROR: pip's dependency resolver does not currently take into account all the packages that are installed. This behaviour is the source of the following dependency conflicts.\n",
      "tensorflow-macos 2.5.0 requires typing-extensions~=3.7.4, but you have typing-extensions 4.4.0 which is incompatible.\u001b[0m\u001b[31m\n",
      "\u001b[0mSuccessfully installed blis-0.7.9 catalogue-2.0.8 confection-0.0.3 cymem-2.0.7 langcodes-3.3.0 murmurhash-1.0.9 pathy-0.10.1 preshed-3.0.8 pydantic-1.10.2 smart-open-6.3.0 spacy-3.4.4 spacy-legacy-3.0.10 spacy-loggers-1.0.4 srsly-2.4.5 thinc-8.1.5 typer-0.7.0 typing-extensions-4.4.0 wasabi-0.10.1\n"
     ]
    },
    {
     "ename": "ImportError",
     "evalue": "cannot import name dataclass_transform",
     "output_type": "error",
     "traceback": [
      "\u001b[0;31m---------------------------------------------------------------------------\u001b[0m",
      "\u001b[0;31mImportError\u001b[0m                               Traceback (most recent call last)",
      "Cell \u001b[0;32mIn [134], line 3\u001b[0m\n\u001b[1;32m      1\u001b[0m \u001b[38;5;66;03m# Create sentencizer - Source: https://spacy.io/usage/linguistic-features#sbd \u001b[39;00m\n\u001b[1;32m      2\u001b[0m get_ipython()\u001b[38;5;241m.\u001b[39msystem(\u001b[38;5;124m'\u001b[39m\u001b[38;5;124mpip install spacy\u001b[39m\u001b[38;5;124m'\u001b[39m)\n\u001b[0;32m----> 3\u001b[0m \u001b[38;5;28;01mfrom\u001b[39;00m \u001b[38;5;21;01mspacy\u001b[39;00m\u001b[38;5;21;01m.\u001b[39;00m\u001b[38;5;21;01mlang\u001b[39;00m\u001b[38;5;21;01m.\u001b[39;00m\u001b[38;5;21;01men\u001b[39;00m \u001b[38;5;28;01mimport\u001b[39;00m English\n\u001b[1;32m      4\u001b[0m nlp \u001b[38;5;241m=\u001b[39m English() \u001b[38;5;66;03m# setup English sentence parser\u001b[39;00m\n\u001b[1;32m      5\u001b[0m sentencizer \u001b[38;5;241m=\u001b[39m nlp\u001b[38;5;241m.\u001b[39mcreate_pipe(\u001b[38;5;124m\"\u001b[39m\u001b[38;5;124msentencizer\u001b[39m\u001b[38;5;124m\"\u001b[39m) \u001b[38;5;66;03m# create sentence splitting pipeline object\u001b[39;00m\n",
      "File \u001b[0;32m/opt/homebrew/Caskroom/miniforge/base/envs/tensorflow/lib/python3.9/site-packages/spacy/__init__.py:6\u001b[0m\n\u001b[1;32m      3\u001b[0m \u001b[38;5;28;01mimport\u001b[39;00m \u001b[38;5;21;01msys\u001b[39;00m\n\u001b[1;32m      5\u001b[0m \u001b[38;5;66;03m# set library-specific custom warning handling before doing anything else\u001b[39;00m\n\u001b[0;32m----> 6\u001b[0m \u001b[38;5;28;01mfrom\u001b[39;00m \u001b[38;5;21;01m.\u001b[39;00m\u001b[38;5;21;01merrors\u001b[39;00m \u001b[38;5;28;01mimport\u001b[39;00m setup_default_warnings\n\u001b[1;32m      8\u001b[0m setup_default_warnings()  \u001b[38;5;66;03m# noqa: E402\u001b[39;00m\n\u001b[1;32m     10\u001b[0m \u001b[38;5;66;03m# These are imported as part of the API\u001b[39;00m\n",
      "File \u001b[0;32m/opt/homebrew/Caskroom/miniforge/base/envs/tensorflow/lib/python3.9/site-packages/spacy/errors.py:2\u001b[0m\n\u001b[1;32m      1\u001b[0m \u001b[38;5;28;01mimport\u001b[39;00m \u001b[38;5;21;01mwarnings\u001b[39;00m\n\u001b[0;32m----> 2\u001b[0m \u001b[38;5;28;01mfrom\u001b[39;00m \u001b[38;5;21;01m.\u001b[39;00m\u001b[38;5;21;01mcompat\u001b[39;00m \u001b[38;5;28;01mimport\u001b[39;00m Literal\n\u001b[1;32m      5\u001b[0m \u001b[38;5;28;01mclass\u001b[39;00m \u001b[38;5;21;01mErrorsWithCodes\u001b[39;00m(\u001b[38;5;28mtype\u001b[39m):\n\u001b[1;32m      6\u001b[0m     \u001b[38;5;28;01mdef\u001b[39;00m \u001b[38;5;21m__getattribute__\u001b[39m(\u001b[38;5;28mself\u001b[39m, code):\n",
      "File \u001b[0;32m/opt/homebrew/Caskroom/miniforge/base/envs/tensorflow/lib/python3.9/site-packages/spacy/compat.py:3\u001b[0m\n\u001b[1;32m      1\u001b[0m \u001b[38;5;124;03m\"\"\"Helpers for Python and platform compatibility.\"\"\"\u001b[39;00m\n\u001b[1;32m      2\u001b[0m \u001b[38;5;28;01mimport\u001b[39;00m \u001b[38;5;21;01msys\u001b[39;00m\n\u001b[0;32m----> 3\u001b[0m \u001b[38;5;28;01mfrom\u001b[39;00m \u001b[38;5;21;01mthinc\u001b[39;00m\u001b[38;5;21;01m.\u001b[39;00m\u001b[38;5;21;01mutil\u001b[39;00m \u001b[38;5;28;01mimport\u001b[39;00m copy_array\n\u001b[1;32m      5\u001b[0m \u001b[38;5;28;01mtry\u001b[39;00m:\n\u001b[1;32m      6\u001b[0m     \u001b[38;5;28;01mimport\u001b[39;00m \u001b[38;5;21;01mcPickle\u001b[39;00m \u001b[38;5;28;01mas\u001b[39;00m \u001b[38;5;21;01mpickle\u001b[39;00m\n",
      "File \u001b[0;32m/opt/homebrew/Caskroom/miniforge/base/envs/tensorflow/lib/python3.9/site-packages/thinc/__init__.py:5\u001b[0m\n\u001b[1;32m      2\u001b[0m \u001b[38;5;28;01mimport\u001b[39;00m \u001b[38;5;21;01mnumpy\u001b[39;00m\n\u001b[1;32m      4\u001b[0m \u001b[38;5;28;01mfrom\u001b[39;00m \u001b[38;5;21;01m.\u001b[39;00m\u001b[38;5;21;01mabout\u001b[39;00m \u001b[38;5;28;01mimport\u001b[39;00m __version__\n\u001b[0;32m----> 5\u001b[0m \u001b[38;5;28;01mfrom\u001b[39;00m \u001b[38;5;21;01m.\u001b[39;00m\u001b[38;5;21;01mconfig\u001b[39;00m \u001b[38;5;28;01mimport\u001b[39;00m registry\n\u001b[1;32m      8\u001b[0m \u001b[38;5;66;03m# fmt: off\u001b[39;00m\n\u001b[1;32m      9\u001b[0m __all__ \u001b[38;5;241m=\u001b[39m [\n\u001b[1;32m     10\u001b[0m     \u001b[38;5;124m\"\u001b[39m\u001b[38;5;124mregistry\u001b[39m\u001b[38;5;124m\"\u001b[39m,\n\u001b[1;32m     11\u001b[0m     \u001b[38;5;124m\"\u001b[39m\u001b[38;5;124m__version__\u001b[39m\u001b[38;5;124m\"\u001b[39m,\n\u001b[1;32m     12\u001b[0m ]\n",
      "File \u001b[0;32m/opt/homebrew/Caskroom/miniforge/base/envs/tensorflow/lib/python3.9/site-packages/thinc/config.py:2\u001b[0m\n\u001b[1;32m      1\u001b[0m \u001b[38;5;28;01mimport\u001b[39;00m \u001b[38;5;21;01mcatalogue\u001b[39;00m\n\u001b[0;32m----> 2\u001b[0m \u001b[38;5;28;01mimport\u001b[39;00m \u001b[38;5;21;01mconfection\u001b[39;00m\n\u001b[1;32m      3\u001b[0m \u001b[38;5;28;01mfrom\u001b[39;00m \u001b[38;5;21;01mconfection\u001b[39;00m \u001b[38;5;28;01mimport\u001b[39;00m Config, ConfigValidationError, Promise, VARIABLE_RE\n\u001b[1;32m      4\u001b[0m \u001b[38;5;28;01mfrom\u001b[39;00m \u001b[38;5;21;01m.\u001b[39;00m\u001b[38;5;21;01mtypes\u001b[39;00m \u001b[38;5;28;01mimport\u001b[39;00m Decorator\n",
      "File \u001b[0;32m/opt/homebrew/Caskroom/miniforge/base/envs/tensorflow/lib/python3.9/site-packages/confection/__init__.py:10\u001b[0m\n\u001b[1;32m      8\u001b[0m \u001b[38;5;28;01mfrom\u001b[39;00m \u001b[38;5;21;01mconfigparser\u001b[39;00m \u001b[38;5;28;01mimport\u001b[39;00m ParsingError\n\u001b[1;32m      9\u001b[0m \u001b[38;5;28;01mfrom\u001b[39;00m \u001b[38;5;21;01mpathlib\u001b[39;00m \u001b[38;5;28;01mimport\u001b[39;00m Path\n\u001b[0;32m---> 10\u001b[0m \u001b[38;5;28;01mfrom\u001b[39;00m \u001b[38;5;21;01mpydantic\u001b[39;00m \u001b[38;5;28;01mimport\u001b[39;00m BaseModel, create_model, ValidationError, Extra\n\u001b[1;32m     11\u001b[0m \u001b[38;5;28;01mfrom\u001b[39;00m \u001b[38;5;21;01mpydantic\u001b[39;00m\u001b[38;5;21;01m.\u001b[39;00m\u001b[38;5;21;01mmain\u001b[39;00m \u001b[38;5;28;01mimport\u001b[39;00m ModelMetaclass\n\u001b[1;32m     12\u001b[0m \u001b[38;5;28;01mfrom\u001b[39;00m \u001b[38;5;21;01mpydantic\u001b[39;00m\u001b[38;5;21;01m.\u001b[39;00m\u001b[38;5;21;01mfields\u001b[39;00m \u001b[38;5;28;01mimport\u001b[39;00m ModelField\n",
      "File \u001b[0;32m/opt/homebrew/Caskroom/miniforge/base/envs/tensorflow/lib/python3.9/site-packages/pydantic/__init__.py:2\u001b[0m, in \u001b[0;36minit pydantic.__init__\u001b[0;34m()\u001b[0m\n",
      "File \u001b[0;32m/opt/homebrew/Caskroom/miniforge/base/envs/tensorflow/lib/python3.9/site-packages/pydantic/dataclasses.py:52\u001b[0m, in \u001b[0;36minit pydantic.dataclasses\u001b[0;34m()\u001b[0m\n",
      "\u001b[0;31mImportError\u001b[0m: cannot import name dataclass_transform"
     ]
    }
   ],
   "source": [
    "# Create sentencizer - Source: https://spacy.io/usage/linguistic-features#sbd \n",
    "!pip install spacy\n",
    "from spacy.lang.en import English\n",
    "nlp = English() # setup English sentence parser\n",
    "sentencizer = nlp.create_pipe(\"sentencizer\") # create sentence splitting pipeline object\n",
    "nlp.add_pipe(sentencizer) # add sentence splitting pipeline object to sentence parser\n",
    "doc = nlp(example_abstracts[0][\"abstract\"]) # create \"doc\" of parsed sequences, change index for a different abstract\n",
    "abstract_lines = [str(sent) for sent in list(doc.sents)] # return detected sentences from doc in string type (not spaCy token type)\n",
    "abstract_lines"
   ]
  },
  {
   "cell_type": "markdown",
   "id": "0327f468",
   "metadata": {},
   "source": [
    "Beautiful! It looks like spaCy has split the sentences in the abstract correctly. However, it should be noted, there may be more complex abstracts which don't get split perfectly into separate sentences (such as the example in [Baclofen promotes alcohol abstinence in alcohol dependent cirrhotic patients with hepatitis C virus (HCV) infection)](https://pubmed.ncbi.nlm.nih.gov/22244707/), in this case, more custom splitting techniques would have to be investigated.\n",
    "\n",
    "Now our abstract has been split into sentences, how about we write some code to count line numbers as well as total lines.\n",
    "\n",
    "To do so, we can leverage some of the functionality of our `preprocess_text_with_line_numbers()` function."
   ]
  },
  {
   "cell_type": "code",
   "execution_count": null,
   "id": "0c04d274",
   "metadata": {},
   "outputs": [],
   "source": [
    "# Get total number of lines\n",
    "total_lines_in_sample = len(abstract_lines)\n",
    "\n",
    "# Go through each line in abstract and create a list of dictionaries containing features for each line\n",
    "sample_lines = []\n",
    "for i, line in enumerate(abstract_lines):\n",
    "  sample_dict = {}\n",
    "  sample_dict[\"text\"] = str(line)\n",
    "  sample_dict[\"line_number\"] = i\n",
    "  sample_dict[\"total_lines\"] = total_lines_in_sample - 1\n",
    "  sample_lines.append(sample_dict)\n",
    "sample_lines"
   ]
  },
  {
   "cell_type": "markdown",
   "id": "b818d67b",
   "metadata": {},
   "source": [
    "Now we've got \"line_number\" and \"total_lines\" values, we can one-hot encode them with tf.one_hot just like we did with our training dataset (using the same values for the depth parameter)."
   ]
  },
  {
   "cell_type": "code",
   "execution_count": null,
   "id": "c5711b1a",
   "metadata": {},
   "outputs": [],
   "source": [
    "# Get all line_number values from sample abstract\n",
    "test_abstract_line_numbers = [line[\"line_number\"] for line in sample_lines]\n",
    "# One-hot encode to same depth as training data, so model accepts right input shape\n",
    "test_abstract_line_numbers_one_hot = tf.one_hot(test_abstract_line_numbers, depth=15) \n",
    "test_abstract_line_numbers_one_hot"
   ]
  },
  {
   "cell_type": "code",
   "execution_count": null,
   "id": "220eb11d",
   "metadata": {},
   "outputs": [],
   "source": [
    "# Get all total_lines values from sample abstract\n",
    "test_abstract_total_lines = [line[\"total_lines\"] for line in sample_lines]\n",
    "# One-hot encode to same depth as training data, so model accepts right input shape\n",
    "test_abstract_total_lines_one_hot = tf.one_hot(test_abstract_total_lines, depth=20)\n",
    "test_abstract_total_lines_one_hot\n",
    "     "
   ]
  },
  {
   "cell_type": "code",
   "execution_count": null,
   "id": "f6a4aee3",
   "metadata": {},
   "outputs": [],
   "source": [
    "# Split abstract lines into characters\n",
    "abstract_chars = [split_chars(sentence) for sentence in abstract_lines]\n",
    "abstract_chars"
   ]
  },
  {
   "cell_type": "code",
   "execution_count": null,
   "id": "6ebe65f2",
   "metadata": {},
   "outputs": [],
   "source": [
    "# Make predictions on sample abstract features\n",
    "%%time\n",
    "test_abstract_pred_probs = model_5.predict(x=(test_abstract_line_numbers_one_hot,\n",
    "                                                   test_abstract_total_lines_one_hot,\n",
    "                                                   tf.constant(abstract_lines),\n",
    "                                                   tf.constant(abstract_chars)))\n",
    "test_abstract_pred_probs"
   ]
  },
  {
   "cell_type": "code",
   "execution_count": null,
   "id": "135fa00f",
   "metadata": {},
   "outputs": [],
   "source": [
    "# Turn prediction probabilities into prediction classes\n",
    "test_abstract_preds = tf.argmax(test_abstract_pred_probs, axis=1)\n",
    "test_abstract_preds"
   ]
  },
  {
   "cell_type": "code",
   "execution_count": null,
   "id": "579ac2c1",
   "metadata": {},
   "outputs": [],
   "source": [
    "# Turn prediction class integers into string class names\n",
    "test_abstract_pred_classes = [label_encoder.classes_[i] for i in test_abstract_preds]\n",
    "test_abstract_pred_classes"
   ]
  },
  {
   "cell_type": "code",
   "execution_count": null,
   "id": "bd068aac",
   "metadata": {},
   "outputs": [],
   "source": [
    "# Visualize abstract lines and predicted sequence labels\n",
    "for i, line in enumerate(abstract_lines):\n",
    "  print(f\"{test_abstract_pred_classes[i]}: {line}\")"
   ]
  },
  {
   "cell_type": "markdown",
   "id": "5711b0b5",
   "metadata": {},
   "source": [
    "Nice! Isn't that much easier to read? I mean, it looks like our model's predictions could be improved, but how cool is that?\n",
    "\n",
    "Imagine implementing our model to the backend of the PubMed website to format any unstructured RCT abstract on the site.\n",
    "\n",
    "Or there could even be a browser extension, called \"SkimLit\" which would add structure (powered by our model) to any unstructured RCT abtract.\n",
    "\n",
    "And if showed your medical researcher friend, and they thought the predictions weren't up to standard, there could be a button saying \"is this label correct?... if not, what should it be?\". That way the dataset, along with our model's future predictions, could be improved over time.\n",
    "\n",
    "Of course, there are many more ways we could go to improve the model, the usuability, the preprocessing functionality (e.g. functionizing our sample abstract preprocessing pipeline) but I'll leave these for the exercises/extensions.\n",
    "\n",
    "🤔 Question: How can we be sure the results of our test example from the wild are truly wild? Is there something we should check about the sample we're testing on?"
   ]
  },
  {
   "cell_type": "markdown",
   "id": "6ea25246",
   "metadata": {},
   "source": [
    "## 🛠 Exercises\n",
    "\n",
    "1. Train `model_5` on all of the data in the training dataset for as many epochs until it stops improving. Since this might take a while, you might want to use:\n",
    "* `tf.keras.callbacks.ModelCheckpoint` to save the model's best weights only.\n",
    "* `tf.keras.callbacks.EarlyStopping` to stop the model from training once the validation loss has stopped improving for ~3 epochs.\n",
    "\n",
    "2. Checkout the [Keras guide on using pretrained GloVe embeddings](https://keras.io/examples/nlp/pretrained_word_embeddings/). Can you get this working with one of our models?\n",
    "\n",
    "* Hint: You'll want to incorporate it with a custom token [Embedding layer](https://www.tensorflow.org/api_docs/python/tf/keras/layers/Embedding).\n",
    "* It's up to you whether or not you fine-tune the GloVe embeddings or leave them frozen.\n",
    "\n",
    "3. Try replacing the TensorFlow Hub Universal Sentence Encoder pretrained embedding for the [TensorFlow Hub BERT PubMed expert](https://tfhub.dev/google/experts/bert/pubmed/2) (a language model pretrained on PubMed texts) pretrained embedding. Does this effect results?\n",
    "* Note: Using the BERT PubMed expert pretrained embedding requires an extra preprocessing step for sequences (as detailed in the [TensorFlow Hub guide](https://tfhub.dev/google/experts/bert/pubmed/2)).\n",
    "* Does the BERT model beat the results mentioned in this paper? https://arxiv.org/pdf/1710.06071.pdf\n",
    "\n",
    "4. What happens if you were to merge our `line_number` and `total_lines` features for each sequence? For example, created a X_of_Y feature instead? Does this effect model performance?\n",
    "* Another example: `line_number`=1 and `total_lines`=11 turns into `line_of_X`=1_of_11.\n",
    "\n",
    "5. Write a function (or series of functions) to take a sample abstract string, preprocess it (in the same way our model has been trained), make a prediction on each sequence in the abstract and return the abstract in the format:\n",
    "* PREDICTED_LABEL: SEQUENCE\n",
    "* PREDICTED_LABEL: SEQUENCE\n",
    "* PREDICTED_LABEL: SEQUENCE\n",
    "* PREDICTED_LABEL: SEQUENCE\n",
    "...\n",
    "\n",
    "You can find your own unstrcutured RCT abstract from PubMed or try this one from: [Baclofen promotes alcohol abstinence in alcohol dependent cirrhotic patients with hepatitis C virus (HCV) infection](https://pubmed.ncbi.nlm.nih.gov/22244707/).\n",
    "\n",
    "## 📖 Extra-curriculum\n",
    "\n",
    "1. For more on working with text/spaCy, see [spaCy's advanced NLP course](https://course.spacy.io/en/). If you're going to be working on production-level NLP problems, you'll probably end up using spaCy.\n",
    "2. For another look at how to approach a text classification problem like the one we've just gone through, I'd suggest going through [Google's Machine Learning Course for text classification](https://developers.google.com/machine-learning/guides/text-classification).\n",
    "3. Since our dataset has imbalanced classes (as with many real-world datasets), so it might be worth looking into the [TensorFlow guide for different methods to training a model with imbalanced classes](https://www.tensorflow.org/tutorials/structured_data/imbalanced_data)."
   ]
  },
  {
   "cell_type": "code",
   "execution_count": null,
   "id": "48d8cadb",
   "metadata": {},
   "outputs": [],
   "source": []
  }
 ],
 "metadata": {
  "kernelspec": {
   "display_name": "Python 3.9 (tensorflow)",
   "language": "python",
   "name": "tensorflow"
  },
  "language_info": {
   "codemirror_mode": {
    "name": "ipython",
    "version": 3
   },
   "file_extension": ".py",
   "mimetype": "text/x-python",
   "name": "python",
   "nbconvert_exporter": "python",
   "pygments_lexer": "ipython3",
   "version": "3.9.15"
  }
 },
 "nbformat": 4,
 "nbformat_minor": 5
}
