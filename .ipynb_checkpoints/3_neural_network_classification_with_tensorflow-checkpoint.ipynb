{
 "cells": [
  {
   "cell_type": "markdown",
   "id": "c00a017b",
   "metadata": {},
   "source": [
    "## Neural Network Classification with TensorFlow"
   ]
  },
  {
   "cell_type": "markdown",
   "id": "cc3c3020",
   "metadata": {},
   "source": [
    "Okay, we've seen how to deal with a regression problem in TensorFlow, let's look at how we can approach a classification problem.\n",
    "\n",
    "A classification problem involves predicting whether something is one thing or another.\n",
    "\n",
    "For example, you might want to:\n",
    "\n",
    "* Predict whether or not someone has heart disease based on their health parameters. This is called **binary classification** since there are only two options.\n",
    "* Decide whether a photo of is of food, a person or a dog. This is called **multi-class classification** since there are more than two options.\n",
    "* Predict what categories should be assigned to a Wikipedia article. This is called **multi-label classification** since a single article could have more than one category assigned.\n",
    "\n",
    "In this notebook, we're going to work through a number of different classification problems with TensorFlow. In other words, taking a set of inputs and predicting what class those set of inputs belong to."
   ]
  },
  {
   "cell_type": "markdown",
   "id": "ca490299",
   "metadata": {},
   "source": [
    "## What we're going to cover\n",
    "\n",
    "Specifically, we're going to go through doing the following with TensorFlow:\n",
    "\n",
    "* Architecture of a classification model\n",
    "* Input shapes and output shapes\n",
    "    * X: features/data (inputs)\n",
    "    * y: labels (outputs)\n",
    "        * \"What class do the inputs belong to?\"\n",
    "* Creating custom data to view and fit\n",
    "* Steps in modelling for binary and mutliclass classification\n",
    "    * Creating a model\n",
    "    * Compiling a model\n",
    "        * Defining a loss function\n",
    "        * Setting up an optimizer\n",
    "        * Finding the best learning rate\n",
    "        * Creating evaluation metrics\n",
    "    * Fitting a model (getting it to find patterns in our data)\n",
    "    * Improving a model\n",
    "* The power of non-linearity\n",
    "* Evaluating classification models\n",
    "    * Visualizng the model (\"visualize, visualize, visualize\")\n",
    "    * Looking at training curves\n",
    "    * Compare predictions to ground truth (using our evaluation metrics)"
   ]
  },
  {
   "cell_type": "markdown",
   "id": "1ce809cf",
   "metadata": {},
   "source": [
    "## Typical architecture of a classification neural network\n",
    "\n",
    "The word typical is on purpose.\n",
    "\n",
    "Because the architecture of a classification neural network can widely vary depending on the problem you're working on.\n",
    "\n",
    "However, there are some fundamentals all deep neural networks contain:\n",
    "\n",
    "* An input layer.\n",
    "* Some hidden layers.\n",
    "* An output layer.\n",
    "Much of the rest is up to the data analyst creating the model.\n",
    "\n",
    "The following are some standard values you'll often use in your classification neural networks.\n",
    "![Images/ClassificationParameters.png](Images/ClassificationParameters.png)"
   ]
  },
  {
   "cell_type": "code",
   "execution_count": 6,
   "id": "d2b19362",
   "metadata": {},
   "outputs": [
    {
     "name": "stdout",
     "output_type": "stream",
     "text": [
      "Init Plugin\n",
      "2.5.0\n",
      "Init Graph Optimizer\n",
      "Init Kernel\n"
     ]
    }
   ],
   "source": [
    "import tensorflow as tf\n",
    "print(tf.__version__)"
   ]
  },
  {
   "cell_type": "code",
   "execution_count": null,
   "id": "8baacc2b",
   "metadata": {},
   "outputs": [],
   "source": []
  }
 ],
 "metadata": {
  "kernelspec": {
   "display_name": "Python 3.9 (tensorflow)",
   "language": "python",
   "name": "tensorflow"
  },
  "language_info": {
   "codemirror_mode": {
    "name": "ipython",
    "version": 3
   },
   "file_extension": ".py",
   "mimetype": "text/x-python",
   "name": "python",
   "nbconvert_exporter": "python",
   "pygments_lexer": "ipython3",
   "version": "3.9.15"
  }
 },
 "nbformat": 4,
 "nbformat_minor": 5
}
