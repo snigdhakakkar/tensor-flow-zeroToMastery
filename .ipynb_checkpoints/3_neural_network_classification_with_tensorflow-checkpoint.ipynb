{
 "cells": [
  {
   "cell_type": "markdown",
   "id": "874520c4",
   "metadata": {},
   "source": [
    "## Neural Network Classification with TensorFlow"
   ]
  },
  {
   "cell_type": "markdown",
   "id": "150e99c6",
   "metadata": {},
   "source": [
    "Okay, we've seen how to deal with a regression problem in TensorFlow, let's look at how we can approach a classification problem.\n",
    "\n",
    "A classification problem involves predicting whether something is one thing or another.\n",
    "\n",
    "For example, you might want to:\n",
    "\n",
    "* Predict whether or not someone has heart disease based on their health parameters. This is called **binary classification** since there are only two options.\n",
    "* Decide whether a photo of is of food, a person or a dog. This is called **multi-class classification** since there are more than two options.\n",
    "* Predict what categories should be assigned to a Wikipedia article. This is called **multi-label classification** since a single article could have more than one category assigned.\n",
    "\n",
    "In this notebook, we're going to work through a number of different classification problems with TensorFlow. In other words, taking a set of inputs and predicting what class those set of inputs belong to."
   ]
  },
  {
   "cell_type": "markdown",
   "id": "e8df20c2",
   "metadata": {},
   "source": [
    "## What we're going to cover\n",
    "\n",
    "Specifically, we're going to go through doing the following with TensorFlow:\n",
    "\n",
    "* Architecture of a classification model\n",
    "* Input shapes and output shapes\n",
    "    * X: features/data (inputs)\n",
    "    * y: labels (outputs)\n",
    "        * \"What class do the inputs belong to?\"\n",
    "* Creating custom data to view and fit\n",
    "* Steps in modelling for binary and mutliclass classification\n",
    "    * Creating a model\n",
    "    * Compiling a model\n",
    "        * Defining a loss function\n",
    "        * Setting up an optimizer\n",
    "        * Finding the best learning rate\n",
    "        * Creating evaluation metrics\n",
    "    * Fitting a model (getting it to find patterns in our data)\n",
    "    * Improving a model\n",
    "* The power of non-linearity\n",
    "* Evaluating classification models\n",
    "    * Visualizng the model (\"visualize, visualize, visualize\")\n",
    "    * Looking at training curves\n",
    "    * Compare predictions to ground truth (using our evaluation metrics)"
   ]
  },
  {
   "cell_type": "markdown",
   "id": "4318e43a",
   "metadata": {},
   "source": [
    "## Typical architecture of a classification neural network\n",
    "\n",
    "The word typical is on purpose.\n",
    "\n",
    "Because the architecture of a classification neural network can widely vary depending on the problem you're working on.\n",
    "\n",
    "However, there are some fundamentals all deep neural networks contain:\n",
    "\n",
    "* An input layer.\n",
    "* Some hidden layers.\n",
    "* An output layer.\n",
    "Much of the rest is up to the data analyst creating the model.\n",
    "\n",
    "The following are some standard values you'll often use in your classification neural networks.\n",
    "![Images/ClassificationParameters.png](Images/ClassificationParameters.png)"
   ]
  },
  {
   "cell_type": "markdown",
   "id": "4ae328af",
   "metadata": {},
   "source": [
    "## Creating data to view and fit"
   ]
  },
  {
   "cell_type": "code",
   "execution_count": 6,
   "id": "29f149d7",
   "metadata": {},
   "outputs": [
    {
     "name": "stdout",
     "output_type": "stream",
     "text": [
      "Init Plugin\n",
      "2.5.0\n",
      "Init Graph Optimizer\n",
      "Init Kernel\n"
     ]
    }
   ],
   "source": [
    "import tensorflow as tf\n",
    "print(tf.__version__)"
   ]
  },
  {
   "cell_type": "markdown",
   "id": "de794d51",
   "metadata": {},
   "source": [
    "We could start by importing a classification dataset but let's practice making some of our own classification data.\n",
    "\n",
    "🔑 Note: It's a common practice to get you and model you build working on a toy (or simple) dataset before moving to your actual problem. Treat it as a rehersal experiment before the actual experiment(s).\n",
    "\n",
    "Since classification is predicting whether something is one thing or another, let's make some data to reflect that.\n",
    "\n",
    "To do so, we'll use Scikit-Learn's **make_circles()** function."
   ]
  },
  {
   "cell_type": "code",
   "execution_count": 7,
   "id": "26536247",
   "metadata": {},
   "outputs": [],
   "source": [
    "from sklearn.datasets import make_circles\n",
    "\n",
    "# Make 1000 examples\n",
    "n_samples = 1000\n",
    "\n",
    "# Create circles\n",
    "X, y = make_circles(n_samples, \n",
    "                    noise=0.03, \n",
    "                    random_state=42)"
   ]
  },
  {
   "cell_type": "code",
   "execution_count": 8,
   "id": "c193ff3f",
   "metadata": {},
   "outputs": [
    {
     "data": {
      "text/plain": [
       "array([[ 0.75424625,  0.23148074],\n",
       "       [-0.75615888,  0.15325888],\n",
       "       [-0.81539193,  0.17328203],\n",
       "       ...,\n",
       "       [-0.13690036, -0.81001183],\n",
       "       [ 0.67036156, -0.76750154],\n",
       "       [ 0.28105665,  0.96382443]])"
      ]
     },
     "execution_count": 8,
     "metadata": {},
     "output_type": "execute_result"
    }
   ],
   "source": [
    "# Check out the features\n",
    "X\n",
    "     "
   ]
  },
  {
   "cell_type": "code",
   "execution_count": 9,
   "id": "f1034ceb",
   "metadata": {},
   "outputs": [
    {
     "data": {
      "text/plain": [
       "array([1, 1, 1, 1, 0, 1, 1, 1, 1, 0])"
      ]
     },
     "execution_count": 9,
     "metadata": {},
     "output_type": "execute_result"
    }
   ],
   "source": [
    "# See the first 10 labels\n",
    "y[:10]"
   ]
  },
  {
   "cell_type": "markdown",
   "id": "1161ec16",
   "metadata": {},
   "source": [
    "Okay, we've seen some of our data and labels, how about we move towards visualizing?\n",
    "\n",
    "🔑 Note: One important step of starting any kind of machine learning project is to become one with the data. And one of the best ways to do this is to visualize the data you're working with as much as possible. The data explorer's motto is \"visualize, visualize, visualize\".\n",
    "\n",
    "We'll start with a DataFrame."
   ]
  },
  {
   "cell_type": "code",
   "execution_count": 10,
   "id": "31ee14c0",
   "metadata": {},
   "outputs": [
    {
     "data": {
      "text/html": [
       "<div>\n",
       "<style scoped>\n",
       "    .dataframe tbody tr th:only-of-type {\n",
       "        vertical-align: middle;\n",
       "    }\n",
       "\n",
       "    .dataframe tbody tr th {\n",
       "        vertical-align: top;\n",
       "    }\n",
       "\n",
       "    .dataframe thead th {\n",
       "        text-align: right;\n",
       "    }\n",
       "</style>\n",
       "<table border=\"1\" class=\"dataframe\">\n",
       "  <thead>\n",
       "    <tr style=\"text-align: right;\">\n",
       "      <th></th>\n",
       "      <th>X0</th>\n",
       "      <th>X1</th>\n",
       "      <th>label</th>\n",
       "    </tr>\n",
       "  </thead>\n",
       "  <tbody>\n",
       "    <tr>\n",
       "      <th>0</th>\n",
       "      <td>0.754246</td>\n",
       "      <td>0.231481</td>\n",
       "      <td>1</td>\n",
       "    </tr>\n",
       "    <tr>\n",
       "      <th>1</th>\n",
       "      <td>-0.756159</td>\n",
       "      <td>0.153259</td>\n",
       "      <td>1</td>\n",
       "    </tr>\n",
       "    <tr>\n",
       "      <th>2</th>\n",
       "      <td>-0.815392</td>\n",
       "      <td>0.173282</td>\n",
       "      <td>1</td>\n",
       "    </tr>\n",
       "    <tr>\n",
       "      <th>3</th>\n",
       "      <td>-0.393731</td>\n",
       "      <td>0.692883</td>\n",
       "      <td>1</td>\n",
       "    </tr>\n",
       "    <tr>\n",
       "      <th>4</th>\n",
       "      <td>0.442208</td>\n",
       "      <td>-0.896723</td>\n",
       "      <td>0</td>\n",
       "    </tr>\n",
       "  </tbody>\n",
       "</table>\n",
       "</div>"
      ],
      "text/plain": [
       "         X0        X1  label\n",
       "0  0.754246  0.231481      1\n",
       "1 -0.756159  0.153259      1\n",
       "2 -0.815392  0.173282      1\n",
       "3 -0.393731  0.692883      1\n",
       "4  0.442208 -0.896723      0"
      ]
     },
     "execution_count": 10,
     "metadata": {},
     "output_type": "execute_result"
    }
   ],
   "source": [
    "# Make dataframe of features and labels\n",
    "import pandas as pd\n",
    "circles = pd.DataFrame({\"X0\":X[:, 0], \"X1\":X[:, 1], \"label\":y})\n",
    "circles.head()"
   ]
  },
  {
   "cell_type": "code",
   "execution_count": 11,
   "id": "684a2c4b",
   "metadata": {},
   "outputs": [
    {
     "data": {
      "text/plain": [
       "1    500\n",
       "0    500\n",
       "Name: label, dtype: int64"
      ]
     },
     "execution_count": 11,
     "metadata": {},
     "output_type": "execute_result"
    }
   ],
   "source": [
    "# Check out the different labels\n",
    "circles.label.value_counts()"
   ]
  },
  {
   "cell_type": "markdown",
   "id": "15dc31d3",
   "metadata": {},
   "source": [
    "Alright, looks like we're dealing with a binary classification problem. It's binary because there are only two labels (0 or 1).\n",
    "\n",
    "If there were more label options (e.g. 0, 1, 2, 3 or 4), it would be called multiclass classification.\n",
    "\n",
    "Let's take our visualization a step further and plot our data."
   ]
  },
  {
   "cell_type": "code",
   "execution_count": 12,
   "id": "d8501924",
   "metadata": {},
   "outputs": [
    {
     "data": {
      "image/png": "[encoded data removed]",
      "text/plain": [
       "<Figure size 640x480 with 1 Axes>"
      ]
     },
     "metadata": {},
     "output_type": "display_data"
    }
   ],
   "source": [
    "# Visualize with a plot\n",
    "import matplotlib.pyplot as plt\n",
    "plt.scatter(X[:, 0], X[:, 1], c=y, cmap=plt.cm.RdYlBu);"
   ]
  },
  {
   "cell_type": "markdown",
   "id": "cb070f37",
   "metadata": {},
   "source": [
    "Nice! From the plot, can you guess what kind of model we might want to build?\n",
    "\n",
    "How about we try and build one to classify blue or red dots? As in, a model which is able to distinguish blue from red dots.\n",
    "\n",
    "🛠 Practice: Before pushing forward, you might want to spend 10 minutes playing around with the [TensorFlow Playground](https://playground.tensorflow.org/#activation=relu&batchSize=10&dataset=circle®Dataset=reg-plane&learningRate=0.03®ularizationRate=0&noise=0&networkShape=2,2&seed=0.93799&showTestData=false&discretize=false&percTrainData=50&x=true&y=true&xTimesY=false&xSquared=false&ySquared=false&cosX=false&sinX=false&cosY=false&sinY=false&collectStats=false&problem=classification&initZero=false&hideText=false®ularization_hide=true®ularizationRate_hide=true&batchSize_hide=true). Try adjusting the different hyperparameters you see and click play to see a neural network train. I think you'll find the data very similar to what we've just created."
   ]
  },
  {
   "cell_type": "markdown",
   "id": "aef0e9be",
   "metadata": {},
   "source": [
    "## Input and output shapes\n",
    "\n",
    "One of the most common issues you'll run into when building neural networks is shape mismatches.\n",
    "\n",
    "More specifically, the shape of the input data and the shape of the output data.\n",
    "\n",
    "In our case, we want to input X and get our model to predict y.\n",
    "\n",
    "So let's check out the shapes of X and y."
   ]
  },
  {
   "cell_type": "code",
   "execution_count": 13,
   "id": "de389261",
   "metadata": {},
   "outputs": [
    {
     "data": {
      "text/plain": [
       "((1000, 2), (1000,))"
      ]
     },
     "execution_count": 13,
     "metadata": {},
     "output_type": "execute_result"
    }
   ],
   "source": [
    "# Check the shapes of our features and labels\n",
    "X.shape, y.shape"
   ]
  },
  {
   "cell_type": "code",
   "execution_count": 14,
   "id": "fe3545bb",
   "metadata": {},
   "outputs": [
    {
     "data": {
      "text/plain": [
       "(1000, 1000)"
      ]
     },
     "execution_count": 14,
     "metadata": {},
     "output_type": "execute_result"
    }
   ],
   "source": [
    "# Check how many samples we have\n",
    "len(X), len(y)"
   ]
  },
  {
   "cell_type": "markdown",
   "id": "f74d7c4d",
   "metadata": {},
   "source": [
    "So we've got as many X values as we do y values, that makes sense.\n",
    "\n",
    "Let's check out one example of each."
   ]
  },
  {
   "cell_type": "code",
   "execution_count": 15,
   "id": "0351d831",
   "metadata": {},
   "outputs": [
    {
     "data": {
      "text/plain": [
       "(array([0.75424625, 0.23148074]), 1)"
      ]
     },
     "execution_count": 15,
     "metadata": {},
     "output_type": "execute_result"
    }
   ],
   "source": [
    "# View the first example of features and labels\n",
    "X[0], y[0]"
   ]
  },
  {
   "cell_type": "markdown",
   "id": "92d9c5a3",
   "metadata": {},
   "source": [
    "## Steps in modelling\n",
    "\n",
    "Now we know what data we have as well as the input and output shapes, let's see how we'd build a neural network to model it.\n",
    "\n",
    "In TensorFlow, there are typically 3 fundamental steps to creating and training a model.\n",
    "\n",
    "1. Creating a model - piece together the layers of a neural network yourself (using the functional or sequential API) or import a previously built model (known as transfer learning).\n",
    "2. Compiling a model - defining how a model's performance should be measured (loss/metrics) as well as defining how it should improve (optimizer).\n",
    "3. Fitting a model - letting the model try to find patterns in the data (how does X get to y).\n",
    "Let's see these in action using the Sequential API to build a model for our regression data. And then we'll step through each."
   ]
  },
  {
   "cell_type": "code",
   "execution_count": 16,
   "id": "2f1be108",
   "metadata": {},
   "outputs": [
    {
     "name": "stdout",
     "output_type": "stream",
     "text": [
      "Metal device set to: Apple M1\n",
      "Epoch 1/5\n"
     ]
    },
    {
     "name": "stderr",
     "output_type": "stream",
     "text": [
      "2022-12-06 22:33:44.311757: I tensorflow/core/common_runtime/pluggable_device/pluggable_device_factory.cc:305] Could not identify NUMA node of platform GPU ID 0, defaulting to 0. Your kernel may not have been built with NUMA support.\n",
      "2022-12-06 22:33:44.312144: I tensorflow/core/common_runtime/pluggable_device/pluggable_device_factory.cc:271] Created TensorFlow device (/job:localhost/replica:0/task:0/device:GPU:0 with 0 MB memory) -> physical PluggableDevice (device: 0, name: METAL, pci bus id: <undefined>)\n",
      "2022-12-06 22:33:44.414014: I tensorflow/compiler/mlir/mlir_graph_optimization_pass.cc:176] None of the MLIR Optimization Passes are enabled (registered 2)\n",
      "2022-12-06 22:33:44.414229: W tensorflow/core/platform/profile_utils/cpu_utils.cc:128] Failed to get CPU frequency: 0 Hz\n",
      "2022-12-06 22:33:44.715802: I tensorflow/core/grappler/optimizers/custom_graph_optimizer_registry.cc:112] Plugin optimizer for device_type GPU is enabled.\n"
     ]
    },
    {
     "name": "stdout",
     "output_type": "stream",
     "text": [
      "32/32 [==============================] - 2s 5ms/step - loss: 5.4350 - accuracy: 0.4790\n",
      "Epoch 2/5\n",
      "32/32 [==============================] - 0s 4ms/step - loss: 3.8813 - accuracy: 0.4700\n",
      "Epoch 3/5\n",
      "32/32 [==============================] - 0s 4ms/step - loss: 0.7756 - accuracy: 0.4930\n",
      "Epoch 4/5\n",
      "32/32 [==============================] - 0s 4ms/step - loss: 0.7155 - accuracy: 0.4940\n",
      "Epoch 5/5\n",
      "32/32 [==============================] - 0s 4ms/step - loss: 0.7009 - accuracy: 0.4920\n"
     ]
    },
    {
     "data": {
      "text/plain": [
       "<tensorflow.python.keras.callbacks.History at 0x2849a9670>"
      ]
     },
     "execution_count": 16,
     "metadata": {},
     "output_type": "execute_result"
    }
   ],
   "source": [
    "# Set random seed\n",
    "tf.random.set_seed(42)\n",
    "\n",
    "# 1. Create the model using the Sequential API\n",
    "model_1 = tf.keras.Sequential([\n",
    "  tf.keras.layers.Dense(1)\n",
    "])\n",
    "\n",
    "# 2. Compile the model\n",
    "model_1.compile(loss=tf.keras.losses.BinaryCrossentropy(), # binary since we are working with 2 clases (0 & 1)\n",
    "                optimizer=tf.keras.optimizers.SGD(),\n",
    "                metrics=['accuracy'])\n",
    "\n",
    "# 3. Fit the model\n",
    "model_1.fit(X, y, epochs=5)"
   ]
  },
  {
   "cell_type": "markdown",
   "id": "84f48614",
   "metadata": {},
   "source": [
    "Looking at the accuracy metric, our model performs poorly (50% accuracy on a binary classification problem is the equivalent of guessing), but what if we trained it for longer?"
   ]
  },
  {
   "cell_type": "code",
   "execution_count": 17,
   "id": "0c3cb03b",
   "metadata": {},
   "outputs": [
    {
     "name": "stdout",
     "output_type": "stream",
     "text": [
      "32/32 [==============================] - 0s 3ms/step - loss: 0.6935 - accuracy: 0.5000\n"
     ]
    },
    {
     "name": "stderr",
     "output_type": "stream",
     "text": [
      "2022-12-06 22:36:48.634943: I tensorflow/core/grappler/optimizers/custom_graph_optimizer_registry.cc:112] Plugin optimizer for device_type GPU is enabled.\n"
     ]
    },
    {
     "data": {
      "text/plain": [
       "[0.6934829950332642, 0.5]"
      ]
     },
     "execution_count": 17,
     "metadata": {},
     "output_type": "execute_result"
    }
   ],
   "source": [
    "# Train our model for longer (more chances to look at the data)\n",
    "model_1.fit(X, y, epochs=200, verbose=0) # set verbose=0 to remove training updates\n",
    "model_1.evaluate(X, y)"
   ]
  },
  {
   "cell_type": "markdown",
   "id": "79b095fe",
   "metadata": {},
   "source": [
    "Even after 200 passes of the data, it's still performing as if it's guessing.\n",
    "\n",
    "What if we added an extra layer and trained for a little longer?"
   ]
  },
  {
   "cell_type": "code",
   "execution_count": 18,
   "id": "b7c09389",
   "metadata": {},
   "outputs": [
    {
     "name": "stderr",
     "output_type": "stream",
     "text": [
      "2022-12-06 22:37:27.148069: I tensorflow/core/grappler/optimizers/custom_graph_optimizer_registry.cc:112] Plugin optimizer for device_type GPU is enabled.\n"
     ]
    },
    {
     "data": {
      "text/plain": [
       "<tensorflow.python.keras.callbacks.History at 0x284756eb0>"
      ]
     },
     "execution_count": 18,
     "metadata": {},
     "output_type": "execute_result"
    }
   ],
   "source": [
    "# Set random seed\n",
    "tf.random.set_seed(42)\n",
    "\n",
    "# 1. Create the model (same as model_1 but with an extra layer)\n",
    "model_2 = tf.keras.Sequential([\n",
    "  tf.keras.layers.Dense(1), # add an extra layer\n",
    "  tf.keras.layers.Dense(1) \n",
    "])\n",
    "\n",
    "# 2. Compile the model\n",
    "model_2.compile(loss=tf.keras.losses.BinaryCrossentropy(),\n",
    "                optimizer=tf.keras.optimizers.SGD(),\n",
    "                metrics=['accuracy'])\n",
    "\n",
    "# 3. Fit the model\n",
    "model_2.fit(X, y, epochs=100, verbose=0) # set verbose=0 to make the output print less"
   ]
  },
  {
   "cell_type": "code",
   "execution_count": 19,
   "id": "a484bb64",
   "metadata": {},
   "outputs": [
    {
     "name": "stdout",
     "output_type": "stream",
     "text": [
      "32/32 [==============================] - 0s 3ms/step - loss: 0.6933 - accuracy: 0.5000\n"
     ]
    },
    {
     "name": "stderr",
     "output_type": "stream",
     "text": [
      "2022-12-06 22:37:44.437192: I tensorflow/core/grappler/optimizers/custom_graph_optimizer_registry.cc:112] Plugin optimizer for device_type GPU is enabled.\n"
     ]
    },
    {
     "data": {
      "text/plain": [
       "[0.6932641863822937, 0.5]"
      ]
     },
     "execution_count": 19,
     "metadata": {},
     "output_type": "execute_result"
    }
   ],
   "source": [
    "# Evaluate the model\n",
    "model_2.evaluate(X, y)"
   ]
  },
  {
   "cell_type": "markdown",
   "id": "b1c13962",
   "metadata": {},
   "source": [
    "## Improving a model\n",
    "\n",
    "To improve our model, we can alter almost every part of the 3 steps we went through before.\n",
    "\n",
    "1. **Creating a model** - here you might want to add more layers, increase the number of hidden units (also called neurons) within each layer, change the activation functions of each layer.\n",
    "2. **Compiling a model** - you might want to choose a different optimization function (such as the Adam optimizer, which is usually pretty good for many problems) or perhaps change the learning rate of the optimization function.\n",
    "3. **Fitting a model** - perhaps you could fit a model for more epochs (leave it training for longer).\n"
   ]
  },
  {
   "cell_type": "code",
   "execution_count": 20,
   "id": "cfa62877",
   "metadata": {},
   "outputs": [
    {
     "name": "stdout",
     "output_type": "stream",
     "text": [
      "Epoch 1/100\n"
     ]
    },
    {
     "name": "stderr",
     "output_type": "stream",
     "text": [
      "2022-12-06 22:44:42.807232: I tensorflow/core/grappler/optimizers/custom_graph_optimizer_registry.cc:112] Plugin optimizer for device_type GPU is enabled.\n"
     ]
    },
    {
     "name": "stdout",
     "output_type": "stream",
     "text": [
      "32/32 [==============================] - 2s 14ms/step - loss: 2.7522 - accuracy: 0.4660\n",
      "Epoch 2/100\n",
      "32/32 [==============================] - 0s 5ms/step - loss: 0.7083 - accuracy: 0.4770\n",
      "Epoch 3/100\n",
      "32/32 [==============================] - 0s 6ms/step - loss: 0.6931 - accuracy: 0.5030\n",
      "Epoch 4/100\n",
      "32/32 [==============================] - 0s 5ms/step - loss: 0.6960 - accuracy: 0.4940\n",
      "Epoch 5/100\n",
      "32/32 [==============================] - 0s 6ms/step - loss: 0.6957 - accuracy: 0.4840\n",
      "Epoch 6/100\n",
      "32/32 [==============================] - 0s 6ms/step - loss: 0.6958 - accuracy: 0.4510\n",
      "Epoch 7/100\n",
      "32/32 [==============================] - 0s 6ms/step - loss: 0.6952 - accuracy: 0.5240\n",
      "Epoch 8/100\n",
      "32/32 [==============================] - 0s 5ms/step - loss: 0.6956 - accuracy: 0.4990\n",
      "Epoch 9/100\n",
      "32/32 [==============================] - 0s 5ms/step - loss: 0.6969 - accuracy: 0.4890\n",
      "Epoch 10/100\n",
      "32/32 [==============================] - 0s 6ms/step - loss: 0.6952 - accuracy: 0.4650\n",
      "Epoch 11/100\n",
      "32/32 [==============================] - 0s 5ms/step - loss: 0.6980 - accuracy: 0.4630\n",
      "Epoch 12/100\n",
      "32/32 [==============================] - 0s 5ms/step - loss: 0.6961 - accuracy: 0.4860\n",
      "Epoch 13/100\n",
      "32/32 [==============================] - 0s 5ms/step - loss: 0.6974 - accuracy: 0.4820\n",
      "Epoch 14/100\n",
      "32/32 [==============================] - 0s 5ms/step - loss: 0.6958 - accuracy: 0.5240\n",
      "Epoch 15/100\n",
      "32/32 [==============================] - 0s 5ms/step - loss: 0.6982 - accuracy: 0.4700\n",
      "Epoch 16/100\n",
      "32/32 [==============================] - 0s 5ms/step - loss: 0.6954 - accuracy: 0.4920\n",
      "Epoch 17/100\n",
      "32/32 [==============================] - 0s 5ms/step - loss: 0.7023 - accuracy: 0.4930\n",
      "Epoch 18/100\n",
      "32/32 [==============================] - 0s 5ms/step - loss: 0.6958 - accuracy: 0.4780\n",
      "Epoch 19/100\n",
      "32/32 [==============================] - 0s 5ms/step - loss: 0.6974 - accuracy: 0.5060\n",
      "Epoch 20/100\n",
      "32/32 [==============================] - 0s 5ms/step - loss: 0.6983 - accuracy: 0.4670\n",
      "Epoch 21/100\n",
      "32/32 [==============================] - 0s 5ms/step - loss: 0.6969 - accuracy: 0.5030\n",
      "Epoch 22/100\n",
      "32/32 [==============================] - 0s 5ms/step - loss: 0.6967 - accuracy: 0.4670\n",
      "Epoch 23/100\n",
      "32/32 [==============================] - 0s 5ms/step - loss: 0.6955 - accuracy: 0.5160\n",
      "Epoch 24/100\n",
      "32/32 [==============================] - 0s 5ms/step - loss: 0.6994 - accuracy: 0.4650\n",
      "Epoch 25/100\n",
      "32/32 [==============================] - 0s 5ms/step - loss: 0.6994 - accuracy: 0.5100\n",
      "Epoch 26/100\n",
      "32/32 [==============================] - 0s 5ms/step - loss: 0.6997 - accuracy: 0.4880\n",
      "Epoch 27/100\n",
      "32/32 [==============================] - 0s 5ms/step - loss: 0.6987 - accuracy: 0.5010\n",
      "Epoch 28/100\n",
      "32/32 [==============================] - 0s 5ms/step - loss: 0.6975 - accuracy: 0.4840\n",
      "Epoch 29/100\n",
      "32/32 [==============================] - 0s 5ms/step - loss: 0.6985 - accuracy: 0.4970\n",
      "Epoch 30/100\n",
      "32/32 [==============================] - 0s 5ms/step - loss: 0.7081 - accuracy: 0.4640\n",
      "Epoch 31/100\n",
      "32/32 [==============================] - 0s 5ms/step - loss: 0.6945 - accuracy: 0.5340\n",
      "Epoch 32/100\n",
      "32/32 [==============================] - 0s 5ms/step - loss: 0.6982 - accuracy: 0.4630\n",
      "Epoch 33/100\n",
      "32/32 [==============================] - 0s 5ms/step - loss: 0.6982 - accuracy: 0.4990\n",
      "Epoch 34/100\n",
      "32/32 [==============================] - 0s 5ms/step - loss: 0.7005 - accuracy: 0.4680\n",
      "Epoch 35/100\n",
      "32/32 [==============================] - 0s 5ms/step - loss: 0.6981 - accuracy: 0.4960\n",
      "Epoch 36/100\n",
      "32/32 [==============================] - 0s 5ms/step - loss: 0.6955 - accuracy: 0.4900\n",
      "Epoch 37/100\n",
      "32/32 [==============================] - 0s 5ms/step - loss: 0.6974 - accuracy: 0.4870\n",
      "Epoch 38/100\n",
      "32/32 [==============================] - 0s 5ms/step - loss: 0.6984 - accuracy: 0.5010\n",
      "Epoch 39/100\n",
      "32/32 [==============================] - 0s 5ms/step - loss: 0.7003 - accuracy: 0.4660\n",
      "Epoch 40/100\n",
      "32/32 [==============================] - 0s 5ms/step - loss: 0.6984 - accuracy: 0.5000\n",
      "Epoch 41/100\n",
      "32/32 [==============================] - 0s 5ms/step - loss: 0.6989 - accuracy: 0.5160\n",
      "Epoch 42/100\n",
      "32/32 [==============================] - 0s 5ms/step - loss: 0.7032 - accuracy: 0.4850\n",
      "Epoch 43/100\n",
      "32/32 [==============================] - 0s 5ms/step - loss: 0.6975 - accuracy: 0.4940\n",
      "Epoch 44/100\n",
      "32/32 [==============================] - 0s 5ms/step - loss: 0.6992 - accuracy: 0.4830\n",
      "Epoch 45/100\n",
      "32/32 [==============================] - 0s 5ms/step - loss: 0.7021 - accuracy: 0.4790\n",
      "Epoch 46/100\n",
      "32/32 [==============================] - 0s 5ms/step - loss: 0.6956 - accuracy: 0.4810\n",
      "Epoch 47/100\n",
      "32/32 [==============================] - 0s 5ms/step - loss: 0.6985 - accuracy: 0.4920\n",
      "Epoch 48/100\n",
      "32/32 [==============================] - 0s 5ms/step - loss: 0.6989 - accuracy: 0.5050\n",
      "Epoch 49/100\n",
      "32/32 [==============================] - 0s 5ms/step - loss: 0.6994 - accuracy: 0.4810\n",
      "Epoch 50/100\n",
      "32/32 [==============================] - 0s 5ms/step - loss: 0.7001 - accuracy: 0.4640\n",
      "Epoch 51/100\n",
      "32/32 [==============================] - 0s 5ms/step - loss: 0.7021 - accuracy: 0.4700\n",
      "Epoch 52/100\n",
      "32/32 [==============================] - 0s 5ms/step - loss: 0.6972 - accuracy: 0.4890\n",
      "Epoch 53/100\n",
      "32/32 [==============================] - 0s 5ms/step - loss: 0.6977 - accuracy: 0.4860\n",
      "Epoch 54/100\n",
      "32/32 [==============================] - 0s 5ms/step - loss: 0.7018 - accuracy: 0.5030\n",
      "Epoch 55/100\n",
      "32/32 [==============================] - 0s 5ms/step - loss: 0.6969 - accuracy: 0.5120\n",
      "Epoch 56/100\n",
      "32/32 [==============================] - 0s 5ms/step - loss: 0.6973 - accuracy: 0.5030\n",
      "Epoch 57/100\n",
      "32/32 [==============================] - 0s 5ms/step - loss: 0.6994 - accuracy: 0.4850\n",
      "Epoch 58/100\n",
      "32/32 [==============================] - 0s 5ms/step - loss: 0.6993 - accuracy: 0.4900\n",
      "Epoch 59/100\n",
      "32/32 [==============================] - 0s 5ms/step - loss: 0.7032 - accuracy: 0.4910\n",
      "Epoch 60/100\n",
      "32/32 [==============================] - 0s 5ms/step - loss: 0.7042 - accuracy: 0.5060\n",
      "Epoch 61/100\n",
      "32/32 [==============================] - 0s 5ms/step - loss: 0.7023 - accuracy: 0.4560\n",
      "Epoch 62/100\n",
      "32/32 [==============================] - 0s 5ms/step - loss: 0.6967 - accuracy: 0.5120\n",
      "Epoch 63/100\n",
      "32/32 [==============================] - 0s 5ms/step - loss: 0.6950 - accuracy: 0.4770\n",
      "Epoch 64/100\n",
      "32/32 [==============================] - 0s 5ms/step - loss: 0.6959 - accuracy: 0.4960\n",
      "Epoch 65/100\n",
      "32/32 [==============================] - 0s 5ms/step - loss: 0.7033 - accuracy: 0.4700\n",
      "Epoch 66/100\n",
      "32/32 [==============================] - 0s 5ms/step - loss: 0.6977 - accuracy: 0.4950\n",
      "Epoch 67/100\n",
      "32/32 [==============================] - 0s 5ms/step - loss: 0.6987 - accuracy: 0.4700\n",
      "Epoch 68/100\n",
      "32/32 [==============================] - 0s 5ms/step - loss: 0.6964 - accuracy: 0.4910\n",
      "Epoch 69/100\n",
      "32/32 [==============================] - 0s 5ms/step - loss: 0.6967 - accuracy: 0.5340\n",
      "Epoch 70/100\n",
      "32/32 [==============================] - 0s 5ms/step - loss: 0.7004 - accuracy: 0.4840\n",
      "Epoch 71/100\n",
      "32/32 [==============================] - 0s 5ms/step - loss: 0.6999 - accuracy: 0.4500\n",
      "Epoch 72/100\n",
      "32/32 [==============================] - 0s 5ms/step - loss: 0.6977 - accuracy: 0.4900\n",
      "Epoch 73/100\n",
      "32/32 [==============================] - 0s 5ms/step - loss: 0.6972 - accuracy: 0.4930\n",
      "Epoch 74/100\n",
      "32/32 [==============================] - 0s 5ms/step - loss: 0.6965 - accuracy: 0.5230\n",
      "Epoch 75/100\n",
      "32/32 [==============================] - 0s 5ms/step - loss: 0.6974 - accuracy: 0.5070\n",
      "Epoch 76/100\n",
      "32/32 [==============================] - 0s 5ms/step - loss: 0.6982 - accuracy: 0.4880\n",
      "Epoch 77/100\n",
      "32/32 [==============================] - 0s 5ms/step - loss: 0.6976 - accuracy: 0.5010\n",
      "Epoch 78/100\n",
      "32/32 [==============================] - 0s 5ms/step - loss: 0.6978 - accuracy: 0.4780\n",
      "Epoch 79/100\n",
      "32/32 [==============================] - 0s 5ms/step - loss: 0.7018 - accuracy: 0.5010\n",
      "Epoch 80/100\n",
      "32/32 [==============================] - 0s 5ms/step - loss: 0.6999 - accuracy: 0.4930\n",
      "Epoch 81/100\n",
      "32/32 [==============================] - 0s 5ms/step - loss: 0.6992 - accuracy: 0.5010\n",
      "Epoch 82/100\n",
      "32/32 [==============================] - 0s 5ms/step - loss: 0.6978 - accuracy: 0.5120\n",
      "Epoch 83/100\n"
     ]
    },
    {
     "name": "stdout",
     "output_type": "stream",
     "text": [
      "32/32 [==============================] - 0s 5ms/step - loss: 0.7003 - accuracy: 0.4600\n",
      "Epoch 84/100\n",
      "32/32 [==============================] - 0s 5ms/step - loss: 0.6979 - accuracy: 0.5150\n",
      "Epoch 85/100\n",
      "32/32 [==============================] - 0s 5ms/step - loss: 0.6974 - accuracy: 0.4800\n",
      "Epoch 86/100\n",
      "32/32 [==============================] - 0s 5ms/step - loss: 0.7020 - accuracy: 0.4890\n",
      "Epoch 87/100\n",
      "32/32 [==============================] - 0s 5ms/step - loss: 0.6990 - accuracy: 0.4620\n",
      "Epoch 88/100\n",
      "32/32 [==============================] - 0s 5ms/step - loss: 0.6998 - accuracy: 0.4680\n",
      "Epoch 89/100\n",
      "32/32 [==============================] - 0s 5ms/step - loss: 0.6990 - accuracy: 0.4760\n",
      "Epoch 90/100\n",
      "32/32 [==============================] - 0s 5ms/step - loss: 0.6986 - accuracy: 0.4870\n",
      "Epoch 91/100\n",
      "32/32 [==============================] - 0s 5ms/step - loss: 0.7001 - accuracy: 0.4910\n",
      "Epoch 92/100\n",
      "32/32 [==============================] - 0s 5ms/step - loss: 0.7011 - accuracy: 0.4900\n",
      "Epoch 93/100\n",
      "32/32 [==============================] - 0s 5ms/step - loss: 0.6980 - accuracy: 0.4800\n",
      "Epoch 94/100\n",
      "32/32 [==============================] - 0s 5ms/step - loss: 0.7031 - accuracy: 0.4930\n",
      "Epoch 95/100\n",
      "32/32 [==============================] - 0s 5ms/step - loss: 0.6982 - accuracy: 0.4560\n",
      "Epoch 96/100\n",
      "32/32 [==============================] - 0s 5ms/step - loss: 0.6990 - accuracy: 0.4760\n",
      "Epoch 97/100\n",
      "32/32 [==============================] - 0s 5ms/step - loss: 0.6980 - accuracy: 0.4450\n",
      "Epoch 98/100\n",
      "32/32 [==============================] - 0s 5ms/step - loss: 0.7006 - accuracy: 0.4900\n",
      "Epoch 99/100\n",
      "32/32 [==============================] - 0s 5ms/step - loss: 0.6985 - accuracy: 0.5100\n",
      "Epoch 100/100\n",
      "32/32 [==============================] - 0s 5ms/step - loss: 0.6966 - accuracy: 0.4840\n"
     ]
    },
    {
     "data": {
      "text/plain": [
       "<tensorflow.python.keras.callbacks.History at 0x284834190>"
      ]
     },
     "execution_count": 20,
     "metadata": {},
     "output_type": "execute_result"
    }
   ],
   "source": [
    "# Set random seed\n",
    "tf.random.set_seed(42)\n",
    "\n",
    "# 1. Create the model (this time 3 layers)\n",
    "model_3 = tf.keras.Sequential([\n",
    "  # Before TensorFlow 2.7.0\n",
    "  # tf.keras.layers.Dense(100), # add 100 dense neurons\n",
    "\n",
    "  # With TensorFlow 2.7.0\n",
    "  # tf.keras.layers.Dense(100, input_shape=(None, 1)), # add 100 dense neurons\n",
    "\n",
    "  ## After TensorFlow 2.8.0 ##\n",
    "  tf.keras.layers.Dense(100), # add 100 dense neurons\n",
    "  tf.keras.layers.Dense(10), # add another layer with 10 neurons\n",
    "  tf.keras.layers.Dense(1)\n",
    "])\n",
    "\n",
    "# 2. Compile the model\n",
    "model_3.compile(loss=tf.keras.losses.BinaryCrossentropy(),\n",
    "                optimizer=tf.keras.optimizers.Adam(), # use Adam instead of SGD\n",
    "                metrics=['accuracy'])\n",
    "\n",
    "# 3. Fit the model\n",
    "model_3.fit(X, y, epochs=100, verbose=1) # fit for 100 passes of the data"
   ]
  },
  {
   "cell_type": "code",
   "execution_count": 21,
   "id": "74515c48",
   "metadata": {},
   "outputs": [],
   "source": [
    "import numpy as np"
   ]
  },
  {
   "cell_type": "markdown",
   "id": "86b7ce52",
   "metadata": {},
   "source": [
    "To visualize our model's predictions we're going to create a function plot_decision_boundary() which:\n",
    "\n",
    "* Takes in a trained model, features (X) and labels (y).\n",
    "* Creates a meshgrid of the different X values.\n",
    "* Makes predictions across the meshgrid.\n",
    "* Plots the predictions as well as a line between the different zones (where each unique class falls)."
   ]
  },
  {
   "cell_type": "code",
   "execution_count": 23,
   "id": "7dd6f649",
   "metadata": {},
   "outputs": [],
   "source": [
    "def plot_decision_boundary(model, X, y):\n",
    "    \"\"\"\n",
    "    Plots the decision boundary created by a model predicting on X.\n",
    "  This function has been adapted from two phenomenal resources:\n",
    "   1. CS231n - https://cs231n.github.io/neural-networks-case-study/\n",
    "   2. Made with ML basics - https://github.com/GokuMohandas/MadeWithML/blob/main/notebooks/08_Neural_Networks.ipynb\n",
    "    \"\"\"\n",
    "    # Define the axis boundaries of the plot and create a meshgrid\n",
    "    x_min, x_max = X[:, 0].min() - 0.1, X[:, 0].max() + 0.1\n",
    "    y_min, y_max = X[:, 1].min() - 0.1, X[:, 1].max() + 0.1\n",
    "    xx, yy = np.meshgrid(np.linspace(x_min, x_max, 100),\n",
    "                       np.linspace(y_min, y_max, 100))\n",
    "    # Create X values (we're going to predict on all of these)\n",
    "    x_in = np.c_[xx.ravel(), yy.ravel()] # stack 2D arrays together: https://numpy.org/devdocs/reference/generated/numpy.c_.html\n",
    "    \n",
    "    # Make predictions using the trained model\n",
    "    y_pred = model.predict(x_in)\n",
    "    \n",
    "    # Check for multi-class\n",
    "    if model.output_shape[-1] > 1: # checks the final dimension of the model's output shape, if this is > (greater than) 1, it's multi-class\n",
    "        #another way to check is if len(y_pred[0]) > 1\n",
    "        print(\"doing multiclass classification...\")\n",
    "        # We have to reshape our predictions to get them ready for plotting\n",
    "        y_pred = np.argmax(y_pred, axis=1).reshape(xx.shape)\n",
    "    else:\n",
    "        print(\"doing binary classifcation...\")\n",
    "        y_pred = np.round(np.max(y_pred, axis=1)).reshape(xx.shape)\n",
    "        \n",
    "    # Plot decision boundary\n",
    "    plt.contourf(xx, yy, y_pred, cmap=plt.cm.RdYlBu, alpha=0.7)\n",
    "    plt.scatter(X[:, 0], X[:, 1], c=y, s=40, cmap=plt.cm.RdYlBu)\n",
    "    plt.xlim(xx.min(), xx.max())\n",
    "    plt.ylim(yy.min(), yy.max())"
   ]
  },
  {
   "cell_type": "markdown",
   "id": "7fb81888",
   "metadata": {},
   "source": [
    "Now we've got a function to plot our model's decision boundary (the cut off point its making between red and blue dots), let's try it out."
   ]
  },
  {
   "cell_type": "code",
   "execution_count": 24,
   "id": "dc34c335",
   "metadata": {},
   "outputs": [
    {
     "name": "stderr",
     "output_type": "stream",
     "text": [
      "2022-12-08 15:37:28.475355: I tensorflow/core/grappler/optimizers/custom_graph_optimizer_registry.cc:112] Plugin optimizer for device_type GPU is enabled.\n"
     ]
    },
    {
     "name": "stdout",
     "output_type": "stream",
     "text": [
      "doing binary classifcation...\n"
     ]
    },
    {
     "data": {
      "image/png": "[encoded data removed]",
      "text/plain": [
       "<Figure size 640x480 with 1 Axes>"
      ]
     },
     "metadata": {},
     "output_type": "display_data"
    }
   ],
   "source": [
    "# Check out the predictions our model is making\n",
    "plot_decision_boundary(model_3, X, y)"
   ]
  },
  {
   "cell_type": "markdown",
   "id": "338bb115",
   "metadata": {},
   "source": [
    "Looks like our model is trying to draw a straight line through the data.\n",
    "\n",
    "What's wrong with doing this?\n",
    "\n",
    "The main issue is our data isn't separable by a straight line.\n",
    "\n",
    "In a regression problem, our model might work. In fact, let's try it."
   ]
  },
  {
   "cell_type": "code",
   "execution_count": 25,
   "id": "7fdb56ab",
   "metadata": {},
   "outputs": [
    {
     "name": "stdout",
     "output_type": "stream",
     "text": [
      "Epoch 1/100\n"
     ]
    },
    {
     "ename": "ValueError",
     "evalue": "in user code:\n\n    /opt/homebrew/Caskroom/miniforge/base/envs/tensorflow/lib/python3.9/site-packages/tensorflow/python/keras/engine/training.py:855 train_function  *\n        return step_function(self, iterator)\n    /opt/homebrew/Caskroom/miniforge/base/envs/tensorflow/lib/python3.9/site-packages/tensorflow/python/keras/engine/training.py:845 step_function  **\n        outputs = model.distribute_strategy.run(run_step, args=(data,))\n    /opt/homebrew/Caskroom/miniforge/base/envs/tensorflow/lib/python3.9/site-packages/tensorflow/python/distribute/distribute_lib.py:1285 run\n        return self._extended.call_for_each_replica(fn, args=args, kwargs=kwargs)\n    /opt/homebrew/Caskroom/miniforge/base/envs/tensorflow/lib/python3.9/site-packages/tensorflow/python/distribute/distribute_lib.py:2833 call_for_each_replica\n        return self._call_for_each_replica(fn, args, kwargs)\n    /opt/homebrew/Caskroom/miniforge/base/envs/tensorflow/lib/python3.9/site-packages/tensorflow/python/distribute/distribute_lib.py:3608 _call_for_each_replica\n        return fn(*args, **kwargs)\n    /opt/homebrew/Caskroom/miniforge/base/envs/tensorflow/lib/python3.9/site-packages/tensorflow/python/keras/engine/training.py:838 run_step  **\n        outputs = model.train_step(data)\n    /opt/homebrew/Caskroom/miniforge/base/envs/tensorflow/lib/python3.9/site-packages/tensorflow/python/keras/engine/training.py:795 train_step\n        y_pred = self(x, training=True)\n    /opt/homebrew/Caskroom/miniforge/base/envs/tensorflow/lib/python3.9/site-packages/tensorflow/python/keras/engine/base_layer.py:1013 __call__\n        input_spec.assert_input_compatibility(self.input_spec, inputs, self.name)\n    /opt/homebrew/Caskroom/miniforge/base/envs/tensorflow/lib/python3.9/site-packages/tensorflow/python/keras/engine/input_spec.py:251 assert_input_compatibility\n        raise ValueError(\n\n    ValueError: Input 0 of layer sequential_2 is incompatible with the layer: expected axis -1 of input shape to have value 2 but received input with shape (None, 1)\n",
     "output_type": "error",
     "traceback": [
      "\u001b[0;31m---------------------------------------------------------------------------\u001b[0m",
      "\u001b[0;31mValueError\u001b[0m                                Traceback (most recent call last)",
      "Cell \u001b[0;32mIn [25], line 19\u001b[0m\n\u001b[1;32m     12\u001b[0m y_reg_test \u001b[38;5;241m=\u001b[39m y_regression[\u001b[38;5;241m150\u001b[39m:]\n\u001b[1;32m     14\u001b[0m \u001b[38;5;66;03m# Fit our model to the data\u001b[39;00m\n\u001b[1;32m     15\u001b[0m \u001b[38;5;66;03m# Note: Before TensorFlow 2.7.0, this line would work\u001b[39;00m\n\u001b[1;32m     16\u001b[0m \u001b[38;5;66;03m# model_3.fit(X_reg_train, y_reg_train, epochs=100)\u001b[39;00m\n\u001b[1;32m     17\u001b[0m \n\u001b[1;32m     18\u001b[0m \u001b[38;5;66;03m# After TensorFlow 2.7.0, see here for more: https://github.com/mrdbourke/tensorflow-deep-learning/discussions/278\u001b[39;00m\n\u001b[0;32m---> 19\u001b[0m \u001b[43mmodel_3\u001b[49m\u001b[38;5;241;43m.\u001b[39;49m\u001b[43mfit\u001b[49m\u001b[43m(\u001b[49m\u001b[43mtf\u001b[49m\u001b[38;5;241;43m.\u001b[39;49m\u001b[43mexpand_dims\u001b[49m\u001b[43m(\u001b[49m\u001b[43mX_reg_train\u001b[49m\u001b[43m,\u001b[49m\u001b[43m \u001b[49m\u001b[43maxis\u001b[49m\u001b[38;5;241;43m=\u001b[39;49m\u001b[38;5;241;43m-\u001b[39;49m\u001b[38;5;241;43m1\u001b[39;49m\u001b[43m)\u001b[49m\u001b[43m,\u001b[49m\u001b[43m \u001b[49m\n\u001b[1;32m     20\u001b[0m \u001b[43m            \u001b[49m\u001b[43my_reg_train\u001b[49m\u001b[43m,\u001b[49m\n\u001b[1;32m     21\u001b[0m \u001b[43m            \u001b[49m\u001b[43mepochs\u001b[49m\u001b[38;5;241;43m=\u001b[39;49m\u001b[38;5;241;43m100\u001b[39;49m\u001b[43m)\u001b[49m\n",
      "File \u001b[0;32m/opt/homebrew/Caskroom/miniforge/base/envs/tensorflow/lib/python3.9/site-packages/tensorflow/python/keras/engine/training.py:1183\u001b[0m, in \u001b[0;36mModel.fit\u001b[0;34m(self, x, y, batch_size, epochs, verbose, callbacks, validation_split, validation_data, shuffle, class_weight, sample_weight, initial_epoch, steps_per_epoch, validation_steps, validation_batch_size, validation_freq, max_queue_size, workers, use_multiprocessing)\u001b[0m\n\u001b[1;32m   1176\u001b[0m \u001b[38;5;28;01mwith\u001b[39;00m trace\u001b[38;5;241m.\u001b[39mTrace(\n\u001b[1;32m   1177\u001b[0m     \u001b[38;5;124m'\u001b[39m\u001b[38;5;124mtrain\u001b[39m\u001b[38;5;124m'\u001b[39m,\n\u001b[1;32m   1178\u001b[0m     epoch_num\u001b[38;5;241m=\u001b[39mepoch,\n\u001b[1;32m   1179\u001b[0m     step_num\u001b[38;5;241m=\u001b[39mstep,\n\u001b[1;32m   1180\u001b[0m     batch_size\u001b[38;5;241m=\u001b[39mbatch_size,\n\u001b[1;32m   1181\u001b[0m     _r\u001b[38;5;241m=\u001b[39m\u001b[38;5;241m1\u001b[39m):\n\u001b[1;32m   1182\u001b[0m   callbacks\u001b[38;5;241m.\u001b[39mon_train_batch_begin(step)\n\u001b[0;32m-> 1183\u001b[0m   tmp_logs \u001b[38;5;241m=\u001b[39m \u001b[38;5;28;43mself\u001b[39;49m\u001b[38;5;241;43m.\u001b[39;49m\u001b[43mtrain_function\u001b[49m\u001b[43m(\u001b[49m\u001b[43miterator\u001b[49m\u001b[43m)\u001b[49m\n\u001b[1;32m   1184\u001b[0m   \u001b[38;5;28;01mif\u001b[39;00m data_handler\u001b[38;5;241m.\u001b[39mshould_sync:\n\u001b[1;32m   1185\u001b[0m     context\u001b[38;5;241m.\u001b[39masync_wait()\n",
      "File \u001b[0;32m/opt/homebrew/Caskroom/miniforge/base/envs/tensorflow/lib/python3.9/site-packages/tensorflow/python/eager/def_function.py:889\u001b[0m, in \u001b[0;36mFunction.__call__\u001b[0;34m(self, *args, **kwds)\u001b[0m\n\u001b[1;32m    886\u001b[0m compiler \u001b[38;5;241m=\u001b[39m \u001b[38;5;124m\"\u001b[39m\u001b[38;5;124mxla\u001b[39m\u001b[38;5;124m\"\u001b[39m \u001b[38;5;28;01mif\u001b[39;00m \u001b[38;5;28mself\u001b[39m\u001b[38;5;241m.\u001b[39m_jit_compile \u001b[38;5;28;01melse\u001b[39;00m \u001b[38;5;124m\"\u001b[39m\u001b[38;5;124mnonXla\u001b[39m\u001b[38;5;124m\"\u001b[39m\n\u001b[1;32m    888\u001b[0m \u001b[38;5;28;01mwith\u001b[39;00m OptionalXlaContext(\u001b[38;5;28mself\u001b[39m\u001b[38;5;241m.\u001b[39m_jit_compile):\n\u001b[0;32m--> 889\u001b[0m   result \u001b[38;5;241m=\u001b[39m \u001b[38;5;28;43mself\u001b[39;49m\u001b[38;5;241;43m.\u001b[39;49m\u001b[43m_call\u001b[49m\u001b[43m(\u001b[49m\u001b[38;5;241;43m*\u001b[39;49m\u001b[43margs\u001b[49m\u001b[43m,\u001b[49m\u001b[43m \u001b[49m\u001b[38;5;241;43m*\u001b[39;49m\u001b[38;5;241;43m*\u001b[39;49m\u001b[43mkwds\u001b[49m\u001b[43m)\u001b[49m\n\u001b[1;32m    891\u001b[0m new_tracing_count \u001b[38;5;241m=\u001b[39m \u001b[38;5;28mself\u001b[39m\u001b[38;5;241m.\u001b[39mexperimental_get_tracing_count()\n\u001b[1;32m    892\u001b[0m without_tracing \u001b[38;5;241m=\u001b[39m (tracing_count \u001b[38;5;241m==\u001b[39m new_tracing_count)\n",
      "File \u001b[0;32m/opt/homebrew/Caskroom/miniforge/base/envs/tensorflow/lib/python3.9/site-packages/tensorflow/python/eager/def_function.py:917\u001b[0m, in \u001b[0;36mFunction._call\u001b[0;34m(self, *args, **kwds)\u001b[0m\n\u001b[1;32m    914\u001b[0m   \u001b[38;5;28mself\u001b[39m\u001b[38;5;241m.\u001b[39m_lock\u001b[38;5;241m.\u001b[39mrelease()\n\u001b[1;32m    915\u001b[0m   \u001b[38;5;66;03m# In this case we have created variables on the first call, so we run the\u001b[39;00m\n\u001b[1;32m    916\u001b[0m   \u001b[38;5;66;03m# defunned version which is guaranteed to never create variables.\u001b[39;00m\n\u001b[0;32m--> 917\u001b[0m   \u001b[38;5;28;01mreturn\u001b[39;00m \u001b[38;5;28;43mself\u001b[39;49m\u001b[38;5;241;43m.\u001b[39;49m\u001b[43m_stateless_fn\u001b[49m\u001b[43m(\u001b[49m\u001b[38;5;241;43m*\u001b[39;49m\u001b[43margs\u001b[49m\u001b[43m,\u001b[49m\u001b[43m \u001b[49m\u001b[38;5;241;43m*\u001b[39;49m\u001b[38;5;241;43m*\u001b[39;49m\u001b[43mkwds\u001b[49m\u001b[43m)\u001b[49m  \u001b[38;5;66;03m# pylint: disable=not-callable\u001b[39;00m\n\u001b[1;32m    918\u001b[0m \u001b[38;5;28;01melif\u001b[39;00m \u001b[38;5;28mself\u001b[39m\u001b[38;5;241m.\u001b[39m_stateful_fn \u001b[38;5;129;01mis\u001b[39;00m \u001b[38;5;129;01mnot\u001b[39;00m \u001b[38;5;28;01mNone\u001b[39;00m:\n\u001b[1;32m    919\u001b[0m   \u001b[38;5;66;03m# Release the lock early so that multiple threads can perform the call\u001b[39;00m\n\u001b[1;32m    920\u001b[0m   \u001b[38;5;66;03m# in parallel.\u001b[39;00m\n\u001b[1;32m    921\u001b[0m   \u001b[38;5;28mself\u001b[39m\u001b[38;5;241m.\u001b[39m_lock\u001b[38;5;241m.\u001b[39mrelease()\n",
      "File \u001b[0;32m/opt/homebrew/Caskroom/miniforge/base/envs/tensorflow/lib/python3.9/site-packages/tensorflow/python/eager/function.py:3022\u001b[0m, in \u001b[0;36mFunction.__call__\u001b[0;34m(self, *args, **kwargs)\u001b[0m\n\u001b[1;32m   3019\u001b[0m \u001b[38;5;124;03m\"\"\"Calls a graph function specialized to the inputs.\"\"\"\u001b[39;00m\n\u001b[1;32m   3020\u001b[0m \u001b[38;5;28;01mwith\u001b[39;00m \u001b[38;5;28mself\u001b[39m\u001b[38;5;241m.\u001b[39m_lock:\n\u001b[1;32m   3021\u001b[0m   (graph_function,\n\u001b[0;32m-> 3022\u001b[0m    filtered_flat_args) \u001b[38;5;241m=\u001b[39m \u001b[38;5;28;43mself\u001b[39;49m\u001b[38;5;241;43m.\u001b[39;49m\u001b[43m_maybe_define_function\u001b[49m\u001b[43m(\u001b[49m\u001b[43margs\u001b[49m\u001b[43m,\u001b[49m\u001b[43m \u001b[49m\u001b[43mkwargs\u001b[49m\u001b[43m)\u001b[49m\n\u001b[1;32m   3023\u001b[0m \u001b[38;5;28;01mreturn\u001b[39;00m graph_function\u001b[38;5;241m.\u001b[39m_call_flat(\n\u001b[1;32m   3024\u001b[0m     filtered_flat_args, captured_inputs\u001b[38;5;241m=\u001b[39mgraph_function\u001b[38;5;241m.\u001b[39mcaptured_inputs)\n",
      "File \u001b[0;32m/opt/homebrew/Caskroom/miniforge/base/envs/tensorflow/lib/python3.9/site-packages/tensorflow/python/eager/function.py:3440\u001b[0m, in \u001b[0;36mFunction._maybe_define_function\u001b[0;34m(self, args, kwargs)\u001b[0m\n\u001b[1;32m   3430\u001b[0m \u001b[38;5;28;01mwith\u001b[39;00m ag_ctx\u001b[38;5;241m.\u001b[39mControlStatusCtx(\n\u001b[1;32m   3431\u001b[0m     status\u001b[38;5;241m=\u001b[39mag_status, options\u001b[38;5;241m=\u001b[39m\u001b[38;5;28mself\u001b[39m\u001b[38;5;241m.\u001b[39m_autograph_options):\n\u001b[1;32m   3432\u001b[0m \n\u001b[0;32m   (...)\u001b[0m\n\u001b[1;32m   3435\u001b[0m   \u001b[38;5;66;03m# and 2. there's no provided input signature\u001b[39;00m\n\u001b[1;32m   3436\u001b[0m   \u001b[38;5;66;03m# and 3. there's been a cache miss for this calling context\u001b[39;00m\n\u001b[1;32m   3437\u001b[0m   \u001b[38;5;28;01mif\u001b[39;00m (\u001b[38;5;28mself\u001b[39m\u001b[38;5;241m.\u001b[39m_experimental_relax_shapes \u001b[38;5;129;01mand\u001b[39;00m\n\u001b[1;32m   3438\u001b[0m       \u001b[38;5;28mself\u001b[39m\u001b[38;5;241m.\u001b[39minput_signature \u001b[38;5;129;01mis\u001b[39;00m \u001b[38;5;28;01mNone\u001b[39;00m \u001b[38;5;129;01mand\u001b[39;00m\n\u001b[1;32m   3439\u001b[0m       call_context_key \u001b[38;5;129;01min\u001b[39;00m \u001b[38;5;28mself\u001b[39m\u001b[38;5;241m.\u001b[39m_function_cache\u001b[38;5;241m.\u001b[39mmissed):\n\u001b[0;32m-> 3440\u001b[0m     \u001b[38;5;28;01mreturn\u001b[39;00m \u001b[38;5;28;43mself\u001b[39;49m\u001b[38;5;241;43m.\u001b[39;49m\u001b[43m_define_function_with_shape_relaxation\u001b[49m\u001b[43m(\u001b[49m\n\u001b[1;32m   3441\u001b[0m \u001b[43m        \u001b[49m\u001b[43margs\u001b[49m\u001b[43m,\u001b[49m\u001b[43m \u001b[49m\u001b[43mkwargs\u001b[49m\u001b[43m,\u001b[49m\u001b[43m \u001b[49m\u001b[43mflat_args\u001b[49m\u001b[43m,\u001b[49m\u001b[43m \u001b[49m\u001b[43mfiltered_flat_args\u001b[49m\u001b[43m,\u001b[49m\u001b[43m \u001b[49m\u001b[43mcache_key_context\u001b[49m\u001b[43m)\u001b[49m\n\u001b[1;32m   3443\u001b[0m   \u001b[38;5;28mself\u001b[39m\u001b[38;5;241m.\u001b[39m_function_cache\u001b[38;5;241m.\u001b[39mmissed\u001b[38;5;241m.\u001b[39madd(call_context_key)\n\u001b[1;32m   3444\u001b[0m   graph_function \u001b[38;5;241m=\u001b[39m \u001b[38;5;28mself\u001b[39m\u001b[38;5;241m.\u001b[39m_create_graph_function(args, kwargs)\n",
      "File \u001b[0;32m/opt/homebrew/Caskroom/miniforge/base/envs/tensorflow/lib/python3.9/site-packages/tensorflow/python/eager/function.py:3362\u001b[0m, in \u001b[0;36mFunction._define_function_with_shape_relaxation\u001b[0;34m(self, args, kwargs, flat_args, filtered_flat_args, cache_key_context)\u001b[0m\n\u001b[1;32m   3355\u001b[0m   (relaxed_arg_specs, relaxed_kwarg_specs) \u001b[38;5;241m=\u001b[39m nest\u001b[38;5;241m.\u001b[39mpack_sequence_as(\n\u001b[1;32m   3356\u001b[0m       (args, kwargs), relaxed_arg_specs, expand_composites\u001b[38;5;241m=\u001b[39m\u001b[38;5;28;01mFalse\u001b[39;00m)\n\u001b[1;32m   3357\u001b[0m   (args, kwargs) \u001b[38;5;241m=\u001b[39m nest\u001b[38;5;241m.\u001b[39mpack_sequence_as(\n\u001b[1;32m   3358\u001b[0m       (relaxed_arg_specs, relaxed_kwarg_specs),\n\u001b[1;32m   3359\u001b[0m       flat_args,\n\u001b[1;32m   3360\u001b[0m       expand_composites\u001b[38;5;241m=\u001b[39m\u001b[38;5;28;01mTrue\u001b[39;00m)\n\u001b[0;32m-> 3362\u001b[0m graph_function \u001b[38;5;241m=\u001b[39m \u001b[38;5;28;43mself\u001b[39;49m\u001b[38;5;241;43m.\u001b[39;49m\u001b[43m_create_graph_function\u001b[49m\u001b[43m(\u001b[49m\n\u001b[1;32m   3363\u001b[0m \u001b[43m    \u001b[49m\u001b[43margs\u001b[49m\u001b[43m,\u001b[49m\u001b[43m \u001b[49m\u001b[43mkwargs\u001b[49m\u001b[43m,\u001b[49m\u001b[43m \u001b[49m\u001b[43moverride_flat_arg_shapes\u001b[49m\u001b[38;5;241;43m=\u001b[39;49m\u001b[43mrelaxed_arg_shapes\u001b[49m\u001b[43m)\u001b[49m\n\u001b[1;32m   3364\u001b[0m \u001b[38;5;28mself\u001b[39m\u001b[38;5;241m.\u001b[39m_function_cache\u001b[38;5;241m.\u001b[39marg_relaxed[rank_only_cache_key] \u001b[38;5;241m=\u001b[39m graph_function\n\u001b[1;32m   3366\u001b[0m \u001b[38;5;28;01mreturn\u001b[39;00m (graph_function, [\n\u001b[1;32m   3367\u001b[0m     t \u001b[38;5;28;01mfor\u001b[39;00m t \u001b[38;5;129;01min\u001b[39;00m nest\u001b[38;5;241m.\u001b[39mflatten((args, kwargs), expand_composites\u001b[38;5;241m=\u001b[39m\u001b[38;5;28;01mTrue\u001b[39;00m)\n\u001b[1;32m   3368\u001b[0m     \u001b[38;5;28;01mif\u001b[39;00m \u001b[38;5;28misinstance\u001b[39m(t, (ops\u001b[38;5;241m.\u001b[39mTensor,\n\u001b[1;32m   3369\u001b[0m                       resource_variable_ops\u001b[38;5;241m.\u001b[39mBaseResourceVariable))\n\u001b[1;32m   3370\u001b[0m ])\n",
      "File \u001b[0;32m/opt/homebrew/Caskroom/miniforge/base/envs/tensorflow/lib/python3.9/site-packages/tensorflow/python/eager/function.py:3279\u001b[0m, in \u001b[0;36mFunction._create_graph_function\u001b[0;34m(self, args, kwargs, override_flat_arg_shapes)\u001b[0m\n\u001b[1;32m   3274\u001b[0m missing_arg_names \u001b[38;5;241m=\u001b[39m [\n\u001b[1;32m   3275\u001b[0m     \u001b[38;5;124m\"\u001b[39m\u001b[38;5;132;01m%s\u001b[39;00m\u001b[38;5;124m_\u001b[39m\u001b[38;5;132;01m%d\u001b[39;00m\u001b[38;5;124m\"\u001b[39m \u001b[38;5;241m%\u001b[39m (arg, i) \u001b[38;5;28;01mfor\u001b[39;00m i, arg \u001b[38;5;129;01min\u001b[39;00m \u001b[38;5;28menumerate\u001b[39m(missing_arg_names)\n\u001b[1;32m   3276\u001b[0m ]\n\u001b[1;32m   3277\u001b[0m arg_names \u001b[38;5;241m=\u001b[39m base_arg_names \u001b[38;5;241m+\u001b[39m missing_arg_names\n\u001b[1;32m   3278\u001b[0m graph_function \u001b[38;5;241m=\u001b[39m ConcreteFunction(\n\u001b[0;32m-> 3279\u001b[0m     \u001b[43mfunc_graph_module\u001b[49m\u001b[38;5;241;43m.\u001b[39;49m\u001b[43mfunc_graph_from_py_func\u001b[49m\u001b[43m(\u001b[49m\n\u001b[1;32m   3280\u001b[0m \u001b[43m        \u001b[49m\u001b[38;5;28;43mself\u001b[39;49m\u001b[38;5;241;43m.\u001b[39;49m\u001b[43m_name\u001b[49m\u001b[43m,\u001b[49m\n\u001b[1;32m   3281\u001b[0m \u001b[43m        \u001b[49m\u001b[38;5;28;43mself\u001b[39;49m\u001b[38;5;241;43m.\u001b[39;49m\u001b[43m_python_function\u001b[49m\u001b[43m,\u001b[49m\n\u001b[1;32m   3282\u001b[0m \u001b[43m        \u001b[49m\u001b[43margs\u001b[49m\u001b[43m,\u001b[49m\n\u001b[1;32m   3283\u001b[0m \u001b[43m        \u001b[49m\u001b[43mkwargs\u001b[49m\u001b[43m,\u001b[49m\n\u001b[1;32m   3284\u001b[0m \u001b[43m        \u001b[49m\u001b[38;5;28;43mself\u001b[39;49m\u001b[38;5;241;43m.\u001b[39;49m\u001b[43minput_signature\u001b[49m\u001b[43m,\u001b[49m\n\u001b[1;32m   3285\u001b[0m \u001b[43m        \u001b[49m\u001b[43mautograph\u001b[49m\u001b[38;5;241;43m=\u001b[39;49m\u001b[38;5;28;43mself\u001b[39;49m\u001b[38;5;241;43m.\u001b[39;49m\u001b[43m_autograph\u001b[49m\u001b[43m,\u001b[49m\n\u001b[1;32m   3286\u001b[0m \u001b[43m        \u001b[49m\u001b[43mautograph_options\u001b[49m\u001b[38;5;241;43m=\u001b[39;49m\u001b[38;5;28;43mself\u001b[39;49m\u001b[38;5;241;43m.\u001b[39;49m\u001b[43m_autograph_options\u001b[49m\u001b[43m,\u001b[49m\n\u001b[1;32m   3287\u001b[0m \u001b[43m        \u001b[49m\u001b[43marg_names\u001b[49m\u001b[38;5;241;43m=\u001b[39;49m\u001b[43marg_names\u001b[49m\u001b[43m,\u001b[49m\n\u001b[1;32m   3288\u001b[0m \u001b[43m        \u001b[49m\u001b[43moverride_flat_arg_shapes\u001b[49m\u001b[38;5;241;43m=\u001b[39;49m\u001b[43moverride_flat_arg_shapes\u001b[49m\u001b[43m,\u001b[49m\n\u001b[1;32m   3289\u001b[0m \u001b[43m        \u001b[49m\u001b[43mcapture_by_value\u001b[49m\u001b[38;5;241;43m=\u001b[39;49m\u001b[38;5;28;43mself\u001b[39;49m\u001b[38;5;241;43m.\u001b[39;49m\u001b[43m_capture_by_value\u001b[49m\u001b[43m)\u001b[49m,\n\u001b[1;32m   3290\u001b[0m     \u001b[38;5;28mself\u001b[39m\u001b[38;5;241m.\u001b[39m_function_attributes,\n\u001b[1;32m   3291\u001b[0m     function_spec\u001b[38;5;241m=\u001b[39m\u001b[38;5;28mself\u001b[39m\u001b[38;5;241m.\u001b[39mfunction_spec,\n\u001b[1;32m   3292\u001b[0m     \u001b[38;5;66;03m# Tell the ConcreteFunction to clean up its graph once it goes out of\u001b[39;00m\n\u001b[1;32m   3293\u001b[0m     \u001b[38;5;66;03m# scope. This is not the default behavior since it gets used in some\u001b[39;00m\n\u001b[1;32m   3294\u001b[0m     \u001b[38;5;66;03m# places (like Keras) where the FuncGraph lives longer than the\u001b[39;00m\n\u001b[1;32m   3295\u001b[0m     \u001b[38;5;66;03m# ConcreteFunction.\u001b[39;00m\n\u001b[1;32m   3296\u001b[0m     shared_func_graph\u001b[38;5;241m=\u001b[39m\u001b[38;5;28;01mFalse\u001b[39;00m)\n\u001b[1;32m   3297\u001b[0m \u001b[38;5;28;01mreturn\u001b[39;00m graph_function\n",
      "File \u001b[0;32m/opt/homebrew/Caskroom/miniforge/base/envs/tensorflow/lib/python3.9/site-packages/tensorflow/python/framework/func_graph.py:999\u001b[0m, in \u001b[0;36mfunc_graph_from_py_func\u001b[0;34m(name, python_func, args, kwargs, signature, func_graph, autograph, autograph_options, add_control_dependencies, arg_names, op_return_value, collections, capture_by_value, override_flat_arg_shapes)\u001b[0m\n\u001b[1;32m    996\u001b[0m \u001b[38;5;28;01melse\u001b[39;00m:\n\u001b[1;32m    997\u001b[0m   _, original_func \u001b[38;5;241m=\u001b[39m tf_decorator\u001b[38;5;241m.\u001b[39munwrap(python_func)\n\u001b[0;32m--> 999\u001b[0m func_outputs \u001b[38;5;241m=\u001b[39m \u001b[43mpython_func\u001b[49m\u001b[43m(\u001b[49m\u001b[38;5;241;43m*\u001b[39;49m\u001b[43mfunc_args\u001b[49m\u001b[43m,\u001b[49m\u001b[43m \u001b[49m\u001b[38;5;241;43m*\u001b[39;49m\u001b[38;5;241;43m*\u001b[39;49m\u001b[43mfunc_kwargs\u001b[49m\u001b[43m)\u001b[49m\n\u001b[1;32m   1001\u001b[0m \u001b[38;5;66;03m# invariant: `func_outputs` contains only Tensors, CompositeTensors,\u001b[39;00m\n\u001b[1;32m   1002\u001b[0m \u001b[38;5;66;03m# TensorArrays and `None`s.\u001b[39;00m\n\u001b[1;32m   1003\u001b[0m func_outputs \u001b[38;5;241m=\u001b[39m nest\u001b[38;5;241m.\u001b[39mmap_structure(convert, func_outputs,\n\u001b[1;32m   1004\u001b[0m                                   expand_composites\u001b[38;5;241m=\u001b[39m\u001b[38;5;28;01mTrue\u001b[39;00m)\n",
      "File \u001b[0;32m/opt/homebrew/Caskroom/miniforge/base/envs/tensorflow/lib/python3.9/site-packages/tensorflow/python/eager/def_function.py:672\u001b[0m, in \u001b[0;36mFunction._defun_with_scope.<locals>.wrapped_fn\u001b[0;34m(*args, **kwds)\u001b[0m\n\u001b[1;32m    668\u001b[0m \u001b[38;5;28;01mwith\u001b[39;00m default_graph\u001b[38;5;241m.\u001b[39m_variable_creator_scope(scope, priority\u001b[38;5;241m=\u001b[39m\u001b[38;5;241m50\u001b[39m):  \u001b[38;5;66;03m# pylint: disable=protected-access\u001b[39;00m\n\u001b[1;32m    669\u001b[0m   \u001b[38;5;66;03m# __wrapped__ allows AutoGraph to swap in a converted function. We give\u001b[39;00m\n\u001b[1;32m    670\u001b[0m   \u001b[38;5;66;03m# the function a weak reference to itself to avoid a reference cycle.\u001b[39;00m\n\u001b[1;32m    671\u001b[0m   \u001b[38;5;28;01mwith\u001b[39;00m OptionalXlaContext(compile_with_xla):\n\u001b[0;32m--> 672\u001b[0m     out \u001b[38;5;241m=\u001b[39m \u001b[43mweak_wrapped_fn\u001b[49m\u001b[43m(\u001b[49m\u001b[43m)\u001b[49m\u001b[38;5;241;43m.\u001b[39;49m\u001b[43m__wrapped__\u001b[49m\u001b[43m(\u001b[49m\u001b[38;5;241;43m*\u001b[39;49m\u001b[43margs\u001b[49m\u001b[43m,\u001b[49m\u001b[43m \u001b[49m\u001b[38;5;241;43m*\u001b[39;49m\u001b[38;5;241;43m*\u001b[39;49m\u001b[43mkwds\u001b[49m\u001b[43m)\u001b[49m\n\u001b[1;32m    673\u001b[0m   \u001b[38;5;28;01mreturn\u001b[39;00m out\n",
      "File \u001b[0;32m/opt/homebrew/Caskroom/miniforge/base/envs/tensorflow/lib/python3.9/site-packages/tensorflow/python/framework/func_graph.py:986\u001b[0m, in \u001b[0;36mfunc_graph_from_py_func.<locals>.wrapper\u001b[0;34m(*args, **kwargs)\u001b[0m\n\u001b[1;32m    984\u001b[0m \u001b[38;5;28;01mexcept\u001b[39;00m \u001b[38;5;167;01mException\u001b[39;00m \u001b[38;5;28;01mas\u001b[39;00m e:  \u001b[38;5;66;03m# pylint:disable=broad-except\u001b[39;00m\n\u001b[1;32m    985\u001b[0m   \u001b[38;5;28;01mif\u001b[39;00m \u001b[38;5;28mhasattr\u001b[39m(e, \u001b[38;5;124m\"\u001b[39m\u001b[38;5;124mag_error_metadata\u001b[39m\u001b[38;5;124m\"\u001b[39m):\n\u001b[0;32m--> 986\u001b[0m     \u001b[38;5;28;01mraise\u001b[39;00m e\u001b[38;5;241m.\u001b[39mag_error_metadata\u001b[38;5;241m.\u001b[39mto_exception(e)\n\u001b[1;32m    987\u001b[0m   \u001b[38;5;28;01melse\u001b[39;00m:\n\u001b[1;32m    988\u001b[0m     \u001b[38;5;28;01mraise\u001b[39;00m\n",
      "\u001b[0;31mValueError\u001b[0m: in user code:\n\n    /opt/homebrew/Caskroom/miniforge/base/envs/tensorflow/lib/python3.9/site-packages/tensorflow/python/keras/engine/training.py:855 train_function  *\n        return step_function(self, iterator)\n    /opt/homebrew/Caskroom/miniforge/base/envs/tensorflow/lib/python3.9/site-packages/tensorflow/python/keras/engine/training.py:845 step_function  **\n        outputs = model.distribute_strategy.run(run_step, args=(data,))\n    /opt/homebrew/Caskroom/miniforge/base/envs/tensorflow/lib/python3.9/site-packages/tensorflow/python/distribute/distribute_lib.py:1285 run\n        return self._extended.call_for_each_replica(fn, args=args, kwargs=kwargs)\n    /opt/homebrew/Caskroom/miniforge/base/envs/tensorflow/lib/python3.9/site-packages/tensorflow/python/distribute/distribute_lib.py:2833 call_for_each_replica\n        return self._call_for_each_replica(fn, args, kwargs)\n    /opt/homebrew/Caskroom/miniforge/base/envs/tensorflow/lib/python3.9/site-packages/tensorflow/python/distribute/distribute_lib.py:3608 _call_for_each_replica\n        return fn(*args, **kwargs)\n    /opt/homebrew/Caskroom/miniforge/base/envs/tensorflow/lib/python3.9/site-packages/tensorflow/python/keras/engine/training.py:838 run_step  **\n        outputs = model.train_step(data)\n    /opt/homebrew/Caskroom/miniforge/base/envs/tensorflow/lib/python3.9/site-packages/tensorflow/python/keras/engine/training.py:795 train_step\n        y_pred = self(x, training=True)\n    /opt/homebrew/Caskroom/miniforge/base/envs/tensorflow/lib/python3.9/site-packages/tensorflow/python/keras/engine/base_layer.py:1013 __call__\n        input_spec.assert_input_compatibility(self.input_spec, inputs, self.name)\n    /opt/homebrew/Caskroom/miniforge/base/envs/tensorflow/lib/python3.9/site-packages/tensorflow/python/keras/engine/input_spec.py:251 assert_input_compatibility\n        raise ValueError(\n\n    ValueError: Input 0 of layer sequential_2 is incompatible with the layer: expected axis -1 of input shape to have value 2 but received input with shape (None, 1)\n"
     ]
    }
   ],
   "source": [
    "# Set random seed\n",
    "tf.random.set_seed(42)\n",
    "\n",
    "# Create some regression data\n",
    "X_regression = np.arange(0, 1000, 5)\n",
    "y_regression = np.arange(100, 1100, 5)\n",
    "\n",
    "# Split it into training and test sets\n",
    "X_reg_train = X_regression[:150]\n",
    "X_reg_test = X_regression[150:]\n",
    "y_reg_train = y_regression[:150]\n",
    "y_reg_test = y_regression[150:]\n",
    "\n",
    "# Fit our model to the data\n",
    "# Note: Before TensorFlow 2.7.0, this line would work\n",
    "# model_3.fit(X_reg_train, y_reg_train, epochs=100)\n",
    "\n",
    "# After TensorFlow 2.7.0, see here for more: https://github.com/mrdbourke/tensorflow-deep-learning/discussions/278\n",
    "model_3.fit(tf.expand_dims(X_reg_train, axis=-1), \n",
    "            y_reg_train,\n",
    "            epochs=100)"
   ]
  },
  {
   "cell_type": "code",
   "execution_count": 26,
   "id": "fdfbdd74",
   "metadata": {},
   "outputs": [
    {
     "name": "stdout",
     "output_type": "stream",
     "text": [
      "Model: \"sequential_2\"\n",
      "_________________________________________________________________\n",
      "Layer (type)                 Output Shape              Param #   \n",
      "=================================================================\n",
      "dense_3 (Dense)              (None, 100)               300       \n",
      "_________________________________________________________________\n",
      "dense_4 (Dense)              (None, 10)                1010      \n",
      "_________________________________________________________________\n",
      "dense_5 (Dense)              (None, 1)                 11        \n",
      "=================================================================\n",
      "Total params: 1,321\n",
      "Trainable params: 1,321\n",
      "Non-trainable params: 0\n",
      "_________________________________________________________________\n"
     ]
    }
   ],
   "source": [
    "model_3.summary()"
   ]
  },
  {
   "cell_type": "code",
   "execution_count": 27,
   "id": "c8156cd6",
   "metadata": {},
   "outputs": [
    {
     "name": "stdout",
     "output_type": "stream",
     "text": [
      "Epoch 1/100\n"
     ]
    },
    {
     "name": "stderr",
     "output_type": "stream",
     "text": [
      "2022-12-08 15:39:55.961628: I tensorflow/core/grappler/optimizers/custom_graph_optimizer_registry.cc:112] Plugin optimizer for device_type GPU is enabled.\n"
     ]
    },
    {
     "name": "stdout",
     "output_type": "stream",
     "text": [
      "5/5 [==============================] - 1s 50ms/step - loss: 381.7863 - mae: 381.7863\n",
      "Epoch 2/100\n",
      "5/5 [==============================] - 0s 5ms/step - loss: 251.0487 - mae: 251.0487\n",
      "Epoch 3/100\n",
      "5/5 [==============================] - 0s 5ms/step - loss: 123.1813 - mae: 123.1813\n",
      "Epoch 4/100\n",
      "5/5 [==============================] - 0s 5ms/step - loss: 52.6976 - mae: 52.6976\n",
      "Epoch 5/100\n",
      "5/5 [==============================] - 0s 5ms/step - loss: 84.7232 - mae: 84.7232\n",
      "Epoch 6/100\n",
      "5/5 [==============================] - 0s 5ms/step - loss: 65.6600 - mae: 65.6600\n",
      "Epoch 7/100\n",
      "5/5 [==============================] - 0s 5ms/step - loss: 44.0792 - mae: 44.0792\n",
      "Epoch 8/100\n",
      "5/5 [==============================] - 0s 5ms/step - loss: 51.1722 - mae: 51.1722\n",
      "Epoch 9/100\n",
      "5/5 [==============================] - 0s 5ms/step - loss: 42.3288 - mae: 42.3288\n",
      "Epoch 10/100\n",
      "5/5 [==============================] - 0s 5ms/step - loss: 44.6028 - mae: 44.6028\n",
      "Epoch 11/100\n",
      "5/5 [==============================] - 0s 5ms/step - loss: 42.3828 - mae: 42.3828\n",
      "Epoch 12/100\n",
      "5/5 [==============================] - 0s 6ms/step - loss: 41.7781 - mae: 41.7781\n",
      "Epoch 13/100\n",
      "5/5 [==============================] - 0s 5ms/step - loss: 41.7865 - mae: 41.7865\n",
      "Epoch 14/100\n",
      "5/5 [==============================] - 0s 5ms/step - loss: 41.8801 - mae: 41.8801\n",
      "Epoch 15/100\n",
      "5/5 [==============================] - 0s 5ms/step - loss: 41.4573 - mae: 41.4573\n",
      "Epoch 16/100\n",
      "5/5 [==============================] - 0s 7ms/step - loss: 41.2891 - mae: 41.2891\n",
      "Epoch 17/100\n",
      "5/5 [==============================] - 0s 6ms/step - loss: 41.4445 - mae: 41.4445\n",
      "Epoch 18/100\n",
      "5/5 [==============================] - 0s 5ms/step - loss: 41.4112 - mae: 41.4112\n",
      "Epoch 19/100\n",
      "5/5 [==============================] - 0s 5ms/step - loss: 41.1026 - mae: 41.1026\n",
      "Epoch 20/100\n",
      "5/5 [==============================] - 0s 6ms/step - loss: 41.1459 - mae: 41.1459\n",
      "Epoch 21/100\n",
      "5/5 [==============================] - 0s 6ms/step - loss: 40.9449 - mae: 40.9449\n",
      "Epoch 22/100\n",
      "5/5 [==============================] - 0s 5ms/step - loss: 41.5429 - mae: 41.5429\n",
      "Epoch 23/100\n",
      "5/5 [==============================] - 0s 5ms/step - loss: 41.0079 - mae: 41.0079\n",
      "Epoch 24/100\n",
      "5/5 [==============================] - 0s 6ms/step - loss: 41.0831 - mae: 41.0831\n",
      "Epoch 25/100\n",
      "5/5 [==============================] - 0s 5ms/step - loss: 40.9416 - mae: 40.9416\n",
      "Epoch 26/100\n",
      "5/5 [==============================] - 0s 5ms/step - loss: 40.7518 - mae: 40.7518\n",
      "Epoch 27/100\n",
      "5/5 [==============================] - 0s 5ms/step - loss: 40.9415 - mae: 40.9415\n",
      "Epoch 28/100\n",
      "5/5 [==============================] - 0s 7ms/step - loss: 40.9085 - mae: 40.9085\n",
      "Epoch 29/100\n",
      "5/5 [==============================] - 0s 6ms/step - loss: 40.9040 - mae: 40.9040\n",
      "Epoch 30/100\n",
      "5/5 [==============================] - 0s 6ms/step - loss: 40.6786 - mae: 40.6786\n",
      "Epoch 31/100\n",
      "5/5 [==============================] - 0s 7ms/step - loss: 41.2101 - mae: 41.2101\n",
      "Epoch 32/100\n",
      "5/5 [==============================] - 0s 6ms/step - loss: 40.9001 - mae: 40.9001\n",
      "Epoch 33/100\n",
      "5/5 [==============================] - 0s 7ms/step - loss: 40.9503 - mae: 40.9503\n",
      "Epoch 34/100\n",
      "5/5 [==============================] - 0s 5ms/step - loss: 41.0467 - mae: 41.0467\n",
      "Epoch 35/100\n",
      "5/5 [==============================] - 0s 6ms/step - loss: 40.6745 - mae: 40.6745\n",
      "Epoch 36/100\n",
      "5/5 [==============================] - 0s 6ms/step - loss: 41.1461 - mae: 41.1461\n",
      "Epoch 37/100\n",
      "5/5 [==============================] - 0s 6ms/step - loss: 40.4560 - mae: 40.4560\n",
      "Epoch 38/100\n",
      "5/5 [==============================] - 0s 6ms/step - loss: 40.3465 - mae: 40.3465\n",
      "Epoch 39/100\n",
      "5/5 [==============================] - 0s 6ms/step - loss: 40.3924 - mae: 40.3924\n",
      "Epoch 40/100\n",
      "5/5 [==============================] - 0s 5ms/step - loss: 40.2657 - mae: 40.2657\n",
      "Epoch 41/100\n",
      "5/5 [==============================] - 0s 6ms/step - loss: 40.2226 - mae: 40.2226\n",
      "Epoch 42/100\n",
      "5/5 [==============================] - 0s 8ms/step - loss: 40.1787 - mae: 40.1787\n",
      "Epoch 43/100\n",
      "5/5 [==============================] - 0s 7ms/step - loss: 40.2146 - mae: 40.2146\n",
      "Epoch 44/100\n",
      "5/5 [==============================] - 0s 6ms/step - loss: 40.0506 - mae: 40.0506\n",
      "Epoch 45/100\n",
      "5/5 [==============================] - 0s 7ms/step - loss: 40.0503 - mae: 40.0503\n",
      "Epoch 46/100\n",
      "5/5 [==============================] - 0s 6ms/step - loss: 40.0956 - mae: 40.0956\n",
      "Epoch 47/100\n",
      "5/5 [==============================] - 0s 6ms/step - loss: 39.9900 - mae: 39.9900\n",
      "Epoch 48/100\n",
      "5/5 [==============================] - 0s 6ms/step - loss: 39.9256 - mae: 39.9256\n",
      "Epoch 49/100\n",
      "5/5 [==============================] - 0s 6ms/step - loss: 40.5671 - mae: 40.5671\n",
      "Epoch 50/100\n",
      "5/5 [==============================] - 0s 7ms/step - loss: 39.9124 - mae: 39.9124\n",
      "Epoch 51/100\n",
      "5/5 [==============================] - 0s 5ms/step - loss: 40.2685 - mae: 40.2685\n",
      "Epoch 52/100\n",
      "5/5 [==============================] - 0s 5ms/step - loss: 40.4302 - mae: 40.4302\n",
      "Epoch 53/100\n",
      "5/5 [==============================] - 0s 5ms/step - loss: 40.9366 - mae: 40.9366\n",
      "Epoch 54/100\n",
      "5/5 [==============================] - 0s 5ms/step - loss: 40.5461 - mae: 40.5461\n",
      "Epoch 55/100\n",
      "5/5 [==============================] - 0s 5ms/step - loss: 39.9985 - mae: 39.9985\n",
      "Epoch 56/100\n",
      "5/5 [==============================] - 0s 5ms/step - loss: 40.8989 - mae: 40.8989\n",
      "Epoch 57/100\n",
      "5/5 [==============================] - 0s 5ms/step - loss: 40.7784 - mae: 40.7784\n",
      "Epoch 58/100\n",
      "5/5 [==============================] - 0s 5ms/step - loss: 39.3346 - mae: 39.3346\n",
      "Epoch 59/100\n",
      "5/5 [==============================] - 0s 5ms/step - loss: 39.7129 - mae: 39.7129\n",
      "Epoch 60/100\n",
      "5/5 [==============================] - 0s 4ms/step - loss: 39.5186 - mae: 39.5186\n",
      "Epoch 61/100\n",
      "5/5 [==============================] - 0s 5ms/step - loss: 39.3345 - mae: 39.3345\n",
      "Epoch 62/100\n",
      "5/5 [==============================] - 0s 5ms/step - loss: 39.5925 - mae: 39.5925\n",
      "Epoch 63/100\n",
      "5/5 [==============================] - 0s 5ms/step - loss: 39.2297 - mae: 39.2297\n",
      "Epoch 64/100\n",
      "5/5 [==============================] - 0s 5ms/step - loss: 39.1798 - mae: 39.1798\n",
      "Epoch 65/100\n",
      "5/5 [==============================] - 0s 5ms/step - loss: 39.2721 - mae: 39.2721\n",
      "Epoch 66/100\n",
      "5/5 [==============================] - 0s 5ms/step - loss: 39.6903 - mae: 39.6903\n",
      "Epoch 67/100\n",
      "5/5 [==============================] - 0s 5ms/step - loss: 39.1319 - mae: 39.1319\n",
      "Epoch 68/100\n",
      "5/5 [==============================] - 0s 5ms/step - loss: 39.1072 - mae: 39.1072\n",
      "Epoch 69/100\n",
      "5/5 [==============================] - 0s 5ms/step - loss: 38.9927 - mae: 38.9927\n",
      "Epoch 70/100\n",
      "5/5 [==============================] - 0s 5ms/step - loss: 39.3064 - mae: 39.3064\n",
      "Epoch 71/100\n",
      "5/5 [==============================] - 0s 5ms/step - loss: 40.3864 - mae: 40.3864\n",
      "Epoch 72/100\n",
      "5/5 [==============================] - 0s 5ms/step - loss: 38.7915 - mae: 38.7915\n",
      "Epoch 73/100\n",
      "5/5 [==============================] - 0s 5ms/step - loss: 39.5153 - mae: 39.5153\n",
      "Epoch 74/100\n",
      "5/5 [==============================] - 0s 5ms/step - loss: 38.7229 - mae: 38.7229\n",
      "Epoch 75/100\n",
      "5/5 [==============================] - 0s 5ms/step - loss: 39.2817 - mae: 39.2817\n",
      "Epoch 76/100\n",
      "5/5 [==============================] - 0s 5ms/step - loss: 38.8743 - mae: 38.8743\n",
      "Epoch 77/100\n",
      "5/5 [==============================] - 0s 5ms/step - loss: 38.5602 - mae: 38.5602\n",
      "Epoch 78/100\n",
      "5/5 [==============================] - 0s 5ms/step - loss: 38.9958 - mae: 38.9958\n",
      "Epoch 79/100\n",
      "5/5 [==============================] - 0s 5ms/step - loss: 38.6049 - mae: 38.6049\n",
      "Epoch 80/100\n",
      "5/5 [==============================] - 0s 5ms/step - loss: 38.2823 - mae: 38.2823\n",
      "Epoch 81/100\n",
      "5/5 [==============================] - 0s 5ms/step - loss: 38.6441 - mae: 38.6441\n",
      "Epoch 82/100\n",
      "5/5 [==============================] - 0s 5ms/step - loss: 38.8643 - mae: 38.8643\n",
      "Epoch 83/100\n",
      "5/5 [==============================] - 0s 5ms/step - loss: 38.5039 - mae: 38.5039\n",
      "Epoch 84/100\n",
      "5/5 [==============================] - 0s 5ms/step - loss: 38.5785 - mae: 38.5785\n",
      "Epoch 85/100\n",
      "5/5 [==============================] - 0s 5ms/step - loss: 38.3644 - mae: 38.3644\n",
      "Epoch 86/100\n",
      "5/5 [==============================] - 0s 5ms/step - loss: 38.5490 - mae: 38.5490\n",
      "Epoch 87/100\n"
     ]
    },
    {
     "name": "stdout",
     "output_type": "stream",
     "text": [
      "5/5 [==============================] - 0s 5ms/step - loss: 37.8672 - mae: 37.8672\n",
      "Epoch 88/100\n",
      "5/5 [==============================] - 0s 5ms/step - loss: 38.4229 - mae: 38.4229\n",
      "Epoch 89/100\n",
      "5/5 [==============================] - 0s 5ms/step - loss: 37.9808 - mae: 37.9808\n",
      "Epoch 90/100\n",
      "5/5 [==============================] - 0s 5ms/step - loss: 37.7132 - mae: 37.7132\n",
      "Epoch 91/100\n",
      "5/5 [==============================] - 0s 5ms/step - loss: 37.6008 - mae: 37.6008\n",
      "Epoch 92/100\n",
      "5/5 [==============================] - 0s 5ms/step - loss: 37.7689 - mae: 37.7689\n",
      "Epoch 93/100\n",
      "5/5 [==============================] - 0s 5ms/step - loss: 38.1388 - mae: 38.1388\n",
      "Epoch 94/100\n",
      "5/5 [==============================] - 0s 5ms/step - loss: 37.4237 - mae: 37.4237\n",
      "Epoch 95/100\n",
      "5/5 [==============================] - 0s 5ms/step - loss: 37.3958 - mae: 37.3958\n",
      "Epoch 96/100\n",
      "5/5 [==============================] - 0s 5ms/step - loss: 37.8458 - mae: 37.8458\n",
      "Epoch 97/100\n",
      "5/5 [==============================] - 0s 5ms/step - loss: 37.3561 - mae: 37.3561\n",
      "Epoch 98/100\n",
      "5/5 [==============================] - 0s 5ms/step - loss: 37.7988 - mae: 37.7988\n",
      "Epoch 99/100\n",
      "5/5 [==============================] - 0s 5ms/step - loss: 37.6668 - mae: 37.6668\n",
      "Epoch 100/100\n",
      "5/5 [==============================] - 0s 5ms/step - loss: 37.0937 - mae: 37.0937\n"
     ]
    },
    {
     "data": {
      "text/plain": [
       "<tensorflow.python.keras.callbacks.History at 0x28c459fa0>"
      ]
     },
     "execution_count": 27,
     "metadata": {},
     "output_type": "execute_result"
    }
   ],
   "source": [
    "# Setup random seed\n",
    "tf.random.set_seed(42)\n",
    "\n",
    "# Recreate the model\n",
    "model_3 = tf.keras.Sequential([\n",
    "  tf.keras.layers.Dense(100),\n",
    "  tf.keras.layers.Dense(10),\n",
    "  tf.keras.layers.Dense(1)\n",
    "])\n",
    "\n",
    "# Change the loss and metrics of our compiled model\n",
    "model_3.compile(loss=tf.keras.losses.mae, # change the loss function to be regression-specific\n",
    "                optimizer=tf.keras.optimizers.Adam(),\n",
    "                metrics=['mae']) # change the metric to be regression-specific\n",
    "\n",
    "# Fit the recompiled model\n",
    "model_3.fit(tf.expand_dims(X_reg_train, axis=-1), \n",
    "            y_reg_train, \n",
    "            epochs=100)"
   ]
  },
  {
   "cell_type": "code",
   "execution_count": 28,
   "id": "386ac9f1",
   "metadata": {},
   "outputs": [
    {
     "name": "stderr",
     "output_type": "stream",
     "text": [
      "2022-12-08 15:41:38.606308: I tensorflow/core/grappler/optimizers/custom_graph_optimizer_registry.cc:112] Plugin optimizer for device_type GPU is enabled.\n"
     ]
    },
    {
     "data": {
      "image/png": "[encoded data removed]",
      "text/plain": [
       "<Figure size 1000x700 with 1 Axes>"
      ]
     },
     "metadata": {},
     "output_type": "display_data"
    }
   ],
   "source": [
    "# Make predictions with our trained model\n",
    "y_reg_preds = model_3.predict(y_reg_test)\n",
    "\n",
    "# Plot the model's predictions against our regression data\n",
    "plt.figure(figsize=(10, 7))\n",
    "plt.scatter(X_reg_train, y_reg_train, c='b', label='Training data')\n",
    "plt.scatter(X_reg_test, y_reg_test, c='g', label='Testing data')\n",
    "plt.scatter(X_reg_test, y_reg_preds.squeeze(), c='r', label='Predictions')\n",
    "plt.legend();"
   ]
  },
  {
   "cell_type": "code",
   "execution_count": null,
   "id": "6aa314a7",
   "metadata": {},
   "outputs": [],
   "source": []
  }
 ],
 "metadata": {
  "kernelspec": {
   "display_name": "Python 3.9 (tensorflow)",
   "language": "python",
   "name": "tensorflow"
  },
  "language_info": {
   "codemirror_mode": {
    "name": "ipython",
    "version": 3
   },
   "file_extension": ".py",
   "mimetype": "text/x-python",
   "name": "python",
   "nbconvert_exporter": "python",
   "pygments_lexer": "ipython3",
   "version": "3.9.15"
  }
 },
 "nbformat": 4,
 "nbformat_minor": 5
}
