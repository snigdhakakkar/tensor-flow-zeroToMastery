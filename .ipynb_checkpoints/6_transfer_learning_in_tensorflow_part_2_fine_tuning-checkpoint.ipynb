{
 "cells": [
  {
   "cell_type": "markdown",
   "id": "9313f02c",
   "metadata": {},
   "source": [
    "## Transfer Learning with TensorFlow Part 2: Fine-tuning"
   ]
  },
  {
   "cell_type": "markdown",
   "id": "d4c19ff4",
   "metadata": {},
   "source": [
    "In the previous section, we saw how we could leverage feature extraction transfer learning to get far better results on our Food Vision project than building our own models (even with less data).\n",
    "\n",
    "Now we're going to cover another type of transfer learning: fine-tuning.\n",
    "\n",
    "In **fine-tuning transfer learning** the pre-trained model weights from another model are unfrozen and tweaked during to better suit your own data.\n",
    "\n",
    "For feature extraction transfer learning, you may only train the top 1-3 layers of a pre-trained model with your own data, in fine-tuning transfer learning, you might train 1-3+ layers of a pre-trained model (where the '+' indicates that many or all of the layers could be trained)."
   ]
  },
  {
   "cell_type": "markdown",
   "id": "2a9d3f94",
   "metadata": {},
   "source": [
    "![FineTuning](Images/FineTuning.png)"
   ]
  },
  {
   "cell_type": "code",
   "execution_count": null,
   "id": "8f412115",
   "metadata": {},
   "outputs": [],
   "source": []
  }
 ],
 "metadata": {
  "kernelspec": {
   "display_name": "Python 3.9 (tensorflow)",
   "language": "python",
   "name": "tensorflow"
  },
  "language_info": {
   "codemirror_mode": {
    "name": "ipython",
    "version": 3
   },
   "file_extension": ".py",
   "mimetype": "text/x-python",
   "name": "python",
   "nbconvert_exporter": "python",
   "pygments_lexer": "ipython3",
   "version": "3.9.15"
  }
 },
 "nbformat": 4,
 "nbformat_minor": 5
}
