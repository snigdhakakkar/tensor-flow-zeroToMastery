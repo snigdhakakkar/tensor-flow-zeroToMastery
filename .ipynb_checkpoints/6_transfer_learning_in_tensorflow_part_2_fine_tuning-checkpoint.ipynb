{
 "cells": [
  {
   "cell_type": "markdown",
   "id": "38e298c8",
   "metadata": {},
   "source": [
    "## Transfer Learning with TensorFlow Part 2: Fine-tuning"
   ]
  },
  {
   "cell_type": "markdown",
   "id": "c1446b13",
   "metadata": {},
   "source": [
    "In the previous section, we saw how we could leverage feature extraction transfer learning to get far better results on our Food Vision project than building our own models (even with less data).\n",
    "\n",
    "Now we're going to cover another type of transfer learning: fine-tuning.\n",
    "\n",
    "In **fine-tuning transfer learning** the pre-trained model weights from another model are unfrozen and tweaked during to better suit your own data.\n",
    "\n",
    "For feature extraction transfer learning, you may only train the top 1-3 layers of a pre-trained model with your own data, in fine-tuning transfer learning, you might train 1-3+ layers of a pre-trained model (where the '+' indicates that many or all of the layers could be trained)."
   ]
  },
  {
   "cell_type": "markdown",
   "id": "e161675e",
   "metadata": {},
   "source": [
    "![FineTuning](Images/FineTuning.png)"
   ]
  },
  {
   "cell_type": "markdown",
   "id": "d57d6a49",
   "metadata": {},
   "source": [
    "## What we're going to cover\n",
    "\n",
    "We're going to go through the follow with TensorFlow:\n",
    "\n",
    "* Introduce fine-tuning, a type of transfer learning to modify a pre-trained model to be more suited to your data\n",
    "* Using the Keras Functional API (a differnt way to build models in Keras)\n",
    "* Using a smaller dataset to experiment faster (e.g. 1-10% of training samples of 10 classes of food)\n",
    "* Data augmentation (how to make your training dataset more diverse without adding more data)\n",
    "* Running a series of modelling experiments on our Food Vision data\n",
    "    * Model 0: a transfer learning model using the Keras Functional API\n",
    "    * Model 1: a feature extraction transfer learning model on 1% of the data with data augmentation\n",
    "    * Model 2: a feature extraction transfer learning model on 10% of the data with data augmentation\n",
    "    * Model 3: a fine-tuned transfer learning model on 10% of the data\n",
    "    * Model 4: a fine-tuned transfer learning model on 100% of the data\n",
    "* Introduce the ModelCheckpoint callback to save intermediate training results\n",
    "* Compare model experiments results using TensorBoard"
   ]
  },
  {
   "cell_type": "markdown",
   "id": "e338dfa4",
   "metadata": {},
   "source": [
    "## Creating helper functions\n",
    "\n",
    "Throughout your machine learning experiments, you'll likely come across snippets of code you want to use over and over again.\n",
    "\n",
    "For example, a plotting function which plots a model's history object (see ```plot_loss_curves()``` below).\n",
    "\n",
    "You could recreate these functions over and over again.\n",
    "\n",
    "But as you might've guessed, rewritting the same functions becomes tedious.\n",
    "\n",
    "One of the solutions is to store them in a helper script such as helper_functions.py. And then import the necesary functionality when you need it.\n",
    "\n",
    "For example, you might write:\n",
    "\n",
    "from helper_functions import plot_loss_curves\n",
    "\n",
    "...\n",
    "\n",
    "```plot_loss_curves(history)```\n",
    "Let's see what this looks like."
   ]
  },
  {
   "cell_type": "code",
   "execution_count": 2,
   "id": "46aef1ea",
   "metadata": {},
   "outputs": [
    {
     "name": "stdout",
     "output_type": "stream",
     "text": [
      "--2022-12-13 01:32:21--  https://raw.githubusercontent.com/mrdbourke/tensorflow-deep-learning/main/extras/helper_functions.py\n",
      "Resolving raw.githubusercontent.com (raw.githubusercontent.com)... 185.199.110.133, 185.199.109.133, 185.199.111.133, ...\n",
      "Connecting to raw.githubusercontent.com (raw.githubusercontent.com)|185.199.110.133|:443... connected.\n",
      "HTTP request sent, awaiting response... 200 OK\n",
      "Length: 10246 (10K) [text/plain]\n",
      "Saving to: ‘helper_functions.py’\n",
      "\n",
      "helper_functions.py 100%[===================>]  10.01K  --.-KB/s    in 0.001s  \n",
      "\n",
      "2022-12-13 01:32:21 (17.1 MB/s) - ‘helper_functions.py’ saved [10246/10246]\n",
      "\n",
      "Init Plugin\n",
      "Init Graph Optimizer\n",
      "Init Kernel\n"
     ]
    }
   ],
   "source": [
    "# Get helper_functions.py script from course GitHub\n",
    "!wget https://raw.githubusercontent.com/mrdbourke/tensorflow-deep-learning/main/extras/helper_functions.py \n",
    "\n",
    "# Import helper functions we're going to use\n",
    "from helper_functions import create_tensorboard_callback, plot_loss_curves, unzip_data, walk_through_dir"
   ]
  },
  {
   "cell_type": "markdown",
   "id": "3b28feb4",
   "metadata": {},
   "source": [
    "Wonderful, now we've got a bunch of helper functions we can use throughout the notebook without having to rewrite them from scratch each time.\n",
    "\n",
    "🔑 Note: If you're running this notebook in Google Colab, when it times out Colab will delete the helper_functions.py file. So to use the functions imported above, you'll have to rerun the cell."
   ]
  },
  {
   "cell_type": "markdown",
   "id": "0f83129f",
   "metadata": {},
   "source": [
    "## 10 Food Classes: Working with less data\n",
    "\n",
    "We saw in the previous notebook that we could get great results with only 10% of the training data using transfer learning with TensorFlow Hub.\n",
    "\n",
    "In this notebook, we're going to continue to work with smaller subsets of the data, except this time we'll have a look at how we can use the in-built pretrained models within the ```tf.keras.applications``` module as well as how to fine-tune them to our own custom dataset.\n",
    "\n",
    "We'll also practice using a new but similar dataloader function to what we've used before, ```image_dataset_from_directory()``` which is part of the ```tf.keras.preprocessing``` module.\n",
    "\n",
    "Finally, we'll also be practicing using the ```Keras Functional API``` for building deep learning models. The ```Functional API``` is a more flexible way to create models than the ```tf.keras.Sequential API```.\n",
    "\n",
    "We'll explore each of these in more detail as we go.\n",
    "\n",
    "Let's start by downloading some data."
   ]
  },
  {
   "cell_type": "code",
   "execution_count": 3,
   "id": "3839ea7b",
   "metadata": {},
   "outputs": [
    {
     "name": "stdout",
     "output_type": "stream",
     "text": [
      "--2022-12-13 01:36:28--  https://storage.googleapis.com/ztm_tf_course/food_vision/10_food_classes_10_percent.zip\n",
      "Resolving storage.googleapis.com (storage.googleapis.com)... 142.251.33.176, 142.251.41.80, 172.217.165.16, ...\n",
      "Connecting to storage.googleapis.com (storage.googleapis.com)|142.251.33.176|:443... connected.\n",
      "HTTP request sent, awaiting response... 200 OK\n",
      "Length: 168546183 (161M) [application/zip]\n",
      "Saving to: ‘10_food_classes_10_percent.zip.1’\n",
      "\n",
      "10_food_classes_10_ 100%[===================>] 160.74M  19.7MB/s    in 9.4s    \n",
      "\n",
      "2022-12-13 01:36:38 (17.2 MB/s) - ‘10_food_classes_10_percent.zip.1’ saved [168546183/168546183]\n",
      "\n"
     ]
    }
   ],
   "source": [
    "# Get 10% of the data of the 10 classes\n",
    "!wget https://storage.googleapis.com/ztm_tf_course/food_vision/10_food_classes_10_percent.zip \n",
    "\n",
    "unzip_data(\"10_food_classes_10_percent.zip\")"
   ]
  },
  {
   "cell_type": "markdown",
   "id": "c88b377f",
   "metadata": {},
   "source": [
    "The dataset we're downloading is the 10 food classes dataset (from Food 101) with 10% of the training images we used in the previous notebook.\n",
    "\n",
    "🔑 Note: You can see how this dataset was created in the [image data modification notebook](https://github.com/mrdbourke/tensorflow-deep-learning/blob/main/extras/image_data_modification.ipynb)."
   ]
  },
  {
   "cell_type": "code",
   "execution_count": 6,
   "id": "c9d17d49",
   "metadata": {},
   "outputs": [
    {
     "name": "stdout",
     "output_type": "stream",
     "text": [
      "There are 2 directories and 0 images in '10_food_classes_10_percent'.\n",
      "There are 10 directories and 0 images in '10_food_classes_10_percent/test'.\n",
      "There are 0 directories and 250 images in '10_food_classes_10_percent/test/ice_cream'.\n",
      "There are 0 directories and 250 images in '10_food_classes_10_percent/test/chicken_curry'.\n",
      "There are 0 directories and 250 images in '10_food_classes_10_percent/test/steak'.\n",
      "There are 0 directories and 250 images in '10_food_classes_10_percent/test/sushi'.\n",
      "There are 0 directories and 250 images in '10_food_classes_10_percent/test/chicken_wings'.\n",
      "There are 0 directories and 250 images in '10_food_classes_10_percent/test/grilled_salmon'.\n",
      "There are 0 directories and 250 images in '10_food_classes_10_percent/test/hamburger'.\n",
      "There are 0 directories and 250 images in '10_food_classes_10_percent/test/pizza'.\n",
      "There are 0 directories and 250 images in '10_food_classes_10_percent/test/ramen'.\n",
      "There are 0 directories and 250 images in '10_food_classes_10_percent/test/fried_rice'.\n",
      "There are 10 directories and 0 images in '10_food_classes_10_percent/train'.\n",
      "There are 0 directories and 75 images in '10_food_classes_10_percent/train/ice_cream'.\n",
      "There are 0 directories and 75 images in '10_food_classes_10_percent/train/chicken_curry'.\n",
      "There are 0 directories and 75 images in '10_food_classes_10_percent/train/steak'.\n",
      "There are 0 directories and 75 images in '10_food_classes_10_percent/train/sushi'.\n",
      "There are 0 directories and 75 images in '10_food_classes_10_percent/train/chicken_wings'.\n",
      "There are 0 directories and 75 images in '10_food_classes_10_percent/train/grilled_salmon'.\n",
      "There are 0 directories and 75 images in '10_food_classes_10_percent/train/hamburger'.\n",
      "There are 0 directories and 75 images in '10_food_classes_10_percent/train/pizza'.\n",
      "There are 0 directories and 75 images in '10_food_classes_10_percent/train/ramen'.\n",
      "There are 0 directories and 75 images in '10_food_classes_10_percent/train/fried_rice'.\n"
     ]
    }
   ],
   "source": [
    "# Walk through 10 percent data directory and list number of files\n",
    "walk_through_dir(\"10_food_classes_10_percent\")"
   ]
  },
  {
   "cell_type": "markdown",
   "id": "18fe0d13",
   "metadata": {},
   "source": [
    "We can see that each of the training directories contain 75 images and each of the testing directories contain 250 images.\n",
    "\n",
    "Let's define our training and test filepaths."
   ]
  },
  {
   "cell_type": "code",
   "execution_count": 7,
   "id": "df6f4bc5",
   "metadata": {},
   "outputs": [],
   "source": [
    "# Create training and test directories\n",
    "train_dir = \"10_food_classes_10_percent/train/\"\n",
    "test_dir = \"10_food_classes_10_percent/test/\""
   ]
  },
  {
   "cell_type": "markdown",
   "id": "0c076911",
   "metadata": {},
   "source": [
    "Now we've got some image data, we need a way of loading it into a TensorFlow compatible format.\n",
    "\n",
    "Previously, we've used the `ImageDataGenerator` class. And while this works well and is still very commonly used, this time we're going to use the `image_data_from_directory` function.\n",
    "\n",
    "It works much the same way as `ImageDataGenerator's flow_from_directory` method meaning your images need to be in the following file format:\n",
    "\n",
    "**Example of file structure**\n",
    "\n",
    "10_food_classes_10_percent <- top level folder\n",
    "\n",
    "└───train <- training images\n",
    "│   └───pizza\n",
    "│   │   │   1008104.jpg\n",
    "│   │   │   1638227.jpg\n",
    "│   │   │   ...      \n",
    "│   └───steak\n",
    "│       │   1000205.jpg\n",
    "│       │   1647351.jpg\n",
    "│       │   ...\n",
    "│   \n",
    "└───test <- testing images\n",
    "│   └───pizza\n",
    "│   │   │   1001116.jpg\n",
    "│   │   │   1507019.jpg\n",
    "│   │   │   ...      \n",
    "│   └───steak\n",
    "│       │   100274.jpg\n",
    "│       │   1653815.jpg\n",
    "│       │   ...    \n",
    "\n",
    "\n",
    "One of the main benefits of using `tf.keras.prepreprocessing.image_dataset_from_directory()` rather than `ImageDataGenerator` is that it creates a `tf.data.Dataset` object rather than a generator. The main advantage of this is the tf.data.Dataset API is much more efficient (faster) than the ImageDataGenerator API which is paramount for larger datasets.\n",
    "\n"
   ]
  },
  {
   "cell_type": "code",
   "execution_count": 8,
   "id": "77445693",
   "metadata": {},
   "outputs": [
    {
     "name": "stdout",
     "output_type": "stream",
     "text": [
      "Found 750 files belonging to 10 classes.\n",
      "Metal device set to: Apple M1\n",
      "Found 2500 files belonging to 10 classes.\n"
     ]
    },
    {
     "name": "stderr",
     "output_type": "stream",
     "text": [
      "2022-12-13 01:44:02.291215: I tensorflow/core/common_runtime/pluggable_device/pluggable_device_factory.cc:305] Could not identify NUMA node of platform GPU ID 0, defaulting to 0. Your kernel may not have been built with NUMA support.\n",
      "2022-12-13 01:44:02.291360: I tensorflow/core/common_runtime/pluggable_device/pluggable_device_factory.cc:271] Created TensorFlow device (/job:localhost/replica:0/task:0/device:GPU:0 with 0 MB memory) -> physical PluggableDevice (device: 0, name: METAL, pci bus id: <undefined>)\n"
     ]
    }
   ],
   "source": [
    "# Create data inputs\n",
    "import tensorflow as tf\n",
    "IMG_SIZE = (224, 224) # define image size\n",
    "train_data_10_percent = tf.keras.preprocessing.image_dataset_from_directory(directory=train_dir,\n",
    "                                                                            image_size=IMG_SIZE,\n",
    "                                                                            label_mode=\"categorical\", # what type are the labels?\n",
    "                                                                            batch_size=32) # batch_size is 32 by default, this is generally a good number\n",
    "test_data_10_percent = tf.keras.preprocessing.image_dataset_from_directory(directory=test_dir,\n",
    "                                                                           image_size=IMG_SIZE,\n",
    "                                                                           label_mode=\"categorical\")"
   ]
  },
  {
   "cell_type": "markdown",
   "id": "b8210a6e",
   "metadata": {},
   "source": [
    "Wonderful! Looks like our dataloaders have found the correct number of images for each dataset.\n",
    "\n",
    "For now, the main parameters we're concerned about in the `image_dataset_from_directory()` funtion are:\n",
    "\n",
    "`directory` - the filepath of the target directory we're loading images in from.\n",
    "\n",
    "`image_size` - the target size of the images we're going to load in (height, width).\n",
    "\n",
    "`batch_size` - the batch size of the images we're going to load in. For example if the batch_size is 32 (the default), batches of 32 images and labels at a time will be passed to the model.\n",
    "There are more we could play around with if we needed to in the `[tf.keras.preprocessing](https://www.tensorflow.org/api_docs/python/tf/keras/preprocessing/image_dataset_from_directory)` documentation.\n",
    "\n",
    "If we check the training data datatype we should see it as a BatchDataset with shapes relating to our data."
   ]
  },
  {
   "cell_type": "code",
   "execution_count": 9,
   "id": "8c863033",
   "metadata": {},
   "outputs": [
    {
     "data": {
      "text/plain": [
       "<BatchDataset shapes: ((None, 224, 224, 3), (None, 10)), types: (tf.float32, tf.float32)>"
      ]
     },
     "execution_count": 9,
     "metadata": {},
     "output_type": "execute_result"
    }
   ],
   "source": [
    "# Check the training data datatype\n",
    "train_data_10_percent"
   ]
  },
  {
   "cell_type": "markdown",
   "id": "a4d1a176",
   "metadata": {},
   "source": [
    "In the above output:\n",
    "\n",
    "`(None, 224, 224, 3)` refers to the tensor shape of our images where None is the batch size, 224 is the height (and width) and 3 is the color channels (red, green, blue).\n",
    "\n",
    "`(None, 10)` refers to the tensor shape of the labels where None is the batch size and 10 is the number of possible labels (the 10 different food classes).\n",
    "\n",
    "Both image tensors and labels are of the datatype `tf.float32`.\n",
    "\n",
    "The batch_size is None due to it only being used during model training. You can think of None as a placeholder waiting to be filled with the `batch_size` parameter from `image_dataset_from_directory()`.\n",
    "\n",
    "Another benefit of using the `tf.data.Dataset` API are the assosciated methods which come with it.\n",
    "\n",
    "For example, if we want to find the name of the classes we were working with, we could use the class_names attribute."
   ]
  },
  {
   "cell_type": "code",
   "execution_count": 10,
   "id": "33e6dab2",
   "metadata": {},
   "outputs": [
    {
     "data": {
      "text/plain": [
       "['chicken_curry',\n",
       " 'chicken_wings',\n",
       " 'fried_rice',\n",
       " 'grilled_salmon',\n",
       " 'hamburger',\n",
       " 'ice_cream',\n",
       " 'pizza',\n",
       " 'ramen',\n",
       " 'steak',\n",
       " 'sushi']"
      ]
     },
     "execution_count": 10,
     "metadata": {},
     "output_type": "execute_result"
    }
   ],
   "source": [
    "# Check out the class names of our dataset\n",
    "train_data_10_percent.class_names"
   ]
  },
  {
   "cell_type": "markdown",
   "id": "d360dbca",
   "metadata": {},
   "source": [
    "Or if we wanted to see an example batch of data, we could use the take() method."
   ]
  },
  {
   "cell_type": "code",
   "execution_count": 11,
   "id": "dcf80066",
   "metadata": {},
   "outputs": [
    {
     "name": "stdout",
     "output_type": "stream",
     "text": [
      "tf.Tensor(\n",
      "[[[[ 91.52232     72.83036     57.776787  ]\n",
      "   [ 99.66071     82.84821     67.03571   ]\n",
      "   [ 94.19196     76.99553     62.714283  ]\n",
      "   ...\n",
      "   [ 85.88391     58.75        37.147385  ]\n",
      "   [ 87.3616      61.361603    44.504486  ]\n",
      "   [ 78.94173     52.941727    39.941727  ]]\n",
      "\n",
      "  [[ 90.27679     75.16964     60.08482   ]\n",
      "   [ 92.98215     78.10715     64.23215   ]\n",
      "   [ 89.71875     76.15625     62.147324  ]\n",
      "   ...\n",
      "   [ 92.160736    66.5         44.508972  ]\n",
      "   [ 91.66069     65.78124     48.88394   ]\n",
      "   [ 84.07126     59.75876     46.19626   ]]\n",
      "\n",
      "  [[ 87.571434    77.29464     63.30357   ]\n",
      "   [ 87.30804     76.92411     64.86161   ]\n",
      "   [ 85.3884      75.2634      63.16518   ]\n",
      "   ...\n",
      "   [ 97.19649     72.8125      50.383972  ]\n",
      "   [ 92.24556     69.07146     51.13842   ]\n",
      "   [ 93.20085     70.20085     54.99556   ]]\n",
      "\n",
      "  ...\n",
      "\n",
      "  [[157.58035    161.58035    162.58035   ]\n",
      "   [159.86607    163.86607    164.86607   ]\n",
      "   [163.9509     164.9375     166.9375    ]\n",
      "   ...\n",
      "   [158.73663    161.73663    166.73663   ]\n",
      "   [160.92856    163.92856    168.92856   ]\n",
      "   [158.28564    161.28564    166.28564   ]]\n",
      "\n",
      "  [[156.3616     160.3616     161.3616    ]\n",
      "   [158.92857    162.92857    163.92857   ]\n",
      "   [163.21428    164.         166.        ]\n",
      "   ...\n",
      "   [158.         161.         166.        ]\n",
      "   [160.92856    163.92856    168.92856   ]\n",
      "   [158.44191    161.44191    166.44191   ]]\n",
      "\n",
      "  [[156.         160.         161.        ]\n",
      "   [158.92857    162.92857    163.92857   ]\n",
      "   [163.21428    164.         166.        ]\n",
      "   ...\n",
      "   [158.         161.         166.        ]\n",
      "   [160.23215    163.23215    168.23215   ]\n",
      "   [159.16512    162.16512    167.16512   ]]]\n",
      "\n",
      "\n",
      " [[[ 29.523756    24.523756     5.5237565 ]\n",
      "   [ 31.801498    24.801498     6.801499  ]\n",
      "   [ 30.425861    23.425861     5.425861  ]\n",
      "   ...\n",
      "   [ 72.32014     53.105877    39.74867   ]\n",
      "   [ 72.31492     53.314915    39.314915  ]\n",
      "   [ 75.98664     56.98664     41.98664   ]]\n",
      "\n",
      "  [[ 29.          22.888393     4.4441967 ]\n",
      "   [ 29.856665    22.856665     4.8566647 ]\n",
      "   [ 29.904814    22.904814     4.904815  ]\n",
      "   ...\n",
      "   [ 73.34154     53.69056     41.643497  ]\n",
      "   [ 74.10363     55.103634    41.103634  ]\n",
      "   [ 73.96014     54.960136    40.51594   ]]\n",
      "\n",
      "  [[ 29.          22.           4.        ]\n",
      "   [ 29.          22.           4.        ]\n",
      "   [ 30.198502    23.198502     5.1985016 ]\n",
      "   ...\n",
      "   [ 75.43993     53.98422     42.98422   ]\n",
      "   [ 76.71506     55.13458     41.994736  ]\n",
      "   [ 76.09097     55.304558    41.90003   ]]\n",
      "\n",
      "  ...\n",
      "\n",
      "  [[ 38.75268     28.752682    18.826351  ]\n",
      "   [ 41.988697    31.988697    21.988695  ]\n",
      "   [ 44.975147    35.03303     23.256384  ]\n",
      "   ...\n",
      "   [ 79.77813     61.925472    61.99914   ]\n",
      "   [ 80.41206     60.567703    62.709778  ]\n",
      "   [ 76.3955      56.878975    59.        ]]\n",
      "\n",
      "  [[ 36.689934    26.689932    17.689932  ]\n",
      "   [ 43.706318    33.706318    22.881348  ]\n",
      "   [ 47.261955    38.142857    23.500147  ]\n",
      "   ...\n",
      "   [ 75.771416    59.77142     61.469486  ]\n",
      "   [ 74.50853     56.960293    60.47637   ]\n",
      "   [ 73.602974    56.531155    59.888428  ]]\n",
      "\n",
      "  [[ 41.25891     31.258911    22.258911  ]\n",
      "   [ 44.60044     34.60044     22.7433    ]\n",
      "   [ 46.502716    37.502716    22.502714  ]\n",
      "   ...\n",
      "   [ 67.46077     51.460766    54.032238  ]\n",
      "   [ 70.672226    54.672226    57.672226  ]\n",
      "   [ 73.18527     57.185272    60.185272  ]]]\n",
      "\n",
      "\n",
      " [[[ 17.714285    16.714285    11.714286  ]\n",
      "   [ 18.311224    17.311224    12.311225  ]\n",
      "   [ 22.709185    19.709185    14.709184  ]\n",
      "   ...\n",
      "   [ 55.571472    39.35721     27.        ]\n",
      "   [ 57.42853     39.499973    25.35709   ]\n",
      "   [ 55.55624     38.55624     21.382725  ]]\n",
      "\n",
      "  [[ 15.02551     14.02551      9.02551   ]\n",
      "   [ 16.137754    13.137754     8.137754  ]\n",
      "   [ 19.571428    16.571428    11.571428  ]\n",
      "   ...\n",
      "   [ 54.84186     37.84186     27.84186   ]\n",
      "   [ 56.06121     38.06631     25.780573  ]\n",
      "   [ 55.31126     37.714355    22.908169  ]]\n",
      "\n",
      "  [[ 15.709184    11.709184     9.137755  ]\n",
      "   [ 15.255102    11.255102     8.683674  ]\n",
      "   [ 16.168367    11.908163     9.382653  ]\n",
      "   ...\n",
      "   [ 53.382614    36.382614    27.147886  ]\n",
      "   [ 53.37248     35.37248     25.260212  ]\n",
      "   [ 55.19892     37.19892     25.627493  ]]\n",
      "\n",
      "  ...\n",
      "\n",
      "  [[ 15.061174    11.061174    11.632647  ]\n",
      "   [ 18.770344    14.770344    15.341816  ]\n",
      "   [ 18.642815    14.642814    15.306113  ]\n",
      "   ...\n",
      "   [ 13.          11.          14.        ]\n",
      "   [ 10.15813      8.15813     11.15813   ]\n",
      "   [  9.709175     7.709175    10.709175  ]]\n",
      "\n",
      "  [[ 19.479574    14.479575    18.479574  ]\n",
      "   [ 20.999987    15.999987    19.999987  ]\n",
      "   [ 23.08675     19.08675     20.08675   ]\n",
      "   ...\n",
      "   [ 11.387823     9.387823    12.387823  ]\n",
      "   [ 11.928558     9.928558    12.928558  ]\n",
      "   [ 12.260219    10.260219    13.260219  ]]\n",
      "\n",
      "  [[ 20.428745    15.428746    19.428745  ]\n",
      "   [ 18.479631    13.479631    17.479631  ]\n",
      "   [ 19.71418     14.714181    18.71418   ]\n",
      "   ...\n",
      "   [ 11.719353     9.719353    12.719353  ]\n",
      "   [ 12.382695    10.382695    13.382695  ]\n",
      "   [ 11.229602     9.229602    12.229602  ]]]\n",
      "\n",
      "\n",
      " ...\n",
      "\n",
      "\n",
      " [[[ 22.          12.          10.        ]\n",
      "   [ 21.714285    11.714286     9.714286  ]\n",
      "   [ 23.061224    11.846939    10.275511  ]\n",
      "   ...\n",
      "   [138.7755      67.775505    25.346975  ]\n",
      "   [140.1633      69.16329     27.163296  ]\n",
      "   [141.80098     69.80097     29.800974  ]]\n",
      "\n",
      "  [[ 20.760202    10.760204     8.760204  ]\n",
      "   [ 18.071428     8.071428     6.0714283 ]\n",
      "   [ 23.642857    12.428572    10.857143  ]\n",
      "   ...\n",
      "   [132.44385     61.443855    19.443853  ]\n",
      "   [142.01022     71.010216    29.01022   ]\n",
      "   [141.45401     70.45401     28.454014  ]]\n",
      "\n",
      "  [[ 19.92347     10.137755     7.494898  ]\n",
      "   [ 22.142857    11.928572     9.5       ]\n",
      "   [ 23.551022    11.403061     9.785714  ]\n",
      "   ...\n",
      "   [133.21428     60.214287    19.214287  ]\n",
      "   [143.19894     70.19895     29.19895   ]\n",
      "   [139.29597     66.29597     25.295969  ]]\n",
      "\n",
      "  ...\n",
      "\n",
      "  [[124.29612     74.36744     44.867287  ]\n",
      "   [125.87277     74.158356    44.229675  ]\n",
      "   [131.11754     77.18886     47.045914  ]\n",
      "   ...\n",
      "   [148.57147     85.3113      41.571472  ]\n",
      "   [151.23978     89.35205     42.18365   ]\n",
      "   [151.16324     90.73471     40.948975  ]]\n",
      "\n",
      "  [[132.12242     78.19386     40.050976  ]\n",
      "   [136.70914     80.78057     43.637688  ]\n",
      "   [131.44382     73.41319     36.357063  ]\n",
      "   ...\n",
      "   [147.5612      86.7296      41.5612    ]\n",
      "   [146.48988     88.48988     38.489883  ]\n",
      "   [150.12227     93.12226     40.12226   ]]\n",
      "\n",
      "  [[130.77028     77.77028     37.770283  ]\n",
      "   [130.14268     77.142685    37.142685  ]\n",
      "   [126.79076     71.147896    32.362183  ]\n",
      "   ...\n",
      "   [142.07135     84.07135     36.499878  ]\n",
      "   [148.30614     92.37759     41.16326   ]\n",
      "   [146.89798     91.89797     37.897976  ]]]\n",
      "\n",
      "\n",
      " [[[151.22958    122.28571     74.90306   ]\n",
      "   [144.23979    117.45409     79.005104  ]\n",
      "   [132.43367    111.36224     84.158165  ]\n",
      "   ...\n",
      "   [ 19.571407     7.571407     7.571407  ]\n",
      "   [ 20.428585     6.4285846    6.4285846 ]\n",
      "   [ 22.071463     8.071464     8.071464  ]]\n",
      "\n",
      "  [[135.66327    115.30612     79.87755   ]\n",
      "   [127.168365   109.602036    80.88776   ]\n",
      "   [127.90306    113.10204     94.433685  ]\n",
      "   ...\n",
      "   [ 20.586777     7.0153046    7.0153046 ]\n",
      "   [ 21.928572     5.9285717    6.9285717 ]\n",
      "   [ 22.928572     6.9285717    7.9285717 ]]\n",
      "\n",
      "  [[123.96429    116.82143     98.7602    ]\n",
      "   [138.46939    132.19899    117.61225   ]\n",
      "   [149.80103    144.08673    135.87756   ]\n",
      "   ...\n",
      "   [ 21.688793     5.2602215    5.2602215 ]\n",
      "   [ 24.428572     6.           6.214286  ]\n",
      "   [ 25.214287     6.785714     7.        ]]\n",
      "\n",
      "  ...\n",
      "\n",
      "  [[ 20.341839     9.341838     5.3418384 ]\n",
      "   [ 23.204142    12.204142     8.204142  ]\n",
      "   [ 21.04587     10.04587      8.04587   ]\n",
      "   ...\n",
      "   [ 52.566254    22.351992    20.137728  ]\n",
      "   [ 51.214203    21.785675    17.857056  ]\n",
      "   [ 57.056206    26.132736    20.903145  ]]\n",
      "\n",
      "  [[ 21.520426    10.520425     6.520425  ]\n",
      "   [ 21.862259    10.86226      6.86226   ]\n",
      "   [ 18.214325     7.214325     5.214325  ]\n",
      "   ...\n",
      "   [ 55.173496    27.173498    24.173498  ]\n",
      "   [ 50.79078     21.79078     17.79078   ]\n",
      "   [ 51.52044     20.520437    17.520437  ]]\n",
      "\n",
      "  [[ 20.06114      9.06114      5.1887035 ]\n",
      "   [ 23.071428    12.071428     8.071428  ]\n",
      "   [ 24.270454    13.270455    11.270455  ]\n",
      "   ...\n",
      "   [ 46.65297     19.295761    16.081497  ]\n",
      "   [ 49.505173    19.50517     17.50517   ]\n",
      "   [ 52.01549     21.015491    18.015491  ]]]\n",
      "\n",
      "\n",
      " [[[155.15306    140.9949     120.32653   ]\n",
      "   [167.06633    147.2551     123.158165  ]\n",
      "   [197.86734    169.58163    138.51021   ]\n",
      "   ...\n",
      "   [ 28.387926    22.086842    18.806221  ]\n",
      "   [ 37.948906    28.280533    19.117237  ]\n",
      "   [ 26.096767    13.040667     1.6070557 ]]\n",
      "\n",
      "  [[158.40306    143.97449    118.831635  ]\n",
      "   [155.53572    134.81122    107.59694   ]\n",
      "   [199.85715    173.         139.2449    ]\n",
      "   ...\n",
      "   [ 18.596987    13.913288    10.198981  ]\n",
      "   [ 32.91851     23.984821    16.709274  ]\n",
      "   [ 34.57101     25.045532    12.121965  ]]\n",
      "\n",
      "  [[160.54591    144.68367    112.77041   ]\n",
      "   [164.28572    144.15816    110.14286   ]\n",
      "   [147.69897    121.17857     84.224495  ]\n",
      "   ...\n",
      "   [ 16.066486    12.709279     9.923543  ]\n",
      "   [ 18.163322    12.591867     6.035721  ]\n",
      "   [ 33.59722     26.382935    17.178799  ]]\n",
      "\n",
      "  ...\n",
      "\n",
      "  [[143.86226     93.86226     23.290846  ]\n",
      "   [151.64285    101.64285     30.673462  ]\n",
      "   [149.79086    103.57656     29.219444  ]\n",
      "   ...\n",
      "   [112.209465    78.04106     31.44406   ]\n",
      "   [ 95.540886    57.443928     9.857147  ]\n",
      "   [108.683395    66.60691     19.754742  ]]\n",
      "\n",
      "  [[147.71434     97.71434     28.714338  ]\n",
      "   [150.92348    100.92347     31.79085   ]\n",
      "   [152.81633    105.816315    33.81632   ]\n",
      "   ...\n",
      "   [114.99013     79.02073     27.194153  ]\n",
      "   [ 87.85207     51.648014     0.70919275]\n",
      "   [103.13747     65.92323     14.086457  ]]\n",
      "\n",
      "  [[145.36736     94.36736     28.367361  ]\n",
      "   [151.11734    100.44898     33.454075  ]\n",
      "   [150.20409    103.204094    32.775517  ]\n",
      "   ...\n",
      "   [106.06673     72.6382      18.638199  ]\n",
      "   [102.80597     69.72942     16.754938  ]\n",
      "   [ 99.10193     63.101925    11.101926  ]]]], shape=(32, 224, 224, 3), dtype=float32) tf.Tensor(\n",
      "[[0. 0. 0. 0. 0. 0. 0. 0. 0. 1.]\n",
      " [1. 0. 0. 0. 0. 0. 0. 0. 0. 0.]\n",
      " [1. 0. 0. 0. 0. 0. 0. 0. 0. 0.]\n",
      " [0. 0. 0. 0. 0. 1. 0. 0. 0. 0.]\n",
      " [0. 0. 0. 0. 0. 1. 0. 0. 0. 0.]\n",
      " [0. 0. 0. 0. 1. 0. 0. 0. 0. 0.]\n",
      " [0. 0. 0. 0. 0. 0. 0. 0. 1. 0.]\n",
      " [0. 0. 0. 1. 0. 0. 0. 0. 0. 0.]\n",
      " [0. 0. 0. 0. 0. 0. 0. 0. 0. 1.]\n",
      " [0. 0. 0. 0. 0. 0. 1. 0. 0. 0.]\n",
      " [0. 0. 0. 0. 0. 0. 0. 1. 0. 0.]\n",
      " [0. 0. 1. 0. 0. 0. 0. 0. 0. 0.]\n",
      " [0. 0. 1. 0. 0. 0. 0. 0. 0. 0.]\n",
      " [0. 0. 0. 0. 0. 0. 0. 0. 0. 1.]\n",
      " [0. 0. 0. 0. 0. 0. 1. 0. 0. 0.]\n",
      " [0. 0. 0. 0. 0. 0. 0. 1. 0. 0.]\n",
      " [0. 0. 0. 0. 0. 0. 0. 1. 0. 0.]\n",
      " [0. 0. 0. 1. 0. 0. 0. 0. 0. 0.]\n",
      " [0. 0. 0. 0. 0. 0. 0. 0. 0. 1.]\n",
      " [0. 0. 0. 0. 0. 0. 0. 0. 0. 1.]\n",
      " [0. 0. 0. 0. 0. 0. 0. 0. 0. 1.]\n",
      " [1. 0. 0. 0. 0. 0. 0. 0. 0. 0.]\n",
      " [0. 0. 0. 0. 0. 0. 0. 0. 1. 0.]\n",
      " [0. 0. 0. 1. 0. 0. 0. 0. 0. 0.]\n",
      " [0. 0. 0. 0. 0. 1. 0. 0. 0. 0.]\n",
      " [1. 0. 0. 0. 0. 0. 0. 0. 0. 0.]\n",
      " [0. 0. 0. 0. 0. 0. 0. 0. 0. 1.]\n",
      " [0. 1. 0. 0. 0. 0. 0. 0. 0. 0.]\n",
      " [0. 0. 0. 0. 0. 1. 0. 0. 0. 0.]\n",
      " [0. 0. 0. 0. 0. 1. 0. 0. 0. 0.]\n",
      " [1. 0. 0. 0. 0. 0. 0. 0. 0. 0.]\n",
      " [0. 0. 0. 0. 0. 0. 0. 1. 0. 0.]], shape=(32, 10), dtype=float32)\n"
     ]
    },
    {
     "name": "stderr",
     "output_type": "stream",
     "text": [
      "2022-12-13 01:48:43.192029: I tensorflow/compiler/mlir/mlir_graph_optimization_pass.cc:176] None of the MLIR Optimization Passes are enabled (registered 2)\n",
      "2022-12-13 01:48:43.192645: W tensorflow/core/platform/profile_utils/cpu_utils.cc:128] Failed to get CPU frequency: 0 Hz\n"
     ]
    }
   ],
   "source": [
    "# See an example batch of data\n",
    "for images, labels in train_data_10_percent.take(1):\n",
    "  print(images, labels)"
   ]
  },
  {
   "cell_type": "markdown",
   "id": "bd6554b9",
   "metadata": {},
   "source": [
    "Notice how the image arrays come out as tensors of pixel values where as the labels come out as one-hot encodings (e.g. [0. 0. 0. 0. 1. 0. 0. 0. 0. 0.] for hamburger)."
   ]
  },
  {
   "cell_type": "markdown",
   "id": "e048f80a",
   "metadata": {},
   "source": [
    "## Model 0: Building a transfer learning model using the Keras Functional API\n",
    "\n",
    "Alright, our data is tensor-ified, let's build a model.\n",
    "\n",
    "To do so we're going to be using the `tf.keras.applications` module as it contains a series of already trained (on ImageNet) computer vision models as well as the Keras Functional API to construct our model.\n",
    "\n",
    "We're going to go through the following steps:\n",
    "\n",
    "1. Instantiate a pre-trained base model object by choosing a target model such as `EfficientNetB0` from `tf.keras.applications`, setting the `include_top` parameter to False (we do this because we're going to create our own top, which are the output layers for the model).\n",
    "2. Set the base model's trainable attribute to False to freeze all of the weights in the pre-trained model.\n",
    "3. Define an input layer for our model, for example, what shape of data should our model expect?\n",
    "4. [Optional] Normalize the inputs to our model if it requires. Some computer vision models such as ResNetV250 require their inputs to be between 0 & 1.\n",
    "    🤔 Note: As of writing, the EfficientNet models in the `tf.keras.applications` module do not require images to be normalized (pixel values between 0 and 1) on input, where as many of the other models do. I posted an issue to the TensorFlow GitHub about this and they confirmed this.\n",
    "\n",
    "5. Pass the inputs to the base model.\n",
    "6. Pool the outputs of the base model into a shape compatible with the output activation layer (turn base model output tensors into same shape as label tensors). This can be done using `tf.keras.layers.GlobalAveragePooling2D()` or `tf.keras.layers.GlobalMaxPooling2D()` though the former is more common in practice.\n",
    "7. Create an output activation layer using `tf.keras.layers.Dense()` with the appropriate activation function and number of neurons.\n",
    "8. Combine the inputs and outputs layer into a model using`tf.keras.Model()`.\n",
    "9. Compile the model using the appropriate loss function and choose of optimizer.\n",
    "10. Fit the model for desired number of epochs and with necessary callbacks (in our case, we'll start off with the TensorBoard callback).\n",
    "\n",
    "Woah... that sounds like a lot. Before we get ahead of ourselves, let's see it in practice."
   ]
  },
  {
   "cell_type": "code",
   "execution_count": 12,
   "id": "6976cdd3",
   "metadata": {},
   "outputs": [
    {
     "name": "stdout",
     "output_type": "stream",
     "text": [
      "Downloading data from https://storage.googleapis.com/keras-applications/efficientnetb0_notop.h5\n",
      "16711680/16705208 [==============================] - 1s 0us/step\n",
      "Shape after base_model: (None, 7, 7, 1280)\n",
      "After GlobalAveragePooling2D(): (None, 1280)\n",
      "Saving TensorBoard log files to: transfer_learning/10_percent_feature_extract/20221213-021034\n"
     ]
    },
    {
     "name": "stderr",
     "output_type": "stream",
     "text": [
      "2022-12-13 02:10:34.447791: I tensorflow/core/profiler/lib/profiler_session.cc:126] Profiler session initializing.\n",
      "2022-12-13 02:10:34.447797: I tensorflow/core/profiler/lib/profiler_session.cc:141] Profiler session started.\n",
      "2022-12-13 02:10:34.447819: I tensorflow/core/profiler/lib/profiler_session.cc:159] Profiler session tear down.\n",
      "/opt/homebrew/Caskroom/miniforge/base/envs/tensorflow/lib/python3.9/site-packages/tensorflow/python/keras/utils/generic_utils.py:494: CustomMaskWarning: Custom mask layers require a config and must override get_config. When loading, the custom mask layer must be passed to the custom_objects argument.\n",
      "  warnings.warn('Custom mask layers require a config and must override '\n"
     ]
    },
    {
     "name": "stdout",
     "output_type": "stream",
     "text": [
      "Epoch 1/5\n"
     ]
    },
    {
     "name": "stderr",
     "output_type": "stream",
     "text": [
      "2022-12-13 02:10:35.742821: I tensorflow/core/grappler/optimizers/custom_graph_optimizer_registry.cc:112] Plugin optimizer for device_type GPU is enabled.\n"
     ]
    },
    {
     "name": "stdout",
     "output_type": "stream",
     "text": [
      "\r",
      " 1/24 [>.............................] - ETA: 2:25 - loss: 2.4337 - accuracy: 0.1562"
     ]
    },
    {
     "name": "stderr",
     "output_type": "stream",
     "text": [
      "2022-12-13 02:10:41.105553: I tensorflow/core/profiler/lib/profiler_session.cc:126] Profiler session initializing.\n",
      "2022-12-13 02:10:41.105569: I tensorflow/core/profiler/lib/profiler_session.cc:141] Profiler session started.\n"
     ]
    },
    {
     "name": "stdout",
     "output_type": "stream",
     "text": [
      "\b\b\b\b\b\b\b\b\b\b\b\b\b\b\b\b\b\b\b\b\b\b\b\b\b\b\b\b\b\b\b\b\b\b\b\b\b\b\b\b\b\b\b\b\b\b\b\b\b\b\b\b\b\b\b\b\b\b\b\b\b\b\b\b\b\b\b\b\b\b\b\b\b\b\b\b\b\b\b\b\b\b\b\b\r",
      " 2/24 [=>............................] - ETA: 9s - loss: 2.3759 - accuracy: 0.1406  "
     ]
    },
    {
     "name": "stderr",
     "output_type": "stream",
     "text": [
      "2022-12-13 02:10:41.488339: I tensorflow/core/profiler/lib/profiler_session.cc:66] Profiler session collecting data.\n",
      "2022-12-13 02:10:41.490237: I tensorflow/core/profiler/lib/profiler_session.cc:159] Profiler session tear down.\n",
      "2022-12-13 02:10:41.492382: I tensorflow/core/profiler/rpc/client/save_profile.cc:137] Creating directory: transfer_learning/10_percent_feature_extract/20221213-021034/train/plugins/profile/2022_12_13_02_10_41\n",
      "2022-12-13 02:10:41.494107: I tensorflow/core/profiler/rpc/client/save_profile.cc:143] Dumped gzipped tool data for trace.json.gz to transfer_learning/10_percent_feature_extract/20221213-021034/train/plugins/profile/2022_12_13_02_10_41/SNIGDHAs-MacBook-Air-2.local.trace.json.gz\n",
      "2022-12-13 02:10:41.495541: I tensorflow/core/profiler/rpc/client/save_profile.cc:137] Creating directory: transfer_learning/10_percent_feature_extract/20221213-021034/train/plugins/profile/2022_12_13_02_10_41\n",
      "2022-12-13 02:10:41.495737: I tensorflow/core/profiler/rpc/client/save_profile.cc:143] Dumped gzipped tool data for memory_profile.json.gz to transfer_learning/10_percent_feature_extract/20221213-021034/train/plugins/profile/2022_12_13_02_10_41/SNIGDHAs-MacBook-Air-2.local.memory_profile.json.gz\n",
      "2022-12-13 02:10:41.499386: I tensorflow/core/profiler/rpc/client/capture_profile.cc:251] Creating directory: transfer_learning/10_percent_feature_extract/20221213-021034/train/plugins/profile/2022_12_13_02_10_41Dumped tool data for xplane.pb to transfer_learning/10_percent_feature_extract/20221213-021034/train/plugins/profile/2022_12_13_02_10_41/SNIGDHAs-MacBook-Air-2.local.xplane.pb\n",
      "Dumped tool data for overview_page.pb to transfer_learning/10_percent_feature_extract/20221213-021034/train/plugins/profile/2022_12_13_02_10_41/SNIGDHAs-MacBook-Air-2.local.overview_page.pb\n",
      "Dumped tool data for input_pipeline.pb to transfer_learning/10_percent_feature_extract/20221213-021034/train/plugins/profile/2022_12_13_02_10_41/SNIGDHAs-MacBook-Air-2.local.input_pipeline.pb\n",
      "Dumped tool data for tensorflow_stats.pb to transfer_learning/10_percent_feature_extract/20221213-021034/train/plugins/profile/2022_12_13_02_10_41/SNIGDHAs-MacBook-Air-2.local.tensorflow_stats.pb\n",
      "Dumped tool data for kernel_stats.pb to transfer_learning/10_percent_feature_extract/20221213-021034/train/plugins/profile/2022_12_13_02_10_41/SNIGDHAs-MacBook-Air-2.local.kernel_stats.pb\n",
      "\n"
     ]
    },
    {
     "name": "stdout",
     "output_type": "stream",
     "text": [
      "24/24 [==============================] - ETA: 0s - loss: 1.9718 - accuracy: 0.3880"
     ]
    },
    {
     "name": "stderr",
     "output_type": "stream",
     "text": [
      "2022-12-13 02:10:47.460469: I tensorflow/core/grappler/optimizers/custom_graph_optimizer_registry.cc:112] Plugin optimizer for device_type GPU is enabled.\n"
     ]
    },
    {
     "name": "stdout",
     "output_type": "stream",
     "text": [
      "24/24 [==============================] - 18s 496ms/step - loss: 1.9718 - accuracy: 0.3880 - val_loss: 1.3998 - val_accuracy: 0.6776\n",
      "Epoch 2/5\n",
      "24/24 [==============================] - 11s 445ms/step - loss: 1.1827 - accuracy: 0.7413 - val_loss: 0.9565 - val_accuracy: 0.8026\n",
      "Epoch 3/5\n",
      "24/24 [==============================] - 11s 445ms/step - loss: 0.8633 - accuracy: 0.8080 - val_loss: 0.7903 - val_accuracy: 0.7993\n",
      "Epoch 4/5\n",
      "24/24 [==============================] - 11s 446ms/step - loss: 0.7033 - accuracy: 0.8453 - val_loss: 0.6844 - val_accuracy: 0.8257\n",
      "Epoch 5/5\n",
      "24/24 [==============================] - 11s 452ms/step - loss: 0.6046 - accuracy: 0.8560 - val_loss: 0.6376 - val_accuracy: 0.8240\n"
     ]
    }
   ],
   "source": [
    "# 1. Create base model with tf.keras.applications\n",
    "base_model = tf.keras.applications.EfficientNetB0(include_top=False) #we are not including top layer as we want to add our own dense layer\n",
    "\n",
    "# 2. Freeze the base model (so the pre-learned patterns remain)\n",
    "base_model.trainable = False\n",
    "\n",
    "# 3. Create inputs into the base model\n",
    "inputs = tf.keras.layers.Input(shape=(224, 224, 3), name=\"input_layer\")\n",
    "\n",
    "# 4. If using ResNet50V2, add this to speed up convergence, remove for EfficientNet\n",
    "# x = tf.keras.layers.experimental.preprocessing.Rescaling(1./255)(inputs)\n",
    "\n",
    "# 5. Pass the inputs to the base_model (note: using tf.keras.applications, EfficientNet inputs don't have to be normalized)\n",
    "x = base_model(inputs)\n",
    "# Check data shape after passing it to base_model\n",
    "print(f\"Shape after base_model: {x.shape}\")\n",
    "\n",
    "# 6. Average pool the outputs of the base model (aggregate all the most important information, reduce number of computations)\n",
    "x = tf.keras.layers.GlobalAveragePooling2D(name=\"global_average_pooling_layer\")(x)\n",
    "print(f\"After GlobalAveragePooling2D(): {x.shape}\")\n",
    "\n",
    "# 7. Create the output activation layer\n",
    "outputs = tf.keras.layers.Dense(10, activation=\"softmax\", name=\"output_layer\")(x)\n",
    "\n",
    "# 8. Combine the inputs with the outputs into a model\n",
    "model_0 = tf.keras.Model(inputs, outputs)\n",
    "\n",
    "# 9. Compile the model\n",
    "model_0.compile(loss='categorical_crossentropy',\n",
    "              optimizer=tf.keras.optimizers.Adam(),\n",
    "              metrics=[\"accuracy\"])\n",
    "\n",
    "# 10. Fit the model (we use less steps for validation so it's faster)\n",
    "history_10_percent = model_0.fit(train_data_10_percent,\n",
    "                                 epochs=5,\n",
    "                                 steps_per_epoch=len(train_data_10_percent),\n",
    "                                 validation_data=test_data_10_percent,\n",
    "                                 # Go through less of the validation data so epochs are faster (we want faster experiments!)\n",
    "                                 validation_steps=int(0.25 * len(test_data_10_percent)), \n",
    "                                 # Track our model's training logs for visualization later\n",
    "                                 callbacks=[create_tensorboard_callback(\"transfer_learning\", \"10_percent_feature_extract\")])\n",
    "     "
   ]
  },
  {
   "cell_type": "markdown",
   "id": "984c6028",
   "metadata": {},
   "source": [
    "Nice! After a minute or so of training our model performs incredibly well on both the training (87%+ accuracy) and test sets (~83% accuracy).\n",
    "\n",
    "This is incredible. All thanks to the power of transfer learning.\n",
    "\n",
    "It's important to note the kind of transfer learning we used here is called feature extraction transfer learning, similar to what we did with the TensorFlow Hub models.\n",
    "\n",
    "In other words, we passed our custom data to an already pre-trained model (`EfficientNetB0`), asked it \"what patterns do you see?\" and then put our own output layer on top to make sure the outputs were tailored to our desired number of classes.\n",
    "\n",
    "We also used the Keras Functional API to build our model rather than the Sequential API. For now, the benefits of this main not seem clear but when you start to build more sophisticated models, you'll probably want to use the Functional API. So it's important to have exposure to this way of building models.\n",
    "\n",
    "**📖 Resource:** To see the benefits and use cases of the Functional API versus the Sequential API, check out the [TensorFlow Functional API documentation](https://www.tensorflow.org/guide/keras/functional).\n",
    "\n",
    "Let's inspect the layers in our model, we'll start with the base."
   ]
  },
  {
   "cell_type": "code",
   "execution_count": 13,
   "id": "20d2a7c4",
   "metadata": {},
   "outputs": [
    {
     "name": "stdout",
     "output_type": "stream",
     "text": [
      "0 input_1\n",
      "1 rescaling\n",
      "2 normalization\n",
      "3 stem_conv_pad\n",
      "4 stem_conv\n",
      "5 stem_bn\n",
      "6 stem_activation\n",
      "7 block1a_dwconv\n",
      "8 block1a_bn\n",
      "9 block1a_activation\n",
      "10 block1a_se_squeeze\n",
      "11 block1a_se_reshape\n",
      "12 block1a_se_reduce\n",
      "13 block1a_se_expand\n",
      "14 block1a_se_excite\n",
      "15 block1a_project_conv\n",
      "16 block1a_project_bn\n",
      "17 block2a_expand_conv\n",
      "18 block2a_expand_bn\n",
      "19 block2a_expand_activation\n",
      "20 block2a_dwconv_pad\n",
      "21 block2a_dwconv\n",
      "22 block2a_bn\n",
      "23 block2a_activation\n",
      "24 block2a_se_squeeze\n",
      "25 block2a_se_reshape\n",
      "26 block2a_se_reduce\n",
      "27 block2a_se_expand\n",
      "28 block2a_se_excite\n",
      "29 block2a_project_conv\n",
      "30 block2a_project_bn\n",
      "31 block2b_expand_conv\n",
      "32 block2b_expand_bn\n",
      "33 block2b_expand_activation\n",
      "34 block2b_dwconv\n",
      "35 block2b_bn\n",
      "36 block2b_activation\n",
      "37 block2b_se_squeeze\n",
      "38 block2b_se_reshape\n",
      "39 block2b_se_reduce\n",
      "40 block2b_se_expand\n",
      "41 block2b_se_excite\n",
      "42 block2b_project_conv\n",
      "43 block2b_project_bn\n",
      "44 block2b_drop\n",
      "45 block2b_add\n",
      "46 block3a_expand_conv\n",
      "47 block3a_expand_bn\n",
      "48 block3a_expand_activation\n",
      "49 block3a_dwconv_pad\n",
      "50 block3a_dwconv\n",
      "51 block3a_bn\n",
      "52 block3a_activation\n",
      "53 block3a_se_squeeze\n",
      "54 block3a_se_reshape\n",
      "55 block3a_se_reduce\n",
      "56 block3a_se_expand\n",
      "57 block3a_se_excite\n",
      "58 block3a_project_conv\n",
      "59 block3a_project_bn\n",
      "60 block3b_expand_conv\n",
      "61 block3b_expand_bn\n",
      "62 block3b_expand_activation\n",
      "63 block3b_dwconv\n",
      "64 block3b_bn\n",
      "65 block3b_activation\n",
      "66 block3b_se_squeeze\n",
      "67 block3b_se_reshape\n",
      "68 block3b_se_reduce\n",
      "69 block3b_se_expand\n",
      "70 block3b_se_excite\n",
      "71 block3b_project_conv\n",
      "72 block3b_project_bn\n",
      "73 block3b_drop\n",
      "74 block3b_add\n",
      "75 block4a_expand_conv\n",
      "76 block4a_expand_bn\n",
      "77 block4a_expand_activation\n",
      "78 block4a_dwconv_pad\n",
      "79 block4a_dwconv\n",
      "80 block4a_bn\n",
      "81 block4a_activation\n",
      "82 block4a_se_squeeze\n",
      "83 block4a_se_reshape\n",
      "84 block4a_se_reduce\n",
      "85 block4a_se_expand\n",
      "86 block4a_se_excite\n",
      "87 block4a_project_conv\n",
      "88 block4a_project_bn\n",
      "89 block4b_expand_conv\n",
      "90 block4b_expand_bn\n",
      "91 block4b_expand_activation\n",
      "92 block4b_dwconv\n",
      "93 block4b_bn\n",
      "94 block4b_activation\n",
      "95 block4b_se_squeeze\n",
      "96 block4b_se_reshape\n",
      "97 block4b_se_reduce\n",
      "98 block4b_se_expand\n",
      "99 block4b_se_excite\n",
      "100 block4b_project_conv\n",
      "101 block4b_project_bn\n",
      "102 block4b_drop\n",
      "103 block4b_add\n",
      "104 block4c_expand_conv\n",
      "105 block4c_expand_bn\n",
      "106 block4c_expand_activation\n",
      "107 block4c_dwconv\n",
      "108 block4c_bn\n",
      "109 block4c_activation\n",
      "110 block4c_se_squeeze\n",
      "111 block4c_se_reshape\n",
      "112 block4c_se_reduce\n",
      "113 block4c_se_expand\n",
      "114 block4c_se_excite\n",
      "115 block4c_project_conv\n",
      "116 block4c_project_bn\n",
      "117 block4c_drop\n",
      "118 block4c_add\n",
      "119 block5a_expand_conv\n",
      "120 block5a_expand_bn\n",
      "121 block5a_expand_activation\n",
      "122 block5a_dwconv\n",
      "123 block5a_bn\n",
      "124 block5a_activation\n",
      "125 block5a_se_squeeze\n",
      "126 block5a_se_reshape\n",
      "127 block5a_se_reduce\n",
      "128 block5a_se_expand\n",
      "129 block5a_se_excite\n",
      "130 block5a_project_conv\n",
      "131 block5a_project_bn\n",
      "132 block5b_expand_conv\n",
      "133 block5b_expand_bn\n",
      "134 block5b_expand_activation\n",
      "135 block5b_dwconv\n",
      "136 block5b_bn\n",
      "137 block5b_activation\n",
      "138 block5b_se_squeeze\n",
      "139 block5b_se_reshape\n",
      "140 block5b_se_reduce\n",
      "141 block5b_se_expand\n",
      "142 block5b_se_excite\n",
      "143 block5b_project_conv\n",
      "144 block5b_project_bn\n",
      "145 block5b_drop\n",
      "146 block5b_add\n",
      "147 block5c_expand_conv\n",
      "148 block5c_expand_bn\n",
      "149 block5c_expand_activation\n",
      "150 block5c_dwconv\n",
      "151 block5c_bn\n",
      "152 block5c_activation\n",
      "153 block5c_se_squeeze\n",
      "154 block5c_se_reshape\n",
      "155 block5c_se_reduce\n",
      "156 block5c_se_expand\n",
      "157 block5c_se_excite\n",
      "158 block5c_project_conv\n",
      "159 block5c_project_bn\n",
      "160 block5c_drop\n",
      "161 block5c_add\n",
      "162 block6a_expand_conv\n",
      "163 block6a_expand_bn\n",
      "164 block6a_expand_activation\n",
      "165 block6a_dwconv_pad\n",
      "166 block6a_dwconv\n",
      "167 block6a_bn\n",
      "168 block6a_activation\n",
      "169 block6a_se_squeeze\n",
      "170 block6a_se_reshape\n",
      "171 block6a_se_reduce\n",
      "172 block6a_se_expand\n",
      "173 block6a_se_excite\n",
      "174 block6a_project_conv\n",
      "175 block6a_project_bn\n",
      "176 block6b_expand_conv\n",
      "177 block6b_expand_bn\n",
      "178 block6b_expand_activation\n",
      "179 block6b_dwconv\n",
      "180 block6b_bn\n",
      "181 block6b_activation\n",
      "182 block6b_se_squeeze\n",
      "183 block6b_se_reshape\n",
      "184 block6b_se_reduce\n",
      "185 block6b_se_expand\n",
      "186 block6b_se_excite\n",
      "187 block6b_project_conv\n",
      "188 block6b_project_bn\n",
      "189 block6b_drop\n",
      "190 block6b_add\n",
      "191 block6c_expand_conv\n",
      "192 block6c_expand_bn\n",
      "193 block6c_expand_activation\n",
      "194 block6c_dwconv\n",
      "195 block6c_bn\n",
      "196 block6c_activation\n",
      "197 block6c_se_squeeze\n",
      "198 block6c_se_reshape\n",
      "199 block6c_se_reduce\n",
      "200 block6c_se_expand\n",
      "201 block6c_se_excite\n",
      "202 block6c_project_conv\n",
      "203 block6c_project_bn\n",
      "204 block6c_drop\n",
      "205 block6c_add\n",
      "206 block6d_expand_conv\n",
      "207 block6d_expand_bn\n",
      "208 block6d_expand_activation\n",
      "209 block6d_dwconv\n",
      "210 block6d_bn\n",
      "211 block6d_activation\n",
      "212 block6d_se_squeeze\n",
      "213 block6d_se_reshape\n",
      "214 block6d_se_reduce\n",
      "215 block6d_se_expand\n",
      "216 block6d_se_excite\n",
      "217 block6d_project_conv\n",
      "218 block6d_project_bn\n",
      "219 block6d_drop\n",
      "220 block6d_add\n",
      "221 block7a_expand_conv\n",
      "222 block7a_expand_bn\n",
      "223 block7a_expand_activation\n",
      "224 block7a_dwconv\n",
      "225 block7a_bn\n",
      "226 block7a_activation\n",
      "227 block7a_se_squeeze\n",
      "228 block7a_se_reshape\n",
      "229 block7a_se_reduce\n",
      "230 block7a_se_expand\n",
      "231 block7a_se_excite\n",
      "232 block7a_project_conv\n",
      "233 block7a_project_bn\n",
      "234 top_conv\n",
      "235 top_bn\n",
      "236 top_activation\n"
     ]
    }
   ],
   "source": [
    "# Check layers in our base model\n",
    "for layer_number, layer in enumerate(base_model.layers):\n",
    "  print(layer_number, layer.name)"
   ]
  },
  {
   "cell_type": "markdown",
   "id": "f1d845a5",
   "metadata": {},
   "source": [
    "Wow, that's a lot of layers... to handcode all of those would've taken a fairly long time to do, yet we can still take advatange of them thanks to the power of transfer learning.\n",
    "\n",
    "How about a summary of the base model?"
   ]
  },
  {
   "cell_type": "code",
   "execution_count": 14,
   "id": "8eb9cd49",
   "metadata": {},
   "outputs": [
    {
     "name": "stdout",
     "output_type": "stream",
     "text": [
      "Model: \"efficientnetb0\"\n",
      "__________________________________________________________________________________________________\n",
      "Layer (type)                    Output Shape         Param #     Connected to                     \n",
      "==================================================================================================\n",
      "input_1 (InputLayer)            [(None, None, None,  0                                            \n",
      "__________________________________________________________________________________________________\n",
      "rescaling (Rescaling)           (None, None, None, 3 0           input_1[0][0]                    \n",
      "__________________________________________________________________________________________________\n",
      "normalization (Normalization)   (None, None, None, 3 7           rescaling[0][0]                  \n",
      "__________________________________________________________________________________________________\n",
      "stem_conv_pad (ZeroPadding2D)   (None, None, None, 3 0           normalization[0][0]              \n",
      "__________________________________________________________________________________________________\n",
      "stem_conv (Conv2D)              (None, None, None, 3 864         stem_conv_pad[0][0]              \n",
      "__________________________________________________________________________________________________\n",
      "stem_bn (BatchNormalization)    (None, None, None, 3 128         stem_conv[0][0]                  \n",
      "__________________________________________________________________________________________________\n",
      "stem_activation (Activation)    (None, None, None, 3 0           stem_bn[0][0]                    \n",
      "__________________________________________________________________________________________________\n",
      "block1a_dwconv (DepthwiseConv2D (None, None, None, 3 288         stem_activation[0][0]            \n",
      "__________________________________________________________________________________________________\n",
      "block1a_bn (BatchNormalization) (None, None, None, 3 128         block1a_dwconv[0][0]             \n",
      "__________________________________________________________________________________________________\n",
      "block1a_activation (Activation) (None, None, None, 3 0           block1a_bn[0][0]                 \n",
      "__________________________________________________________________________________________________\n",
      "block1a_se_squeeze (GlobalAvera (None, 32)           0           block1a_activation[0][0]         \n",
      "__________________________________________________________________________________________________\n",
      "block1a_se_reshape (Reshape)    (None, 1, 1, 32)     0           block1a_se_squeeze[0][0]         \n",
      "__________________________________________________________________________________________________\n",
      "block1a_se_reduce (Conv2D)      (None, 1, 1, 8)      264         block1a_se_reshape[0][0]         \n",
      "__________________________________________________________________________________________________\n",
      "block1a_se_expand (Conv2D)      (None, 1, 1, 32)     288         block1a_se_reduce[0][0]          \n",
      "__________________________________________________________________________________________________\n",
      "block1a_se_excite (Multiply)    (None, None, None, 3 0           block1a_activation[0][0]         \n",
      "                                                                 block1a_se_expand[0][0]          \n",
      "__________________________________________________________________________________________________\n",
      "block1a_project_conv (Conv2D)   (None, None, None, 1 512         block1a_se_excite[0][0]          \n",
      "__________________________________________________________________________________________________\n",
      "block1a_project_bn (BatchNormal (None, None, None, 1 64          block1a_project_conv[0][0]       \n",
      "__________________________________________________________________________________________________\n",
      "block2a_expand_conv (Conv2D)    (None, None, None, 9 1536        block1a_project_bn[0][0]         \n",
      "__________________________________________________________________________________________________\n",
      "block2a_expand_bn (BatchNormali (None, None, None, 9 384         block2a_expand_conv[0][0]        \n",
      "__________________________________________________________________________________________________\n",
      "block2a_expand_activation (Acti (None, None, None, 9 0           block2a_expand_bn[0][0]          \n",
      "__________________________________________________________________________________________________\n",
      "block2a_dwconv_pad (ZeroPadding (None, None, None, 9 0           block2a_expand_activation[0][0]  \n",
      "__________________________________________________________________________________________________\n",
      "block2a_dwconv (DepthwiseConv2D (None, None, None, 9 864         block2a_dwconv_pad[0][0]         \n",
      "__________________________________________________________________________________________________\n",
      "block2a_bn (BatchNormalization) (None, None, None, 9 384         block2a_dwconv[0][0]             \n",
      "__________________________________________________________________________________________________\n",
      "block2a_activation (Activation) (None, None, None, 9 0           block2a_bn[0][0]                 \n",
      "__________________________________________________________________________________________________\n",
      "block2a_se_squeeze (GlobalAvera (None, 96)           0           block2a_activation[0][0]         \n",
      "__________________________________________________________________________________________________\n",
      "block2a_se_reshape (Reshape)    (None, 1, 1, 96)     0           block2a_se_squeeze[0][0]         \n",
      "__________________________________________________________________________________________________\n",
      "block2a_se_reduce (Conv2D)      (None, 1, 1, 4)      388         block2a_se_reshape[0][0]         \n",
      "__________________________________________________________________________________________________\n",
      "block2a_se_expand (Conv2D)      (None, 1, 1, 96)     480         block2a_se_reduce[0][0]          \n",
      "__________________________________________________________________________________________________\n",
      "block2a_se_excite (Multiply)    (None, None, None, 9 0           block2a_activation[0][0]         \n",
      "                                                                 block2a_se_expand[0][0]          \n",
      "__________________________________________________________________________________________________\n",
      "block2a_project_conv (Conv2D)   (None, None, None, 2 2304        block2a_se_excite[0][0]          \n",
      "__________________________________________________________________________________________________\n",
      "block2a_project_bn (BatchNormal (None, None, None, 2 96          block2a_project_conv[0][0]       \n",
      "__________________________________________________________________________________________________\n",
      "block2b_expand_conv (Conv2D)    (None, None, None, 1 3456        block2a_project_bn[0][0]         \n",
      "__________________________________________________________________________________________________\n",
      "block2b_expand_bn (BatchNormali (None, None, None, 1 576         block2b_expand_conv[0][0]        \n",
      "__________________________________________________________________________________________________\n",
      "block2b_expand_activation (Acti (None, None, None, 1 0           block2b_expand_bn[0][0]          \n",
      "__________________________________________________________________________________________________\n",
      "block2b_dwconv (DepthwiseConv2D (None, None, None, 1 1296        block2b_expand_activation[0][0]  \n",
      "__________________________________________________________________________________________________\n",
      "block2b_bn (BatchNormalization) (None, None, None, 1 576         block2b_dwconv[0][0]             \n",
      "__________________________________________________________________________________________________\n",
      "block2b_activation (Activation) (None, None, None, 1 0           block2b_bn[0][0]                 \n",
      "__________________________________________________________________________________________________\n",
      "block2b_se_squeeze (GlobalAvera (None, 144)          0           block2b_activation[0][0]         \n",
      "__________________________________________________________________________________________________\n",
      "block2b_se_reshape (Reshape)    (None, 1, 1, 144)    0           block2b_se_squeeze[0][0]         \n",
      "__________________________________________________________________________________________________\n",
      "block2b_se_reduce (Conv2D)      (None, 1, 1, 6)      870         block2b_se_reshape[0][0]         \n",
      "__________________________________________________________________________________________________\n",
      "block2b_se_expand (Conv2D)      (None, 1, 1, 144)    1008        block2b_se_reduce[0][0]          \n",
      "__________________________________________________________________________________________________\n",
      "block2b_se_excite (Multiply)    (None, None, None, 1 0           block2b_activation[0][0]         \n",
      "                                                                 block2b_se_expand[0][0]          \n",
      "__________________________________________________________________________________________________\n",
      "block2b_project_conv (Conv2D)   (None, None, None, 2 3456        block2b_se_excite[0][0]          \n",
      "__________________________________________________________________________________________________\n",
      "block2b_project_bn (BatchNormal (None, None, None, 2 96          block2b_project_conv[0][0]       \n",
      "__________________________________________________________________________________________________\n",
      "block2b_drop (Dropout)          (None, None, None, 2 0           block2b_project_bn[0][0]         \n",
      "__________________________________________________________________________________________________\n",
      "block2b_add (Add)               (None, None, None, 2 0           block2b_drop[0][0]               \n",
      "                                                                 block2a_project_bn[0][0]         \n",
      "__________________________________________________________________________________________________\n",
      "block3a_expand_conv (Conv2D)    (None, None, None, 1 3456        block2b_add[0][0]                \n",
      "__________________________________________________________________________________________________\n",
      "block3a_expand_bn (BatchNormali (None, None, None, 1 576         block3a_expand_conv[0][0]        \n",
      "__________________________________________________________________________________________________\n",
      "block3a_expand_activation (Acti (None, None, None, 1 0           block3a_expand_bn[0][0]          \n",
      "__________________________________________________________________________________________________\n",
      "block3a_dwconv_pad (ZeroPadding (None, None, None, 1 0           block3a_expand_activation[0][0]  \n",
      "__________________________________________________________________________________________________\n",
      "block3a_dwconv (DepthwiseConv2D (None, None, None, 1 3600        block3a_dwconv_pad[0][0]         \n",
      "__________________________________________________________________________________________________\n",
      "block3a_bn (BatchNormalization) (None, None, None, 1 576         block3a_dwconv[0][0]             \n",
      "__________________________________________________________________________________________________\n",
      "block3a_activation (Activation) (None, None, None, 1 0           block3a_bn[0][0]                 \n",
      "__________________________________________________________________________________________________\n",
      "block3a_se_squeeze (GlobalAvera (None, 144)          0           block3a_activation[0][0]         \n",
      "__________________________________________________________________________________________________\n",
      "block3a_se_reshape (Reshape)    (None, 1, 1, 144)    0           block3a_se_squeeze[0][0]         \n",
      "__________________________________________________________________________________________________\n",
      "block3a_se_reduce (Conv2D)      (None, 1, 1, 6)      870         block3a_se_reshape[0][0]         \n",
      "__________________________________________________________________________________________________\n",
      "block3a_se_expand (Conv2D)      (None, 1, 1, 144)    1008        block3a_se_reduce[0][0]          \n",
      "__________________________________________________________________________________________________\n",
      "block3a_se_excite (Multiply)    (None, None, None, 1 0           block3a_activation[0][0]         \n",
      "                                                                 block3a_se_expand[0][0]          \n",
      "__________________________________________________________________________________________________\n",
      "block3a_project_conv (Conv2D)   (None, None, None, 4 5760        block3a_se_excite[0][0]          \n",
      "__________________________________________________________________________________________________\n",
      "block3a_project_bn (BatchNormal (None, None, None, 4 160         block3a_project_conv[0][0]       \n",
      "__________________________________________________________________________________________________\n",
      "block3b_expand_conv (Conv2D)    (None, None, None, 2 9600        block3a_project_bn[0][0]         \n",
      "__________________________________________________________________________________________________\n",
      "block3b_expand_bn (BatchNormali (None, None, None, 2 960         block3b_expand_conv[0][0]        \n",
      "__________________________________________________________________________________________________\n",
      "block3b_expand_activation (Acti (None, None, None, 2 0           block3b_expand_bn[0][0]          \n",
      "__________________________________________________________________________________________________\n",
      "block3b_dwconv (DepthwiseConv2D (None, None, None, 2 6000        block3b_expand_activation[0][0]  \n",
      "__________________________________________________________________________________________________\n",
      "block3b_bn (BatchNormalization) (None, None, None, 2 960         block3b_dwconv[0][0]             \n",
      "__________________________________________________________________________________________________\n",
      "block3b_activation (Activation) (None, None, None, 2 0           block3b_bn[0][0]                 \n",
      "__________________________________________________________________________________________________\n",
      "block3b_se_squeeze (GlobalAvera (None, 240)          0           block3b_activation[0][0]         \n",
      "__________________________________________________________________________________________________\n",
      "block3b_se_reshape (Reshape)    (None, 1, 1, 240)    0           block3b_se_squeeze[0][0]         \n",
      "__________________________________________________________________________________________________\n",
      "block3b_se_reduce (Conv2D)      (None, 1, 1, 10)     2410        block3b_se_reshape[0][0]         \n",
      "__________________________________________________________________________________________________\n",
      "block3b_se_expand (Conv2D)      (None, 1, 1, 240)    2640        block3b_se_reduce[0][0]          \n",
      "__________________________________________________________________________________________________\n",
      "block3b_se_excite (Multiply)    (None, None, None, 2 0           block3b_activation[0][0]         \n",
      "                                                                 block3b_se_expand[0][0]          \n",
      "__________________________________________________________________________________________________\n",
      "block3b_project_conv (Conv2D)   (None, None, None, 4 9600        block3b_se_excite[0][0]          \n",
      "__________________________________________________________________________________________________\n",
      "block3b_project_bn (BatchNormal (None, None, None, 4 160         block3b_project_conv[0][0]       \n",
      "__________________________________________________________________________________________________\n",
      "block3b_drop (Dropout)          (None, None, None, 4 0           block3b_project_bn[0][0]         \n",
      "__________________________________________________________________________________________________\n",
      "block3b_add (Add)               (None, None, None, 4 0           block3b_drop[0][0]               \n",
      "                                                                 block3a_project_bn[0][0]         \n",
      "__________________________________________________________________________________________________\n",
      "block4a_expand_conv (Conv2D)    (None, None, None, 2 9600        block3b_add[0][0]                \n",
      "__________________________________________________________________________________________________\n",
      "block4a_expand_bn (BatchNormali (None, None, None, 2 960         block4a_expand_conv[0][0]        \n",
      "__________________________________________________________________________________________________\n",
      "block4a_expand_activation (Acti (None, None, None, 2 0           block4a_expand_bn[0][0]          \n",
      "__________________________________________________________________________________________________\n",
      "block4a_dwconv_pad (ZeroPadding (None, None, None, 2 0           block4a_expand_activation[0][0]  \n",
      "__________________________________________________________________________________________________\n",
      "block4a_dwconv (DepthwiseConv2D (None, None, None, 2 2160        block4a_dwconv_pad[0][0]         \n",
      "__________________________________________________________________________________________________\n",
      "block4a_bn (BatchNormalization) (None, None, None, 2 960         block4a_dwconv[0][0]             \n",
      "__________________________________________________________________________________________________\n",
      "block4a_activation (Activation) (None, None, None, 2 0           block4a_bn[0][0]                 \n",
      "__________________________________________________________________________________________________\n",
      "block4a_se_squeeze (GlobalAvera (None, 240)          0           block4a_activation[0][0]         \n",
      "__________________________________________________________________________________________________\n",
      "block4a_se_reshape (Reshape)    (None, 1, 1, 240)    0           block4a_se_squeeze[0][0]         \n",
      "__________________________________________________________________________________________________\n",
      "block4a_se_reduce (Conv2D)      (None, 1, 1, 10)     2410        block4a_se_reshape[0][0]         \n",
      "__________________________________________________________________________________________________\n",
      "block4a_se_expand (Conv2D)      (None, 1, 1, 240)    2640        block4a_se_reduce[0][0]          \n",
      "__________________________________________________________________________________________________\n",
      "block4a_se_excite (Multiply)    (None, None, None, 2 0           block4a_activation[0][0]         \n",
      "                                                                 block4a_se_expand[0][0]          \n",
      "__________________________________________________________________________________________________\n",
      "block4a_project_conv (Conv2D)   (None, None, None, 8 19200       block4a_se_excite[0][0]          \n",
      "__________________________________________________________________________________________________\n",
      "block4a_project_bn (BatchNormal (None, None, None, 8 320         block4a_project_conv[0][0]       \n",
      "__________________________________________________________________________________________________\n",
      "block4b_expand_conv (Conv2D)    (None, None, None, 4 38400       block4a_project_bn[0][0]         \n",
      "__________________________________________________________________________________________________\n",
      "block4b_expand_bn (BatchNormali (None, None, None, 4 1920        block4b_expand_conv[0][0]        \n",
      "__________________________________________________________________________________________________\n",
      "block4b_expand_activation (Acti (None, None, None, 4 0           block4b_expand_bn[0][0]          \n",
      "__________________________________________________________________________________________________\n",
      "block4b_dwconv (DepthwiseConv2D (None, None, None, 4 4320        block4b_expand_activation[0][0]  \n",
      "__________________________________________________________________________________________________\n",
      "block4b_bn (BatchNormalization) (None, None, None, 4 1920        block4b_dwconv[0][0]             \n",
      "__________________________________________________________________________________________________\n",
      "block4b_activation (Activation) (None, None, None, 4 0           block4b_bn[0][0]                 \n",
      "__________________________________________________________________________________________________\n",
      "block4b_se_squeeze (GlobalAvera (None, 480)          0           block4b_activation[0][0]         \n",
      "__________________________________________________________________________________________________\n",
      "block4b_se_reshape (Reshape)    (None, 1, 1, 480)    0           block4b_se_squeeze[0][0]         \n",
      "__________________________________________________________________________________________________\n",
      "block4b_se_reduce (Conv2D)      (None, 1, 1, 20)     9620        block4b_se_reshape[0][0]         \n",
      "__________________________________________________________________________________________________\n",
      "block4b_se_expand (Conv2D)      (None, 1, 1, 480)    10080       block4b_se_reduce[0][0]          \n",
      "__________________________________________________________________________________________________\n",
      "block4b_se_excite (Multiply)    (None, None, None, 4 0           block4b_activation[0][0]         \n",
      "                                                                 block4b_se_expand[0][0]          \n",
      "__________________________________________________________________________________________________\n",
      "block4b_project_conv (Conv2D)   (None, None, None, 8 38400       block4b_se_excite[0][0]          \n",
      "__________________________________________________________________________________________________\n",
      "block4b_project_bn (BatchNormal (None, None, None, 8 320         block4b_project_conv[0][0]       \n",
      "__________________________________________________________________________________________________\n",
      "block4b_drop (Dropout)          (None, None, None, 8 0           block4b_project_bn[0][0]         \n",
      "__________________________________________________________________________________________________\n",
      "block4b_add (Add)               (None, None, None, 8 0           block4b_drop[0][0]               \n",
      "                                                                 block4a_project_bn[0][0]         \n",
      "__________________________________________________________________________________________________\n",
      "block4c_expand_conv (Conv2D)    (None, None, None, 4 38400       block4b_add[0][0]                \n",
      "__________________________________________________________________________________________________\n",
      "block4c_expand_bn (BatchNormali (None, None, None, 4 1920        block4c_expand_conv[0][0]        \n",
      "__________________________________________________________________________________________________\n",
      "block4c_expand_activation (Acti (None, None, None, 4 0           block4c_expand_bn[0][0]          \n",
      "__________________________________________________________________________________________________\n",
      "block4c_dwconv (DepthwiseConv2D (None, None, None, 4 4320        block4c_expand_activation[0][0]  \n",
      "__________________________________________________________________________________________________\n",
      "block4c_bn (BatchNormalization) (None, None, None, 4 1920        block4c_dwconv[0][0]             \n",
      "__________________________________________________________________________________________________\n",
      "block4c_activation (Activation) (None, None, None, 4 0           block4c_bn[0][0]                 \n",
      "__________________________________________________________________________________________________\n",
      "block4c_se_squeeze (GlobalAvera (None, 480)          0           block4c_activation[0][0]         \n",
      "__________________________________________________________________________________________________\n",
      "block4c_se_reshape (Reshape)    (None, 1, 1, 480)    0           block4c_se_squeeze[0][0]         \n",
      "__________________________________________________________________________________________________\n",
      "block4c_se_reduce (Conv2D)      (None, 1, 1, 20)     9620        block4c_se_reshape[0][0]         \n",
      "__________________________________________________________________________________________________\n",
      "block4c_se_expand (Conv2D)      (None, 1, 1, 480)    10080       block4c_se_reduce[0][0]          \n",
      "__________________________________________________________________________________________________\n",
      "block4c_se_excite (Multiply)    (None, None, None, 4 0           block4c_activation[0][0]         \n",
      "                                                                 block4c_se_expand[0][0]          \n",
      "__________________________________________________________________________________________________\n",
      "block4c_project_conv (Conv2D)   (None, None, None, 8 38400       block4c_se_excite[0][0]          \n",
      "__________________________________________________________________________________________________\n",
      "block4c_project_bn (BatchNormal (None, None, None, 8 320         block4c_project_conv[0][0]       \n",
      "__________________________________________________________________________________________________\n",
      "block4c_drop (Dropout)          (None, None, None, 8 0           block4c_project_bn[0][0]         \n",
      "__________________________________________________________________________________________________\n",
      "block4c_add (Add)               (None, None, None, 8 0           block4c_drop[0][0]               \n",
      "                                                                 block4b_add[0][0]                \n",
      "__________________________________________________________________________________________________\n",
      "block5a_expand_conv (Conv2D)    (None, None, None, 4 38400       block4c_add[0][0]                \n",
      "__________________________________________________________________________________________________\n",
      "block5a_expand_bn (BatchNormali (None, None, None, 4 1920        block5a_expand_conv[0][0]        \n",
      "__________________________________________________________________________________________________\n",
      "block5a_expand_activation (Acti (None, None, None, 4 0           block5a_expand_bn[0][0]          \n",
      "__________________________________________________________________________________________________\n",
      "block5a_dwconv (DepthwiseConv2D (None, None, None, 4 12000       block5a_expand_activation[0][0]  \n",
      "__________________________________________________________________________________________________\n",
      "block5a_bn (BatchNormalization) (None, None, None, 4 1920        block5a_dwconv[0][0]             \n",
      "__________________________________________________________________________________________________\n",
      "block5a_activation (Activation) (None, None, None, 4 0           block5a_bn[0][0]                 \n",
      "__________________________________________________________________________________________________\n",
      "block5a_se_squeeze (GlobalAvera (None, 480)          0           block5a_activation[0][0]         \n",
      "__________________________________________________________________________________________________\n",
      "block5a_se_reshape (Reshape)    (None, 1, 1, 480)    0           block5a_se_squeeze[0][0]         \n",
      "__________________________________________________________________________________________________\n",
      "block5a_se_reduce (Conv2D)      (None, 1, 1, 20)     9620        block5a_se_reshape[0][0]         \n",
      "__________________________________________________________________________________________________\n",
      "block5a_se_expand (Conv2D)      (None, 1, 1, 480)    10080       block5a_se_reduce[0][0]          \n",
      "__________________________________________________________________________________________________\n",
      "block5a_se_excite (Multiply)    (None, None, None, 4 0           block5a_activation[0][0]         \n",
      "                                                                 block5a_se_expand[0][0]          \n",
      "__________________________________________________________________________________________________\n",
      "block5a_project_conv (Conv2D)   (None, None, None, 1 53760       block5a_se_excite[0][0]          \n",
      "__________________________________________________________________________________________________\n",
      "block5a_project_bn (BatchNormal (None, None, None, 1 448         block5a_project_conv[0][0]       \n",
      "__________________________________________________________________________________________________\n",
      "block5b_expand_conv (Conv2D)    (None, None, None, 6 75264       block5a_project_bn[0][0]         \n",
      "__________________________________________________________________________________________________\n",
      "block5b_expand_bn (BatchNormali (None, None, None, 6 2688        block5b_expand_conv[0][0]        \n",
      "__________________________________________________________________________________________________\n",
      "block5b_expand_activation (Acti (None, None, None, 6 0           block5b_expand_bn[0][0]          \n",
      "__________________________________________________________________________________________________\n",
      "block5b_dwconv (DepthwiseConv2D (None, None, None, 6 16800       block5b_expand_activation[0][0]  \n",
      "__________________________________________________________________________________________________\n",
      "block5b_bn (BatchNormalization) (None, None, None, 6 2688        block5b_dwconv[0][0]             \n",
      "__________________________________________________________________________________________________\n",
      "block5b_activation (Activation) (None, None, None, 6 0           block5b_bn[0][0]                 \n",
      "__________________________________________________________________________________________________\n",
      "block5b_se_squeeze (GlobalAvera (None, 672)          0           block5b_activation[0][0]         \n",
      "__________________________________________________________________________________________________\n",
      "block5b_se_reshape (Reshape)    (None, 1, 1, 672)    0           block5b_se_squeeze[0][0]         \n",
      "__________________________________________________________________________________________________\n",
      "block5b_se_reduce (Conv2D)      (None, 1, 1, 28)     18844       block5b_se_reshape[0][0]         \n",
      "__________________________________________________________________________________________________\n",
      "block5b_se_expand (Conv2D)      (None, 1, 1, 672)    19488       block5b_se_reduce[0][0]          \n",
      "__________________________________________________________________________________________________\n",
      "block5b_se_excite (Multiply)    (None, None, None, 6 0           block5b_activation[0][0]         \n",
      "                                                                 block5b_se_expand[0][0]          \n",
      "__________________________________________________________________________________________________\n",
      "block5b_project_conv (Conv2D)   (None, None, None, 1 75264       block5b_se_excite[0][0]          \n",
      "__________________________________________________________________________________________________\n",
      "block5b_project_bn (BatchNormal (None, None, None, 1 448         block5b_project_conv[0][0]       \n",
      "__________________________________________________________________________________________________\n",
      "block5b_drop (Dropout)          (None, None, None, 1 0           block5b_project_bn[0][0]         \n",
      "__________________________________________________________________________________________________\n",
      "block5b_add (Add)               (None, None, None, 1 0           block5b_drop[0][0]               \n",
      "                                                                 block5a_project_bn[0][0]         \n",
      "__________________________________________________________________________________________________\n",
      "block5c_expand_conv (Conv2D)    (None, None, None, 6 75264       block5b_add[0][0]                \n",
      "__________________________________________________________________________________________________\n",
      "block5c_expand_bn (BatchNormali (None, None, None, 6 2688        block5c_expand_conv[0][0]        \n",
      "__________________________________________________________________________________________________\n",
      "block5c_expand_activation (Acti (None, None, None, 6 0           block5c_expand_bn[0][0]          \n",
      "__________________________________________________________________________________________________\n",
      "block5c_dwconv (DepthwiseConv2D (None, None, None, 6 16800       block5c_expand_activation[0][0]  \n",
      "__________________________________________________________________________________________________\n",
      "block5c_bn (BatchNormalization) (None, None, None, 6 2688        block5c_dwconv[0][0]             \n",
      "__________________________________________________________________________________________________\n",
      "block5c_activation (Activation) (None, None, None, 6 0           block5c_bn[0][0]                 \n",
      "__________________________________________________________________________________________________\n",
      "block5c_se_squeeze (GlobalAvera (None, 672)          0           block5c_activation[0][0]         \n",
      "__________________________________________________________________________________________________\n",
      "block5c_se_reshape (Reshape)    (None, 1, 1, 672)    0           block5c_se_squeeze[0][0]         \n",
      "__________________________________________________________________________________________________\n",
      "block5c_se_reduce (Conv2D)      (None, 1, 1, 28)     18844       block5c_se_reshape[0][0]         \n",
      "__________________________________________________________________________________________________\n",
      "block5c_se_expand (Conv2D)      (None, 1, 1, 672)    19488       block5c_se_reduce[0][0]          \n",
      "__________________________________________________________________________________________________\n",
      "block5c_se_excite (Multiply)    (None, None, None, 6 0           block5c_activation[0][0]         \n",
      "                                                                 block5c_se_expand[0][0]          \n",
      "__________________________________________________________________________________________________\n",
      "block5c_project_conv (Conv2D)   (None, None, None, 1 75264       block5c_se_excite[0][0]          \n",
      "__________________________________________________________________________________________________\n",
      "block5c_project_bn (BatchNormal (None, None, None, 1 448         block5c_project_conv[0][0]       \n",
      "__________________________________________________________________________________________________\n",
      "block5c_drop (Dropout)          (None, None, None, 1 0           block5c_project_bn[0][0]         \n",
      "__________________________________________________________________________________________________\n",
      "block5c_add (Add)               (None, None, None, 1 0           block5c_drop[0][0]               \n",
      "                                                                 block5b_add[0][0]                \n",
      "__________________________________________________________________________________________________\n",
      "block6a_expand_conv (Conv2D)    (None, None, None, 6 75264       block5c_add[0][0]                \n",
      "__________________________________________________________________________________________________\n",
      "block6a_expand_bn (BatchNormali (None, None, None, 6 2688        block6a_expand_conv[0][0]        \n",
      "__________________________________________________________________________________________________\n",
      "block6a_expand_activation (Acti (None, None, None, 6 0           block6a_expand_bn[0][0]          \n",
      "__________________________________________________________________________________________________\n",
      "block6a_dwconv_pad (ZeroPadding (None, None, None, 6 0           block6a_expand_activation[0][0]  \n",
      "__________________________________________________________________________________________________\n",
      "block6a_dwconv (DepthwiseConv2D (None, None, None, 6 16800       block6a_dwconv_pad[0][0]         \n",
      "__________________________________________________________________________________________________\n",
      "block6a_bn (BatchNormalization) (None, None, None, 6 2688        block6a_dwconv[0][0]             \n",
      "__________________________________________________________________________________________________\n",
      "block6a_activation (Activation) (None, None, None, 6 0           block6a_bn[0][0]                 \n",
      "__________________________________________________________________________________________________\n",
      "block6a_se_squeeze (GlobalAvera (None, 672)          0           block6a_activation[0][0]         \n",
      "__________________________________________________________________________________________________\n",
      "block6a_se_reshape (Reshape)    (None, 1, 1, 672)    0           block6a_se_squeeze[0][0]         \n",
      "__________________________________________________________________________________________________\n",
      "block6a_se_reduce (Conv2D)      (None, 1, 1, 28)     18844       block6a_se_reshape[0][0]         \n",
      "__________________________________________________________________________________________________\n",
      "block6a_se_expand (Conv2D)      (None, 1, 1, 672)    19488       block6a_se_reduce[0][0]          \n",
      "__________________________________________________________________________________________________\n",
      "block6a_se_excite (Multiply)    (None, None, None, 6 0           block6a_activation[0][0]         \n",
      "                                                                 block6a_se_expand[0][0]          \n",
      "__________________________________________________________________________________________________\n",
      "block6a_project_conv (Conv2D)   (None, None, None, 1 129024      block6a_se_excite[0][0]          \n",
      "__________________________________________________________________________________________________\n",
      "block6a_project_bn (BatchNormal (None, None, None, 1 768         block6a_project_conv[0][0]       \n",
      "__________________________________________________________________________________________________\n",
      "block6b_expand_conv (Conv2D)    (None, None, None, 1 221184      block6a_project_bn[0][0]         \n",
      "__________________________________________________________________________________________________\n",
      "block6b_expand_bn (BatchNormali (None, None, None, 1 4608        block6b_expand_conv[0][0]        \n",
      "__________________________________________________________________________________________________\n",
      "block6b_expand_activation (Acti (None, None, None, 1 0           block6b_expand_bn[0][0]          \n",
      "__________________________________________________________________________________________________\n",
      "block6b_dwconv (DepthwiseConv2D (None, None, None, 1 28800       block6b_expand_activation[0][0]  \n",
      "__________________________________________________________________________________________________\n",
      "block6b_bn (BatchNormalization) (None, None, None, 1 4608        block6b_dwconv[0][0]             \n",
      "__________________________________________________________________________________________________\n",
      "block6b_activation (Activation) (None, None, None, 1 0           block6b_bn[0][0]                 \n",
      "__________________________________________________________________________________________________\n",
      "block6b_se_squeeze (GlobalAvera (None, 1152)         0           block6b_activation[0][0]         \n",
      "__________________________________________________________________________________________________\n",
      "block6b_se_reshape (Reshape)    (None, 1, 1, 1152)   0           block6b_se_squeeze[0][0]         \n",
      "__________________________________________________________________________________________________\n",
      "block6b_se_reduce (Conv2D)      (None, 1, 1, 48)     55344       block6b_se_reshape[0][0]         \n",
      "__________________________________________________________________________________________________\n",
      "block6b_se_expand (Conv2D)      (None, 1, 1, 1152)   56448       block6b_se_reduce[0][0]          \n",
      "__________________________________________________________________________________________________\n",
      "block6b_se_excite (Multiply)    (None, None, None, 1 0           block6b_activation[0][0]         \n",
      "                                                                 block6b_se_expand[0][0]          \n",
      "__________________________________________________________________________________________________\n",
      "block6b_project_conv (Conv2D)   (None, None, None, 1 221184      block6b_se_excite[0][0]          \n",
      "__________________________________________________________________________________________________\n",
      "block6b_project_bn (BatchNormal (None, None, None, 1 768         block6b_project_conv[0][0]       \n",
      "__________________________________________________________________________________________________\n",
      "block6b_drop (Dropout)          (None, None, None, 1 0           block6b_project_bn[0][0]         \n",
      "__________________________________________________________________________________________________\n",
      "block6b_add (Add)               (None, None, None, 1 0           block6b_drop[0][0]               \n",
      "                                                                 block6a_project_bn[0][0]         \n",
      "__________________________________________________________________________________________________\n",
      "block6c_expand_conv (Conv2D)    (None, None, None, 1 221184      block6b_add[0][0]                \n",
      "__________________________________________________________________________________________________\n",
      "block6c_expand_bn (BatchNormali (None, None, None, 1 4608        block6c_expand_conv[0][0]        \n",
      "__________________________________________________________________________________________________\n",
      "block6c_expand_activation (Acti (None, None, None, 1 0           block6c_expand_bn[0][0]          \n",
      "__________________________________________________________________________________________________\n",
      "block6c_dwconv (DepthwiseConv2D (None, None, None, 1 28800       block6c_expand_activation[0][0]  \n",
      "__________________________________________________________________________________________________\n",
      "block6c_bn (BatchNormalization) (None, None, None, 1 4608        block6c_dwconv[0][0]             \n",
      "__________________________________________________________________________________________________\n",
      "block6c_activation (Activation) (None, None, None, 1 0           block6c_bn[0][0]                 \n",
      "__________________________________________________________________________________________________\n",
      "block6c_se_squeeze (GlobalAvera (None, 1152)         0           block6c_activation[0][0]         \n",
      "__________________________________________________________________________________________________\n",
      "block6c_se_reshape (Reshape)    (None, 1, 1, 1152)   0           block6c_se_squeeze[0][0]         \n",
      "__________________________________________________________________________________________________\n",
      "block6c_se_reduce (Conv2D)      (None, 1, 1, 48)     55344       block6c_se_reshape[0][0]         \n",
      "__________________________________________________________________________________________________\n",
      "block6c_se_expand (Conv2D)      (None, 1, 1, 1152)   56448       block6c_se_reduce[0][0]          \n",
      "__________________________________________________________________________________________________\n",
      "block6c_se_excite (Multiply)    (None, None, None, 1 0           block6c_activation[0][0]         \n",
      "                                                                 block6c_se_expand[0][0]          \n",
      "__________________________________________________________________________________________________\n",
      "block6c_project_conv (Conv2D)   (None, None, None, 1 221184      block6c_se_excite[0][0]          \n",
      "__________________________________________________________________________________________________\n",
      "block6c_project_bn (BatchNormal (None, None, None, 1 768         block6c_project_conv[0][0]       \n",
      "__________________________________________________________________________________________________\n",
      "block6c_drop (Dropout)          (None, None, None, 1 0           block6c_project_bn[0][0]         \n",
      "__________________________________________________________________________________________________\n",
      "block6c_add (Add)               (None, None, None, 1 0           block6c_drop[0][0]               \n",
      "                                                                 block6b_add[0][0]                \n",
      "__________________________________________________________________________________________________\n",
      "block6d_expand_conv (Conv2D)    (None, None, None, 1 221184      block6c_add[0][0]                \n",
      "__________________________________________________________________________________________________\n",
      "block6d_expand_bn (BatchNormali (None, None, None, 1 4608        block6d_expand_conv[0][0]        \n",
      "__________________________________________________________________________________________________\n",
      "block6d_expand_activation (Acti (None, None, None, 1 0           block6d_expand_bn[0][0]          \n",
      "__________________________________________________________________________________________________\n",
      "block6d_dwconv (DepthwiseConv2D (None, None, None, 1 28800       block6d_expand_activation[0][0]  \n",
      "__________________________________________________________________________________________________\n",
      "block6d_bn (BatchNormalization) (None, None, None, 1 4608        block6d_dwconv[0][0]             \n",
      "__________________________________________________________________________________________________\n",
      "block6d_activation (Activation) (None, None, None, 1 0           block6d_bn[0][0]                 \n",
      "__________________________________________________________________________________________________\n",
      "block6d_se_squeeze (GlobalAvera (None, 1152)         0           block6d_activation[0][0]         \n",
      "__________________________________________________________________________________________________\n",
      "block6d_se_reshape (Reshape)    (None, 1, 1, 1152)   0           block6d_se_squeeze[0][0]         \n",
      "__________________________________________________________________________________________________\n",
      "block6d_se_reduce (Conv2D)      (None, 1, 1, 48)     55344       block6d_se_reshape[0][0]         \n",
      "__________________________________________________________________________________________________\n",
      "block6d_se_expand (Conv2D)      (None, 1, 1, 1152)   56448       block6d_se_reduce[0][0]          \n",
      "__________________________________________________________________________________________________\n",
      "block6d_se_excite (Multiply)    (None, None, None, 1 0           block6d_activation[0][0]         \n",
      "                                                                 block6d_se_expand[0][0]          \n",
      "__________________________________________________________________________________________________\n",
      "block6d_project_conv (Conv2D)   (None, None, None, 1 221184      block6d_se_excite[0][0]          \n",
      "__________________________________________________________________________________________________\n",
      "block6d_project_bn (BatchNormal (None, None, None, 1 768         block6d_project_conv[0][0]       \n",
      "__________________________________________________________________________________________________\n",
      "block6d_drop (Dropout)          (None, None, None, 1 0           block6d_project_bn[0][0]         \n",
      "__________________________________________________________________________________________________\n",
      "block6d_add (Add)               (None, None, None, 1 0           block6d_drop[0][0]               \n",
      "                                                                 block6c_add[0][0]                \n",
      "__________________________________________________________________________________________________\n",
      "block7a_expand_conv (Conv2D)    (None, None, None, 1 221184      block6d_add[0][0]                \n",
      "__________________________________________________________________________________________________\n",
      "block7a_expand_bn (BatchNormali (None, None, None, 1 4608        block7a_expand_conv[0][0]        \n",
      "__________________________________________________________________________________________________\n",
      "block7a_expand_activation (Acti (None, None, None, 1 0           block7a_expand_bn[0][0]          \n",
      "__________________________________________________________________________________________________\n",
      "block7a_dwconv (DepthwiseConv2D (None, None, None, 1 10368       block7a_expand_activation[0][0]  \n",
      "__________________________________________________________________________________________________\n",
      "block7a_bn (BatchNormalization) (None, None, None, 1 4608        block7a_dwconv[0][0]             \n",
      "__________________________________________________________________________________________________\n",
      "block7a_activation (Activation) (None, None, None, 1 0           block7a_bn[0][0]                 \n",
      "__________________________________________________________________________________________________\n",
      "block7a_se_squeeze (GlobalAvera (None, 1152)         0           block7a_activation[0][0]         \n",
      "__________________________________________________________________________________________________\n",
      "block7a_se_reshape (Reshape)    (None, 1, 1, 1152)   0           block7a_se_squeeze[0][0]         \n",
      "__________________________________________________________________________________________________\n",
      "block7a_se_reduce (Conv2D)      (None, 1, 1, 48)     55344       block7a_se_reshape[0][0]         \n",
      "__________________________________________________________________________________________________\n",
      "block7a_se_expand (Conv2D)      (None, 1, 1, 1152)   56448       block7a_se_reduce[0][0]          \n",
      "__________________________________________________________________________________________________\n",
      "block7a_se_excite (Multiply)    (None, None, None, 1 0           block7a_activation[0][0]         \n",
      "                                                                 block7a_se_expand[0][0]          \n",
      "__________________________________________________________________________________________________\n",
      "block7a_project_conv (Conv2D)   (None, None, None, 3 368640      block7a_se_excite[0][0]          \n",
      "__________________________________________________________________________________________________\n",
      "block7a_project_bn (BatchNormal (None, None, None, 3 1280        block7a_project_conv[0][0]       \n",
      "__________________________________________________________________________________________________\n",
      "top_conv (Conv2D)               (None, None, None, 1 409600      block7a_project_bn[0][0]         \n",
      "__________________________________________________________________________________________________\n",
      "top_bn (BatchNormalization)     (None, None, None, 1 5120        top_conv[0][0]                   \n",
      "__________________________________________________________________________________________________\n",
      "top_activation (Activation)     (None, None, None, 1 0           top_bn[0][0]                     \n",
      "==================================================================================================\n",
      "Total params: 4,049,571\n",
      "Trainable params: 0\n",
      "Non-trainable params: 4,049,571\n",
      "__________________________________________________________________________________________________\n"
     ]
    }
   ],
   "source": [
    "base_model.summary()"
   ]
  },
  {
   "cell_type": "markdown",
   "id": "4624c815",
   "metadata": {},
   "source": [
    "You can see how each of the different layers have a certain number of parameters each. Since we are using a pre-trained model, you can think of all of these parameters are patterns the base model has learned on another dataset. And because we set `base_model.trainable = False`, these patterns remain as they are during training (they're frozen and don't get updated).\n",
    "\n",
    "Alright that was the base model, let's see the summary of our overall model."
   ]
  },
  {
   "cell_type": "code",
   "execution_count": 15,
   "id": "c6594ca4",
   "metadata": {},
   "outputs": [
    {
     "name": "stdout",
     "output_type": "stream",
     "text": [
      "Model: \"model\"\n",
      "_________________________________________________________________\n",
      "Layer (type)                 Output Shape              Param #   \n",
      "=================================================================\n",
      "input_layer (InputLayer)     [(None, 224, 224, 3)]     0         \n",
      "_________________________________________________________________\n",
      "efficientnetb0 (Functional)  (None, None, None, 1280)  4049571   \n",
      "_________________________________________________________________\n",
      "global_average_pooling_layer (None, 1280)              0         \n",
      "_________________________________________________________________\n",
      "output_layer (Dense)         (None, 10)                12810     \n",
      "=================================================================\n",
      "Total params: 4,062,381\n",
      "Trainable params: 12,810\n",
      "Non-trainable params: 4,049,571\n",
      "_________________________________________________________________\n"
     ]
    }
   ],
   "source": [
    "# Check summary of model constructed with Functional API\n",
    "model_0.summary()"
   ]
  },
  {
   "cell_type": "markdown",
   "id": "f5b76b41",
   "metadata": {},
   "source": [
    "Our overall model has five layers but really, one of those layers (efficientnetb0) has 236 layers.\n",
    "\n",
    "You can see how the output shape started out as (None, 224, 224, 3) for the input layer (the shape of our images) but was transformed to be (None, 10) by the output layer (the shape of our labels), where None is the placeholder for the batch size.\n",
    "\n",
    "Notice too, the only trainable parameters in the model are those in the output layer.\n",
    "\n",
    "How do our model's training curves look?"
   ]
  },
  {
   "cell_type": "code",
   "execution_count": 17,
   "id": "efb46e95",
   "metadata": {},
   "outputs": [
    {
     "data": {
      "image/png": "[encoded data removed]",
      "text/plain": [
       "<Figure size 640x480 with 1 Axes>"
      ]
     },
     "metadata": {},
     "output_type": "display_data"
    },
    {
     "data": {
      "image/png": "[encoded data removed]",
      "text/plain": [
       "<Figure size 640x480 with 1 Axes>"
      ]
     },
     "metadata": {},
     "output_type": "display_data"
    }
   ],
   "source": [
    "# Check out our model's training curves\n",
    "plot_loss_curves(history_10_percent)"
   ]
  },
  {
   "cell_type": "markdown",
   "id": "d2bbd332",
   "metadata": {},
   "source": [
    "## Getting a feature vector from a trained model\n",
    "\n",
    "🤔 Question: What happens with the `tf.keras.layers.GlobalAveragePooling2D()` layer? I haven't seen it before.\n",
    "\n",
    "The `tf.keras.layers.GlobalAveragePooling2D()` layer transforms a 4D tensor into a 2D tensor by averaging the values across the inner-axes.\n",
    "\n",
    "The previous sentence is a bit of a mouthful, so let's see an example."
   ]
  },
  {
   "cell_type": "code",
   "execution_count": 18,
   "id": "7476315d",
   "metadata": {},
   "outputs": [
    {
     "name": "stdout",
     "output_type": "stream",
     "text": [
      "Random input tensor:\n",
      " [[[[ 0.3274685  -0.8426258   0.3194337 ]\n",
      "   [-1.4075519  -2.3880599  -1.0392479 ]\n",
      "   [-0.5573232   0.539707    1.6994323 ]\n",
      "   [ 0.28893656 -1.5066116  -0.26454744]]\n",
      "\n",
      "  [[-0.59722406 -1.9171132  -0.62044144]\n",
      "   [ 0.8504023  -0.40604794 -3.0258412 ]\n",
      "   [ 0.9058464   0.29855987 -0.22561555]\n",
      "   [-0.7616443  -1.891714   -0.9384712 ]]\n",
      "\n",
      "  [[ 0.77852213 -0.47338897  0.97772694]\n",
      "   [ 0.24694404  0.20573747 -0.5256233 ]\n",
      "   [ 0.32410017  0.02545409 -0.10638497]\n",
      "   [-0.6369475   1.1603122   0.2507359 ]]\n",
      "\n",
      "  [[-0.41728497  0.40125778 -1.4145442 ]\n",
      "   [-0.59318566 -1.6617213   0.33567193]\n",
      "   [ 0.10815629  0.2347968  -0.56668764]\n",
      "   [-0.35819843  0.88698626  0.5274477 ]]]]\n",
      "\n",
      "2D global average pooled random tensor:\n",
      " [[-0.09368648 -0.45840442 -0.2885598 ]]\n",
      "\n",
      "Shape of input tensor: (1, 4, 4, 3)\n",
      "Shape of 2D global averaged pooled input tensor: (1, 3)\n"
     ]
    }
   ],
   "source": [
    "# Define input tensor shape (similar number of dimensions as the output of efficientnetb0)\n",
    "input_shape = (1, 4, 4, 3)\n",
    "\n",
    "# Create a random tensor\n",
    "tf.random.set_seed(42)\n",
    "input_tensor = tf.random.normal(input_shape)\n",
    "print(f\"Random input tensor:\\n {input_tensor}\\n\")\n",
    "\n",
    "# Pass the random tensor through a global average pooling 2D layer\n",
    "global_average_pooled_tensor = tf.keras.layers.GlobalAveragePooling2D()(input_tensor)\n",
    "print(f\"2D global average pooled random tensor:\\n {global_average_pooled_tensor}\\n\")\n",
    "\n",
    "# Check the shapes of the different tensors\n",
    "print(f\"Shape of input tensor: {input_tensor.shape}\")\n",
    "print(f\"Shape of 2D global averaged pooled input tensor: {global_average_pooled_tensor.shape}\")\n"
   ]
  },
  {
   "cell_type": "markdown",
   "id": "53bb739c",
   "metadata": {},
   "source": [
    "You can see the `tf.keras.layers.GlobalAveragePooling2D()` layer condensed the input tensor from shape (1, 4, 4, 3) to (1, 3). It did so by averaging the input_tensor across the middle two axes.\n",
    "\n",
    "We can replicate this operation using the `tf.reduce_mean()` operation and specifying the appropriate axes."
   ]
  },
  {
   "cell_type": "code",
   "execution_count": 19,
   "id": "84e478ff",
   "metadata": {},
   "outputs": [
    {
     "data": {
      "text/plain": [
       "<tf.Tensor: shape=(1, 3), dtype=float32, numpy=array([[-0.09368648, -0.45840442, -0.2885598 ]], dtype=float32)>"
      ]
     },
     "execution_count": 19,
     "metadata": {},
     "output_type": "execute_result"
    }
   ],
   "source": [
    "# This is the same as GlobalAveragePooling2D()\n",
    "tf.reduce_mean(input_tensor, axis=[1, 2]) # average across the middle axes"
   ]
  },
  {
   "cell_type": "markdown",
   "id": "e14e51b1",
   "metadata": {},
   "source": [
    "Doing this not only makes the output of the base model compatible with the input shape requirement of our output layer (`tf.keras.layers.Dense()`), it also condenses the information found by the base model into a lower dimension feature vector.\n",
    "\n",
    "🔑**Note**: One of the reasons feature extraction transfer learning is named how it is is because what often happens is a pretrained model outputs a feature vector (a long tensor of numbers, in our case, this is the output of the `tf.keras.layers.GlobalAveragePooling2D()` layer) which can then be used to extract patterns out of.\n",
    "\n",
    "🛠 Practice: Do the same as the above cell but for `tf.keras.layers.GlobalMaxPool2D()`"
   ]
  },
  {
   "cell_type": "markdown",
   "id": "f74edebb",
   "metadata": {},
   "source": [
    "## Running a series of transfer learning experiments\n",
    "\n",
    "We've seen the incredible results of transfer learning on 10% of the training data, what about 1% of the training data?\n",
    "\n",
    "What kind of results do you think we can get using 100x less data than the original CNN models we built ourselves?\n",
    "\n",
    "Why don't we answer that question while running the following modelling experiments:\n",
    "\n",
    "* `model_1`: Use feature extraction transfer learning on 1% of the training data with data augmentation.\n",
    "* `model_2`: Use feature extraction transfer learning on 10% of the training data with data augmentation.\n",
    "* `model_3`: Use fine-tuning transfer learning on 10% of the training data with data augmentation.\n",
    "* `model_4`: Use fine-tuning transfer learning on 100% of the training data with data augmentation.\n",
    "\n",
    "While all of the experiments will be run on different versions of the training data, they will all be evaluated on the same test dataset, this ensures the results of each experiment are as comparable as possible.\n",
    "\n",
    "All experiments will be done using the `EfficientNetB0` model within the `tf.keras.applications` module.\n",
    "\n",
    "To make sure we're keeping track of our experiments, we'll use our `create_tensorboard_callback()` function to log all of the model training logs.\n",
    "\n",
    "We'll construct each model using the `Keras Functional API` and instead of implementing data augmentation in the `ImageDataGenerator` class as we have previously, we're going to build it right into the model using the `tf.keras.layers.experimental.preprocessing` module.\n",
    "\n",
    "Let's begin by downloading the data for experiment 1, using feature extraction transfer learning on 1% of the training data with data augmentation."
   ]
  },
  {
   "cell_type": "code",
   "execution_count": 20,
   "id": "ca44415c",
   "metadata": {},
   "outputs": [
    {
     "name": "stdout",
     "output_type": "stream",
     "text": [
      "--2022-12-13 09:56:18--  https://storage.googleapis.com/ztm_tf_course/food_vision/10_food_classes_1_percent.zip\n",
      "Resolving storage.googleapis.com (storage.googleapis.com)... 142.251.41.80, 172.217.165.16, 142.251.32.80, ...\n",
      "Connecting to storage.googleapis.com (storage.googleapis.com)|142.251.41.80|:443... connected.\n",
      "HTTP request sent, awaiting response... 200 OK\n",
      "Length: 133612354 (127M) [application/zip]\n",
      "Saving to: ‘10_food_classes_1_percent.zip’\n",
      "\n",
      "10_food_classes_1_p 100%[===================>] 127.42M  18.9MB/s    in 6.6s    \n",
      "\n",
      "2022-12-13 09:56:25 (19.3 MB/s) - ‘10_food_classes_1_percent.zip’ saved [133612354/133612354]\n",
      "\n"
     ]
    }
   ],
   "source": [
    "# Download and unzip data\n",
    "!wget https://storage.googleapis.com/ztm_tf_course/food_vision/10_food_classes_1_percent.zip\n",
    "unzip_data(\"10_food_classes_1_percent.zip\")\n",
    "\n",
    "# Create training and test dirs\n",
    "train_dir_1_percent = \"10_food_classes_1_percent/train/\"\n",
    "test_dir = \"10_food_classes_1_percent/test/\""
   ]
  },
  {
   "cell_type": "code",
   "execution_count": 21,
   "id": "00283217",
   "metadata": {},
   "outputs": [
    {
     "name": "stdout",
     "output_type": "stream",
     "text": [
      "There are 2 directories and 0 images in '10_food_classes_1_percent'.\n",
      "There are 10 directories and 0 images in '10_food_classes_1_percent/test'.\n",
      "There are 0 directories and 250 images in '10_food_classes_1_percent/test/ice_cream'.\n",
      "There are 0 directories and 250 images in '10_food_classes_1_percent/test/chicken_curry'.\n",
      "There are 0 directories and 250 images in '10_food_classes_1_percent/test/steak'.\n",
      "There are 0 directories and 250 images in '10_food_classes_1_percent/test/sushi'.\n",
      "There are 0 directories and 250 images in '10_food_classes_1_percent/test/chicken_wings'.\n",
      "There are 0 directories and 250 images in '10_food_classes_1_percent/test/grilled_salmon'.\n",
      "There are 0 directories and 250 images in '10_food_classes_1_percent/test/hamburger'.\n",
      "There are 0 directories and 250 images in '10_food_classes_1_percent/test/pizza'.\n",
      "There are 0 directories and 250 images in '10_food_classes_1_percent/test/ramen'.\n",
      "There are 0 directories and 250 images in '10_food_classes_1_percent/test/fried_rice'.\n",
      "There are 10 directories and 0 images in '10_food_classes_1_percent/train'.\n",
      "There are 0 directories and 7 images in '10_food_classes_1_percent/train/ice_cream'.\n",
      "There are 0 directories and 7 images in '10_food_classes_1_percent/train/chicken_curry'.\n",
      "There are 0 directories and 7 images in '10_food_classes_1_percent/train/steak'.\n",
      "There are 0 directories and 7 images in '10_food_classes_1_percent/train/sushi'.\n",
      "There are 0 directories and 7 images in '10_food_classes_1_percent/train/chicken_wings'.\n",
      "There are 0 directories and 7 images in '10_food_classes_1_percent/train/grilled_salmon'.\n",
      "There are 0 directories and 7 images in '10_food_classes_1_percent/train/hamburger'.\n",
      "There are 0 directories and 7 images in '10_food_classes_1_percent/train/pizza'.\n",
      "There are 0 directories and 7 images in '10_food_classes_1_percent/train/ramen'.\n",
      "There are 0 directories and 7 images in '10_food_classes_1_percent/train/fried_rice'.\n"
     ]
    }
   ],
   "source": [
    "# Walk through 1 percent data directory and list number of files\n",
    "walk_through_dir(\"10_food_classes_1_percent\")"
   ]
  },
  {
   "cell_type": "markdown",
   "id": "c072e2f7",
   "metadata": {},
   "source": [
    "Alright, looks like we've only got seven images of each class, this should be a bit of a challenge for our model.\n",
    "\n",
    "🔑 **Note**: As with the 10% of data subset, the 1% of images were chosen at random from the original full training dataset. The test images are the same as the ones which have previously been used. If you want to see how this data was preprocessed, check out the [Food Vision Image Preprocessing notebook](https://github.com/mrdbourke/tensorflow-deep-learning/blob/main/extras/image_data_modification.ipynb).\n",
    "\n",
    "Time to load our images in as `tf.data.Dataset` objects, to do so, we'll use the `image_dataset_from_directory()` method."
   ]
  },
  {
   "cell_type": "code",
   "execution_count": 22,
   "id": "6f213e86",
   "metadata": {},
   "outputs": [
    {
     "name": "stdout",
     "output_type": "stream",
     "text": [
      "Found 70 files belonging to 10 classes.\n",
      "Found 2500 files belonging to 10 classes.\n"
     ]
    }
   ],
   "source": [
    "import tensorflow as tf\n",
    "IMG_SIZE = (224, 224)\n",
    "train_data_1_percent = tf.keras.preprocessing.image_dataset_from_directory(train_dir_1_percent,\n",
    "                                                                           label_mode=\"categorical\",\n",
    "                                                                           batch_size=32, # default\n",
    "                                                                           image_size=IMG_SIZE)\n",
    "test_data = tf.keras.preprocessing.image_dataset_from_directory(test_dir,\n",
    "                                                                label_mode=\"categorical\",\n",
    "                                                                image_size=IMG_SIZE)"
   ]
  },
  {
   "cell_type": "markdown",
   "id": "96415e34",
   "metadata": {},
   "source": [
    "## Adding data augmentation right into the model\n",
    "\n",
    "Previously we've used the different parameters of the `ImageDataGenerator` class to augment our training images, this time we're going to build data augmentation right into the model.\n",
    "\n",
    "**How?**\n",
    "\n",
    "Using the `tf.keras.layers.experimental.preprocessing` module and creating a dedicated data augmentation layer.\n",
    "\n",
    "This a relatively new feature added to `TensorFlow 2.2+` but it's very powerful. Adding a data augmentation layer to the model has the following benefits:\n",
    "\n",
    "* Preprocessing of the images (augmenting them) happens on the GPU rather than on the CPU (much faster).\n",
    "    * Images are best preprocessed on the GPU where as text and structured data are more suited to be preprocessed on the CPU.\n",
    "    * Image data augmentation only happens during training so we can still export our whole model and use it elsewhere. * And if someone else wanted to train the same model as us, including the same kind of data augmentation, they could."
   ]
  },
  {
   "cell_type": "markdown",
   "id": "d9c84c2b",
   "metadata": {},
   "source": [
    "![DataAug.png](Images/DataAug.png)"
   ]
  },
  {
   "cell_type": "markdown",
   "id": "470ce447",
   "metadata": {},
   "source": [
    "🤔 **Note**: At the time of writing, the preprocessing layers we're using for data augmentation are in experimental status within the in TensorFlow library. This means although the layers should be considered stable, the code may change slightly in a future version of TensorFlow. For more information on the other preprocessing layers avaiable and the different methods of data augmentation, check out the [Keras preprocessing layers guide](https://keras.io/guides/preprocessing_layers/) and the [TensorFlow data augmentation guide](https://www.tensorflow.org/tutorials/images/data_augmentation).\n",
    "\n",
    "To use data augmentation right within our model we'll create a Keras Sequential model consisting of only data preprocessing layers, we can then use this Sequential model within another Functional model.\n",
    "\n",
    "If that sounds confusing, it'll make sense once we create it in code.\n",
    "\n",
    "The data augmentation transformations we're going to use are:\n",
    "\n",
    "* [RandomFlip](https://www.tensorflow.org/api_docs/python/tf/keras/layers/experimental/preprocessing/RandomFlip) - flips image on horizontal or vertical axis.\n",
    "* [RandomRotation](https://www.tensorflow.org/api_docs/python/tf/keras/layers/experimental/preprocessing/RandomRotation) - randomly rotates image by a specified amount.\n",
    "* [RandomZoom](https://www.tensorflow.org/api_docs/python/tf/keras/layers/experimental/preprocessing/RandomZoom) - randomly zooms into an image by specified amount.\n",
    "* [RandomHeight](https://www.tensorflow.org/api_docs/python/tf/keras/layers/experimental/preprocessing/RandomHeight) - randomly shifts image height by a specified amount.\n",
    "* [RandomWidth](https://www.tensorflow.org/api_docs/python/tf/keras/layers/experimental/preprocessing/RandomWidth) - randomly shifts image width by a specified amount.\n",
    "* [Rescaling](https://www.tensorflow.org/api_docs/python/tf/keras/layers/experimental/preprocessing/Rescaling) - normalizes the image pixel values to be between 0 and 1, this is worth mentioning because it is required for some image models but since we're using the `tf.keras.applications` implementation of `EfficientNetB0`, it's not required.\n",
    "\n",
    "There are more option but these will do for now."
   ]
  },
  {
   "cell_type": "code",
   "execution_count": 26,
   "id": "fedf8173",
   "metadata": {},
   "outputs": [],
   "source": [
    "import tensorflow as tf\n",
    "from tensorflow import keras\n",
    "from tensorflow.keras import layers\n",
    "from tensorflow.keras.layers.experimental import preprocessing\n",
    "\n",
    "# Create a data augmentation stage with horizontal flipping, rotations, zooms\n",
    "data_augmentation = keras.Sequential([\n",
    "  preprocessing.RandomFlip(\"horizontal\"),\n",
    "  preprocessing.RandomRotation(0.2),\n",
    "  preprocessing.RandomZoom(0.2),\n",
    "  preprocessing.RandomHeight(0.2),\n",
    "  preprocessing.RandomWidth(0.2),\n",
    "  # preprocessing.Rescaling(1./255) # keep for ResNet50V2, remove for EfficientNetB0\n",
    "], name =\"data_augmentation\")"
   ]
  },
  {
   "cell_type": "markdown",
   "id": "a028bbb4",
   "metadata": {},
   "source": [
    "And that's it! Our data augmentation Sequential model is ready to go. As you'll see shortly, we'll be able to slot this \"model\" as a layer into our transfer learning model later on.\n",
    "\n",
    "But before we do that, let's test it out by passing random images through it."
   ]
  },
  {
   "cell_type": "code",
   "execution_count": 28,
   "id": "52a164cd",
   "metadata": {},
   "outputs": [
    {
     "ename": "NotFoundError",
     "evalue": "No registered 'RngReadAndSkip' OpKernel for 'GPU' devices compatible with node {{node RngReadAndSkip}}\n\t.  Registered:  device='XLA_CPU_JIT'\n  device='CPU'\n [Op:RngReadAndSkip]",
     "output_type": "error",
     "traceback": [
      "\u001b[0;31m---------------------------------------------------------------------------\u001b[0m",
      "\u001b[0;31mNotFoundError\u001b[0m                             Traceback (most recent call last)",
      "Cell \u001b[0;32mIn [28], line 16\u001b[0m\n\u001b[1;32m     13\u001b[0m plt\u001b[38;5;241m.\u001b[39maxis(\u001b[38;5;28;01mFalse\u001b[39;00m); \u001b[38;5;66;03m# turn off the axes\u001b[39;00m\n\u001b[1;32m     15\u001b[0m \u001b[38;5;66;03m# Augment the image\u001b[39;00m\n\u001b[0;32m---> 16\u001b[0m augmented_img \u001b[38;5;241m=\u001b[39m \u001b[43mdata_augmentation\u001b[49m\u001b[43m(\u001b[49m\u001b[43mtf\u001b[49m\u001b[38;5;241;43m.\u001b[39;49m\u001b[43mexpand_dims\u001b[49m\u001b[43m(\u001b[49m\u001b[43mimg\u001b[49m\u001b[43m,\u001b[49m\u001b[43m \u001b[49m\u001b[43maxis\u001b[49m\u001b[38;5;241;43m=\u001b[39;49m\u001b[38;5;241;43m0\u001b[39;49m\u001b[43m)\u001b[49m\u001b[43m,\u001b[49m\u001b[43m \u001b[49m\u001b[43mtraining\u001b[49m\u001b[38;5;241;43m=\u001b[39;49m\u001b[38;5;28;43;01mTrue\u001b[39;49;00m\u001b[43m)\u001b[49m \u001b[38;5;66;03m# data augmentation model requires shape (None, height, width, 3)\u001b[39;00m\n\u001b[1;32m     17\u001b[0m plt\u001b[38;5;241m.\u001b[39mfigure()\n\u001b[1;32m     18\u001b[0m plt\u001b[38;5;241m.\u001b[39mimshow(tf\u001b[38;5;241m.\u001b[39msqueeze(augmented_img)\u001b[38;5;241m/\u001b[39m\u001b[38;5;241m255.\u001b[39m) \u001b[38;5;66;03m# requires normalization after augmentation\u001b[39;00m\n",
      "File \u001b[0;32m/opt/homebrew/Caskroom/miniforge/base/envs/tensorflow/lib/python3.9/site-packages/tensorflow/python/keras/engine/base_layer.py:1030\u001b[0m, in \u001b[0;36mLayer.__call__\u001b[0;34m(self, *args, **kwargs)\u001b[0m\n\u001b[1;32m   1026\u001b[0m   inputs \u001b[38;5;241m=\u001b[39m \u001b[38;5;28mself\u001b[39m\u001b[38;5;241m.\u001b[39m_maybe_cast_inputs(inputs, input_list)\n\u001b[1;32m   1028\u001b[0m \u001b[38;5;28;01mwith\u001b[39;00m autocast_variable\u001b[38;5;241m.\u001b[39menable_auto_cast_variables(\n\u001b[1;32m   1029\u001b[0m     \u001b[38;5;28mself\u001b[39m\u001b[38;5;241m.\u001b[39m_compute_dtype_object):\n\u001b[0;32m-> 1030\u001b[0m   outputs \u001b[38;5;241m=\u001b[39m \u001b[43mcall_fn\u001b[49m\u001b[43m(\u001b[49m\u001b[43minputs\u001b[49m\u001b[43m,\u001b[49m\u001b[43m \u001b[49m\u001b[38;5;241;43m*\u001b[39;49m\u001b[43margs\u001b[49m\u001b[43m,\u001b[49m\u001b[43m \u001b[49m\u001b[38;5;241;43m*\u001b[39;49m\u001b[38;5;241;43m*\u001b[39;49m\u001b[43mkwargs\u001b[49m\u001b[43m)\u001b[49m\n\u001b[1;32m   1032\u001b[0m \u001b[38;5;28;01mif\u001b[39;00m \u001b[38;5;28mself\u001b[39m\u001b[38;5;241m.\u001b[39m_activity_regularizer:\n\u001b[1;32m   1033\u001b[0m   \u001b[38;5;28mself\u001b[39m\u001b[38;5;241m.\u001b[39m_handle_activity_regularization(inputs, outputs)\n",
      "File \u001b[0;32m/opt/homebrew/Caskroom/miniforge/base/envs/tensorflow/lib/python3.9/site-packages/tensorflow/python/keras/engine/sequential.py:380\u001b[0m, in \u001b[0;36mSequential.call\u001b[0;34m(self, inputs, training, mask)\u001b[0m\n\u001b[1;32m    378\u001b[0m   \u001b[38;5;28;01mif\u001b[39;00m \u001b[38;5;129;01mnot\u001b[39;00m \u001b[38;5;28mself\u001b[39m\u001b[38;5;241m.\u001b[39mbuilt:\n\u001b[1;32m    379\u001b[0m     \u001b[38;5;28mself\u001b[39m\u001b[38;5;241m.\u001b[39m_init_graph_network(\u001b[38;5;28mself\u001b[39m\u001b[38;5;241m.\u001b[39minputs, \u001b[38;5;28mself\u001b[39m\u001b[38;5;241m.\u001b[39moutputs)\n\u001b[0;32m--> 380\u001b[0m   \u001b[38;5;28;01mreturn\u001b[39;00m \u001b[38;5;28;43msuper\u001b[39;49m\u001b[43m(\u001b[49m\u001b[43mSequential\u001b[49m\u001b[43m,\u001b[49m\u001b[43m \u001b[49m\u001b[38;5;28;43mself\u001b[39;49m\u001b[43m)\u001b[49m\u001b[38;5;241;43m.\u001b[39;49m\u001b[43mcall\u001b[49m\u001b[43m(\u001b[49m\u001b[43minputs\u001b[49m\u001b[43m,\u001b[49m\u001b[43m \u001b[49m\u001b[43mtraining\u001b[49m\u001b[38;5;241;43m=\u001b[39;49m\u001b[43mtraining\u001b[49m\u001b[43m,\u001b[49m\u001b[43m \u001b[49m\u001b[43mmask\u001b[49m\u001b[38;5;241;43m=\u001b[39;49m\u001b[43mmask\u001b[49m\u001b[43m)\u001b[49m\n\u001b[1;32m    382\u001b[0m outputs \u001b[38;5;241m=\u001b[39m inputs  \u001b[38;5;66;03m# handle the corner case where self.layers is empty\u001b[39;00m\n\u001b[1;32m    383\u001b[0m \u001b[38;5;28;01mfor\u001b[39;00m layer \u001b[38;5;129;01min\u001b[39;00m \u001b[38;5;28mself\u001b[39m\u001b[38;5;241m.\u001b[39mlayers:\n\u001b[1;32m    384\u001b[0m   \u001b[38;5;66;03m# During each iteration, `inputs` are the inputs to `layer`, and `outputs`\u001b[39;00m\n\u001b[1;32m    385\u001b[0m   \u001b[38;5;66;03m# are the outputs of `layer` applied to `inputs`. At the end of each\u001b[39;00m\n\u001b[1;32m    386\u001b[0m   \u001b[38;5;66;03m# iteration `inputs` is set to `outputs` to prepare for the next layer.\u001b[39;00m\n",
      "File \u001b[0;32m/opt/homebrew/Caskroom/miniforge/base/envs/tensorflow/lib/python3.9/site-packages/tensorflow/python/keras/engine/functional.py:420\u001b[0m, in \u001b[0;36mFunctional.call\u001b[0;34m(self, inputs, training, mask)\u001b[0m\n\u001b[1;32m    401\u001b[0m \u001b[38;5;129m@doc_controls\u001b[39m\u001b[38;5;241m.\u001b[39mdo_not_doc_inheritable\n\u001b[1;32m    402\u001b[0m \u001b[38;5;28;01mdef\u001b[39;00m \u001b[38;5;21mcall\u001b[39m(\u001b[38;5;28mself\u001b[39m, inputs, training\u001b[38;5;241m=\u001b[39m\u001b[38;5;28;01mNone\u001b[39;00m, mask\u001b[38;5;241m=\u001b[39m\u001b[38;5;28;01mNone\u001b[39;00m):\n\u001b[1;32m    403\u001b[0m   \u001b[38;5;124;03m\"\"\"Calls the model on new inputs.\u001b[39;00m\n\u001b[1;32m    404\u001b[0m \n\u001b[1;32m    405\u001b[0m \u001b[38;5;124;03m  In this case `call` just reapplies\u001b[39;00m\n\u001b[0;32m   (...)\u001b[0m\n\u001b[1;32m    418\u001b[0m \u001b[38;5;124;03m      a list of tensors if there are more than one outputs.\u001b[39;00m\n\u001b[1;32m    419\u001b[0m \u001b[38;5;124;03m  \"\"\"\u001b[39;00m\n\u001b[0;32m--> 420\u001b[0m   \u001b[38;5;28;01mreturn\u001b[39;00m \u001b[38;5;28;43mself\u001b[39;49m\u001b[38;5;241;43m.\u001b[39;49m\u001b[43m_run_internal_graph\u001b[49m\u001b[43m(\u001b[49m\n\u001b[1;32m    421\u001b[0m \u001b[43m      \u001b[49m\u001b[43minputs\u001b[49m\u001b[43m,\u001b[49m\u001b[43m \u001b[49m\u001b[43mtraining\u001b[49m\u001b[38;5;241;43m=\u001b[39;49m\u001b[43mtraining\u001b[49m\u001b[43m,\u001b[49m\u001b[43m \u001b[49m\u001b[43mmask\u001b[49m\u001b[38;5;241;43m=\u001b[39;49m\u001b[43mmask\u001b[49m\u001b[43m)\u001b[49m\n",
      "File \u001b[0;32m/opt/homebrew/Caskroom/miniforge/base/envs/tensorflow/lib/python3.9/site-packages/tensorflow/python/keras/engine/functional.py:556\u001b[0m, in \u001b[0;36mFunctional._run_internal_graph\u001b[0;34m(self, inputs, training, mask)\u001b[0m\n\u001b[1;32m    553\u001b[0m   \u001b[38;5;28;01mcontinue\u001b[39;00m  \u001b[38;5;66;03m# Node is not computable, try skipping.\u001b[39;00m\n\u001b[1;32m    555\u001b[0m args, kwargs \u001b[38;5;241m=\u001b[39m node\u001b[38;5;241m.\u001b[39mmap_arguments(tensor_dict)\n\u001b[0;32m--> 556\u001b[0m outputs \u001b[38;5;241m=\u001b[39m \u001b[43mnode\u001b[49m\u001b[38;5;241;43m.\u001b[39;49m\u001b[43mlayer\u001b[49m\u001b[43m(\u001b[49m\u001b[38;5;241;43m*\u001b[39;49m\u001b[43margs\u001b[49m\u001b[43m,\u001b[49m\u001b[43m \u001b[49m\u001b[38;5;241;43m*\u001b[39;49m\u001b[38;5;241;43m*\u001b[39;49m\u001b[43mkwargs\u001b[49m\u001b[43m)\u001b[49m\n\u001b[1;32m    558\u001b[0m \u001b[38;5;66;03m# Update tensor_dict.\u001b[39;00m\n\u001b[1;32m    559\u001b[0m \u001b[38;5;28;01mfor\u001b[39;00m x_id, y \u001b[38;5;129;01min\u001b[39;00m \u001b[38;5;28mzip\u001b[39m(node\u001b[38;5;241m.\u001b[39mflat_output_ids, nest\u001b[38;5;241m.\u001b[39mflatten(outputs)):\n",
      "File \u001b[0;32m/opt/homebrew/Caskroom/miniforge/base/envs/tensorflow/lib/python3.9/site-packages/tensorflow/python/keras/engine/base_layer.py:1030\u001b[0m, in \u001b[0;36mLayer.__call__\u001b[0;34m(self, *args, **kwargs)\u001b[0m\n\u001b[1;32m   1026\u001b[0m   inputs \u001b[38;5;241m=\u001b[39m \u001b[38;5;28mself\u001b[39m\u001b[38;5;241m.\u001b[39m_maybe_cast_inputs(inputs, input_list)\n\u001b[1;32m   1028\u001b[0m \u001b[38;5;28;01mwith\u001b[39;00m autocast_variable\u001b[38;5;241m.\u001b[39menable_auto_cast_variables(\n\u001b[1;32m   1029\u001b[0m     \u001b[38;5;28mself\u001b[39m\u001b[38;5;241m.\u001b[39m_compute_dtype_object):\n\u001b[0;32m-> 1030\u001b[0m   outputs \u001b[38;5;241m=\u001b[39m \u001b[43mcall_fn\u001b[49m\u001b[43m(\u001b[49m\u001b[43minputs\u001b[49m\u001b[43m,\u001b[49m\u001b[43m \u001b[49m\u001b[38;5;241;43m*\u001b[39;49m\u001b[43margs\u001b[49m\u001b[43m,\u001b[49m\u001b[43m \u001b[49m\u001b[38;5;241;43m*\u001b[39;49m\u001b[38;5;241;43m*\u001b[39;49m\u001b[43mkwargs\u001b[49m\u001b[43m)\u001b[49m\n\u001b[1;32m   1032\u001b[0m \u001b[38;5;28;01mif\u001b[39;00m \u001b[38;5;28mself\u001b[39m\u001b[38;5;241m.\u001b[39m_activity_regularizer:\n\u001b[1;32m   1033\u001b[0m   \u001b[38;5;28mself\u001b[39m\u001b[38;5;241m.\u001b[39m_handle_activity_regularization(inputs, outputs)\n",
      "File \u001b[0;32m/opt/homebrew/Caskroom/miniforge/base/envs/tensorflow/lib/python3.9/site-packages/tensorflow/python/keras/layers/preprocessing/image_preprocessing.py:827\u001b[0m, in \u001b[0;36mRandomRotation.call\u001b[0;34m(self, inputs, training)\u001b[0m\n\u001b[1;32m    818\u001b[0m   angles \u001b[38;5;241m=\u001b[39m \u001b[38;5;28mself\u001b[39m\u001b[38;5;241m.\u001b[39m_rng\u001b[38;5;241m.\u001b[39muniform(\n\u001b[1;32m    819\u001b[0m       shape\u001b[38;5;241m=\u001b[39m[batch_size], minval\u001b[38;5;241m=\u001b[39mmin_angle, maxval\u001b[38;5;241m=\u001b[39mmax_angle)\n\u001b[1;32m    820\u001b[0m   \u001b[38;5;28;01mreturn\u001b[39;00m transform(\n\u001b[1;32m    821\u001b[0m       inputs,\n\u001b[1;32m    822\u001b[0m       get_rotation_matrix(angles, img_hd, img_wd),\n\u001b[1;32m    823\u001b[0m       fill_mode\u001b[38;5;241m=\u001b[39m\u001b[38;5;28mself\u001b[39m\u001b[38;5;241m.\u001b[39mfill_mode,\n\u001b[1;32m    824\u001b[0m       fill_value\u001b[38;5;241m=\u001b[39m\u001b[38;5;28mself\u001b[39m\u001b[38;5;241m.\u001b[39mfill_value,\n\u001b[1;32m    825\u001b[0m       interpolation\u001b[38;5;241m=\u001b[39m\u001b[38;5;28mself\u001b[39m\u001b[38;5;241m.\u001b[39minterpolation)\n\u001b[0;32m--> 827\u001b[0m output \u001b[38;5;241m=\u001b[39m \u001b[43mcontrol_flow_util\u001b[49m\u001b[38;5;241;43m.\u001b[39;49m\u001b[43msmart_cond\u001b[49m\u001b[43m(\u001b[49m\u001b[43mtraining\u001b[49m\u001b[43m,\u001b[49m\u001b[43m \u001b[49m\u001b[43mrandom_rotated_inputs\u001b[49m\u001b[43m,\u001b[49m\n\u001b[1;32m    828\u001b[0m \u001b[43m                                      \u001b[49m\u001b[38;5;28;43;01mlambda\u001b[39;49;00m\u001b[43m:\u001b[49m\u001b[43m \u001b[49m\u001b[43minputs\u001b[49m\u001b[43m)\u001b[49m\n\u001b[1;32m    829\u001b[0m output\u001b[38;5;241m.\u001b[39mset_shape(inputs\u001b[38;5;241m.\u001b[39mshape)\n\u001b[1;32m    830\u001b[0m \u001b[38;5;28;01mreturn\u001b[39;00m output\n",
      "File \u001b[0;32m/opt/homebrew/Caskroom/miniforge/base/envs/tensorflow/lib/python3.9/site-packages/tensorflow/python/keras/utils/control_flow_util.py:109\u001b[0m, in \u001b[0;36msmart_cond\u001b[0;34m(pred, true_fn, false_fn, name)\u001b[0m\n\u001b[1;32m    106\u001b[0m \u001b[38;5;28;01mif\u001b[39;00m \u001b[38;5;28misinstance\u001b[39m(pred, variables\u001b[38;5;241m.\u001b[39mVariable):\n\u001b[1;32m    107\u001b[0m   \u001b[38;5;28;01mreturn\u001b[39;00m control_flow_ops\u001b[38;5;241m.\u001b[39mcond(\n\u001b[1;32m    108\u001b[0m       pred, true_fn\u001b[38;5;241m=\u001b[39mtrue_fn, false_fn\u001b[38;5;241m=\u001b[39mfalse_fn, name\u001b[38;5;241m=\u001b[39mname)\n\u001b[0;32m--> 109\u001b[0m \u001b[38;5;28;01mreturn\u001b[39;00m \u001b[43msmart_module\u001b[49m\u001b[38;5;241;43m.\u001b[39;49m\u001b[43msmart_cond\u001b[49m\u001b[43m(\u001b[49m\n\u001b[1;32m    110\u001b[0m \u001b[43m    \u001b[49m\u001b[43mpred\u001b[49m\u001b[43m,\u001b[49m\u001b[43m \u001b[49m\u001b[43mtrue_fn\u001b[49m\u001b[38;5;241;43m=\u001b[39;49m\u001b[43mtrue_fn\u001b[49m\u001b[43m,\u001b[49m\u001b[43m \u001b[49m\u001b[43mfalse_fn\u001b[49m\u001b[38;5;241;43m=\u001b[39;49m\u001b[43mfalse_fn\u001b[49m\u001b[43m,\u001b[49m\u001b[43m \u001b[49m\u001b[43mname\u001b[49m\u001b[38;5;241;43m=\u001b[39;49m\u001b[43mname\u001b[49m\u001b[43m)\u001b[49m\n",
      "File \u001b[0;32m/opt/homebrew/Caskroom/miniforge/base/envs/tensorflow/lib/python3.9/site-packages/tensorflow/python/framework/smart_cond.py:54\u001b[0m, in \u001b[0;36msmart_cond\u001b[0;34m(pred, true_fn, false_fn, name)\u001b[0m\n\u001b[1;32m     52\u001b[0m \u001b[38;5;28;01mif\u001b[39;00m pred_value \u001b[38;5;129;01mis\u001b[39;00m \u001b[38;5;129;01mnot\u001b[39;00m \u001b[38;5;28;01mNone\u001b[39;00m:\n\u001b[1;32m     53\u001b[0m   \u001b[38;5;28;01mif\u001b[39;00m pred_value:\n\u001b[0;32m---> 54\u001b[0m     \u001b[38;5;28;01mreturn\u001b[39;00m \u001b[43mtrue_fn\u001b[49m\u001b[43m(\u001b[49m\u001b[43m)\u001b[49m\n\u001b[1;32m     55\u001b[0m   \u001b[38;5;28;01melse\u001b[39;00m:\n\u001b[1;32m     56\u001b[0m     \u001b[38;5;28;01mreturn\u001b[39;00m false_fn()\n",
      "File \u001b[0;32m/opt/homebrew/Caskroom/miniforge/base/envs/tensorflow/lib/python3.9/site-packages/tensorflow/python/keras/layers/preprocessing/image_preprocessing.py:818\u001b[0m, in \u001b[0;36mRandomRotation.call.<locals>.random_rotated_inputs\u001b[0;34m()\u001b[0m\n\u001b[1;32m    816\u001b[0m min_angle \u001b[38;5;241m=\u001b[39m \u001b[38;5;28mself\u001b[39m\u001b[38;5;241m.\u001b[39mlower \u001b[38;5;241m*\u001b[39m \u001b[38;5;241m2.\u001b[39m \u001b[38;5;241m*\u001b[39m np\u001b[38;5;241m.\u001b[39mpi\n\u001b[1;32m    817\u001b[0m max_angle \u001b[38;5;241m=\u001b[39m \u001b[38;5;28mself\u001b[39m\u001b[38;5;241m.\u001b[39mupper \u001b[38;5;241m*\u001b[39m \u001b[38;5;241m2.\u001b[39m \u001b[38;5;241m*\u001b[39m np\u001b[38;5;241m.\u001b[39mpi\n\u001b[0;32m--> 818\u001b[0m angles \u001b[38;5;241m=\u001b[39m \u001b[38;5;28;43mself\u001b[39;49m\u001b[38;5;241;43m.\u001b[39;49m\u001b[43m_rng\u001b[49m\u001b[38;5;241;43m.\u001b[39;49m\u001b[43muniform\u001b[49m\u001b[43m(\u001b[49m\n\u001b[1;32m    819\u001b[0m \u001b[43m    \u001b[49m\u001b[43mshape\u001b[49m\u001b[38;5;241;43m=\u001b[39;49m\u001b[43m[\u001b[49m\u001b[43mbatch_size\u001b[49m\u001b[43m]\u001b[49m\u001b[43m,\u001b[49m\u001b[43m \u001b[49m\u001b[43mminval\u001b[49m\u001b[38;5;241;43m=\u001b[39;49m\u001b[43mmin_angle\u001b[49m\u001b[43m,\u001b[49m\u001b[43m \u001b[49m\u001b[43mmaxval\u001b[49m\u001b[38;5;241;43m=\u001b[39;49m\u001b[43mmax_angle\u001b[49m\u001b[43m)\u001b[49m\n\u001b[1;32m    820\u001b[0m \u001b[38;5;28;01mreturn\u001b[39;00m transform(\n\u001b[1;32m    821\u001b[0m     inputs,\n\u001b[1;32m    822\u001b[0m     get_rotation_matrix(angles, img_hd, img_wd),\n\u001b[1;32m    823\u001b[0m     fill_mode\u001b[38;5;241m=\u001b[39m\u001b[38;5;28mself\u001b[39m\u001b[38;5;241m.\u001b[39mfill_mode,\n\u001b[1;32m    824\u001b[0m     fill_value\u001b[38;5;241m=\u001b[39m\u001b[38;5;28mself\u001b[39m\u001b[38;5;241m.\u001b[39mfill_value,\n\u001b[1;32m    825\u001b[0m     interpolation\u001b[38;5;241m=\u001b[39m\u001b[38;5;28mself\u001b[39m\u001b[38;5;241m.\u001b[39minterpolation)\n",
      "File \u001b[0;32m/opt/homebrew/Caskroom/miniforge/base/envs/tensorflow/lib/python3.9/site-packages/tensorflow/python/ops/stateful_random_ops.py:813\u001b[0m, in \u001b[0;36mGenerator.uniform\u001b[0;34m(self, shape, minval, maxval, dtype, name)\u001b[0m\n\u001b[1;32m    809\u001b[0m   \u001b[38;5;28;01mreturn\u001b[39;00m gen_stateful_random_ops\u001b[38;5;241m.\u001b[39mstateful_uniform_int(\n\u001b[1;32m    810\u001b[0m       \u001b[38;5;28mself\u001b[39m\u001b[38;5;241m.\u001b[39mstate\u001b[38;5;241m.\u001b[39mhandle, \u001b[38;5;28mself\u001b[39m\u001b[38;5;241m.\u001b[39malgorithm, shape\u001b[38;5;241m=\u001b[39mshape,\n\u001b[1;32m    811\u001b[0m       minval\u001b[38;5;241m=\u001b[39mminval, maxval\u001b[38;5;241m=\u001b[39mmaxval, name\u001b[38;5;241m=\u001b[39mname)\n\u001b[1;32m    812\u001b[0m \u001b[38;5;28;01melse\u001b[39;00m:\n\u001b[0;32m--> 813\u001b[0m   rnd \u001b[38;5;241m=\u001b[39m \u001b[38;5;28;43mself\u001b[39;49m\u001b[38;5;241;43m.\u001b[39;49m\u001b[43m_uniform\u001b[49m\u001b[43m(\u001b[49m\u001b[43mshape\u001b[49m\u001b[38;5;241;43m=\u001b[39;49m\u001b[43mshape\u001b[49m\u001b[43m,\u001b[49m\u001b[43m \u001b[49m\u001b[43mdtype\u001b[49m\u001b[38;5;241;43m=\u001b[39;49m\u001b[43mdtype\u001b[49m\u001b[43m)\u001b[49m\n\u001b[1;32m    814\u001b[0m   \u001b[38;5;28;01mreturn\u001b[39;00m math_ops\u001b[38;5;241m.\u001b[39madd(rnd \u001b[38;5;241m*\u001b[39m (maxval \u001b[38;5;241m-\u001b[39m minval), minval, name\u001b[38;5;241m=\u001b[39mname)\n",
      "File \u001b[0;32m/opt/homebrew/Caskroom/miniforge/base/envs/tensorflow/lib/python3.9/site-packages/tensorflow/python/ops/stateful_random_ops.py:716\u001b[0m, in \u001b[0;36mGenerator._uniform\u001b[0;34m(self, shape, dtype)\u001b[0m\n\u001b[1;32m    714\u001b[0m \u001b[38;5;28;01mdef\u001b[39;00m \u001b[38;5;21m_uniform\u001b[39m(\u001b[38;5;28mself\u001b[39m, shape, dtype):\n\u001b[1;32m    715\u001b[0m   \u001b[38;5;28;01mif\u001b[39;00m compat\u001b[38;5;241m.\u001b[39mforward_compatible(\u001b[38;5;241m2020\u001b[39m, \u001b[38;5;241m10\u001b[39m, \u001b[38;5;241m25\u001b[39m):\n\u001b[0;32m--> 716\u001b[0m     key, counter \u001b[38;5;241m=\u001b[39m \u001b[38;5;28;43mself\u001b[39;49m\u001b[38;5;241;43m.\u001b[39;49m\u001b[43m_prepare_key_counter\u001b[49m\u001b[43m(\u001b[49m\u001b[43mshape\u001b[49m\u001b[43m)\u001b[49m\n\u001b[1;32m    717\u001b[0m     \u001b[38;5;28;01mreturn\u001b[39;00m gen_stateless_random_ops_v2\u001b[38;5;241m.\u001b[39mstateless_random_uniform_v2(\n\u001b[1;32m    718\u001b[0m         shape\u001b[38;5;241m=\u001b[39mshape,\n\u001b[1;32m    719\u001b[0m         key\u001b[38;5;241m=\u001b[39mkey,\n\u001b[1;32m    720\u001b[0m         counter\u001b[38;5;241m=\u001b[39mcounter,\n\u001b[1;32m    721\u001b[0m         dtype\u001b[38;5;241m=\u001b[39mdtype,\n\u001b[1;32m    722\u001b[0m         alg\u001b[38;5;241m=\u001b[39m\u001b[38;5;28mself\u001b[39m\u001b[38;5;241m.\u001b[39malgorithm)\n\u001b[1;32m    723\u001b[0m   \u001b[38;5;28;01mreturn\u001b[39;00m gen_stateful_random_ops\u001b[38;5;241m.\u001b[39mstateful_uniform(\n\u001b[1;32m    724\u001b[0m       \u001b[38;5;28mself\u001b[39m\u001b[38;5;241m.\u001b[39mstate\u001b[38;5;241m.\u001b[39mhandle, \u001b[38;5;28mself\u001b[39m\u001b[38;5;241m.\u001b[39malgorithm, shape\u001b[38;5;241m=\u001b[39mshape, dtype\u001b[38;5;241m=\u001b[39mdtype)\n",
      "File \u001b[0;32m/opt/homebrew/Caskroom/miniforge/base/envs/tensorflow/lib/python3.9/site-packages/tensorflow/python/ops/stateful_random_ops.py:634\u001b[0m, in \u001b[0;36mGenerator._prepare_key_counter\u001b[0;34m(self, shape)\u001b[0m\n\u001b[1;32m    632\u001b[0m \u001b[38;5;28;01mdef\u001b[39;00m \u001b[38;5;21m_prepare_key_counter\u001b[39m(\u001b[38;5;28mself\u001b[39m, shape):\n\u001b[1;32m    633\u001b[0m   delta \u001b[38;5;241m=\u001b[39m math_ops\u001b[38;5;241m.\u001b[39mreduce_prod(shape)\n\u001b[0;32m--> 634\u001b[0m   counter_key \u001b[38;5;241m=\u001b[39m \u001b[38;5;28;43mself\u001b[39;49m\u001b[38;5;241;43m.\u001b[39;49m\u001b[43mskip\u001b[49m\u001b[43m(\u001b[49m\u001b[43mdelta\u001b[49m\u001b[43m)\u001b[49m\n\u001b[1;32m    635\u001b[0m   counter_size \u001b[38;5;241m=\u001b[39m _get_counter_size(\u001b[38;5;28mself\u001b[39m\u001b[38;5;241m.\u001b[39malgorithm)\n\u001b[1;32m    636\u001b[0m   counter \u001b[38;5;241m=\u001b[39m array_ops\u001b[38;5;241m.\u001b[39mbitcast(counter_key[:counter_size], dtypes\u001b[38;5;241m.\u001b[39muint64)\n",
      "File \u001b[0;32m/opt/homebrew/Caskroom/miniforge/base/envs/tensorflow/lib/python3.9/site-packages/tensorflow/python/ops/stateful_random_ops.py:586\u001b[0m, in \u001b[0;36mGenerator.skip\u001b[0;34m(self, delta)\u001b[0m\n\u001b[1;32m    577\u001b[0m \u001b[38;5;124;03m\"\"\"Advance the counter of a counter-based RNG.\u001b[39;00m\n\u001b[1;32m    578\u001b[0m \n\u001b[1;32m    579\u001b[0m \u001b[38;5;124;03mArgs:\u001b[39;00m\n\u001b[0;32m   (...)\u001b[0m\n\u001b[1;32m    583\u001b[0m \u001b[38;5;124;03m    counter is an unspecified implementation detail.\u001b[39;00m\n\u001b[1;32m    584\u001b[0m \u001b[38;5;124;03m\"\"\"\u001b[39;00m\n\u001b[1;32m    585\u001b[0m \u001b[38;5;28;01mif\u001b[39;00m compat\u001b[38;5;241m.\u001b[39mforward_compatible(\u001b[38;5;241m2020\u001b[39m, \u001b[38;5;241m10\u001b[39m, \u001b[38;5;241m25\u001b[39m):\n\u001b[0;32m--> 586\u001b[0m   \u001b[38;5;28;01mreturn\u001b[39;00m \u001b[38;5;28;43mself\u001b[39;49m\u001b[38;5;241;43m.\u001b[39;49m\u001b[43m_skip\u001b[49m\u001b[43m(\u001b[49m\u001b[43mdelta\u001b[49m\u001b[43m)\u001b[49m\n\u001b[1;32m    587\u001b[0m gen_stateful_random_ops\u001b[38;5;241m.\u001b[39mrng_skip(\n\u001b[1;32m    588\u001b[0m     \u001b[38;5;28mself\u001b[39m\u001b[38;5;241m.\u001b[39mstate\u001b[38;5;241m.\u001b[39mhandle, math_ops\u001b[38;5;241m.\u001b[39mcast(\u001b[38;5;28mself\u001b[39m\u001b[38;5;241m.\u001b[39malgorithm, dtypes\u001b[38;5;241m.\u001b[39mint64),\n\u001b[1;32m    589\u001b[0m     math_ops\u001b[38;5;241m.\u001b[39mcast(delta, dtypes\u001b[38;5;241m.\u001b[39mint64))\n",
      "File \u001b[0;32m/opt/homebrew/Caskroom/miniforge/base/envs/tensorflow/lib/python3.9/site-packages/tensorflow/python/ops/stateful_random_ops.py:616\u001b[0m, in \u001b[0;36mGenerator._skip\u001b[0;34m(self, delta)\u001b[0m\n\u001b[1;32m    613\u001b[0m       \u001b[38;5;66;03m# In cross-replica context we need to use strategy.extended.update.\u001b[39;00m\n\u001b[1;32m    614\u001b[0m       \u001b[38;5;28;01mreturn\u001b[39;00m ds_context\u001b[38;5;241m.\u001b[39mget_strategy()\u001b[38;5;241m.\u001b[39mextended\u001b[38;5;241m.\u001b[39mupdate(\n\u001b[1;32m    615\u001b[0m           \u001b[38;5;28mself\u001b[39m\u001b[38;5;241m.\u001b[39mstate, update_fn)\n\u001b[0;32m--> 616\u001b[0m \u001b[38;5;28;01mreturn\u001b[39;00m \u001b[43mupdate_fn\u001b[49m\u001b[43m(\u001b[49m\u001b[38;5;28;43mself\u001b[39;49m\u001b[38;5;241;43m.\u001b[39;49m\u001b[43mstate\u001b[49m\u001b[43m)\u001b[49m\n",
      "File \u001b[0;32m/opt/homebrew/Caskroom/miniforge/base/envs/tensorflow/lib/python3.9/site-packages/tensorflow/python/ops/stateful_random_ops.py:600\u001b[0m, in \u001b[0;36mGenerator._skip.<locals>.update_fn\u001b[0;34m(v)\u001b[0m\n\u001b[1;32m    599\u001b[0m \u001b[38;5;28;01mdef\u001b[39;00m \u001b[38;5;21mupdate_fn\u001b[39m(v):\n\u001b[0;32m--> 600\u001b[0m   \u001b[38;5;28;01mreturn\u001b[39;00m \u001b[38;5;28;43mself\u001b[39;49m\u001b[38;5;241;43m.\u001b[39;49m\u001b[43m_skip_single_var\u001b[49m\u001b[43m(\u001b[49m\u001b[43mv\u001b[49m\u001b[43m,\u001b[49m\u001b[43m \u001b[49m\u001b[43mdelta\u001b[49m\u001b[43m)\u001b[49m\n",
      "File \u001b[0;32m/opt/homebrew/Caskroom/miniforge/base/envs/tensorflow/lib/python3.9/site-packages/tensorflow/python/ops/stateful_random_ops.py:594\u001b[0m, in \u001b[0;36mGenerator._skip_single_var\u001b[0;34m(self, var, delta)\u001b[0m\n\u001b[1;32m    592\u001b[0m \u001b[38;5;28;01mdef\u001b[39;00m \u001b[38;5;21m_skip_single_var\u001b[39m(\u001b[38;5;28mself\u001b[39m, var, delta):\n\u001b[1;32m    593\u001b[0m   \u001b[38;5;66;03m# TODO(wangpeng): Cache the cast algorithm instead of casting everytime.\u001b[39;00m\n\u001b[0;32m--> 594\u001b[0m   \u001b[38;5;28;01mreturn\u001b[39;00m \u001b[43mgen_stateful_random_ops\u001b[49m\u001b[38;5;241;43m.\u001b[39;49m\u001b[43mrng_read_and_skip\u001b[49m\u001b[43m(\u001b[49m\n\u001b[1;32m    595\u001b[0m \u001b[43m      \u001b[49m\u001b[43mvar\u001b[49m\u001b[38;5;241;43m.\u001b[39;49m\u001b[43mhandle\u001b[49m\u001b[43m,\u001b[49m\u001b[43m \u001b[49m\u001b[43malg\u001b[49m\u001b[38;5;241;43m=\u001b[39;49m\u001b[43mmath_ops\u001b[49m\u001b[38;5;241;43m.\u001b[39;49m\u001b[43mcast\u001b[49m\u001b[43m(\u001b[49m\u001b[38;5;28;43mself\u001b[39;49m\u001b[38;5;241;43m.\u001b[39;49m\u001b[43malgorithm\u001b[49m\u001b[43m,\u001b[49m\u001b[43m \u001b[49m\u001b[43mdtypes\u001b[49m\u001b[38;5;241;43m.\u001b[39;49m\u001b[43mint32\u001b[49m\u001b[43m)\u001b[49m\u001b[43m,\u001b[49m\n\u001b[1;32m    596\u001b[0m \u001b[43m      \u001b[49m\u001b[43mdelta\u001b[49m\u001b[38;5;241;43m=\u001b[39;49m\u001b[43mmath_ops\u001b[49m\u001b[38;5;241;43m.\u001b[39;49m\u001b[43mcast\u001b[49m\u001b[43m(\u001b[49m\u001b[43mdelta\u001b[49m\u001b[43m,\u001b[49m\u001b[43m \u001b[49m\u001b[43mdtypes\u001b[49m\u001b[38;5;241;43m.\u001b[39;49m\u001b[43muint64\u001b[49m\u001b[43m)\u001b[49m\u001b[43m)\u001b[49m\n",
      "File \u001b[0;32m/opt/homebrew/Caskroom/miniforge/base/envs/tensorflow/lib/python3.9/site-packages/tensorflow/python/ops/gen_stateful_random_ops.py:115\u001b[0m, in \u001b[0;36mrng_read_and_skip\u001b[0;34m(resource, alg, delta, name)\u001b[0m\n\u001b[1;32m    113\u001b[0m   \u001b[38;5;28;01mreturn\u001b[39;00m _result\n\u001b[1;32m    114\u001b[0m \u001b[38;5;28;01mexcept\u001b[39;00m _core\u001b[38;5;241m.\u001b[39m_NotOkStatusException \u001b[38;5;28;01mas\u001b[39;00m e:\n\u001b[0;32m--> 115\u001b[0m   \u001b[43m_ops\u001b[49m\u001b[38;5;241;43m.\u001b[39;49m\u001b[43mraise_from_not_ok_status\u001b[49m\u001b[43m(\u001b[49m\u001b[43me\u001b[49m\u001b[43m,\u001b[49m\u001b[43m \u001b[49m\u001b[43mname\u001b[49m\u001b[43m)\u001b[49m\n\u001b[1;32m    116\u001b[0m \u001b[38;5;28;01mexcept\u001b[39;00m _core\u001b[38;5;241m.\u001b[39m_FallbackException:\n\u001b[1;32m    117\u001b[0m   \u001b[38;5;28;01mpass\u001b[39;00m\n",
      "File \u001b[0;32m/opt/homebrew/Caskroom/miniforge/base/envs/tensorflow/lib/python3.9/site-packages/tensorflow/python/framework/ops.py:6897\u001b[0m, in \u001b[0;36mraise_from_not_ok_status\u001b[0;34m(e, name)\u001b[0m\n\u001b[1;32m   6895\u001b[0m message \u001b[38;5;241m=\u001b[39m e\u001b[38;5;241m.\u001b[39mmessage \u001b[38;5;241m+\u001b[39m (\u001b[38;5;124m\"\u001b[39m\u001b[38;5;124m name: \u001b[39m\u001b[38;5;124m\"\u001b[39m \u001b[38;5;241m+\u001b[39m name \u001b[38;5;28;01mif\u001b[39;00m name \u001b[38;5;129;01mis\u001b[39;00m \u001b[38;5;129;01mnot\u001b[39;00m \u001b[38;5;28;01mNone\u001b[39;00m \u001b[38;5;28;01melse\u001b[39;00m \u001b[38;5;124m\"\u001b[39m\u001b[38;5;124m\"\u001b[39m)\n\u001b[1;32m   6896\u001b[0m \u001b[38;5;66;03m# pylint: disable=protected-access\u001b[39;00m\n\u001b[0;32m-> 6897\u001b[0m \u001b[43msix\u001b[49m\u001b[38;5;241;43m.\u001b[39;49m\u001b[43mraise_from\u001b[49m\u001b[43m(\u001b[49m\u001b[43mcore\u001b[49m\u001b[38;5;241;43m.\u001b[39;49m\u001b[43m_status_to_exception\u001b[49m\u001b[43m(\u001b[49m\u001b[43me\u001b[49m\u001b[38;5;241;43m.\u001b[39;49m\u001b[43mcode\u001b[49m\u001b[43m,\u001b[49m\u001b[43m \u001b[49m\u001b[43mmessage\u001b[49m\u001b[43m)\u001b[49m\u001b[43m,\u001b[49m\u001b[43m \u001b[49m\u001b[38;5;28;43;01mNone\u001b[39;49;00m\u001b[43m)\u001b[49m\n",
      "File \u001b[0;32m<string>:3\u001b[0m, in \u001b[0;36mraise_from\u001b[0;34m(value, from_value)\u001b[0m\n",
      "\u001b[0;31mNotFoundError\u001b[0m: No registered 'RngReadAndSkip' OpKernel for 'GPU' devices compatible with node {{node RngReadAndSkip}}\n\t.  Registered:  device='XLA_CPU_JIT'\n  device='CPU'\n [Op:RngReadAndSkip]"
     ]
    },
    {
     "data": {
      "image/png": "[encoded data removed]",
      "text/plain": [
       "<Figure size 640x480 with 1 Axes>"
      ]
     },
     "metadata": {},
     "output_type": "display_data"
    }
   ],
   "source": [
    "# View a random image\n",
    "import matplotlib.pyplot as plt\n",
    "import matplotlib.image as mpimg\n",
    "import os\n",
    "import random\n",
    "target_class = random.choice(train_data_1_percent.class_names) # choose a random class\n",
    "target_dir = \"10_food_classes_1_percent/train/\" + target_class # create the target directory\n",
    "random_image = random.choice(os.listdir(target_dir)) # choose a random image from target directory\n",
    "random_image_path = target_dir + \"/\" + random_image # create the choosen random image path\n",
    "img = mpimg.imread(random_image_path) # read in the chosen target image\n",
    "plt.imshow(img) # plot the target image\n",
    "plt.title(f\"Original random image from class: {target_class}\")\n",
    "plt.axis(False); # turn off the axes\n",
    "\n",
    "# Augment the image\n",
    "augmented_img = data_augmentation(tf.expand_dims(img, axis=0), training=True) # data augmentation model requires shape (None, height, width, 3)\n",
    "plt.figure()\n",
    "plt.imshow(tf.squeeze(augmented_img)/255.) # requires normalization after augmentation\n",
    "plt.title(f\"Augmented random image from class: {target_class}\")\n",
    "plt.axis(False);"
   ]
  },
  {
   "cell_type": "markdown",
   "id": "49cad940",
   "metadata": {},
   "source": [
    "Run the cell above a few times and you can see the different random augmentations on different classes of images. Because we're going to add the data augmentation model as a layer in our upcoming transfer learning model, it'll apply these kind of random augmentations to each of the training images which passes through it.\n",
    "\n",
    "Doing this will make our training dataset a little more varied. You can think of it as if you were taking a photo of food in real-life, not all of the images are going to be perfect, some of them are going to be orientated in strange ways. These are the kind of images we want our model to be able to handle.\n",
    "\n",
    "Speaking of model, let's build one with the Functional API. We'll run through all of the same steps as before except for one difference, we'll add our data augmentation Sequential model as a layer immediately after the input layer."
   ]
  },
  {
   "cell_type": "markdown",
   "id": "e827ff07",
   "metadata": {},
   "source": [
    "## Model 1: Feature extraction transfer learning on 1% of the data with data augmentation"
   ]
  },
  {
   "cell_type": "code",
   "execution_count": 32,
   "id": "0dc4b919",
   "metadata": {},
   "outputs": [
    {
     "name": "stdout",
     "output_type": "stream",
     "text": [
      "Saving TensorBoard log files to: transfer_learning/1_percent_data_aug/20221213-151342\n",
      "Epoch 1/5\n"
     ]
    },
    {
     "name": "stderr",
     "output_type": "stream",
     "text": [
      "2022-12-13 15:13:42.191505: I tensorflow/core/profiler/lib/profiler_session.cc:126] Profiler session initializing.\n",
      "2022-12-13 15:13:42.191515: I tensorflow/core/profiler/lib/profiler_session.cc:141] Profiler session started.\n",
      "2022-12-13 15:13:42.191525: I tensorflow/core/profiler/lib/profiler_session.cc:159] Profiler session tear down.\n",
      "2022-12-13 15:13:43.249048: I tensorflow/core/grappler/optimizers/custom_graph_optimizer_registry.cc:112] Plugin optimizer for device_type GPU is enabled.\n"
     ]
    },
    {
     "name": "stdout",
     "output_type": "stream",
     "text": [
      "\r",
      "1/3 [=========>....................] - ETA: 3s - loss: 2.4255 - accuracy: 0.1250"
     ]
    },
    {
     "name": "stderr",
     "output_type": "stream",
     "text": [
      "2022-12-13 15:13:44.466364: I tensorflow/core/profiler/lib/profiler_session.cc:126] Profiler session initializing.\n",
      "2022-12-13 15:13:44.466382: I tensorflow/core/profiler/lib/profiler_session.cc:141] Profiler session started.\n"
     ]
    },
    {
     "name": "stdout",
     "output_type": "stream",
     "text": [
      "\b\b\b\b\b\b\b\b\b\b\b\b\b\b\b\b\b\b\b\b\b\b\b\b\b\b\b\b\b\b\b\b\b\b\b\b\b\b\b\b\b\b\b\b\b\b\b\b\b\b\b\b\b\b\b\b\b\b\b\b\b\b\b\b\b\b\b\b\b\b\b\b\b\b\b\b\b\b\b\b\r",
      "2/3 [===================>..........] - ETA: 0s - loss: 2.3839 - accuracy: 0.1250"
     ]
    },
    {
     "name": "stderr",
     "output_type": "stream",
     "text": [
      "2022-12-13 15:13:44.875391: I tensorflow/core/profiler/lib/profiler_session.cc:66] Profiler session collecting data.\n",
      "2022-12-13 15:13:44.876306: I tensorflow/core/profiler/lib/profiler_session.cc:159] Profiler session tear down.\n",
      "2022-12-13 15:13:44.877888: I tensorflow/core/profiler/rpc/client/save_profile.cc:137] Creating directory: transfer_learning/1_percent_data_aug/20221213-151342/train/plugins/profile/2022_12_13_15_13_44\n",
      "2022-12-13 15:13:44.878661: I tensorflow/core/profiler/rpc/client/save_profile.cc:143] Dumped gzipped tool data for trace.json.gz to transfer_learning/1_percent_data_aug/20221213-151342/train/plugins/profile/2022_12_13_15_13_44/SNIGDHAs-MacBook-Air-2.local.trace.json.gz\n",
      "2022-12-13 15:13:44.879136: I tensorflow/core/profiler/rpc/client/save_profile.cc:137] Creating directory: transfer_learning/1_percent_data_aug/20221213-151342/train/plugins/profile/2022_12_13_15_13_44\n",
      "2022-12-13 15:13:44.879309: I tensorflow/core/profiler/rpc/client/save_profile.cc:143] Dumped gzipped tool data for memory_profile.json.gz to transfer_learning/1_percent_data_aug/20221213-151342/train/plugins/profile/2022_12_13_15_13_44/SNIGDHAs-MacBook-Air-2.local.memory_profile.json.gz\n",
      "2022-12-13 15:13:44.879676: I tensorflow/core/profiler/rpc/client/capture_profile.cc:251] Creating directory: transfer_learning/1_percent_data_aug/20221213-151342/train/plugins/profile/2022_12_13_15_13_44Dumped tool data for xplane.pb to transfer_learning/1_percent_data_aug/20221213-151342/train/plugins/profile/2022_12_13_15_13_44/SNIGDHAs-MacBook-Air-2.local.xplane.pb\n",
      "Dumped tool data for overview_page.pb to transfer_learning/1_percent_data_aug/20221213-151342/train/plugins/profile/2022_12_13_15_13_44/SNIGDHAs-MacBook-Air-2.local.overview_page.pb\n",
      "Dumped tool data for input_pipeline.pb to transfer_learning/1_percent_data_aug/20221213-151342/train/plugins/profile/2022_12_13_15_13_44/SNIGDHAs-MacBook-Air-2.local.input_pipeline.pb\n",
      "Dumped tool data for tensorflow_stats.pb to transfer_learning/1_percent_data_aug/20221213-151342/train/plugins/profile/2022_12_13_15_13_44/SNIGDHAs-MacBook-Air-2.local.tensorflow_stats.pb\n",
      "Dumped tool data for kernel_stats.pb to transfer_learning/1_percent_data_aug/20221213-151342/train/plugins/profile/2022_12_13_15_13_44/SNIGDHAs-MacBook-Air-2.local.kernel_stats.pb\n",
      "\n"
     ]
    },
    {
     "name": "stdout",
     "output_type": "stream",
     "text": [
      "\b\b\b\b\b\b\b\b\b\b\b\b\b\b\b\b\b\b\b\b\b\b\b\b\b\b\b\b\b\b\b\b\b\b\b\b\b\b\b\b\b\b\b\b\b\b\b\b\b\b\b\b\b\b\b\b\b\b\b\b\b\b\b\b\b\b\b\b\b\b\b\b\b\b\b\b\b\b\b\b\r",
      "3/3 [==============================] - ETA: 0s - loss: 2.3928 - accuracy: 0.1143"
     ]
    },
    {
     "name": "stderr",
     "output_type": "stream",
     "text": [
      "2022-12-13 15:13:45.516248: I tensorflow/core/grappler/optimizers/custom_graph_optimizer_registry.cc:112] Plugin optimizer for device_type GPU is enabled.\n"
     ]
    },
    {
     "name": "stdout",
     "output_type": "stream",
     "text": [
      "3/3 [==============================] - 8s 3s/step - loss: 2.3928 - accuracy: 0.1143 - val_loss: 2.2984 - val_accuracy: 0.1414\n",
      "Epoch 2/5\n",
      "3/3 [==============================] - 5s 3s/step - loss: 2.1022 - accuracy: 0.3000 - val_loss: 2.1718 - val_accuracy: 0.2451\n",
      "Epoch 3/5\n",
      "3/3 [==============================] - 5s 3s/step - loss: 1.8258 - accuracy: 0.5571 - val_loss: 2.0324 - val_accuracy: 0.3306\n",
      "Epoch 4/5\n",
      "3/3 [==============================] - 5s 3s/step - loss: 1.6208 - accuracy: 0.7000 - val_loss: 1.8970 - val_accuracy: 0.4178\n",
      "Epoch 5/5\n",
      "3/3 [==============================] - 5s 3s/step - loss: 1.4489 - accuracy: 0.8000 - val_loss: 1.8176 - val_accuracy: 0.4688\n"
     ]
    }
   ],
   "source": [
    "# Setup input shape and base model, freezing the base model layers\n",
    "input_shape = (224, 224, 3)\n",
    "base_model = tf.keras.applications.EfficientNetB0(include_top=False)\n",
    "base_model.trainable = False\n",
    "\n",
    "# Create input layer\n",
    "inputs = layers.Input(shape=input_shape, name=\"input_layer\")\n",
    "\n",
    "# Add in data augmentation Sequential model as a layer\n",
    "#x = data_augmentation(inputs)\n",
    "\n",
    "# Give base_model inputs (after augmentation) and don't train it\n",
    "x = base_model(inputs)#(x,training=False)\n",
    "\n",
    "# Pool output features of base model\n",
    "x = layers.GlobalAveragePooling2D(name=\"global_average_pooling_layer\")(x)\n",
    "\n",
    "# Put a dense layer on as the output\n",
    "outputs = layers.Dense(10, activation=\"softmax\", name=\"output_layer\")(x)\n",
    "\n",
    "# Make a model with inputs and outputs\n",
    "model_1 = keras.Model(inputs, outputs)\n",
    "\n",
    "# Compile the model\n",
    "model_1.compile(loss=\"categorical_crossentropy\",\n",
    "              optimizer=tf.keras.optimizers.Adam(),\n",
    "              metrics=[\"accuracy\"])\n",
    "\n",
    "# Fit the model\n",
    "history_1_percent = model_1.fit(train_data_1_percent,\n",
    "                    epochs=5,\n",
    "                    steps_per_epoch=len(train_data_1_percent),\n",
    "                    validation_data=test_data,\n",
    "                    validation_steps=int(0.25* len(test_data)), # validate for less steps\n",
    "                    # Track model training logs\n",
    "                    callbacks=[create_tensorboard_callback(\"transfer_learning\", \"1_percent_data_aug\")])"
   ]
  },
  {
   "cell_type": "markdown",
   "id": "833dca66",
   "metadata": {},
   "source": [
    "Wow! How cool is that? Using only 7 training images per class, using transfer learning our model was able to get ~40% accuracy on the validation set. This result is pretty amazing since the original [Food-101 paper](https://data.vision.ee.ethz.ch/cvl/datasets_extra/food-101/static/bossard_eccv14_food-101.pdf) achieved 50.67% accuracy with all the data, namely, 750 training images per class (note: this metric was across 101 classes, not 10, we'll get to 101 classes soon).\n",
    "\n",
    "If we check out a summary of our model, we should see the data augmentation layer just after the input layer."
   ]
  },
  {
   "cell_type": "code",
   "execution_count": 33,
   "id": "80b12319",
   "metadata": {},
   "outputs": [
    {
     "name": "stdout",
     "output_type": "stream",
     "text": [
      "Model: \"model_2\"\n",
      "_________________________________________________________________\n",
      "Layer (type)                 Output Shape              Param #   \n",
      "=================================================================\n",
      "input_layer (InputLayer)     [(None, 224, 224, 3)]     0         \n",
      "_________________________________________________________________\n",
      "efficientnetb0 (Functional)  (None, None, None, 1280)  4049571   \n",
      "_________________________________________________________________\n",
      "global_average_pooling_layer (None, 1280)              0         \n",
      "_________________________________________________________________\n",
      "output_layer (Dense)         (None, 10)                12810     \n",
      "=================================================================\n",
      "Total params: 4,062,381\n",
      "Trainable params: 12,810\n",
      "Non-trainable params: 4,049,571\n",
      "_________________________________________________________________\n"
     ]
    }
   ],
   "source": [
    "# Check out model summary\n",
    "model_1.summary()"
   ]
  },
  {
   "cell_type": "markdown",
   "id": "4dc6dea8",
   "metadata": {},
   "source": [
    "There it is. We've now got data augmentation built right into the our model. This means if we saved it and reloaded it somewhere else, the data augmentation layers would come with it.\n",
    "\n",
    "The important thing to remember is data augmentation only runs during training. So if we were to evaluate or use our model for inference (predicting the class of an image) the data augmentation layers will be automatically turned off.\n",
    "\n",
    "To see this in action, let's evaluate our model on the test data."
   ]
  },
  {
   "cell_type": "code",
   "execution_count": 34,
   "id": "72b32914",
   "metadata": {},
   "outputs": [
    {
     "name": "stdout",
     "output_type": "stream",
     "text": [
      "79/79 [==============================] - 20s 253ms/step - loss: 1.7777 - accuracy: 0.4932\n"
     ]
    },
    {
     "data": {
      "text/plain": [
       "[1.777670979499817, 0.49320003390312195]"
      ]
     },
     "execution_count": 34,
     "metadata": {},
     "output_type": "execute_result"
    }
   ],
   "source": [
    "# Evaluate on the test data\n",
    "results_1_percent_data_aug = model_1.evaluate(test_data)\n",
    "results_1_percent_data_aug"
   ]
  },
  {
   "cell_type": "markdown",
   "id": "03928197",
   "metadata": {},
   "source": [
    "The results here may be slightly better/worse than the log outputs of our model during training because during training we only evaluate our model on 25% of the test data using the line validation_steps=int(0.25 * len(test_data)). Doing this speeds up our epochs but still gives us enough of an idea of how our model is going.\n",
    "\n",
    "Let's stay consistent and check out our model's loss curves."
   ]
  },
  {
   "cell_type": "code",
   "execution_count": 35,
   "id": "a3d8a782",
   "metadata": {},
   "outputs": [
    {
     "data": {
      "image/png": "[encoded data removed]",
      "text/plain": [
       "<Figure size 640x480 with 1 Axes>"
      ]
     },
     "metadata": {},
     "output_type": "display_data"
    },
    {
     "data": {
      "image/png": "[encoded data removed]",
      "text/plain": [
       "<Figure size 640x480 with 1 Axes>"
      ]
     },
     "metadata": {},
     "output_type": "display_data"
    }
   ],
   "source": [
    "# How does the model go with a data augmentation layer with 1% of data\n",
    "plot_loss_curves(history_1_percent)"
   ]
  },
  {
   "cell_type": "markdown",
   "id": "218ecaa9",
   "metadata": {},
   "source": [
    "It looks like the metrics on both datasets would improve if we kept training for more epochs. But we'll leave that for now, we've got more experiments to do!"
   ]
  },
  {
   "cell_type": "markdown",
   "id": "5effa5ce",
   "metadata": {},
   "source": [
    "## Model 2: Feature extraction transfer learning with 10% of data and data augmentation"
   ]
  },
  {
   "cell_type": "markdown",
   "id": "9fa7e8f5",
   "metadata": {},
   "source": [
    "Alright, we've tested 1% of the training data with data augmentation, how about we try 10% of the data with data augmentation?\n",
    "\n",
    "But wait...\n",
    "\n",
    "🤔 **Question**: How do you know what experiments to run?\n",
    "\n",
    "Great question.\n",
    "\n",
    "The truth here is you often won't. Machine learning is still a very experimental practice. It's only after trying a fair few things that you'll start to develop an intuition of what to try.\n",
    "\n",
    "My advice is to follow your curiosity as tenaciously as possible. If you feel like you want to try something, write the code for it and run it. See how it goes. The worst thing that'll happen is you'll figure out what doesn't work, the most valuable kind of knowledge.\n",
    "\n",
    "From a practical standpoint, as we've talked about before, you'll want to reduce the amount of time between your initial experiments as much as possible. In other words, run a plethora of smaller experiments, using less data and less training iterations before you find something promising and then scale it up.\n",
    "\n",
    "In the theme of scale, let's scale our 1% training data augmentation experiment up to 10% training data augmentation. That sentence doesn't really make sense but you get what I mean.\n",
    "\n",
    "We're going to run through the exact same steps as the previous model, the only difference being using 10% of the training data instead of 1%."
   ]
  },
  {
   "cell_type": "code",
   "execution_count": 36,
   "id": "93ff81d8",
   "metadata": {},
   "outputs": [],
   "source": [
    "# Get 10% of the data of the 10 classes (uncomment if you haven't gotten \"10_food_classes_10_percent.zip\" already)\n",
    "# !wget https://storage.googleapis.com/ztm_tf_course/food_vision/10_food_classes_10_percent.zip\n",
    "# unzip_data(\"10_food_classes_10_percent.zip\")\n",
    "\n",
    "train_dir_10_percent = \"10_food_classes_10_percent/train/\"\n",
    "test_dir = \"10_food_classes_10_percent/test/\""
   ]
  },
  {
   "cell_type": "code",
   "execution_count": 37,
   "id": "2d4be26b",
   "metadata": {},
   "outputs": [
    {
     "name": "stdout",
     "output_type": "stream",
     "text": [
      "Found 750 files belonging to 10 classes.\n",
      "Found 2500 files belonging to 10 classes.\n"
     ]
    }
   ],
   "source": [
    "# Setup data inputs\n",
    "import tensorflow as tf\n",
    "IMG_SIZE = (224, 224)\n",
    "train_data_10_percent = tf.keras.preprocessing.image_dataset_from_directory(train_dir_10_percent,\n",
    "                                                                            label_mode=\"categorical\",\n",
    "                                                                            image_size=IMG_SIZE)\n",
    "# Note: the test data is the same as the previous experiment, we could\n",
    "# skip creating this, but we'll leave this here to practice.\n",
    "test_data = tf.keras.preprocessing.image_dataset_from_directory(test_dir,\n",
    "                                                                label_mode=\"categorical\",\n",
    "                                                                image_size=IMG_SIZE)"
   ]
  },
  {
   "cell_type": "markdown",
   "id": "8c8a23a3",
   "metadata": {},
   "source": [
    "Awesome! We've got 10x more images to work with, 75 per class instead of 7 per class.\n",
    "\n",
    "Let's build a model with data augmentation built in. We could reuse the data augmentation Sequential model we created before but we'll recreate it to practice."
   ]
  },
  {
   "cell_type": "code",
   "execution_count": 38,
   "id": "ee32dd48",
   "metadata": {},
   "outputs": [
    {
     "name": "stderr",
     "output_type": "stream",
     "text": [
      "/opt/homebrew/Caskroom/miniforge/base/envs/tensorflow/lib/python3.9/site-packages/tensorflow/python/keras/optimizer_v2/optimizer_v2.py:374: UserWarning: The `lr` argument is deprecated, use `learning_rate` instead.\n",
      "  warnings.warn(\n"
     ]
    }
   ],
   "source": [
    "# Create a functional model with data augmentation\n",
    "import tensorflow as tf\n",
    "from tensorflow.keras import layers\n",
    "from tensorflow.keras.layers.experimental import preprocessing\n",
    "from tensorflow.keras.models import Sequential\n",
    "\n",
    "# Build data augmentation layer\n",
    "data_augmentation = Sequential([\n",
    "  preprocessing.RandomFlip('horizontal'),\n",
    "  preprocessing.RandomHeight(0.2),\n",
    "  preprocessing.RandomWidth(0.2),\n",
    "  preprocessing.RandomZoom(0.2),\n",
    "  preprocessing.RandomRotation(0.2),\n",
    "  # preprocessing.Rescaling(1./255) # keep for ResNet50V2, remove for EfficientNet                 \n",
    "], name=\"data_augmentation\")\n",
    "\n",
    "# Setup the input shape to our model\n",
    "input_shape = (224, 224, 3)\n",
    "\n",
    "# Create a frozen base model\n",
    "base_model = tf.keras.applications.EfficientNetB0(include_top=False)\n",
    "base_model.trainable = False\n",
    "\n",
    "# Create input and output layers\n",
    "inputs = layers.Input(shape=input_shape, name=\"input_layer\") # create input layer\n",
    "#x = data_augmentation(inputs) # augment our training images\n",
    "#x = base_model(x, training=False) # pass augmented images to base model but keep it in inference mode, so batchnorm layers don't get updated: https://keras.io/guides/transfer_learning/#build-a-model \n",
    "x = base_model(inputs)\n",
    "x = layers.GlobalAveragePooling2D(name=\"global_average_pooling_layer\")(x)\n",
    "outputs = layers.Dense(10, activation=\"softmax\", name=\"output_layer\")(x)\n",
    "model_2 = tf.keras.Model(inputs, outputs)\n",
    "\n",
    "# Compile\n",
    "model_2.compile(loss=\"categorical_crossentropy\",\n",
    "              optimizer=tf.keras.optimizers.Adam(lr=0.001), # use Adam optimizer with base learning rate\n",
    "              metrics=[\"accuracy\"])"
   ]
  },
  {
   "cell_type": "markdown",
   "id": "0f678f5a",
   "metadata": {},
   "source": [
    "## Creating a ModelCheckpoint callback\n",
    "\n",
    "Our model is compiled and ready to be fit, so why haven't we fit it yet?\n",
    "\n",
    "Well, for this experiment we're going to introduce a new callback, the `ModelCheckpoint callback`.\n",
    "\n",
    "The `ModelCheckpoint callback` gives you the ability to save your model, as a whole in the `SavedModel` format or the weights (patterns) only to a specified directory as it trains.\n",
    "\n",
    "This is helpful if you think your model is going to be training for a long time and you want to make backups of it as it trains. It also means if you think your model could benefit from being trained for longer, you can reload it from a specific checkpoint and continue training from there.\n",
    "\n",
    "For example, say you fit a feature extraction transfer learning model for 5 epochs and you check the training curves and see it was still improving and you want to see if fine-tuning for another 5 epochs could help, you can load the checkpoint, unfreeze some (or all) of the base model layers and then continue training.\n",
    "\n",
    "In fact, that's exactly what we're going to do.\n",
    "\n",
    "But first, let's create a `ModelCheckpoint callback`. To do so, we have to specifcy a directory we'd like to save to."
   ]
  },
  {
   "cell_type": "code",
   "execution_count": 39,
   "id": "d9377401",
   "metadata": {},
   "outputs": [],
   "source": [
    "# Setup checkpoint path\n",
    "checkpoint_path = \"ten_percent_model_checkpoints_weights/checkpoint.ckpt\" # note: remember saving directly to Colab is temporary\n",
    "\n",
    "# Create a ModelCheckpoint callback that saves the model's weights only\n",
    "checkpoint_callback = tf.keras.callbacks.ModelCheckpoint(filepath=checkpoint_path,\n",
    "                                                         save_weights_only=True, # set to False to save the entire model\n",
    "                                                         save_best_only=False, # set to True to save only the best model instead of a model every epoch \n",
    "                                                         save_freq=\"epoch\", # save every epoch\n",
    "                                                         verbose=1)"
   ]
  },
  {
   "cell_type": "markdown",
   "id": "86d92c7d",
   "metadata": {},
   "source": [
    "🤔 **Question**: What's the difference between saving the entire model (`SavedModel` format) and saving the weights only?\n",
    "\n",
    "The `SavedModel` format saves a model's architecture, weights and training configuration all in one folder. It makes it very easy to reload your model exactly how it is elsewhere. However, if you do not want to share all of these details with others, you may want to save and share the weights only (these will just be large tensors of non-human interpretable numbers). If disk space is an issue, saving the weights only is faster and takes up less space than saving the whole model.\n",
    "\n",
    "Time to fit the model.\n",
    "\n",
    "Because we're going to be fine-tuning it later, we'll create a variable initial_epochs and set it to 5 to use later.\n",
    "\n",
    "We'll also add in our `checkpoint_callback` in our list of callbacks."
   ]
  },
  {
   "cell_type": "code",
   "execution_count": 40,
   "id": "93042222",
   "metadata": {},
   "outputs": [
    {
     "name": "stderr",
     "output_type": "stream",
     "text": [
      "2022-12-13 15:25:58.733105: I tensorflow/core/profiler/lib/profiler_session.cc:126] Profiler session initializing.\n",
      "2022-12-13 15:25:58.733130: I tensorflow/core/profiler/lib/profiler_session.cc:141] Profiler session started.\n",
      "2022-12-13 15:25:58.733519: I tensorflow/core/profiler/lib/profiler_session.cc:159] Profiler session tear down.\n"
     ]
    },
    {
     "name": "stdout",
     "output_type": "stream",
     "text": [
      "Saving TensorBoard log files to: transfer_learning/10_percent_data_aug/20221213-152558\n",
      "Epoch 1/5\n"
     ]
    },
    {
     "name": "stderr",
     "output_type": "stream",
     "text": [
      "2022-12-13 15:25:59.854210: I tensorflow/core/grappler/optimizers/custom_graph_optimizer_registry.cc:112] Plugin optimizer for device_type GPU is enabled.\n"
     ]
    },
    {
     "name": "stdout",
     "output_type": "stream",
     "text": [
      "\r",
      " 1/24 [>.............................] - ETA: 46s - loss: 2.4179 - accuracy: 0.0938"
     ]
    },
    {
     "name": "stderr",
     "output_type": "stream",
     "text": [
      "2022-12-13 15:26:00.889919: I tensorflow/core/profiler/lib/profiler_session.cc:126] Profiler session initializing.\n",
      "2022-12-13 15:26:00.889933: I tensorflow/core/profiler/lib/profiler_session.cc:141] Profiler session started.\n"
     ]
    },
    {
     "name": "stdout",
     "output_type": "stream",
     "text": [
      "\b\b\b\b\b\b\b\b\b\b\b\b\b\b\b\b\b\b\b\b\b\b\b\b\b\b\b\b\b\b\b\b\b\b\b\b\b\b\b\b\b\b\b\b\b\b\b\b\b\b\b\b\b\b\b\b\b\b\b\b\b\b\b\b\b\b\b\b\b\b\b\b\b\b\b\b\b\b\b\b\b\b\b\r",
      " 2/24 [=>............................] - ETA: 7s - loss: 2.4390 - accuracy: 0.1094 "
     ]
    },
    {
     "name": "stderr",
     "output_type": "stream",
     "text": [
      "2022-12-13 15:26:01.292132: I tensorflow/core/profiler/lib/profiler_session.cc:66] Profiler session collecting data.\n",
      "2022-12-13 15:26:01.293620: I tensorflow/core/profiler/lib/profiler_session.cc:159] Profiler session tear down.\n",
      "2022-12-13 15:26:01.295464: I tensorflow/core/profiler/rpc/client/save_profile.cc:137] Creating directory: transfer_learning/10_percent_data_aug/20221213-152558/train/plugins/profile/2022_12_13_15_26_01\n",
      "2022-12-13 15:26:01.297340: I tensorflow/core/profiler/rpc/client/save_profile.cc:143] Dumped gzipped tool data for trace.json.gz to transfer_learning/10_percent_data_aug/20221213-152558/train/plugins/profile/2022_12_13_15_26_01/SNIGDHAs-MacBook-Air-2.local.trace.json.gz\n",
      "2022-12-13 15:26:01.298060: I tensorflow/core/profiler/rpc/client/save_profile.cc:137] Creating directory: transfer_learning/10_percent_data_aug/20221213-152558/train/plugins/profile/2022_12_13_15_26_01\n",
      "2022-12-13 15:26:01.298177: I tensorflow/core/profiler/rpc/client/save_profile.cc:143] Dumped gzipped tool data for memory_profile.json.gz to transfer_learning/10_percent_data_aug/20221213-152558/train/plugins/profile/2022_12_13_15_26_01/SNIGDHAs-MacBook-Air-2.local.memory_profile.json.gz\n",
      "2022-12-13 15:26:01.298554: I tensorflow/core/profiler/rpc/client/capture_profile.cc:251] Creating directory: transfer_learning/10_percent_data_aug/20221213-152558/train/plugins/profile/2022_12_13_15_26_01Dumped tool data for xplane.pb to transfer_learning/10_percent_data_aug/20221213-152558/train/plugins/profile/2022_12_13_15_26_01/SNIGDHAs-MacBook-Air-2.local.xplane.pb\n",
      "Dumped tool data for overview_page.pb to transfer_learning/10_percent_data_aug/20221213-152558/train/plugins/profile/2022_12_13_15_26_01/SNIGDHAs-MacBook-Air-2.local.overview_page.pb\n",
      "Dumped tool data for input_pipeline.pb to transfer_learning/10_percent_data_aug/20221213-152558/train/plugins/profile/2022_12_13_15_26_01/SNIGDHAs-MacBook-Air-2.local.input_pipeline.pb\n",
      "Dumped tool data for tensorflow_stats.pb to transfer_learning/10_percent_data_aug/20221213-152558/train/plugins/profile/2022_12_13_15_26_01/SNIGDHAs-MacBook-Air-2.local.tensorflow_stats.pb\n",
      "Dumped tool data for kernel_stats.pb to transfer_learning/10_percent_data_aug/20221213-152558/train/plugins/profile/2022_12_13_15_26_01/SNIGDHAs-MacBook-Air-2.local.kernel_stats.pb\n",
      "\n"
     ]
    },
    {
     "name": "stdout",
     "output_type": "stream",
     "text": [
      "24/24 [==============================] - ETA: 0s - loss: 1.9278 - accuracy: 0.3587"
     ]
    },
    {
     "name": "stderr",
     "output_type": "stream",
     "text": [
      "2022-12-13 15:26:07.097964: I tensorflow/core/grappler/optimizers/custom_graph_optimizer_registry.cc:112] Plugin optimizer for device_type GPU is enabled.\n"
     ]
    },
    {
     "name": "stdout",
     "output_type": "stream",
     "text": [
      "24/24 [==============================] - 13s 492ms/step - loss: 1.9278 - accuracy: 0.3587 - val_loss: 1.3715 - val_accuracy: 0.6826\n",
      "\n",
      "Epoch 00001: saving model to ten_percent_model_checkpoints_weights/checkpoint.ckpt\n",
      "Epoch 2/5\n",
      "24/24 [==============================] - 11s 442ms/step - loss: 1.1732 - accuracy: 0.7200 - val_loss: 0.9751 - val_accuracy: 0.7549\n",
      "\n",
      "Epoch 00002: saving model to ten_percent_model_checkpoints_weights/checkpoint.ckpt\n",
      "Epoch 3/5\n",
      "24/24 [==============================] - 11s 445ms/step - loss: 0.8576 - accuracy: 0.8013 - val_loss: 0.7639 - val_accuracy: 0.8059\n",
      "\n",
      "Epoch 00003: saving model to ten_percent_model_checkpoints_weights/checkpoint.ckpt\n",
      "Epoch 4/5\n",
      "24/24 [==============================] - 11s 449ms/step - loss: 0.7050 - accuracy: 0.8280 - val_loss: 0.6902 - val_accuracy: 0.8257\n",
      "\n",
      "Epoch 00004: saving model to ten_percent_model_checkpoints_weights/checkpoint.ckpt\n",
      "Epoch 5/5\n",
      "24/24 [==============================] - 11s 448ms/step - loss: 0.5988 - accuracy: 0.8587 - val_loss: 0.6209 - val_accuracy: 0.8421\n",
      "\n",
      "Epoch 00005: saving model to ten_percent_model_checkpoints_weights/checkpoint.ckpt\n"
     ]
    }
   ],
   "source": [
    "# Fit the model saving checkpoints every epoch\n",
    "initial_epochs = 5\n",
    "history_10_percent_data_aug = model_2.fit(train_data_10_percent,\n",
    "                                          epochs=initial_epochs,\n",
    "                                          validation_data=test_data,\n",
    "                                          validation_steps=int(0.25 * len(test_data)), # do less steps per validation (quicker)\n",
    "                                          callbacks=[create_tensorboard_callback(\"transfer_learning\", \"10_percent_data_aug\"), \n",
    "                                                     checkpoint_callback])"
   ]
  },
  {
   "cell_type": "markdown",
   "id": "07210772",
   "metadata": {},
   "source": [
    "Would you look at that! Looks like our `ModelCheckpoint callback` worked and our model saved its weights every epoch without too much overhead (saving the whole model takes longer than just the weights).\n",
    "\n",
    "Let's evaluate our model and check its loss curves."
   ]
  },
  {
   "cell_type": "code",
   "execution_count": 41,
   "id": "db96faa2",
   "metadata": {},
   "outputs": [
    {
     "name": "stdout",
     "output_type": "stream",
     "text": [
      "79/79 [==============================] - 20s 252ms/step - loss: 0.6215 - accuracy: 0.8396\n"
     ]
    },
    {
     "data": {
      "text/plain": [
       "[0.6215482354164124, 0.8396000266075134]"
      ]
     },
     "execution_count": 41,
     "metadata": {},
     "output_type": "execute_result"
    }
   ],
   "source": [
    "# Evaluate on the test data\n",
    "results_10_percent_data_aug = model_2.evaluate(test_data)\n",
    "results_10_percent_data_aug"
   ]
  },
  {
   "cell_type": "code",
   "execution_count": 42,
   "id": "3acc71ca",
   "metadata": {},
   "outputs": [
    {
     "data": {
      "image/png": "[encoded data removed]",
      "text/plain": [
       "<Figure size 640x480 with 1 Axes>"
      ]
     },
     "metadata": {},
     "output_type": "display_data"
    },
    {
     "data": {
      "image/png": "[encoded data removed]",
      "text/plain": [
       "<Figure size 640x480 with 1 Axes>"
      ]
     },
     "metadata": {},
     "output_type": "display_data"
    }
   ],
   "source": [
    "# Plot model loss curves\n",
    "plot_loss_curves(history_10_percent_data_aug)"
   ]
  },
  {
   "cell_type": "markdown",
   "id": "d481083a",
   "metadata": {},
   "source": [
    "Looking at these, our model's performance with 10% of the data and data augmentation isn't as good as the model with 10% of the data without data augmentation (see model_0 results above), however the curves are trending in the right direction, meaning if we decided to train for longer, its metrics would likely improve.\n",
    "\n",
    "Since we checkpointed (is that a word?) our model's weights, we might as well see what it's like to load it back in. We'll be able to test if it saved correctly by evaluting it on the test data.\n",
    "\n",
    "To load saved model weights you can use the the `load_weights()` method, passing it the path where your saved weights are stored."
   ]
  },
  {
   "cell_type": "code",
   "execution_count": 43,
   "id": "5cf8f0d7",
   "metadata": {},
   "outputs": [
    {
     "name": "stdout",
     "output_type": "stream",
     "text": [
      "79/79 [==============================] - 20s 246ms/step - loss: 0.6215 - accuracy: 0.8396\n"
     ]
    }
   ],
   "source": [
    "# Load in saved model weights and evaluate model\n",
    "model_2.load_weights(checkpoint_path)\n",
    "loaded_weights_model_results = model_2.evaluate(test_data)"
   ]
  },
  {
   "cell_type": "markdown",
   "id": "3608ac62",
   "metadata": {},
   "source": [
    "Now let's compare the results of our previously trained model and the loaded model. These results should very close if not exactly the same. The reason for minor differences comes down to the precision level of numbers calculated."
   ]
  },
  {
   "cell_type": "code",
   "execution_count": 45,
   "id": "dd1f1925",
   "metadata": {},
   "outputs": [
    {
     "data": {
      "text/plain": [
       "False"
      ]
     },
     "execution_count": 45,
     "metadata": {},
     "output_type": "execute_result"
    }
   ],
   "source": [
    "# If the results from our native model and the loaded weights are the same, this should output True\n",
    "results_10_percent_data_aug == loaded_weights_model_results"
   ]
  },
  {
   "cell_type": "markdown",
   "id": "dfdbf94d",
   "metadata": {},
   "source": [
    "If the above cell doesn't output True, it's because the numbers are close but not the exact same (due to how computers store numbers with degrees of precision).\n",
    "\n",
    "However, they should be very close..."
   ]
  },
  {
   "cell_type": "code",
   "execution_count": 46,
   "id": "b92be18b",
   "metadata": {},
   "outputs": [
    {
     "data": {
      "text/plain": [
       "array([ True,  True])"
      ]
     },
     "execution_count": 46,
     "metadata": {},
     "output_type": "execute_result"
    }
   ],
   "source": [
    "import numpy as np\n",
    "# Check to see if loaded model results are very close to native model results (should output True)\n",
    "np.isclose(np.array(results_10_percent_data_aug), np.array(loaded_weights_model_results))"
   ]
  },
  {
   "cell_type": "code",
   "execution_count": 47,
   "id": "5baac683",
   "metadata": {},
   "outputs": [
    {
     "name": "stdout",
     "output_type": "stream",
     "text": [
      "[5.96046448e-08 0.00000000e+00]\n"
     ]
    }
   ],
   "source": [
    "# Check the difference between the two results\n",
    "print(np.array(results_10_percent_data_aug) - np.array(loaded_weights_model_results))"
   ]
  },
  {
   "cell_type": "markdown",
   "id": "21951462",
   "metadata": {},
   "source": [
    "## Model 3: Fine-tuning an existing model on 10% of the data"
   ]
  },
  {
   "cell_type": "markdown",
   "id": "a19b8430",
   "metadata": {},
   "source": [
    "![FineTuning10Percent.png](Images/FineTuning10Percent.png)"
   ]
  },
  {
   "cell_type": "markdown",
   "id": "f60f917d",
   "metadata": {},
   "source": [
    "So far our saved model has been trained using feature extraction transfer learning for 5 epochs on 10% of the training data and data augmentation.\n",
    "\n",
    "This means all of the layers in the base model (EfficientNetB0) were frozen during training.\n",
    "\n",
    "For our next experiment we're going to switch to fine-tuning transfer learning. This means we'll be using the same base model except we'll be unfreezing some of its layers (ones closest to the top) and running the model for a few more epochs.\n",
    "\n",
    "The idea with fine-tuning is to start customizing the pre-trained model more to our own data.\n",
    "\n",
    "🔑 Note: Fine-tuning usually works best after training a feature extraction model for a few epochs and with large amounts of data. For more on this, check out [Keras' guide on Transfer learning & fine-tuning](https://keras.io/guides/transfer_learning/).\n",
    "\n",
    "We've verified our loaded model's performance, let's check out its layers."
   ]
  },
  {
   "cell_type": "code",
   "execution_count": 48,
   "id": "f639c943",
   "metadata": {},
   "outputs": [
    {
     "data": {
      "text/plain": [
       "[<tensorflow.python.keras.engine.input_layer.InputLayer at 0x2d66efe50>,\n",
       " <tensorflow.python.keras.engine.functional.Functional at 0x2ce5c04f0>,\n",
       " <tensorflow.python.keras.layers.pooling.GlobalAveragePooling2D at 0x2ce3eb6a0>,\n",
       " <tensorflow.python.keras.layers.core.Dense at 0x286ae4790>]"
      ]
     },
     "execution_count": 48,
     "metadata": {},
     "output_type": "execute_result"
    }
   ],
   "source": [
    "# Layers in loaded model\n",
    "model_2.layers"
   ]
  },
  {
   "cell_type": "code",
   "execution_count": 49,
   "id": "b57b093a",
   "metadata": {},
   "outputs": [
    {
     "name": "stdout",
     "output_type": "stream",
     "text": [
      "True\n",
      "False\n",
      "True\n",
      "True\n"
     ]
    }
   ],
   "source": [
    "for layer in model_2.layers:\n",
    "  print(layer.trainable)"
   ]
  },
  {
   "cell_type": "markdown",
   "id": "a7ba82ef",
   "metadata": {},
   "source": [
    "Looking good. We've got an input layer, a Sequential layer (the data augmentation model), a Functional layer (EfficientNetB0), a pooling layer and a Dense layer (the output layer).\n",
    "\n",
    "How about a summary?"
   ]
  },
  {
   "cell_type": "code",
   "execution_count": 50,
   "id": "f5c9ce64",
   "metadata": {},
   "outputs": [
    {
     "name": "stdout",
     "output_type": "stream",
     "text": [
      "Model: \"model_3\"\n",
      "_________________________________________________________________\n",
      "Layer (type)                 Output Shape              Param #   \n",
      "=================================================================\n",
      "input_layer (InputLayer)     [(None, 224, 224, 3)]     0         \n",
      "_________________________________________________________________\n",
      "efficientnetb0 (Functional)  (None, None, None, 1280)  4049571   \n",
      "_________________________________________________________________\n",
      "global_average_pooling_layer (None, 1280)              0         \n",
      "_________________________________________________________________\n",
      "output_layer (Dense)         (None, 10)                12810     \n",
      "=================================================================\n",
      "Total params: 4,062,381\n",
      "Trainable params: 12,810\n",
      "Non-trainable params: 4,049,571\n",
      "_________________________________________________________________\n"
     ]
    }
   ],
   "source": [
    "model_2.summary()"
   ]
  },
  {
   "cell_type": "markdown",
   "id": "99ff9b82",
   "metadata": {},
   "source": [
    "Alright, it looks like all of the layers in the `efficientnetb0 layer` are frozen. We can confirm this using the `trainable_variables` attribute."
   ]
  },
  {
   "cell_type": "code",
   "execution_count": 51,
   "id": "187ef537",
   "metadata": {},
   "outputs": [
    {
     "name": "stdout",
     "output_type": "stream",
     "text": [
      "0\n"
     ]
    }
   ],
   "source": [
    "# How many layers are trainable in our base model?\n",
    "print(len(model_2.layers[2].trainable_variables)) # layer at index 2 is the EfficientNetB0 layer (the base model)\n",
    "     "
   ]
  },
  {
   "cell_type": "markdown",
   "id": "ca82bd21",
   "metadata": {},
   "source": [
    "This is the same as our base model."
   ]
  },
  {
   "cell_type": "code",
   "execution_count": 52,
   "id": "c88fe98b",
   "metadata": {},
   "outputs": [
    {
     "name": "stdout",
     "output_type": "stream",
     "text": [
      "0\n"
     ]
    }
   ],
   "source": [
    "print(len(base_model.trainable_variables))"
   ]
  },
  {
   "cell_type": "markdown",
   "id": "6751a4e8",
   "metadata": {},
   "source": [
    "We can even check layer by layer to see if the they're trainable."
   ]
  },
  {
   "cell_type": "code",
   "execution_count": 53,
   "id": "51909b32",
   "metadata": {},
   "outputs": [
    {
     "name": "stdout",
     "output_type": "stream",
     "text": [
      "0 input_6 False\n",
      "1 rescaling_5 False\n",
      "2 normalization_5 False\n",
      "3 stem_conv_pad False\n",
      "4 stem_conv False\n",
      "5 stem_bn False\n",
      "6 stem_activation False\n",
      "7 block1a_dwconv False\n",
      "8 block1a_bn False\n",
      "9 block1a_activation False\n",
      "10 block1a_se_squeeze False\n",
      "11 block1a_se_reshape False\n",
      "12 block1a_se_reduce False\n",
      "13 block1a_se_expand False\n",
      "14 block1a_se_excite False\n",
      "15 block1a_project_conv False\n",
      "16 block1a_project_bn False\n",
      "17 block2a_expand_conv False\n",
      "18 block2a_expand_bn False\n",
      "19 block2a_expand_activation False\n",
      "20 block2a_dwconv_pad False\n",
      "21 block2a_dwconv False\n",
      "22 block2a_bn False\n",
      "23 block2a_activation False\n",
      "24 block2a_se_squeeze False\n",
      "25 block2a_se_reshape False\n",
      "26 block2a_se_reduce False\n",
      "27 block2a_se_expand False\n",
      "28 block2a_se_excite False\n",
      "29 block2a_project_conv False\n",
      "30 block2a_project_bn False\n",
      "31 block2b_expand_conv False\n",
      "32 block2b_expand_bn False\n",
      "33 block2b_expand_activation False\n",
      "34 block2b_dwconv False\n",
      "35 block2b_bn False\n",
      "36 block2b_activation False\n",
      "37 block2b_se_squeeze False\n",
      "38 block2b_se_reshape False\n",
      "39 block2b_se_reduce False\n",
      "40 block2b_se_expand False\n",
      "41 block2b_se_excite False\n",
      "42 block2b_project_conv False\n",
      "43 block2b_project_bn False\n",
      "44 block2b_drop False\n",
      "45 block2b_add False\n",
      "46 block3a_expand_conv False\n",
      "47 block3a_expand_bn False\n",
      "48 block3a_expand_activation False\n",
      "49 block3a_dwconv_pad False\n",
      "50 block3a_dwconv False\n",
      "51 block3a_bn False\n",
      "52 block3a_activation False\n",
      "53 block3a_se_squeeze False\n",
      "54 block3a_se_reshape False\n",
      "55 block3a_se_reduce False\n",
      "56 block3a_se_expand False\n",
      "57 block3a_se_excite False\n",
      "58 block3a_project_conv False\n",
      "59 block3a_project_bn False\n",
      "60 block3b_expand_conv False\n",
      "61 block3b_expand_bn False\n",
      "62 block3b_expand_activation False\n",
      "63 block3b_dwconv False\n",
      "64 block3b_bn False\n",
      "65 block3b_activation False\n",
      "66 block3b_se_squeeze False\n",
      "67 block3b_se_reshape False\n",
      "68 block3b_se_reduce False\n",
      "69 block3b_se_expand False\n",
      "70 block3b_se_excite False\n",
      "71 block3b_project_conv False\n",
      "72 block3b_project_bn False\n",
      "73 block3b_drop False\n",
      "74 block3b_add False\n",
      "75 block4a_expand_conv False\n",
      "76 block4a_expand_bn False\n",
      "77 block4a_expand_activation False\n",
      "78 block4a_dwconv_pad False\n",
      "79 block4a_dwconv False\n",
      "80 block4a_bn False\n",
      "81 block4a_activation False\n",
      "82 block4a_se_squeeze False\n",
      "83 block4a_se_reshape False\n",
      "84 block4a_se_reduce False\n",
      "85 block4a_se_expand False\n",
      "86 block4a_se_excite False\n",
      "87 block4a_project_conv False\n",
      "88 block4a_project_bn False\n",
      "89 block4b_expand_conv False\n",
      "90 block4b_expand_bn False\n",
      "91 block4b_expand_activation False\n",
      "92 block4b_dwconv False\n",
      "93 block4b_bn False\n",
      "94 block4b_activation False\n",
      "95 block4b_se_squeeze False\n",
      "96 block4b_se_reshape False\n",
      "97 block4b_se_reduce False\n",
      "98 block4b_se_expand False\n",
      "99 block4b_se_excite False\n",
      "100 block4b_project_conv False\n",
      "101 block4b_project_bn False\n",
      "102 block4b_drop False\n",
      "103 block4b_add False\n",
      "104 block4c_expand_conv False\n",
      "105 block4c_expand_bn False\n",
      "106 block4c_expand_activation False\n",
      "107 block4c_dwconv False\n",
      "108 block4c_bn False\n",
      "109 block4c_activation False\n",
      "110 block4c_se_squeeze False\n",
      "111 block4c_se_reshape False\n",
      "112 block4c_se_reduce False\n",
      "113 block4c_se_expand False\n",
      "114 block4c_se_excite False\n",
      "115 block4c_project_conv False\n",
      "116 block4c_project_bn False\n",
      "117 block4c_drop False\n",
      "118 block4c_add False\n",
      "119 block5a_expand_conv False\n",
      "120 block5a_expand_bn False\n",
      "121 block5a_expand_activation False\n",
      "122 block5a_dwconv False\n",
      "123 block5a_bn False\n",
      "124 block5a_activation False\n",
      "125 block5a_se_squeeze False\n",
      "126 block5a_se_reshape False\n",
      "127 block5a_se_reduce False\n",
      "128 block5a_se_expand False\n",
      "129 block5a_se_excite False\n",
      "130 block5a_project_conv False\n",
      "131 block5a_project_bn False\n",
      "132 block5b_expand_conv False\n",
      "133 block5b_expand_bn False\n",
      "134 block5b_expand_activation False\n",
      "135 block5b_dwconv False\n",
      "136 block5b_bn False\n",
      "137 block5b_activation False\n",
      "138 block5b_se_squeeze False\n",
      "139 block5b_se_reshape False\n",
      "140 block5b_se_reduce False\n",
      "141 block5b_se_expand False\n",
      "142 block5b_se_excite False\n",
      "143 block5b_project_conv False\n",
      "144 block5b_project_bn False\n",
      "145 block5b_drop False\n",
      "146 block5b_add False\n",
      "147 block5c_expand_conv False\n",
      "148 block5c_expand_bn False\n",
      "149 block5c_expand_activation False\n",
      "150 block5c_dwconv False\n",
      "151 block5c_bn False\n",
      "152 block5c_activation False\n",
      "153 block5c_se_squeeze False\n",
      "154 block5c_se_reshape False\n",
      "155 block5c_se_reduce False\n",
      "156 block5c_se_expand False\n",
      "157 block5c_se_excite False\n",
      "158 block5c_project_conv False\n",
      "159 block5c_project_bn False\n",
      "160 block5c_drop False\n",
      "161 block5c_add False\n",
      "162 block6a_expand_conv False\n",
      "163 block6a_expand_bn False\n",
      "164 block6a_expand_activation False\n",
      "165 block6a_dwconv_pad False\n",
      "166 block6a_dwconv False\n",
      "167 block6a_bn False\n",
      "168 block6a_activation False\n",
      "169 block6a_se_squeeze False\n",
      "170 block6a_se_reshape False\n",
      "171 block6a_se_reduce False\n",
      "172 block6a_se_expand False\n",
      "173 block6a_se_excite False\n",
      "174 block6a_project_conv False\n",
      "175 block6a_project_bn False\n",
      "176 block6b_expand_conv False\n",
      "177 block6b_expand_bn False\n",
      "178 block6b_expand_activation False\n",
      "179 block6b_dwconv False\n",
      "180 block6b_bn False\n",
      "181 block6b_activation False\n",
      "182 block6b_se_squeeze False\n",
      "183 block6b_se_reshape False\n",
      "184 block6b_se_reduce False\n",
      "185 block6b_se_expand False\n",
      "186 block6b_se_excite False\n",
      "187 block6b_project_conv False\n",
      "188 block6b_project_bn False\n",
      "189 block6b_drop False\n",
      "190 block6b_add False\n",
      "191 block6c_expand_conv False\n",
      "192 block6c_expand_bn False\n",
      "193 block6c_expand_activation False\n",
      "194 block6c_dwconv False\n",
      "195 block6c_bn False\n",
      "196 block6c_activation False\n",
      "197 block6c_se_squeeze False\n",
      "198 block6c_se_reshape False\n",
      "199 block6c_se_reduce False\n",
      "200 block6c_se_expand False\n",
      "201 block6c_se_excite False\n",
      "202 block6c_project_conv False\n",
      "203 block6c_project_bn False\n",
      "204 block6c_drop False\n",
      "205 block6c_add False\n",
      "206 block6d_expand_conv False\n",
      "207 block6d_expand_bn False\n",
      "208 block6d_expand_activation False\n",
      "209 block6d_dwconv False\n",
      "210 block6d_bn False\n",
      "211 block6d_activation False\n",
      "212 block6d_se_squeeze False\n",
      "213 block6d_se_reshape False\n",
      "214 block6d_se_reduce False\n",
      "215 block6d_se_expand False\n",
      "216 block6d_se_excite False\n",
      "217 block6d_project_conv False\n",
      "218 block6d_project_bn False\n",
      "219 block6d_drop False\n",
      "220 block6d_add False\n",
      "221 block7a_expand_conv False\n",
      "222 block7a_expand_bn False\n",
      "223 block7a_expand_activation False\n",
      "224 block7a_dwconv False\n",
      "225 block7a_bn False\n",
      "226 block7a_activation False\n",
      "227 block7a_se_squeeze False\n",
      "228 block7a_se_reshape False\n",
      "229 block7a_se_reduce False\n",
      "230 block7a_se_expand False\n",
      "231 block7a_se_excite False\n",
      "232 block7a_project_conv False\n",
      "233 block7a_project_bn False\n",
      "234 top_conv False\n",
      "235 top_bn False\n",
      "236 top_activation False\n"
     ]
    }
   ],
   "source": [
    "# Check which layers are tuneable (trainable)\n",
    "for layer_number, layer in enumerate(base_model.layers):\n",
    "  print(layer_number, layer.name, layer.trainable)"
   ]
  },
  {
   "cell_type": "markdown",
   "id": "06f63fef",
   "metadata": {},
   "source": [
    "**Beautiful. This is exactly what we're after.**\n",
    "\n",
    "Now to fine-tune the base model to our own data, we're going to unfreeze the top 10 layers and continue training our model for another 5 epochs.\n",
    "\n",
    "This means all of the base model's layers except for the last 10 will remain frozen and untrainable. And the weights in the remaining unfrozen layers will be updated during training.\n",
    "\n",
    "Ideally, we should see the model's performance improve.\n",
    "\n",
    "🤔 **Question: How many layers should you unfreeze when training?**\n",
    "\n",
    "There's no set rule for this. You could unfreeze every layer in the pretrained model or you could try unfreezing one layer at a time. Best to experiment with different amounts of unfreezing and fine-tuning to see what happens. Generally, the less data you have, the less layers you want to unfreeze and the more gradually you want to fine-tune.\n",
    "\n",
    "**📖 Resource**: The [ULMFiT (Universal Language Model Fine-tuning for Text Classification) paper](https://arxiv.org/abs/1801.06146) has a great series of experiments on fine-tuning models.\n",
    "\n",
    "To begin fine-tuning, we'll unfreeze the entire base model by setting its trainable attribute to True. Then we'll refreeze every layer in the base model except for the last 10 by looping through them and setting their trainable attribute to False. Finally, we'll recompile the model."
   ]
  },
  {
   "cell_type": "code",
   "execution_count": 54,
   "id": "0c439131",
   "metadata": {},
   "outputs": [],
   "source": [
    "base_model.trainable = True\n",
    "\n",
    "# Freeze all layers except for the\n",
    "for layer in base_model.layers[:-10]:\n",
    "  layer.trainable = False\n",
    "\n",
    "# Recompile the model (always recompile after any adjustments to a model)\n",
    "model_2.compile(loss=\"categorical_crossentropy\",\n",
    "              optimizer=tf.keras.optimizers.Adam(lr=0.0001), # lr is 10x lower than before for fine-tuning\n",
    "              metrics=[\"accuracy\"])"
   ]
  },
  {
   "cell_type": "code",
   "execution_count": 55,
   "id": "f6206791",
   "metadata": {},
   "outputs": [
    {
     "name": "stdout",
     "output_type": "stream",
     "text": [
      "0 input_6 False\n",
      "1 rescaling_5 False\n",
      "2 normalization_5 False\n",
      "3 stem_conv_pad False\n",
      "4 stem_conv False\n",
      "5 stem_bn False\n",
      "6 stem_activation False\n",
      "7 block1a_dwconv False\n",
      "8 block1a_bn False\n",
      "9 block1a_activation False\n",
      "10 block1a_se_squeeze False\n",
      "11 block1a_se_reshape False\n",
      "12 block1a_se_reduce False\n",
      "13 block1a_se_expand False\n",
      "14 block1a_se_excite False\n",
      "15 block1a_project_conv False\n",
      "16 block1a_project_bn False\n",
      "17 block2a_expand_conv False\n",
      "18 block2a_expand_bn False\n",
      "19 block2a_expand_activation False\n",
      "20 block2a_dwconv_pad False\n",
      "21 block2a_dwconv False\n",
      "22 block2a_bn False\n",
      "23 block2a_activation False\n",
      "24 block2a_se_squeeze False\n",
      "25 block2a_se_reshape False\n",
      "26 block2a_se_reduce False\n",
      "27 block2a_se_expand False\n",
      "28 block2a_se_excite False\n",
      "29 block2a_project_conv False\n",
      "30 block2a_project_bn False\n",
      "31 block2b_expand_conv False\n",
      "32 block2b_expand_bn False\n",
      "33 block2b_expand_activation False\n",
      "34 block2b_dwconv False\n",
      "35 block2b_bn False\n",
      "36 block2b_activation False\n",
      "37 block2b_se_squeeze False\n",
      "38 block2b_se_reshape False\n",
      "39 block2b_se_reduce False\n",
      "40 block2b_se_expand False\n",
      "41 block2b_se_excite False\n",
      "42 block2b_project_conv False\n",
      "43 block2b_project_bn False\n",
      "44 block2b_drop False\n",
      "45 block2b_add False\n",
      "46 block3a_expand_conv False\n",
      "47 block3a_expand_bn False\n",
      "48 block3a_expand_activation False\n",
      "49 block3a_dwconv_pad False\n",
      "50 block3a_dwconv False\n",
      "51 block3a_bn False\n",
      "52 block3a_activation False\n",
      "53 block3a_se_squeeze False\n",
      "54 block3a_se_reshape False\n",
      "55 block3a_se_reduce False\n",
      "56 block3a_se_expand False\n",
      "57 block3a_se_excite False\n",
      "58 block3a_project_conv False\n",
      "59 block3a_project_bn False\n",
      "60 block3b_expand_conv False\n",
      "61 block3b_expand_bn False\n",
      "62 block3b_expand_activation False\n",
      "63 block3b_dwconv False\n",
      "64 block3b_bn False\n",
      "65 block3b_activation False\n",
      "66 block3b_se_squeeze False\n",
      "67 block3b_se_reshape False\n",
      "68 block3b_se_reduce False\n",
      "69 block3b_se_expand False\n",
      "70 block3b_se_excite False\n",
      "71 block3b_project_conv False\n",
      "72 block3b_project_bn False\n",
      "73 block3b_drop False\n",
      "74 block3b_add False\n",
      "75 block4a_expand_conv False\n",
      "76 block4a_expand_bn False\n",
      "77 block4a_expand_activation False\n",
      "78 block4a_dwconv_pad False\n",
      "79 block4a_dwconv False\n",
      "80 block4a_bn False\n",
      "81 block4a_activation False\n",
      "82 block4a_se_squeeze False\n",
      "83 block4a_se_reshape False\n",
      "84 block4a_se_reduce False\n",
      "85 block4a_se_expand False\n",
      "86 block4a_se_excite False\n",
      "87 block4a_project_conv False\n",
      "88 block4a_project_bn False\n",
      "89 block4b_expand_conv False\n",
      "90 block4b_expand_bn False\n",
      "91 block4b_expand_activation False\n",
      "92 block4b_dwconv False\n",
      "93 block4b_bn False\n",
      "94 block4b_activation False\n",
      "95 block4b_se_squeeze False\n",
      "96 block4b_se_reshape False\n",
      "97 block4b_se_reduce False\n",
      "98 block4b_se_expand False\n",
      "99 block4b_se_excite False\n",
      "100 block4b_project_conv False\n",
      "101 block4b_project_bn False\n",
      "102 block4b_drop False\n",
      "103 block4b_add False\n",
      "104 block4c_expand_conv False\n",
      "105 block4c_expand_bn False\n",
      "106 block4c_expand_activation False\n",
      "107 block4c_dwconv False\n",
      "108 block4c_bn False\n",
      "109 block4c_activation False\n",
      "110 block4c_se_squeeze False\n",
      "111 block4c_se_reshape False\n",
      "112 block4c_se_reduce False\n",
      "113 block4c_se_expand False\n",
      "114 block4c_se_excite False\n",
      "115 block4c_project_conv False\n",
      "116 block4c_project_bn False\n",
      "117 block4c_drop False\n",
      "118 block4c_add False\n",
      "119 block5a_expand_conv False\n",
      "120 block5a_expand_bn False\n",
      "121 block5a_expand_activation False\n",
      "122 block5a_dwconv False\n",
      "123 block5a_bn False\n",
      "124 block5a_activation False\n",
      "125 block5a_se_squeeze False\n",
      "126 block5a_se_reshape False\n",
      "127 block5a_se_reduce False\n",
      "128 block5a_se_expand False\n",
      "129 block5a_se_excite False\n",
      "130 block5a_project_conv False\n",
      "131 block5a_project_bn False\n",
      "132 block5b_expand_conv False\n",
      "133 block5b_expand_bn False\n",
      "134 block5b_expand_activation False\n",
      "135 block5b_dwconv False\n",
      "136 block5b_bn False\n",
      "137 block5b_activation False\n",
      "138 block5b_se_squeeze False\n",
      "139 block5b_se_reshape False\n",
      "140 block5b_se_reduce False\n",
      "141 block5b_se_expand False\n",
      "142 block5b_se_excite False\n",
      "143 block5b_project_conv False\n",
      "144 block5b_project_bn False\n",
      "145 block5b_drop False\n",
      "146 block5b_add False\n",
      "147 block5c_expand_conv False\n",
      "148 block5c_expand_bn False\n",
      "149 block5c_expand_activation False\n",
      "150 block5c_dwconv False\n",
      "151 block5c_bn False\n",
      "152 block5c_activation False\n",
      "153 block5c_se_squeeze False\n",
      "154 block5c_se_reshape False\n",
      "155 block5c_se_reduce False\n",
      "156 block5c_se_expand False\n",
      "157 block5c_se_excite False\n",
      "158 block5c_project_conv False\n",
      "159 block5c_project_bn False\n",
      "160 block5c_drop False\n",
      "161 block5c_add False\n",
      "162 block6a_expand_conv False\n",
      "163 block6a_expand_bn False\n",
      "164 block6a_expand_activation False\n",
      "165 block6a_dwconv_pad False\n",
      "166 block6a_dwconv False\n",
      "167 block6a_bn False\n",
      "168 block6a_activation False\n",
      "169 block6a_se_squeeze False\n",
      "170 block6a_se_reshape False\n",
      "171 block6a_se_reduce False\n",
      "172 block6a_se_expand False\n",
      "173 block6a_se_excite False\n",
      "174 block6a_project_conv False\n",
      "175 block6a_project_bn False\n",
      "176 block6b_expand_conv False\n",
      "177 block6b_expand_bn False\n",
      "178 block6b_expand_activation False\n",
      "179 block6b_dwconv False\n",
      "180 block6b_bn False\n",
      "181 block6b_activation False\n",
      "182 block6b_se_squeeze False\n",
      "183 block6b_se_reshape False\n",
      "184 block6b_se_reduce False\n",
      "185 block6b_se_expand False\n",
      "186 block6b_se_excite False\n",
      "187 block6b_project_conv False\n",
      "188 block6b_project_bn False\n",
      "189 block6b_drop False\n",
      "190 block6b_add False\n",
      "191 block6c_expand_conv False\n",
      "192 block6c_expand_bn False\n",
      "193 block6c_expand_activation False\n",
      "194 block6c_dwconv False\n",
      "195 block6c_bn False\n",
      "196 block6c_activation False\n",
      "197 block6c_se_squeeze False\n",
      "198 block6c_se_reshape False\n",
      "199 block6c_se_reduce False\n",
      "200 block6c_se_expand False\n",
      "201 block6c_se_excite False\n",
      "202 block6c_project_conv False\n",
      "203 block6c_project_bn False\n",
      "204 block6c_drop False\n",
      "205 block6c_add False\n",
      "206 block6d_expand_conv False\n",
      "207 block6d_expand_bn False\n",
      "208 block6d_expand_activation False\n",
      "209 block6d_dwconv False\n",
      "210 block6d_bn False\n",
      "211 block6d_activation False\n",
      "212 block6d_se_squeeze False\n",
      "213 block6d_se_reshape False\n",
      "214 block6d_se_reduce False\n",
      "215 block6d_se_expand False\n",
      "216 block6d_se_excite False\n",
      "217 block6d_project_conv False\n",
      "218 block6d_project_bn False\n",
      "219 block6d_drop False\n",
      "220 block6d_add False\n",
      "221 block7a_expand_conv False\n",
      "222 block7a_expand_bn False\n",
      "223 block7a_expand_activation False\n",
      "224 block7a_dwconv False\n",
      "225 block7a_bn False\n",
      "226 block7a_activation False\n",
      "227 block7a_se_squeeze True\n",
      "228 block7a_se_reshape True\n",
      "229 block7a_se_reduce True\n",
      "230 block7a_se_expand True\n",
      "231 block7a_se_excite True\n",
      "232 block7a_project_conv True\n",
      "233 block7a_project_bn True\n",
      "234 top_conv True\n",
      "235 top_bn True\n",
      "236 top_activation True\n"
     ]
    }
   ],
   "source": [
    "# Check which layers are tuneable (trainable)\n",
    "for layer_number, layer in enumerate(base_model.layers):\n",
    "  print(layer_number, layer.name, layer.trainable)"
   ]
  },
  {
   "cell_type": "markdown",
   "id": "26f2e27e",
   "metadata": {},
   "source": [
    "Nice! It seems all layers except for the last 10 are frozen and untrainable. This means only the last 10 layers of the base model along with the output layer will have their weights updated during training.\n",
    "\n",
    "🤔 **Question: Why did we recompile the model?**\n",
    "\n",
    "Every time you make a change to your models, you need to recompile them.\n",
    "\n",
    "In our case, we're using the exact same loss, optimizer and metrics as before, except this time the learning rate for our optimizer will be 10x smaller than before (0.0001 instead of Adam's default of 0.001).\n",
    "\n",
    "We do this so the model doesn't try to overwrite the existing weights in the pretrained model too fast. In other words, we want learning to be more gradual.\n",
    "\n",
    "🔑 **Note**: There's no set standard for setting the learning rate during fine-tuning, though reductions of [2.6x-10x+](https://arxiv.org/abs/1801.06146) seem to work well in practice.\n",
    "\n",
    "How many trainable variables do we have now?"
   ]
  },
  {
   "cell_type": "code",
   "execution_count": 56,
   "id": "235d9f24",
   "metadata": {},
   "outputs": [
    {
     "name": "stdout",
     "output_type": "stream",
     "text": [
      "12\n"
     ]
    }
   ],
   "source": [
    "print(len(model_2.trainable_variables))"
   ]
  },
  {
   "cell_type": "markdown",
   "id": "264d79d1",
   "metadata": {},
   "source": [
    "Wonderful, it looks like our model has a total of 10 trainable variables, the last 10 layers of the base model and the weight and bias parameters of the Dense output layer.\n",
    "\n",
    "Time to fine-tune!\n",
    "\n",
    "We're going to continue training on from where our previous model finished. Since it trained for 5 epochs, our fine-tuning will begin on the epoch 5 and continue for another 5 epochs.\n",
    "\n",
    "To do this, we can use the `initial_epoch` parameter of the `fit()` method. We'll pass it the last epoch of the previous model's training history (`history_10_percent_data_aug.epoch[-1]`)."
   ]
  },
  {
   "cell_type": "code",
   "execution_count": 62,
   "id": "49d4058a",
   "metadata": {},
   "outputs": [
    {
     "name": "stderr",
     "output_type": "stream",
     "text": [
      "2022-12-13 15:58:59.376521: I tensorflow/core/profiler/lib/profiler_session.cc:126] Profiler session initializing.\n",
      "2022-12-13 15:58:59.376552: I tensorflow/core/profiler/lib/profiler_session.cc:141] Profiler session started.\n",
      "2022-12-13 15:58:59.377074: I tensorflow/core/profiler/lib/profiler_session.cc:159] Profiler session tear down.\n"
     ]
    },
    {
     "name": "stdout",
     "output_type": "stream",
     "text": [
      "Saving TensorBoard log files to: transfer_learning/10_percent_fine_tune_last_10/20221213-155859\n",
      "Epoch 5/10\n"
     ]
    },
    {
     "name": "stderr",
     "output_type": "stream",
     "text": [
      "2022-12-13 15:59:00.591412: I tensorflow/core/grappler/optimizers/custom_graph_optimizer_registry.cc:112] Plugin optimizer for device_type GPU is enabled.\n"
     ]
    },
    {
     "name": "stdout",
     "output_type": "stream",
     "text": [
      "\r",
      " 1/24 [>.............................] - ETA: 1:34 - loss: 0.7394 - accuracy: 0.7500"
     ]
    },
    {
     "name": "stderr",
     "output_type": "stream",
     "text": [
      "2022-12-13 15:59:03.617000: I tensorflow/core/profiler/lib/profiler_session.cc:126] Profiler session initializing.\n",
      "2022-12-13 15:59:03.617014: I tensorflow/core/profiler/lib/profiler_session.cc:141] Profiler session started.\n"
     ]
    },
    {
     "name": "stdout",
     "output_type": "stream",
     "text": [
      "\b\b\b\b\b\b\b\b\b\b\b\b\b\b\b\b\b\b\b\b\b\b\b\b\b\b\b\b\b\b\b\b\b\b\b\b\b\b\b\b\b\b\b\b\b\b\b\b\b\b\b\b\b\b\b\b\b\b\b\b\b\b\b\b\b\b\b\b\b\b\b\b\b\b\b\b\b\b\b\b\b\b\b\b\r",
      " 2/24 [=>............................] - ETA: 8s - loss: 0.6821 - accuracy: 0.7812  "
     ]
    },
    {
     "name": "stderr",
     "output_type": "stream",
     "text": [
      "2022-12-13 15:59:04.066097: I tensorflow/core/profiler/lib/profiler_session.cc:66] Profiler session collecting data.\n",
      "2022-12-13 15:59:04.067645: I tensorflow/core/profiler/lib/profiler_session.cc:159] Profiler session tear down.\n",
      "2022-12-13 15:59:04.069335: I tensorflow/core/profiler/rpc/client/save_profile.cc:137] Creating directory: transfer_learning/10_percent_fine_tune_last_10/20221213-155859/train/plugins/profile/2022_12_13_15_59_04\n",
      "2022-12-13 15:59:04.071101: I tensorflow/core/profiler/rpc/client/save_profile.cc:143] Dumped gzipped tool data for trace.json.gz to transfer_learning/10_percent_fine_tune_last_10/20221213-155859/train/plugins/profile/2022_12_13_15_59_04/SNIGDHAs-MacBook-Air-2.local.trace.json.gz\n",
      "2022-12-13 15:59:04.071908: I tensorflow/core/profiler/rpc/client/save_profile.cc:137] Creating directory: transfer_learning/10_percent_fine_tune_last_10/20221213-155859/train/plugins/profile/2022_12_13_15_59_04\n",
      "2022-12-13 15:59:04.072034: I tensorflow/core/profiler/rpc/client/save_profile.cc:143] Dumped gzipped tool data for memory_profile.json.gz to transfer_learning/10_percent_fine_tune_last_10/20221213-155859/train/plugins/profile/2022_12_13_15_59_04/SNIGDHAs-MacBook-Air-2.local.memory_profile.json.gz\n",
      "2022-12-13 15:59:04.072428: I tensorflow/core/profiler/rpc/client/capture_profile.cc:251] Creating directory: transfer_learning/10_percent_fine_tune_last_10/20221213-155859/train/plugins/profile/2022_12_13_15_59_04Dumped tool data for xplane.pb to transfer_learning/10_percent_fine_tune_last_10/20221213-155859/train/plugins/profile/2022_12_13_15_59_04/SNIGDHAs-MacBook-Air-2.local.xplane.pb\n",
      "Dumped tool data for overview_page.pb to transfer_learning/10_percent_fine_tune_last_10/20221213-155859/train/plugins/profile/2022_12_13_15_59_04/SNIGDHAs-MacBook-Air-2.local.overview_page.pb\n",
      "Dumped tool data for input_pipeline.pb to transfer_learning/10_percent_fine_tune_last_10/20221213-155859/train/plugins/profile/2022_12_13_15_59_04/SNIGDHAs-MacBook-Air-2.local.input_pipeline.pb\n",
      "Dumped tool data for tensorflow_stats.pb to transfer_learning/10_percent_fine_tune_last_10/20221213-155859/train/plugins/profile/2022_12_13_15_59_04/SNIGDHAs-MacBook-Air-2.local.tensorflow_stats.pb\n",
      "Dumped tool data for kernel_stats.pb to transfer_learning/10_percent_fine_tune_last_10/20221213-155859/train/plugins/profile/2022_12_13_15_59_04/SNIGDHAs-MacBook-Air-2.local.kernel_stats.pb\n",
      "\n"
     ]
    },
    {
     "name": "stdout",
     "output_type": "stream",
     "text": [
      "24/24 [==============================] - ETA: 0s - loss: 0.6384 - accuracy: 0.8293"
     ]
    },
    {
     "name": "stderr",
     "output_type": "stream",
     "text": [
      "2022-12-13 15:59:10.648746: I tensorflow/core/grappler/optimizers/custom_graph_optimizer_registry.cc:112] Plugin optimizer for device_type GPU is enabled.\n"
     ]
    },
    {
     "name": "stdout",
     "output_type": "stream",
     "text": [
      "24/24 [==============================] - 16s 537ms/step - loss: 0.6384 - accuracy: 0.8293 - val_loss: 0.5730 - val_accuracy: 0.8355\n",
      "Epoch 6/10\n",
      "24/24 [==============================] - 11s 464ms/step - loss: 0.4930 - accuracy: 0.8880 - val_loss: 0.5316 - val_accuracy: 0.8405\n",
      "Epoch 7/10\n",
      "24/24 [==============================] - 11s 461ms/step - loss: 0.4245 - accuracy: 0.9040 - val_loss: 0.5355 - val_accuracy: 0.8289\n",
      "Epoch 8/10\n",
      "24/24 [==============================] - 11s 460ms/step - loss: 0.3721 - accuracy: 0.9147 - val_loss: 0.4811 - val_accuracy: 0.8536\n",
      "Epoch 9/10\n",
      "24/24 [==============================] - 11s 461ms/step - loss: 0.3369 - accuracy: 0.9267 - val_loss: 0.4840 - val_accuracy: 0.8520\n",
      "Epoch 10/10\n",
      "24/24 [==============================] - 11s 461ms/step - loss: 0.2938 - accuracy: 0.9413 - val_loss: 0.4326 - val_accuracy: 0.8668\n"
     ]
    }
   ],
   "source": [
    "# Fine tune for another 5 epochs\n",
    "fine_tune_epochs = initial_epochs + 5\n",
    "\n",
    "# Refit the model (same as model_2 except with more trainable layers)\n",
    "history_fine_10_percent_data_aug = model_2.fit(train_data_10_percent,\n",
    "                                               epochs=fine_tune_epochs,\n",
    "                                               validation_data=test_data,\n",
    "                                               initial_epoch=history_10_percent_data_aug.epoch[-1], # start from previous last epoch\n",
    "                                               validation_steps=int(0.25 * len(test_data)),\n",
    "                                               callbacks=[create_tensorboard_callback(\"transfer_learning\", \"10_percent_fine_tune_last_10\")])"
   ]
  },
  {
   "cell_type": "markdown",
   "id": "4ce24408",
   "metadata": {},
   "source": [
    "Ho ho, looks like our model has gained a few percentage points of accuracy! Let's evalaute it."
   ]
  },
  {
   "cell_type": "code",
   "execution_count": 63,
   "id": "e4e7f132",
   "metadata": {},
   "outputs": [
    {
     "name": "stdout",
     "output_type": "stream",
     "text": [
      "79/79 [==============================] - 20s 250ms/step - loss: 0.4476 - accuracy: 0.8596\n"
     ]
    }
   ],
   "source": [
    "# Evaluate the model on the test data\n",
    "results_fine_tune_10_percent = model_2.evaluate(test_data)"
   ]
  },
  {
   "cell_type": "markdown",
   "id": "8a9fd73b",
   "metadata": {},
   "source": [
    "Remember, the results from evaluating the model might be slightly different to the outputs from training since during training we only evaluate on 25% of the test data.\n",
    "\n",
    "Alright, we need a way to evaluate our model's performance before and after fine-tuning. How about we write a function to compare the before and after?"
   ]
  },
  {
   "cell_type": "code",
   "execution_count": 64,
   "id": "94bf6fea",
   "metadata": {},
   "outputs": [],
   "source": [
    "def compare_historys(original_history, new_history, initial_epochs=5):\n",
    "    \"\"\"\n",
    "    Compares two model history objects.\n",
    "    \"\"\"\n",
    "    # Get original history measurements\n",
    "    acc = original_history.history[\"accuracy\"]\n",
    "    loss = original_history.history[\"loss\"]\n",
    "\n",
    "    print(len(acc))\n",
    "\n",
    "    val_acc = original_history.history[\"val_accuracy\"]\n",
    "    val_loss = original_history.history[\"val_loss\"]\n",
    "\n",
    "    # Combine original history with new history\n",
    "    total_acc = acc + new_history.history[\"accuracy\"]\n",
    "    total_loss = loss + new_history.history[\"loss\"]\n",
    "\n",
    "    total_val_acc = val_acc + new_history.history[\"val_accuracy\"]\n",
    "    total_val_loss = val_loss + new_history.history[\"val_loss\"]\n",
    "\n",
    "    print(len(total_acc))\n",
    "    print(total_acc)\n",
    "\n",
    "    # Make plots\n",
    "    plt.figure(figsize=(8, 8))\n",
    "    plt.subplot(2, 1, 1)\n",
    "    plt.plot(total_acc, label='Training Accuracy')\n",
    "    plt.plot(total_val_acc, label='Validation Accuracy')\n",
    "    plt.plot([initial_epochs-1, initial_epochs-1],\n",
    "              plt.ylim(), label='Start Fine Tuning') # reshift plot around epochs\n",
    "    plt.legend(loc='lower right')\n",
    "    plt.title('Training and Validation Accuracy')\n",
    "\n",
    "    plt.subplot(2, 1, 2)\n",
    "    plt.plot(total_loss, label='Training Loss')\n",
    "    plt.plot(total_val_loss, label='Validation Loss')\n",
    "    plt.plot([initial_epochs-1, initial_epochs-1],\n",
    "              plt.ylim(), label='Start Fine Tuning') # reshift plot around epochs\n",
    "    plt.legend(loc='upper right')\n",
    "    plt.title('Training and Validation Loss')\n",
    "    plt.xlabel('epoch')\n",
    "    plt.show()"
   ]
  },
  {
   "cell_type": "markdown",
   "id": "0e7214bf",
   "metadata": {},
   "source": [
    "This is where saving the history variables of our model training comes in handy. Let's see what happened after fine-tuning the last 10 layers of our model."
   ]
  },
  {
   "cell_type": "code",
   "execution_count": 65,
   "id": "7280b9a0",
   "metadata": {},
   "outputs": [
    {
     "name": "stdout",
     "output_type": "stream",
     "text": [
      "5\n",
      "11\n",
      "[0.35866665840148926, 0.7199999690055847, 0.8013333082199097, 0.828000009059906, 0.8586666584014893, 0.8293333053588867, 0.8880000114440918, 0.9039999842643738, 0.9146666526794434, 0.9266666769981384, 0.9413332939147949]\n"
     ]
    },
    {
     "data": {
      "image/png": "[encoded data removed]",
      "text/plain": [
       "<Figure size 800x800 with 2 Axes>"
      ]
     },
     "metadata": {},
     "output_type": "display_data"
    }
   ],
   "source": [
    "compare_historys(original_history=history_10_percent_data_aug, \n",
    "                 new_history=history_fine_10_percent_data_aug, \n",
    "                 initial_epochs=5)"
   ]
  },
  {
   "cell_type": "markdown",
   "id": "f1f7b25d",
   "metadata": {},
   "source": [
    "Alright, alright, seems like the curves are heading in the right direction after fine-tuning. But remember, it should be noted that fine-tuning usually works best with larger amounts of data."
   ]
  },
  {
   "cell_type": "markdown",
   "id": "94224d88",
   "metadata": {},
   "source": [
    "## Model 4: Fine-tuning an existing model all of the data\n",
    "\n",
    "Enough talk about how fine-tuning a model usually works with more data, let's try it out.\n",
    "\n",
    "We'll start by downloading the full version of our 10 food classes dataset."
   ]
  },
  {
   "cell_type": "code",
   "execution_count": 66,
   "id": "9534cf62",
   "metadata": {},
   "outputs": [
    {
     "name": "stdout",
     "output_type": "stream",
     "text": [
      "--2022-12-13 16:14:04--  https://storage.googleapis.com/ztm_tf_course/food_vision/10_food_classes_all_data.zip\n",
      "Resolving storage.googleapis.com (storage.googleapis.com)... 172.217.1.16, 142.251.33.176, 142.251.41.80, ...\n",
      "Connecting to storage.googleapis.com (storage.googleapis.com)|172.217.1.16|:443... connected.\n",
      "HTTP request sent, awaiting response... 200 OK\n",
      "Length: 519183241 (495M) [application/zip]\n",
      "Saving to: ‘10_food_classes_all_data.zip.1’\n",
      "\n",
      "10_food_classes_all 100%[===================>] 495.13M  19.5MB/s    in 28s     \n",
      "\n",
      "2022-12-13 16:14:32 (17.5 MB/s) - ‘10_food_classes_all_data.zip.1’ saved [519183241/519183241]\n",
      "\n"
     ]
    }
   ],
   "source": [
    "# Download and unzip 10 classes of data with all images\n",
    "!wget https://storage.googleapis.com/ztm_tf_course/food_vision/10_food_classes_all_data.zip \n",
    "unzip_data(\"10_food_classes_all_data.zip\")\n",
    "\n",
    "# Setup data directories\n",
    "train_dir = \"10_food_classes_all_data/train/\"\n",
    "test_dir = \"10_food_classes_all_data/test/\""
   ]
  },
  {
   "cell_type": "code",
   "execution_count": 67,
   "id": "51737edc",
   "metadata": {},
   "outputs": [
    {
     "name": "stdout",
     "output_type": "stream",
     "text": [
      "There are 2 directories and 0 images in '10_food_classes_all_data'.\n",
      "There are 10 directories and 0 images in '10_food_classes_all_data/test'.\n",
      "There are 0 directories and 250 images in '10_food_classes_all_data/test/ice_cream'.\n",
      "There are 0 directories and 250 images in '10_food_classes_all_data/test/chicken_curry'.\n",
      "There are 0 directories and 250 images in '10_food_classes_all_data/test/steak'.\n",
      "There are 0 directories and 250 images in '10_food_classes_all_data/test/sushi'.\n",
      "There are 0 directories and 250 images in '10_food_classes_all_data/test/chicken_wings'.\n",
      "There are 0 directories and 250 images in '10_food_classes_all_data/test/grilled_salmon'.\n",
      "There are 0 directories and 250 images in '10_food_classes_all_data/test/hamburger'.\n",
      "There are 0 directories and 250 images in '10_food_classes_all_data/test/pizza'.\n",
      "There are 0 directories and 250 images in '10_food_classes_all_data/test/ramen'.\n",
      "There are 0 directories and 250 images in '10_food_classes_all_data/test/fried_rice'.\n",
      "There are 10 directories and 0 images in '10_food_classes_all_data/train'.\n",
      "There are 0 directories and 750 images in '10_food_classes_all_data/train/ice_cream'.\n",
      "There are 0 directories and 750 images in '10_food_classes_all_data/train/chicken_curry'.\n",
      "There are 0 directories and 750 images in '10_food_classes_all_data/train/steak'.\n",
      "There are 0 directories and 750 images in '10_food_classes_all_data/train/sushi'.\n",
      "There are 0 directories and 750 images in '10_food_classes_all_data/train/chicken_wings'.\n",
      "There are 0 directories and 750 images in '10_food_classes_all_data/train/grilled_salmon'.\n",
      "There are 0 directories and 750 images in '10_food_classes_all_data/train/hamburger'.\n",
      "There are 0 directories and 750 images in '10_food_classes_all_data/train/pizza'.\n",
      "There are 0 directories and 750 images in '10_food_classes_all_data/train/ramen'.\n",
      "There are 0 directories and 750 images in '10_food_classes_all_data/train/fried_rice'.\n"
     ]
    }
   ],
   "source": [
    "# How many images are we working with now?\n",
    "walk_through_dir(\"10_food_classes_all_data\")"
   ]
  },
  {
   "cell_type": "code",
   "execution_count": 68,
   "id": "a8d23fa7",
   "metadata": {},
   "outputs": [
    {
     "name": "stdout",
     "output_type": "stream",
     "text": [
      "Found 7500 files belonging to 10 classes.\n",
      "Found 2500 files belonging to 10 classes.\n"
     ]
    }
   ],
   "source": [
    "# Setup data inputs\n",
    "import tensorflow as tf\n",
    "IMG_SIZE = (224, 224)\n",
    "train_data_10_classes_full = tf.keras.preprocessing.image_dataset_from_directory(train_dir,\n",
    "                                                                                 label_mode=\"categorical\",\n",
    "                                                                                 image_size=IMG_SIZE)\n",
    "\n",
    "# Note: this is the same test dataset we've been using for the previous modelling experiments\n",
    "test_data = tf.keras.preprocessing.image_dataset_from_directory(test_dir,\n",
    "                                                                label_mode=\"categorical\",\n",
    "                                                                image_size=IMG_SIZE)"
   ]
  },
  {
   "cell_type": "markdown",
   "id": "73a392d1",
   "metadata": {},
   "source": [
    "Oh this is looking good. We've got 10x more images in of the training classes to work with.\n",
    "\n",
    "The test dataset is the same we've been using for our previous experiments.\n",
    "\n",
    "As it is now, our `model_2` has been fine-tuned on 10 percent of the data, so to begin fine-tuning on all of the data and keep our experiments consistent, we need to revert it back to the weights we checkpointed after 5 epochs of feature-extraction.\n",
    "\n",
    "To demonstrate this, we'll first evaluate the current `model_2`."
   ]
  },
  {
   "cell_type": "code",
   "execution_count": 69,
   "id": "98adf1d3",
   "metadata": {},
   "outputs": [
    {
     "name": "stdout",
     "output_type": "stream",
     "text": [
      "79/79 [==============================] - 20s 248ms/step - loss: 0.4476 - accuracy: 0.8596\n"
     ]
    },
    {
     "data": {
      "text/plain": [
       "[0.44759640097618103, 0.8596000671386719]"
      ]
     },
     "execution_count": 69,
     "metadata": {},
     "output_type": "execute_result"
    }
   ],
   "source": [
    "# Evaluate model (this is the fine-tuned 10 percent of data version)\n",
    "model_2.evaluate(test_data)"
   ]
  },
  {
   "cell_type": "markdown",
   "id": "2f0cd762",
   "metadata": {},
   "source": [
    "These are the same values as `results_fine_tune_10_percent`."
   ]
  },
  {
   "cell_type": "code",
   "execution_count": 70,
   "id": "2d30caf3",
   "metadata": {},
   "outputs": [
    {
     "data": {
      "text/plain": [
       "[0.44759637117385864, 0.8596000671386719]"
      ]
     },
     "execution_count": 70,
     "metadata": {},
     "output_type": "execute_result"
    }
   ],
   "source": [
    "results_fine_tune_10_percent"
   ]
  },
  {
   "cell_type": "markdown",
   "id": "d4f8c624",
   "metadata": {},
   "source": [
    "Now we'll revert the model back to the saved weights."
   ]
  },
  {
   "cell_type": "code",
   "execution_count": 71,
   "id": "6d5e119d",
   "metadata": {},
   "outputs": [
    {
     "data": {
      "text/plain": [
       "<tensorflow.python.training.tracking.util.CheckpointLoadStatus at 0x286aff700>"
      ]
     },
     "execution_count": 71,
     "metadata": {},
     "output_type": "execute_result"
    }
   ],
   "source": [
    "# Load model from checkpoint, that way we can fine-tune from the same stage the 10 percent data model was fine-tuned from\n",
    "model_2.load_weights(checkpoint_path) # revert model back to saved weights"
   ]
  },
  {
   "cell_type": "markdown",
   "id": "dca038fe",
   "metadata": {},
   "source": [
    "And the results should be the same as results_10_percent_data_aug."
   ]
  },
  {
   "cell_type": "code",
   "execution_count": 72,
   "id": "cda82552",
   "metadata": {},
   "outputs": [
    {
     "name": "stdout",
     "output_type": "stream",
     "text": [
      "79/79 [==============================] - 20s 247ms/step - loss: 0.6215 - accuracy: 0.8396\n"
     ]
    },
    {
     "data": {
      "text/plain": [
       "[0.621548056602478, 0.8396000266075134]"
      ]
     },
     "execution_count": 72,
     "metadata": {},
     "output_type": "execute_result"
    }
   ],
   "source": [
    "# After loading the weights, this should have gone down (no fine-tuning)\n",
    "model_2.evaluate(test_data)"
   ]
  },
  {
   "cell_type": "code",
   "execution_count": 73,
   "id": "3d57b296",
   "metadata": {},
   "outputs": [
    {
     "data": {
      "text/plain": [
       "[0.6215482354164124, 0.8396000266075134]"
      ]
     },
     "execution_count": 73,
     "metadata": {},
     "output_type": "execute_result"
    }
   ],
   "source": [
    "# Check to see if the above two results are the same (they should be)\n",
    "results_10_percent_data_aug"
   ]
  },
  {
   "cell_type": "markdown",
   "id": "ae83a735",
   "metadata": {},
   "source": [
    "Alright, the previous steps might seem quite confusing but all we've done is:\n",
    "\n",
    "1. Trained a feature extraction transfer learning model for 5 epochs on 10% of the data (with all base model layers frozen) and saved the model's weights using ModelCheckpoint.\n",
    "2. Fine-tuned the same model on the same 10% of the data for a further 5 epochs with the top 10 layers of the base model unfrozen.\n",
    "3. Saved the results and training logs each time.\n",
    "4. Reloaded the model from 1 to do the same steps as 2 but with all of the data.\n",
    "\n",
    "##### The same steps as 2?\n",
    "\n",
    "Yeah, we're going to fine-tune the last 10 layers of the base model with the full dataset for another 5 epochs but first let's remind ourselves which layers are trainable."
   ]
  },
  {
   "cell_type": "code",
   "execution_count": 74,
   "id": "2e5a9066",
   "metadata": {},
   "outputs": [
    {
     "name": "stdout",
     "output_type": "stream",
     "text": [
      "0 input_layer True\n",
      "1 efficientnetb0 True\n",
      "2 global_average_pooling_layer True\n",
      "3 output_layer True\n"
     ]
    }
   ],
   "source": [
    "# Check which layers are tuneable in the whole model\n",
    "for layer_number, layer in enumerate(model_2.layers):\n",
    "  print(layer_number, layer.name, layer.trainable)"
   ]
  },
  {
   "cell_type": "markdown",
   "id": "cb4fe7b3",
   "metadata": {},
   "source": [
    "Can we get a little more specific?"
   ]
  },
  {
   "cell_type": "code",
   "execution_count": 75,
   "id": "25696d91",
   "metadata": {},
   "outputs": [
    {
     "name": "stdout",
     "output_type": "stream",
     "text": [
      "0 input_6 False\n",
      "1 rescaling_5 False\n",
      "2 normalization_5 False\n",
      "3 stem_conv_pad False\n",
      "4 stem_conv False\n",
      "5 stem_bn False\n",
      "6 stem_activation False\n",
      "7 block1a_dwconv False\n",
      "8 block1a_bn False\n",
      "9 block1a_activation False\n",
      "10 block1a_se_squeeze False\n",
      "11 block1a_se_reshape False\n",
      "12 block1a_se_reduce False\n",
      "13 block1a_se_expand False\n",
      "14 block1a_se_excite False\n",
      "15 block1a_project_conv False\n",
      "16 block1a_project_bn False\n",
      "17 block2a_expand_conv False\n",
      "18 block2a_expand_bn False\n",
      "19 block2a_expand_activation False\n",
      "20 block2a_dwconv_pad False\n",
      "21 block2a_dwconv False\n",
      "22 block2a_bn False\n",
      "23 block2a_activation False\n",
      "24 block2a_se_squeeze False\n",
      "25 block2a_se_reshape False\n",
      "26 block2a_se_reduce False\n",
      "27 block2a_se_expand False\n",
      "28 block2a_se_excite False\n",
      "29 block2a_project_conv False\n",
      "30 block2a_project_bn False\n",
      "31 block2b_expand_conv False\n",
      "32 block2b_expand_bn False\n",
      "33 block2b_expand_activation False\n",
      "34 block2b_dwconv False\n",
      "35 block2b_bn False\n",
      "36 block2b_activation False\n",
      "37 block2b_se_squeeze False\n",
      "38 block2b_se_reshape False\n",
      "39 block2b_se_reduce False\n",
      "40 block2b_se_expand False\n",
      "41 block2b_se_excite False\n",
      "42 block2b_project_conv False\n",
      "43 block2b_project_bn False\n",
      "44 block2b_drop False\n",
      "45 block2b_add False\n",
      "46 block3a_expand_conv False\n",
      "47 block3a_expand_bn False\n",
      "48 block3a_expand_activation False\n",
      "49 block3a_dwconv_pad False\n",
      "50 block3a_dwconv False\n",
      "51 block3a_bn False\n",
      "52 block3a_activation False\n",
      "53 block3a_se_squeeze False\n",
      "54 block3a_se_reshape False\n",
      "55 block3a_se_reduce False\n",
      "56 block3a_se_expand False\n",
      "57 block3a_se_excite False\n",
      "58 block3a_project_conv False\n",
      "59 block3a_project_bn False\n",
      "60 block3b_expand_conv False\n",
      "61 block3b_expand_bn False\n",
      "62 block3b_expand_activation False\n",
      "63 block3b_dwconv False\n",
      "64 block3b_bn False\n",
      "65 block3b_activation False\n",
      "66 block3b_se_squeeze False\n",
      "67 block3b_se_reshape False\n",
      "68 block3b_se_reduce False\n",
      "69 block3b_se_expand False\n",
      "70 block3b_se_excite False\n",
      "71 block3b_project_conv False\n",
      "72 block3b_project_bn False\n",
      "73 block3b_drop False\n",
      "74 block3b_add False\n",
      "75 block4a_expand_conv False\n",
      "76 block4a_expand_bn False\n",
      "77 block4a_expand_activation False\n",
      "78 block4a_dwconv_pad False\n",
      "79 block4a_dwconv False\n",
      "80 block4a_bn False\n",
      "81 block4a_activation False\n",
      "82 block4a_se_squeeze False\n",
      "83 block4a_se_reshape False\n",
      "84 block4a_se_reduce False\n",
      "85 block4a_se_expand False\n",
      "86 block4a_se_excite False\n",
      "87 block4a_project_conv False\n",
      "88 block4a_project_bn False\n",
      "89 block4b_expand_conv False\n",
      "90 block4b_expand_bn False\n",
      "91 block4b_expand_activation False\n",
      "92 block4b_dwconv False\n",
      "93 block4b_bn False\n",
      "94 block4b_activation False\n",
      "95 block4b_se_squeeze False\n",
      "96 block4b_se_reshape False\n",
      "97 block4b_se_reduce False\n",
      "98 block4b_se_expand False\n",
      "99 block4b_se_excite False\n",
      "100 block4b_project_conv False\n",
      "101 block4b_project_bn False\n",
      "102 block4b_drop False\n",
      "103 block4b_add False\n",
      "104 block4c_expand_conv False\n",
      "105 block4c_expand_bn False\n",
      "106 block4c_expand_activation False\n",
      "107 block4c_dwconv False\n",
      "108 block4c_bn False\n",
      "109 block4c_activation False\n",
      "110 block4c_se_squeeze False\n",
      "111 block4c_se_reshape False\n",
      "112 block4c_se_reduce False\n",
      "113 block4c_se_expand False\n",
      "114 block4c_se_excite False\n",
      "115 block4c_project_conv False\n",
      "116 block4c_project_bn False\n",
      "117 block4c_drop False\n",
      "118 block4c_add False\n",
      "119 block5a_expand_conv False\n",
      "120 block5a_expand_bn False\n",
      "121 block5a_expand_activation False\n",
      "122 block5a_dwconv False\n",
      "123 block5a_bn False\n",
      "124 block5a_activation False\n",
      "125 block5a_se_squeeze False\n",
      "126 block5a_se_reshape False\n",
      "127 block5a_se_reduce False\n",
      "128 block5a_se_expand False\n",
      "129 block5a_se_excite False\n",
      "130 block5a_project_conv False\n",
      "131 block5a_project_bn False\n",
      "132 block5b_expand_conv False\n",
      "133 block5b_expand_bn False\n",
      "134 block5b_expand_activation False\n",
      "135 block5b_dwconv False\n",
      "136 block5b_bn False\n",
      "137 block5b_activation False\n",
      "138 block5b_se_squeeze False\n",
      "139 block5b_se_reshape False\n",
      "140 block5b_se_reduce False\n",
      "141 block5b_se_expand False\n",
      "142 block5b_se_excite False\n",
      "143 block5b_project_conv False\n",
      "144 block5b_project_bn False\n",
      "145 block5b_drop False\n",
      "146 block5b_add False\n",
      "147 block5c_expand_conv False\n",
      "148 block5c_expand_bn False\n",
      "149 block5c_expand_activation False\n",
      "150 block5c_dwconv False\n",
      "151 block5c_bn False\n",
      "152 block5c_activation False\n",
      "153 block5c_se_squeeze False\n",
      "154 block5c_se_reshape False\n",
      "155 block5c_se_reduce False\n",
      "156 block5c_se_expand False\n",
      "157 block5c_se_excite False\n",
      "158 block5c_project_conv False\n",
      "159 block5c_project_bn False\n",
      "160 block5c_drop False\n",
      "161 block5c_add False\n",
      "162 block6a_expand_conv False\n",
      "163 block6a_expand_bn False\n",
      "164 block6a_expand_activation False\n",
      "165 block6a_dwconv_pad False\n",
      "166 block6a_dwconv False\n",
      "167 block6a_bn False\n",
      "168 block6a_activation False\n",
      "169 block6a_se_squeeze False\n",
      "170 block6a_se_reshape False\n",
      "171 block6a_se_reduce False\n",
      "172 block6a_se_expand False\n",
      "173 block6a_se_excite False\n",
      "174 block6a_project_conv False\n",
      "175 block6a_project_bn False\n",
      "176 block6b_expand_conv False\n",
      "177 block6b_expand_bn False\n",
      "178 block6b_expand_activation False\n",
      "179 block6b_dwconv False\n",
      "180 block6b_bn False\n",
      "181 block6b_activation False\n",
      "182 block6b_se_squeeze False\n",
      "183 block6b_se_reshape False\n",
      "184 block6b_se_reduce False\n",
      "185 block6b_se_expand False\n",
      "186 block6b_se_excite False\n",
      "187 block6b_project_conv False\n",
      "188 block6b_project_bn False\n",
      "189 block6b_drop False\n",
      "190 block6b_add False\n",
      "191 block6c_expand_conv False\n",
      "192 block6c_expand_bn False\n",
      "193 block6c_expand_activation False\n",
      "194 block6c_dwconv False\n",
      "195 block6c_bn False\n",
      "196 block6c_activation False\n",
      "197 block6c_se_squeeze False\n",
      "198 block6c_se_reshape False\n",
      "199 block6c_se_reduce False\n",
      "200 block6c_se_expand False\n",
      "201 block6c_se_excite False\n",
      "202 block6c_project_conv False\n",
      "203 block6c_project_bn False\n",
      "204 block6c_drop False\n",
      "205 block6c_add False\n",
      "206 block6d_expand_conv False\n",
      "207 block6d_expand_bn False\n",
      "208 block6d_expand_activation False\n",
      "209 block6d_dwconv False\n",
      "210 block6d_bn False\n",
      "211 block6d_activation False\n",
      "212 block6d_se_squeeze False\n",
      "213 block6d_se_reshape False\n",
      "214 block6d_se_reduce False\n",
      "215 block6d_se_expand False\n",
      "216 block6d_se_excite False\n",
      "217 block6d_project_conv False\n",
      "218 block6d_project_bn False\n",
      "219 block6d_drop False\n",
      "220 block6d_add False\n",
      "221 block7a_expand_conv False\n",
      "222 block7a_expand_bn False\n",
      "223 block7a_expand_activation False\n",
      "224 block7a_dwconv False\n",
      "225 block7a_bn False\n",
      "226 block7a_activation False\n",
      "227 block7a_se_squeeze True\n",
      "228 block7a_se_reshape True\n",
      "229 block7a_se_reduce True\n",
      "230 block7a_se_expand True\n",
      "231 block7a_se_excite True\n",
      "232 block7a_project_conv True\n",
      "233 block7a_project_bn True\n",
      "234 top_conv True\n",
      "235 top_bn True\n",
      "236 top_activation True\n"
     ]
    }
   ],
   "source": [
    "# Check which layers are tuneable in the base model\n",
    "for layer_number, layer in enumerate(base_model.layers):\n",
    "  print(layer_number, layer.name, layer.trainable)"
   ]
  },
  {
   "cell_type": "markdown",
   "id": "48ccfdaa",
   "metadata": {},
   "source": [
    "Looking good! The last 10 layers are trainable (unfrozen).\n",
    "\n",
    "We've got one more step to do before we can begin fine-tuning.\n",
    "\n",
    "Do you remember what it is?\n",
    "\n",
    "I'll give you a hint. We just reloaded the weights to our model and what do we need to do every time we make a change to our models?\n",
    "\n",
    "Recompile them!\n",
    "\n",
    "This will be just as before."
   ]
  },
  {
   "cell_type": "code",
   "execution_count": 76,
   "id": "2d05fba6",
   "metadata": {},
   "outputs": [],
   "source": [
    "# Compile\n",
    "model_2.compile(loss=\"categorical_crossentropy\",\n",
    "                optimizer=tf.keras.optimizers.Adam(lr=0.0001), # divide learning rate by 10 for fine-tuning\n",
    "                metrics=[\"accuracy\"])\n",
    "     "
   ]
  },
  {
   "cell_type": "markdown",
   "id": "a3a1bc27",
   "metadata": {},
   "source": [
    "Alright, time to fine-tune on all of the data!"
   ]
  },
  {
   "cell_type": "code",
   "execution_count": 77,
   "id": "d1ab0048",
   "metadata": {},
   "outputs": [
    {
     "name": "stderr",
     "output_type": "stream",
     "text": [
      "2022-12-14 09:16:35.133413: I tensorflow/core/profiler/lib/profiler_session.cc:126] Profiler session initializing.\n",
      "2022-12-14 09:16:35.133454: I tensorflow/core/profiler/lib/profiler_session.cc:141] Profiler session started.\n",
      "2022-12-14 09:16:35.133911: I tensorflow/core/profiler/lib/profiler_session.cc:159] Profiler session tear down.\n"
     ]
    },
    {
     "name": "stdout",
     "output_type": "stream",
     "text": [
      "Saving TensorBoard log files to: transfer_learning/full_10_classes_fine_tune_last_10/20221214-091635\n",
      "Epoch 5/10\n"
     ]
    },
    {
     "name": "stderr",
     "output_type": "stream",
     "text": [
      "2022-12-14 09:16:36.383934: I tensorflow/core/grappler/optimizers/custom_graph_optimizer_registry.cc:112] Plugin optimizer for device_type GPU is enabled.\n"
     ]
    },
    {
     "name": "stdout",
     "output_type": "stream",
     "text": [
      "\r",
      "  1/235 [..............................] - ETA: 9:18 - loss: 1.1732 - accuracy: 0.6875"
     ]
    },
    {
     "name": "stderr",
     "output_type": "stream",
     "text": [
      "2022-12-14 09:16:37.660441: I tensorflow/core/profiler/lib/profiler_session.cc:126] Profiler session initializing.\n",
      "2022-12-14 09:16:37.660453: I tensorflow/core/profiler/lib/profiler_session.cc:141] Profiler session started.\n"
     ]
    },
    {
     "name": "stdout",
     "output_type": "stream",
     "text": [
      "\b\b\b\b\b\b\b\b\b\b\b\b\b\b\b\b\b\b\b\b\b\b\b\b\b\b\b\b\b\b\b\b\b\b\b\b\b\b\b\b\b\b\b\b\b\b\b\b\b\b\b\b\b\b\b\b\b\b\b\b\b\b\b\b\b\b\b\b\b\b\b\b\b\b\b\b\b\b\b\b\b\b\b\b\b\b\r",
      "  2/235 [..............................] - ETA: 1:21 - loss: 1.0945 - accuracy: 0.6719"
     ]
    },
    {
     "name": "stderr",
     "output_type": "stream",
     "text": [
      "2022-12-14 09:16:38.081443: I tensorflow/core/profiler/lib/profiler_session.cc:66] Profiler session collecting data.\n",
      "2022-12-14 09:16:38.083341: I tensorflow/core/profiler/lib/profiler_session.cc:159] Profiler session tear down.\n",
      "2022-12-14 09:16:38.085079: I tensorflow/core/profiler/rpc/client/save_profile.cc:137] Creating directory: transfer_learning/full_10_classes_fine_tune_last_10/20221214-091635/train/plugins/profile/2022_12_14_09_16_38\n",
      "2022-12-14 09:16:38.086992: I tensorflow/core/profiler/rpc/client/save_profile.cc:143] Dumped gzipped tool data for trace.json.gz to transfer_learning/full_10_classes_fine_tune_last_10/20221214-091635/train/plugins/profile/2022_12_14_09_16_38/SNIGDHAs-MacBook-Air-2.local.trace.json.gz\n",
      "2022-12-14 09:16:38.087817: I tensorflow/core/profiler/rpc/client/save_profile.cc:137] Creating directory: transfer_learning/full_10_classes_fine_tune_last_10/20221214-091635/train/plugins/profile/2022_12_14_09_16_38\n",
      "2022-12-14 09:16:38.087938: I tensorflow/core/profiler/rpc/client/save_profile.cc:143] Dumped gzipped tool data for memory_profile.json.gz to transfer_learning/full_10_classes_fine_tune_last_10/20221214-091635/train/plugins/profile/2022_12_14_09_16_38/SNIGDHAs-MacBook-Air-2.local.memory_profile.json.gz\n",
      "2022-12-14 09:16:38.088339: I tensorflow/core/profiler/rpc/client/capture_profile.cc:251] Creating directory: transfer_learning/full_10_classes_fine_tune_last_10/20221214-091635/train/plugins/profile/2022_12_14_09_16_38Dumped tool data for xplane.pb to transfer_learning/full_10_classes_fine_tune_last_10/20221214-091635/train/plugins/profile/2022_12_14_09_16_38/SNIGDHAs-MacBook-Air-2.local.xplane.pb\n",
      "Dumped tool data for overview_page.pb to transfer_learning/full_10_classes_fine_tune_last_10/20221214-091635/train/plugins/profile/2022_12_14_09_16_38/SNIGDHAs-MacBook-Air-2.local.overview_page.pb\n",
      "Dumped tool data for input_pipeline.pb to transfer_learning/full_10_classes_fine_tune_last_10/20221214-091635/train/plugins/profile/2022_12_14_09_16_38/SNIGDHAs-MacBook-Air-2.local.input_pipeline.pb\n",
      "Dumped tool data for tensorflow_stats.pb to transfer_learning/full_10_classes_fine_tune_last_10/20221214-091635/train/plugins/profile/2022_12_14_09_16_38/SNIGDHAs-MacBook-Air-2.local.tensorflow_stats.pb\n",
      "Dumped tool data for kernel_stats.pb to transfer_learning/full_10_classes_fine_tune_last_10/20221214-091635/train/plugins/profile/2022_12_14_09_16_38/SNIGDHAs-MacBook-Air-2.local.kernel_stats.pb\n",
      "\n"
     ]
    },
    {
     "name": "stdout",
     "output_type": "stream",
     "text": [
      "235/235 [==============================] - ETA: 0s - loss: 0.6342 - accuracy: 0.8117"
     ]
    },
    {
     "name": "stderr",
     "output_type": "stream",
     "text": [
      "2022-12-14 09:17:41.334696: I tensorflow/core/grappler/optimizers/custom_graph_optimizer_registry.cc:112] Plugin optimizer for device_type GPU is enabled.\n"
     ]
    },
    {
     "name": "stdout",
     "output_type": "stream",
     "text": [
      "235/235 [==============================] - 71s 294ms/step - loss: 0.6342 - accuracy: 0.8117 - val_loss: 0.3183 - val_accuracy: 0.9062\n",
      "Epoch 6/10\n",
      "235/235 [==============================] - 67s 285ms/step - loss: 0.4640 - accuracy: 0.8597 - val_loss: 0.2849 - val_accuracy: 0.9194\n",
      "Epoch 7/10\n",
      "235/235 [==============================] - 67s 286ms/step - loss: 0.3855 - accuracy: 0.8832 - val_loss: 0.2773 - val_accuracy: 0.9095\n",
      "Epoch 8/10\n",
      "235/235 [==============================] - 67s 285ms/step - loss: 0.3424 - accuracy: 0.8984 - val_loss: 0.2430 - val_accuracy: 0.9243\n",
      "Epoch 9/10\n",
      "235/235 [==============================] - 67s 285ms/step - loss: 0.3005 - accuracy: 0.9100 - val_loss: 0.2439 - val_accuracy: 0.9194\n",
      "Epoch 10/10\n",
      "235/235 [==============================] - 67s 285ms/step - loss: 0.2678 - accuracy: 0.9244 - val_loss: 0.2311 - val_accuracy: 0.9227\n"
     ]
    }
   ],
   "source": [
    "# Continue to train and fine-tune the model to our data\n",
    "fine_tune_epochs = initial_epochs + 5\n",
    "\n",
    "history_fine_10_classes_full = model_2.fit(train_data_10_classes_full,\n",
    "                                           epochs=fine_tune_epochs,\n",
    "                                           initial_epoch=history_10_percent_data_aug.epoch[-1],\n",
    "                                           validation_data=test_data,\n",
    "                                           validation_steps=int(0.25 * len(test_data)),\n",
    "                                           callbacks=[create_tensorboard_callback(\"transfer_learning\", \"full_10_classes_fine_tune_last_10\")])"
   ]
  },
  {
   "cell_type": "markdown",
   "id": "d6bbd3a3",
   "metadata": {},
   "source": [
    "🔑 **Note**: Training took longer per epoch, but that makes sense because we're using 10x more training data than before.\n",
    "\n",
    "Let's evaluate on all of the test data."
   ]
  },
  {
   "cell_type": "code",
   "execution_count": 78,
   "id": "aa19e1d3",
   "metadata": {},
   "outputs": [
    {
     "name": "stdout",
     "output_type": "stream",
     "text": [
      "79/79 [==============================] - 20s 254ms/step - loss: 0.2544 - accuracy: 0.9172\n"
     ]
    },
    {
     "data": {
      "text/plain": [
       "[0.25436854362487793, 0.9172000288963318]"
      ]
     },
     "execution_count": 78,
     "metadata": {},
     "output_type": "execute_result"
    }
   ],
   "source": [
    "results_fine_tune_full_data = model_2.evaluate(test_data)\n",
    "results_fine_tune_full_data"
   ]
  },
  {
   "cell_type": "markdown",
   "id": "d3146b8b",
   "metadata": {},
   "source": [
    "Nice! It looks like fine-tuning with all of the data has given our model a boost, how do the training curves look?"
   ]
  },
  {
   "cell_type": "code",
   "execution_count": 79,
   "id": "da055b18",
   "metadata": {},
   "outputs": [
    {
     "name": "stdout",
     "output_type": "stream",
     "text": [
      "5\n",
      "11\n",
      "[0.35866665840148926, 0.7199999690055847, 0.8013333082199097, 0.828000009059906, 0.8586666584014893, 0.8117333650588989, 0.8597333431243896, 0.8831999897956848, 0.8984000086784363, 0.9100000262260437, 0.9244000315666199]\n"
     ]
    },
    {
     "data": {
      "image/png": "[encoded data removed]",
      "text/plain": [
       "<Figure size 800x800 with 2 Axes>"
      ]
     },
     "metadata": {},
     "output_type": "display_data"
    }
   ],
   "source": [
    "# How did fine-tuning go with more data?\n",
    "compare_historys(original_history=history_10_percent_data_aug,\n",
    "                 new_history=history_fine_10_classes_full,\n",
    "                 initial_epochs=5)"
   ]
  },
  {
   "cell_type": "markdown",
   "id": "b128a3ab",
   "metadata": {},
   "source": [
    "Looks like that extra data helped! Those curves are looking great. And if we trained for longer, they might even keep improving."
   ]
  },
  {
   "cell_type": "markdown",
   "id": "adb65626",
   "metadata": {},
   "source": [
    "## Viewing our experiment data on TensorBoard\n",
    "\n",
    "Right now our experimental results are scattered all throughout our notebook. If we want to share them with someone, they'd be getting a bunch of different graphs and metrics... not a fun time.\n",
    "\n",
    "But guess what?\n",
    "\n",
    "Thanks to the TensorBoard callback we made with our helper function `create_tensorflow_callback()`, we've been tracking our modelling experiments the whole time.\n",
    "\n",
    "How about we upload them to `TensorBoard.dev` and check them out?\n",
    "\n",
    "We can do with the tensorboard dev upload command and passing it the directory where our experiments have been logged.\n",
    "\n",
    "🔑 Note: Remember, whatever you upload to `TensorBoard.dev` becomes public. If there are training logs you don't want to share, don't upload them."
   ]
  },
  {
   "cell_type": "code",
   "execution_count": null,
   "id": "86a6af6e",
   "metadata": {},
   "outputs": [],
   "source": [
    "# View tensorboard logs of transfer learning modelling experiments (should be 4 models)\n",
    "# Upload TensorBoard dev records\n",
    "!tensorboard dev upload --logdir ./transfer_learning \\\n",
    "  --name \"Transfer learning experiments\" \\\n",
    "  --description \"A series of different transfer learning experiments with varying amounts of data and fine-tuning\" \\\n",
    "  --one_shot # exits the uploader when upload has finished\n",
    "yes"
   ]
  },
  {
   "cell_type": "markdown",
   "id": "91395678",
   "metadata": {},
   "source": [
    "Once we've uploaded the results to TensorBoard.dev we get a shareable link we can use to view and compare our experiments and share our results with others if needed.\n",
    "\n",
    "You can view the original versions of the experiments we ran in this notebook here: https://tensorboard.dev/experiment/2O76kw3PQbKl0lByfg5B4w/\n",
    "\n",
    "🤔 Question: Which model performed the best? Why do you think this is? How did fine-tuning go?\n",
    "\n",
    "To find all of your previous TensorBoard.dev experiments using the command tensorboard dev list."
   ]
  },
  {
   "cell_type": "code",
   "execution_count": null,
   "id": "64b0db5c",
   "metadata": {},
   "outputs": [],
   "source": [
    "# View previous experiments\n",
    "!tensorboard dev list"
   ]
  },
  {
   "cell_type": "markdown",
   "id": "4c2521c6",
   "metadata": {},
   "source": [
    "And if you want to remove a previous experiment (and delete it from public viewing) you can use the command:\n",
    "\n",
    "tensorboard dev delete --experiment_id [INSERT_EXPERIMENT_ID_TO_DELETE]```"
   ]
  },
  {
   "cell_type": "code",
   "execution_count": null,
   "id": "a8266eec",
   "metadata": {},
   "outputs": [],
   "source": [
    "# Remove previous experiments\n",
    "# !tensorboard dev delete --experiment_id OUbW0O3pRqqQgAphVBxi8Q"
   ]
  },
  {
   "cell_type": "markdown",
   "id": "22fc2232",
   "metadata": {},
   "source": [
    "## 🛠 Exercises\n",
    "\n",
    "1. Write a function to visualize an image from any dataset (train or test file) and any class (e.g. \"steak\", \"pizza\"... etc), visualize it and make a prediction on it using a trained model.\n",
    "2. Use feature-extraction to train a transfer learning model on 10% of the Food Vision data for 10 epochs using `tf.keras.applications.EfficientNetB0` as the base model. Use the ModelCheckpoint callback to save the weights to file.\n",
    "3. Fine-tune the last 20 layers of the base model you trained in 2 for another 10 epochs. How did it go?\n",
    "4. Fine-tune the last 30 layers of the base model you trained in 2 for another 10 epochs. How did it go?\n",
    "\n",
    "## 📖 Extra-curriculum\n",
    "\n",
    "1. Read the [documentation on data augmentation](https://www.tensorflow.org/tutorials/images/data_augmentation) in TensorFlow.\n",
    "2. Read the [ULMFit paper (technical)](https://arxiv.org/abs/1801.06146) for an introduction to the concept of freezing and unfreezing different layers.\n",
    "3. Read up on learning rate scheduling (there's a [TensorFlow callback](https://www.tensorflow.org/api_docs/python/tf/keras/callbacks/LearningRateScheduler) for this), how could this influence our model training?\n",
    "4. If you're training for longer, you probably want to reduce the learning rate as you go... the closer you get to the bottom of the hill, the smaller steps you want to take. Imagine it like finding a coin at the bottom of your couch. In the beginning your arm movements are going to be large and the closer you get, the smaller your movements become."
   ]
  },
  {
   "cell_type": "code",
   "execution_count": null,
   "id": "bc562088",
   "metadata": {},
   "outputs": [],
   "source": []
  }
 ],
 "metadata": {
  "kernelspec": {
   "display_name": "Python 3.9 (tensorflow)",
   "language": "python",
   "name": "tensorflow"
  },
  "language_info": {
   "codemirror_mode": {
    "name": "ipython",
    "version": 3
   },
   "file_extension": ".py",
   "mimetype": "text/x-python",
   "name": "python",
   "nbconvert_exporter": "python",
   "pygments_lexer": "ipython3",
   "version": "3.9.15"
  }
 },
 "nbformat": 4,
 "nbformat_minor": 5
}
