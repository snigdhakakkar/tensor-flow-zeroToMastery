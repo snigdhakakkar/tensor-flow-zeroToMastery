{
 "cells": [
  {
   "cell_type": "markdown",
   "id": "c838dff5",
   "metadata": {},
   "source": [
    "## Convolutional Neural Networks and Computer Vision with Tensorflow\n",
    "\n",
    "So far we've covered the basics of TensorFlow and built a handful of models to work across different problems.\n",
    "\n",
    "Now we're going to get specific and see how a special kind of neural network, convolutional neural networks (CNNs) can be used for computer vision (detecting patterns in visual data).\n",
    "\n",
    "🔑 Note: In deep learning, many different kinds of model architectures can be used for different problems. For example, you could use a convolutional neural network for making predictions on image data and/or text data. However, in practice some architectures typically work better than others.\n",
    "\n",
    "For example, you might want to:\n",
    "\n",
    "Classify whether a picture of food contains pizza 🍕 or steak 🥩 (we're going to do this)\n",
    "Detect whether or not an object appears in an image (e.g. did a specific car pass through a security camera?)\n",
    "In this notebook, we're going to follow the TensorFlow modelling workflow we've been following so far whilst learning about how to build and use CNNs."
   ]
  },
  {
   "cell_type": "markdown",
   "id": "69a767c4",
   "metadata": {},
   "source": [
    "## What we're going to cover\n",
    "\n",
    "Specifically, we're going to go through the follow with TensorFlow:\n",
    "\n",
    "* Getting a dataset to work with\n",
    "* Architecture of a convolutional neural network\n",
    "* A quick end-to-end example (what we're working towards)\n",
    "* Steps in modelling for binary image classification with CNNs\n",
    "    * Becoming one with the data\n",
    "    * Preparing data for modelling\n",
    "    * Creating a CNN model (starting with a baseline)\n",
    "    * Fitting a model (getting it to find patterns in our data)\n",
    "    * Evaluating a model\n",
    "    * Improving a model\n",
    "    * Making a prediction with a trained model\n",
    "* Steps in modelling for multi-class image classification with CNNs\n",
    "* Same as above (but this time with a different dataset)"
   ]
  },
  {
   "cell_type": "markdown",
   "id": "e5df57d6",
   "metadata": {},
   "source": [
    "## Get the data\n",
    "\n",
    "Because convolutional neural networks work so well with images, to learn more about them, we're going to start with a dataset of images.\n",
    "\n",
    "The images we're going to work with are from the [Food-101 dataset](https://data.vision.ee.ethz.ch/cvl/datasets_extra/food-101/), a collection of 101 different categories of 101,000 (1000 images per category) real-world images of food dishes.\n",
    "\n",
    "To begin, we're only going to use two of the categories, pizza 🍕 and steak 🥩 and build a binary classifier.\n",
    "\n",
    "🔑 Note: To prepare the data we're using, [preprocessing steps](https://github.com/mrdbourke/tensorflow-deep-learning/blob/main/extras/image_data_modification.ipynb) such as, moving the images into different subset folders, have been done. To see these preprocessing steps check out the preprocessing notebook.\n",
    "\n",
    "We'll download the ```pizza_steak``` subset .zip file and unzip it.\n",
    "\n",
    "Note for preprocessing steps:\n",
    "\n",
    "To replicate this notebook you'll need the data downloaded from either of the following:\n",
    "\n",
    "https://www.kaggle.com/kmader/food41\n",
    "https://www.kaggle.com/dansbecker/food-101 (this also works)\n",
    "However, the code below works on the first link's file structure.\n",
    "\n",
    "Once you've got the raw zip file, unzip it and put in the current working directory.\n",
    "\n",
    "The following code should run to create the following data splits (based on what you downloaded from above):\n",
    "\n",
    "Binary dataset (split steak/pizza into train & test folders)\n",
    "Binary dataset of 10% of data (split steak/pizza into & test folders)\n",
    "10 class dataset (split 10 classes into train & test folders)\n",
    "10 class dataset of 10% of data (select random 10% of training data, keep test data the same)\n",
    "Create all class dataset (split all classes into train & test folders)\n",
    "Create all class dataset with 10% of data (select random 10% of training data, keep test data the same)"
   ]
  },
  {
   "cell_type": "code",
   "execution_count": 4,
   "id": "5bc65a08",
   "metadata": {},
   "outputs": [
    {
     "name": "stdout",
     "output_type": "stream",
     "text": [
      "--2022-12-11 02:49:17--  https://storage.googleapis.com/ztm_tf_course/food_vision/pizza_steak.zip\n",
      "Resolving storage.googleapis.com (storage.googleapis.com)... 142.251.41.80, 172.217.165.16, 142.251.32.80, ...\n",
      "Connecting to storage.googleapis.com (storage.googleapis.com)|142.251.41.80|:443... connected.\n",
      "HTTP request sent, awaiting response... 200 OK\n",
      "Length: 109540975 (104M) [application/zip]\n",
      "Saving to: ‘pizza_steak.zip’\n",
      "\n",
      "pizza_steak.zip     100%[===================>] 104.47M  19.5MB/s    in 5.3s    \n",
      "\n",
      "2022-12-11 02:49:23 (19.6 MB/s) - ‘pizza_steak.zip’ saved [109540975/109540975]\n",
      "\n"
     ]
    }
   ],
   "source": [
    "import zipfile\n",
    "\n",
    "# Download zip file of pizza_steak images\n",
    "!wget https://storage.googleapis.com/ztm_tf_course/food_vision/pizza_steak.zip \n",
    "\n",
    "# Unzip the downloaded file\n",
    "zip_ref = zipfile.ZipFile(\"pizza_steak.zip\", \"r\")\n",
    "zip_ref.extractall()\n",
    "zip_ref.close()"
   ]
  },
  {
   "cell_type": "markdown",
   "id": "c4dee439",
   "metadata": {},
   "source": [
    "## Inspect the data (become one with it)\n",
    "\n",
    "A very crucial step at the beginning of any machine learning project is becoming one with the data. This usually means plenty of visualizing and folder scanning to understand the data you're working with.\n",
    "\n",
    "Wtih this being said, let's inspect the data we just downloaded.\n",
    "\n",
    "The file structure has been formatted to be in a typical format you might use for working with images.\n",
    "\n",
    "More specifically:\n",
    "\n",
    "* A **train directory** which contains all of the images in the training dataset with subdirectories each named after a certain class containing images of that class.\n",
    "* A **test directory** with the same structure as the train directory.\n",
    "\n",
    "![pizza_steak_Data.png](Images/pizza_steak_Data.png)"
   ]
  },
  {
   "cell_type": "code",
   "execution_count": 5,
   "id": "e062189b",
   "metadata": {},
   "outputs": [
    {
     "name": "stdout",
     "output_type": "stream",
     "text": [
      "\u001b[34mtest\u001b[m\u001b[m  \u001b[34mtrain\u001b[m\u001b[m\r\n"
     ]
    }
   ],
   "source": [
    "!ls pizza_steak"
   ]
  },
  {
   "cell_type": "markdown",
   "id": "a9626bfe",
   "metadata": {},
   "source": [
    "We can see we've got a ```train``` and ```test``` folder.\n",
    "\n",
    "Let's see what's inside one of them."
   ]
  },
  {
   "cell_type": "code",
   "execution_count": 6,
   "id": "05a8a96d",
   "metadata": {},
   "outputs": [
    {
     "name": "stdout",
     "output_type": "stream",
     "text": [
      "\u001b[34mpizza\u001b[m\u001b[m \u001b[34msteak\u001b[m\u001b[m\r\n"
     ]
    }
   ],
   "source": [
    "!ls pizza_steak/train"
   ]
  },
  {
   "cell_type": "code",
   "execution_count": 7,
   "id": "7b61ba9c",
   "metadata": {},
   "outputs": [
    {
     "name": "stdout",
     "output_type": "stream",
     "text": [
      "1000205.jpg 1647351.jpg 2238681.jpg 2824680.jpg 3375959.jpg 417368.jpg\r\n",
      "100135.jpg  1650002.jpg 2238802.jpg 2825100.jpg 3381560.jpg 4176.jpg\r\n",
      "101312.jpg  165639.jpg  2254705.jpg 2826987.jpg 3382936.jpg 42125.jpg\r\n",
      "1021458.jpg 1658186.jpg 225990.jpg  2832499.jpg 3386119.jpg 421476.jpg\r\n",
      "1032846.jpg 1658443.jpg 2260231.jpg 2832960.jpg 3388717.jpg 421561.jpg\r\n",
      "10380.jpg   165964.jpg  2268692.jpg 285045.jpg  3389138.jpg 438871.jpg\r\n",
      "1049459.jpg 167069.jpg  2271133.jpg 285147.jpg  3393547.jpg 43924.jpg\r\n",
      "1053665.jpg 1675632.jpg 227576.jpg  2855315.jpg 3393688.jpg 440188.jpg\r\n",
      "1068516.jpg 1678108.jpg 2283057.jpg 2856066.jpg 3396589.jpg 442757.jpg\r\n",
      "1068975.jpg 168006.jpg  2286639.jpg 2859933.jpg 339891.jpg  443210.jpg\r\n",
      "1081258.jpg 1682496.jpg 2287136.jpg 286219.jpg  3417789.jpg 444064.jpg\r\n",
      "1090122.jpg 1684438.jpg 2291292.jpg 2862562.jpg 3425047.jpg 444709.jpg\r\n",
      "1093966.jpg 168775.jpg  229323.jpg  2865730.jpg 3434983.jpg 447557.jpg\r\n",
      "1098844.jpg 1697339.jpg 2300534.jpg 2878151.jpg 3435358.jpg 461187.jpg\r\n",
      "1100074.jpg 1710569.jpg 2300845.jpg 2880035.jpg 3438319.jpg 461689.jpg\r\n",
      "1105280.jpg 1714605.jpg 231296.jpg  2881783.jpg 3444407.jpg 465494.jpg\r\n",
      "1117936.jpg 1724387.jpg 2315295.jpg 2884233.jpg 345734.jpg  468384.jpg\r\n",
      "1126126.jpg 1724717.jpg 2323132.jpg 2890573.jpg 3460673.jpg 477486.jpg\r\n",
      "114601.jpg  172936.jpg  2324994.jpg 2893832.jpg 3465327.jpg 482022.jpg\r\n",
      "1147047.jpg 1736543.jpg 2327701.jpg 2893892.jpg 3466159.jpg 482465.jpg\r\n",
      "1147883.jpg 1736968.jpg 2331076.jpg 2907177.jpg 3469024.jpg 483788.jpg\r\n",
      "1155665.jpg 1746626.jpg 233964.jpg  290850.jpg  3470083.jpg 493029.jpg\r\n",
      "1163977.jpg 1752330.jpg 2344227.jpg 2909031.jpg 3476564.jpg 503589.jpg\r\n",
      "1190233.jpg 1761285.jpg 234626.jpg  2910418.jpg 3478318.jpg 510757.jpg\r\n",
      "1208405.jpg 176508.jpg  234704.jpg  2912290.jpg 3488748.jpg 513129.jpg\r\n",
      "1209120.jpg 1772039.jpg 2357281.jpg 2916448.jpg 3492328.jpg 513842.jpg\r\n",
      "1212161.jpg 1777107.jpg 2361812.jpg 2916967.jpg 3518960.jpg 523535.jpg\r\n",
      "1213988.jpg 1787505.jpg 2365287.jpg 2927833.jpg 3522209.jpg 525041.jpg\r\n",
      "1219039.jpg 179293.jpg  2374582.jpg 2928643.jpg 3524429.jpg 534560.jpg\r\n",
      "1225762.jpg 1816235.jpg 239025.jpg  2929179.jpg 3528458.jpg 534633.jpg\r\n",
      "1230968.jpg 1822407.jpg 2390628.jpg 2936477.jpg 3531805.jpg 536535.jpg\r\n",
      "1236155.jpg 1823263.jpg 2392910.jpg 2938012.jpg 3536023.jpg 541410.jpg\r\n",
      "1241193.jpg 1826066.jpg 2394465.jpg 2938151.jpg 3538682.jpg 543691.jpg\r\n",
      "1248337.jpg 1828502.jpg 2395127.jpg 2939678.jpg 3540750.jpg 560503.jpg\r\n",
      "1257104.jpg 1828969.jpg 2396291.jpg 2940544.jpg 354329.jpg  561972.jpg\r\n",
      "126345.jpg  1829045.jpg 2400975.jpg 2940621.jpg 3547166.jpg 56240.jpg\r\n",
      "1264050.jpg 1829088.jpg 2403776.jpg 2949079.jpg 3553911.jpg 56409.jpg\r\n",
      "1264154.jpg 1836332.jpg 2403907.jpg 295491.jpg  3556871.jpg 564530.jpg\r\n",
      "1264858.jpg 1839025.jpg 240435.jpg  296268.jpg  355715.jpg  568972.jpg\r\n",
      "127029.jpg  1839481.jpg 2404695.jpg 2964732.jpg 356234.jpg  576725.jpg\r\n",
      "1289900.jpg 183995.jpg  2404884.jpg 2965021.jpg 3571963.jpg 588739.jpg\r\n",
      "1290362.jpg 184110.jpg  2407770.jpg 2966859.jpg 3576078.jpg 590142.jpg\r\n",
      "1295457.jpg 184226.jpg  2412263.jpg 2977966.jpg 3577618.jpg 60633.jpg\r\n",
      "1312841.jpg 1846706.jpg 2425062.jpg 2979061.jpg 3577732.jpg 60655.jpg\r\n",
      "1313316.jpg 1849364.jpg 2425389.jpg 2983260.jpg 3578934.jpg 606820.jpg\r\n",
      "1324791.jpg 1849463.jpg 2435316.jpg 2984311.jpg 358042.jpg  612551.jpg\r\n",
      "1327567.jpg 1849542.jpg 2437268.jpg 2988960.jpg 358045.jpg  614975.jpg\r\n",
      "1327667.jpg 1853564.jpg 2437843.jpg 2989882.jpg 3591821.jpg 616809.jpg\r\n",
      "1333055.jpg 1869467.jpg 2440131.jpg 2995169.jpg 359330.jpg  628628.jpg\r\n",
      "1334054.jpg 1870942.jpg 2443168.jpg 2996324.jpg 3601483.jpg 632427.jpg\r\n",
      "1335556.jpg 187303.jpg  2446660.jpg 3000131.jpg 3606642.jpg 636594.jpg\r\n",
      "1337814.jpg 187521.jpg  2455944.jpg 3002350.jpg 3609394.jpg 637374.jpg\r\n",
      "1340977.jpg 1888450.jpg 2458401.jpg 3007772.jpg 361067.jpg  640539.jpg\r\n",
      "1343209.jpg 1889336.jpg 2487306.jpg 3008192.jpg 3613455.jpg 644777.jpg\r\n",
      "134369.jpg  1907039.jpg 248841.jpg  3009617.jpg 3621464.jpg 644867.jpg\r\n",
      "1344105.jpg 1925230.jpg 2489716.jpg 3011642.jpg 3621562.jpg 658189.jpg\r\n",
      "134598.jpg  1927984.jpg 2490489.jpg 3020591.jpg 3621565.jpg 660900.jpg\r\n",
      "1346387.jpg 1930577.jpg 2495884.jpg 3030578.jpg 3623556.jpg 663014.jpg\r\n",
      "1348047.jpg 1937872.jpg 2495903.jpg 3047807.jpg 3640915.jpg 664545.jpg\r\n",
      "1351372.jpg 1941807.jpg 2499364.jpg 3059843.jpg 3643951.jpg 667075.jpg\r\n",
      "1362989.jpg 1942333.jpg 2500292.jpg 3074367.jpg 3653129.jpg 669180.jpg\r\n",
      "1367035.jpg 1945132.jpg 2509017.jpg 3082120.jpg 3656752.jpg 669960.jpg\r\n",
      "1371177.jpg 1961025.jpg 250978.jpg  3094354.jpg 3663518.jpg 6709.jpg\r\n",
      "1375640.jpg 1966300.jpg 2514432.jpg 3095301.jpg 3663800.jpg 674001.jpg\r\n",
      "1382427.jpg 1966967.jpg 2526838.jpg 3099645.jpg 3664376.jpg 676189.jpg\r\n",
      "1392718.jpg 1969596.jpg 252858.jpg  3100476.jpg 3670607.jpg 681609.jpg\r\n",
      "1395906.jpg 1971757.jpg 2532239.jpg 3110387.jpg 3671021.jpg 6926.jpg\r\n",
      "1400760.jpg 1976160.jpg 2534567.jpg 3113772.jpg 3671877.jpg 703556.jpg\r\n",
      "1403005.jpg 1984271.jpg 2535431.jpg 3116018.jpg 368073.jpg  703909.jpg\r\n",
      "1404770.jpg 1987213.jpg 2535456.jpg 3128952.jpg 368162.jpg  704316.jpg\r\n",
      "140832.jpg  1987639.jpg 2538000.jpg 3130412.jpg 368170.jpg  714298.jpg\r\n",
      "141056.jpg  1995118.jpg 2543081.jpg 3136.jpg    3693649.jpg 720060.jpg\r\n",
      "141135.jpg  1995252.jpg 2544643.jpg 313851.jpg  3700079.jpg 726083.jpg\r\n",
      "1413972.jpg 199754.jpg  2547797.jpg 3140083.jpg 3704103.jpg 728020.jpg\r\n",
      "1421393.jpg 2002400.jpg 2548974.jpg 3140147.jpg 3707493.jpg 732986.jpg\r\n",
      "1428947.jpg 2011264.jpg 2549316.jpg 3142045.jpg 3716881.jpg 734445.jpg\r\n",
      "1433912.jpg 2012996.jpg 2561199.jpg 3142618.jpg 3724677.jpg 735441.jpg\r\n",
      "143490.jpg  2013535.jpg 2563233.jpg 3142674.jpg 3727036.jpg 740090.jpg\r\n",
      "1445352.jpg 2017387.jpg 256592.jpg  3143192.jpg 3727491.jpg 745189.jpg\r\n",
      "1446401.jpg 2018173.jpg 2568848.jpg 314359.jpg  3736065.jpg 752203.jpg\r\n",
      "1453991.jpg 2020613.jpg 2573392.jpg 3157832.jpg 37384.jpg   75537.jpg\r\n",
      "1456841.jpg 2032669.jpg 2592401.jpg 3159818.jpg 3743286.jpg 756655.jpg\r\n",
      "146833.jpg  203450.jpg  2599817.jpg 3162376.jpg 3745515.jpg 762210.jpg\r\n",
      "1476404.jpg 2034628.jpg 2603058.jpg 3168620.jpg 3750472.jpg 763690.jpg\r\n",
      "1485083.jpg 2036920.jpg 2606444.jpg 3171085.jpg 3752362.jpg 767442.jpg\r\n",
      "1487113.jpg 2038418.jpg 2614189.jpg 317206.jpg  3766099.jpg 786409.jpg\r\n",
      "148916.jpg  2042975.jpg 2614649.jpg 3173444.jpg 3770370.jpg 80215.jpg\r\n",
      "149087.jpg  2045647.jpg 2615718.jpg 3180182.jpg 377190.jpg  802348.jpg\r\n",
      "1493169.jpg 2050584.jpg 2619625.jpg 31881.jpg   3777020.jpg 804684.jpg\r\n",
      "149682.jpg  2052542.jpg 2622140.jpg 3191589.jpg 3777482.jpg 812163.jpg\r\n",
      "1508094.jpg 2056627.jpg 262321.jpg  3204977.jpg 3781152.jpg 813486.jpg\r\n",
      "1512226.jpg 2062248.jpg 2625330.jpg 320658.jpg  3787809.jpg 819027.jpg\r\n",
      "1512347.jpg 2081995.jpg 2628106.jpg 3209173.jpg 3788729.jpg 822550.jpg\r\n",
      "1524526.jpg 2087958.jpg 2629750.jpg 3223400.jpg 3790962.jpg 823766.jpg\r\n",
      "1530833.jpg 2088030.jpg 2643906.jpg 3223601.jpg 3792514.jpg 827764.jpg\r\n",
      "1539499.jpg 2088195.jpg 2644457.jpg 3241894.jpg 379737.jpg  830007.jpg\r\n",
      "1541672.jpg 2090493.jpg 2648423.jpg 3245533.jpg 3807440.jpg 838344.jpg\r\n",
      "1548239.jpg 2090504.jpg 2651300.jpg 3245622.jpg 381162.jpg  853327.jpg\r\n",
      "1550997.jpg 2125877.jpg 2653594.jpg 3247009.jpg 3812039.jpg 854150.jpg\r\n",
      "1552530.jpg 2129685.jpg 2661577.jpg 3253588.jpg 3829392.jpg 864997.jpg\r\n",
      "15580.jpg   2133717.jpg 2668916.jpg 3260624.jpg 3830872.jpg 885571.jpg\r\n",
      "1559052.jpg 2136662.jpg 268444.jpg  326587.jpg  38442.jpg   907107.jpg\r\n",
      "1563266.jpg 213765.jpg  2691461.jpg 32693.jpg   3855584.jpg 908261.jpg\r\n",
      "1567554.jpg 2138335.jpg 2706403.jpg 3271253.jpg 3857508.jpg 910672.jpg\r\n",
      "1575322.jpg 2140776.jpg 270687.jpg  3274423.jpg 386335.jpg  911803.jpg\r\n",
      "1588879.jpg 214320.jpg  2707522.jpg 3280453.jpg 3867460.jpg 91432.jpg\r\n",
      "1594719.jpg 2146963.jpg 2711806.jpg 3298495.jpg 3868959.jpg 914570.jpg\r\n",
      "1595869.jpg 215222.jpg  2716993.jpg 330182.jpg  3869679.jpg 922752.jpg\r\n",
      "1598345.jpg 2154126.jpg 2724554.jpg 3306627.jpg 388776.jpg  923772.jpg\r\n",
      "1598885.jpg 2154779.jpg 2738227.jpg 3315727.jpg 3890465.jpg 926414.jpg\r\n",
      "1600179.jpg 2159975.jpg 2748917.jpg 331860.jpg  3894222.jpg 931356.jpg\r\n",
      "1600794.jpg 2163079.jpg 2760475.jpg 332232.jpg  3895825.jpg 937133.jpg\r\n",
      "160552.jpg  217250.jpg  2761427.jpg 3322909.jpg 389739.jpg  945791.jpg\r\n",
      "1606596.jpg 2172600.jpg 2765887.jpg 332557.jpg  3916407.jpg 947877.jpg\r",
      "\r\n",
      "1615395.jpg 2173084.jpg 2768451.jpg 3326734.jpg 393349.jpg  952407.jpg\r\n",
      "1618011.jpg 217996.jpg  2771149.jpg 3330642.jpg 393494.jpg  952437.jpg\r\n",
      "1619357.jpg 2193684.jpg 2779040.jpg 3333128.jpg 398288.jpg  955466.jpg\r\n",
      "1621763.jpg 220341.jpg  2788312.jpg 3333735.jpg 40094.jpg   9555.jpg\r\n",
      "1623325.jpg 22080.jpg   2788759.jpg 3334973.jpg 401094.jpg  961341.jpg\r\n",
      "1624450.jpg 2216146.jpg 2796102.jpg 3335013.jpg 401144.jpg  97656.jpg\r\n",
      "1624747.jpg 2222018.jpg 280284.jpg  3335267.jpg 401651.jpg  979110.jpg\r\n",
      "1628861.jpg 2223787.jpg 2807888.jpg 3346787.jpg 405173.jpg  980247.jpg\r\n",
      "1632774.jpg 2230959.jpg 2815172.jpg 3364420.jpg 405794.jpg  982988.jpg\r\n",
      "1636831.jpg 2232310.jpg 2818805.jpg 336637.jpg  40762.jpg   987732.jpg\r\n",
      "1645470.jpg 2233395.jpg 2823872.jpg 3372616.jpg 413325.jpg  996684.jpg\r\n"
     ]
    }
   ],
   "source": [
    "!ls pizza_steak/train/steak/"
   ]
  },
  {
   "cell_type": "code",
   "execution_count": 8,
   "id": "42e24a59",
   "metadata": {},
   "outputs": [
    {
     "name": "stdout",
     "output_type": "stream",
     "text": [
      "There are 2 directories and 0 images in 'pizza_steak'.\n",
      "There are 2 directories and 0 images in 'pizza_steak/test'.\n",
      "There are 0 directories and 250 images in 'pizza_steak/test/steak'.\n",
      "There are 0 directories and 250 images in 'pizza_steak/test/pizza'.\n",
      "There are 2 directories and 0 images in 'pizza_steak/train'.\n",
      "There are 0 directories and 750 images in 'pizza_steak/train/steak'.\n",
      "There are 0 directories and 750 images in 'pizza_steak/train/pizza'.\n"
     ]
    }
   ],
   "source": [
    "import os\n",
    "\n",
    "# Walk through pizza_steak directory and list number of files\n",
    "for dirpath, dirnames, filenames in os.walk(\"pizza_steak\"):\n",
    "    print(f\"There are {len(dirnames)} directories and {len(filenames)} images in '{dirpath}'.\")"
   ]
  },
  {
   "cell_type": "code",
   "execution_count": 9,
   "id": "0130cc21",
   "metadata": {},
   "outputs": [
    {
     "data": {
      "text/plain": [
       "750"
      ]
     },
     "execution_count": 9,
     "metadata": {},
     "output_type": "execute_result"
    }
   ],
   "source": [
    "# Another way to find out how many images are in a file\n",
    "num_steak_images_train = len(os.listdir(\"pizza_steak/train/steak\"))\n",
    "\n",
    "num_steak_images_train"
   ]
  },
  {
   "cell_type": "code",
   "execution_count": 10,
   "id": "91c55b05",
   "metadata": {},
   "outputs": [
    {
     "name": "stdout",
     "output_type": "stream",
     "text": [
      "['pizza' 'steak']\n"
     ]
    }
   ],
   "source": [
    "# Get the class names (programmatically, this is much more helpful with a longer list of classes)\n",
    "import pathlib\n",
    "import numpy as np\n",
    "\n",
    "data_dir = pathlib.Path(\"pizza_steak/train/\") # turn our training path into a Python path\n",
    "class_names = np.array(sorted([item.name for item in data_dir.glob('*')])) # created a list of class_names from the subdirectories\n",
    "print(class_names)"
   ]
  },
  {
   "cell_type": "markdown",
   "id": "ef2c8480",
   "metadata": {},
   "source": [
    "Okay, so we've got a collection of 750 training images and 250 testing images of pizza and steak.\n",
    "\n",
    "Let's look at some.\n",
    "\n",
    "🤔 Note: Whenever you're working with data, it's always good to visualize it as much as possible. Treat your first couple of steps of a project as becoming one with the data. Visualize, visualize, visualize."
   ]
  },
  {
   "cell_type": "code",
   "execution_count": null,
   "id": "657e419b",
   "metadata": {},
   "outputs": [],
   "source": []
  }
 ],
 "metadata": {
  "kernelspec": {
   "display_name": "Python 3.9 (tensorflow)",
   "language": "python",
   "name": "tensorflow"
  },
  "language_info": {
   "codemirror_mode": {
    "name": "ipython",
    "version": 3
   },
   "file_extension": ".py",
   "mimetype": "text/x-python",
   "name": "python",
   "nbconvert_exporter": "python",
   "pygments_lexer": "ipython3",
   "version": "3.9.15"
  }
 },
 "nbformat": 4,
 "nbformat_minor": 5
}
